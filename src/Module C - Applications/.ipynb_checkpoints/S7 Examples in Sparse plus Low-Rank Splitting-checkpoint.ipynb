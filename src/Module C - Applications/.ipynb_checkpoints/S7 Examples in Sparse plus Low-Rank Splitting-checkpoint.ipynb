{
 "cells": [
  {
   "cell_type": "markdown",
   "metadata": {},
   "source": [
    "# Solutions 7 - Examples in Sparse + Low-Rank Splitting"
   ]
  },
  {
   "cell_type": "markdown",
   "metadata": {},
   "source": [
    "## Assignment 1\n",
    "\n",
    "We need functions from the notebook \n",
    "[L13 Sparse + Low-Rank Splitting](L13+Sparse+++Low-Rank+Splitting.ipynb)."
   ]
  },
  {
   "cell_type": "code",
   "execution_count": 1,
   "metadata": {},
   "outputs": [
    {
     "data": {
      "text/plain": [
       "D (generic function with 1 method)"
      ]
     },
     "execution_count": 1,
     "metadata": {},
     "output_type": "execute_result"
    }
   ],
   "source": [
    "using LinearAlgebra\n",
    "# Shrinkage\n",
    "function Shr(x::Array{T},τ::T) where T\n",
    "    sign.(x).*max.(abs.(x).-τ,zero(T))\n",
    "end\n",
    "\n",
    "# Singular value thresholding\n",
    "function D(A::Array{T},τ::T) where T\n",
    "    # U,σ,V=svd(A)\n",
    "    # This can be replaced by a faster approach\n",
    "    U=qr(A)\n",
    "    # u,σ,V\n",
    "    V=svd(U.R)\n",
    "    S=Shr(V.S,τ)\n",
    "    # k=sum(S.>zero(T))\n",
    "    k=count(!iszero,S)\n",
    "    return U.Q*(V.U[:,1:k]*Diagonal(S[1:k]))*V.Vt[1:k,:]\n",
    "end"
   ]
  },
  {
   "cell_type": "code",
   "execution_count": 2,
   "metadata": {},
   "outputs": [
    {
     "data": {
      "text/plain": [
       "PCPAD (generic function with 1 method)"
      ]
     },
     "execution_count": 2,
     "metadata": {},
     "output_type": "execute_result"
    }
   ],
   "source": [
    "function PCPAD(A::Array{T}) where T\n",
    "    # Initialize\n",
    "    δ=1.0e-7\n",
    "    tol=δ*norm(A)\n",
    "    m,n=size(A)\n",
    "    S=zero(A)\n",
    "    Y=zero(A)\n",
    "    L=zero(A)\n",
    "    T₁=zero(A)\n",
    "    μ=(m*n)/(4*(norm(A[:],1)))\n",
    "    μ₁=one(T)/μ\n",
    "    λ=one(T)/sqrt(max(map(T,m),n))\n",
    "    λμ₁=λ*μ₁\n",
    "    ν=1e20\n",
    "    maxiter=1000\n",
    "    iterations=0\n",
    "    # Iterate\n",
    "    while (ν>tol) && iterations<maxiter\n",
    "        # println(iterations,\" \",ν)\n",
    "        iterations+=1\n",
    "        L.=D(A-S+μ₁.*Y,μ₁)\n",
    "        S.=Shr(A-L+μ₁.*Y,λμ₁)\n",
    "        T₁.=(A-L-S)\n",
    "        Y.+=(μ.*T₁)\n",
    "        ν=norm(T₁)\n",
    "    end\n",
    "    L,S, iterations\n",
    "end"
   ]
  },
  {
   "cell_type": "code",
   "execution_count": 3,
   "metadata": {},
   "outputs": [
    {
     "data": {
      "text/plain": [
       "([0.694818 0.320423 0.649836; 0.990493 0.641294 0.620923; 0.764367 0.728252 0.092862], [0.0195068 -0.0 0.0; 0.0 0.0 0.152689; 0.192513 0.0155036 -0.0], 69)"
      ]
     },
     "execution_count": 3,
     "metadata": {},
     "output_type": "execute_result"
    }
   ],
   "source": [
    "# For compilation\n",
    "A0=rand(3,3)\n",
    "L,S,iter=PCPAD(A0)"
   ]
  },
  {
   "cell_type": "code",
   "execution_count": 4,
   "metadata": {},
   "outputs": [
    {
     "data": {
      "text/plain": [
       "(2, [0.0 -2.75176e-8 7.85209e-8; -1.30956e-7 1.22171e-7 1.11022e-16; 1.11022e-16 -1.11022e-16 7.31538e-8])"
      ]
     },
     "execution_count": 4,
     "metadata": {},
     "output_type": "execute_result"
    }
   ],
   "source": [
    "rank(L), L+S-A0"
   ]
  },
  {
   "cell_type": "code",
   "execution_count": 8,
   "metadata": {
    "scrolled": true
   },
   "outputs": [],
   "source": [
    "using Images\n",
    "# using Colors\n",
    "using ImageView"
   ]
  },
  {
   "cell_type": "code",
   "execution_count": null,
   "metadata": {},
   "outputs": [],
   "source": [
    "# using WinRPM\n",
    "# WinRPM.update()"
   ]
  },
  {
   "cell_type": "code",
   "execution_count": 11,
   "metadata": {},
   "outputs": [
    {
     "ename": "MethodError",
     "evalue": "MethodError: no method matching getindex(::IOStream, ::Colon, ::Colon, ::Int64)\nClosest candidates are:\n  getindex(::IO, ::Any) at show.jl:285",
     "output_type": "error",
     "traceback": [
      "MethodError: no method matching getindex(::IOStream, ::Colon, ::Colon, ::Int64)\nClosest candidates are:\n  getindex(::IO, ::Any) at show.jl:285",
      "",
      "Stacktrace:",
      " [1] top-level scope at In[11]:1"
     ]
    }
   ],
   "source": [
    "# For example, frame number 1400\n",
    "f[:,:,1400]"
   ]
  },
  {
   "cell_type": "code",
   "execution_count": 13,
   "metadata": {},
   "outputs": [
    {
     "data": {
      "text/plain": [
       "IOStream(<file files/visor.avi>)"
      ]
     },
     "metadata": {},
     "output_type": "display_data"
    }
   ],
   "source": [
    "display(f)"
   ]
  },
  {
   "cell_type": "code",
   "execution_count": 12,
   "metadata": {},
   "outputs": [
    {
     "ename": "UndefVarError",
     "evalue": "UndefVarError: imshow not defined",
     "output_type": "error",
     "traceback": [
      "UndefVarError: imshow not defined",
      "",
      "Stacktrace:",
      " [1] top-level scope at In[12]:1"
     ]
    }
   ],
   "source": [
    "imshow(f)"
   ]
  },
  {
   "cell_type": "code",
   "execution_count": 9,
   "metadata": {},
   "outputs": [
    {
     "data": {
      "text/plain": [
       "Dict{String,Any} with 4 entries:\n",
       "  \"gui\"         => Dict{String,Any}(Pair{String,Any}(\"window\", Gtk.GtkWindowLea…\n",
       "  \"roi\"         => Dict{String,Any}(Pair{String,Any}(\"redraw\", 100: \"map(f-mapp…\n",
       "  \"annotations\" => 53: \"input-22\" = Dict{UInt64,Any}() Dict{UInt64,Any} \n",
       "  \"clim\"        => nothing"
      ]
     },
     "execution_count": 9,
     "metadata": {},
     "output_type": "execute_result"
    }
   ],
   "source": [
    "# Make shorter video clip\n",
    "fs=f[:,:,1401:1420]\n",
    "imshow(fs)"
   ]
  },
  {
   "cell_type": "code",
   "execution_count": 10,
   "metadata": {},
   "outputs": [
    {
     "data": {
      "text/plain": [
       "Dict{String,Any} with 4 entries:\n",
       "  \"gui\"         => Dict{String,Any}(Pair{String,Any}(\"window\", Gtk.GtkWindowLea…\n",
       "  \"roi\"         => Dict{String,Any}(Pair{String,Any}(\"redraw\", 155: \"map(clim-m…\n",
       "  \"annotations\" => 104: \"input-41\" = Dict{UInt64,Any}() Dict{UInt64,Any} \n",
       "  \"clim\"        => 103: \"CLim\" = ImageView.CLim{FixedPointNumbers.Normed{UInt8,…"
      ]
     },
     "execution_count": 10,
     "metadata": {},
     "output_type": "execute_result"
    }
   ],
   "source": [
    "# Map the video to Gray\n",
    "fsg=map(Gray,fs)\n",
    "imshow(fsg)"
   ]
  },
  {
   "cell_type": "code",
   "execution_count": 11,
   "metadata": {},
   "outputs": [],
   "source": [
    "# Turn frames into tall matrix\n",
    "mi,ni=size(fsg[:,:,1])\n",
    "m=mi*ni\n",
    "n=20\n",
    "A=Array{Float64}(m,n)\n",
    "for i=1:n\n",
    "    A[:,i]=vec(float(fsg[:,:,i]))\n",
    "end"
   ]
  },
  {
   "cell_type": "code",
   "execution_count": 12,
   "metadata": {},
   "outputs": [
    {
     "data": {
      "text/plain": [
       "(76800, 20)"
      ]
     },
     "execution_count": 12,
     "metadata": {},
     "output_type": "execute_result"
    }
   ],
   "source": [
    "size(A)"
   ]
  },
  {
   "cell_type": "code",
   "execution_count": 13,
   "metadata": {},
   "outputs": [
    {
     "name": "stdout",
     "output_type": "stream",
     "text": [
      "  0.289671 seconds (76.56 k allocations: 27.474 MiB, 5.13% gc time)\n",
      "  0.014497 seconds (41 allocations: 11.772 MiB)\n"
     ]
    }
   ],
   "source": [
    "# For orientation\n",
    "@time Q,R=qr(A);\n",
    "@time D(A,0.5);"
   ]
  },
  {
   "cell_type": "code",
   "execution_count": 23,
   "metadata": {},
   "outputs": [
    {
     "name": "stdout",
     "output_type": "stream",
     "text": [
      "382.946764 seconds (63.02 k allocations: 160.304 GiB, 71.24% gc time)\n"
     ]
    },
    {
     "data": {
      "text/plain": [
       "([0.180392 0.180392 … 0.168627 0.168627; 0.180392 0.180392 … 0.168627 0.168627; … ; 0.709804 0.709804 … 0.709804 0.709804; 0.698039 0.698039 … 0.709804 0.709804], [0.0 0.0 … 0.0 -0.0; 0.0 0.0 … 0.0 -0.0; … ; 0.0 0.0 … 0.0 0.0; 0.0 0.0 … 0.0 0.0], 1000)"
      ]
     },
     "execution_count": 23,
     "metadata": {},
     "output_type": "execute_result"
    }
   ],
   "source": [
    "# Compute the splitting - 20 minutes\n",
    "@time L,S,iters=PCPAD(A)"
   ]
  },
  {
   "cell_type": "code",
   "execution_count": 16,
   "metadata": {},
   "outputs": [
    {
     "data": {
      "text/plain": [
       "2-element Array{Symbol,1}:\n",
       " :L\n",
       " :S"
      ]
     },
     "execution_count": 16,
     "metadata": {},
     "output_type": "execute_result"
    }
   ],
   "source": [
    "@load \"files/visor_results.jld\""
   ]
  },
  {
   "cell_type": "code",
   "execution_count": 17,
   "metadata": {},
   "outputs": [
    {
     "data": {
      "text/plain": [
       "(6, 0.00012011469870750945)"
      ]
     },
     "execution_count": 17,
     "metadata": {},
     "output_type": "execute_result"
    }
   ],
   "source": [
    "# Reconstruct the low-rank video component\n",
    "rank(L), vecnorm(A-L-S)"
   ]
  },
  {
   "cell_type": "code",
   "execution_count": 18,
   "metadata": {},
   "outputs": [
    {
     "data": {
      "text/plain": [
       "20-element Array{Float64,1}:\n",
       " 618.458      \n",
       "   8.85229    \n",
       "   7.52376    \n",
       "   3.64446    \n",
       "   0.798787   \n",
       "   0.000110906\n",
       "   8.04132e-14\n",
       "   2.53296e-14\n",
       "   2.49619e-14\n",
       "   2.2515e-14 \n",
       "   2.1546e-14 \n",
       "   1.91578e-14\n",
       "   1.74157e-14\n",
       "   1.57497e-14\n",
       "   1.57418e-14\n",
       "   1.54083e-14\n",
       "   1.19517e-14\n",
       "   1.14212e-14\n",
       "   9.84046e-15\n",
       "   9.68631e-15"
      ]
     },
     "execution_count": 18,
     "metadata": {},
     "output_type": "execute_result"
    }
   ],
   "source": [
    "svdvals(L)[1:20]"
   ]
  },
  {
   "cell_type": "code",
   "execution_count": 19,
   "metadata": {},
   "outputs": [
    {
     "data": {
      "text/plain": [
       "Dict{String,Any} with 4 entries:\n",
       "  \"gui\"         => Dict{String,Any}(Pair{String,Any}(\"window\", Gtk.GtkWindowLea…\n",
       "  \"roi\"         => Dict{String,Any}(Pair{String,Any}(\"redraw\", 192: \"map(clim-m…\n",
       "  \"annotations\" => 158: \"input-59\" = Dict{UInt64,Any}() Dict{UInt64,Any} \n",
       "  \"clim\"        => 157: \"CLim\" = ImageView.CLim{Float64}(-4.554430031465399e-8,…"
      ]
     },
     "execution_count": 19,
     "metadata": {},
     "output_type": "execute_result"
    }
   ],
   "source": [
    "# How to restore the video?\n",
    "v=L[:,1]\n",
    "v1=reshape(v,mi,ni)\n",
    "imshow(v1)"
   ]
  },
  {
   "cell_type": "code",
   "execution_count": 20,
   "metadata": {},
   "outputs": [],
   "source": [
    "Lf=similar(fsg)\n",
    "Sf=similar(fsg)\n",
    "for i=1:n\n",
    "    Lf[:,:,i]=reshape(L[:,i],mi,ni)\n",
    "    Sf[:,:,i]=clamp01.(reshape(S[:,i],mi,ni)+0.3)\n",
    "end"
   ]
  },
  {
   "cell_type": "code",
   "execution_count": 21,
   "metadata": {},
   "outputs": [
    {
     "data": {
      "text/plain": [
       "Dict{String,Any} with 4 entries:\n",
       "  \"gui\"         => Dict{String,Any}(Pair{String,Any}(\"window\", Gtk.GtkWindowLea…\n",
       "  \"roi\"         => Dict{String,Any}(Pair{String,Any}(\"redraw\", 247: \"map(clim-m…\n",
       "  \"annotations\" => 196: \"input-72\" = Dict{UInt64,Any}() Dict{UInt64,Any} \n",
       "  \"clim\"        => 195: \"CLim\" = ImageView.CLim{FixedPointNumbers.Normed{UInt8,…"
      ]
     },
     "execution_count": 21,
     "metadata": {},
     "output_type": "execute_result"
    }
   ],
   "source": [
    "# Play the low-rank part\n",
    "imshow(Lf)"
   ]
  },
  {
   "cell_type": "code",
   "execution_count": 22,
   "metadata": {},
   "outputs": [
    {
     "data": {
      "text/plain": [
       "Dict{String,Any} with 4 entries:\n",
       "  \"gui\"         => Dict{String,Any}(Pair{String,Any}(\"window\", Gtk.GtkWindowLea…\n",
       "  \"roi\"         => Dict{String,Any}(Pair{String,Any}(\"redraw\", 302: \"map(clim-m…\n",
       "  \"annotations\" => 251: \"input-91\" = Dict{UInt64,Any}() Dict{UInt64,Any} \n",
       "  \"clim\"        => 250: \"CLim\" = ImageView.CLim{FixedPointNumbers.Normed{UInt8,…"
      ]
     },
     "execution_count": 22,
     "metadata": {},
     "output_type": "execute_result"
    }
   ],
   "source": [
    "# Play the sparse part\n",
    "imshow(Sf)"
   ]
  },
  {
   "cell_type": "markdown",
   "metadata": {
    "collapsed": true
   },
   "source": [
    "How to improve the visibility of the sparse component?"
   ]
  },
  {
   "cell_type": "code",
   "execution_count": 15,
   "metadata": {},
   "outputs": [],
   "source": [
    "using JLD"
   ]
  },
  {
   "cell_type": "code",
   "execution_count": 55,
   "metadata": {
    "collapsed": true
   },
   "outputs": [],
   "source": [
    "@save \"files/visor_results.jld\" L S"
   ]
  },
  {
   "cell_type": "code",
   "execution_count": null,
   "metadata": {
    "collapsed": true
   },
   "outputs": [],
   "source": []
  }
 ],
 "metadata": {
  "kernelspec": {
   "display_name": "Julia 1.1.0",
   "language": "julia",
   "name": "julia-1.1"
  },
  "language_info": {
   "file_extension": ".jl",
   "mimetype": "application/julia",
   "name": "julia",
   "version": "1.1.0"
  }
 },
 "nbformat": 4,
 "nbformat_minor": 1
}
