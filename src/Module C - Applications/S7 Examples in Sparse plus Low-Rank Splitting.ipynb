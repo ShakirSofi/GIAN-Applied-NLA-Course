{
 "cells": [
  {
   "cell_type": "markdown",
   "metadata": {},
   "source": [
    "# Solutions 7 - Examples in Sparse + Low-Rank Splitting"
   ]
  },
  {
   "cell_type": "markdown",
   "metadata": {},
   "source": [
    "## Assignment 1\n",
    "\n",
    "We need functions from the notebook \n",
    "[L3 Sparse + Low-Rank Splitting](L3 Sparse + Low-Rank Splitting.ipynb)."
   ]
  },
  {
   "cell_type": "code",
   "execution_count": 1,
   "metadata": {},
   "outputs": [
    {
     "data": {
      "text/plain": [
       "D (generic function with 1 method)"
      ]
     },
     "execution_count": 1,
     "metadata": {},
     "output_type": "execute_result"
    }
   ],
   "source": [
    "# Shrinkage\n",
    "function Shr{T}(x::Array{T},τ::T)\n",
    "    sign.(x).*max.(abs.(x)-τ,zero(T))\n",
    "end\n",
    "\n",
    "# Singular value thresholding\n",
    "function D{T}(A::Array{T}, τ::T)\n",
    "    # U,σ,V=svd(A)\n",
    "    # This can be replaced by even faster approach using Gram matrix\n",
    "    G=A'*A\n",
    "    u,σ,V=svd(G)\n",
    "    σ=sqrt.(σ)\n",
    "    S=Shr(σ,τ)\n",
    "    k=sum(S.>zero(T))\n",
    "    # U[:,1:k]*diagm(S[1:k])*V[:,1:k]'\n",
    "    H=V[:,1:k]*diagm(S[1:k]./σ[1:k])*V[:,1:k]'\n",
    "    A*H\n",
    "end"
   ]
  },
  {
   "cell_type": "code",
   "execution_count": 2,
   "metadata": {},
   "outputs": [
    {
     "data": {
      "text/plain": [
       "PCPAD (generic function with 1 method)"
      ]
     },
     "execution_count": 2,
     "metadata": {},
     "output_type": "execute_result"
    }
   ],
   "source": [
    "function PCPAD{T}(A::Array{T})\n",
    "    # Initialize\n",
    "    δ=1.0e-7\n",
    "    tol=δ*vecnorm(A)\n",
    "    m,n=size(A)\n",
    "    S=zeros(A)\n",
    "    Y=zeros(A)\n",
    "    L=zeros(A)\n",
    "    μ=(m*n)/(4*(norm(A[:],1)))\n",
    "    μ₁=one(T)/μ\n",
    "    λ=one(T)/sqrt(max(map(T,m),n))\n",
    "    λμ₁=λ*μ₁\n",
    "    ν=1e20\n",
    "    maxiter=1000\n",
    "    iterations=0\n",
    "    # Iterate\n",
    "    while (ν>tol) && iterations<maxiter\n",
    "        iterations+=1\n",
    "        L=D(A-S+μ₁*Y,μ₁)\n",
    "        S=Shr(A-L+μ₁*Y,λμ₁)\n",
    "        T₁=A-L-S\n",
    "        Y+=μ*T₁\n",
    "        ν=vecnorm(T₁)\n",
    "    end\n",
    "    L,S, iterations\n",
    "end"
   ]
  },
  {
   "cell_type": "code",
   "execution_count": 3,
   "metadata": {},
   "outputs": [
    {
     "data": {
      "text/plain": [
       "([0.34638 0.402171 0.436329; 0.329586 0.373296 0.405807; 0.171587 0.293133 0.309962], [0.0406869 0.0240191 0.0; 0.309851 -0.0 0.417309; -0.0 0.0486011 0.634882], 71)"
      ]
     },
     "execution_count": 3,
     "metadata": {},
     "output_type": "execute_result"
    }
   ],
   "source": [
    "# For compilation\n",
    "A0=rand(3,3)\n",
    "L,S,iter=PCPAD(A0)"
   ]
  },
  {
   "cell_type": "code",
   "execution_count": 4,
   "metadata": {},
   "outputs": [
    {
     "data": {
      "text/plain": [
       "(2, [0.0 -5.55112e-17 -7.9775e-8; -1.11022e-16 -3.09441e-8 0.0; 1.29132e-8 5.55112e-17 0.0])"
      ]
     },
     "execution_count": 4,
     "metadata": {},
     "output_type": "execute_result"
    }
   ],
   "source": [
    "rank(L), L+S-A0"
   ]
  },
  {
   "cell_type": "code",
   "execution_count": 5,
   "metadata": {
    "scrolled": true
   },
   "outputs": [],
   "source": [
    "using Images\n",
    "using Colors\n",
    "using ImageView"
   ]
  },
  {
   "cell_type": "code",
   "execution_count": 6,
   "metadata": {},
   "outputs": [
    {
     "data": {
      "text/plain": [
       "240×320×2292 Array{RGB{N0f8},3}:\n",
       "[:, :, 1] =\n",
       " RGB{N0f8}(0.161,0.169,0.169)  …  RGB{N0f8}(0.114,0.133,0.118)\n",
       " RGB{N0f8}(0.161,0.169,0.169)     RGB{N0f8}(0.114,0.133,0.118)\n",
       " RGB{N0f8}(0.165,0.173,0.173)     RGB{N0f8}(0.114,0.133,0.118)\n",
       " RGB{N0f8}(0.169,0.176,0.176)     RGB{N0f8}(0.114,0.133,0.118)\n",
       " RGB{N0f8}(0.169,0.176,0.176)     RGB{N0f8}(0.114,0.133,0.118)\n",
       " RGB{N0f8}(0.173,0.18,0.18)    …  RGB{N0f8}(0.114,0.133,0.118)\n",
       " RGB{N0f8}(0.176,0.184,0.184)     RGB{N0f8}(0.114,0.133,0.118)\n",
       " RGB{N0f8}(0.176,0.184,0.184)     RGB{N0f8}(0.114,0.133,0.118)\n",
       " RGB{N0f8}(0.18,0.188,0.188)      RGB{N0f8}(0.125,0.145,0.129)\n",
       " RGB{N0f8}(0.18,0.188,0.188)      RGB{N0f8}(0.125,0.145,0.129)\n",
       " RGB{N0f8}(0.18,0.188,0.188)   …  RGB{N0f8}(0.125,0.145,0.129)\n",
       " RGB{N0f8}(0.18,0.188,0.188)      RGB{N0f8}(0.125,0.145,0.129)\n",
       " RGB{N0f8}(0.18,0.188,0.188)      RGB{N0f8}(0.125,0.145,0.129)\n",
       " ⋮                             ⋱                              \n",
       " RGB{N0f8}(0.306,0.306,0.306)     RGB{N0f8}(0.698,0.706,0.769)\n",
       " RGB{N0f8}(0.286,0.286,0.286)     RGB{N0f8}(0.71,0.718,0.78)  \n",
       " RGB{N0f8}(0.282,0.282,0.282)  …  RGB{N0f8}(0.722,0.729,0.792)\n",
       " RGB{N0f8}(0.306,0.306,0.306)     RGB{N0f8}(0.702,0.71,0.773) \n",
       " RGB{N0f8}(0.306,0.306,0.306)     RGB{N0f8}(0.671,0.678,0.741)\n",
       " RGB{N0f8}(0.306,0.306,0.306)     RGB{N0f8}(0.686,0.694,0.757)\n",
       " RGB{N0f8}(0.306,0.306,0.306)     RGB{N0f8}(0.675,0.682,0.745)\n",
       " RGB{N0f8}(0.306,0.306,0.306)  …  RGB{N0f8}(0.71,0.718,0.78)  \n",
       " RGB{N0f8}(0.306,0.306,0.306)     RGB{N0f8}(0.694,0.702,0.765)\n",
       " RGB{N0f8}(0.306,0.306,0.306)     RGB{N0f8}(0.651,0.659,0.722)\n",
       " RGB{N0f8}(0.306,0.306,0.306)     RGB{N0f8}(0.667,0.675,0.737)\n",
       " RGB{N0f8}(0.306,0.306,0.306)     RGB{N0f8}(0.671,0.678,0.741)\n",
       "\n",
       "[:, :, 2] =\n",
       " RGB{N0f8}(0.161,0.169,0.169)  …  RGB{N0f8}(0.114,0.133,0.118)\n",
       " RGB{N0f8}(0.161,0.169,0.169)     RGB{N0f8}(0.114,0.133,0.118)\n",
       " RGB{N0f8}(0.161,0.169,0.169)     RGB{N0f8}(0.114,0.133,0.118)\n",
       " RGB{N0f8}(0.161,0.169,0.169)     RGB{N0f8}(0.114,0.133,0.118)\n",
       " RGB{N0f8}(0.165,0.173,0.173)     RGB{N0f8}(0.114,0.133,0.118)\n",
       " RGB{N0f8}(0.165,0.173,0.173)  …  RGB{N0f8}(0.114,0.133,0.118)\n",
       " RGB{N0f8}(0.165,0.173,0.173)     RGB{N0f8}(0.114,0.133,0.118)\n",
       " RGB{N0f8}(0.169,0.176,0.176)     RGB{N0f8}(0.118,0.137,0.122)\n",
       " RGB{N0f8}(0.169,0.176,0.176)     RGB{N0f8}(0.125,0.145,0.129)\n",
       " RGB{N0f8}(0.173,0.18,0.18)       RGB{N0f8}(0.125,0.145,0.129)\n",
       " RGB{N0f8}(0.173,0.18,0.18)    …  RGB{N0f8}(0.125,0.145,0.129)\n",
       " RGB{N0f8}(0.176,0.184,0.184)     RGB{N0f8}(0.125,0.145,0.129)\n",
       " RGB{N0f8}(0.176,0.184,0.184)     RGB{N0f8}(0.125,0.145,0.129)\n",
       " ⋮                             ⋱                              \n",
       " RGB{N0f8}(0.314,0.314,0.314)     RGB{N0f8}(0.702,0.706,0.78) \n",
       " RGB{N0f8}(0.286,0.286,0.286)     RGB{N0f8}(0.718,0.722,0.796)\n",
       " RGB{N0f8}(0.278,0.278,0.278)  …  RGB{N0f8}(0.737,0.741,0.816)\n",
       " RGB{N0f8}(0.298,0.298,0.298)     RGB{N0f8}(0.698,0.702,0.776)\n",
       " RGB{N0f8}(0.306,0.306,0.306)     RGB{N0f8}(0.667,0.682,0.741)\n",
       " RGB{N0f8}(0.31,0.31,0.31)        RGB{N0f8}(0.682,0.698,0.757)\n",
       " RGB{N0f8}(0.31,0.31,0.31)        RGB{N0f8}(0.671,0.686,0.737)\n",
       " RGB{N0f8}(0.298,0.298,0.298)  …  RGB{N0f8}(0.698,0.714,0.765)\n",
       " RGB{N0f8}(0.294,0.294,0.294)     RGB{N0f8}(0.69,0.718,0.773) \n",
       " RGB{N0f8}(0.298,0.298,0.298)     RGB{N0f8}(0.651,0.678,0.733)\n",
       " RGB{N0f8}(0.294,0.294,0.294)     RGB{N0f8}(0.647,0.671,0.737)\n",
       " RGB{N0f8}(0.286,0.286,0.286)     RGB{N0f8}(0.655,0.678,0.745)\n",
       "\n",
       "[:, :, 3] =\n",
       " RGB{N0f8}(0.141,0.161,0.157)  …  RGB{N0f8}(0.114,0.133,0.118)\n",
       " RGB{N0f8}(0.145,0.165,0.161)     RGB{N0f8}(0.114,0.133,0.118)\n",
       " RGB{N0f8}(0.153,0.173,0.169)     RGB{N0f8}(0.114,0.133,0.118)\n",
       " RGB{N0f8}(0.153,0.173,0.169)     RGB{N0f8}(0.114,0.133,0.118)\n",
       " RGB{N0f8}(0.153,0.173,0.169)     RGB{N0f8}(0.114,0.133,0.118)\n",
       " RGB{N0f8}(0.157,0.176,0.173)  …  RGB{N0f8}(0.114,0.133,0.118)\n",
       " RGB{N0f8}(0.153,0.173,0.169)     RGB{N0f8}(0.114,0.133,0.118)\n",
       " RGB{N0f8}(0.145,0.165,0.161)     RGB{N0f8}(0.118,0.137,0.122)\n",
       " RGB{N0f8}(0.161,0.18,0.176)      RGB{N0f8}(0.125,0.145,0.129)\n",
       " RGB{N0f8}(0.161,0.18,0.176)      RGB{N0f8}(0.125,0.145,0.129)\n",
       " RGB{N0f8}(0.165,0.184,0.18)   …  RGB{N0f8}(0.125,0.145,0.129)\n",
       " RGB{N0f8}(0.165,0.184,0.18)      RGB{N0f8}(0.125,0.145,0.129)\n",
       " RGB{N0f8}(0.169,0.188,0.184)     RGB{N0f8}(0.125,0.145,0.129)\n",
       " ⋮                             ⋱                              \n",
       " RGB{N0f8}(0.31,0.31,0.31)        RGB{N0f8}(0.686,0.714,0.761)\n",
       " RGB{N0f8}(0.286,0.286,0.286)     RGB{N0f8}(0.698,0.725,0.773)\n",
       " RGB{N0f8}(0.282,0.282,0.282)  …  RGB{N0f8}(0.722,0.737,0.796)\n",
       " RGB{N0f8}(0.298,0.298,0.298)     RGB{N0f8}(0.69,0.706,0.765) \n",
       " RGB{N0f8}(0.314,0.314,0.314)     RGB{N0f8}(0.675,0.678,0.753)\n",
       " RGB{N0f8}(0.314,0.314,0.314)     RGB{N0f8}(0.686,0.69,0.765) \n",
       " RGB{N0f8}(0.314,0.314,0.314)     RGB{N0f8}(0.69,0.682,0.761) \n",
       " RGB{N0f8}(0.31,0.31,0.31)     …  RGB{N0f8}(0.718,0.71,0.788) \n",
       " RGB{N0f8}(0.306,0.306,0.306)     RGB{N0f8}(0.694,0.706,0.776)\n",
       " RGB{N0f8}(0.306,0.306,0.306)     RGB{N0f8}(0.655,0.667,0.737)\n",
       " RGB{N0f8}(0.298,0.298,0.298)     RGB{N0f8}(0.647,0.671,0.737)\n",
       " RGB{N0f8}(0.294,0.294,0.294)     RGB{N0f8}(0.647,0.671,0.737)\n",
       "\n",
       "...\n",
       "\n",
       "[:, :, 2290] =\n",
       " RGB{N0f8}(0.165,0.184,0.18)   …  RGB{N0f8}(0.11,0.129,0.125) \n",
       " RGB{N0f8}(0.165,0.184,0.18)      RGB{N0f8}(0.11,0.129,0.125) \n",
       " RGB{N0f8}(0.165,0.184,0.18)      RGB{N0f8}(0.11,0.129,0.125) \n",
       " RGB{N0f8}(0.165,0.184,0.18)      RGB{N0f8}(0.11,0.129,0.125) \n",
       " RGB{N0f8}(0.165,0.184,0.18)      RGB{N0f8}(0.11,0.129,0.125) \n",
       " RGB{N0f8}(0.165,0.184,0.18)   …  RGB{N0f8}(0.11,0.129,0.125) \n",
       " RGB{N0f8}(0.165,0.184,0.18)      RGB{N0f8}(0.11,0.129,0.125) \n",
       " RGB{N0f8}(0.165,0.184,0.18)      RGB{N0f8}(0.11,0.129,0.125) \n",
       " RGB{N0f8}(0.173,0.192,0.188)     RGB{N0f8}(0.118,0.137,0.133)\n",
       " RGB{N0f8}(0.173,0.192,0.188)     RGB{N0f8}(0.118,0.137,0.133)\n",
       " RGB{N0f8}(0.173,0.192,0.188)  …  RGB{N0f8}(0.118,0.137,0.133)\n",
       " RGB{N0f8}(0.173,0.192,0.188)     RGB{N0f8}(0.118,0.137,0.133)\n",
       " RGB{N0f8}(0.173,0.192,0.188)     RGB{N0f8}(0.118,0.137,0.133)\n",
       " ⋮                             ⋱                              \n",
       " RGB{N0f8}(0.337,0.337,0.325)     RGB{N0f8}(0.729,0.725,0.792)\n",
       " RGB{N0f8}(0.333,0.333,0.322)     RGB{N0f8}(0.765,0.761,0.827)\n",
       " RGB{N0f8}(0.314,0.314,0.302)  …  RGB{N0f8}(0.733,0.729,0.796)\n",
       " RGB{N0f8}(0.314,0.314,0.302)     RGB{N0f8}(0.698,0.694,0.761)\n",
       " RGB{N0f8}(0.341,0.341,0.329)     RGB{N0f8}(0.698,0.694,0.761)\n",
       " RGB{N0f8}(0.337,0.337,0.325)     RGB{N0f8}(0.71,0.706,0.773) \n",
       " RGB{N0f8}(0.333,0.333,0.322)     RGB{N0f8}(0.706,0.702,0.769)\n",
       " RGB{N0f8}(0.325,0.325,0.314)  …  RGB{N0f8}(0.718,0.714,0.78) \n",
       " RGB{N0f8}(0.318,0.318,0.306)     RGB{N0f8}(0.722,0.718,0.784)\n",
       " RGB{N0f8}(0.314,0.314,0.302)     RGB{N0f8}(0.682,0.678,0.745)\n",
       " RGB{N0f8}(0.31,0.31,0.298)       RGB{N0f8}(0.671,0.667,0.733)\n",
       " RGB{N0f8}(0.306,0.306,0.294)     RGB{N0f8}(0.706,0.702,0.769)\n",
       "\n",
       "[:, :, 2291] =\n",
       " RGB{N0f8}(0.165,0.184,0.18)   …  RGB{N0f8}(0.11,0.129,0.125) \n",
       " RGB{N0f8}(0.165,0.184,0.18)      RGB{N0f8}(0.11,0.129,0.125) \n",
       " RGB{N0f8}(0.165,0.184,0.18)      RGB{N0f8}(0.11,0.129,0.125) \n",
       " RGB{N0f8}(0.165,0.184,0.18)      RGB{N0f8}(0.11,0.129,0.125) \n",
       " RGB{N0f8}(0.165,0.184,0.18)      RGB{N0f8}(0.11,0.129,0.125) \n",
       " RGB{N0f8}(0.165,0.184,0.18)   …  RGB{N0f8}(0.11,0.129,0.125) \n",
       " RGB{N0f8}(0.165,0.184,0.18)      RGB{N0f8}(0.11,0.129,0.125) \n",
       " RGB{N0f8}(0.165,0.184,0.18)      RGB{N0f8}(0.11,0.129,0.125) \n",
       " RGB{N0f8}(0.173,0.192,0.188)     RGB{N0f8}(0.118,0.137,0.133)\n",
       " RGB{N0f8}(0.173,0.192,0.188)     RGB{N0f8}(0.118,0.137,0.133)\n",
       " RGB{N0f8}(0.173,0.192,0.188)  …  RGB{N0f8}(0.118,0.137,0.133)\n",
       " RGB{N0f8}(0.173,0.192,0.188)     RGB{N0f8}(0.118,0.137,0.133)\n",
       " RGB{N0f8}(0.173,0.192,0.188)     RGB{N0f8}(0.118,0.137,0.133)\n",
       " ⋮                             ⋱                              \n",
       " RGB{N0f8}(0.337,0.337,0.325)     RGB{N0f8}(0.729,0.725,0.792)\n",
       " RGB{N0f8}(0.333,0.333,0.322)     RGB{N0f8}(0.765,0.761,0.827)\n",
       " RGB{N0f8}(0.314,0.314,0.302)  …  RGB{N0f8}(0.733,0.729,0.796)\n",
       " RGB{N0f8}(0.314,0.314,0.302)     RGB{N0f8}(0.698,0.694,0.761)\n",
       " RGB{N0f8}(0.341,0.341,0.329)     RGB{N0f8}(0.698,0.694,0.761)\n",
       " RGB{N0f8}(0.337,0.337,0.325)     RGB{N0f8}(0.71,0.706,0.773) \n",
       " RGB{N0f8}(0.333,0.333,0.322)     RGB{N0f8}(0.706,0.702,0.769)\n",
       " RGB{N0f8}(0.325,0.325,0.314)  …  RGB{N0f8}(0.718,0.714,0.78) \n",
       " RGB{N0f8}(0.318,0.318,0.306)     RGB{N0f8}(0.722,0.718,0.784)\n",
       " RGB{N0f8}(0.314,0.314,0.302)     RGB{N0f8}(0.682,0.678,0.745)\n",
       " RGB{N0f8}(0.31,0.31,0.298)       RGB{N0f8}(0.671,0.667,0.733)\n",
       " RGB{N0f8}(0.306,0.306,0.294)     RGB{N0f8}(0.706,0.702,0.769)\n",
       "\n",
       "[:, :, 2292] =\n",
       " RGB{N0f8}(0.165,0.184,0.18)   …  RGB{N0f8}(0.11,0.129,0.125) \n",
       " RGB{N0f8}(0.165,0.184,0.18)      RGB{N0f8}(0.11,0.129,0.125) \n",
       " RGB{N0f8}(0.165,0.184,0.18)      RGB{N0f8}(0.11,0.129,0.125) \n",
       " RGB{N0f8}(0.165,0.184,0.18)      RGB{N0f8}(0.11,0.129,0.125) \n",
       " RGB{N0f8}(0.165,0.184,0.18)      RGB{N0f8}(0.11,0.129,0.125) \n",
       " RGB{N0f8}(0.165,0.184,0.18)   …  RGB{N0f8}(0.11,0.129,0.125) \n",
       " RGB{N0f8}(0.165,0.184,0.18)      RGB{N0f8}(0.11,0.129,0.125) \n",
       " RGB{N0f8}(0.165,0.184,0.18)      RGB{N0f8}(0.11,0.129,0.125) \n",
       " RGB{N0f8}(0.173,0.192,0.188)     RGB{N0f8}(0.118,0.137,0.133)\n",
       " RGB{N0f8}(0.173,0.192,0.188)     RGB{N0f8}(0.118,0.137,0.133)\n",
       " RGB{N0f8}(0.173,0.192,0.188)  …  RGB{N0f8}(0.118,0.137,0.133)\n",
       " RGB{N0f8}(0.173,0.192,0.188)     RGB{N0f8}(0.118,0.137,0.133)\n",
       " RGB{N0f8}(0.173,0.192,0.188)     RGB{N0f8}(0.118,0.137,0.133)\n",
       " ⋮                             ⋱                              \n",
       " RGB{N0f8}(0.337,0.337,0.325)     RGB{N0f8}(0.729,0.725,0.792)\n",
       " RGB{N0f8}(0.333,0.333,0.322)     RGB{N0f8}(0.765,0.761,0.827)\n",
       " RGB{N0f8}(0.322,0.322,0.31)   …  RGB{N0f8}(0.733,0.729,0.796)\n",
       " RGB{N0f8}(0.333,0.333,0.322)     RGB{N0f8}(0.698,0.694,0.761)\n",
       " RGB{N0f8}(0.345,0.345,0.333)     RGB{N0f8}(0.698,0.694,0.761)\n",
       " RGB{N0f8}(0.341,0.341,0.329)     RGB{N0f8}(0.71,0.706,0.773) \n",
       " RGB{N0f8}(0.337,0.337,0.325)     RGB{N0f8}(0.706,0.702,0.769)\n",
       " RGB{N0f8}(0.333,0.333,0.322)  …  RGB{N0f8}(0.718,0.714,0.78) \n",
       " RGB{N0f8}(0.322,0.322,0.31)      RGB{N0f8}(0.722,0.718,0.784)\n",
       " RGB{N0f8}(0.318,0.318,0.306)     RGB{N0f8}(0.682,0.678,0.745)\n",
       " RGB{N0f8}(0.314,0.314,0.302)     RGB{N0f8}(0.671,0.667,0.733)\n",
       " RGB{N0f8}(0.314,0.314,0.302)     RGB{N0f8}(0.706,0.702,0.769)"
      ]
     },
     "execution_count": 6,
     "metadata": {},
     "output_type": "execute_result"
    }
   ],
   "source": [
    "f=load(\"files/visor.avi\")"
   ]
  },
  {
   "cell_type": "code",
   "execution_count": 7,
   "metadata": {},
   "outputs": [
    {
     "data": {
      "image/png": "[encoded data removed]",
      "text/plain": [
       "240×320 Array{RGB{N0f8},2}:\n",
       " RGB{N0f8}(0.176,0.184,0.184)  …  RGB{N0f8}(0.118,0.137,0.122)\n",
       " RGB{N0f8}(0.176,0.184,0.184)     RGB{N0f8}(0.118,0.137,0.122)\n",
       " RGB{N0f8}(0.176,0.184,0.184)     RGB{N0f8}(0.118,0.137,0.122)\n",
       " RGB{N0f8}(0.176,0.184,0.184)     RGB{N0f8}(0.118,0.137,0.122)\n",
       " RGB{N0f8}(0.176,0.184,0.184)     RGB{N0f8}(0.118,0.137,0.122)\n",
       " RGB{N0f8}(0.176,0.184,0.184)  …  RGB{N0f8}(0.118,0.137,0.122)\n",
       " RGB{N0f8}(0.176,0.184,0.184)     RGB{N0f8}(0.118,0.137,0.122)\n",
       " RGB{N0f8}(0.176,0.184,0.184)     RGB{N0f8}(0.118,0.137,0.122)\n",
       " RGB{N0f8}(0.192,0.2,0.2)         RGB{N0f8}(0.118,0.137,0.122)\n",
       " RGB{N0f8}(0.192,0.2,0.2)         RGB{N0f8}(0.118,0.137,0.122)\n",
       " RGB{N0f8}(0.192,0.2,0.2)      …  RGB{N0f8}(0.118,0.137,0.122)\n",
       " RGB{N0f8}(0.192,0.2,0.2)         RGB{N0f8}(0.118,0.137,0.122)\n",
       " RGB{N0f8}(0.192,0.2,0.2)         RGB{N0f8}(0.118,0.137,0.122)\n",
       " ⋮                             ⋱                              \n",
       " RGB{N0f8}(0.325,0.325,0.325)     RGB{N0f8}(0.725,0.733,0.796)\n",
       " RGB{N0f8}(0.325,0.325,0.325)     RGB{N0f8}(0.745,0.753,0.816)\n",
       " RGB{N0f8}(0.325,0.325,0.325)  …  RGB{N0f8}(0.745,0.753,0.816)\n",
       " RGB{N0f8}(0.325,0.325,0.325)     RGB{N0f8}(0.725,0.733,0.796)\n",
       " RGB{N0f8}(0.325,0.325,0.325)     RGB{N0f8}(0.714,0.722,0.784)\n",
       " RGB{N0f8}(0.337,0.337,0.337)     RGB{N0f8}(0.722,0.729,0.792)\n",
       " RGB{N0f8}(0.337,0.337,0.337)     RGB{N0f8}(0.729,0.737,0.8)  \n",
       " RGB{N0f8}(0.337,0.337,0.337)  …  RGB{N0f8}(0.737,0.745,0.808)\n",
       " RGB{N0f8}(0.337,0.337,0.337)     RGB{N0f8}(0.729,0.737,0.8)  \n",
       " RGB{N0f8}(0.337,0.337,0.337)     RGB{N0f8}(0.714,0.722,0.784)\n",
       " RGB{N0f8}(0.337,0.337,0.337)     RGB{N0f8}(0.698,0.706,0.769)\n",
       " RGB{N0f8}(0.337,0.337,0.337)     RGB{N0f8}(0.686,0.694,0.757)"
      ]
     },
     "execution_count": 7,
     "metadata": {},
     "output_type": "execute_result"
    }
   ],
   "source": [
    "# For example, frame number 1400\n",
    "f[:,:,1400]"
   ]
  },
  {
   "cell_type": "code",
   "execution_count": 8,
   "metadata": {},
   "outputs": [
    {
     "data": {
      "text/plain": [
       "Dict{String,Any} with 4 entries:\n",
       "  \"gui\"         => Dict{String,Any}(Pair{String,Any}(\"window\", Gtk.GtkWindowLea…\n",
       "  \"roi\"         => Dict{String,Any}(Pair{String,Any}(\"redraw\", 50: \"map(f-mappe…\n",
       "  \"annotations\" => 3: \"input-3\" = Dict{UInt64,Any}() Dict{UInt64,Any} \n",
       "  \"clim\"        => nothing"
      ]
     },
     "execution_count": 8,
     "metadata": {},
     "output_type": "execute_result"
    }
   ],
   "source": [
    "imshow(f)"
   ]
  },
  {
   "cell_type": "code",
   "execution_count": 9,
   "metadata": {},
   "outputs": [
    {
     "data": {
      "text/plain": [
       "Dict{String,Any} with 4 entries:\n",
       "  \"gui\"         => Dict{String,Any}(Pair{String,Any}(\"window\", Gtk.GtkWindowLea…\n",
       "  \"roi\"         => Dict{String,Any}(Pair{String,Any}(\"redraw\", 100: \"map(f-mapp…\n",
       "  \"annotations\" => 53: \"input-22\" = Dict{UInt64,Any}() Dict{UInt64,Any} \n",
       "  \"clim\"        => nothing"
      ]
     },
     "execution_count": 9,
     "metadata": {},
     "output_type": "execute_result"
    }
   ],
   "source": [
    "# Make shorter video clip\n",
    "fs=f[:,:,1401:1420]\n",
    "imshow(fs)"
   ]
  },
  {
   "cell_type": "code",
   "execution_count": 10,
   "metadata": {},
   "outputs": [
    {
     "data": {
      "text/plain": [
       "Dict{String,Any} with 4 entries:\n",
       "  \"gui\"         => Dict{String,Any}(Pair{String,Any}(\"window\", Gtk.GtkWindowLea…\n",
       "  \"roi\"         => Dict{String,Any}(Pair{String,Any}(\"redraw\", 155: \"map(clim-m…\n",
       "  \"annotations\" => 104: \"input-41\" = Dict{UInt64,Any}() Dict{UInt64,Any} \n",
       "  \"clim\"        => 103: \"CLim\" = ImageView.CLim{FixedPointNumbers.Normed{UInt8,…"
      ]
     },
     "execution_count": 10,
     "metadata": {},
     "output_type": "execute_result"
    }
   ],
   "source": [
    "# Map the video to Gray\n",
    "fsg=map(Gray,fs)\n",
    "imshow(fsg)"
   ]
  },
  {
   "cell_type": "code",
   "execution_count": 11,
   "metadata": {},
   "outputs": [],
   "source": [
    "# Turn frames into tall matrix\n",
    "mi,ni=size(fsg[:,:,1])\n",
    "m=mi*ni\n",
    "n=20\n",
    "A=Array{Float64}(m,n)\n",
    "for i=1:n\n",
    "    A[:,i]=vec(float(fsg[:,:,i]))\n",
    "end"
   ]
  },
  {
   "cell_type": "code",
   "execution_count": 12,
   "metadata": {},
   "outputs": [
    {
     "data": {
      "text/plain": [
       "(76800, 20)"
      ]
     },
     "execution_count": 12,
     "metadata": {},
     "output_type": "execute_result"
    }
   ],
   "source": [
    "size(A)"
   ]
  },
  {
   "cell_type": "code",
   "execution_count": 13,
   "metadata": {},
   "outputs": [
    {
     "name": "stdout",
     "output_type": "stream",
     "text": [
      "  0.289671 seconds (76.56 k allocations: 27.474 MiB, 5.13% gc time)\n",
      "  0.014497 seconds (41 allocations: 11.772 MiB)\n"
     ]
    }
   ],
   "source": [
    "# For orientation\n",
    "@time Q,R=qr(A);\n",
    "@time D(A,0.5);"
   ]
  },
  {
   "cell_type": "code",
   "execution_count": 23,
   "metadata": {},
   "outputs": [
    {
     "name": "stdout",
     "output_type": "stream",
     "text": [
      "382.946764 seconds (63.02 k allocations: 160.304 GiB, 71.24% gc time)\n"
     ]
    },
    {
     "data": {
      "text/plain": [
       "([0.180392 0.180392 … 0.168627 0.168627; 0.180392 0.180392 … 0.168627 0.168627; … ; 0.709804 0.709804 … 0.709804 0.709804; 0.698039 0.698039 … 0.709804 0.709804], [0.0 0.0 … 0.0 -0.0; 0.0 0.0 … 0.0 -0.0; … ; 0.0 0.0 … 0.0 0.0; 0.0 0.0 … 0.0 0.0], 1000)"
      ]
     },
     "execution_count": 23,
     "metadata": {},
     "output_type": "execute_result"
    }
   ],
   "source": [
    "# Compute the splitting - 20 minutes\n",
    "@time L,S,iters=PCPAD(A)"
   ]
  },
  {
   "cell_type": "code",
   "execution_count": 16,
   "metadata": {},
   "outputs": [
    {
     "data": {
      "text/plain": [
       "2-element Array{Symbol,1}:\n",
       " :L\n",
       " :S"
      ]
     },
     "execution_count": 16,
     "metadata": {},
     "output_type": "execute_result"
    }
   ],
   "source": [
    "@load \"files/visor_results.jld\""
   ]
  },
  {
   "cell_type": "code",
   "execution_count": 17,
   "metadata": {},
   "outputs": [
    {
     "data": {
      "text/plain": [
       "(6, 0.00012011469870750945)"
      ]
     },
     "execution_count": 17,
     "metadata": {},
     "output_type": "execute_result"
    }
   ],
   "source": [
    "# Reconstruct the low-rank video component\n",
    "rank(L), vecnorm(A-L-S)"
   ]
  },
  {
   "cell_type": "code",
   "execution_count": 18,
   "metadata": {},
   "outputs": [
    {
     "data": {
      "text/plain": [
       "20-element Array{Float64,1}:\n",
       " 618.458      \n",
       "   8.85229    \n",
       "   7.52376    \n",
       "   3.64446    \n",
       "   0.798787   \n",
       "   0.000110906\n",
       "   8.04132e-14\n",
       "   2.53296e-14\n",
       "   2.49619e-14\n",
       "   2.2515e-14 \n",
       "   2.1546e-14 \n",
       "   1.91578e-14\n",
       "   1.74157e-14\n",
       "   1.57497e-14\n",
       "   1.57418e-14\n",
       "   1.54083e-14\n",
       "   1.19517e-14\n",
       "   1.14212e-14\n",
       "   9.84046e-15\n",
       "   9.68631e-15"
      ]
     },
     "execution_count": 18,
     "metadata": {},
     "output_type": "execute_result"
    }
   ],
   "source": [
    "svdvals(L)[1:20]"
   ]
  },
  {
   "cell_type": "code",
   "execution_count": 19,
   "metadata": {},
   "outputs": [
    {
     "data": {
      "text/plain": [
       "Dict{String,Any} with 4 entries:\n",
       "  \"gui\"         => Dict{String,Any}(Pair{String,Any}(\"window\", Gtk.GtkWindowLea…\n",
       "  \"roi\"         => Dict{String,Any}(Pair{String,Any}(\"redraw\", 192: \"map(clim-m…\n",
       "  \"annotations\" => 158: \"input-59\" = Dict{UInt64,Any}() Dict{UInt64,Any} \n",
       "  \"clim\"        => 157: \"CLim\" = ImageView.CLim{Float64}(-4.554430031465399e-8,…"
      ]
     },
     "execution_count": 19,
     "metadata": {},
     "output_type": "execute_result"
    }
   ],
   "source": [
    "# How to restore the video?\n",
    "v=L[:,1]\n",
    "v1=reshape(v,mi,ni)\n",
    "imshow(v1)"
   ]
  },
  {
   "cell_type": "code",
   "execution_count": 20,
   "metadata": {},
   "outputs": [],
   "source": [
    "Lf=similar(fsg)\n",
    "Sf=similar(fsg)\n",
    "for i=1:n\n",
    "    Lf[:,:,i]=reshape(L[:,i],mi,ni)\n",
    "    Sf[:,:,i]=clamp01.(reshape(S[:,i],mi,ni)+0.3)\n",
    "end"
   ]
  },
  {
   "cell_type": "code",
   "execution_count": 21,
   "metadata": {},
   "outputs": [
    {
     "data": {
      "text/plain": [
       "Dict{String,Any} with 4 entries:\n",
       "  \"gui\"         => Dict{String,Any}(Pair{String,Any}(\"window\", Gtk.GtkWindowLea…\n",
       "  \"roi\"         => Dict{String,Any}(Pair{String,Any}(\"redraw\", 247: \"map(clim-m…\n",
       "  \"annotations\" => 196: \"input-72\" = Dict{UInt64,Any}() Dict{UInt64,Any} \n",
       "  \"clim\"        => 195: \"CLim\" = ImageView.CLim{FixedPointNumbers.Normed{UInt8,…"
      ]
     },
     "execution_count": 21,
     "metadata": {},
     "output_type": "execute_result"
    }
   ],
   "source": [
    "# Play the low-rank part\n",
    "imshow(Lf)"
   ]
  },
  {
   "cell_type": "code",
   "execution_count": 22,
   "metadata": {},
   "outputs": [
    {
     "data": {
      "text/plain": [
       "Dict{String,Any} with 4 entries:\n",
       "  \"gui\"         => Dict{String,Any}(Pair{String,Any}(\"window\", Gtk.GtkWindowLea…\n",
       "  \"roi\"         => Dict{String,Any}(Pair{String,Any}(\"redraw\", 302: \"map(clim-m…\n",
       "  \"annotations\" => 251: \"input-91\" = Dict{UInt64,Any}() Dict{UInt64,Any} \n",
       "  \"clim\"        => 250: \"CLim\" = ImageView.CLim{FixedPointNumbers.Normed{UInt8,…"
      ]
     },
     "execution_count": 22,
     "metadata": {},
     "output_type": "execute_result"
    }
   ],
   "source": [
    "# Play the sparse part\n",
    "imshow(Sf)"
   ]
  },
  {
   "cell_type": "markdown",
   "metadata": {
    "collapsed": true
   },
   "source": [
    "How to improve the visibility of the sparse component?"
   ]
  },
  {
   "cell_type": "code",
   "execution_count": 15,
   "metadata": {},
   "outputs": [],
   "source": [
    "using JLD"
   ]
  },
  {
   "cell_type": "code",
   "execution_count": 55,
   "metadata": {
    "collapsed": true
   },
   "outputs": [],
   "source": [
    "@save \"files/visor_results.jld\" L S"
   ]
  },
  {
   "cell_type": "code",
   "execution_count": null,
   "metadata": {
    "collapsed": true
   },
   "outputs": [],
   "source": []
  }
 ],
 "metadata": {
  "kernelspec": {
   "display_name": "Julia 0.6.2",
   "language": "julia",
   "name": "julia-0.6"
  },
  "language_info": {
   "file_extension": ".jl",
   "mimetype": "application/julia",
   "name": "julia",
   "version": "0.6.2"
  }
 },
 "nbformat": 4,
 "nbformat_minor": 1
}
