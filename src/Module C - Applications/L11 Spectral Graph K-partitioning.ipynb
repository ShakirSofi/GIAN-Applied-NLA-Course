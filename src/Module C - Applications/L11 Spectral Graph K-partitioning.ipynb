{
 "cells": [
  {
   "cell_type": "markdown",
   "metadata": {},
   "source": [
    "# Spectral Graph K-partitioning\n",
    "\n",
    "Instead of using recursive spectral bipartitioning, the graph $k$-partitioning problem can be solved using $k$ eigenvectors which correspond to $k$ smallest eigenvalues of Laplaciain matrix or normalized Laplacian matrix, respectively.\n",
    "\n",
    "Suggested reading is [U. von Luxburg, A Tutorial on Spectral Clustering][Lux07], which includes the quote _\"spectral clustering cannot serve as a “black box algorithm” which automatically detects the correct clusters in any\n",
    "given data set. But it can be considered as a powerful tool which can produce good results if applied with care.\"_\n",
    "\n",
    "[Lux07]: http://www.kyb.mpg.de/fileadmin/user_upload/files/publications/attachments/luxburg06_TR_v2_4139%5b1%5d.pdf \"U. von Luxburg, 'A Tutorial on Spectral Clustering', Max Planck Institute for Biological Cybernetics, Tübingen, 2007.\"\n",
    "\n",
    "## Prerequisites\n",
    "\n",
    "The reader should be familiar with k-means algorithm, spectral graph bipartitioning and \n",
    "recursive bipartitioning.\n",
    " \n",
    "## Competences \n",
    "\n",
    "The reader should be able to apply graph spectral k-partitioning to data clustering problems.\n",
    "\n",
    "__Credits__: The notebook is based on [I. Mirošević, Spectral Graph Partitioning and Application to Knowledge Extraction][Mir05].\n",
    "\n",
    "[Mir05]: #1 \"I. Mirošević, 'Spectral Graph Partitioning and Application to Knowledge Extraction', M.Sc. Thesis, Iniversity of Zagreb, 2005 (in Croatian).\" "
   ]
  },
  {
   "cell_type": "markdown",
   "metadata": {},
   "source": [
    "## The relaxed problem\n",
    "\n",
    "Let $G=(V,E)$ be a weighted graph with weights $\\omega$, with weights matrix $W$, Laplacian matrix $L=D-W$, and normalized Laplacian matrix $L_n=D^{-1/2}(D-W)D^{-1/2}$. \n",
    "\n",
    "Let the $k$-partition $\\pi_k =\\{V_{1},V_{2},...,V_{k}\\}$, the cut $cut(\\pi_k)$, \n",
    "the proportional cut $pcut(\\pi_k)$ and \n",
    "the normalized cut $ncut(\\pi_k)$ be defined as in the\n",
    "[Spectral Graph Bipartitioning](L10 Spectral Graph Bipartitioning.ipynb) notebook.\n",
    "\n",
    "### Definition\n",
    "\n",
    "__Partition vectors__ of a $k$-partition $\\pi_k$ are\n",
    "\\begin{align*}\n",
    "h_{1} &=[\\overset{\\displaystyle |V_{1}|}{\\overbrace{1,\\cdots\n",
    ",1}},0,\\cdots\n",
    ",0,\\cdots ,0,\\cdots ,0]^{T}  \\\\\n",
    "h_{2} &=[0,\\cdots\n",
    ",0,\\overset{\\displaystyle |V_{2}|}{\\overbrace{1,\\cdots ,1}} ,\\cdots ,0,\\cdots\n",
    ",0]^{T} \\\\\n",
    "&\\vdots \\\\\n",
    "h_{k} &=[0,\\cdots ,0,0,\\cdots ,0,\\cdots\n",
    ",\\overset{\\displaystyle |V_{k}|}{ \\overbrace{1,\\cdots ,1}}]^{T}.\n",
    "\\end{align*}\n",
    "\n",
    "### Facts\n",
    "\n",
    "1. Set\n",
    "\\begin{align*}\n",
    "X&=\\begin{bmatrix} x_1 & x_2 &\\cdots & x_k \\end{bmatrix}, \\quad \n",
    "x_i=\\displaystyle \\frac{h_i}{\\|h_i\\|_2}, \\\\\n",
    "Y&=\\begin{bmatrix} y_1 & y_2 &\\cdots & y_k \\end{bmatrix}, \\quad\n",
    "y_i=\\displaystyle \\frac{D^{1/2}h_i}{\\|D^{1/2}h_i\\|_2}.\n",
    "\\end{align*}\n",
    "It holds\n",
    "\\begin{align*}\n",
    "& cut(V_{i},V\\backslash V_{i})=h_{i}^{T}(D-W)h_{i}=h_{i}^{T}L h_{i},\\quad \n",
    "\\omega( C_{i})=h_{i}^{T}D h_{i},\\quad |C_{i}| =h_{i}^{T}h_{i},\\\\\n",
    "& pcut(\\pi_k) =\\frac{h_{1}^{T}L h_{1}}{h_{1}^{T} h_{1}}+\n",
    "\\cdots + \\frac{h_{k}^{T}L h_{k}}{h_{k}^{T}h_{k}}\n",
    "=x_{1}^{T}L x_{1}+\\cdots +x_{k}^{T}Lx_{k}=\\mathop{\\mathrm{trace}}(X^{T}LX),\\\\\n",
    "& ncut(\\pi_k)=\\frac{h_{1}^{T}L h_{1}}{h_{1}^{T}D h_{1}}+\\cdots\n",
    "+\\frac{h_{k}^{T}L h_{k}}{h_{k}^{T}D h_{k}}\n",
    "=\\mathop{\\mathrm{trace}}(Y^{T}L_{n}Y).\n",
    "\\end{align*}\n",
    "\n",
    "2. The __relaxed__ $k$-partitioning problems are trace-minimization problems,\n",
    "\\begin{align*}\n",
    "\\min_{\\displaystyle \\pi_k} pcut(\\pi_k) &\\geq\n",
    "\\underset{\\displaystyle X\\in\\mathbb{R}^{n\\times k}}{\\min_{\\displaystyle X^{T}X=I}}\n",
    "\\mathop{\\mathrm{trace}}(X^{T}LX),\\\\\n",
    "\\min_{\\displaystyle \\pi_k} ncut(\\pi_k) &\\geq\n",
    "\\underset{\\displaystyle Y\\in\\mathbb{R}^{n\\times\n",
    "k}}{\\min_{\\displaystyle Y^{T}Y=I}}\\mathop{\\mathrm{trace}}(Y^{T}L_{n}Y).\n",
    "\\end{align*}\n",
    "\n",
    "3. __Ky-Fan  Theorem__: Let $A\\in \\mathbb{R}^{n\\times n}$ be a symmetric matrix with\n",
    "eigenvalues $\\lambda _1\\leq \\cdots \\leq \\lambda_n$. Then\n",
    "$$\n",
    "\\underset{\\displaystyle Z^TZ=I}{\\min_{\\displaystyle Z\\in \\mathbb{R}^{n\\times\n",
    "k}}}\\mathop{\\mathrm{trace}}\\left(Z^{T}AZ\\right)\n",
    "=\\sum_{i=1}^{k}\\lambda_{i}.\n",
    "$$\n",
    "\n",
    "4. Let $\\lambda_1\\leq \\cdots \\leq \\lambda_n$ be the eigenvalues of $L$ with eigenvectors \n",
    "$v^{[1]},\\cdots ,v^{[k]}$. The solution of the relaxed proportional cut problem is the matrix $X=\\begin{bmatrix}v^{[1]} & \\cdots & v^{[k]}\\end{bmatrix}$, and it holds\n",
    "$\\min\\limits_{\\displaystyle \\pi_k} pcut(\\pi_k)\\geq \\sum\\limits_{i=1}^k \\lambda_i$.\n",
    "\n",
    "5. Let $\\mu_1\\leq \\cdots \\leq \\mu_n$ be the eigenvalues of $L_n$ with eigenvectors \n",
    "$w^{[1]},\\cdots ,w^{[k]}$. The solution of the relaxed normalized cut problem is the matrix $Y=\\begin{bmatrix}w^{[1]} & \\cdots & w^{[k]}\\end{bmatrix}$, and it holds\n",
    "$\\min\\limits_{\\displaystyle \\pi_k} ncut(\\pi_k)\\geq \\sum\\limits_{i=1}^k \\mu_i$.\n",
    "\n",
    "6. It remains to recover the $k$-partition. The k-means algorithm applied to rows of the matrices $X$ or $D^{-1/2}Y$, will compute the $k$ centers and the assignment vector whose $i$-th component denotes the subset $V_j$ to which the vertex $i$ belongs."
   ]
  },
  {
   "cell_type": "markdown",
   "metadata": {},
   "source": [
    "### Example - Graph with three clusters"
   ]
  },
  {
   "cell_type": "code",
   "execution_count": 3,
   "metadata": {},
   "outputs": [],
   "source": [
    "using Graphs\n",
    "using IJuliaPortrayals\n",
    "using Clustering"
   ]
  },
  {
   "cell_type": "code",
   "execution_count": 4,
   "metadata": {},
   "outputs": [
    {
     "data": {
      "text/plain": [
       "13×3 Array{Int64,2}:\n",
       " 1  2  2\n",
       " 1  3  3\n",
       " 1  4  4\n",
       " 2  3  4\n",
       " 2  4  5\n",
       " 3  4  6\n",
       " 2  7  1\n",
       " 3  5  1\n",
       " 5  6  7\n",
       " 6  9  1\n",
       " 7  9  3\n",
       " 7  8  4\n",
       " 8  9  2"
      ]
     },
     "execution_count": 4,
     "metadata": {},
     "output_type": "execute_result"
    }
   ],
   "source": [
    "# Sources, targets, and weight\n",
    "sn=[1,1,1,2,2,3,2,3,5,6,7,7,8]\n",
    "tn=[2,3,4,3,4,4,7,5,6,9,9,8,9]\n",
    "wn=[2,3,4,4,5,6,1,1,7,1,3,4,2]\n",
    "[sn tn wn]"
   ]
  },
  {
   "cell_type": "code",
   "execution_count": 5,
   "metadata": {
    "collapsed": true
   },
   "outputs": [],
   "source": [
    "n=9\n",
    "m=length(sn)\n",
    "G = inclist(ExVertex, ExEdge{ExVertex}; is_directed=false)\n",
    "for i=1:9\n",
    "    add_vertex!(G, ExVertex(i,\"$i\"))\n",
    "end\n",
    "for i=1:m\n",
    "    add_edge!(G, vertices(G)[sn[i]], vertices(G)[tn[i]])\n",
    "end\n",
    "for i=1:length(G.inclist)\n",
    "    for j=1:length(G.inclist[i])\n",
    "        ei=G.inclist[i][j]\n",
    "        attrs = attributes(ei, G)\n",
    "        attrs[\"label\"] = wn[edge_index(ei,G)]\n",
    "    end\n",
    "end"
   ]
  },
  {
   "cell_type": "code",
   "execution_count": 7,
   "metadata": {},
   "outputs": [
    {
     "data": {
      "text/html": [
       "<?xml version=\"1.0\" encoding=\"UTF-8\" standalone=\"no\"?>\r\n",
       "<!DOCTYPE svg PUBLIC \"-//W3C//DTD SVG 1.1//EN\"\r\n",
       " \"http://www.w3.org/Graphics/SVG/1.1/DTD/svg11.dtd\">\r\n",
       "<!-- Generated by graphviz version 2.38.0 (20140413.2041)\r\n",
       " -->\r\n",
       "<!-- Title: graphname Pages: 1 -->\r\n",
       "<svg width=\"254pt\" height=\"275pt\"\r\n",
       " viewBox=\"0.00 0.00 254.37 274.83\" xmlns=\"http://www.w3.org/2000/svg\" xmlns:xlink=\"http://www.w3.org/1999/xlink\">\r\n",
       "<g id=\"graph0\" class=\"graph\" transform=\"scale(1 1) rotate(0) translate(120.217 123.76)\">\r\n",
       "<title>graphname</title>\r\n",
       "<polygon fill=\"white\" stroke=\"none\" points=\"-120.217,151.066 -120.217,-123.76 134.155,-123.76 134.155,151.066 -120.217,151.066\"/>\r\n",
       "<!-- 1 -->\r\n",
       "<g id=\"node1\" class=\"node\"><title>1</title>\r\n",
       "<ellipse fill=\"none\" stroke=\"black\" cx=\"-89.217\" cy=\"-62.7736\" rx=\"27\" ry=\"18\"/>\r\n",
       "<text text-anchor=\"middle\" x=\"-89.217\" y=\"-59.0736\" font-family=\"Times New Roman,serif\" font-size=\"14.00\">1</text>\r\n",
       "</g>\r\n",
       "<!-- 2 -->\r\n",
       "<g id=\"node2\" class=\"node\"><title>2</title>\r\n",
       "<ellipse fill=\"none\" stroke=\"black\" cx=\"-50.3767\" cy=\"-15.2504\" rx=\"27\" ry=\"18\"/>\r\n",
       "<text text-anchor=\"middle\" x=\"-50.3767\" y=\"-11.5504\" font-family=\"Times New Roman,serif\" font-size=\"14.00\">2</text>\r\n",
       "</g>\r\n",
       "<!-- 1&#45;&#45;2 -->\r\n",
       "<g id=\"edge1\" class=\"edge\"><title>1&#45;&#45;2</title>\r\n",
       "<path fill=\"none\" stroke=\"black\" d=\"M-76.2838,-46.9491C-72.135,-41.8729 -67.54,-36.2507 -63.3859,-31.1679\"/>\r\n",
       "<text text-anchor=\"middle\" x=\"-73.3348\" y=\"-27.8585\" font-family=\"Times New Roman,serif\" font-size=\"14.00\">2</text>\r\n",
       "</g>\r\n",
       "<!-- 3 -->\r\n",
       "<g id=\"node3\" class=\"node\"><title>3</title>\r\n",
       "<ellipse fill=\"none\" stroke=\"black\" cx=\"-1.44178\" cy=\"-69.438\" rx=\"27\" ry=\"18\"/>\r\n",
       "<text text-anchor=\"middle\" x=\"-1.44178\" y=\"-65.738\" font-family=\"Times New Roman,serif\" font-size=\"14.00\">3</text>\r\n",
       "</g>\r\n",
       "<!-- 1&#45;&#45;3 -->\r\n",
       "<g id=\"edge2\" class=\"edge\"><title>1&#45;&#45;3</title>\r\n",
       "<path fill=\"none\" stroke=\"black\" d=\"M-61.9255,-64.8457C-51.2565,-65.6558 -39.053,-66.5823 -28.4149,-67.39\"/>\r\n",
       "<text text-anchor=\"middle\" x=\"-48.6702\" y=\"-69.9179\" font-family=\"Times New Roman,serif\" font-size=\"14.00\">3</text>\r\n",
       "</g>\r\n",
       "<!-- 4 -->\r\n",
       "<g id=\"node4\" class=\"node\"><title>4</title>\r\n",
       "<ellipse fill=\"none\" stroke=\"black\" cx=\"-51.3452\" cy=\"-101.76\" rx=\"27\" ry=\"18\"/>\r\n",
       "<text text-anchor=\"middle\" x=\"-51.3452\" y=\"-98.0603\" font-family=\"Times New Roman,serif\" font-size=\"14.00\">4</text>\r\n",
       "</g>\r\n",
       "<!-- 1&#45;&#45;4 -->\r\n",
       "<g id=\"edge3\" class=\"edge\"><title>1&#45;&#45;4</title>\r\n",
       "<path fill=\"none\" stroke=\"black\" d=\"M-74.2491,-78.1822C-71.6026,-80.9066 -68.8479,-83.7424 -66.2045,-86.4636\"/>\r\n",
       "<text text-anchor=\"middle\" x=\"-73.7268\" y=\"-71.1229\" font-family=\"Times New Roman,serif\" font-size=\"14.00\">4</text>\r\n",
       "</g>\r\n",
       "<!-- 2&#45;&#45;3 -->\r\n",
       "<g id=\"edge4\" class=\"edge\"><title>2&#45;&#45;3</title>\r\n",
       "<path fill=\"none\" stroke=\"black\" d=\"M-36.2227,-30.9237C-29.674,-38.1754 -21.9187,-46.763 -15.395,-53.987\"/>\r\n",
       "<text text-anchor=\"middle\" x=\"-22.3088\" y=\"-31.2554\" font-family=\"Times New Roman,serif\" font-size=\"14.00\">4</text>\r\n",
       "</g>\r\n",
       "<!-- 2&#45;&#45;4 -->\r\n",
       "<g id=\"edge5\" class=\"edge\"><title>2&#45;&#45;4</title>\r\n",
       "<path fill=\"none\" stroke=\"black\" d=\"M-50.5821,-33.5969C-50.7476,-48.3772 -50.9789,-69.0433 -51.1434,-83.7369\"/>\r\n",
       "<text text-anchor=\"middle\" x=\"-54.3628\" y=\"-47.4669\" font-family=\"Times New Roman,serif\" font-size=\"14.00\">5</text>\r\n",
       "</g>\r\n",
       "<!-- 7 -->\r\n",
       "<g id=\"node5\" class=\"node\"><title>7</title>\r\n",
       "<ellipse fill=\"none\" stroke=\"black\" cx=\"-28.4878\" cy=\"60.6932\" rx=\"27\" ry=\"18\"/>\r\n",
       "<text text-anchor=\"middle\" x=\"-28.4878\" y=\"64.3932\" font-family=\"Times New Roman,serif\" font-size=\"14.00\">7</text>\r\n",
       "</g>\r\n",
       "<!-- 2&#45;&#45;7 -->\r\n",
       "<g id=\"edge6\" class=\"edge\"><title>2&#45;&#45;7</title>\r\n",
       "<path fill=\"none\" stroke=\"black\" d=\"M-45.1893,2.74715C-41.7,14.8532 -37.1194,30.7458 -33.6379,42.8248\"/>\r\n",
       "<text text-anchor=\"middle\" x=\"-42.9136\" y=\"18.986\" font-family=\"Times New Roman,serif\" font-size=\"14.00\">1</text>\r\n",
       "</g>\r\n",
       "<!-- 3&#45;&#45;4 -->\r\n",
       "<g id=\"edge7\" class=\"edge\"><title>3&#45;&#45;4</title>\r\n",
       "<path fill=\"none\" stroke=\"black\" d=\"M-20.8786,-82.0272C-24.4911,-84.367 -28.266,-86.8119 -31.8793,-89.1523\"/>\r\n",
       "<text text-anchor=\"middle\" x=\"-29.879\" y=\"-74.3897\" font-family=\"Times New Roman,serif\" font-size=\"14.00\">6</text>\r\n",
       "</g>\r\n",
       "<!-- 5 -->\r\n",
       "<g id=\"node6\" class=\"node\"><title>5</title>\r\n",
       "<ellipse fill=\"none\" stroke=\"black\" cx=\"76.6475\" cy=\"-51.9589\" rx=\"27\" ry=\"18\"/>\r\n",
       "<text text-anchor=\"middle\" x=\"76.6475\" y=\"-48.2589\" font-family=\"Times New Roman,serif\" font-size=\"14.00\">5</text>\r\n",
       "</g>\r\n",
       "<!-- 3&#45;&#45;5 -->\r\n",
       "<g id=\"edge8\" class=\"edge\"><title>3&#45;&#45;5</title>\r\n",
       "<path fill=\"none\" stroke=\"black\" d=\"M24.5608,-63.6177C33.0794,-61.711 42.5337,-59.5948 51.0241,-57.6943\"/>\r\n",
       "<text text-anchor=\"middle\" x=\"34.2925\" y=\"-64.456\" font-family=\"Times New Roman,serif\" font-size=\"14.00\">1</text>\r\n",
       "</g>\r\n",
       "<!-- 9 -->\r\n",
       "<g id=\"node8\" class=\"node\"><title>9</title>\r\n",
       "<ellipse fill=\"none\" stroke=\"black\" cx=\"49.079\" cy=\"85.2128\" rx=\"27\" ry=\"18\"/>\r\n",
       "<text text-anchor=\"middle\" x=\"49.079\" y=\"88.9128\" font-family=\"Times New Roman,serif\" font-size=\"14.00\">9</text>\r\n",
       "</g>\r\n",
       "<!-- 7&#45;&#45;9 -->\r\n",
       "<g id=\"edge11\" class=\"edge\"><title>7&#45;&#45;9</title>\r\n",
       "<path fill=\"none\" stroke=\"black\" d=\"M-3.94516,68.4513C5.10919,71.3135 15.3661,74.5558 24.4298,77.4209\"/>\r\n",
       "<text text-anchor=\"middle\" x=\"6.74233\" y=\"69.1361\" font-family=\"Times New Roman,serif\" font-size=\"14.00\">3</text>\r\n",
       "</g>\r\n",
       "<!-- 8 -->\r\n",
       "<g id=\"node9\" class=\"node\"><title>8</title>\r\n",
       "<ellipse fill=\"none\" stroke=\"black\" cx=\"-8.01311\" cy=\"129.066\" rx=\"27\" ry=\"18\"/>\r\n",
       "<text text-anchor=\"middle\" x=\"-8.01311\" y=\"132.766\" font-family=\"Times New Roman,serif\" font-size=\"14.00\">8</text>\r\n",
       "</g>\r\n",
       "<!-- 7&#45;&#45;8 -->\r\n",
       "<g id=\"edge12\" class=\"edge\"><title>7&#45;&#45;8</title>\r\n",
       "<path fill=\"none\" stroke=\"black\" d=\"M-23.1083,78.6573C-20.1225,88.6279 -16.4191,100.995 -13.4277,110.984\"/>\r\n",
       "<text text-anchor=\"middle\" x=\"-21.768\" y=\"91.0209\" font-family=\"Times New Roman,serif\" font-size=\"14.00\">4</text>\r\n",
       "</g>\r\n",
       "<!-- 6 -->\r\n",
       "<g id=\"node7\" class=\"node\"><title>6</title>\r\n",
       "<ellipse fill=\"none\" stroke=\"black\" cx=\"103.155\" cy=\"26.2093\" rx=\"27\" ry=\"18\"/>\r\n",
       "<text text-anchor=\"middle\" x=\"103.155\" y=\"29.9093\" font-family=\"Times New Roman,serif\" font-size=\"14.00\">6</text>\r\n",
       "</g>\r\n",
       "<!-- 5&#45;&#45;6 -->\r\n",
       "<g id=\"edge9\" class=\"edge\"><title>5&#45;&#45;6</title>\r\n",
       "<path fill=\"none\" stroke=\"black\" d=\"M82.6625,-34.2213C87.0006,-21.4286 92.8312,-4.23465 97.1639,8.54191\"/>\r\n",
       "<text text-anchor=\"middle\" x=\"86.4132\" y=\"-16.6397\" font-family=\"Times New Roman,serif\" font-size=\"14.00\">7</text>\r\n",
       "</g>\r\n",
       "<!-- 6&#45;&#45;9 -->\r\n",
       "<g id=\"edge10\" class=\"edge\"><title>6&#45;&#45;9</title>\r\n",
       "<path fill=\"none\" stroke=\"black\" d=\"M88.9472,41.7118C81.0615,50.316 71.2803,60.9885 63.3797,69.609\"/>\r\n",
       "<text text-anchor=\"middle\" x=\"72.6635\" y=\"51.8604\" font-family=\"Times New Roman,serif\" font-size=\"14.00\">1</text>\r\n",
       "</g>\r\n",
       "<!-- 8&#45;&#45;9 -->\r\n",
       "<g id=\"edge13\" class=\"edge\"><title>8&#45;&#45;9</title>\r\n",
       "<path fill=\"none\" stroke=\"black\" d=\"M9.73823,115.431C16.5468,110.201 24.3162,104.233 31.142,98.9904\"/>\r\n",
       "<text text-anchor=\"middle\" x=\"16.9401\" y=\"103.411\" font-family=\"Times New Roman,serif\" font-size=\"14.00\">2</text>\r\n",
       "</g>\r\n",
       "</g>\r\n",
       "</svg>\r\n"
      ],
      "text/plain": [
       "IJuliaPortrayals.GraphViz(\"graph graphname {\\n1 -- 2 [\\\"label\\\"=\\\"2\\\"]\\n1 -- 3 [\\\"label\\\"=\\\"3\\\"]\\n1 -- 4 [\\\"label\\\"=\\\"4\\\"]\\n2 -- 3 [\\\"label\\\"=\\\"4\\\"]\\n2 -- 4 [\\\"label\\\"=\\\"5\\\"]\\n2 -- 7 [\\\"label\\\"=\\\"1\\\"]\\n3 -- 4 [\\\"label\\\"=\\\"6\\\"]\\n3 -- 5 [\\\"label\\\"=\\\"1\\\"]\\n5 -- 6 [\\\"label\\\"=\\\"7\\\"]\\n6 -- 9 [\\\"label\\\"=\\\"1\\\"]\\n7 -- 9 [\\\"label\\\"=\\\"3\\\"]\\n7 -- 8 [\\\"label\\\"=\\\"4\\\"]\\n8 -- 9 [\\\"label\\\"=\\\"2\\\"]\\n}\\n\",\"neato\",\"svg\")"
      ]
     },
     "execution_count": 7,
     "metadata": {},
     "output_type": "execute_result"
    }
   ],
   "source": [
    "# What is the optimal tripartition?\n",
    "GraphViz(to_dot(G),\"neato\",\"svg\")"
   ]
  },
  {
   "cell_type": "code",
   "execution_count": 8,
   "metadata": {},
   "outputs": [
    {
     "data": {
      "text/plain": [
       "9×9 Array{Int64,2}:\n",
       "  9  -2  -3  -4   0   0   0   0   0\n",
       " -2  12  -4  -5   0   0  -1   0   0\n",
       " -3  -4  14  -6  -1   0   0   0   0\n",
       " -4  -5  -6  15   0   0   0   0   0\n",
       "  0   0  -1   0   8  -7   0   0   0\n",
       "  0   0   0   0  -7   8   0   0  -1\n",
       "  0  -1   0   0   0   0   8  -4  -3\n",
       "  0   0   0   0   0   0  -4   6  -2\n",
       "  0   0   0   0   0  -1  -3  -2   6"
      ]
     },
     "execution_count": 8,
     "metadata": {},
     "output_type": "execute_result"
    }
   ],
   "source": [
    "L=laplacian_matrix(G,wn)"
   ]
  },
  {
   "cell_type": "code",
   "execution_count": 9,
   "metadata": {},
   "outputs": [
    {
     "data": {
      "text/plain": [
       "normalized (generic function with 1 method)"
      ]
     },
     "execution_count": 9,
     "metadata": {},
     "output_type": "execute_result"
    }
   ],
   "source": [
    "# Normalized Laplacian matrix\n",
    "function normalized(L::Matrix)\n",
    "    D=1.0./sqrt(diag(L))\n",
    "    n=length(D)\n",
    "    Ln=map(Float64,Symmetric([L[i,j]*D[i]*D[j] for i=1:n,j=1:n]))\n",
    "    # Set diagonal exactly to 1\n",
    "    for i=1:n\n",
    "        Ln[i,i]=1.0\n",
    "    end\n",
    "    Ln  \n",
    "end"
   ]
  },
  {
   "cell_type": "code",
   "execution_count": 10,
   "metadata": {},
   "outputs": [
    {
     "data": {
      "text/plain": [
       "9×9 Array{Float64,2}:\n",
       "  1.0       -0.19245   -0.267261   …   0.0        0.0        0.0     \n",
       " -0.19245    1.0       -0.308607      -0.102062   0.0        0.0     \n",
       " -0.267261  -0.308607   1.0            0.0        0.0        0.0     \n",
       " -0.344265  -0.372678  -0.414039       0.0        0.0        0.0     \n",
       "  0.0        0.0       -0.0944911      0.0        0.0        0.0     \n",
       "  0.0        0.0        0.0        …   0.0        0.0       -0.144338\n",
       "  0.0       -0.102062   0.0            1.0       -0.57735   -0.433013\n",
       "  0.0        0.0        0.0           -0.57735    1.0       -0.333333\n",
       "  0.0        0.0        0.0           -0.433013  -0.333333   1.0     "
      ]
     },
     "execution_count": 10,
     "metadata": {},
     "output_type": "execute_result"
    }
   ],
   "source": [
    "Ln=normalized(L)"
   ]
  },
  {
   "cell_type": "code",
   "execution_count": 11,
   "metadata": {},
   "outputs": [
    {
     "data": {
      "text/plain": [
       "([4.93432e-16,0.788523,1.21049],\n",
       "[-0.333333 0.383624 -0.121476; -0.333333 0.323492 -0.129956; … ; -0.333333 -0.424836 -0.311411; -0.333333 -0.395981 -0.18078],\n",
       "\n",
       "3,1,9,[0.0,0.0,0.0,0.0,0.0,0.0,0.0,0.0,0.0])"
      ]
     },
     "execution_count": 11,
     "metadata": {},
     "output_type": "execute_result"
    }
   ],
   "source": [
    "# Proportional cut, the clustering is visible in the components of v_2 and v_3\n",
    "λ,Y=eigs(L,nev=3,which=:SM, v0=ones(n))"
   ]
  },
  {
   "cell_type": "code",
   "execution_count": 12,
   "metadata": {},
   "outputs": [
    {
     "data": {
      "text/plain": [
       "Clustering.KmeansResult{Float64}([-0.333333 -0.333333 -0.333333; 0.354766 -0.121365 -0.392111; -0.110459 0.608256 -0.258226],[1,1,1,1,2,2,3,3,3],[0.000954196,0.00135823,0.00133947,0.000178756,0.000693622,0.000693622,0.00192775,0.00389961,0.00601275],[4,2,3],[4.0,2.0,3.0],0.017057998334039592,2,true)"
      ]
     },
     "execution_count": 12,
     "metadata": {},
     "output_type": "execute_result"
    }
   ],
   "source": [
    "out=kmeans(Y',3)"
   ]
  },
  {
   "cell_type": "code",
   "execution_count": 13,
   "metadata": {},
   "outputs": [
    {
     "data": {
      "text/plain": [
       "Clustering.KmeansResult{Float64}([-0.107833 -0.107833 -0.107833; 0.0909339 -0.144522 -0.104042; 0.011189 0.131546 -0.19892],[1,1,1,1,3,3,2,2,2],[6.01793e-5,0.000196695,0.000160142,3.37657e-5,8.23425e-5,8.23425e-5,0.00019114,0.000443174,0.000779667],[4,3,2],[4.0,3.0,2.0],0.00202944764931251,2,true)"
      ]
     },
     "execution_count": 13,
     "metadata": {},
     "output_type": "execute_result"
    }
   ],
   "source": [
    "# Normalized cut\n",
    "# Lanczos cannot be used for \"smallest in magnitude\" evals of a singular matrix\n",
    "# The above case is exception, rather than rule.\n",
    "# λ,Y=eigs(Ln,nev=3,which=:SM) \n",
    "μ,Y=eig(Ln)\n",
    "Y=Y[:,1:3]\n",
    "D=sqrt(diag(L))\n",
    "Y=diagm(1.0./D)*Y\n",
    "out=kmeans(Y',3)"
   ]
  },
  {
   "cell_type": "markdown",
   "metadata": {},
   "source": [
    "### Example - Concentric rings"
   ]
  },
  {
   "cell_type": "code",
   "execution_count": 14,
   "metadata": {},
   "outputs": [],
   "source": [
    "using Winston\n",
    "using Colors\n",
    "using Distances"
   ]
  },
  {
   "cell_type": "code",
   "execution_count": 15,
   "metadata": {},
   "outputs": [
    {
     "data": {
      "text/plain": [
       "plotKpartresult (generic function with 1 method)"
      ]
     },
     "execution_count": 15,
     "metadata": {},
     "output_type": "execute_result"
    }
   ],
   "source": [
    "function plotKpartresult(C::Vector,X::Array)\n",
    "    p=FramedPlot()\n",
    "    for j=1:k\n",
    "        # Random color\n",
    "        col=RGB(rand(),rand(),rand())\n",
    "        p1=Points(X[1,find(C.==j)],\n",
    "        X[2,find(C.==j)],\"color\",col,symbolkind=\"dot\")\n",
    "        add(p,p1)\n",
    "    end\n",
    "    p\n",
    "end"
   ]
  },
  {
   "cell_type": "code",
   "execution_count": 16,
   "metadata": {},
   "outputs": [
    {
     "data": {
      "text/plain": [
       "([-4,5],[2,4,1,3],[673,989,867,553])"
      ]
     },
     "execution_count": 16,
     "metadata": {},
     "output_type": "execute_result"
    }
   ],
   "source": [
    "# Generate concentric rings\n",
    "k=4\n",
    "# Center\n",
    "center=[rand(-5:5);rand(-5:5)]\n",
    "# Radii\n",
    "radii=randperm(4)[1:k]\n",
    "# Number of points in circles\n",
    "sizes=rand(500:1000,k)\n",
    "center,radii,sizes"
   ]
  },
  {
   "cell_type": "code",
   "execution_count": 17,
   "metadata": {},
   "outputs": [
    {
     "data": {
      "image/png": "[encoded data removed]",
      "text/plain": [
       "Winston.FramedPlot(...)"
      ]
     },
     "execution_count": 17,
     "metadata": {},
     "output_type": "execute_result"
    }
   ],
   "source": [
    "# Points\n",
    "m=sum(sizes)\n",
    "X=Array(Float64,2,m)\n",
    "first=0\n",
    "last=0\n",
    "for j=1:k\n",
    "    first=last+1\n",
    "    last=last+sizes[j]\n",
    "    # Random angles\n",
    "    ϕ=2*π*rand(sizes[j])\n",
    "    for i=first:last\n",
    "        l=i-first+1\n",
    "        X[:,i]=center+radii[j]*[cos(ϕ[l]);sin(ϕ[l])]+(rand(2)-0.5)/50\n",
    "    end\n",
    "end\n",
    "Winston.plot(X[1,:],X[2,:],\".\")"
   ]
  },
  {
   "cell_type": "code",
   "execution_count": 18,
   "metadata": {},
   "outputs": [
    {
     "data": {
      "text/plain": [
       "0.1"
      ]
     },
     "execution_count": 18,
     "metadata": {},
     "output_type": "execute_result"
    }
   ],
   "source": [
    "S=pairwise(SqEuclidean(),X)\n",
    "# S=pairwise(Cityblock(),X)\n",
    "β=0.1"
   ]
  },
  {
   "cell_type": "code",
   "execution_count": 19,
   "metadata": {},
   "outputs": [
    {
     "data": {
      "text/plain": [
       "3082×3082 Array{Float64,2}:\n",
       " 1.0        0.224372   0.338577   …  0.72107    0.844102   0.122495 \n",
       " 0.224372   1.0        0.393116      0.165102   0.0836148  0.850595 \n",
       " 0.338577   0.393116   1.0           0.0995322  0.266955   0.154825 \n",
       " 0.207013   0.788496   0.716846      0.0875645  0.101568   0.463121 \n",
       " 0.537837   0.56627    0.202142      0.670409   0.237397   0.544744 \n",
       " 0.558315   0.545804   0.201423   …  0.695651   0.251477   0.519341 \n",
       " 0.608265   0.239784   0.809297      0.205489   0.60605    0.0881986\n",
       " 0.979911   0.208035   0.402417      0.601378   0.898433   0.101826 \n",
       " 0.69188    0.223525   0.728909      0.255208   0.701156   0.0844273\n",
       " 0.554704   0.253692   0.858753      0.178393   0.541989   0.0924314\n",
       " 0.616354   0.492575   0.20124    …  0.760861   0.294331   0.452629 \n",
       " 0.844946   0.330531   0.225665      0.904015   0.519888   0.250473 \n",
       " 0.310805   0.878774   0.260107      0.324096   0.113169   0.871355 \n",
       " ⋮                                ⋱             ⋮                   \n",
       " 0.110469   0.407828   0.781756   …  0.0275849  0.0682018  0.171268 \n",
       " 0.575943   0.090541   0.510076      0.180112   0.760249   0.0277907\n",
       " 0.580967   0.0899421  0.504343      0.183183   0.767415   0.0276885\n",
       " 0.418071   0.107957   0.672327      0.103923   0.531311   0.0308145\n",
       " 0.0995811  0.473374   0.71371       0.0272802  0.0552221  0.218521 \n",
       " 0.259875   0.157488   0.85505    …  0.0544022  0.281778   0.0456333\n",
       " 0.860609   0.0841631  0.248163      0.498598   0.997093   0.0355326\n",
       " 0.12959    0.831827   0.146442      0.151443   0.0360277  0.997098 \n",
       " 0.37863    0.364609   0.0820721     0.676637   0.147175   0.434166 \n",
       " 0.72107    0.165102   0.0995322     1.0        0.459948   0.136314 \n",
       " 0.844102   0.0836148  0.266955   …  0.459948   1.0        0.0340305\n",
       " 0.122495   0.850595   0.154825      0.136314   0.0340305  1.0      "
      ]
     },
     "execution_count": 19,
     "metadata": {},
     "output_type": "execute_result"
    }
   ],
   "source": [
    "W=exp(-β*S)"
   ]
  },
  {
   "cell_type": "code",
   "execution_count": 20,
   "metadata": {},
   "outputs": [
    {
     "data": {
      "text/plain": [
       "3082×3082 Array{Float64,2}:\n",
       "  1.0          -0.000166879  -0.000252191  …  -0.000713968  -0.000103838\n",
       " -0.000166879   1.0          -0.000294166     -7.10503e-5   -0.000724371\n",
       " -0.000252191  -0.000294166   1.0             -0.000227174  -0.000132043\n",
       " -0.000154318  -0.000590497  -0.000537627     -8.65016e-5   -0.000395291\n",
       " -0.000398014  -0.000420989  -0.000150502     -0.000200711  -0.000461577\n",
       " -0.000413083  -0.000405691  -0.000149936  …  -0.000212572  -0.000439962\n",
       " -0.000452089  -0.00017904   -0.000605169     -0.000514623  -7.50581e-5 \n",
       " -0.000726618  -0.000154973  -0.000300216     -0.000761122  -8.64535e-5 \n",
       " -0.000513519  -0.000166668  -0.000544298     -0.000594552  -7.17485e-5 \n",
       " -0.000412754  -0.000189643  -0.000642888     -0.000460754  -7.87505e-5 \n",
       " -0.000455821  -0.000365963  -0.000149733  …  -0.000248685  -0.000383275\n",
       " -0.000624888  -0.000245575  -0.000167909     -0.000439271  -0.000212099\n",
       " -0.000230721  -0.000655355  -0.000194263     -9.59785e-5   -0.000740625\n",
       "  ⋮                                        ⋱   ⋮                        \n",
       " -9.38193e-5   -0.000347959  -0.000667973  …  -6.61753e-5   -0.000166545\n",
       " -0.000487619  -7.70098e-5   -0.000434483     -0.00073537   -2.69404e-5 \n",
       " -0.000492037  -7.65259e-5   -0.000429743     -0.000742549  -2.68503e-5 \n",
       " -0.000354621  -9.19954e-5   -0.000573762     -0.000514887  -2.99277e-5 \n",
       " -8.46803e-5   -0.000404399  -0.00061061      -5.36497e-5   -0.000212767\n",
       " -0.00022037   -0.000134164  -0.000729485  …  -0.000272989  -4.43071e-5 \n",
       " -0.00072846   -7.15684e-5   -0.000211336     -0.000964238  -3.44375e-5 \n",
       " -0.000109732  -0.000707608  -0.000124756     -3.48535e-5   -0.000966724\n",
       " -0.000319066  -0.000308669  -6.95822e-5      -0.000141693  -0.000418915\n",
       " -0.000607294  -0.000139693  -8.43378e-5      -0.000442567  -0.000131452\n",
       " -0.000713968  -7.10503e-5   -0.000227174  …   1.0          -3.29576e-5 \n",
       " -0.000103838  -0.000724371  -0.000132043     -3.29576e-5    1.0        "
      ]
     },
     "execution_count": 20,
     "metadata": {},
     "output_type": "execute_result"
    }
   ],
   "source": [
    "D=vec(sum(W,2))\n",
    "L=diagm(D)-W\n",
    "Ln=normalized(L)"
   ]
  },
  {
   "cell_type": "code",
   "execution_count": 21,
   "metadata": {},
   "outputs": [
    {
     "name": "stdout",
     "output_type": "stream",
     "text": [
      "λ = [-3.97645e-17,0.416796,0.526504,0.531693]\n"
     ]
    },
    {
     "data": {
      "image/png": "[encoded data removed]",
      "text/plain": [
       "Winston.FramedPlot(...)"
      ]
     },
     "execution_count": 21,
     "metadata": {},
     "output_type": "execute_result"
    }
   ],
   "source": [
    "# Normalized Laplacian\n",
    "λ,Y=eigs(Ln,nev=k,which=:SM, v0=ones(m))\n",
    "@show λ\n",
    "Y=diagm(1.0./sqrt(D))*Y\n",
    "out=kmeans(Y',k)\n",
    "plotKpartresult(out.assignments,X)"
   ]
  },
  {
   "cell_type": "code",
   "execution_count": 22,
   "metadata": {},
   "outputs": [
    {
     "data": {
      "image/png": "[encoded data removed]",
      "text/plain": [
       "Winston.FramedPlot(...)"
      ]
     },
     "execution_count": 22,
     "metadata": {},
     "output_type": "execute_result"
    }
   ],
   "source": [
    "# Laplacian\n",
    "λ,Y=eigs(L,nev=k,which=:SM, v0=ones(m))\n",
    "out=kmeans(Y',k)\n",
    "plotKpartresult(out.assignments,X)"
   ]
  },
  {
   "cell_type": "markdown",
   "metadata": {
    "collapsed": true
   },
   "source": [
    "Caveat! There is a little bit of cheating here."
   ]
  },
  {
   "cell_type": "code",
   "execution_count": null,
   "metadata": {
    "collapsed": true
   },
   "outputs": [],
   "source": []
  }
 ],
 "metadata": {
  "anaconda-cloud": {},
  "kernelspec": {
   "display_name": "Julia 0.5.1",
   "language": "julia",
   "name": "julia-0.5"
  },
  "language_info": {
   "file_extension": ".jl",
   "mimetype": "application/julia",
   "name": "julia",
   "version": "0.5.1"
  }
 },
 "nbformat": 4,
 "nbformat_minor": 1
}
