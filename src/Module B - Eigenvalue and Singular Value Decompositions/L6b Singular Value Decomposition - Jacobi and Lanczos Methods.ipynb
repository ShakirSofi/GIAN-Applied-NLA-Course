{
 "cells": [
  {
   "cell_type": "markdown",
   "metadata": {},
   "source": [
    "# Singular Value Decomposition - Jacobi and Lanczos Methods\n",
    "\n",
    "Since computing the SVD of $A$ can be seen as computing the EVD of the symmetric matrices \n",
    "$A^*A$, $AA^*$, or $\\begin{bmatrix}0 & A \\\\ A^* & 0 \\end{bmatrix}$, simple modifications of the corresponding EVD algorithms yield version for computing the SVD.\n",
    "\n",
    "For more details on one-sided Jacobi method, see \n",
    "[Z. Drmač, Computing Eigenvalues and Singular Values to High Relative Accuracy][Hog14a]\n",
    "and the references therein.\n",
    "\n",
    "[Hog14a]: #1 \"L. Hogben, ed., 'Handbook of Linear Algebra', pp. 59.1-59.21, CRC Press, Boca Raton, 2014.\"\n",
    "\n",
    "\n",
    "## Prerequisites\n",
    "\n",
    "The reader should be familiar with concepts of singular values and vectors, related perturbation theory, and algorithms, and Jacobi and Lanczos methods for the symmetric eigenvalue decomposition.\n",
    "\n",
    " \n",
    "## Competences \n",
    "\n",
    "The reader should be able to recognise matrices which warrant high relative accuracy and to apply \n",
    "Jacobi method to them. The reader should be able to recognise matrices to which Lanczos method can be efficiently applied and do so.\n"
   ]
  },
  {
   "cell_type": "markdown",
   "metadata": {},
   "source": [
    "## One-sided Jacobi method\n",
    "\n",
    "Let $A\\in\\mathbb{R}^{m\\times n}$ with $\\mathop{\\mathrm{rank}}(A)=n$ (therefore, $m\\geq n$) and\n",
    "$A=U\\Sigma V^T$ its thin SVD.\n",
    "\n",
    "### Definition\n",
    "\n",
    "Let $A=BD$, where $D=\\mathop{\\mathrm{diag}} (\\| A_{:,1}\\|_2, \\ldots, \\|A_{:,n}\\|_2)$ is a __diagonal scaling__ , and $B$ is the __scaled matrix__ of $A$ from the right. \n",
    "Then $[B^T B]_{i,i}=1$.\n",
    "\n",
    "### Facts\n",
    "\n",
    "1. Let $\\tilde U$, $\\tilde V$ and $\\tilde \\Sigma$ be the approximations of $U$, $V$ and $\\Sigma$, respectively, computed by a backward stable algorithm as \n",
    "$A+\\Delta A=\\tilde U\\tilde \\Sigma \\tilde V^T$. Since the orthogonality of $\\tilde U$ and $\\tilde V$ cannot be guaranteed, this product in general does not represent and SVD. There exist nearby orthogonal matrices $\\hat U$ and $\\hat V$ such that \n",
    "$(I+E_1)(A+\\Delta A)(I+E_2)=\\hat U \\tilde \\Sigma \\hat V^T$, where departures from orthogonalithy, \n",
    "$E_1$ and $E_2$, are small in norm.\n",
    "\n",
    "2. Standard algorithms compute the singular values with backward error \n",
    "$\\| \\Delta A\\|\\leq \\phi\\varepsilon \\|A\\|_2$, where $\\varepsilon$ is machine precision and \n",
    "$\\phi$ is a slowly growing function og $n$. The best error bound for the singular values is \n",
    "$|\\sigma_j-\\tilde \\sigma_j|\\leq \\| \\Delta A\\|_2$, and the best relative error bound is\n",
    "$$\n",
    "\\max_j \\frac{|\\sigma_j-\\tilde\\sigma_j|}{\\sigma_j}\\leq \\frac{\\| \\Delta A \\|_2}{\\sigma_j} \\leq\n",
    "\\phi \\varepsilon \\kappa_2(A).\n",
    "$$\n",
    "\n",
    "3. Let $\\|[\\Delta A]_{:,j}\\|_2\\leq \\varepsilon \\| A_{:,j}\\|_2$ for all $j$. Then\n",
    "$A+\\Delta A=(B+\\Delta B)D$ and $\\|\\Delta B\\|_F\\leq \\sqrt{n}\\varepsilon$, and\n",
    "$$\n",
    "\\max_j \\frac{|\\sigma_j-\\tilde\\sigma_j|}{\\sigma_j}\\leq \n",
    "\\| (\\Delta B) B^{\\dagger} \\|_2\\leq\n",
    "\\sqrt{n}\\varepsilon \\| B^{\\dagger}\\|_2.\n",
    "$$\n",
    "This is Fact 3 from the [Relative perturbation theory](L5b Singular Value Decomposition - Perturbation Theory .ipynb).\n",
    "\n",
    "4. It holds\n",
    "$$\n",
    "\\| B^{\\dagger} \\| \\leq \\kappa_2(B) \\leq \\sqrt{n} \\min_{S=\\mathop{\\mathrm{diag}}} \n",
    "\\kappa_2(A\\cdot S)\\leq \\sqrt{n}\\,\\kappa_2(A).\n",
    "$$\n",
    "Therefore, numerical algorithm with column-wise small backward error computes singular values more accurately than an algorithm with small norm-wise backward error.\n",
    "\n",
    "5. In each step, one-sided Jacobi method computes the Jacobi rotation matrix from the pivot submatrix of the current Gram matrix $A^TA$. Afterwards, $A$ is multiplied with the computed rotation matrix from the right (only two columns are affected). \n",
    "Convergence of the Jacobi method for the symmetric matrix $A^TA$ to a diagonal matrix, implies that the matrix $A$ converges to the matrix $AV$ with orthogonal columns and $V^TV=I$. \n",
    "Then $AV=U\\Sigma$, $\\Sigma=\\mathop{\\mathrm{diag}}(\\| A_{:,1}\\|_2, \\ldots, \\| A_{:,n}\\|_2)$, $U=AV\\Sigma^{-1}$, and  $A=U\\Sigma V^T$ is the SVD of $A$.\n",
    "\n",
    "6. One-sided Jacobi method computes the SVD with error bound from Facts 2 and 3, provided that the condition of the intermittent scaled matrices does not grow much. There is overwhelming numerical evidence for this. Alternatively, \n",
    "if $A$ is square, the one-sided Jacobi method can be applied to the transposed matrix $A^T=DB^T$ and the same error bounds apply, but the condition of the scaled matrix  (_this time from the left_) does not change. This approach is slower.\n",
    "\n",
    "7. One-sided Jacobi method can be preconditioned by applying one QR factorization with full pivoting and one QR factorization withour pivoting to $A$, to obtain faster convergence, without sacrifying accuracy. This method is implemented in the LAPACK routine \n",
    "[DGESVJ](http://www.netlib.org/lapack/explore-html-3.3.1/d1/d5e/dgesvj_8f_source.html).\n",
    "_Writing the wrapper for `DGESVJ` is a tutorial assignment._\n",
    "\n",
    "### Example - Standard matrix"
   ]
  },
  {
   "cell_type": "code",
   "execution_count": 1,
   "metadata": {},
   "outputs": [],
   "source": [
    "using LinearAlgebra"
   ]
  },
  {
   "cell_type": "code",
   "execution_count": 2,
   "metadata": {},
   "outputs": [
    {
     "data": {
      "text/plain": [
       "myJacobiR (generic function with 1 method)"
      ]
     },
     "execution_count": 2,
     "metadata": {},
     "output_type": "execute_result"
    }
   ],
   "source": [
    "function myJacobiR(A1::AbstractMatrix)\n",
    "    A=deepcopy(A1)\n",
    "    m,n=size(A)\n",
    "    T=typeof(A[1,1])\n",
    "    V=Matrix{T}(I,n,n)\n",
    "    # Tolerance for rotation\n",
    "    tol=sqrt(map(T,n))*eps(T)\n",
    "    # Counters\n",
    "    p=n*(n-1)/2\n",
    "    sweep=0\n",
    "    pcurrent=0\n",
    "    # First criterion is for standard accuracy, second one is for relative accuracy\n",
    "    # while sweep<30 && vecnorm(A-diagm(diag(A)))>tol\n",
    "    while sweep<30 && pcurrent<p\n",
    "        sweep+=1\n",
    "        # Row-cyclic strategy\n",
    "        for i = 1 : n-1 \n",
    "            for j = i+1 : n\n",
    "                # Compute the 2 x 2 sumbatrix of A'*A\n",
    "                F=A[:,[i,j]]'*A[:,[i,j]]\n",
    "                # Check the tolerance - the first criterion is standard,\n",
    "                # the second one is for relative accuracy               \n",
    "                # if A[i,j]!=zero(T)\n",
    "                # \n",
    "                if abs(F[1,2])>tol*sqrt(F[1,1]*F[2,2])\n",
    "                    # Compute c and s\n",
    "                    τ=(F[1,1]-F[2,2])/(2*F[1,2])\n",
    "                    t=sign(τ)/(abs(τ)+sqrt(1+τ^2))\n",
    "                    c=1/sqrt(1+t^2)\n",
    "                    s=c*t\n",
    "                    G=LinearAlgebra.Givens(i,j,c,s)\n",
    "                    # A*=G'\n",
    "                    rmul!(A,adjoint(G))\n",
    "                    # V*=G'\n",
    "                    rmul!(V,adjoint(G))\n",
    "                    pcurrent=0\n",
    "                else\n",
    "                    pcurrent+=1\n",
    "                end\n",
    "            end\n",
    "        end\n",
    "    end\n",
    "    σ=[norm(A[:,k]) for k=1:n]\n",
    "    for k=1:n\n",
    "        A[:,k]./=σ[k]\n",
    "    end\n",
    "    A, σ, V\n",
    "end"
   ]
  },
  {
   "cell_type": "code",
   "execution_count": 3,
   "metadata": {},
   "outputs": [
    {
     "data": {
      "text/plain": [
       "8×5 Array{Float64,2}:\n",
       "  5.0   6.0   7.0  -2.0  -3.0\n",
       "  7.0   7.0  -3.0   3.0   3.0\n",
       " -7.0   5.0  -7.0   0.0  -7.0\n",
       " -4.0  -2.0   8.0   4.0  -5.0\n",
       " -9.0   5.0   4.0  -6.0   9.0\n",
       "  0.0   4.0  -7.0   9.0  -1.0\n",
       " -7.0   5.0  -2.0  -4.0   3.0\n",
       " -6.0  -3.0  -5.0   2.0   7.0"
      ]
     },
     "execution_count": 3,
     "metadata": {},
     "output_type": "execute_result"
    }
   ],
   "source": [
    "m=8\n",
    "n=5\n",
    "import Random\n",
    "Random.seed!(432)\n",
    "A=rand(-9.0:9,m,n)"
   ]
  },
  {
   "cell_type": "code",
   "execution_count": 4,
   "metadata": {},
   "outputs": [
    {
     "data": {
      "text/plain": [
       "([0.2482402898404233 0.3312662418502852 … 0.1055051535449985 -0.4623370114170067; 0.18104550187441695 0.6668405090054319 … 0.22203159527023808 -0.05260942822581889; … ; -0.46554731473491245 0.12075060243387958 … -0.08179474976634259 -0.28516867675773205; -0.396327621736683 -0.09771427184908872 … 0.2230320064854875 0.44040004543815825], [19.69791263939664, 14.158291869993421, 17.724237830879755, 8.713089284820876, 13.359209460290945], [0.7684398474266225 0.545270168576621 … -0.20769614669660813 0.2529749836935511; -0.12686817950503626 0.618574544690759 … 0.21300555512086794 -0.7285971737841921; … ; 0.3383610836709141 -0.17276376095517848 … 0.7963152599950453 0.1257308711224046; -0.510201873101561 0.5341184540130677 … 0.28136229663196544 0.6075445909366153])"
      ]
     },
     "execution_count": 4,
     "metadata": {},
     "output_type": "execute_result"
    }
   ],
   "source": [
    "U,σ,V=myJacobiR(A)"
   ]
  },
  {
   "cell_type": "code",
   "execution_count": 5,
   "metadata": {},
   "outputs": [
    {
     "data": {
      "text/plain": [
       "8×5 Array{Float64,2}:\n",
       "  8.88178e-16   0.0          -8.88178e-16  -1.77636e-15   8.88178e-16\n",
       "  2.22045e-15   8.88178e-15   1.77636e-15   0.0           7.77156e-16\n",
       " -3.10862e-15   1.33227e-15  -8.88178e-16   0.0           0.0\n",
       " -2.66454e-15  -1.77636e-15   3.55271e-15   0.0          -4.44089e-16\n",
       "  1.77636e-15   2.66454e-15  -1.77636e-15   1.33227e-15  -2.22045e-16\n",
       "  0.0           1.22125e-15  -3.55271e-15   0.0           8.88178e-16\n",
       "  1.77636e-15   1.11022e-15  -1.88738e-15   3.33067e-16   8.88178e-16\n",
       "  1.77636e-15  -2.44249e-15  -8.88178e-16   2.66454e-15  -1.77636e-15"
      ]
     },
     "execution_count": 5,
     "metadata": {},
     "output_type": "execute_result"
    }
   ],
   "source": [
    "# Residual \n",
    "A*V-U*Diagonal(σ)"
   ]
  },
  {
   "cell_type": "code",
   "execution_count": 6,
   "metadata": {},
   "outputs": [
    {
     "data": {
      "text/plain": [
       "(2.8484213703573437e-16, 2.0024121831055014e-15)"
      ]
     },
     "execution_count": 6,
     "metadata": {},
     "output_type": "execute_result"
    }
   ],
   "source": [
    "# Orthogonality\n",
    "norm(U'*U-I),norm(V'*V-I)"
   ]
  },
  {
   "cell_type": "markdown",
   "metadata": {},
   "source": [
    "### Example - Strongly scaled matrix"
   ]
  },
  {
   "cell_type": "code",
   "execution_count": 7,
   "metadata": {},
   "outputs": [
    {
     "data": {
      "text/plain": [
       "20×15 Array{Float64,2}:\n",
       " 0.00163535   2.04127e-6  5.57394e8  1653.32    …  0.000355849  0.000172264\n",
       " 0.0152234    1.60298e-5  3.21319e8  1417.91       0.0577621    0.000482318\n",
       " 0.0135573    1.97271e-5  4.69189e8  1237.41       0.0494657    0.000123935\n",
       " 0.0139728    2.6469e-5   1.07269e8  1500.64       0.0383238    1.18176e-5\n",
       " 0.0085976    1.63345e-5  2.28983e8   599.945      0.0306203    0.000465759\n",
       " 0.00921359   2.18669e-5  4.06494e8  1310.12    …  0.033987     0.000227803\n",
       " 0.00502062   2.12289e-6  1.74814e8   815.826      0.0245908    0.000419853\n",
       " 0.00540494   2.02431e-6  3.31743e8  1573.04       0.0306793    1.66013e-5\n",
       " 0.00321106   1.01959e-5  2.68079e8  1286.75       0.0240827    0.000275003\n",
       " 0.0136109    2.16633e-5  1.87685e8  1408.61       0.00840468   0.000468175\n",
       " 0.000814573  8.58802e-6  1.18332e8  1035.69    …  0.02762      0.000333906\n",
       " 0.00576585   3.05105e-8  4.94558e8  1663.94       0.027354     9.5413e-5\n",
       " 0.0125019    8.87508e-6  3.60466e8  1399.51       0.000332968  6.1243e-5\n",
       " 0.0157028    2.23623e-5  3.91234e8   220.676      0.0359708    1.19102e-5\n",
       " 0.00933143   1.5166e-5   5.31132e8  1312.49       0.0308228    0.000180979\n",
       " 0.0123304    1.09626e-5  1.14739e8  1475.69    …  0.0542702    8.74033e-5\n",
       " 0.00552795   2.97393e-6  2.02593e8  1360.52       0.0510224    0.000247284\n",
       " 0.0139336    1.42495e-5  8.50324e7  1588.33       0.0145036    0.000210936\n",
       " 0.0057167    2.71482e-5  2.33148e8  1270.88       0.0119103    0.000481609\n",
       " 0.00708082   2.36711e-5  9.46214e7    58.5338     0.00809591   0.000115746"
      ]
     },
     "execution_count": 7,
     "metadata": {},
     "output_type": "execute_result"
    }
   ],
   "source": [
    "m=20\n",
    "n=15\n",
    "B=rand(m,n)\n",
    "D=exp.(50*(rand(n).-0.5))\n",
    "A=B*Diagonal(D)"
   ]
  },
  {
   "cell_type": "code",
   "execution_count": 8,
   "metadata": {},
   "outputs": [
    {
     "data": {
      "text/plain": [
       "(26.75954852511155, 3.091038253831113e19)"
      ]
     },
     "execution_count": 8,
     "metadata": {},
     "output_type": "execute_result"
    }
   ],
   "source": [
    "cond(B), cond(A)"
   ]
  },
  {
   "cell_type": "code",
   "execution_count": 9,
   "metadata": {},
   "outputs": [],
   "source": [
    "U,σ,V=myJacobiR(A);"
   ]
  },
  {
   "cell_type": "code",
   "execution_count": 10,
   "metadata": {},
   "outputs": [
    {
     "data": {
      "text/plain": [
       "15×2 Array{Float64,2}:\n",
       "     1.43506e9        1.43506e9\n",
       " 12435.9          12435.9\n",
       "  2369.86          2369.86\n",
       "   795.418          795.418\n",
       "     0.306077         0.306077\n",
       "     0.252752         0.252752\n",
       "     0.212105         0.212105\n",
       "     0.15042          0.15042\n",
       "     0.0701108        0.0701108\n",
       "     0.0208543        0.0208543\n",
       "     0.00317477       0.00317477\n",
       "     0.00057964       0.00057964\n",
       "     2.16543e-5       2.16456e-5\n",
       "     1.2774e-6        1.27863e-6\n",
       "     4.64174e-11      4.64265e-11"
      ]
     },
     "execution_count": 10,
     "metadata": {},
     "output_type": "execute_result"
    }
   ],
   "source": [
    "[sort(σ,rev=true) svdvals(A)]"
   ]
  },
  {
   "cell_type": "code",
   "execution_count": 11,
   "metadata": {},
   "outputs": [
    {
     "data": {
      "text/plain": [
       "15-element Array{Float64,1}:\n",
       "  3.3227676885739596e-16\n",
       "  5.850770946265119e-16\n",
       "  1.1513274760570937e-15\n",
       "  1.1434170857211684e-15\n",
       " -6.295127587245224e-13\n",
       "  9.652599640607925e-13\n",
       " -2.4925758609914474e-12\n",
       "  3.5688085641334733e-12\n",
       " -1.2330973545960155e-10\n",
       " -5.780403875019848e-9\n",
       "  1.2168553446030478e-8\n",
       "  4.37261768497587e-8\n",
       "  0.00040380897434291025\n",
       " -0.0009639349957532046\n",
       " -0.00019611364922447115"
      ]
     },
     "execution_count": 11,
     "metadata": {},
     "output_type": "execute_result"
    }
   ],
   "source": [
    "(sort(σ,rev=true)-svdvals(A))./sort(σ,rev=true)"
   ]
  },
  {
   "cell_type": "code",
   "execution_count": 12,
   "metadata": {},
   "outputs": [
    {
     "data": {
      "text/plain": [
       "1.8907453955989234e-7"
      ]
     },
     "execution_count": 12,
     "metadata": {},
     "output_type": "execute_result"
    }
   ],
   "source": [
    "norm(A*V-U*Diagonal(σ))"
   ]
  },
  {
   "cell_type": "code",
   "execution_count": 13,
   "metadata": {},
   "outputs": [
    {
     "data": {
      "text/plain": [
       "15×15 Array{Float64,2}:\n",
       "  0.0208543     7.43262e-21   2.06835e-8  …   1.92273e-17  -1.07598e-19\n",
       " -3.04759e-19   2.16543e-5    2.87211e-8     -8.31998e-18   4.64765e-20\n",
       " -1.01953e-17   7.08027e-20   1.43506e9      -1.51669e-17  -2.1684e-19\n",
       " -4.9775e-18    1.9022e-20   -5.26605e-8     -5.28593e-18   5.42101e-20\n",
       "  2.33088e-18   4.37555e-21  -1.32739e-7     -7.02198e-18  -9.11548e-20\n",
       " -1.89543e-18   1.00877e-20  -3.22074e-7  …   8.03076e-18   1.53234e-19\n",
       "  6.62091e-19   3.36342e-22  -1.15055e-7     -6.48782e-18  -3.68986e-20\n",
       " -3.75446e-18   2.87363e-20  -4.27341e-8      1.19742e-17  -2.1684e-19\n",
       " -1.10169e-18  -2.58023e-21   2.77694e-8      8.8502e-18    2.49856e-20\n",
       "  1.37723e-17   1.23272e-20  -1.4275e-7      -3.67685e-17   2.11758e-19\n",
       "  1.29746e-18  -7.73885e-22   2.62147e-7  …  -1.67111e-17  -5.06167e-20\n",
       " -1.17616e-18   9.67932e-21   1.56935e-7     -2.78772e-18  -2.43101e-19\n",
       " -3.17044e-18  -7.71476e-21  -1.04618e-7      1.96885e-18   1.22395e-20\n",
       " -4.02024e-18   5.07139e-21   1.07933e-8      0.0701108     1.55631e-20\n",
       " -4.25742e-18  -1.90262e-22  -2.22662e-7      4.79429e-18   0.00057964"
      ]
     },
     "execution_count": 13,
     "metadata": {},
     "output_type": "execute_result"
    }
   ],
   "source": [
    "U'*A*V"
   ]
  },
  {
   "cell_type": "markdown",
   "metadata": {},
   "source": [
    "In the alternative approach, we first apply QR factorization with column pivoting to obtain the square matrix."
   ]
  },
  {
   "cell_type": "code",
   "execution_count": 14,
   "metadata": {},
   "outputs": [],
   "source": [
    "# ?qr"
   ]
  },
  {
   "cell_type": "code",
   "execution_count": 15,
   "metadata": {},
   "outputs": [
    {
     "data": {
      "text/plain": [
       "QRPivoted{Float64,Array{Float64,2}}\n",
       "Q factor:\n",
       "20×20 LinearAlgebra.QRPackedQ{Float64,Array{Float64,2}}:\n",
       " -0.388412   -0.0479264  -0.0901355   …  -0.0218907  -0.171517     0.386332\n",
       " -0.223906   -0.14924     0.223979        0.0368078   0.0236053    0.256944\n",
       " -0.326947   -0.02355    -0.151893        0.140314    0.0424443   -0.14659\n",
       " -0.0747489   0.112529    0.399899       -0.204224   -0.148452     0.0316961\n",
       " -0.159564    0.121403   -0.163563        0.0711087   0.155336     0.252655\n",
       " -0.283259   -0.265199    0.13026     …   0.103384   -0.123699     0.0484948\n",
       " -0.121817    0.12121     0.00687646     -0.186515   -0.208554    -0.114623\n",
       " -0.23117    -0.212422    0.315704        0.357895    0.169817     0.0841875\n",
       " -0.186807    0.295615   -0.0469138      -0.450452   -0.153943    -0.169116\n",
       " -0.130786    0.0835048   0.262378       -0.13146    -0.216139    -0.276116\n",
       " -0.0824578   0.387278    0.00654484  …   0.419173   -0.456748     0.0482217\n",
       " -0.344626   -0.314982    0.18287        -0.0128189  -0.00191359  -0.575077\n",
       " -0.251185    0.0455933   0.0301416      -0.0400702   0.21861      0.214185\n",
       " -0.272626    0.0779621  -0.532488        0.029884   -0.0545255   -0.19205\n",
       " -0.370112   -0.0807658  -0.173368       -0.185833   -0.0713715    0.160548\n",
       " -0.0799542   0.26792     0.275818    …  -0.353917    0.0147515    0.286267\n",
       " -0.141174    0.362852    0.0357849       0.0936982   0.346973    -0.169554\n",
       " -0.0592535   0.407062    0.274907        0.396055   -0.0500675   -0.0936945\n",
       " -0.162466    0.264653    0.0180928      -0.0560905   0.600928    -0.0962359\n",
       " -0.0659355   0.141087   -0.207335        0.176111   -0.123689     0.0258894\n",
       "R factor:\n",
       "15×15 Array{Float64,2}:\n",
       " -1.43506e9  -12266.8  -5001.65  -1262.51   …  -3.58197e-6  -1.30289e-10\n",
       "  0.0         12329.2   1569.2     286.904      1.87337e-6   3.96263e-11\n",
       "  0.0             0.0   2376.09    245.038      2.00808e-7  -7.63124e-13\n",
       "  0.0             0.0      0.0     800.196      5.80305e-7  -2.27178e-11\n",
       "  0.0             0.0      0.0       0.0       -6.0976e-7    7.51654e-12\n",
       "  0.0             0.0      0.0       0.0    …  -1.35577e-7  -2.86144e-11\n",
       "  0.0             0.0      0.0       0.0        4.41169e-7  -3.58152e-11\n",
       "  0.0             0.0      0.0       0.0       -3.02616e-7  -7.49282e-12\n",
       "  0.0             0.0      0.0       0.0        3.36187e-7  -3.84604e-11\n",
       "  0.0             0.0      0.0       0.0       -6.99979e-7  -8.28262e-12\n",
       "  0.0             0.0      0.0       0.0    …  -4.70737e-7  -2.41669e-11\n",
       "  0.0             0.0      0.0       0.0       -3.75402e-8  -1.23095e-11\n",
       "  0.0             0.0      0.0       0.0        7.77538e-7   3.07884e-11\n",
       "  0.0             0.0      0.0       0.0       -1.27823e-6   6.86871e-13\n",
       "  0.0             0.0      0.0       0.0        0.0         -4.64174e-11\n",
       "permutation:\n",
       "15-element Array{Int64,1}:\n",
       "  3\n",
       "  8\n",
       "  4\n",
       " 10\n",
       "  9\n",
       "  6\n",
       " 11\n",
       " 12\n",
       " 14\n",
       "  1\n",
       " 13\n",
       " 15\n",
       "  2\n",
       "  7\n",
       "  5"
      ]
     },
     "execution_count": 15,
     "metadata": {},
     "output_type": "execute_result"
    }
   ],
   "source": [
    "Q=qr(A,Val(true))"
   ]
  },
  {
   "cell_type": "code",
   "execution_count": 16,
   "metadata": {},
   "outputs": [
    {
     "data": {
      "text/plain": [
       "15-element Array{Float64,1}:\n",
       "    -1.4350601753542063e9\n",
       " 12329.215551500374\n",
       "  2376.0919063498245\n",
       "   800.1960979637897\n",
       "     0.29565940474236224\n",
       "    -0.251419209335641\n",
       "     0.21487020138165053\n",
       "    -0.15119263239384015\n",
       "    -0.07083494808275359\n",
       "    -0.021073607981125758\n",
       "    -0.0031763290101384694\n",
       "     0.0005799940866045193\n",
       "     2.164039059684074e-5\n",
       "    -1.2782288545043553e-6\n",
       "    -4.641737428949141e-11"
      ]
     },
     "execution_count": 16,
     "metadata": {},
     "output_type": "execute_result"
    }
   ],
   "source": [
    "diag(Q.R)"
   ]
  },
  {
   "cell_type": "code",
   "execution_count": 17,
   "metadata": {},
   "outputs": [
    {
     "data": {
      "text/plain": [
       "20×20 LinearAlgebra.QRPackedQ{Float64,Array{Float64,2}}:\n",
       " -0.388412   -0.0479264  -0.0901355   …  -0.0218907  -0.171517     0.386332\n",
       " -0.223906   -0.14924     0.223979        0.0368078   0.0236053    0.256944\n",
       " -0.326947   -0.02355    -0.151893        0.140314    0.0424443   -0.14659\n",
       " -0.0747489   0.112529    0.399899       -0.204224   -0.148452     0.0316961\n",
       " -0.159564    0.121403   -0.163563        0.0711087   0.155336     0.252655\n",
       " -0.283259   -0.265199    0.13026     …   0.103384   -0.123699     0.0484948\n",
       " -0.121817    0.12121     0.00687646     -0.186515   -0.208554    -0.114623\n",
       " -0.23117    -0.212422    0.315704        0.357895    0.169817     0.0841875\n",
       " -0.186807    0.295615   -0.0469138      -0.450452   -0.153943    -0.169116\n",
       " -0.130786    0.0835048   0.262378       -0.13146    -0.216139    -0.276116\n",
       " -0.0824578   0.387278    0.00654484  …   0.419173   -0.456748     0.0482217\n",
       " -0.344626   -0.314982    0.18287        -0.0128189  -0.00191359  -0.575077\n",
       " -0.251185    0.0455933   0.0301416      -0.0400702   0.21861      0.214185\n",
       " -0.272626    0.0779621  -0.532488        0.029884   -0.0545255   -0.19205\n",
       " -0.370112   -0.0807658  -0.173368       -0.185833   -0.0713715    0.160548\n",
       " -0.0799542   0.26792     0.275818    …  -0.353917    0.0147515    0.286267\n",
       " -0.141174    0.362852    0.0357849       0.0936982   0.346973    -0.169554\n",
       " -0.0592535   0.407062    0.274907        0.396055   -0.0500675   -0.0936945\n",
       " -0.162466    0.264653    0.0180928      -0.0560905   0.600928    -0.0962359\n",
       " -0.0659355   0.141087   -0.207335        0.176111   -0.123689     0.0258894"
      ]
     },
     "execution_count": 17,
     "metadata": {},
     "output_type": "execute_result"
    }
   ],
   "source": [
    "Q.Q"
   ]
  },
  {
   "cell_type": "code",
   "execution_count": 18,
   "metadata": {},
   "outputs": [
    {
     "data": {
      "text/plain": [
       "20×15 Array{Float64,2}:\n",
       " -0.388412   -0.0479264  -0.0901355   …  -0.0329273    0.0119534   0.373435\n",
       " -0.223906   -0.14924     0.223979       -0.0380424    0.491801    0.10787\n",
       " -0.326947   -0.02355    -0.151893        0.314711     0.196132   -0.0648541\n",
       " -0.0747489   0.112529    0.399899        0.178201     0.0872934   0.485724\n",
       " -0.159564    0.121403   -0.163563        0.0751888   -0.504491    0.378364\n",
       " -0.283259   -0.265199    0.13026     …   0.195326    -0.469958   -0.259795\n",
       " -0.121817    0.12121     0.00687646     -0.513802     0.0559267  -0.126084\n",
       " -0.23117    -0.212422    0.315704       -0.177079     0.141514   -0.166623\n",
       " -0.186807    0.295615   -0.0469138       0.209624     0.148775   -0.0285983\n",
       " -0.130786    0.0835048   0.262378       -0.112254    -0.0450378  -0.0457073\n",
       " -0.0824578   0.387278    0.00654484  …   0.139997     0.126485   -0.119374\n",
       " -0.344626   -0.314982    0.18287         0.0560925   -0.135154    0.196404\n",
       " -0.251185    0.0455933   0.0301416      -0.257634     0.115878   -0.0882645\n",
       " -0.272626    0.0779621  -0.532488       -0.139388     0.0166706   0.0372309\n",
       " -0.370112   -0.0807658  -0.173368       -0.0671134   -0.0548221  -0.359775\n",
       " -0.0799542   0.26792     0.275818    …   0.0623455   -0.234471   -0.290566\n",
       " -0.141174    0.362852    0.0357849      -0.437761    -0.103279    0.208502\n",
       " -0.0592535   0.407062    0.274907       -0.00500224  -0.178862   -0.0781745\n",
       " -0.162466    0.264653    0.0180928       0.378609     0.152867   -0.149115\n",
       " -0.0659355   0.141087   -0.207335        0.137939     0.131275    0.0621993"
      ]
     },
     "execution_count": 18,
     "metadata": {},
     "output_type": "execute_result"
    }
   ],
   "source": [
    "Matrix(Q.Q)"
   ]
  },
  {
   "cell_type": "code",
   "execution_count": 19,
   "metadata": {},
   "outputs": [
    {
     "data": {
      "text/plain": [
       "9.996002813409046e-8"
      ]
     },
     "execution_count": 19,
     "metadata": {},
     "output_type": "execute_result"
    }
   ],
   "source": [
    "# Residual\n",
    "norm(Q.Q*Q.R-A[:,Q.p])"
   ]
  },
  {
   "cell_type": "code",
   "execution_count": 20,
   "metadata": {},
   "outputs": [],
   "source": [
    "Q.P;"
   ]
  },
  {
   "cell_type": "code",
   "execution_count": 21,
   "metadata": {},
   "outputs": [
    {
     "data": {
      "text/plain": [
       "([-0.9999999999570058 -8.949261531634531e-6 … 8.672430994425956e-16 1.2246366486924897e-21; -8.547910521356386e-6 0.9910981053697595 … 1.534006094364777e-10 1.5701525564984589e-15; … ; -2.4960412176590423e-15 1.5107587798803958e-10 … -0.9993506285223636 -5.373615865140533e-7; -9.078973487701276e-20 3.1810579769864717e-15 … 5.889731965551915e-7 -0.9999999999988156], [1.4350601754159055e9, 12435.895510194398, 2369.859281620652, 795.4181489244551, 0.3060767287927407, 0.25275212765999755, 0.21210516101050897, 0.15042011313717568, 0.0701108334544427, 0.020854321830678802, 0.003174772794096365, 0.0005796398657157206, 2.1654309209351798e-5, 1.277401698490221e-6, 4.6417374289436444e-11], [1.0 7.755220527483441e-11 … -7.719661009744489e-31 -3.961117357109464e-41; -7.742574424430336e-11 0.9996736960431679 … 1.5893484724604064e-20 5.911354100476344e-30; … ; 2.2232600144847217e-30 -1.552839892417912e-20 … 0.9999977381073855 2.1395186532284102e-11; 0.0 -1.1873772495197473e-29 … -2.1401716737415176e-11 1.0])"
      ]
     },
     "execution_count": 21,
     "metadata": {},
     "output_type": "execute_result"
    }
   ],
   "source": [
    "UR,σR,VR=myJacobiR(Q.R')"
   ]
  },
  {
   "cell_type": "code",
   "execution_count": 22,
   "metadata": {},
   "outputs": [
    {
     "data": {
      "text/plain": [
       "15-element Array{Float64,1}:\n",
       "  1.3922262158291046e-16\n",
       "  1.8234989100941402e-15\n",
       "  3.1292910397289196e-16\n",
       " -3.740951016703335e-16\n",
       " -6.830108752989371e-16\n",
       "  6.65463395093425e-16\n",
       "  5.93822115244091e-16\n",
       "  5.535611236440939e-16\n",
       "  1.04686092439792e-15\n",
       "  2.1962684051440104e-16\n",
       "  1.2695446012882906e-15\n",
       "  1.5721984928666066e-15\n",
       "  7.675516507047292e-16\n",
       "  5.850770946265119e-16\n",
       "  1.6613838442869798e-16"
      ]
     },
     "execution_count": 22,
     "metadata": {},
     "output_type": "execute_result"
    }
   ],
   "source": [
    "(sort(σ)-sort(σR))./sort(σ)"
   ]
  },
  {
   "cell_type": "markdown",
   "metadata": {},
   "source": [
    "Now $QRP^T=A$ and $R^T=U_R\\Sigma_R V^T_R$, so \n",
    "\n",
    "$$\n",
    "A=(Q V_R) \\Sigma_R (U_R^T P^T)\n",
    "$$ \n",
    "\n",
    "is an SVD of $A$."
   ]
  },
  {
   "cell_type": "code",
   "execution_count": 23,
   "metadata": {},
   "outputs": [
    {
     "data": {
      "text/plain": [
       "2.3181486675380652e-7"
      ]
     },
     "execution_count": 23,
     "metadata": {},
     "output_type": "execute_result"
    }
   ],
   "source": [
    "# Check the residual\n",
    "U₁=Q.Q*VR\n",
    "V₁=UR[invperm(Q.p),:]\n",
    "norm(A*V₁-U₁*Diagonal(σR))"
   ]
  },
  {
   "cell_type": "markdown",
   "metadata": {
    "collapsed": true
   },
   "source": [
    "## Lanczos method\n",
    "\n",
    "The function `svds()` is based on the Lanczos method for symmetric matrices. Input can be matrix, but also an operator which defines the product of the given matrix with a vector."
   ]
  },
  {
   "cell_type": "code",
   "execution_count": 24,
   "metadata": {},
   "outputs": [],
   "source": [
    "using Arpack"
   ]
  },
  {
   "cell_type": "code",
   "execution_count": 25,
   "metadata": {},
   "outputs": [],
   "source": [
    "# ?svds"
   ]
  },
  {
   "cell_type": "code",
   "execution_count": 26,
   "metadata": {},
   "outputs": [],
   "source": [
    "m=20\n",
    "n=15\n",
    "A=rand(m,n);"
   ]
  },
  {
   "cell_type": "code",
   "execution_count": 27,
   "metadata": {},
   "outputs": [],
   "source": [
    "U,σ,V=svd(A);"
   ]
  },
  {
   "cell_type": "code",
   "execution_count": 28,
   "metadata": {},
   "outputs": [
    {
     "data": {
      "text/plain": [
       "6-element Array{Float64,1}:\n",
       "  0.0\n",
       "  8.706229724762359e-16\n",
       "  6.977733038241806e-16\n",
       " -1.1958007494670478e-16\n",
       " -3.885606509081423e-16\n",
       " -7.731403122654108e-16"
      ]
     },
     "execution_count": 28,
     "metadata": {},
     "output_type": "execute_result"
    }
   ],
   "source": [
    "# Some largest singular values\n",
    "k=6\n",
    "σp,rest=svds(A,nsv=k);\n",
    "(σ[1:k]-σp.S)./σ[1:k]"
   ]
  },
  {
   "cell_type": "markdown",
   "metadata": {},
   "source": [
    "### Example - Large matrix"
   ]
  },
  {
   "cell_type": "code",
   "execution_count": 29,
   "metadata": {},
   "outputs": [],
   "source": [
    "m=2000\n",
    "n=1500\n",
    "Ab=rand(m,n);"
   ]
  },
  {
   "cell_type": "code",
   "execution_count": 30,
   "metadata": {},
   "outputs": [
    {
     "name": "stdout",
     "output_type": "stream",
     "text": [
      "  2.948667 seconds (17 allocations: 114.625 MiB, 0.95% gc time)\n"
     ]
    }
   ],
   "source": [
    "@time Ub,σb,Vb=svd(Ab);"
   ]
  },
  {
   "cell_type": "code",
   "execution_count": 31,
   "metadata": {},
   "outputs": [
    {
     "name": "stdout",
     "output_type": "stream",
     "text": [
      "  0.764872 seconds (1.20 k allocations: 1.043 MiB)\n"
     ]
    }
   ],
   "source": [
    "# This is rather slow\n",
    "k=10\n",
    "@time σl,rest=svds(Ab,nsv=k);"
   ]
  },
  {
   "cell_type": "code",
   "execution_count": 32,
   "metadata": {},
   "outputs": [
    {
     "data": {
      "text/plain": [
       "10-element Array{Float64,1}:\n",
       "  2.624221204697654e-16\n",
       " -2.9629188869833283e-15\n",
       " -2.681792924854944e-15\n",
       " -1.1930796421799796e-15\n",
       " -4.791906995394743e-15\n",
       "  7.512173781698697e-16\n",
       "  3.0068489402060256e-16\n",
       "  2.7106134287416196e-15\n",
       "  4.384557603499125e-15\n",
       " -1.3646708995430969e-15"
      ]
     },
     "execution_count": 32,
     "metadata": {},
     "output_type": "execute_result"
    }
   ],
   "source": [
    "(σb[1:k]-σl.S)./σb[1:k]"
   ]
  },
  {
   "cell_type": "markdown",
   "metadata": {},
   "source": [
    "### Example - Very large sparse matrix"
   ]
  },
  {
   "cell_type": "code",
   "execution_count": 33,
   "metadata": {},
   "outputs": [],
   "source": [
    "using SparseArrays"
   ]
  },
  {
   "cell_type": "code",
   "execution_count": 34,
   "metadata": {},
   "outputs": [],
   "source": [
    "?sprand;"
   ]
  },
  {
   "cell_type": "code",
   "execution_count": 35,
   "metadata": {},
   "outputs": [
    {
     "data": {
      "text/plain": [
       "10000×3000 SparseMatrixCSC{Float64,Int64} with 1500133 stored entries:\n",
       "  [2   ,    1]  =  0.915125\n",
       "  [21  ,    1]  =  0.103111\n",
       "  [28  ,    1]  =  0.659263\n",
       "  [36  ,    1]  =  0.802959\n",
       "  [37  ,    1]  =  0.314446\n",
       "  [60  ,    1]  =  0.411196\n",
       "  [73  ,    1]  =  0.366053\n",
       "  [78  ,    1]  =  0.0514523\n",
       "  [86  ,    1]  =  0.548967\n",
       "  [105 ,    1]  =  0.759559\n",
       "  [138 ,    1]  =  0.448966\n",
       "  [146 ,    1]  =  0.904952\n",
       "  ⋮\n",
       "  [9814, 3000]  =  0.232063\n",
       "  [9815, 3000]  =  0.744474\n",
       "  [9821, 3000]  =  0.139488\n",
       "  [9824, 3000]  =  0.16499\n",
       "  [9829, 3000]  =  0.25767\n",
       "  [9830, 3000]  =  0.254372\n",
       "  [9856, 3000]  =  0.365749\n",
       "  [9871, 3000]  =  0.113422\n",
       "  [9875, 3000]  =  0.514061\n",
       "  [9923, 3000]  =  0.922246\n",
       "  [9938, 3000]  =  0.540259\n",
       "  [9980, 3000]  =  0.623759\n",
       "  [9994, 3000]  =  0.594745"
      ]
     },
     "execution_count": 35,
     "metadata": {},
     "output_type": "execute_result"
    }
   ],
   "source": [
    "m=10000\n",
    "n=3000\n",
    "A=sprand(m,n,0.05)"
   ]
  },
  {
   "cell_type": "code",
   "execution_count": 36,
   "metadata": {},
   "outputs": [
    {
     "name": "stdout",
     "output_type": "stream",
     "text": [
      "  5.010123 seconds (1.43 M allocations: 76.042 MiB, 1.30% gc time)\n"
     ]
    },
    {
     "data": {
      "text/plain": [
       "(SVD{Float64,Float64,Array{Float64,2}}(Array{Float64}(undef,3000,0), [137.683091889669, 19.620835080662378, 19.59279723151322, 19.578179854333232, 19.55716709252194, 19.5370309534842, 19.504209056741978, 19.47576287204921, 19.44997025474727, 19.43359144006519  …  18.546306296934574, 18.536054128257817, 18.52908725422433, 18.517450748882894, 18.507319585328705, 18.496895864043466, 18.491956420795734, 18.487173673677415, 18.476458029543625, 18.471586686684674], Array{Float64}(undef,0,10000)), 100, 10, 784, [-0.1490309862817691, 0.19701854701788968, -1.5606017705214519, -0.7210049083400928, -0.6873928513201039, 0.7234711794956799, 0.47216417979217196, 1.351677153007719, 0.9389580715320502, 0.3500070579373744  …  1.0968360573162548, 0.06767910512797508, 1.141008714508743, 2.060082568294296, 1.434968744229748, -1.1430612885778844, -1.2589840271216832, 0.4706283272517914, -1.9535619467220815, -0.8691330731367067])"
      ]
     },
     "execution_count": 36,
     "metadata": {},
     "output_type": "execute_result"
    }
   ],
   "source": [
    "# No vectors, this takes about 5 sec.\n",
    "k=100\n",
    "@time σ₁,rest=svds(A,nsv=k,ritzvec=false)"
   ]
  },
  {
   "cell_type": "code",
   "execution_count": 37,
   "metadata": {},
   "outputs": [
    {
     "name": "stdout",
     "output_type": "stream",
     "text": [
      " 14.536184 seconds (34.80 k allocations: 461.289 MiB, 0.07% gc time)\n"
     ]
    }
   ],
   "source": [
    "# Full matrix\n",
    "@time σ₂=svdvals(Matrix(A));"
   ]
  },
  {
   "cell_type": "code",
   "execution_count": 38,
   "metadata": {},
   "outputs": [
    {
     "data": {
      "text/plain": [
       "7.306363212423613e-15"
      ]
     },
     "execution_count": 38,
     "metadata": {},
     "output_type": "execute_result"
    }
   ],
   "source": [
    "maximum(abs,(σ₁.S-σ₂[1:k])./σ₂[1:k])"
   ]
  },
  {
   "cell_type": "code",
   "execution_count": null,
   "metadata": {},
   "outputs": [],
   "source": []
  }
 ],
 "metadata": {
  "@webio": {
   "lastCommId": null,
   "lastKernelId": null
  },
  "anaconda-cloud": {},
  "kernelspec": {
   "display_name": "Julia 1.4.1",
   "language": "julia",
   "name": "julia-1.4"
  },
  "language_info": {
   "file_extension": ".jl",
   "mimetype": "application/julia",
   "name": "julia",
   "version": "1.4.1"
  }
 },
 "nbformat": 4,
 "nbformat_minor": 1
}
