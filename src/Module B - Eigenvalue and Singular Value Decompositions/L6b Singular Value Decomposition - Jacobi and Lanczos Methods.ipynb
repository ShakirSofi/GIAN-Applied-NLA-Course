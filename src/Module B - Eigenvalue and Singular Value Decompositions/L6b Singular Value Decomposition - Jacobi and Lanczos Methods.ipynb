{
 "cells": [
  {
   "cell_type": "markdown",
   "metadata": {},
   "source": [
    "# Singular Value Decomposition - Jacobi and Lanczos Methods\n",
    "\n",
    "Since computing the SVD of $A$ can be seen as computing the EVD of the symmetric matrices \n",
    "$A^*A$, $AA^*$, or $\\begin{bmatrix}0 & A \\\\ A^* & 0 \\end{bmatrix}$, simple modifications of the corresponding EVD algorithms yield version for computing the SVD.\n",
    "\n",
    "For more details on one-sided Jacobi method, see \n",
    "[Z. Drmač, Computing Eigenvalues and Singular Values to High Relative Accuracy][Hog14a]\n",
    "and the references therein.\n",
    "\n",
    "[Hog14a]: #1 \"L. Hogben, ed., 'Handbook of Linear Algebra', pp. 59.1-59.21, CRC Press, Boca Raton, 2014.\"\n",
    "\n",
    "\n",
    "## Prerequisites\n",
    "\n",
    "The reader should be familiar with concepts of singular values and vectors, related perturbation theory, and algorithms, and Jacobi and Lanczos methods for the symmetric eigenvalue decomposition.\n",
    "\n",
    " \n",
    "## Competences \n",
    "\n",
    "The reader should be able to recognise matrices which warrant high relative accuracy and to apply \n",
    "Jacobi method to them. The reader should be able to recognise matrices to which Lanczos method can be efficiently applied and do so.\n"
   ]
  },
  {
   "cell_type": "markdown",
   "metadata": {},
   "source": [
    "## One-sided Jacobi method\n",
    "\n",
    "Let $A\\in\\mathbb{R}^{m\\times n}$ with $\\mathop{\\mathrm{rank}}(A)=n$ (therefore, $m\\geq n$) and\n",
    "$A=U\\Sigma V^T$ its thin SVD.\n",
    "\n",
    "### Definition\n",
    "\n",
    "Let $A=BD$, where $D=\\mathop{\\mathrm{diag}} (\\| A_{:,1}\\|_2, \\ldots, \\|A_{:,n}\\|_2)$ is a __diagonal scaling__ , and $B$ is the __scaled matrix__ of $A$ from the right. \n",
    "Then $[B^T B]_{i,i}=1$.\n",
    "\n",
    "### Facts\n",
    "\n",
    "1. Let $\\tilde U$, $\\tilde V$ and $\\tilde \\Sigma$ be the approximations of $U$, $V$ and $\\Sigma$, respectively, computed by a backward stable algorithm as \n",
    "$A+\\Delta A=\\tilde U\\tilde \\Sigma \\tilde V^T$. Since the orthogonality of $\\tilde U$ and $\\tilde V$ cannot be guaranteed, this product in general does not represent and SVD. There exist nearby orthogonal matrices $\\hat U$ and $\\hat V$ such that \n",
    "$(I+E_1)(A+\\Delta A)(I+E_2)=\\hat U \\tilde \\Sigma \\hat V^T$, where departures from orthogonalithy, \n",
    "$E_1$ and $E_2$, are small in norm.\n",
    "\n",
    "2. Standard algorithms compute the singular values with backward error \n",
    "$\\| \\Delta A\\|\\leq \\phi\\varepsilon \\|A\\|_2$, where $\\varepsilon$ is machine precision and \n",
    "$\\phi$ is a slowly growing function og $n$. The best error bound for the singular values is \n",
    "$|\\sigma_j-\\tilde \\sigma_j|\\leq \\| \\Delta A\\|_2$, and the best relative error bound is\n",
    "$$\n",
    "\\max_j \\frac{|\\sigma_j-\\tilde\\sigma_j|}{\\sigma_j}\\leq \\frac{\\| \\Delta A \\|_2}{\\sigma_j} \\leq\n",
    "\\phi \\varepsilon \\kappa_2(A).\n",
    "$$\n",
    "\n",
    "3. Let $\\|[\\Delta A]_{:,j}\\|_2\\leq \\varepsilon \\| A_{:,j}\\|_2$ for all $j$. Then\n",
    "$A+\\Delta A=(B+\\Delta B)D$ and $\\|\\Delta B\\|_F\\leq \\sqrt{n}\\varepsilon$, and\n",
    "$$\n",
    "\\max_j \\frac{|\\sigma_j-\\tilde\\sigma_j|}{\\sigma_j}\\leq \n",
    "\\| (\\Delta B) B^{\\dagger} \\|_2\\leq\n",
    "\\sqrt{n}\\varepsilon \\| B^{\\dagger}\\|_2.\n",
    "$$\n",
    "This is Fact 3 from the [Relative perturbation theory](L5b Singular Value Decomposition - Perturbation Theory .ipynb).\n",
    "\n",
    "4. It holds\n",
    "$$\n",
    "\\| B^{\\dagger} \\| \\leq \\kappa_2(B) \\leq \\sqrt{n} \\min_{S=\\mathop{\\mathrm{diag}}} \n",
    "\\kappa_2(A\\cdot S)\\leq \\sqrt{n}\\,\\kappa_2(A).\n",
    "$$\n",
    "Therefore, numerical algorithm with column-wise small backward error computes singular values more accurately than an algorithm with small norm-wise backward error.\n",
    "\n",
    "5. In each step, one-sided Jacobi method computes the Jacobi rotation matrix from the pivot submatrix of the current Gram matrix $A^TA$. Afterwards, $A$ is multiplied with the computed rotation matrix from the right (only two columns are affected). \n",
    "Convergence of the Jacobi method for the symmetric matrix $A^TA$ to a diagonal matrix, implies that the matrix $A$ converges to the matrix $AV$ with orthogonal columns and $V^TV=I$. \n",
    "Then $AV=U\\Sigma$, $\\Sigma=\\mathop{\\mathrm{diag}}(\\| A_{:,1}\\|_2, \\ldots, \\| A_{:,n}\\|_2)$, $U=AV\\Sigma^{-1}$, and  $A=U\\Sigma V^T$ is the SVD of $A$.\n",
    "\n",
    "6. One-sided Jacobi method computes the SVD with error bound from Facts 2 and 3, provided that the condition of the intermittent scaled matrices does not grow much. There is overwhelming numerical evidence for this. Alternatively, \n",
    "if $A$ is square, the one-sided Jacobi method can be applied to the transposed matrix $A^T=DB^T$ and the same error bounds apply, but the condition of the scaled matrix  (_this time from the left_) does not change. This approach is slower.\n",
    "\n",
    "7. One-sided Jacobi method can be preconditioned by applying one QR factorization with full pivoting and one QR factorization withour pivoting to $A$, to obtain faster convergence, without sacrifying accuracy. This method is implemented in the LAPACK routine \n",
    "[DGESVJ](http://www.netlib.org/lapack/explore-html-3.3.1/d1/d5e/dgesvj_8f_source.html).\n",
    "_Writing the wrapper for `DGESVJ` is a tutorial assignment._\n",
    "\n",
    "### Example - Standard matrix"
   ]
  },
  {
   "cell_type": "code",
   "execution_count": 1,
   "metadata": {},
   "outputs": [],
   "source": [
    "using LinearAlgebra"
   ]
  },
  {
   "cell_type": "code",
   "execution_count": 6,
   "metadata": {},
   "outputs": [
    {
     "data": {
      "text/plain": [
       "myJacobiR (generic function with 1 method)"
      ]
     },
     "execution_count": 6,
     "metadata": {},
     "output_type": "execute_result"
    }
   ],
   "source": [
    "function myJacobiR(A1::AbstractMatrix)\n",
    "    A=deepcopy(A1)\n",
    "    m,n=size(A)\n",
    "    T=typeof(A[1,1])\n",
    "    V=Matrix{T}(I,n,n)\n",
    "    # Tolerance for rotation\n",
    "    tol=sqrt(map(T,n))*eps(T)\n",
    "    # Counters\n",
    "    p=n*(n-1)/2\n",
    "    sweep=0\n",
    "    pcurrent=0\n",
    "    # First criterion is for standard accuracy, second one is for relative accuracy\n",
    "    # while sweep<30 && vecnorm(A-diagm(diag(A)))>tol\n",
    "    while sweep<30 && pcurrent<p\n",
    "        sweep+=1\n",
    "        # Row-cyclic strategy\n",
    "        for i = 1 : n-1 \n",
    "            for j = i+1 : n\n",
    "                # Compute the 2 x 2 sumbatrix of A'*A\n",
    "                F=A[:,[i,j]]'*A[:,[i,j]]\n",
    "                # Check the tolerance - the first criterion is standard,\n",
    "                # the second one is for relative accuracy               \n",
    "                # if A[i,j]!=zero(T)\n",
    "                # \n",
    "                if abs(F[1,2])>tol*sqrt(F[1,1]*F[2,2])\n",
    "                    # Compute c and s\n",
    "                    τ=(F[1,1]-F[2,2])/(2*F[1,2])\n",
    "                    t=sign(τ)/(abs(τ)+sqrt(1+τ^2))\n",
    "                    c=1/sqrt(1+t^2)\n",
    "                    s=c*t\n",
    "                    G=LinearAlgebra.Givens(i,j,c,s)\n",
    "                    A*=G'\n",
    "                    # rmul!(A,adjoint(G))\n",
    "                    V*=G'\n",
    "                    # rmul!(A,adjoint(G))\n",
    "                    pcurrent=0\n",
    "                else\n",
    "                    pcurrent+=1\n",
    "                end\n",
    "            end\n",
    "        end\n",
    "    end\n",
    "    σ=[norm(A[:,k]) for k=1:n]\n",
    "    for k=1:n\n",
    "        A[:,k]./=σ[k]\n",
    "    end\n",
    "    A, σ, V\n",
    "end"
   ]
  },
  {
   "cell_type": "code",
   "execution_count": 3,
   "metadata": {},
   "outputs": [
    {
     "data": {
      "text/plain": [
       "8×5 Array{Float64,2}:\n",
       "  5.0   6.0   7.0  -2.0  -3.0\n",
       "  7.0   7.0  -3.0   3.0   3.0\n",
       " -7.0   5.0  -7.0   0.0  -7.0\n",
       " -4.0  -2.0   8.0   4.0  -5.0\n",
       " -9.0   5.0   4.0  -6.0   9.0\n",
       "  0.0   4.0  -7.0   9.0  -1.0\n",
       " -7.0   5.0  -2.0  -4.0   3.0\n",
       " -6.0  -3.0  -5.0   2.0   7.0"
      ]
     },
     "execution_count": 3,
     "metadata": {},
     "output_type": "execute_result"
    }
   ],
   "source": [
    "m=8\n",
    "n=5\n",
    "import Random\n",
    "Random.seed!(432)\n",
    "A=rand(-9.0:9,m,n)"
   ]
  },
  {
   "cell_type": "code",
   "execution_count": 7,
   "metadata": {},
   "outputs": [
    {
     "data": {
      "text/plain": [
       "([0.24824 0.331266 … 0.105505 -0.462337; 0.181046 0.666841 … 0.222032 -0.0526094; … ; -0.465547 0.120751 … -0.0817947 -0.285169; -0.396328 -0.0977143 … 0.223032 0.4404], [19.6979, 14.1583, 17.7242, 8.71309, 13.3592], [0.76844 0.54527 … -0.207696 0.252975; -0.126868 0.618575 … 0.213006 -0.728597; … ; 0.338361 -0.172764 … 0.796315 0.125731; -0.510202 0.534118 … 0.281362 0.607545])"
      ]
     },
     "execution_count": 7,
     "metadata": {},
     "output_type": "execute_result"
    }
   ],
   "source": [
    "U,σ,V=myJacobiR(A)"
   ]
  },
  {
   "cell_type": "code",
   "execution_count": 8,
   "metadata": {},
   "outputs": [
    {
     "data": {
      "text/plain": [
       "8×5 Array{Float64,2}:\n",
       "  8.88178e-16   0.0          -8.88178e-16  -1.77636e-15   8.88178e-16\n",
       "  2.22045e-15   8.88178e-15   1.77636e-15   0.0           7.77156e-16\n",
       " -3.10862e-15   1.33227e-15  -8.88178e-16   0.0           0.0        \n",
       " -2.66454e-15  -1.77636e-15   3.55271e-15   0.0          -4.44089e-16\n",
       "  1.77636e-15   2.66454e-15  -1.77636e-15   1.33227e-15  -2.22045e-16\n",
       "  0.0           1.22125e-15  -3.55271e-15   0.0           8.88178e-16\n",
       "  1.77636e-15   1.11022e-15  -1.88738e-15   3.33067e-16   8.88178e-16\n",
       "  1.77636e-15  -2.44249e-15  -8.88178e-16   2.66454e-15  -1.77636e-15"
      ]
     },
     "execution_count": 8,
     "metadata": {},
     "output_type": "execute_result"
    }
   ],
   "source": [
    "# Residual \n",
    "A*V-U*Diagonal(σ)"
   ]
  },
  {
   "cell_type": "markdown",
   "metadata": {},
   "source": [
    "### Example - Strongly scaled matrix"
   ]
  },
  {
   "cell_type": "code",
   "execution_count": 5,
   "metadata": {},
   "outputs": [
    {
     "data": {
      "text/plain": [
       "20×15 Array{Float64,2}:\n",
       " 0.00163535   2.04127e-6  5.57394e8  1653.32    …  0.000355849  0.000172264\n",
       " 0.0152234    1.60298e-5  3.21319e8  1417.91       0.0577621    0.000482318\n",
       " 0.0135573    1.97271e-5  4.69189e8  1237.41       0.0494657    0.000123935\n",
       " 0.0139728    2.6469e-5   1.07269e8  1500.64       0.0383238    1.18176e-5 \n",
       " 0.0085976    1.63345e-5  2.28983e8   599.945      0.0306203    0.000465759\n",
       " 0.00921359   2.18669e-5  4.06494e8  1310.12    …  0.033987     0.000227803\n",
       " 0.00502062   2.12289e-6  1.74814e8   815.826      0.0245908    0.000419853\n",
       " 0.00540494   2.02431e-6  3.31743e8  1573.04       0.0306793    1.66013e-5 \n",
       " 0.00321106   1.01959e-5  2.68079e8  1286.75       0.0240827    0.000275003\n",
       " 0.0136109    2.16633e-5  1.87685e8  1408.61       0.00840468   0.000468175\n",
       " 0.000814573  8.58802e-6  1.18332e8  1035.69    …  0.02762      0.000333906\n",
       " 0.00576585   3.05105e-8  4.94558e8  1663.94       0.027354     9.5413e-5  \n",
       " 0.0125019    8.87508e-6  3.60466e8  1399.51       0.000332968  6.1243e-5  \n",
       " 0.0157028    2.23623e-5  3.91234e8   220.676      0.0359708    1.19102e-5 \n",
       " 0.00933143   1.5166e-5   5.31132e8  1312.49       0.0308228    0.000180979\n",
       " 0.0123304    1.09626e-5  1.14739e8  1475.69    …  0.0542702    8.74033e-5 \n",
       " 0.00552795   2.97393e-6  2.02593e8  1360.52       0.0510224    0.000247284\n",
       " 0.0139336    1.42495e-5  8.50324e7  1588.33       0.0145036    0.000210936\n",
       " 0.0057167    2.71482e-5  2.33148e8  1270.88       0.0119103    0.000481609\n",
       " 0.00708082   2.36711e-5  9.46214e7    58.5338     0.00809591   0.000115746"
      ]
     },
     "execution_count": 5,
     "metadata": {},
     "output_type": "execute_result"
    }
   ],
   "source": [
    "m=20\n",
    "n=15\n",
    "B=rand(m,n)\n",
    "D=exp.(50*(rand(n).-0.5))\n",
    "A=B*Diagonal(D)"
   ]
  },
  {
   "cell_type": "code",
   "execution_count": 6,
   "metadata": {},
   "outputs": [
    {
     "data": {
      "text/plain": [
       "(26.75954852511155, 3.091038253831113e19)"
      ]
     },
     "execution_count": 6,
     "metadata": {},
     "output_type": "execute_result"
    }
   ],
   "source": [
    "cond(B), cond(A)"
   ]
  },
  {
   "cell_type": "code",
   "execution_count": 7,
   "metadata": {},
   "outputs": [],
   "source": [
    "U,σ,V=myJacobiR(A);"
   ]
  },
  {
   "cell_type": "code",
   "execution_count": 8,
   "metadata": {},
   "outputs": [
    {
     "data": {
      "text/plain": [
       "15×2 Array{Float64,2}:\n",
       "     1.43506e9        1.43506e9  \n",
       " 12435.9          12435.9        \n",
       "  2369.86          2369.86       \n",
       "   795.418          795.418      \n",
       "     0.306077         0.306077   \n",
       "     0.252752         0.252752   \n",
       "     0.212105         0.212105   \n",
       "     0.15042          0.15042    \n",
       "     0.0701108        0.0701108  \n",
       "     0.0208543        0.0208543  \n",
       "     0.00317477       0.00317477 \n",
       "     0.00057964       0.00057964 \n",
       "     2.16543e-5       2.16456e-5 \n",
       "     1.2774e-6        1.27863e-6 \n",
       "     4.64174e-11      4.64265e-11"
      ]
     },
     "execution_count": 8,
     "metadata": {},
     "output_type": "execute_result"
    }
   ],
   "source": [
    "[sort(σ,rev=true) svdvals(A)]"
   ]
  },
  {
   "cell_type": "code",
   "execution_count": 9,
   "metadata": {},
   "outputs": [
    {
     "data": {
      "text/plain": [
       "15-element Array{Float64,1}:\n",
       "  3.3227676885739596e-16\n",
       "  5.850770946265119e-16 \n",
       "  1.1513274760570937e-15\n",
       "  1.1434170857211684e-15\n",
       " -6.295127587245224e-13 \n",
       "  9.652599640607925e-13 \n",
       " -2.4925758609914474e-12\n",
       "  3.5688085641334733e-12\n",
       " -1.2330973545960155e-10\n",
       " -5.780403875019848e-9  \n",
       "  1.2168553446030478e-8 \n",
       "  4.37261768497587e-8   \n",
       "  0.00040380897434291025\n",
       " -0.0009639349957532046 \n",
       " -0.00019611364922447115"
      ]
     },
     "execution_count": 9,
     "metadata": {},
     "output_type": "execute_result"
    }
   ],
   "source": [
    "(sort(σ,rev=true)-svdvals(A))./sort(σ,rev=true)"
   ]
  },
  {
   "cell_type": "code",
   "execution_count": 10,
   "metadata": {},
   "outputs": [
    {
     "data": {
      "text/plain": [
       "1.8907453955989234e-7"
      ]
     },
     "execution_count": 10,
     "metadata": {},
     "output_type": "execute_result"
    }
   ],
   "source": [
    "norm(A*V-U*Diagonal(σ))"
   ]
  },
  {
   "cell_type": "code",
   "execution_count": 11,
   "metadata": {},
   "outputs": [
    {
     "data": {
      "text/plain": [
       "15×15 Array{Float64,2}:\n",
       "  0.0208543     7.43262e-21   2.06835e-8  …   1.92273e-17  -1.07598e-19\n",
       " -3.04759e-19   2.16543e-5    2.87211e-8     -8.31998e-18   4.64765e-20\n",
       " -1.01953e-17   7.08027e-20   1.43506e9      -1.51669e-17  -2.1684e-19 \n",
       " -4.9775e-18    1.9022e-20   -5.26605e-8     -5.28593e-18   5.42101e-20\n",
       "  2.33088e-18   4.37555e-21  -1.32739e-7     -7.02198e-18  -9.11548e-20\n",
       " -1.89543e-18   1.00877e-20  -3.22074e-7  …   8.03076e-18   1.53234e-19\n",
       "  6.62091e-19   3.36342e-22  -1.15055e-7     -6.48782e-18  -3.68986e-20\n",
       " -3.75446e-18   2.87363e-20  -4.27341e-8      1.19742e-17  -2.1684e-19 \n",
       " -1.10169e-18  -2.58023e-21   2.77694e-8      8.8502e-18    2.49856e-20\n",
       "  1.37723e-17   1.23272e-20  -1.4275e-7      -3.67685e-17   2.11758e-19\n",
       "  1.29746e-18  -7.73885e-22   2.62147e-7  …  -1.67111e-17  -5.06167e-20\n",
       " -1.17616e-18   9.67932e-21   1.56935e-7     -2.78772e-18  -2.43101e-19\n",
       " -3.17044e-18  -7.71476e-21  -1.04618e-7      1.96885e-18   1.22395e-20\n",
       " -4.02024e-18   5.07139e-21   1.07933e-8      0.0701108     1.55631e-20\n",
       " -4.25742e-18  -1.90262e-22  -2.22662e-7      4.79429e-18   0.00057964 "
      ]
     },
     "execution_count": 11,
     "metadata": {},
     "output_type": "execute_result"
    }
   ],
   "source": [
    "U'*A*V"
   ]
  },
  {
   "cell_type": "markdown",
   "metadata": {},
   "source": [
    "In the alternative approach, we first apply QR factorization with column pivoting to obtain the square matrix."
   ]
  },
  {
   "cell_type": "code",
   "execution_count": 12,
   "metadata": {},
   "outputs": [
    {
     "name": "stdout",
     "output_type": "stream",
     "text": [
      "search: \u001b[0m\u001b[1mq\u001b[22m\u001b[0m\u001b[1mr\u001b[22m \u001b[0m\u001b[1mq\u001b[22m\u001b[0m\u001b[1mr\u001b[22m! \u001b[0m\u001b[1mQ\u001b[22m\u001b[0m\u001b[1mR\u001b[22m \u001b[0m\u001b[1mQ\u001b[22m\u001b[0m\u001b[1mR\u001b[22mPivoted s\u001b[0m\u001b[1mq\u001b[22m\u001b[0m\u001b[1mr\u001b[22mt is\u001b[0m\u001b[1mq\u001b[22m\u001b[0m\u001b[1mr\u001b[22mt \u001b[0m\u001b[1mQ\u001b[22muickSo\u001b[0m\u001b[1mr\u001b[22mt Partial\u001b[0m\u001b[1mQ\u001b[22muickSo\u001b[0m\u001b[1mr\u001b[22mt\n",
      "\n"
     ]
    },
    {
     "data": {
      "text/markdown": [
       "```\n",
       "qr(A, pivot=Val(false)) -> F\n",
       "```\n",
       "\n",
       "Compute the QR factorization of the matrix `A`: an orthogonal (or unitary if `A` is complex-valued) matrix `Q`, and an upper triangular matrix `R` such that\n",
       "\n",
       "$$\n",
       "A = Q R\n",
       "$$\n",
       "\n",
       "The returned object `F` stores the factorization in a packed format:\n",
       "\n",
       "  * if `pivot == Val(true)` then `F` is a [`QRPivoted`](@ref) object,\n",
       "  * otherwise if the element type of `A` is a BLAS type ([`Float32`](@ref), [`Float64`](@ref), `ComplexF32` or `ComplexF64`), then `F` is a [`QRCompactWY`](@ref) object,\n",
       "  * otherwise `F` is a [`QR`](@ref) object.\n",
       "\n",
       "The individual components of the decomposition `F` can be retrieved via property accessors:\n",
       "\n",
       "  * `F.Q`: the orthogonal/unitary matrix `Q`\n",
       "  * `F.R`: the upper triangular matrix `R`\n",
       "  * `F.p`: the permutation vector of the pivot ([`QRPivoted`](@ref) only)\n",
       "  * `F.P`: the permutation matrix of the pivot ([`QRPivoted`](@ref) only)\n",
       "\n",
       "Iterating the decomposition produces the components `Q`, `R`, and if extant `p`.\n",
       "\n",
       "The following functions are available for the `QR` objects: [`inv`](@ref), [`size`](@ref), and [`\\`](@ref). When `A` is rectangular, `\\` will return a least squares solution and if the solution is not unique, the one with smallest norm is returned.\n",
       "\n",
       "Multiplication with respect to either full/square or non-full/square `Q` is allowed, i.e. both `F.Q*F.R` and `F.Q*A` are supported. A `Q` matrix can be converted into a regular matrix with [`Matrix`](@ref).  This operation returns the \"thin\" Q factor, i.e., if `A` is `m`×`n` with `m>=n`, then `Matrix(F.Q)` yields an `m`×`n` matrix with orthonormal columns.  To retrieve the \"full\" Q factor, an `m`×`m` orthogonal matrix, use `F.Q*Matrix(I,m,m)`.  If `m<=n`, then `Matrix(F.Q)` yields an `m`×`m` orthogonal matrix.\n",
       "\n",
       "# Examples\n",
       "\n",
       "```jldoctest\n",
       "julia> A = [3.0 -6.0; 4.0 -8.0; 0.0 1.0]\n",
       "3×2 Array{Float64,2}:\n",
       " 3.0  -6.0\n",
       " 4.0  -8.0\n",
       " 0.0   1.0\n",
       "\n",
       "julia> F = qr(A)\n",
       "LinearAlgebra.QRCompactWY{Float64,Array{Float64,2}}\n",
       "Q factor:\n",
       "3×3 LinearAlgebra.QRCompactWYQ{Float64,Array{Float64,2}}:\n",
       " -0.6   0.0   0.8\n",
       " -0.8   0.0  -0.6\n",
       "  0.0  -1.0   0.0\n",
       "R factor:\n",
       "2×2 Array{Float64,2}:\n",
       " -5.0  10.0\n",
       "  0.0  -1.0\n",
       "\n",
       "julia> F.Q * F.R == A\n",
       "true\n",
       "```\n",
       "\n",
       "!!! note\n",
       "    `qr` returns multiple types because LAPACK uses several representations that minimize the memory storage requirements of products of Householder elementary reflectors, so that the `Q` and `R` matrices can be stored compactly rather as two separate dense matrices.\n",
       "\n",
       "\n",
       "---\n",
       "\n",
       "```\n",
       "qr(A) -> QRSparse\n",
       "```\n",
       "\n",
       "Compute the `QR` factorization of a sparse matrix `A`. Fill-reducing row and column permutations are used such that `F.R = F.Q'*A[F.prow,F.pcol]`. The main application of this type is to solve least squares or underdetermined problems with [`\\`](@ref). The function calls the C library SPQR.\n",
       "\n",
       "# Examples\n",
       "\n",
       "```jldoctest\n",
       "julia> A = sparse([1,2,3,4], [1,1,2,2], [1.0,1.0,1.0,1.0])\n",
       "4×2 SparseMatrixCSC{Float64,Int64} with 4 stored entries:\n",
       "  [1, 1]  =  1.0\n",
       "  [2, 1]  =  1.0\n",
       "  [3, 2]  =  1.0\n",
       "  [4, 2]  =  1.0\n",
       "\n",
       "julia> qr(A)\n",
       "Base.SparseArrays.SPQR.QRSparse{Float64,Int64}\n",
       "Q factor:\n",
       "4×4 Base.SparseArrays.SPQR.QRSparseQ{Float64,Int64}:\n",
       " -0.707107   0.0        0.0       -0.707107\n",
       "  0.0       -0.707107  -0.707107   0.0\n",
       "  0.0       -0.707107   0.707107   0.0\n",
       " -0.707107   0.0        0.0        0.707107\n",
       "R factor:\n",
       "2×2 SparseMatrixCSC{Float64,Int64} with 2 stored entries:\n",
       "  [1, 1]  =  -1.41421\n",
       "  [2, 2]  =  -1.41421\n",
       "Row permutation:\n",
       "4-element Array{Int64,1}:\n",
       " 1\n",
       " 3\n",
       " 4\n",
       " 2\n",
       "Column permutation:\n",
       "2-element Array{Int64,1}:\n",
       " 1\n",
       " 2\n",
       "```\n"
      ],
      "text/plain": [
       "\u001b[36m  qr(A, pivot=Val(false)) -> F\u001b[39m\n",
       "\n",
       "  Compute the QR factorization of the matrix \u001b[36mA\u001b[39m: an orthogonal (or unitary if \u001b[36mA\u001b[39m\n",
       "  is complex-valued) matrix \u001b[36mQ\u001b[39m, and an upper triangular matrix \u001b[36mR\u001b[39m such that\n",
       "\n",
       "\u001b[35mA = Q R\u001b[39m\n",
       "\n",
       "  The returned object \u001b[36mF\u001b[39m stores the factorization in a packed format:\n",
       "\n",
       "    •    if \u001b[36mpivot == Val(true)\u001b[39m then \u001b[36mF\u001b[39m is a \u001b[36mQRPivoted\u001b[39m object,\n",
       "\n",
       "    •    otherwise if the element type of \u001b[36mA\u001b[39m is a BLAS type (\u001b[36mFloat32\u001b[39m,\n",
       "        \u001b[36mFloat64\u001b[39m, \u001b[36mComplexF32\u001b[39m or \u001b[36mComplexF64\u001b[39m), then \u001b[36mF\u001b[39m is a \u001b[36mQRCompactWY\u001b[39m\n",
       "        object,\n",
       "\n",
       "    •    otherwise \u001b[36mF\u001b[39m is a \u001b[36mQR\u001b[39m object.\n",
       "\n",
       "  The individual components of the decomposition \u001b[36mF\u001b[39m can be retrieved via\n",
       "  property accessors:\n",
       "\n",
       "    •    \u001b[36mF.Q\u001b[39m: the orthogonal/unitary matrix \u001b[36mQ\u001b[39m\n",
       "\n",
       "    •    \u001b[36mF.R\u001b[39m: the upper triangular matrix \u001b[36mR\u001b[39m\n",
       "\n",
       "    •    \u001b[36mF.p\u001b[39m: the permutation vector of the pivot (\u001b[36mQRPivoted\u001b[39m only)\n",
       "\n",
       "    •    \u001b[36mF.P\u001b[39m: the permutation matrix of the pivot (\u001b[36mQRPivoted\u001b[39m only)\n",
       "\n",
       "  Iterating the decomposition produces the components \u001b[36mQ\u001b[39m, \u001b[36mR\u001b[39m, and if extant \u001b[36mp\u001b[39m.\n",
       "\n",
       "  The following functions are available for the \u001b[36mQR\u001b[39m objects: \u001b[36minv\u001b[39m, \u001b[36msize\u001b[39m, and \u001b[36m\\\u001b[39m.\n",
       "  When \u001b[36mA\u001b[39m is rectangular, \u001b[36m\\\u001b[39m will return a least squares solution and if the\n",
       "  solution is not unique, the one with smallest norm is returned.\n",
       "\n",
       "  Multiplication with respect to either full/square or non-full/square \u001b[36mQ\u001b[39m is\n",
       "  allowed, i.e. both \u001b[36mF.Q*F.R\u001b[39m and \u001b[36mF.Q*A\u001b[39m are supported. A \u001b[36mQ\u001b[39m matrix can be\n",
       "  converted into a regular matrix with \u001b[36mMatrix\u001b[39m. This operation returns the\n",
       "  \"thin\" Q factor, i.e., if \u001b[36mA\u001b[39m is \u001b[36mm\u001b[39m×\u001b[36mn\u001b[39m with \u001b[36mm>=n\u001b[39m, then \u001b[36mMatrix(F.Q)\u001b[39m yields an \u001b[36mm\u001b[39m×\u001b[36mn\u001b[39m\n",
       "  matrix with orthonormal columns. To retrieve the \"full\" Q factor, an \u001b[36mm\u001b[39m×\u001b[36mm\u001b[39m\n",
       "  orthogonal matrix, use \u001b[36mF.Q*Matrix(I,m,m)\u001b[39m. If \u001b[36mm<=n\u001b[39m, then \u001b[36mMatrix(F.Q)\u001b[39m yields\n",
       "  an \u001b[36mm\u001b[39m×\u001b[36mm\u001b[39m orthogonal matrix.\n",
       "\n",
       "\u001b[1m  Examples\u001b[22m\n",
       "\u001b[1m  ≡≡≡≡≡≡≡≡≡≡\u001b[22m\n",
       "\n",
       "\u001b[36m  julia> A = [3.0 -6.0; 4.0 -8.0; 0.0 1.0]\u001b[39m\n",
       "\u001b[36m  3×2 Array{Float64,2}:\u001b[39m\n",
       "\u001b[36m   3.0  -6.0\u001b[39m\n",
       "\u001b[36m   4.0  -8.0\u001b[39m\n",
       "\u001b[36m   0.0   1.0\u001b[39m\n",
       "\u001b[36m  \u001b[39m\n",
       "\u001b[36m  julia> F = qr(A)\u001b[39m\n",
       "\u001b[36m  LinearAlgebra.QRCompactWY{Float64,Array{Float64,2}}\u001b[39m\n",
       "\u001b[36m  Q factor:\u001b[39m\n",
       "\u001b[36m  3×3 LinearAlgebra.QRCompactWYQ{Float64,Array{Float64,2}}:\u001b[39m\n",
       "\u001b[36m   -0.6   0.0   0.8\u001b[39m\n",
       "\u001b[36m   -0.8   0.0  -0.6\u001b[39m\n",
       "\u001b[36m    0.0  -1.0   0.0\u001b[39m\n",
       "\u001b[36m  R factor:\u001b[39m\n",
       "\u001b[36m  2×2 Array{Float64,2}:\u001b[39m\n",
       "\u001b[36m   -5.0  10.0\u001b[39m\n",
       "\u001b[36m    0.0  -1.0\u001b[39m\n",
       "\u001b[36m  \u001b[39m\n",
       "\u001b[36m  julia> F.Q * F.R == A\u001b[39m\n",
       "\u001b[36m  true\u001b[39m\n",
       "\n",
       "\u001b[36m\u001b[1m  │ \u001b[22m\u001b[39m\u001b[36m\u001b[1mNote\u001b[22m\u001b[39m\n",
       "\u001b[36m\u001b[1m  │\u001b[22m\u001b[39m\n",
       "\u001b[36m\u001b[1m  │\u001b[22m\u001b[39m  \u001b[36mqr\u001b[39m returns multiple types because LAPACK uses several\n",
       "\u001b[36m\u001b[1m  │\u001b[22m\u001b[39m  representations that minimize the memory storage requirements of\n",
       "\u001b[36m\u001b[1m  │\u001b[22m\u001b[39m  products of Householder elementary reflectors, so that the \u001b[36mQ\u001b[39m and \u001b[36mR\u001b[39m\n",
       "\u001b[36m\u001b[1m  │\u001b[22m\u001b[39m  matrices can be stored compactly rather as two separate dense\n",
       "\u001b[36m\u001b[1m  │\u001b[22m\u001b[39m  matrices.\n",
       "\n",
       "  ────────────────────────────────────────────────────────────────────────────\n",
       "\n",
       "\u001b[36m  qr(A) -> QRSparse\u001b[39m\n",
       "\n",
       "  Compute the \u001b[36mQR\u001b[39m factorization of a sparse matrix \u001b[36mA\u001b[39m. Fill-reducing row and\n",
       "  column permutations are used such that \u001b[36mF.R = F.Q'*A[F.prow,F.pcol]\u001b[39m. The main\n",
       "  application of this type is to solve least squares or underdetermined\n",
       "  problems with \u001b[36m\\\u001b[39m. The function calls the C library SPQR.\n",
       "\n",
       "\u001b[1m  Examples\u001b[22m\n",
       "\u001b[1m  ≡≡≡≡≡≡≡≡≡≡\u001b[22m\n",
       "\n",
       "\u001b[36m  julia> A = sparse([1,2,3,4], [1,1,2,2], [1.0,1.0,1.0,1.0])\u001b[39m\n",
       "\u001b[36m  4×2 SparseMatrixCSC{Float64,Int64} with 4 stored entries:\u001b[39m\n",
       "\u001b[36m    [1, 1]  =  1.0\u001b[39m\n",
       "\u001b[36m    [2, 1]  =  1.0\u001b[39m\n",
       "\u001b[36m    [3, 2]  =  1.0\u001b[39m\n",
       "\u001b[36m    [4, 2]  =  1.0\u001b[39m\n",
       "\u001b[36m  \u001b[39m\n",
       "\u001b[36m  julia> qr(A)\u001b[39m\n",
       "\u001b[36m  Base.SparseArrays.SPQR.QRSparse{Float64,Int64}\u001b[39m\n",
       "\u001b[36m  Q factor:\u001b[39m\n",
       "\u001b[36m  4×4 Base.SparseArrays.SPQR.QRSparseQ{Float64,Int64}:\u001b[39m\n",
       "\u001b[36m   -0.707107   0.0        0.0       -0.707107\u001b[39m\n",
       "\u001b[36m    0.0       -0.707107  -0.707107   0.0\u001b[39m\n",
       "\u001b[36m    0.0       -0.707107   0.707107   0.0\u001b[39m\n",
       "\u001b[36m   -0.707107   0.0        0.0        0.707107\u001b[39m\n",
       "\u001b[36m  R factor:\u001b[39m\n",
       "\u001b[36m  2×2 SparseMatrixCSC{Float64,Int64} with 2 stored entries:\u001b[39m\n",
       "\u001b[36m    [1, 1]  =  -1.41421\u001b[39m\n",
       "\u001b[36m    [2, 2]  =  -1.41421\u001b[39m\n",
       "\u001b[36m  Row permutation:\u001b[39m\n",
       "\u001b[36m  4-element Array{Int64,1}:\u001b[39m\n",
       "\u001b[36m   1\u001b[39m\n",
       "\u001b[36m   3\u001b[39m\n",
       "\u001b[36m   4\u001b[39m\n",
       "\u001b[36m   2\u001b[39m\n",
       "\u001b[36m  Column permutation:\u001b[39m\n",
       "\u001b[36m  2-element Array{Int64,1}:\u001b[39m\n",
       "\u001b[36m   1\u001b[39m\n",
       "\u001b[36m   2\u001b[39m"
      ]
     },
     "execution_count": 12,
     "metadata": {},
     "output_type": "execute_result"
    }
   ],
   "source": [
    "?qr"
   ]
  },
  {
   "cell_type": "code",
   "execution_count": 13,
   "metadata": {},
   "outputs": [
    {
     "data": {
      "text/plain": [
       "QRPivoted{Float64,Array{Float64,2}}\n",
       "Q factor:\n",
       "20×20 LinearAlgebra.QRPackedQ{Float64,Array{Float64,2}}:\n",
       " -0.388412   -0.0479264  -0.0901355   …  -0.0218907  -0.171517     0.386332 \n",
       " -0.223906   -0.14924     0.223979        0.0368078   0.0236053    0.256944 \n",
       " -0.326947   -0.02355    -0.151893        0.140314    0.0424443   -0.14659  \n",
       " -0.0747489   0.112529    0.399899       -0.204224   -0.148452     0.0316961\n",
       " -0.159564    0.121403   -0.163563        0.0711087   0.155336     0.252655 \n",
       " -0.283259   -0.265199    0.13026     …   0.103384   -0.123699     0.0484948\n",
       " -0.121817    0.12121     0.00687646     -0.186515   -0.208554    -0.114623 \n",
       " -0.23117    -0.212422    0.315704        0.357895    0.169817     0.0841875\n",
       " -0.186807    0.295615   -0.0469138      -0.450452   -0.153943    -0.169116 \n",
       " -0.130786    0.0835048   0.262378       -0.13146    -0.216139    -0.276116 \n",
       " -0.0824578   0.387278    0.00654484  …   0.419173   -0.456748     0.0482217\n",
       " -0.344626   -0.314982    0.18287        -0.0128189  -0.00191359  -0.575077 \n",
       " -0.251185    0.0455933   0.0301416      -0.0400702   0.21861      0.214185 \n",
       " -0.272626    0.0779621  -0.532488        0.029884   -0.0545255   -0.19205  \n",
       " -0.370112   -0.0807658  -0.173368       -0.185833   -0.0713715    0.160548 \n",
       " -0.0799542   0.26792     0.275818    …  -0.353917    0.0147515    0.286267 \n",
       " -0.141174    0.362852    0.0357849       0.0936982   0.346973    -0.169554 \n",
       " -0.0592535   0.407062    0.274907        0.396055   -0.0500675   -0.0936945\n",
       " -0.162466    0.264653    0.0180928      -0.0560905   0.600928    -0.0962359\n",
       " -0.0659355   0.141087   -0.207335        0.176111   -0.123689     0.0258894\n",
       "R factor:\n",
       "15×15 Array{Float64,2}:\n",
       " -1.43506e9  -12266.8  -5001.65  -1262.51   …  -3.58197e-6  -1.30289e-10\n",
       "  0.0         12329.2   1569.2     286.904      1.87337e-6   3.96263e-11\n",
       "  0.0             0.0   2376.09    245.038      2.00808e-7  -7.63124e-13\n",
       "  0.0             0.0      0.0     800.196      5.80305e-7  -2.27178e-11\n",
       "  0.0             0.0      0.0       0.0       -6.0976e-7    7.51654e-12\n",
       "  0.0             0.0      0.0       0.0    …  -1.35577e-7  -2.86144e-11\n",
       "  0.0             0.0      0.0       0.0        4.41169e-7  -3.58152e-11\n",
       "  0.0             0.0      0.0       0.0       -3.02616e-7  -7.49282e-12\n",
       "  0.0             0.0      0.0       0.0        3.36187e-7  -3.84604e-11\n",
       "  0.0             0.0      0.0       0.0       -6.99979e-7  -8.28262e-12\n",
       "  0.0             0.0      0.0       0.0    …  -4.70737e-7  -2.41669e-11\n",
       "  0.0             0.0      0.0       0.0       -3.75402e-8  -1.23095e-11\n",
       "  0.0             0.0      0.0       0.0        7.77538e-7   3.07884e-11\n",
       "  0.0             0.0      0.0       0.0       -1.27823e-6   6.86871e-13\n",
       "  0.0             0.0      0.0       0.0        0.0         -4.64174e-11\n",
       "permutation:\n",
       "15-element Array{Int64,1}:\n",
       "  3\n",
       "  8\n",
       "  4\n",
       " 10\n",
       "  9\n",
       "  6\n",
       " 11\n",
       " 12\n",
       " 14\n",
       "  1\n",
       " 13\n",
       " 15\n",
       "  2\n",
       "  7\n",
       "  5"
      ]
     },
     "execution_count": 13,
     "metadata": {},
     "output_type": "execute_result"
    }
   ],
   "source": [
    "Q=qr(A,Val(true))"
   ]
  },
  {
   "cell_type": "code",
   "execution_count": 14,
   "metadata": {},
   "outputs": [
    {
     "data": {
      "text/plain": [
       "15-element Array{Float64,1}:\n",
       "    -1.4350601753542063e9 \n",
       " 12329.215551500374       \n",
       "  2376.0919063498245      \n",
       "   800.1960979637897      \n",
       "     0.29565940474236224  \n",
       "    -0.251419209335641    \n",
       "     0.21487020138165053  \n",
       "    -0.15119263239384015  \n",
       "    -0.07083494808275359  \n",
       "    -0.021073607981125758 \n",
       "    -0.0031763290101384694\n",
       "     0.0005799940866045193\n",
       "     2.164039059684074e-5 \n",
       "    -1.2782288545043553e-6\n",
       "    -4.641737428949141e-11"
      ]
     },
     "execution_count": 14,
     "metadata": {},
     "output_type": "execute_result"
    }
   ],
   "source": [
    "diag(Q.R)"
   ]
  },
  {
   "cell_type": "code",
   "execution_count": 15,
   "metadata": {},
   "outputs": [
    {
     "data": {
      "text/plain": [
       "20×20 LinearAlgebra.QRPackedQ{Float64,Array{Float64,2}}:\n",
       " -0.388412   -0.0479264  -0.0901355   …  -0.0218907  -0.171517     0.386332 \n",
       " -0.223906   -0.14924     0.223979        0.0368078   0.0236053    0.256944 \n",
       " -0.326947   -0.02355    -0.151893        0.140314    0.0424443   -0.14659  \n",
       " -0.0747489   0.112529    0.399899       -0.204224   -0.148452     0.0316961\n",
       " -0.159564    0.121403   -0.163563        0.0711087   0.155336     0.252655 \n",
       " -0.283259   -0.265199    0.13026     …   0.103384   -0.123699     0.0484948\n",
       " -0.121817    0.12121     0.00687646     -0.186515   -0.208554    -0.114623 \n",
       " -0.23117    -0.212422    0.315704        0.357895    0.169817     0.0841875\n",
       " -0.186807    0.295615   -0.0469138      -0.450452   -0.153943    -0.169116 \n",
       " -0.130786    0.0835048   0.262378       -0.13146    -0.216139    -0.276116 \n",
       " -0.0824578   0.387278    0.00654484  …   0.419173   -0.456748     0.0482217\n",
       " -0.344626   -0.314982    0.18287        -0.0128189  -0.00191359  -0.575077 \n",
       " -0.251185    0.0455933   0.0301416      -0.0400702   0.21861      0.214185 \n",
       " -0.272626    0.0779621  -0.532488        0.029884   -0.0545255   -0.19205  \n",
       " -0.370112   -0.0807658  -0.173368       -0.185833   -0.0713715    0.160548 \n",
       " -0.0799542   0.26792     0.275818    …  -0.353917    0.0147515    0.286267 \n",
       " -0.141174    0.362852    0.0357849       0.0936982   0.346973    -0.169554 \n",
       " -0.0592535   0.407062    0.274907        0.396055   -0.0500675   -0.0936945\n",
       " -0.162466    0.264653    0.0180928      -0.0560905   0.600928    -0.0962359\n",
       " -0.0659355   0.141087   -0.207335        0.176111   -0.123689     0.0258894"
      ]
     },
     "execution_count": 15,
     "metadata": {},
     "output_type": "execute_result"
    }
   ],
   "source": [
    "Q.Q"
   ]
  },
  {
   "cell_type": "code",
   "execution_count": 16,
   "metadata": {},
   "outputs": [
    {
     "data": {
      "text/plain": [
       "20×15 Array{Float64,2}:\n",
       " -0.388412   -0.0479264  -0.0901355   …  -0.0329273    0.0119534   0.373435 \n",
       " -0.223906   -0.14924     0.223979       -0.0380424    0.491801    0.10787  \n",
       " -0.326947   -0.02355    -0.151893        0.314711     0.196132   -0.0648541\n",
       " -0.0747489   0.112529    0.399899        0.178201     0.0872934   0.485724 \n",
       " -0.159564    0.121403   -0.163563        0.0751888   -0.504491    0.378364 \n",
       " -0.283259   -0.265199    0.13026     …   0.195326    -0.469958   -0.259795 \n",
       " -0.121817    0.12121     0.00687646     -0.513802     0.0559267  -0.126084 \n",
       " -0.23117    -0.212422    0.315704       -0.177079     0.141514   -0.166623 \n",
       " -0.186807    0.295615   -0.0469138       0.209624     0.148775   -0.0285983\n",
       " -0.130786    0.0835048   0.262378       -0.112254    -0.0450378  -0.0457073\n",
       " -0.0824578   0.387278    0.00654484  …   0.139997     0.126485   -0.119374 \n",
       " -0.344626   -0.314982    0.18287         0.0560925   -0.135154    0.196404 \n",
       " -0.251185    0.0455933   0.0301416      -0.257634     0.115878   -0.0882645\n",
       " -0.272626    0.0779621  -0.532488       -0.139388     0.0166706   0.0372309\n",
       " -0.370112   -0.0807658  -0.173368       -0.0671134   -0.0548221  -0.359775 \n",
       " -0.0799542   0.26792     0.275818    …   0.0623455   -0.234471   -0.290566 \n",
       " -0.141174    0.362852    0.0357849      -0.437761    -0.103279    0.208502 \n",
       " -0.0592535   0.407062    0.274907       -0.00500224  -0.178862   -0.0781745\n",
       " -0.162466    0.264653    0.0180928       0.378609     0.152867   -0.149115 \n",
       " -0.0659355   0.141087   -0.207335        0.137939     0.131275    0.0621993"
      ]
     },
     "execution_count": 16,
     "metadata": {},
     "output_type": "execute_result"
    }
   ],
   "source": [
    "Matrix(Q.Q)"
   ]
  },
  {
   "cell_type": "code",
   "execution_count": 17,
   "metadata": {},
   "outputs": [
    {
     "data": {
      "text/plain": [
       "20×15 Array{Float64,2}:\n",
       " 0.0          0.0          9.09495e-13  …   0.0           6.58352e-26\n",
       " 0.0          3.41061e-13  0.0              4.76456e-22   1.45403e-26\n",
       " 0.0          0.0          4.54747e-13      4.23516e-22   2.58494e-26\n",
       " 0.0          0.0          0.0              3.17637e-22   9.69352e-27\n",
       " 0.0          0.0          1.13687e-13      4.23516e-22   9.69352e-27\n",
       " 0.0         -1.98952e-13  0.0          …   2.11758e-22  -1.29247e-26\n",
       " 2.98023e-8   0.0          1.13687e-13      6.08805e-22  -3.23117e-27\n",
       " 0.0         -2.84217e-14  2.27374e-13     -1.45584e-22   9.69352e-27\n",
       " 2.98023e-8   0.0          2.27374e-13      5.29396e-22   0.0        \n",
       " 0.0          0.0          2.27374e-13     -2.11758e-22   1.61559e-26\n",
       " 0.0          0.0          2.27374e-13  …  -2.11758e-22   0.0        \n",
       " 5.96046e-8  -1.13687e-13  0.0              4.23516e-22   1.9387e-26 \n",
       " 0.0          0.0          2.27374e-13     -5.29396e-23   1.29247e-26\n",
       " 0.0          0.0          2.84217e-13      2.11758e-22   1.29247e-26\n",
       " 5.96046e-8   0.0          2.27374e-13      0.0           1.29247e-26\n",
       " 0.0          0.0          2.27374e-13  …  -2.11758e-22   9.69352e-27\n",
       " 0.0          0.0          2.27374e-13     -2.11758e-22  -2.82728e-27\n",
       " 0.0          9.09495e-13  0.0              0.0           1.02994e-26\n",
       " 2.98023e-8   0.0          2.27374e-13      0.0           1.29247e-26\n",
       " 1.49012e-8  -4.54747e-13  1.20792e-13     -2.11758e-22  -6.46235e-27"
      ]
     },
     "execution_count": 17,
     "metadata": {},
     "output_type": "execute_result"
    }
   ],
   "source": [
    "Q.Q*Q.R-A[:,Q.p]"
   ]
  },
  {
   "cell_type": "code",
   "execution_count": 18,
   "metadata": {},
   "outputs": [
    {
     "data": {
      "text/plain": [
       "15×15 Array{Float64,2}:\n",
       " 0.0  0.0  0.0  0.0  0.0  0.0  0.0  0.0  0.0  1.0  0.0  0.0  0.0  0.0  0.0\n",
       " 0.0  0.0  0.0  0.0  0.0  0.0  0.0  0.0  0.0  0.0  0.0  0.0  1.0  0.0  0.0\n",
       " 1.0  0.0  0.0  0.0  0.0  0.0  0.0  0.0  0.0  0.0  0.0  0.0  0.0  0.0  0.0\n",
       " 0.0  0.0  1.0  0.0  0.0  0.0  0.0  0.0  0.0  0.0  0.0  0.0  0.0  0.0  0.0\n",
       " 0.0  0.0  0.0  0.0  0.0  0.0  0.0  0.0  0.0  0.0  0.0  0.0  0.0  0.0  1.0\n",
       " 0.0  0.0  0.0  0.0  0.0  1.0  0.0  0.0  0.0  0.0  0.0  0.0  0.0  0.0  0.0\n",
       " 0.0  0.0  0.0  0.0  0.0  0.0  0.0  0.0  0.0  0.0  0.0  0.0  0.0  1.0  0.0\n",
       " 0.0  1.0  0.0  0.0  0.0  0.0  0.0  0.0  0.0  0.0  0.0  0.0  0.0  0.0  0.0\n",
       " 0.0  0.0  0.0  0.0  1.0  0.0  0.0  0.0  0.0  0.0  0.0  0.0  0.0  0.0  0.0\n",
       " 0.0  0.0  0.0  1.0  0.0  0.0  0.0  0.0  0.0  0.0  0.0  0.0  0.0  0.0  0.0\n",
       " 0.0  0.0  0.0  0.0  0.0  0.0  1.0  0.0  0.0  0.0  0.0  0.0  0.0  0.0  0.0\n",
       " 0.0  0.0  0.0  0.0  0.0  0.0  0.0  1.0  0.0  0.0  0.0  0.0  0.0  0.0  0.0\n",
       " 0.0  0.0  0.0  0.0  0.0  0.0  0.0  0.0  0.0  0.0  1.0  0.0  0.0  0.0  0.0\n",
       " 0.0  0.0  0.0  0.0  0.0  0.0  0.0  0.0  1.0  0.0  0.0  0.0  0.0  0.0  0.0\n",
       " 0.0  0.0  0.0  0.0  0.0  0.0  0.0  0.0  0.0  0.0  0.0  1.0  0.0  0.0  0.0"
      ]
     },
     "execution_count": 18,
     "metadata": {},
     "output_type": "execute_result"
    }
   ],
   "source": [
    "Q.P"
   ]
  },
  {
   "cell_type": "code",
   "execution_count": 19,
   "metadata": {},
   "outputs": [
    {
     "data": {
      "text/plain": [
       "([-1.0 -8.94926e-6 … 8.67243e-16 1.22464e-21; -8.54791e-6 0.991098 … 1.53401e-10 1.57015e-15; … ; -2.49604e-15 1.51076e-10 … -0.999351 -5.37362e-7; -9.07897e-20 3.18106e-15 … 5.88973e-7 -1.0], [1.43506e9, 12435.9, 2369.86, 795.418, 0.306077, 0.252752, 0.212105, 0.15042, 0.0701108, 0.0208543, 0.00317477, 0.00057964, 2.16543e-5, 1.2774e-6, 4.64174e-11], [1.0 7.75522e-11 … -7.71966e-31 -3.96112e-41; -7.74257e-11 0.999674 … 1.58935e-20 5.91135e-30; … ; 2.22326e-30 -1.55284e-20 … 0.999998 2.13952e-11; 0.0 -1.18738e-29 … -2.14017e-11 1.0])"
      ]
     },
     "execution_count": 19,
     "metadata": {},
     "output_type": "execute_result"
    }
   ],
   "source": [
    "UR,σR,VR=myJacobiR(Q.R')"
   ]
  },
  {
   "cell_type": "code",
   "execution_count": 20,
   "metadata": {},
   "outputs": [
    {
     "data": {
      "text/plain": [
       "15-element Array{Float64,1}:\n",
       "  1.3922262158291046e-16\n",
       "  1.8234989100941402e-15\n",
       "  3.1292910397289196e-16\n",
       " -3.740951016703335e-16 \n",
       " -6.830108752989371e-16 \n",
       "  6.65463395093425e-16  \n",
       "  5.93822115244091e-16  \n",
       "  5.535611236440939e-16 \n",
       "  1.04686092439792e-15  \n",
       "  2.1962684051440104e-16\n",
       "  1.2695446012882906e-15\n",
       "  1.5721984928666066e-15\n",
       "  7.675516507047292e-16 \n",
       "  5.850770946265119e-16 \n",
       "  1.6613838442869798e-16"
      ]
     },
     "execution_count": 20,
     "metadata": {},
     "output_type": "execute_result"
    }
   ],
   "source": [
    "(sort(σ)-sort(σR))./sort(σ)"
   ]
  },
  {
   "cell_type": "markdown",
   "metadata": {},
   "source": [
    "Now $QRP^T=A$ and $R^T=U_R\\Sigma_R V^T_R$, so \n",
    "\n",
    "$$\n",
    "A=(Q V_R) \\Sigma_R (U_R^T P^T)\n",
    "$$ \n",
    "\n",
    "is an SVD of $A$."
   ]
  },
  {
   "cell_type": "code",
   "execution_count": 21,
   "metadata": {},
   "outputs": [
    {
     "data": {
      "text/plain": [
       "2.3181486675380652e-7"
      ]
     },
     "execution_count": 21,
     "metadata": {},
     "output_type": "execute_result"
    }
   ],
   "source": [
    "# Check the residual\n",
    "U₁=Q.Q*VR\n",
    "V₁=UR[invperm(Q.p),:]\n",
    "norm(A*V₁-U₁*Diagonal(σR))"
   ]
  },
  {
   "cell_type": "markdown",
   "metadata": {
    "collapsed": true
   },
   "source": [
    "## Lanczos method\n",
    "\n",
    "The function `svds()` is based on the Lanczos method for symmetric matrices. Input can be matrix, but also an operator which defines the product of the given matrix with a vector."
   ]
  },
  {
   "cell_type": "code",
   "execution_count": 22,
   "metadata": {},
   "outputs": [],
   "source": [
    "using Arpack"
   ]
  },
  {
   "cell_type": "code",
   "execution_count": 23,
   "metadata": {},
   "outputs": [
    {
     "name": "stdout",
     "output_type": "stream",
     "text": [
      "search: \u001b[0m\u001b[1ms\u001b[22m\u001b[0m\u001b[1mv\u001b[22m\u001b[0m\u001b[1md\u001b[22m\u001b[0m\u001b[1ms\u001b[22m \u001b[0m\u001b[1ms\u001b[22m\u001b[0m\u001b[1mv\u001b[22m\u001b[0m\u001b[1md\u001b[22mval\u001b[0m\u001b[1ms\u001b[22m \u001b[0m\u001b[1ms\u001b[22m\u001b[0m\u001b[1mv\u001b[22m\u001b[0m\u001b[1md\u001b[22mval\u001b[0m\u001b[1ms\u001b[22m! \u001b[0m\u001b[1ms\u001b[22m\u001b[0m\u001b[1mv\u001b[22m\u001b[0m\u001b[1md\u001b[22m! \u001b[0m\u001b[1ms\u001b[22m\u001b[0m\u001b[1mv\u001b[22m\u001b[0m\u001b[1md\u001b[22m \u001b[0m\u001b[1mS\u001b[22m\u001b[0m\u001b[1mV\u001b[22m\u001b[0m\u001b[1mD\u001b[22m Generalized\u001b[0m\u001b[1mS\u001b[22m\u001b[0m\u001b[1mV\u001b[22m\u001b[0m\u001b[1mD\u001b[22m i\u001b[0m\u001b[1ms\u001b[22m\u001b[0m\u001b[1mv\u001b[22mali\u001b[0m\u001b[1md\u001b[22m\n",
      "\n"
     ]
    },
    {
     "data": {
      "text/latex": [
       "\\begin{verbatim}\n",
       "svds(A; nsv=6, ritzvec=true, tol=0.0, maxiter=1000, ncv=2*nsv, v0=zeros((0,))) -> (SVD([left_sv,] s, [right_sv,]), nconv, niter, nmult, resid)\n",
       "\\end{verbatim}\n",
       "Computes the largest singular values \\texttt{s} of \\texttt{A} using implicitly restarted Lanczos iterations derived from \\href{@ref}{\\texttt{eigs}}.\n",
       "\n",
       "\\textbf{Inputs}\n",
       "\n",
       "\\begin{itemize}\n",
       "\\item \\texttt{A}: Linear operator whose singular values are desired. \\texttt{A} may be represented as a subtype of \\texttt{AbstractArray}, e.g., a sparse matrix, or any other type supporting the four methods \\texttt{size(A)}, \\texttt{eltype(A)}, \\texttt{A * vector}, and \\texttt{A' * vector}.\n",
       "\n",
       "\n",
       "\\item \\texttt{nsv}: Number of singular values. Default: 6.\n",
       "\n",
       "\n",
       "\\item \\texttt{ritzvec}: If \\texttt{true}, return the left and right singular vectors \\texttt{left\\_sv} and \\texttt{right\\_sv}.  If \\texttt{false}, omit the singular vectors. Default: \\texttt{true}.\n",
       "\n",
       "\n",
       "\\item \\texttt{tol}: tolerance, see \\href{@ref}{\\texttt{eigs}}.\n",
       "\n",
       "\n",
       "\\item \\texttt{maxiter}: Maximum number of iterations, see \\href{@ref}{\\texttt{eigs}}. Default: 1000.\n",
       "\n",
       "\n",
       "\\item \\texttt{ncv}: Maximum size of the Krylov subspace, see \\href{@ref}{\\texttt{eigs}} (there called \\texttt{nev}). Default: \\texttt{2*nsv}.\n",
       "\n",
       "\n",
       "\\item \\texttt{v0}: Initial guess for the first Krylov vector. It may have length \\texttt{min(size(A)...)}, or 0.\n",
       "\n",
       "\\end{itemize}\n",
       "\\textbf{Outputs}\n",
       "\n",
       "\\begin{itemize}\n",
       "\\item \\texttt{svd}: An \\texttt{SVD} object containing the left singular vectors, the requested values, and the right singular vectors. If \\texttt{ritzvec = false}, the left and right singular vectors will be empty.\n",
       "\n",
       "\n",
       "\\item \\texttt{nconv}: Number of converged singular values.\n",
       "\n",
       "\n",
       "\\item \\texttt{niter}: Number of iterations.\n",
       "\n",
       "\n",
       "\\item \\texttt{nmult}: Number of matrix–vector products used.\n",
       "\n",
       "\n",
       "\\item \\texttt{resid}: Final residual vector.\n",
       "\n",
       "\\end{itemize}\n",
       "\\section{Examples}\n",
       "\\begin{verbatim}\n",
       "julia> A = Diagonal(1:4);\n",
       "\n",
       "julia> s = svds(A, nsv = 2)[1];\n",
       "\n",
       "julia> s.S\n",
       "2-element Array{Float64,1}:\n",
       " 4.0\n",
       " 2.9999999999999996\n",
       "\\end{verbatim}\n",
       "\\begin{quote}\n",
       "\\textbf{note}\n",
       "\n",
       "Implementation\n",
       "\n",
       "\\texttt{svds(A)} is formally equivalent to calling \\href{@ref}{\\texttt{eigs}} to perform implicitly restarted Lanczos tridiagonalization on the Hermitian matrix $A^\\prime A$ or $AA^\\prime$ such that the size is smallest.\n",
       "\n",
       "\\end{quote}\n"
      ],
      "text/markdown": [
       "```\n",
       "svds(A; nsv=6, ritzvec=true, tol=0.0, maxiter=1000, ncv=2*nsv, v0=zeros((0,))) -> (SVD([left_sv,] s, [right_sv,]), nconv, niter, nmult, resid)\n",
       "```\n",
       "\n",
       "Computes the largest singular values `s` of `A` using implicitly restarted Lanczos iterations derived from [`eigs`](@ref).\n",
       "\n",
       "**Inputs**\n",
       "\n",
       "  * `A`: Linear operator whose singular values are desired. `A` may be represented as a subtype of `AbstractArray`, e.g., a sparse matrix, or any other type supporting the four methods `size(A)`, `eltype(A)`, `A * vector`, and `A' * vector`.\n",
       "  * `nsv`: Number of singular values. Default: 6.\n",
       "  * `ritzvec`: If `true`, return the left and right singular vectors `left_sv` and `right_sv`.  If `false`, omit the singular vectors. Default: `true`.\n",
       "  * `tol`: tolerance, see [`eigs`](@ref).\n",
       "  * `maxiter`: Maximum number of iterations, see [`eigs`](@ref). Default: 1000.\n",
       "  * `ncv`: Maximum size of the Krylov subspace, see [`eigs`](@ref) (there called `nev`). Default: `2*nsv`.\n",
       "  * `v0`: Initial guess for the first Krylov vector. It may have length `min(size(A)...)`, or 0.\n",
       "\n",
       "**Outputs**\n",
       "\n",
       "  * `svd`: An `SVD` object containing the left singular vectors, the requested values, and the right singular vectors. If `ritzvec = false`, the left and right singular vectors will be empty.\n",
       "  * `nconv`: Number of converged singular values.\n",
       "  * `niter`: Number of iterations.\n",
       "  * `nmult`: Number of matrix–vector products used.\n",
       "  * `resid`: Final residual vector.\n",
       "\n",
       "# Examples\n",
       "\n",
       "```jldoctest; filter = r\"2-element Array{Float64,1}:\\n.*\\n.*\"\n",
       "julia> A = Diagonal(1:4);\n",
       "\n",
       "julia> s = svds(A, nsv = 2)[1];\n",
       "\n",
       "julia> s.S\n",
       "2-element Array{Float64,1}:\n",
       " 4.0\n",
       " 2.9999999999999996\n",
       "```\n",
       "\n",
       "!!! note \"Implementation\"\n",
       "    `svds(A)` is formally equivalent to calling [`eigs`](@ref) to perform implicitly restarted Lanczos tridiagonalization on the Hermitian matrix $A^\\prime A$ or $AA^\\prime$ such that the size is smallest.\n",
       "\n"
      ],
      "text/plain": [
       "\u001b[36m  svds(A; nsv=6, ritzvec=true, tol=0.0, maxiter=1000, ncv=2*nsv, v0=zeros((0,))) -> (SVD([left_sv,] s, [right_sv,]), nconv, niter, nmult, resid)\u001b[39m\n",
       "\n",
       "  Computes the largest singular values \u001b[36ms\u001b[39m of \u001b[36mA\u001b[39m using implicitly restarted\n",
       "  Lanczos iterations derived from \u001b[36meigs\u001b[39m.\n",
       "\n",
       "  \u001b[1mInputs\u001b[22m\n",
       "\n",
       "    •    \u001b[36mA\u001b[39m: Linear operator whose singular values are desired. \u001b[36mA\u001b[39m may be\n",
       "        represented as a subtype of \u001b[36mAbstractArray\u001b[39m, e.g., a sparse matrix,\n",
       "        or any other type supporting the four methods \u001b[36msize(A)\u001b[39m, \u001b[36meltype(A)\u001b[39m,\n",
       "        \u001b[36mA * vector\u001b[39m, and \u001b[36mA' * vector\u001b[39m.\n",
       "\n",
       "    •    \u001b[36mnsv\u001b[39m: Number of singular values. Default: 6.\n",
       "\n",
       "    •    \u001b[36mritzvec\u001b[39m: If \u001b[36mtrue\u001b[39m, return the left and right singular vectors\n",
       "        \u001b[36mleft_sv\u001b[39m and \u001b[36mright_sv\u001b[39m. If \u001b[36mfalse\u001b[39m, omit the singular vectors.\n",
       "        Default: \u001b[36mtrue\u001b[39m.\n",
       "\n",
       "    •    \u001b[36mtol\u001b[39m: tolerance, see \u001b[36meigs\u001b[39m.\n",
       "\n",
       "    •    \u001b[36mmaxiter\u001b[39m: Maximum number of iterations, see \u001b[36meigs\u001b[39m. Default: 1000.\n",
       "\n",
       "    •    \u001b[36mncv\u001b[39m: Maximum size of the Krylov subspace, see \u001b[36meigs\u001b[39m (there called\n",
       "        \u001b[36mnev\u001b[39m). Default: \u001b[36m2*nsv\u001b[39m.\n",
       "\n",
       "    •    \u001b[36mv0\u001b[39m: Initial guess for the first Krylov vector. It may have length\n",
       "        \u001b[36mmin(size(A)...)\u001b[39m, or 0.\n",
       "\n",
       "  \u001b[1mOutputs\u001b[22m\n",
       "\n",
       "    •    \u001b[36msvd\u001b[39m: An \u001b[36mSVD\u001b[39m object containing the left singular vectors, the\n",
       "        requested values, and the right singular vectors. If \u001b[36mritzvec =\n",
       "        false\u001b[39m, the left and right singular vectors will be empty.\n",
       "\n",
       "    •    \u001b[36mnconv\u001b[39m: Number of converged singular values.\n",
       "\n",
       "    •    \u001b[36mniter\u001b[39m: Number of iterations.\n",
       "\n",
       "    •    \u001b[36mnmult\u001b[39m: Number of matrix–vector products used.\n",
       "\n",
       "    •    \u001b[36mresid\u001b[39m: Final residual vector.\n",
       "\n",
       "\u001b[1m  Examples\u001b[22m\n",
       "\u001b[1m  ≡≡≡≡≡≡≡≡≡≡\u001b[22m\n",
       "\n",
       "\u001b[36m  julia> A = Diagonal(1:4);\u001b[39m\n",
       "\u001b[36m  \u001b[39m\n",
       "\u001b[36m  julia> s = svds(A, nsv = 2)[1];\u001b[39m\n",
       "\u001b[36m  \u001b[39m\n",
       "\u001b[36m  julia> s.S\u001b[39m\n",
       "\u001b[36m  2-element Array{Float64,1}:\u001b[39m\n",
       "\u001b[36m   4.0\u001b[39m\n",
       "\u001b[36m   2.9999999999999996\u001b[39m\n",
       "\n",
       "\u001b[39m\u001b[1m  │ \u001b[22m\u001b[39m\u001b[1mImplementation\u001b[22m\n",
       "\u001b[39m\u001b[1m  │\u001b[22m\n",
       "\u001b[39m\u001b[1m  │\u001b[22m  \u001b[36msvds(A)\u001b[39m is formally equivalent to calling \u001b[36meigs\u001b[39m to perform\n",
       "\u001b[39m\u001b[1m  │\u001b[22m  implicitly restarted Lanczos tridiagonalization on the Hermitian\n",
       "\u001b[39m\u001b[1m  │\u001b[22m  matrix \u001b[35mA^\\prime A\u001b[39m or \u001b[35mAA^\\prime\u001b[39m such that the size is smallest."
      ]
     },
     "execution_count": 23,
     "metadata": {},
     "output_type": "execute_result"
    }
   ],
   "source": [
    "?svds"
   ]
  },
  {
   "cell_type": "code",
   "execution_count": 24,
   "metadata": {},
   "outputs": [],
   "source": [
    "m=20\n",
    "n=15\n",
    "A=rand(m,n);"
   ]
  },
  {
   "cell_type": "code",
   "execution_count": 25,
   "metadata": {},
   "outputs": [],
   "source": [
    "U,σ,V=svd(A);"
   ]
  },
  {
   "cell_type": "code",
   "execution_count": 26,
   "metadata": {},
   "outputs": [
    {
     "data": {
      "text/plain": [
       "6-element Array{Float64,1}:\n",
       "  0.0                   \n",
       "  8.706229724762359e-16 \n",
       "  6.977733038241806e-16 \n",
       " -1.1958007494670478e-16\n",
       " -3.885606509081423e-16 \n",
       " -7.731403122654108e-16 "
      ]
     },
     "execution_count": 26,
     "metadata": {},
     "output_type": "execute_result"
    }
   ],
   "source": [
    "# Some largest singular values\n",
    "k=6\n",
    "σp,rest=svds(A,nsv=k);\n",
    "(σ[1:k]-σp.S)./σ[1:k]"
   ]
  },
  {
   "cell_type": "markdown",
   "metadata": {},
   "source": [
    "### Example - Large matrix"
   ]
  },
  {
   "cell_type": "code",
   "execution_count": 27,
   "metadata": {},
   "outputs": [],
   "source": [
    "m=2000\n",
    "n=1500\n",
    "Ab=rand(m,n);"
   ]
  },
  {
   "cell_type": "code",
   "execution_count": 28,
   "metadata": {},
   "outputs": [
    {
     "name": "stdout",
     "output_type": "stream",
     "text": [
      "  0.996196 seconds (24 allocations: 114.625 MiB, 5.18% gc time)\n"
     ]
    }
   ],
   "source": [
    "@time Ub,σb,Vb=svd(Ab);"
   ]
  },
  {
   "cell_type": "code",
   "execution_count": 29,
   "metadata": {},
   "outputs": [
    {
     "name": "stdout",
     "output_type": "stream",
     "text": [
      "  0.348209 seconds (1.20 k allocations: 1.042 MiB)\n"
     ]
    }
   ],
   "source": [
    "# This is rather slow\n",
    "k=10\n",
    "@time σl,rest=svds(Ab,nsv=k);"
   ]
  },
  {
   "cell_type": "code",
   "execution_count": 30,
   "metadata": {},
   "outputs": [
    {
     "data": {
      "text/plain": [
       "10-element Array{Float64,1}:\n",
       "  2.624221204697654e-16 \n",
       " -7.407297217458317e-16 \n",
       " -2.0858389415538483e-15\n",
       " -1.9387544185424676e-15\n",
       " -3.743677340152142e-15 \n",
       "  1.2019478050717918e-15\n",
       "  6.013697880412048e-16 \n",
       "  2.560023793811529e-15 \n",
       "  4.384557603499126e-15 \n",
       "  2.274451499238495e-15 "
      ]
     },
     "execution_count": 30,
     "metadata": {},
     "output_type": "execute_result"
    }
   ],
   "source": [
    "(σb[1:k]-σl.S)./σb[1:k]"
   ]
  },
  {
   "cell_type": "markdown",
   "metadata": {},
   "source": [
    "### Example - Very large sparse matrix"
   ]
  },
  {
   "cell_type": "code",
   "execution_count": 31,
   "metadata": {},
   "outputs": [],
   "source": [
    "using SparseArrays"
   ]
  },
  {
   "cell_type": "code",
   "execution_count": 32,
   "metadata": {},
   "outputs": [
    {
     "name": "stdout",
     "output_type": "stream",
     "text": [
      "search: \u001b[0m\u001b[1ms\u001b[22m\u001b[0m\u001b[1mp\u001b[22m\u001b[0m\u001b[1mr\u001b[22m\u001b[0m\u001b[1ma\u001b[22m\u001b[0m\u001b[1mn\u001b[22m\u001b[0m\u001b[1md\u001b[22m \u001b[0m\u001b[1ms\u001b[22m\u001b[0m\u001b[1mp\u001b[22m\u001b[0m\u001b[1mr\u001b[22m\u001b[0m\u001b[1ma\u001b[22m\u001b[0m\u001b[1mn\u001b[22m\u001b[0m\u001b[1md\u001b[22mn \u001b[0m\u001b[1mS\u001b[22mte\u001b[0m\u001b[1mp\u001b[22m\u001b[0m\u001b[1mR\u001b[22m\u001b[0m\u001b[1ma\u001b[22m\u001b[0m\u001b[1mn\u001b[22mge \u001b[0m\u001b[1mS\u001b[22mte\u001b[0m\u001b[1mp\u001b[22m\u001b[0m\u001b[1mR\u001b[22m\u001b[0m\u001b[1ma\u001b[22m\u001b[0m\u001b[1mn\u001b[22mgeLen\n",
      "\n"
     ]
    },
    {
     "data": {
      "text/latex": [
       "\\begin{verbatim}\n",
       "sprand([rng],[type],m,[n],p::AbstractFloat,[rfn])\n",
       "\\end{verbatim}\n",
       "Create a random length \\texttt{m} sparse vector or \\texttt{m} by \\texttt{n} sparse matrix, in which the probability of any element being nonzero is independently given by \\texttt{p} (and hence the mean density of nonzeros is also exactly \\texttt{p}). Nonzero values are sampled from the distribution specified by \\texttt{rfn} and have the type \\texttt{type}. The uniform distribution is used in case \\texttt{rfn} is not specified. The optional \\texttt{rng} argument specifies a random number generator, see \\href{@ref}{Random Numbers}.\n",
       "\n",
       "\\section{Examples}\n",
       "\\begin{verbatim}\n",
       "julia> sprand(Bool, 2, 2, 0.5)\n",
       "2×2 SparseMatrixCSC{Bool,Int64} with 2 stored entries:\n",
       "  [1, 1]  =  true\n",
       "  [2, 1]  =  true\n",
       "\n",
       "julia> sprand(Float64, 3, 0.75)\n",
       "3-element SparseVector{Float64,Int64} with 1 stored entry:\n",
       "  [3]  =  0.298614\n",
       "\\end{verbatim}\n"
      ],
      "text/markdown": [
       "```\n",
       "sprand([rng],[type],m,[n],p::AbstractFloat,[rfn])\n",
       "```\n",
       "\n",
       "Create a random length `m` sparse vector or `m` by `n` sparse matrix, in which the probability of any element being nonzero is independently given by `p` (and hence the mean density of nonzeros is also exactly `p`). Nonzero values are sampled from the distribution specified by `rfn` and have the type `type`. The uniform distribution is used in case `rfn` is not specified. The optional `rng` argument specifies a random number generator, see [Random Numbers](@ref).\n",
       "\n",
       "# Examples\n",
       "\n",
       "```jldoctest; setup = :(using Random; Random.seed!(1234))\n",
       "julia> sprand(Bool, 2, 2, 0.5)\n",
       "2×2 SparseMatrixCSC{Bool,Int64} with 2 stored entries:\n",
       "  [1, 1]  =  true\n",
       "  [2, 1]  =  true\n",
       "\n",
       "julia> sprand(Float64, 3, 0.75)\n",
       "3-element SparseVector{Float64,Int64} with 1 stored entry:\n",
       "  [3]  =  0.298614\n",
       "```\n"
      ],
      "text/plain": [
       "\u001b[36m  sprand([rng],[type],m,[n],p::AbstractFloat,[rfn])\u001b[39m\n",
       "\n",
       "  Create a random length \u001b[36mm\u001b[39m sparse vector or \u001b[36mm\u001b[39m by \u001b[36mn\u001b[39m sparse matrix, in which the\n",
       "  probability of any element being nonzero is independently given by \u001b[36mp\u001b[39m (and\n",
       "  hence the mean density of nonzeros is also exactly \u001b[36mp\u001b[39m). Nonzero values are\n",
       "  sampled from the distribution specified by \u001b[36mrfn\u001b[39m and have the type \u001b[36mtype\u001b[39m. The\n",
       "  uniform distribution is used in case \u001b[36mrfn\u001b[39m is not specified. The optional \u001b[36mrng\u001b[39m\n",
       "  argument specifies a random number generator, see Random Numbers.\n",
       "\n",
       "\u001b[1m  Examples\u001b[22m\n",
       "\u001b[1m  ≡≡≡≡≡≡≡≡≡≡\u001b[22m\n",
       "\n",
       "\u001b[36m  julia> sprand(Bool, 2, 2, 0.5)\u001b[39m\n",
       "\u001b[36m  2×2 SparseMatrixCSC{Bool,Int64} with 2 stored entries:\u001b[39m\n",
       "\u001b[36m    [1, 1]  =  true\u001b[39m\n",
       "\u001b[36m    [2, 1]  =  true\u001b[39m\n",
       "\u001b[36m  \u001b[39m\n",
       "\u001b[36m  julia> sprand(Float64, 3, 0.75)\u001b[39m\n",
       "\u001b[36m  3-element SparseVector{Float64,Int64} with 1 stored entry:\u001b[39m\n",
       "\u001b[36m    [3]  =  0.298614\u001b[39m"
      ]
     },
     "execution_count": 32,
     "metadata": {},
     "output_type": "execute_result"
    }
   ],
   "source": [
    "?sprand"
   ]
  },
  {
   "cell_type": "code",
   "execution_count": 33,
   "metadata": {},
   "outputs": [
    {
     "data": {
      "text/plain": [
       "10000×3000 SparseMatrixCSC{Float64,Int64} with 1500113 stored entries:\n",
       "  [19   ,     1]  =  0.90023\n",
       "  [26   ,     1]  =  0.744044\n",
       "  [34   ,     1]  =  0.874664\n",
       "  [35   ,     1]  =  0.860175\n",
       "  [58   ,     1]  =  0.477536\n",
       "  [71   ,     1]  =  0.312754\n",
       "  [76   ,     1]  =  0.237232\n",
       "  [84   ,     1]  =  0.0896526\n",
       "  [103  ,     1]  =  0.193977\n",
       "  [136  ,     1]  =  0.29454\n",
       "  [144  ,     1]  =  0.888453\n",
       "  [170  ,     1]  =  0.209636\n",
       "  ⋮\n",
       "  [9656 ,  3000]  =  0.637177\n",
       "  [9671 ,  3000]  =  0.860207\n",
       "  [9706 ,  3000]  =  0.822673\n",
       "  [9748 ,  3000]  =  0.0195395\n",
       "  [9761 ,  3000]  =  0.757482\n",
       "  [9816 ,  3000]  =  0.501967\n",
       "  [9827 ,  3000]  =  0.258147\n",
       "  [9831 ,  3000]  =  0.0478862\n",
       "  [9907 ,  3000]  =  0.0550054\n",
       "  [9918 ,  3000]  =  0.687168\n",
       "  [9949 ,  3000]  =  0.486146\n",
       "  [9954 ,  3000]  =  0.134086"
      ]
     },
     "execution_count": 33,
     "metadata": {},
     "output_type": "execute_result"
    }
   ],
   "source": [
    "m=10000\n",
    "n=3000\n",
    "A=sprand(m,n,0.05)"
   ]
  },
  {
   "cell_type": "code",
   "execution_count": 34,
   "metadata": {},
   "outputs": [
    {
     "name": "stdout",
     "output_type": "stream",
     "text": [
      "  4.453773 seconds (1.53 M allocations: 82.026 MiB, 0.39% gc time)\n"
     ]
    },
    {
     "data": {
      "text/plain": [
       "(SVD{Float64,Float64,Array{Float64,2}}(Array{Float64}(3000,0), [137.675, 19.6332, 19.596, 19.5919, 19.5415, 19.5276, 19.5042, 19.4807, 19.4739, 19.4484  …  18.5398, 18.5358, 18.5288, 18.5205, 18.5137, 18.4967, 18.4915, 18.4822, 18.4773, 18.463], Array{Float64}(0,10000)), 100, 10, 781, [0.728636, -0.795075, -2.664, 1.03544, -1.2778, -0.109837, -0.87793, -1.23987, -2.214, -0.845141  …  -0.475093, 1.00349, -0.0622096, 2.60375, 0.50999, -3.08312, 1.11519, -1.19553, 0.216117, 0.0527775])"
      ]
     },
     "execution_count": 34,
     "metadata": {},
     "output_type": "execute_result"
    }
   ],
   "source": [
    "# No vectors, this takes about 5 sec.\n",
    "k=100\n",
    "@time σ₁,rest=svds(A,nsv=k,ritzvec=false)"
   ]
  },
  {
   "cell_type": "code",
   "execution_count": 35,
   "metadata": {},
   "outputs": [
    {
     "name": "stdout",
     "output_type": "stream",
     "text": [
      "  7.897487 seconds (25.65 k allocations: 460.785 MiB, 0.66% gc time)\n"
     ]
    }
   ],
   "source": [
    "# Full matrix\n",
    "@time σ₂=svdvals(Matrix(A));"
   ]
  },
  {
   "cell_type": "code",
   "execution_count": 36,
   "metadata": {},
   "outputs": [
    {
     "data": {
      "text/plain": [
       "6.413259617115376e-15"
      ]
     },
     "execution_count": 36,
     "metadata": {},
     "output_type": "execute_result"
    }
   ],
   "source": [
    "maximum(abs,(σ₁.S-σ₂[1:k])./σ₂[1:k])"
   ]
  },
  {
   "cell_type": "code",
   "execution_count": null,
   "metadata": {},
   "outputs": [],
   "source": []
  }
 ],
 "metadata": {
  "@webio": {
   "lastCommId": null,
   "lastKernelId": null
  },
  "anaconda-cloud": {},
  "kernelspec": {
   "display_name": "Julia 1.0.2",
   "language": "julia",
   "name": "julia-1.0"
  },
  "language_info": {
   "file_extension": ".jl",
   "mimetype": "application/julia",
   "name": "julia",
   "version": "1.0.2"
  }
 },
 "nbformat": 4,
 "nbformat_minor": 1
}
