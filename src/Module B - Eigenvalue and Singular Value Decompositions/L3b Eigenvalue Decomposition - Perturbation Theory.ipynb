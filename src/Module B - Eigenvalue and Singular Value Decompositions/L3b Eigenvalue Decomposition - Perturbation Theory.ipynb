{
 "cells": [
  {
   "cell_type": "markdown",
   "metadata": {},
   "source": [
    "# Eigenvalue Decomposition - Perturbation Theory\n",
    "\n",
    "\n",
    "## Prerequisites\n",
    "\n",
    "The reader should be familiar with basic linear algebra concepts and facts about eigenvalue decomposition. \n",
    "\n",
    "## Competences \n",
    "\n",
    "The reader should be able to understand and check the facts about perturbations of eigenvalues and eigenvectors.\n"
   ]
  },
  {
   "cell_type": "markdown",
   "metadata": {},
   "source": [
    "## Norms\n",
    "\n",
    "In order to measure changes, we need to define norms. For more details and the proofs of the Facts below, see \n",
    "[R. Byers and B. N. Datta, Vector and Matrix Norms, Error Analysis, Efficiency, and Stability][Hog14] and the references therein.\n",
    "\n",
    "[Hog14]: #1 \"L. Hogben, ed., 'Handbook of Linear Algebra', pp. 50.1-50.24, CRC Press, Boca Raton, 2014.\"\n",
    "\n",
    "### Definitions\n",
    "\n",
    "__Norm__ on a vector space $X$ is a real-valued function $\\| \\phantom{x} \\| : X\\to \\mathbb{R}$ with the following properties:\n",
    "\n",
    "1. __Positive definiteness.__ $\\| x\\|\\geq 0$ and $\\|x\\|=0$ if and only if $x$ is the zero vector.  \n",
    "2. __Homogeneity.__ $\\| \\lambda x\\|=|\\lambda| \\|x\\|$  \n",
    "3. __Triangle inequality.__ $\\| x+y\\| \\leq \\|x\\|+\\|y\\|$ \n",
    "\n",
    "Commonly encountered vector norms for $x\\in\\mathbb{C}^n$ are:\n",
    "\n",
    "* __H&ouml;lder norm__ or $p$-__norm__: for $p\\geq 1$, $\\|x\\|_p=\\big(|x_1|^p+|x_2|^p+\\cdots |x_n|^p)^{1/p}$,\n",
    "* __Sum norm__ or $1$-__norm__: $\\|x\\|_1=|x_1|+|x_2|+\\cdots |x_n|$,\n",
    "* __Euclidean norm__ or $2$-__norm__: $\\|x\\|_2=\\sqrt{|x_1|^2+|x_2|^2+\\cdots |x_n|^2}$,\n",
    "* __Sup-norm__ or $\\infty$-__norm__: $\\|x\\|_\\infty = \\max\\limits_{i=1,\\ldots,n} |x_i|$.\n",
    "\n",
    "Vector norm is __absolute__ if $\\||x|\\|=\\|x\\|$.\n",
    "\n",
    "Vector norm is __monotone__ if $|x|\\leq |y|$ implies $\\|x\\|\\leq \\|y\\|$. \n",
    "\n",
    "From every vector norm we can derive a corresponding __induced__ matrix norm (also, __operator norm__ or __natural norm__):\n",
    "\n",
    "$$\\|A\\| = \\max\\limits_{x\\neq 0} \\frac{\\|Ax\\|}{\\|x\\|}=\\max\\limits_{\\|x\\|=1} \\|Ax\\|.$$\n",
    "\n",
    "For matrix $A\\in\\mathbb{C}^{m\\times n}$ we define:\n",
    "\n",
    "* __Maximum absolute column sum norm__: $\\|A\\|_1=\\max\\limits_{1\\leq j \\leq n} \\sum_{i=1}^m |a_{ij}|$,\n",
    "* __Spectral norm__: $\\|A\\|_2=\\sqrt{\\rho(A^*A)}=\\sigma_{\\max}(A)$  (largest singular value of $A$),\n",
    "* __Maximum absolute row sum norm__: $\\|A\\|_{\\infty}=\\max\\limits_{1\\leq i \\leq m} \\sum_{j=1}^n |a_{ij}|$,\n",
    "* __Euclidean norm__ or __Frobenius norm__: \n",
    "$\\|A\\|_F =\\sqrt{\\sum_{i,j} |a_{ij}|^2}=\\sqrt{\\mathop{\\mathrm{tr}}(A^*A)}$.\n",
    "\n",
    "Matrix norm is __consistent__ if $\\|A\\cdot B\\|\\leq \\|A\\| \\cdot \\| B\\|$, where $A$ and $B$ are compatible for matrix multiplication.\n",
    "\n",
    "Matrix norm is __absolute__ if $\\||A|\\|=\\|A\\|$.\n",
    "\n",
    "### Examples"
   ]
  },
  {
   "cell_type": "code",
   "execution_count": 1,
   "metadata": {},
   "outputs": [
    {
     "data": {
      "text/plain": [
       "5-element Array{Int64,1}:\n",
       " -2\n",
       " -3\n",
       " -2\n",
       "  4\n",
       "  2"
      ]
     },
     "execution_count": 1,
     "metadata": {},
     "output_type": "execute_result"
    }
   ],
   "source": [
    "import Random\n",
    "Random.seed!(425)\n",
    "x=rand(-4:4,5)"
   ]
  },
  {
   "cell_type": "code",
   "execution_count": 2,
   "metadata": {},
   "outputs": [
    {
     "data": {
      "text/plain": [
       "(13.0, 6.082762530298219, 4.0)"
      ]
     },
     "execution_count": 2,
     "metadata": {},
     "output_type": "execute_result"
    }
   ],
   "source": [
    "using LinearAlgebra\n",
    "norm(x,1), norm(x), norm(x,Inf)"
   ]
  },
  {
   "cell_type": "code",
   "execution_count": 3,
   "metadata": {},
   "outputs": [
    {
     "data": {
      "text/plain": [
       "7×5 Array{Int64,2}:\n",
       "  0  -3   2   0   4\n",
       "  1   1   4  -3  -3\n",
       "  3   2   1  -3   0\n",
       " -4  -4  -2  -1  -3\n",
       "  2   3  -4   2   0\n",
       " -1  -1   4  -3  -3\n",
       " -1  -3  -2   4   4"
      ]
     },
     "execution_count": 3,
     "metadata": {},
     "output_type": "execute_result"
    }
   ],
   "source": [
    "A=rand(-4:4,7,5)"
   ]
  },
  {
   "cell_type": "code",
   "execution_count": 4,
   "metadata": {},
   "outputs": [
    {
     "data": {
      "text/plain": [
       "(81.0, 15.7797338380595, 15.7797338380595, 4.0, 11.053558535027305, 19.0, 14.0)"
      ]
     },
     "execution_count": 4,
     "metadata": {},
     "output_type": "execute_result"
    }
   ],
   "source": [
    "norm(A,1), norm(A), norm(A,2), norm(A,Inf), \n",
    "opnorm(A), opnorm(A,1), opnorm(A,Inf)"
   ]
  },
  {
   "cell_type": "code",
   "execution_count": 5,
   "metadata": {},
   "outputs": [
    {
     "data": {
      "text/plain": [
       "15.7797338380595"
      ]
     },
     "execution_count": 5,
     "metadata": {},
     "output_type": "execute_result"
    }
   ],
   "source": [
    "# Frobenius norm\n",
    "norm(vec(A)) "
   ]
  },
  {
   "cell_type": "markdown",
   "metadata": {},
   "source": [
    "### Facts\n",
    "\n",
    "\n",
    "1. $\\|x\\|_1$, $\\|x\\|_2$, $\\|x\\|_\\infty$ and $\\|x\\|_p$ are absolute and monotone vector norms.\n",
    "2. A vector norm is absolute iff it is monotone.\n",
    "3. __Convergence.__ $x_k\\to x_*$ iff for any vector norm $\\|x_k-x_*\\|\\to 0$.\n",
    "3. Any two vector norms are equivalent in the sense that, for all $x$ and some $\\alpha,\\beta>0$\n",
    "$$\n",
    "\\alpha \\|x\\|_\\mu \\leq \\|x\\|_\\nu \\leq \\beta \\|x\\|_\\mu.\n",
    "$$\n",
    "In particular:\n",
    "   * $\\|x\\|_2 \\leq \\|x\\|_1\\leq \\sqrt{n}\\|x\\|_2$,\n",
    "   * $\\|x\\|_\\infty \\leq \\|x\\|_2\\leq \\sqrt{n}\\|x\\|_\\infty$,\n",
    "   * $\\|x\\|_\\infty \\leq \\|x\\|_1\\leq n\\|x\\|_\\infty$.\n",
    "2. __Cauchy-Schwartz inequality.__ $|x^*y|\\leq \\|x\\|_2\\|y\\|_2$.\n",
    "3. __H&ouml;lder inequality.__ If $p,q\\geq 1$ and $\\displaystyle\\frac{1}{p}+\\frac{1}{q}=1$, then \n",
    "$$|x^*y|\\leq \\|x\\|_p\\|y\\|_q.\n",
    "$$\n",
    "1. $\\|A\\|_1$, $\\|A\\|_2$ and $\\|A\\|_\\infty$ are induced by the corresponding vector norms.\n",
    "2. $\\|A\\|_F$ is not an induced norm.\n",
    "3. $\\|A\\|_1$, $\\|A\\|_2$, $\\|A\\|_\\infty$ and $\\|A\\|_F$ are consistent.\n",
    "4. $\\|A\\|_1$, $\\|A\\|_\\infty$ and $\\|A\\|_F$ are absolute. However, $\\||A|\\|_2\\neq \\|A\\|_2$.\n",
    "5. Any two matrix norms are equivalent in the sense that, for all $A$ and some $\\alpha,\\beta>0$\n",
    "$$\n",
    "\\alpha \\|A\\|_\\mu \\leq \\|A\\|_\\nu \\leq \\beta \\|A\\|_\\mu.\n",
    "$$\n",
    "In particular:\n",
    "   * $\\frac{1}{\\sqrt{n}}\\|A\\|_\\infty \\leq \\|A\\|_2\\leq \\sqrt{m}\\|A\\|_\\infty$,\n",
    "   * $\\|A\\|_2 \\leq \\|A\\|_F\\leq \\sqrt{n}\\|A\\|_2$,\n",
    "   * $\\frac{1}{\\sqrt{m}}\\|A\\|_1 \\leq \\|A\\|_2\\leq \\sqrt{n}\\|A\\|_1$.\n",
    "6. $\\|A\\|_2\\leq \\sqrt{\\|A\\|_1 \\|A\\|_\\infty}$.\n",
    "7. $\\|AB\\|_F\\leq \\|A\\|_F\\|B\\|_2$ and $\\|AB\\|_F\\leq \\|A\\|_2\\|B\\|_F$.\n",
    "8. If $A=xy^*$, then $\\|A\\|_2=\\|A\\|_F=\\|x\\|_2\\|y\\|_2$.\n",
    "9. $\\|A^*\\|_2=\\|A\\|_2$ and $\\|A^*\\|_F=\\|A\\|_F$.\n",
    "10. For a unitary matrix $U$ of compatible dimension,\n",
    "$$\\|AU\\|_2=\\|A\\|_2,\\quad \\|AU\\|_F=\\|A\\|_F,\\quad\n",
    "\\|UA\\|_2=\\|A\\|_2,\\quad  \\|UA\\|_F=\\|A\\|_F.\n",
    "$$\n",
    "11. For $A$ square, $\\rho(A)\\leq\\|A\\|$.\n",
    "12. For $A$ square, $A^k\\to 0$ iff $>\\rho(A)<1$."
   ]
  },
  {
   "cell_type": "code",
   "execution_count": 6,
   "metadata": {},
   "outputs": [
    {
     "data": {
      "text/plain": [
       "(19.0, 19.0, 14.0, 14.0, 15.7797338380595, 15.7797338380595, 11.053558535027305, 14.024662857881664)"
      ]
     },
     "execution_count": 6,
     "metadata": {},
     "output_type": "execute_result"
    }
   ],
   "source": [
    "# Absolute norms\n",
    "opnorm(A,1), opnorm(abs.(A),1), opnorm(A,Inf), opnorm(abs.(A),Inf), norm(A),\n",
    "norm(abs.(A)),  opnorm(A),opnorm(abs.(A))"
   ]
  },
  {
   "cell_type": "code",
   "execution_count": 8,
   "metadata": {},
   "outputs": [
    {
     "data": {
      "text/plain": [
       "(0.15971914124998499, 11.053558535027305, 37.04051835490427)"
      ]
     },
     "execution_count": 8,
     "metadata": {},
     "output_type": "execute_result"
    }
   ],
   "source": [
    "# Equivalence of norms\n",
    "m,n=size(A)\n",
    "opnorm(A,Inf)\\sqrt(n),opnorm(A), sqrt(m)*opnorm(A,Inf)"
   ]
  },
  {
   "cell_type": "code",
   "execution_count": 9,
   "metadata": {},
   "outputs": [
    {
     "data": {
      "text/plain": [
       "(11.053558535027305, 15.7797338380595, 24.716508277594045)"
      ]
     },
     "execution_count": 9,
     "metadata": {},
     "output_type": "execute_result"
    }
   ],
   "source": [
    "opnorm(A), norm(A), sqrt(n)*opnorm(A)"
   ]
  },
  {
   "cell_type": "code",
   "execution_count": 10,
   "metadata": {},
   "outputs": [
    {
     "data": {
      "text/plain": [
       "(0.1392500690033995, 11.053558535027305, 42.48529157249601)"
      ]
     },
     "execution_count": 10,
     "metadata": {},
     "output_type": "execute_result"
    }
   ],
   "source": [
    "opnorm(A,1)\\sqrt(m),opnorm(A), sqrt(n)*opnorm(A,1)"
   ]
  },
  {
   "cell_type": "code",
   "execution_count": 11,
   "metadata": {},
   "outputs": [
    {
     "data": {
      "text/plain": [
       "(11.053558535027305, 16.30950643030009)"
      ]
     },
     "execution_count": 11,
     "metadata": {},
     "output_type": "execute_result"
    }
   ],
   "source": [
    "# Fact 12\n",
    "opnorm(A), sqrt(opnorm(A,1)*opnorm(A,Inf))"
   ]
  },
  {
   "cell_type": "code",
   "execution_count": 12,
   "metadata": {},
   "outputs": [
    {
     "data": {
      "text/plain": [
       "(26.159344584614846, 56.03006853665045, 42.775144883730995)"
      ]
     },
     "execution_count": 12,
     "metadata": {},
     "output_type": "execute_result"
    }
   ],
   "source": [
    "# Fact 13\n",
    "B=rand(n,rand(1:9))\n",
    "norm(A*B), norm(A)*opnorm(B), opnorm(A)*norm(B)"
   ]
  },
  {
   "cell_type": "code",
   "execution_count": 13,
   "metadata": {},
   "outputs": [
    {
     "data": {
      "text/plain": [
       "(6.3784685576847435, 6.378468557684745, 6.378468557684745)"
      ]
     },
     "execution_count": 13,
     "metadata": {},
     "output_type": "execute_result"
    }
   ],
   "source": [
    "# Fact 14\n",
    "x=rand(ComplexF64,10)\n",
    "y=rand(ComplexF64,10)\n",
    "A=x*y'\n",
    "opnorm(A), norm(A), norm(x)*norm(y)"
   ]
  },
  {
   "cell_type": "code",
   "execution_count": 14,
   "metadata": {},
   "outputs": [
    {
     "data": {
      "text/plain": [
       "(16.043071925866585, 16.043071925866588, 22.47220505424423, 22.47220505424423)"
      ]
     },
     "execution_count": 14,
     "metadata": {},
     "output_type": "execute_result"
    }
   ],
   "source": [
    "# Fact 15\n",
    "A=rand(-4:4,7,5)+im*rand(-4:4,7,5)\n",
    "opnorm(A), opnorm(A'), norm(A), norm(A')"
   ]
  },
  {
   "cell_type": "code",
   "execution_count": 15,
   "metadata": {},
   "outputs": [],
   "source": [
    "# Unitary invariance - generate random unitary matrix U\n",
    "U,R=qr(rand(ComplexF64,size(A)));"
   ]
  },
  {
   "cell_type": "code",
   "execution_count": 16,
   "metadata": {},
   "outputs": [
    {
     "data": {
      "text/plain": [
       "(16.043071925866585, 16.043071925866588, 22.47220505424423, 22.472205054244235)"
      ]
     },
     "execution_count": 16,
     "metadata": {},
     "output_type": "execute_result"
    }
   ],
   "source": [
    "opnorm(A), opnorm(U*A), norm(A), norm(U*A)"
   ]
  },
  {
   "cell_type": "code",
   "execution_count": 17,
   "metadata": {},
   "outputs": [
    {
     "data": {
      "text/plain": [
       "(5.01817683943979, 5.917412407080195, 6.607140833160133, 5.22269135612056, 5.814158973116375)"
      ]
     },
     "execution_count": 17,
     "metadata": {},
     "output_type": "execute_result"
    }
   ],
   "source": [
    "# Spectral radius\n",
    "A=rand(ComplexF64,7,7)\n",
    "maximum(abs,eigvals(A)), opnorm(A,Inf), opnorm(A,1), opnorm(A), norm(A)"
   ]
  },
  {
   "cell_type": "code",
   "execution_count": 18,
   "metadata": {},
   "outputs": [
    {
     "name": "stdout",
     "output_type": "stream",
     "text": [
      "maximum(abs, eigvals(B)) = 0.7150257045732034\n"
     ]
    },
    {
     "data": {
      "text/plain": [
       "2.8058388159466584e-15"
      ]
     },
     "execution_count": 18,
     "metadata": {},
     "output_type": "execute_result"
    }
   ],
   "source": [
    "# Fact 18\n",
    "B=A/(maximum(abs,eigvals(A))+2)\n",
    "@show maximum(abs,eigvals(B))\n",
    "norm(B^100)"
   ]
  },
  {
   "cell_type": "markdown",
   "metadata": {},
   "source": [
    "## Errors and condition numbers\n",
    "\n",
    "We want to answer the question:\n",
    "\n",
    "__How much the value of a function changes with respect to the change of its argument?__\n",
    "\n",
    "### Definitions\n",
    "\n",
    "For function $f(x)$ and argument $x$, the __absolute error__ with respect to the __perturbation__ of the argument \n",
    "$\\delta x$ is \n",
    "\n",
    "$$\n",
    "\\| f(x+\\delta x)-f(x)\\| = \\frac{\\| f(x+\\delta x)-f(x)\\|}{\\| \\delta x \\|} \\|\\delta x\\| \\equiv \\kappa \\|\\delta x\\|.\n",
    "$$\n",
    "\n",
    "The  __condition__ or  __condition number__ $\\kappa$ tells how much does the perturbation of the argument increase. (Its form resembles derivative.)\n",
    "\n",
    "Similarly, the __relative error__ with respect to the relative perturbation of the argument is\n",
    "\n",
    "$$\n",
    "\\frac{\\| f(x+\\delta x)-f(x)\\|}{\\| f(x) \\|}= \\frac{\\| f(x+\\delta x)-f(x)\\|\\cdot  \\|x\\| }{\\|\\delta x\\| \\cdot\\| f(x)\\|}\n",
    "\\cdot \\frac{\\|\\delta x\\|}{\\|x\\|} \\equiv \\kappa_{rel} \\frac{\\|\\delta x\\|}{\\|x\\|}.\n",
    "$$"
   ]
  },
  {
   "cell_type": "markdown",
   "metadata": {},
   "source": [
    "## Peturbation bounds\n",
    "\n",
    "### Definitions\n",
    "\n",
    "Let $A\\in\\mathbb{C}^{n\\times n}$.\n",
    "\n",
    "Pair $(\\lambda,x)\\in\\mathbb{C}\\times\\mathbb{C}^{n\\times n}$ is an __eigenpair__ of $A$ if $x\\neq 0$ and $Ax=\\lambda x$.\n",
    "\n",
    "Triplet $(y,\\lambda,x)\\in\\times\\mathbb{C}^{n}\\times\\mathbb{C}\\times\\mathbb{C}^{n}$ is an __eigentriplet__ of $A$ if $x,y\\neq 0$ and $Ax=\\lambda x$ and $y^*A=\\lambda y^*$.\n",
    "\n",
    "__Eigenvalue matrix__ is a diagonal matrix $\\Lambda=\\mathop{\\mathrm{diag}}(\\lambda_1,\\lambda_2,\\ldots,\\lambda_n)$.\n",
    "\n",
    "If all eigenvalues are real, they can be increasingly ordered. $\\Lambda^\\uparrow$ is the eigenvalue matrix of increasingly ordered eigenvalues.\n",
    "\n",
    "$\\tau$ is a __permutation__ of $\\{1,2,\\ldots,n\\}$.\n",
    "\n",
    "$\\tilde A=A+\\Delta A$ is a __perturbed matrix__, where $\\Delta A$ is __perturbation__. $(\\tilde \\lambda,\\tilde x)$ are the eigenpairs of $\\tilde A$.\n",
    "\n",
    "__Condition number__ of a nonsingular matrix $X$ is $\\kappa(X)=\\|X\\| \\|X^{-1}\\|$.\n",
    "\n",
    "Let $X,Y\\in\\mathbb{C}^{n\\times k}$ with $\\mathop{\\mathrm{rank}}(X)=\\mathop{\\mathrm{rank}}(Y)=k$. The __canonical angles__ between their column spaces, $\\theta_i$, are defined by $\\cos \\theta_i=\\sigma_i$, where $\\sigma_i$ are the singular values of the matrix\n",
    "$$(Y^*Y)^{-1/2}Y^*X(X^*X)^{-1/2}.$$ \n",
    "The __canonical angle matrix__ between $X$ and $Y$ is \n",
    "$$\\Theta(X,Y)=\\mathop{\\mathrm{diag}}(\\theta_1,\\theta_2,\\ldots,\\theta_k).\n",
    "$$\n",
    "    "
   ]
  },
  {
   "cell_type": "markdown",
   "metadata": {},
   "source": [
    "### Facts\n",
    "\n",
    "Bounds become more strict as matrices have more structure. \n",
    "Many bounds have versions in spectral norm and Frobenius norm.\n",
    "For more details and the proofs of the Facts below, see \n",
    "[R.-C. Li, Matrix Perturbation Theory][Hog14], and the references therein.\n",
    "\n",
    "[Hog14]: #1 \"L. Hogben, ed., 'Handbook of Linear Algebra', pp. 21.1-21.20, CRC Press, Boca Raton, 2014.\"\n",
    "\n",
    "1. There exists $\\tau$ such that\n",
    "$$\\|\\Lambda- \\tilde\\Lambda_\\tau\\|_2\\leq 4(\\|A\\|_2+\\|\\tilde A\\|_2)^{1-1/n}\\|\\Delta A\\|_2^{1/n}.$$\n",
    "\n",
    "2. __First-order perturbation bounds.__ Let $(y,\\lambda,x)$ be an eigentriplet of a simple $\\lambda$. $\\Delta A$ changes $\\lambda$ to \n",
    "$\\tilde\\lambda=\\lambda+ \\delta\\lambda$, where\n",
    "$$\n",
    "\\delta\\lambda=\\frac{y^*(\\Delta A)x}{y^*x}+O(\\|\\Delta A\\|_2^2).\n",
    "$$\n",
    "\n",
    "3. Let $\\lambda$ be a semisimple eigenvalue of $A$ with multiplicitiy $k$, and let $X,Y\\in \\mathbb{C}^{n\\times k}$ be the matrices of the corresponding right and left eigenvectors, that is, $AX=\\lambda X$ and $Y^*A=\\lambda Y^*$, such that $Y^*X=I_k$. $\\Delta A$ changes the $k$ copies of $\\mu$ to $\\tilde \\mu=\\mu+\\delta\\mu_i$, where $\\delta\\mu_i$ are the eigenvalues of $Y^*(\\Delta A) X$ up to $O(\\|\\Delta A\\|_2^2$.\n",
    "\n",
    "3. Perturbations and the inverse: if $\\|A\\|_p<1$, then $I-A$ is nonsingular and _(for proof see GVL p. 74 (98))_\n",
    "$$\n",
    "(I-A)^{-1}=\\sum\\limits_{k=0}^\\infty A^k\n",
    "$$\n",
    "with\n",
    "$$\n",
    "\\|(I-A)^{-1}\\|_p \\leq \\frac{1}{1-\\|A\\|_p},\\qquad \n",
    "\\|(I-A)^{-1}-I\\|_p \\leq \\frac{\\|A\\|_p}{1-\\|A\\|_p}.\n",
    "$$\n",
    "\n",
    "4. __Geršgorin Circle Theorem.__ If $X^{-1} A X=D+F$, where $D=\\mathop{\\mathrm{diag}}(d_1,\\ldots,d_n)$ \n",
    "and $F$ has zero diagonal entries, then _(for proof see GVL p.357 (381))_\n",
    "$$\\sigma(A) \\subseteq \\bigcup\\limits_{i=1}^n D_i,$$\n",
    "where \n",
    "$$D_i=\\big\\{z\\in\\mathbb{C} : |z-d_i| \\leq \\sum\\limits_{j=1}^n |f_{ij}| \\big\\}.\n",
    "$$\n",
    "Moreover, by continuity, if a connected component of $D$ consists of $k$ circles, it contains $k$ eigenvalues.\n",
    "\n",
    "4. __Bauer-Fike Theorem.__ If $A$ is diagonalizable and $A=X\\Lambda X^{-1}$ is its eigenvalue decomposition, then _(for proof see GVL p.357 (381))_\n",
    "$$\n",
    "\\max_i\\min_j |\\tilde \\lambda_i -\n",
    "\\lambda_j|\\leq \\|X^{-1}(\\Delta A)X\\|_p\\leq \\kappa_p(X)\\|\\Delta A\\|_p.\n",
    "$$\n",
    "\n",
    "5. If $A$ and $\\tilde A$ are diagonalizable, there exists $\\tau$ such that\n",
    "$$\\|\\Lambda-\\tilde\\Lambda_\\tau\\|_F\\leq \\sqrt{\\kappa_2(X)\\kappa_2(\\tilde X)}\\|\\Delta A\\|_F.\n",
    "$$ If $\\Lambda$ and  $\\tilde\\Lambda$ are real, then\n",
    "$$\n",
    "\\|\\Lambda^\\uparrow-\\tilde\\Lambda^\\uparrow\\|_{2,F} \\leq \\sqrt{\\kappa_2(X)\\kappa_2(\\tilde X)}\\|\\Delta A\\|_{2,F}.\n",
    "$$\n",
    "\n",
    "6. If $A$ is normal, there exists $\\tau$ such that $\\|\\Lambda-\\tilde\\Lambda_\\tau\\|_F\\leq\\sqrt{n}\\|\\Delta A\\|_F$.\n",
    "\n",
    "7. __Hoffman-Wielandt Theorem.__ If $A$ and $\\tilde A$ are normal, there exists $\\tau$ such that $\\|\\Lambda-\\tilde\\Lambda_\\tau\\|_F\\leq\\|\\Delta A\\|_F$.\n",
    "\n",
    "8. If $A$ and $\\tilde A$ are Hermitian, for any unitarily invariant norm $\\|\\Lambda^\\uparrow-\\tilde\\Lambda^\\uparrow\\| \\leq \\|\\Delta A\\|$. In particular,\n",
    "\\begin{align*}\n",
    "\\max_i|\\lambda^\\uparrow_i-\\tilde\\lambda^\\uparrow_i|&\\leq \\|\\Delta A\\|_2,\\\\ \n",
    "\\sqrt{\\sum_i(\\lambda^\\uparrow_i-\\tilde\\lambda^\\uparrow_i)^2}&\\leq \\|\\Delta A\\|_F.\n",
    "\\end{align*}\n",
    "\n",
    "9. __Residual bounds.__ Let $A$ be Hermitian. For some $\\tilde\\lambda\\in\\mathbb{R}$ and $\\tilde x\\in\\mathbb{C}^n$ with $\\|\\tilde x\\|_2=1$, define __residual__ $r=A\\tilde x-\\tilde\\lambda\\tilde x$. Then\n",
    "$|\\tilde\\lambda-\\lambda|\\leq \\|r\\|_2$ for some $\\lambda\\in\\sigma(A)$.\n",
    "\n",
    "9. Let, in addition,  $\\tilde\\lambda=\\tilde x^* A\\tilde x$, let $\\lambda$ be closest to $\\tilde\\lambda$ and $x$ be its unit eigenvector, and let \n",
    "$$\\eta=\\mathop{\\mathrm{gap}}(\\tilde\\lambda)= \\min_{\\lambda\\neq\\mu\\in\\sigma(A)}|\\tilde\\lambda-\\mu|.$$\n",
    "If $\\eta>0$, then\n",
    "$$ |\\tilde\\lambda-\\lambda|\\leq \\frac{\\|r\\|_2^2}{\\eta},\\quad \\sin\\theta(x,\\tilde x)\\leq \\frac{\\|r\\|_2}{\\eta}.\n",
    "$$\n",
    "\n",
    "10. Let $A$ be Hermitian, $X\\in\\mathbb{C}^{n\\times k}$ have full column rank, and $M\\in\\mathcal{H}_k$ having eigenvalues \n",
    "$\\mu_1\\leq\\mu_2\\leq\\cdots\\leq\\mu_k$. Set $R=AX-XM$. Then\n",
    "there exist $\\lambda_{i_1}\\leq\\lambda_{i_2}\\leq\\cdots\\leq\\lambda_{i_k}\\in\\sigma(A)$ such that\n",
    "\\begin{align*}    \n",
    "\\max_{1\\leq j\\leq k} |\\mu_j-\\lambda_{i_j}|& \\leq \\frac{\\|R\\|_2}{\\sigma_{\\min}(X)},\\\\\n",
    "\\sqrt{\\sum_{j=1}^k (\\mu_j-\\lambda_{i_j})^2}&\\leq \\frac{\\|R\\|_F}{\\sigma_{\\min}(X)}.\n",
    "\\end{align*}\n",
    "(The indices $i_j$ need not be the same in the above formulae.)\n",
    "\n",
    "10. If, additionally, $X^*X=I$ and $M=X^*AX$, and if all but $k$ of $A$'s eigenvalues differ from every one of $M$'s eigenvalues by at least $\\eta>0$, then\n",
    "$$\\sqrt{\\sum_{j=1}^k (\\mu_j-\\lambda_{i_j})^2}\\leq \\frac{\\|R\\|_F^2}{\\eta\\sqrt{1-\\|R\\|_F^2/\\eta^2}}.$$\n",
    "\n",
    "11. Let $A=\\begin{bmatrix} M & E^* \\\\ E & H \\end{bmatrix}$ and $\\tilde A=\\begin{bmatrix} M & 0 \\\\ 0 & H \\end{bmatrix}$ be Hermitian, and set $\\eta=\\min |\\mu-\\nu|$ over all $\\mu\\in\\sigma(M)$ and $\\nu\\in\\sigma(H)$. Then\n",
    "$$ \n",
    "\\max |\\lambda_j^\\uparrow -\\tilde\\lambda_j^\\uparrow| \\leq \\frac{2\\|E\\|_2^2}{\\eta+\\sqrt{\\eta^2+4\\|E\\|_2^2}}.\n",
    "$$\n",
    "\n",
    "14. Let \n",
    "$$\n",
    "\\begin{bmatrix} X_1^*\\\\ X_2^* \\end{bmatrix} A \\begin{bmatrix} X_1 & X_2 \\end{bmatrix}=\n",
    "\\begin{bmatrix} A_1 &  \\\\ & A_2 \\end{bmatrix}, \\quad \\begin{bmatrix} X_1 & X_2 \\end{bmatrix} \\textrm{unitary},\n",
    "\\quad X_1\\in\\mathbb{C}^{n\\times k}.\n",
    "$$\n",
    "Let $Q\\in\\mathbb{C}^{n\\times k}$ have orthonormal columns and for a Hermitian $k\\times k$ matrix $M$ set\n",
    "$R=AQ-QM$. Let $\\eta=\\min|\\mu-\\nu|$ over all $\\mu\\in\\sigma(M)$ and $\\nu\\in\\sigma(A_2)$. If $\\eta > 0$, then\n",
    "$$\n",
    "\\|\\sin\\Theta(X_1,Q)\\|_F\\leq \\frac{\\|R\\|_F}{\\eta}.\n",
    "$$"
   ]
  },
  {
   "cell_type": "markdown",
   "metadata": {},
   "source": [
    "### Example - Nondiagonalizable matrix"
   ]
  },
  {
   "cell_type": "code",
   "execution_count": 19,
   "metadata": {},
   "outputs": [
    {
     "data": {
      "text/plain": [
       "3×3 Array{Int64,2}:\n",
       " -3    7  -1\n",
       "  6    8  -2\n",
       " 72  -28  19"
      ]
     },
     "execution_count": 19,
     "metadata": {},
     "output_type": "execute_result"
    }
   ],
   "source": [
    "A=[-3 7 -1; 6 8 -2; 72 -28 19]"
   ]
  },
  {
   "cell_type": "code",
   "execution_count": 20,
   "metadata": {},
   "outputs": [
    {
     "data": {
      "text/plain": [
       "3-element Array{Float64,1}:\n",
       " -6.000000000000005\n",
       " 15.000000241477958\n",
       " 14.999999758522048"
      ]
     },
     "execution_count": 20,
     "metadata": {},
     "output_type": "execute_result"
    }
   ],
   "source": [
    "# (Right) eigenvectors\n",
    "λ,X=eigen(A)\n",
    "λ"
   ]
  },
  {
   "cell_type": "code",
   "execution_count": 21,
   "metadata": {},
   "outputs": [
    {
     "data": {
      "text/plain": [
       "3×3 Array{Float64,2}:\n",
       "  0.235702   0.218218  -0.218218\n",
       " -0.235702   0.436436  -0.436436\n",
       " -0.942809  -0.872872   0.872872"
      ]
     },
     "execution_count": 21,
     "metadata": {},
     "output_type": "execute_result"
    }
   ],
   "source": [
    "X"
   ]
  },
  {
   "cell_type": "code",
   "execution_count": 22,
   "metadata": {},
   "outputs": [
    {
     "data": {
      "text/plain": [
       "9.091581997455394e7"
      ]
     },
     "execution_count": 22,
     "metadata": {},
     "output_type": "execute_result"
    }
   ],
   "source": [
    "cond(X)"
   ]
  },
  {
   "cell_type": "code",
   "execution_count": 25,
   "metadata": {},
   "outputs": [
    {
     "data": {
      "text/plain": [
       "Eigen{Complex{Float64},Complex{Float64},Array{Complex{Float64},2},Array{Complex{Float64},1}}\n",
       "eigenvalues:\n",
       "3-element Array{Complex{Float64},1}:\n",
       " -5.999999999999998 + 0.0im                  \n",
       " 14.999999999999993 + 2.0088262607214127e-7im\n",
       " 14.999999999999993 - 2.0088262607214127e-7im\n",
       "eigenvectors:\n",
       "3×3 Array{Complex{Float64},2}:\n",
       "     0.894427+0.0im      0.970143+0.0im             0.970143-0.0im       \n",
       "    -0.447214+0.0im  -7.58506e-16-1.62404e-8im  -7.58506e-16+1.62404e-8im\n",
       " -6.07504e-17+0.0im      0.242536+4.0601e-9im       0.242536-4.0601e-9im "
      ]
     },
     "execution_count": 25,
     "metadata": {},
     "output_type": "execute_result"
    }
   ],
   "source": [
    "# Left eigenvectors\n",
    "λ1,Y=eigen(Matrix(A'))"
   ]
  },
  {
   "cell_type": "code",
   "execution_count": 26,
   "metadata": {},
   "outputs": [
    {
     "data": {
      "text/plain": [
       "1×3 Adjoint{Complex{Float64},Array{Complex{Float64},1}}:\n",
       " 2.34268e-7+1.94885e-7im  9.60124e-15-3.9217e-15im  5.8567e-8+4.87212e-8im"
      ]
     },
     "execution_count": 26,
     "metadata": {},
     "output_type": "execute_result"
    }
   ],
   "source": [
    "# Try k=2,3\n",
    "k=3\n",
    "Y[:,k]'*A-λ[k]*Y[:,k]'"
   ]
  },
  {
   "cell_type": "code",
   "execution_count": 27,
   "metadata": {},
   "outputs": [
    {
     "data": {
      "text/plain": [
       "3×3 Array{Float64,2}:\n",
       " -2.96795    7.04707  -0.999704\n",
       "  6.01817    8.02801  -1.96442 \n",
       " 72.0172   -27.9568   19.0161  "
      ]
     },
     "execution_count": 27,
     "metadata": {},
     "output_type": "execute_result"
    }
   ],
   "source": [
    "ΔA=rand(3,3)/20\n",
    "B=A+ΔA"
   ]
  },
  {
   "cell_type": "code",
   "execution_count": 28,
   "metadata": {},
   "outputs": [
    {
     "data": {
      "text/plain": [
       "0.08966213190999892"
      ]
     },
     "execution_count": 28,
     "metadata": {},
     "output_type": "execute_result"
    }
   ],
   "source": [
    "norm(ΔA)"
   ]
  },
  {
   "cell_type": "code",
   "execution_count": 29,
   "metadata": {},
   "outputs": [
    {
     "data": {
      "text/plain": [
       "Eigen{Complex{Float64},Complex{Float64},Array{Complex{Float64},2},Array{Complex{Float64},1}}\n",
       "eigenvalues:\n",
       "3-element Array{Complex{Float64},1}:\n",
       " -5.959852183114043 + 0.0im               \n",
       " 15.018000044707051 + 0.7293167022721797im\n",
       " 15.018000044707051 - 0.7293167022721797im\n",
       "eigenvectors:\n",
       "3×3 Array{Complex{Float64},2}:\n",
       " -0.236204+0.0im  -0.212242+0.0389745im  -0.212242-0.0389745im\n",
       "   0.23407+0.0im  -0.421248+0.0775078im  -0.421248-0.0775078im\n",
       "   0.94309+0.0im   0.877483+0.0im         0.877483-0.0im      "
      ]
     },
     "execution_count": 29,
     "metadata": {},
     "output_type": "execute_result"
    }
   ],
   "source": [
    "μ,Z=eigen(B)"
   ]
  },
  {
   "cell_type": "code",
   "execution_count": 30,
   "metadata": {},
   "outputs": [
    {
     "data": {
      "text/plain": [
       "0.040147816885962584 + 0.0im"
      ]
     },
     "execution_count": 30,
     "metadata": {},
     "output_type": "execute_result"
    }
   ],
   "source": [
    "# Fact 2\n",
    "δλ=μ[1]-λ[1]"
   ]
  },
  {
   "cell_type": "code",
   "execution_count": 31,
   "metadata": {},
   "outputs": [
    {
     "data": {
      "text/plain": [
       "0.03991290270173844 + 0.0im"
      ]
     },
     "execution_count": 31,
     "metadata": {},
     "output_type": "execute_result"
    }
   ],
   "source": [
    "k=1\n",
    "Y[:,k]'*ΔA*X[:,k]/(Y[:,k]⋅X[:,k])"
   ]
  },
  {
   "cell_type": "markdown",
   "metadata": {},
   "source": [
    "### Example - Jordan form"
   ]
  },
  {
   "cell_type": "code",
   "execution_count": 32,
   "metadata": {},
   "outputs": [
    {
     "data": {
      "text/plain": [
       "10×10 Bidiagonal{Float64,Array{Float64,1}}:\n",
       " 0.5  1.0   ⋅    ⋅    ⋅    ⋅    ⋅    ⋅    ⋅    ⋅ \n",
       "  ⋅   0.5  1.0   ⋅    ⋅    ⋅    ⋅    ⋅    ⋅    ⋅ \n",
       "  ⋅    ⋅   0.5  1.0   ⋅    ⋅    ⋅    ⋅    ⋅    ⋅ \n",
       "  ⋅    ⋅    ⋅   0.5  1.0   ⋅    ⋅    ⋅    ⋅    ⋅ \n",
       "  ⋅    ⋅    ⋅    ⋅   0.5  1.0   ⋅    ⋅    ⋅    ⋅ \n",
       "  ⋅    ⋅    ⋅    ⋅    ⋅   0.5  1.0   ⋅    ⋅    ⋅ \n",
       "  ⋅    ⋅    ⋅    ⋅    ⋅    ⋅   0.5  1.0   ⋅    ⋅ \n",
       "  ⋅    ⋅    ⋅    ⋅    ⋅    ⋅    ⋅   0.5  1.0   ⋅ \n",
       "  ⋅    ⋅    ⋅    ⋅    ⋅    ⋅    ⋅    ⋅   0.5  1.0\n",
       "  ⋅    ⋅    ⋅    ⋅    ⋅    ⋅    ⋅    ⋅    ⋅   0.5"
      ]
     },
     "execution_count": 32,
     "metadata": {},
     "output_type": "execute_result"
    }
   ],
   "source": [
    "n=10\n",
    "c=0.5\n",
    "J=Bidiagonal(c*ones(n),ones(n-1),'U')"
   ]
  },
  {
   "cell_type": "code",
   "execution_count": 33,
   "metadata": {},
   "outputs": [
    {
     "data": {
      "text/plain": [
       "10-element Array{Float64,1}:\n",
       " 0.5\n",
       " 0.5\n",
       " 0.5\n",
       " 0.5\n",
       " 0.5\n",
       " 0.5\n",
       " 0.5\n",
       " 0.5\n",
       " 0.5\n",
       " 0.5"
      ]
     },
     "execution_count": 33,
     "metadata": {},
     "output_type": "execute_result"
    }
   ],
   "source": [
    "# Accurately defined eigenvalues\n",
    "λ=eigvals(J)"
   ]
  },
  {
   "cell_type": "code",
   "execution_count": 34,
   "metadata": {},
   "outputs": [
    {
     "data": {
      "text/plain": [
       "10×10 Array{Float64,2}:\n",
       " 1.0  1.0  1.0  1.0  1.0  1.0  1.0  1.0  1.0  1.0\n",
       " 0.0  0.0  0.0  0.0  0.0  0.0  0.0  0.0  0.0  0.0\n",
       " 0.0  0.0  0.0  0.0  0.0  0.0  0.0  0.0  0.0  0.0\n",
       " 0.0  0.0  0.0  0.0  0.0  0.0  0.0  0.0  0.0  0.0\n",
       " 0.0  0.0  0.0  0.0  0.0  0.0  0.0  0.0  0.0  0.0\n",
       " 0.0  0.0  0.0  0.0  0.0  0.0  0.0  0.0  0.0  0.0\n",
       " 0.0  0.0  0.0  0.0  0.0  0.0  0.0  0.0  0.0  0.0\n",
       " 0.0  0.0  0.0  0.0  0.0  0.0  0.0  0.0  0.0  0.0\n",
       " 0.0  0.0  0.0  0.0  0.0  0.0  0.0  0.0  0.0  0.0\n",
       " 0.0  0.0  0.0  0.0  0.0  0.0  0.0  0.0  0.0  0.0"
      ]
     },
     "execution_count": 34,
     "metadata": {},
     "output_type": "execute_result"
    }
   ],
   "source": [
    "# Only one eigenvector\n",
    "X=eigvecs(J)"
   ]
  },
  {
   "cell_type": "code",
   "execution_count": 35,
   "metadata": {},
   "outputs": [
    {
     "data": {
      "text/plain": [
       "10-element Array{Float64,1}:\n",
       " 0.0\n",
       " 0.0\n",
       " 0.0\n",
       " 0.0\n",
       " 0.0\n",
       " 0.0\n",
       " 0.0\n",
       " 0.0\n",
       " 0.0\n",
       " 1.0"
      ]
     },
     "execution_count": 35,
     "metadata": {},
     "output_type": "execute_result"
    }
   ],
   "source": [
    "x=eigvecs(J)[:,1]\n",
    "y=eigvecs(J')[:,1]"
   ]
  },
  {
   "cell_type": "code",
   "execution_count": 36,
   "metadata": {},
   "outputs": [
    {
     "data": {
      "text/plain": [
       "1×10 Adjoint{Float64,Array{Float64,1}}:\n",
       " 0.0  0.0  0.0  0.0  0.0  0.0  0.0  0.0  0.0  0.0"
      ]
     },
     "execution_count": 36,
     "metadata": {},
     "output_type": "execute_result"
    }
   ],
   "source": [
    "y'*Matrix(J)-0.5*y'"
   ]
  },
  {
   "cell_type": "code",
   "execution_count": 37,
   "metadata": {},
   "outputs": [
    {
     "data": {
      "text/plain": [
       "10×10 Array{Float64,2}:\n",
       " 0.0         0.0  0.0  0.0  0.0  0.0  0.0  0.0  0.0  0.0\n",
       " 0.0         0.0  0.0  0.0  0.0  0.0  0.0  0.0  0.0  0.0\n",
       " 0.0         0.0  0.0  0.0  0.0  0.0  0.0  0.0  0.0  0.0\n",
       " 0.0         0.0  0.0  0.0  0.0  0.0  0.0  0.0  0.0  0.0\n",
       " 0.0         0.0  0.0  0.0  0.0  0.0  0.0  0.0  0.0  0.0\n",
       " 0.0         0.0  0.0  0.0  0.0  0.0  0.0  0.0  0.0  0.0\n",
       " 0.0         0.0  0.0  0.0  0.0  0.0  0.0  0.0  0.0  0.0\n",
       " 0.0         0.0  0.0  0.0  0.0  0.0  0.0  0.0  0.0  0.0\n",
       " 0.0         0.0  0.0  0.0  0.0  0.0  0.0  0.0  0.0  0.0\n",
       " 1.49012e-8  0.0  0.0  0.0  0.0  0.0  0.0  0.0  0.0  0.0"
      ]
     },
     "execution_count": 37,
     "metadata": {},
     "output_type": "execute_result"
    }
   ],
   "source": [
    "# Just one perturbed element in the lower left corner\n",
    "ΔJ=sqrt(eps())*[zeros(n-1);1]*Matrix(I,1,n)"
   ]
  },
  {
   "cell_type": "code",
   "execution_count": 38,
   "metadata": {},
   "outputs": [
    {
     "data": {
      "text/plain": [
       "10-element Array{Complex{Float64},1}:\n",
       " 0.3350615111920276 + 0.0im                \n",
       " 0.3665619595167544 + 0.09694841124280963im\n",
       " 0.3665619595167544 - 0.09694841124280963im\n",
       " 0.4490312038888047 + 0.15686582456677023im\n",
       " 0.4490312038888047 - 0.15686582456677023im\n",
       " 0.5509687960268455 + 0.15686582462828694im\n",
       " 0.5509687960268455 - 0.15686582462828694im\n",
       " 0.6334380405156275 + 0.09694841134170258im\n",
       " 0.6334380405156275 - 0.09694841134170258im\n",
       " 0.6649384889119079 + 0.0im                "
      ]
     },
     "execution_count": 38,
     "metadata": {},
     "output_type": "execute_result"
    }
   ],
   "source": [
    "B=J+ΔJ\n",
    "μ=eigvals(B)"
   ]
  },
  {
   "cell_type": "code",
   "execution_count": 39,
   "metadata": {},
   "outputs": [
    {
     "data": {
      "text/plain": [
       "0.16493848891190788"
      ]
     },
     "execution_count": 39,
     "metadata": {},
     "output_type": "execute_result"
    }
   ],
   "source": [
    "# Fact 2\n",
    "maximum(abs,λ-μ)"
   ]
  },
  {
   "cell_type": "code",
   "execution_count": 40,
   "metadata": {},
   "outputs": [
    {
     "data": {
      "text/plain": [
       "Inf"
      ]
     },
     "execution_count": 40,
     "metadata": {},
     "output_type": "execute_result"
    }
   ],
   "source": [
    "y'*ΔJ*x/(y⋅x)"
   ]
  },
  {
   "cell_type": "markdown",
   "metadata": {},
   "source": [
    "However, since $B$ is diagonalizable, we can apply Bauer-Fike theorem to it: "
   ]
  },
  {
   "cell_type": "code",
   "execution_count": 41,
   "metadata": {},
   "outputs": [
    {
     "data": {
      "text/plain": [
       "Eigen{Complex{Float64},Complex{Float64},Array{Complex{Float64},2},Array{Complex{Float64},1}}\n",
       "eigenvalues:\n",
       "10-element Array{Complex{Float64},1}:\n",
       " 0.3350615111920276 + 0.0im                \n",
       " 0.3665619595167544 + 0.09694841124280963im\n",
       " 0.3665619595167544 - 0.09694841124280963im\n",
       " 0.4490312038888047 + 0.15686582456677023im\n",
       " 0.4490312038888047 - 0.15686582456677023im\n",
       " 0.5509687960268455 + 0.15686582462828694im\n",
       " 0.5509687960268455 - 0.15686582462828694im\n",
       " 0.6334380405156275 + 0.09694841134170258im\n",
       " 0.6334380405156275 - 0.09694841134170258im\n",
       " 0.6649384889119079 + 0.0im                \n",
       "eigenvectors:\n",
       "10×10 Array{Complex{Float64},2}:\n",
       "   -0.986304+0.0im     0.986304+0.0im          …     0.986304+0.0im\n",
       "    0.162679+0.0im     -0.13161+0.0956206im          0.162679+0.0im\n",
       "  -0.0268321+0.0im   0.00829158-0.0255188im         0.0268321+0.0im\n",
       "  0.00442565+0.0im    0.0013676+0.00420904im       0.00442565+0.0im\n",
       " -0.00072996+0.0im  -0.00059055-0.000429059im      0.00072996+0.0im\n",
       " 0.000120398+0.0im  0.000120398+6.48524e-14im  …  0.000120398+0.0im\n",
       " -1.98583e-5+0.0im  -1.60657e-5+1.16724e-5im       1.98583e-5+0.0im\n",
       "   3.2754e-6+0.0im   1.01216e-6-3.11509e-6im        3.2754e-6+0.0im\n",
       "  -5.4024e-7+0.0im   1.66943e-7+5.13799e-7im        5.4024e-7+0.0im\n",
       "  8.91064e-8+0.0im  -7.20886e-8-5.23754e-8im       8.91064e-8+0.0im"
      ]
     },
     "execution_count": 41,
     "metadata": {},
     "output_type": "execute_result"
    }
   ],
   "source": [
    "μ,Y=eigen(B)"
   ]
  },
  {
   "cell_type": "code",
   "execution_count": 42,
   "metadata": {},
   "outputs": [
    {
     "data": {
      "text/plain": [
       "1.1068834616372574e7"
      ]
     },
     "execution_count": 42,
     "metadata": {},
     "output_type": "execute_result"
    }
   ],
   "source": [
    "cond(Y)"
   ]
  },
  {
   "cell_type": "code",
   "execution_count": 43,
   "metadata": {},
   "outputs": [
    {
     "data": {
      "text/plain": [
       "(0.16493848884660864, 0.1649384888466086)"
      ]
     },
     "execution_count": 43,
     "metadata": {},
     "output_type": "execute_result"
    }
   ],
   "source": [
    "opnorm(inv(Y)*ΔJ*Y), cond(Y)*opnorm(ΔJ)"
   ]
  },
  {
   "cell_type": "markdown",
   "metadata": {
    "collapsed": true
   },
   "source": [
    "### Example - Normal matrix"
   ]
  },
  {
   "cell_type": "code",
   "execution_count": 44,
   "metadata": {},
   "outputs": [],
   "source": [
    "using SpecialMatrices"
   ]
  },
  {
   "cell_type": "code",
   "execution_count": 43,
   "metadata": {},
   "outputs": [],
   "source": [
    "# In juliabox clone the repository SpecialMatrices.jl and use\n",
    "# include(\"/mnt/juliabox/SpecialMatrices/src/SpecialMatrices.jl\")"
   ]
  },
  {
   "cell_type": "code",
   "execution_count": 45,
   "metadata": {},
   "outputs": [
    {
     "data": {
      "text/plain": [
       "6×6 Circulant{Int64}:\n",
       "  5  -3  -4   4   1   5\n",
       "  5   5  -3  -4   4   1\n",
       "  1   5   5  -3  -4   4\n",
       "  4   1   5   5  -3  -4\n",
       " -4   4   1   5   5  -3\n",
       " -3  -4   4   1   5   5"
      ]
     },
     "execution_count": 45,
     "metadata": {},
     "output_type": "execute_result"
    }
   ],
   "source": [
    "n=6\n",
    "C=SpecialMatrices.Circulant(rand(-5:5,n))"
   ]
  },
  {
   "cell_type": "code",
   "execution_count": 46,
   "metadata": {},
   "outputs": [
    {
     "data": {
      "text/plain": [
       "6-element Array{Complex{Float64},1}:\n",
       " -3.999999999999991 + 0.0im               \n",
       " 3.5000000000000004 + 11.258330249197702im\n",
       " 3.5000000000000004 - 11.258330249197702im\n",
       "                9.5 + 2.5980762113533156im\n",
       "                9.5 - 2.5980762113533156im\n",
       "  8.000000000000004 + 0.0im               "
      ]
     },
     "execution_count": 46,
     "metadata": {},
     "output_type": "execute_result"
    }
   ],
   "source": [
    "λ=eigvals(Matrix(C))"
   ]
  },
  {
   "cell_type": "code",
   "execution_count": 47,
   "metadata": {},
   "outputs": [
    {
     "data": {
      "text/plain": [
       "6×6 Array{Float64,2}:\n",
       " 3.92691e-5  7.27366e-5  6.90261e-5  2.42908e-5  1.81437e-5  2.76241e-5\n",
       " 7.05105e-5  7.89702e-5  2.29716e-5  2.9037e-5   1.53071e-5  8.42495e-5\n",
       " 6.43087e-5  6.39203e-6  9.46879e-5  5.87238e-5  7.24736e-5  1.52988e-5\n",
       " 2.8127e-5   1.03887e-5  5.02815e-5  8.84835e-6  6.11838e-6  7.97288e-5\n",
       " 4.14654e-5  4.70945e-5  5.89819e-5  8.2312e-5   3.28422e-6  8.94333e-5\n",
       " 8.22961e-5  4.63776e-5  7.59579e-5  6.51096e-5  2.87437e-5  7.06696e-5"
      ]
     },
     "execution_count": 47,
     "metadata": {},
     "output_type": "execute_result"
    }
   ],
   "source": [
    "ΔC=rand(n,n)*0.0001"
   ]
  },
  {
   "cell_type": "code",
   "execution_count": 48,
   "metadata": {},
   "outputs": [
    {
     "name": "stdout",
     "output_type": "stream",
     "text": [
      "opnorm(ΔC) = 0.00030545005746327017\n"
     ]
    },
    {
     "data": {
      "text/plain": [
       "6-element Array{Complex{Float64},1}:\n",
       " -3.9999781998620403 + 0.0im               \n",
       "  3.5000115132451928 + 11.258315332858457im\n",
       "  3.5000115132451928 - 11.258315332858457im\n",
       "   9.499980514227342 + 2.5980719544580677im\n",
       "   9.499980514227342 - 2.5980719544580677im\n",
       "   8.000289874208157 + 0.0im               "
      ]
     },
     "execution_count": 48,
     "metadata": {},
     "output_type": "execute_result"
    }
   ],
   "source": [
    "@show opnorm(ΔC)\n",
    "μ=eigvals(C+ΔC)"
   ]
  },
  {
   "cell_type": "markdown",
   "metadata": {},
   "source": [
    "### Example - Hermitian matrix"
   ]
  },
  {
   "cell_type": "code",
   "execution_count": 50,
   "metadata": {},
   "outputs": [
    {
     "data": {
      "text/plain": [
       "10×6 Array{Float64,2}:\n",
       " 1.65154e7  -3.28782e6  -3.0713e7   -1.79321e7  2.03089e6  6.8006e7 \n",
       " 2.22445e8  -4.11397e7  -4.85034e5  -4.50638e7  5.38877e6  4.39405e7\n",
       " 6.20725e7  -1.29195e7  -8.33384e7  -4.69829e7  1.60651e7  2.13533e8\n",
       " 1.64232e8  -8.18259e7  -1.1834e8   -1.4762e7   8.50079e6  5.53322e7\n",
       " 1.329e8    -9.84063e7  -2.79103e7  -3.32899e7  2.19893e6  2.18306e8\n",
       " 2.98252e7  -4.87251e7  -4.38825e7  -6.07087e7  2.94542e7  1.62334e8\n",
       " 4.5825e7   -7.72741e7  -7.73765e7  -2.59276e7  1.4418e7   1.10436e8\n",
       " 1.72487e7  -6.08075e7  -3.15517e7  -2.56073e7  8.20588e6  1.41204e8\n",
       " 1.76277e8  -7.19166e7  -8.8422e7   -6.99159e6  1.55382e7  6.88141e7\n",
       " 1.62975e8  -9.11596e7  -1.09785e8  -3.50471e7  1.19187e7  2.16779e8"
      ]
     },
     "execution_count": 50,
     "metadata": {},
     "output_type": "execute_result"
    }
   ],
   "source": [
    "m=10\n",
    "n=6\n",
    "A=rand(m,n)\n",
    "# Some scaling\n",
    "D=Diagonal((rand(n).-0.5)*exp(20))\n",
    "A=A*D"
   ]
  },
  {
   "cell_type": "code",
   "execution_count": 51,
   "metadata": {},
   "outputs": [
    {
     "data": {
      "text/plain": [
       "6×6 Array{Float64,2}:\n",
       "  1.0       -0.432061   -0.175158   0.150722  -0.25446    -0.242234\n",
       " -0.432061   1.0         0.358807  -0.237927   0.0340892  -0.209382\n",
       " -0.175158   0.358807    1.0       -0.343031  -0.297274   -0.124208\n",
       "  0.150722  -0.237927   -0.343031   1.0       -0.480153   -0.498282\n",
       " -0.25446    0.0340892  -0.297274  -0.480153   1.0         0.226834\n",
       " -0.242234  -0.209382   -0.124208  -0.498282   0.226834    1.0     "
      ]
     },
     "execution_count": 51,
     "metadata": {},
     "output_type": "execute_result"
    }
   ],
   "source": [
    "using Statistics\n",
    "A=cor(A)"
   ]
  },
  {
   "cell_type": "code",
   "execution_count": 52,
   "metadata": {},
   "outputs": [
    {
     "data": {
      "text/plain": [
       "6×6 Array{Float64,2}:\n",
       "  1.0e-5      -1.13222e-6   9.61373e-6   4.72848e-7   1.81961e-6  -7.72308e-7\n",
       " -1.13222e-6   1.0e-5      -2.72202e-6   3.63097e-7  -8.64511e-6  -4.28994e-6\n",
       "  9.61373e-6  -2.72202e-6   1.0e-5      -8.65467e-8   3.87325e-6   3.93854e-7\n",
       "  4.72848e-7   3.63097e-7  -8.65467e-8   1.0e-5      -1.25822e-6  -1.13334e-6\n",
       "  1.81961e-6  -8.64511e-6   3.87325e-6  -1.25822e-6   1.0e-5       4.44307e-6\n",
       " -7.72308e-7  -4.28994e-6   3.93854e-7  -1.13334e-6   4.44307e-6   1.0e-5    "
      ]
     },
     "execution_count": 52,
     "metadata": {},
     "output_type": "execute_result"
    }
   ],
   "source": [
    "ΔA=cor(rand(m,n)*D)*1e-5"
   ]
  },
  {
   "cell_type": "code",
   "execution_count": 53,
   "metadata": {},
   "outputs": [
    {
     "data": {
      "text/plain": [
       "6×6 Array{Float64,2}:\n",
       "  1.00001   -0.432063   -0.175148   0.150722  -0.254458   -0.242235\n",
       " -0.432063   1.00001     0.358804  -0.237927   0.0340806  -0.209387\n",
       " -0.175148   0.358804    1.00001   -0.343031  -0.29727    -0.124208\n",
       "  0.150722  -0.237927   -0.343031   1.00001   -0.480154   -0.498283\n",
       " -0.254458   0.0340806  -0.29727   -0.480154   1.00001     0.226839\n",
       " -0.242235  -0.209387   -0.124208  -0.498283   0.226839    1.00001 "
      ]
     },
     "execution_count": 53,
     "metadata": {},
     "output_type": "execute_result"
    }
   ],
   "source": [
    "B=A+ΔA"
   ]
  },
  {
   "cell_type": "code",
   "execution_count": 54,
   "metadata": {},
   "outputs": [
    {
     "data": {
      "text/plain": [
       "6×2 Array{Float64,2}:\n",
       " 0.0884805  0.0884919\n",
       " 0.422702   0.422711 \n",
       " 0.793477   0.793486 \n",
       " 1.02174    1.02175  \n",
       " 1.63249    1.6325   \n",
       " 2.04111    2.04112  "
      ]
     },
     "execution_count": 54,
     "metadata": {},
     "output_type": "execute_result"
    }
   ],
   "source": [
    "λ,U=eigen(A) \n",
    "μ=eigvals(B)\n",
    "[λ μ]"
   ]
  },
  {
   "cell_type": "code",
   "execution_count": 55,
   "metadata": {},
   "outputs": [
    {
     "data": {
      "text/plain": [
       "3.275034758982288e-5"
      ]
     },
     "execution_count": 55,
     "metadata": {},
     "output_type": "execute_result"
    }
   ],
   "source": [
    "norm(ΔA)"
   ]
  },
  {
   "cell_type": "code",
   "execution_count": 54,
   "metadata": {},
   "outputs": [],
   "source": [
    "# ?round"
   ]
  },
  {
   "cell_type": "code",
   "execution_count": 56,
   "metadata": {},
   "outputs": [
    {
     "data": {
      "text/plain": [
       "6-element Array{Float64,1}:\n",
       "  0.5782723896603102  \n",
       "  0.15952341783732696 \n",
       "  0.021934469952632457\n",
       " -0.3489574765191527  \n",
       "  0.4885404671268138  \n",
       " -0.5284213215861456  "
      ]
     },
     "execution_count": 56,
     "metadata": {},
     "output_type": "execute_result"
    }
   ],
   "source": [
    "# Residual bounds - how close is μ, y to λ[2],X[:,2]\n",
    "k=3\n",
    "μ=round(λ[k],sigdigits=2)\n",
    "y=round.(U[:,k],sigdigits=2)\n",
    "y=y/norm(y)"
   ]
  },
  {
   "cell_type": "code",
   "execution_count": 57,
   "metadata": {},
   "outputs": [
    {
     "data": {
      "text/plain": [
       "0.79"
      ]
     },
     "execution_count": 57,
     "metadata": {},
     "output_type": "execute_result"
    }
   ],
   "source": [
    "μ"
   ]
  },
  {
   "cell_type": "code",
   "execution_count": 58,
   "metadata": {},
   "outputs": [
    {
     "data": {
      "text/plain": [
       "6-element Array{Float64,1}:\n",
       " -0.0002363915583314946\n",
       "  0.0018433726568947983\n",
       "  0.0006626161684935121\n",
       " -0.0028729525440192583\n",
       "  0.00205272308974358  \n",
       " -0.0024747927912904255"
      ]
     },
     "execution_count": 58,
     "metadata": {},
     "output_type": "execute_result"
    }
   ],
   "source": [
    "# Fact 9\n",
    "r=A*y-μ*y"
   ]
  },
  {
   "cell_type": "code",
   "execution_count": 59,
   "metadata": {},
   "outputs": [
    {
     "data": {
      "text/plain": [
       "(0.0034774972440612117, 0.004741844753992165)"
      ]
     },
     "execution_count": 59,
     "metadata": {},
     "output_type": "execute_result"
    }
   ],
   "source": [
    "minimum(abs,μ.-λ), norm(r)"
   ]
  },
  {
   "cell_type": "code",
   "execution_count": 60,
   "metadata": {},
   "outputs": [
    {
     "data": {
      "text/plain": [
       "6-element Array{Float64,1}:\n",
       " -0.0022516745223059575 \n",
       "  0.001287432528901844  \n",
       "  0.0005861744008944791 \n",
       " -0.0016568335140346724 \n",
       "  0.00035015644776514865\n",
       " -0.0006332411173137764 "
      ]
     },
     "execution_count": 60,
     "metadata": {},
     "output_type": "execute_result"
    }
   ],
   "source": [
    "# Fact 10 - μ is Rayleigh quotient\n",
    "μ=y⋅(A*y)\n",
    "r=A*y-μ*y"
   ]
  },
  {
   "cell_type": "code",
   "execution_count": 61,
   "metadata": {},
   "outputs": [
    {
     "data": {
      "text/plain": [
       "0.22825165462864383"
      ]
     },
     "execution_count": 61,
     "metadata": {},
     "output_type": "execute_result"
    }
   ],
   "source": [
    "η=min(abs(μ-λ[k-1]),abs(μ-λ[k+1]))"
   ]
  },
  {
   "cell_type": "code",
   "execution_count": 62,
   "metadata": {},
   "outputs": [
    {
     "data": {
      "text/plain": [
       "(7.509130111826856e-6, 4.530009764774595e-5)"
      ]
     },
     "execution_count": 62,
     "metadata": {},
     "output_type": "execute_result"
    }
   ],
   "source": [
    "μ-λ[k], norm(r)^2/η"
   ]
  },
  {
   "cell_type": "code",
   "execution_count": 63,
   "metadata": {},
   "outputs": [
    {
     "data": {
      "text/plain": [
       "(0.0049866315297567914, 0.014087781327881386)"
      ]
     },
     "execution_count": 63,
     "metadata": {},
     "output_type": "execute_result"
    }
   ],
   "source": [
    "# Eigenvector bound\n",
    "# cos(θ)\n",
    "cosθ=dot(y,U[:,k])\n",
    "# sin(θ)\n",
    "sinθ=sqrt(1-cosθ^2)\n",
    "sinθ,norm(r)/η"
   ]
  },
  {
   "cell_type": "code",
   "execution_count": 64,
   "metadata": {},
   "outputs": [
    {
     "data": {
      "text/plain": [
       "6×3 Array{Float64,2}:\n",
       "  0.00122033   -0.00130559   -0.0017232  \n",
       " -0.00188013    0.0013039     0.0018302  \n",
       " -0.00155196    0.00166214    0.000902605\n",
       "  0.000499011  -0.0023248    -0.000942699\n",
       "  0.000258654   0.000773596   0.000754493\n",
       "  0.000613051   0.00128432    2.42995e-5 "
      ]
     },
     "execution_count": 64,
     "metadata": {},
     "output_type": "execute_result"
    }
   ],
   "source": [
    "# Residual bounds - Fact 13\n",
    "U=eigvecs(A)\n",
    "Q=round.(U[:,1:3],sigdigits=2)\n",
    "# Orthogonalize\n",
    "F=qr(Q)\n",
    "X=Matrix(F.Q)\n",
    "M=X'*A*X\n",
    "R=A*X-X*M\n",
    "μ=eigvals(M)\n",
    "R"
   ]
  },
  {
   "cell_type": "code",
   "execution_count": 65,
   "metadata": {},
   "outputs": [
    {
     "data": {
      "text/plain": [
       "6-element Array{Float64,1}:\n",
       " 0.08848045819775119\n",
       " 0.4227019872012334 \n",
       " 0.7934774972440612 \n",
       " 1.021736661002817  \n",
       " 1.6324919204954944 \n",
       " 2.041111475858643  "
      ]
     },
     "execution_count": 65,
     "metadata": {},
     "output_type": "execute_result"
    }
   ],
   "source": [
    "λ"
   ]
  },
  {
   "cell_type": "code",
   "execution_count": 66,
   "metadata": {},
   "outputs": [
    {
     "data": {
      "text/plain": [
       "3-element Array{Float64,1}:\n",
       " 0.08848543350679017\n",
       " 0.793487718829293  \n",
       " 0.4227115307212269 "
      ]
     },
     "execution_count": 66,
     "metadata": {},
     "output_type": "execute_result"
    }
   ],
   "source": [
    "μ"
   ]
  },
  {
   "cell_type": "code",
   "execution_count": 68,
   "metadata": {},
   "outputs": [
    {
     "data": {
      "text/plain": [
       "false"
      ]
     },
     "execution_count": 68,
     "metadata": {},
     "output_type": "execute_result"
    }
   ],
   "source": [
    "# The entries of μ are not ordered - which algorithm was called?\n",
    "issymmetric(M)"
   ]
  },
  {
   "cell_type": "code",
   "execution_count": 69,
   "metadata": {},
   "outputs": [
    {
     "data": {
      "text/plain": [
       "3-element Array{Float64,1}:\n",
       " 0.08848543350679014\n",
       " 0.4227115307212265 \n",
       " 0.793487718829293  "
      ]
     },
     "execution_count": 69,
     "metadata": {},
     "output_type": "execute_result"
    }
   ],
   "source": [
    "M=Hermitian(M)\n",
    "R=A*X-X*M\n",
    "μ=eigvals(M)"
   ]
  },
  {
   "cell_type": "code",
   "execution_count": 70,
   "metadata": {},
   "outputs": [
    {
     "data": {
      "text/plain": [
       "0.22825916375875566"
      ]
     },
     "execution_count": 70,
     "metadata": {},
     "output_type": "execute_result"
    }
   ],
   "source": [
    "η=λ[4]-λ[3]"
   ]
  },
  {
   "cell_type": "code",
   "execution_count": 71,
   "metadata": {},
   "outputs": [
    {
     "data": {
      "text/plain": [
       "(1.4842953834816636e-5, 0.00013378113054737304)"
      ]
     },
     "execution_count": 71,
     "metadata": {},
     "output_type": "execute_result"
    }
   ],
   "source": [
    "norm(λ[1:3]-μ), norm(R)^2/η"
   ]
  },
  {
   "cell_type": "code",
   "execution_count": 72,
   "metadata": {},
   "outputs": [
    {
     "data": {
      "text/plain": [
       "6×6 Array{Float64,2}:\n",
       "  1.0       -0.432061  -0.175158   0.0        0.0        0.0     \n",
       " -0.432061   1.0        0.358807   0.0        0.0        0.0     \n",
       " -0.175158   0.358807   1.0        0.0        0.0        0.0     \n",
       "  0.0        0.0        0.0        1.0       -0.480153  -0.498282\n",
       "  0.0        0.0        0.0       -0.480153   1.0        0.226834\n",
       "  0.0        0.0        0.0       -0.498282   0.226834   1.0     "
      ]
     },
     "execution_count": 72,
     "metadata": {},
     "output_type": "execute_result"
    }
   ],
   "source": [
    "# Fact 13\n",
    "M=A[1:3,1:3]\n",
    "H=A[4:6,4:6]\n",
    "E=A[4:6,1:3]\n",
    "# Block-diagonal matrix\n",
    "B=cat(M,H,dims=(1,2))"
   ]
  },
  {
   "cell_type": "code",
   "execution_count": 73,
   "metadata": {},
   "outputs": [
    {
     "data": {
      "text/plain": [
       "6×2 Array{Float64,2}:\n",
       " 0.0884805  0.41206 \n",
       " 0.422702   0.516494\n",
       " 0.793477   0.773364\n",
       " 1.02174    0.828514\n",
       " 1.63249    1.65499 \n",
       " 2.04111    1.81458 "
      ]
     },
     "execution_count": 73,
     "metadata": {},
     "output_type": "execute_result"
    }
   ],
   "source": [
    "η=minimum(abs,eigvals(M)-eigvals(H))\n",
    "μ=eigvals(B)\n",
    "[λ μ]"
   ]
  },
  {
   "cell_type": "code",
   "execution_count": 74,
   "metadata": {},
   "outputs": [
    {
     "data": {
      "text/plain": [
       "0.6579809754165715"
      ]
     },
     "execution_count": 74,
     "metadata": {},
     "output_type": "execute_result"
    }
   ],
   "source": [
    "2*norm(E)^2/(η+sqrt(η^2+4*norm(E)^2))"
   ]
  },
  {
   "cell_type": "code",
   "execution_count": 75,
   "metadata": {},
   "outputs": [
    {
     "data": {
      "text/plain": [
       "Eigen{Float64,Float64,Array{Float64,2},Array{Float64,1}}\n",
       "eigenvalues:\n",
       "6-element Array{Float64,1}:\n",
       " 0.08849186535013343\n",
       " 0.42271138058464963\n",
       " 0.7934859876688434 \n",
       " 1.0217475760024974 \n",
       " 1.6325040993431785 \n",
       " 2.041119091050697  \n",
       "eigenvectors:\n",
       "6×6 Array{Float64,2}:\n",
       " -0.310033  -0.355788   0.580214    0.460381  -0.1748      0.44513 \n",
       " -0.230072  -0.648186   0.155681   -0.330371   0.533468   -0.330079\n",
       " -0.386387   0.469154   0.0221999   0.503456   0.573468   -0.218573\n",
       " -0.598755   0.112472  -0.350448   -0.401058   0.0914244   0.580365\n",
       " -0.41697    0.342715   0.486585   -0.386058  -0.396398   -0.407118\n",
       " -0.411437  -0.321032  -0.528246    0.339924  -0.436465   -0.377578"
      ]
     },
     "execution_count": 75,
     "metadata": {},
     "output_type": "execute_result"
    }
   ],
   "source": [
    "# Eigenspace bounds - Fact 14\n",
    "B=A+ΔA\n",
    "μ,V=eigen(B)"
   ]
  },
  {
   "cell_type": "code",
   "execution_count": 76,
   "metadata": {},
   "outputs": [
    {
     "data": {
      "text/plain": [
       "3-element Array{Float64,1}:\n",
       " 1.0836945674167101e-6\n",
       " 6.366145092245514e-6 \n",
       " 2.8015455162556465e-5"
      ]
     },
     "execution_count": 76,
     "metadata": {},
     "output_type": "execute_result"
    }
   ],
   "source": [
    "# sin(Θ(U[:,1:3],V[:,1:3]))\n",
    "X=U[:,1:3]\n",
    "Q=V[:,1:3]\n",
    "cosθ=svdvals(sqrt(Q'*Q)*Q'*X*sqrt(X'*X))\n",
    "sinθ=sqrt.(1 .-cosθ.^2)"
   ]
  },
  {
   "cell_type": "code",
   "execution_count": 77,
   "metadata": {},
   "outputs": [
    {
     "data": {
      "text/plain": [
       "3×3 Array{Float64,2}:\n",
       " 0.0884805    4.94787e-6   2.27776e-6\n",
       " 4.94787e-6   0.422702    -3.45592e-6\n",
       " 2.27776e-6  -3.45592e-6   0.793477  "
      ]
     },
     "execution_count": 77,
     "metadata": {},
     "output_type": "execute_result"
    }
   ],
   "source": [
    "# Bound\n",
    "M=Q'*A*Q"
   ]
  },
  {
   "cell_type": "code",
   "execution_count": 78,
   "metadata": {},
   "outputs": [
    {
     "data": {
      "text/plain": [
       "6×3 Array{Float64,2}:\n",
       "  4.1808e-6   -2.41392e-6  -2.56416e-6\n",
       " -4.02635e-6   4.48857e-6   8.33982e-7\n",
       "  1.16403e-6   2.16874e-6  -4.39325e-6\n",
       " -1.39496e-6   2.19478e-6   1.96618e-6\n",
       " -2.24433e-6  -1.66869e-6   3.50977e-6\n",
       "  2.31252e-6  -4.23057e-6  -8.26697e-7"
      ]
     },
     "execution_count": 78,
     "metadata": {},
     "output_type": "execute_result"
    }
   ],
   "source": [
    "R=A*Q-Q*M"
   ]
  },
  {
   "cell_type": "code",
   "execution_count": 79,
   "metadata": {},
   "outputs": [
    {
     "data": {
      "text/plain": [
       "([0.0884805, 0.422702, 0.793477], [0.0884805, 0.422702, 0.793477, 1.02174, 1.63249, 2.04111])"
      ]
     },
     "execution_count": 79,
     "metadata": {},
     "output_type": "execute_result"
    }
   ],
   "source": [
    "eigvals(M), λ"
   ]
  },
  {
   "cell_type": "code",
   "execution_count": 80,
   "metadata": {},
   "outputs": [
    {
     "data": {
      "text/plain": [
       "(2.875009435143095e-5, 5.311520077842154e-5)"
      ]
     },
     "execution_count": 80,
     "metadata": {},
     "output_type": "execute_result"
    }
   ],
   "source": [
    "η=abs(eigvals(M)[3]-λ[4])\n",
    "norm(sinθ), norm(R)/η"
   ]
  },
  {
   "cell_type": "code",
   "execution_count": null,
   "metadata": {},
   "outputs": [],
   "source": []
  }
 ],
 "metadata": {
  "@webio": {
   "lastCommId": "eec96f4d2db142bb83f0d2f5d62e7a19",
   "lastKernelId": "c5d1ac5d-2a89-481a-b5fb-f9ad617b351a"
  },
  "anaconda-cloud": {},
  "kernelspec": {
   "display_name": "Julia 1.1.0",
   "language": "julia",
   "name": "julia-1.1"
  },
  "language_info": {
   "file_extension": ".jl",
   "mimetype": "application/julia",
   "name": "julia",
   "version": "1.1.0"
  }
 },
 "nbformat": 4,
 "nbformat_minor": 1
}
