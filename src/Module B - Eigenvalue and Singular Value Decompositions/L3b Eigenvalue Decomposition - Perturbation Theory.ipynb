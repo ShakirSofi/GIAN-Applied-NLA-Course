{
 "cells": [
  {
   "cell_type": "markdown",
   "metadata": {},
   "source": [
    "# Eigenvalue Decomposition - Perturbation Theory\n",
    "\n",
    "\n",
    "## Prerequisites\n",
    "\n",
    "The reader should be familiar with basic linear algebra concepts and facts about eigenvalue decomposition. \n",
    "\n",
    "## Competences \n",
    "\n",
    "The reader should be able to understand and check the facts about perturbations of eigenvalues and eigenvectors.\n"
   ]
  },
  {
   "cell_type": "markdown",
   "metadata": {},
   "source": [
    "## Norms\n",
    "\n",
    "In order to measure changes, we need to define norms. For more details and the proofs of the Facts below, see \n",
    "[R. Byers and B. N. Datta, Vector and Matrix Norms, Error Analysis, Efficiency, and Stability][Hog14] and the references therein.\n",
    "\n",
    "[Hog14]: #1 \"L. Hogben, ed., 'Handbook of Linear Algebra', pp. 50.1-50.24, CRC Press, Boca Raton, 2014.\"\n",
    "\n",
    "### Definitions\n",
    "\n",
    "__Norm__ on a vector space $X$ is a real-valued function $\\| \\phantom{x} \\| : X\\to \\mathbb{R}$ with the following properties:\n",
    "\n",
    "1. $\\| x\\|\\geq 0$ and $\\|x\\|=0$ if and only if $x$ is the zero vector _(Positive definiteness)_\n",
    "2. $\\| \\lambda x\\|=|\\lambda| \\|x\\|$ _(Homogeneity)_\n",
    "3. $\\| x+y\\| \\leq \\|x\\|+\\|y\\|$ _(Triangle inequality)_\n",
    "\n",
    "Commonly encountered vector norms for $x\\in\\mathbb{C}^n$ are:\n",
    "\n",
    "* __H&ouml;lder norm__ or $p$-__norm__: for $p\\geq 1$, $\\|x\\|_p=\\big(|x_1|^p+|x_2|^p+\\cdots |x_n|^p)^{1/p}$,\n",
    "* __Sum norm__ or $1$-__norm__: $\\|x\\|_1=|x_1|+|x_2|+\\cdots |x_n|$,\n",
    "* __Euclidean norm__ or $2$-__norm__: $\\|x\\|_2=\\sqrt{|x_1|^2+|x_2|^2+\\cdots |x_n|^2}$,\n",
    "* __Sup-norm__ or $\\infty$-__norm__: $\\|x\\|_\\infty = \\max\\limits_{i=1,\\ldots,n} |x_i|$.\n",
    "\n",
    "Vector norm is __absolute__ if $\\||x|\\|=\\|x\\|$.\n",
    "\n",
    "Vector norm is __monotone__ if $|x|\\leq |y|$ implies $\\|x\\|\\leq \\|y\\|$. \n",
    "\n",
    "From every vector norm we can derive a corresponding __induced__ matrix norm (also, __operator norm__ or __natural norm__):\n",
    "\n",
    "$$\\|A\\| = \\max\\limits_{x\\neq 0} \\frac{\\|Ax\\|}{\\|x\\|}=\\max\\limits_{\\|x\\|=1} \\|Ax\\|.$$\n",
    "\n",
    "For matrix $A\\in\\mathbb{C}^{m\\times n}$ we define:\n",
    "\n",
    "* __Maximum absolute column sum norm__: $\\|A\\|_1=\\max\\limits_{1\\leq j \\leq n} \\sum_{i=1}^m |a_{ij}|$,\n",
    "* __ Spectral norm__: $\\|A\\|_2=\\sqrt{\\rho(A^*A)}=\\sigma_{\\max}(A)$  (largest singular value of $A$),\n",
    "* __Maximum absolute row sum norm__: $\\|A\\|_{\\infty}=\\max\\limits_{1\\leq i \\leq m} \\sum_{j=1}^n |a_{ij}|$,\n",
    "* __Euclidean norm__ or __Frobenius norm__: \n",
    "$\\|A\\|_F =\\sqrt{\\sum_{i,j} |a_{ij}|^2}=\\sqrt{\\mathop{\\mathrm{tr}}(A^*A)}$.\n",
    "\n",
    "Matrix norm is __consistent__ if $\\|A\\cdot B\\|\\leq \\|A\\| \\cdot \\| B\\|$, where $A$ and $B$ are compatible for matrix multiplication.\n",
    "\n",
    "Matrix norm is __absolute__ if $\\||A|\\|=\\|A\\|$.\n",
    "\n",
    "### Examples"
   ]
  },
  {
   "cell_type": "code",
   "execution_count": 1,
   "metadata": {},
   "outputs": [
    {
     "data": {
      "text/plain": [
       "5-element Array{Int64,1}:\n",
       "  3\n",
       " -1\n",
       "  2\n",
       "  1\n",
       "  1"
      ]
     },
     "execution_count": 1,
     "metadata": {},
     "output_type": "execute_result"
    }
   ],
   "source": [
    "s=srand(421)\n",
    "x=rand(-4:4,5)"
   ]
  },
  {
   "cell_type": "code",
   "execution_count": 2,
   "metadata": {},
   "outputs": [
    {
     "data": {
      "text/plain": [
       "(8.0, 4.0, 3.0)"
      ]
     },
     "execution_count": 2,
     "metadata": {},
     "output_type": "execute_result"
    }
   ],
   "source": [
    "norm(x,1), norm(x), norm(x,Inf)"
   ]
  },
  {
   "cell_type": "code",
   "execution_count": 3,
   "metadata": {},
   "outputs": [
    {
     "data": {
      "text/plain": [
       "7×5 Array{Int64,2}:\n",
       "  2  -1   1  -2  -2\n",
       "  2  -4   3   0   0\n",
       " -1  -4  -1  -2  -4\n",
       "  2   0  -2  -2  -1\n",
       "  4   4   3  -4  -3\n",
       " -3  -4   4  -3  -1\n",
       " -4  -4   4  -3   2"
      ]
     },
     "execution_count": 3,
     "metadata": {},
     "output_type": "execute_result"
    }
   ],
   "source": [
    "A=rand(-4:4,7,5)"
   ]
  },
  {
   "cell_type": "code",
   "execution_count": 4,
   "metadata": {},
   "outputs": [
    {
     "data": {
      "text/plain": [
       "(21.0, 11.43978932236231, 11.43978932236231, 18.0, 16.492422502470642)"
      ]
     },
     "execution_count": 4,
     "metadata": {},
     "output_type": "execute_result"
    }
   ],
   "source": [
    "norm(A,1), norm(A), norm(A,2), norm(A,Inf), vecnorm(A)"
   ]
  },
  {
   "cell_type": "code",
   "execution_count": 5,
   "metadata": {},
   "outputs": [
    {
     "data": {
      "text/plain": [
       "16.492422502470642"
      ]
     },
     "execution_count": 5,
     "metadata": {},
     "output_type": "execute_result"
    }
   ],
   "source": [
    "norm(vec(A))"
   ]
  },
  {
   "cell_type": "markdown",
   "metadata": {},
   "source": [
    "### Facts\n",
    "\n",
    "\n",
    "1. $\\|x\\|_1$, $\\|x\\|_2$, $\\|x\\|_\\infty$ and $\\|x\\|_p$ are absolute and monotone vector norms.\n",
    "2. A vector norm is absolute iff it is monotone.\n",
    "3. __Convergence.__ $x_k\\to x_*$ iff for any vector norm $\\|x_k-x_*\\|\\to 0$.\n",
    "3. Any two vector norms are equivalent in the sense that, for all $x$ and some $\\alpha,\\beta>0$\n",
    "$$\n",
    "\\alpha \\|x\\|_\\mu \\leq \\|x\\|_\\nu \\leq \\beta \\|x\\|_\\mu.\n",
    "$$\n",
    "In particular:\n",
    "   * $\\|x\\|_2 \\leq \\|x\\|_1\\leq \\sqrt{n}\\|x\\|_2$,\n",
    "   * $\\|x\\|_\\infty \\leq \\|x\\|_2\\leq \\sqrt{n}\\|x\\|_\\infty$,\n",
    "   * $\\|x\\|_\\infty \\leq \\|x\\|_1\\leq n\\|x\\|_\\infty$.\n",
    "2. __Cauchy-Schwartz inequality.__ $|x^*y|\\leq \\|x\\|_2\\|y\\|_2$.\n",
    "3. __H&ouml;lder inequality.__ if $p,q\\geq 1$ and $\\frac{1}{p}+\\frac{1}{q}=1$, then $|x^*y|\\leq \\|x\\|_p\\|y\\|_q$.\n",
    "1. $\\|A\\|_1$, $\\|A\\|_2$ and $\\|A\\|_\\infty$ are induced by the corresponding vector norms.\n",
    "2. $\\|A\\|_F$ is not an induced norm.\n",
    "3. $\\|A\\|_1$, $\\|A\\|_2$, $\\|A\\|_\\infty$ and $\\|A\\|_F$ are consistent.\n",
    "4. $\\|A\\|_1$, $\\|A\\|_\\infty$ and $\\|A\\|_F$ are absolute. However, $\\||A|\\|_2\\neq \\|A\\|_2$.\n",
    "5. Any two matrix norms are equivalent in the sense that, for all $A$ and some $\\alpha,\\beta>0$\n",
    "$$\n",
    "\\alpha \\|A\\|_\\mu \\leq \\|A\\|_\\nu \\leq \\beta \\|A\\|_\\mu.\n",
    "$$\n",
    "In particular:\n",
    "   * $\\frac{1}{\\sqrt{n}}\\|A\\|_\\infty \\leq \\|A\\|_2\\leq \\sqrt{m}\\|A\\|_\\infty$,\n",
    "   * $\\|A\\|_2 \\leq \\|A\\|_F\\leq \\sqrt{n}\\|A\\|_2$,\n",
    "   * $\\frac{1}{\\sqrt{m}}\\|A\\|_1 \\leq \\|A\\|_2\\leq \\sqrt{n}\\|A\\|_1$.\n",
    "6. $\\|A\\|_2\\leq \\sqrt{\\|A\\|_1 \\|A\\|_\\infty}$.\n",
    "7. $\\|AB\\|_F\\leq \\|A\\|_F\\|B\\|_2$ and $\\|AB\\|_F\\leq \\|A\\|_2\\|B\\|_F$.\n",
    "8. If $A=xy^*$, then $\\|A\\|_2=\\|A\\|_F=\\|x\\|_2\\|y\\|_2$.\n",
    "9. $\\|A^*\\|_2=\\|A\\|_2$ and $\\|A^*\\|_F=\\|A\\|_F$.\n",
    "10. For a unitary matrix $U$ of compatible dimension,\n",
    "$$\\|AU\\|_2=\\|A\\|_2,\\quad \\|AU\\|_F=\\|A\\|_F,\\quad\n",
    "\\|UA\\|_2=\\|A\\|_2,\\quad  \\|UA\\|_F=\\|A\\|_F.\n",
    "$$\n",
    "11. For $A$ square, $\\rho(A)\\leq\\|A\\|$.\n",
    "12. For $A$ square, $A^k\\to 0$ iff $>\\rho(A)<1$."
   ]
  },
  {
   "cell_type": "code",
   "execution_count": 6,
   "metadata": {},
   "outputs": [
    {
     "data": {
      "text/plain": [
       "(21.0, 21.0, 18.0, 18.0, 16.492422502470642, 16.492422502470642, 11.43978932236231, 15.54846064140104)"
      ]
     },
     "execution_count": 6,
     "metadata": {},
     "output_type": "execute_result"
    }
   ],
   "source": [
    "# Absolute norms\n",
    "norm(A,1), norm(abs.(A),1), norm(A,Inf), norm(abs.(A),Inf), vecnorm(A),\n",
    "vecnorm(abs.(A)),  norm(A),norm(abs.(A))"
   ]
  },
  {
   "cell_type": "code",
   "execution_count": 7,
   "metadata": {},
   "outputs": [
    {
     "data": {
      "text/plain": [
       "(0.12422599874998833, 11.43978932236231, 47.62352359916263)"
      ]
     },
     "execution_count": 7,
     "metadata": {},
     "output_type": "execute_result"
    }
   ],
   "source": [
    "# Equivalence of norms\n",
    "m,n=size(A)\n",
    "norm(A,Inf)\\sqrt(n),norm(A), sqrt(m)*norm(A,Inf)"
   ]
  },
  {
   "cell_type": "code",
   "execution_count": 8,
   "metadata": {},
   "outputs": [
    {
     "data": {
      "text/plain": [
       "(11.43978932236231, 16.492422502470642, 25.580146573078384)"
      ]
     },
     "execution_count": 8,
     "metadata": {},
     "output_type": "execute_result"
    }
   ],
   "source": [
    "norm(A), vecnorm(A), sqrt(n)*norm(A)"
   ]
  },
  {
   "cell_type": "code",
   "execution_count": 9,
   "metadata": {},
   "outputs": [
    {
     "data": {
      "text/plain": [
       "(0.12598815766974242, 11.43978932236231, 46.95742752749558)"
      ]
     },
     "execution_count": 9,
     "metadata": {},
     "output_type": "execute_result"
    }
   ],
   "source": [
    "norm(A,1)\\sqrt(m),norm(A), sqrt(n)*norm(A,1)"
   ]
  },
  {
   "cell_type": "code",
   "execution_count": 10,
   "metadata": {},
   "outputs": [
    {
     "data": {
      "text/plain": [
       "(11.43978932236231, 19.44222209522358)"
      ]
     },
     "execution_count": 10,
     "metadata": {},
     "output_type": "execute_result"
    }
   ],
   "source": [
    "# Fact 12\n",
    "norm(A), sqrt(norm(A,1)*norm(A,Inf))"
   ]
  },
  {
   "cell_type": "code",
   "execution_count": 11,
   "metadata": {},
   "outputs": [
    {
     "data": {
      "text/plain": [
       "(15.01635865162152, 33.906961090532626, 26.12124331440825)"
      ]
     },
     "execution_count": 11,
     "metadata": {},
     "output_type": "execute_result"
    }
   ],
   "source": [
    "# Fact 13\n",
    "B=rand(n,rand(1:9))\n",
    "vecnorm(A*B), vecnorm(A)*norm(B), norm(A)*vecnorm(B)"
   ]
  },
  {
   "cell_type": "code",
   "execution_count": 12,
   "metadata": {},
   "outputs": [
    {
     "data": {
      "text/plain": [
       "(6.78328917727892, 6.783289177278921, 6.783289177278921)"
      ]
     },
     "execution_count": 12,
     "metadata": {},
     "output_type": "execute_result"
    }
   ],
   "source": [
    "# Fact 14\n",
    "x=rand(10)+im*rand(10)\n",
    "y=rand(10)+im*rand(10)\n",
    "A=x*y'\n",
    "norm(A), vecnorm(A), norm(x)*norm(y)"
   ]
  },
  {
   "cell_type": "code",
   "execution_count": 13,
   "metadata": {},
   "outputs": [
    {
     "data": {
      "text/plain": [
       "(14.906901435908395, 14.906901435908395, 21.908902300206645, 21.908902300206645)"
      ]
     },
     "execution_count": 13,
     "metadata": {},
     "output_type": "execute_result"
    }
   ],
   "source": [
    "# Fact 15\n",
    "A=rand(-4:4,7,5)+im*rand(-4:4,7,5)\n",
    "norm(A), norm(A'), vecnorm(A), vecnorm(A')"
   ]
  },
  {
   "cell_type": "code",
   "execution_count": 14,
   "metadata": {},
   "outputs": [],
   "source": [
    "# Unitary invariance - generate random unitary matrix U\n",
    "U,R=qr(rand(size(A))+im*rand(size(A)),thin=false);"
   ]
  },
  {
   "cell_type": "code",
   "execution_count": 15,
   "metadata": {},
   "outputs": [
    {
     "data": {
      "text/plain": [
       "(14.906901435908395, 14.9069014359084, 21.908902300206645, 21.908902300206645)"
      ]
     },
     "execution_count": 15,
     "metadata": {},
     "output_type": "execute_result"
    }
   ],
   "source": [
    "norm(A), norm(U*A), vecnorm(A), vecnorm(U*A)"
   ]
  },
  {
   "cell_type": "code",
   "execution_count": 16,
   "metadata": {},
   "outputs": [
    {
     "data": {
      "text/plain": [
       "(5.2341579591715774, 6.827084930229757, 6.70185034881129, 5.514868120397622, 5.968057751055918)"
      ]
     },
     "execution_count": 16,
     "metadata": {},
     "output_type": "execute_result"
    }
   ],
   "source": [
    "# Spectral radius\n",
    "A=rand(7,7)+im*rand(7,7)\n",
    "maximum(abs,eigvals(A)), norm(A,Inf), norm(A,1), norm(A), vecnorm(A)"
   ]
  },
  {
   "cell_type": "code",
   "execution_count": 17,
   "metadata": {},
   "outputs": [
    {
     "name": "stdout",
     "output_type": "stream",
     "text": [
      "maximum(abs, eigvals(B)) = 0.7235338222792927\n"
     ]
    },
    {
     "data": {
      "text/plain": [
       "9.28450234348096e-15"
      ]
     },
     "execution_count": 17,
     "metadata": {},
     "output_type": "execute_result"
    }
   ],
   "source": [
    "# Fact 18\n",
    "B=A/(maximum(abs,eigvals(A))+2)\n",
    "@show maximum(abs,eigvals(B))\n",
    "norm(B^100)"
   ]
  },
  {
   "cell_type": "markdown",
   "metadata": {},
   "source": [
    "## Errors and condition numbers\n",
    "\n",
    "We want to answer the question:\n",
    "\n",
    "__How much the value of a function changes with respect to the change of its argument?__\n",
    "\n",
    "### Definitions\n",
    "\n",
    "For function $f(x)$ and argument $x$, the __absolute error__ with respect to the __perturbation__ of the argument \n",
    "$\\delta x$ is \n",
    "\n",
    "$$\n",
    "\\| f(x+\\delta x)-f(x)\\| = \\frac{\\| f(x+\\delta x)-f(x)\\|}{\\| \\delta x \\|} \\|\\delta x\\| \\equiv \\kappa \\|\\delta x\\|.\n",
    "$$\n",
    "\n",
    "The  __condition__ or  __condition number__ $\\kappa$ tells how much does the perturbation of the argument increase. (Its form resembles derivative.)\n",
    "\n",
    "Similarly, the __relative error__ with respect to the relative perturbation of the argument is\n",
    "\n",
    "$$\n",
    "\\frac{\\| f(x+\\delta x)-f(x)\\|}{\\| f(x) \\|}= \\frac{\\| f(x+\\delta x)-f(x)\\|\\cdot  \\|x\\| }{\\|\\delta x\\| \\cdot\\| f(x)\\|}\n",
    "\\cdot \\frac{\\|\\delta x\\|}{\\|x\\|} \\equiv \\kappa_{rel} \\frac{\\|\\delta x\\|}{\\|x\\|}.\n",
    "$$"
   ]
  },
  {
   "cell_type": "markdown",
   "metadata": {},
   "source": [
    "## Peturbation bounds\n",
    "\n",
    "### Definitions\n",
    "\n",
    "Let $A\\in\\mathbb{C}^{n\\times n}$.\n",
    "\n",
    "Pair $(\\lambda,x)\\in\\mathbb{C}\\times\\mathbb{C}^{n\\times n}$ is an __eigenpair__ of $A$ if $x\\neq 0$ and $Ax=\\lambda x$.\n",
    "\n",
    "Triplet $(y,\\lambda,x)\\in\\times\\mathbb{C}^{n}\\times\\mathbb{C}\\times\\mathbb{C}^{n}$ is an __eigentriplet__ of $A$ if $x,y\\neq 0$ and $Ax=\\lambda x$ and $y^*A=\\lambda y^*$.\n",
    "\n",
    "__Eigenvalue matrix__ is a diagonal matrix $\\Lambda=\\mathop{\\mathrm{diag}}(\\lambda_1,\\lambda_2,\\ldots,\\lambda_n)$.\n",
    "\n",
    "If all eigenvalues are real, they can be increasingly ordered. $\\Lambda^\\uparrow$ is the eigenvalue matrix of increasingly ordered eigenvalues.\n",
    "\n",
    "$\\tau$ is a __permutation__ of $\\{1,2,\\ldots,n\\}$.\n",
    "\n",
    "$\\tilde A=A+\\Delta A$ is a __perturbed matrix__, where $\\Delta A$ is __perturbation__. $(\\tilde \\lambda,\\tilde x)$ are the eigenpairs of $\\tilde A$.\n",
    "\n",
    "__Condition number__ of a nonsingular matrix $X$ is $\\kappa(X)=\\|X\\| \\|X^{-1}\\|$.\n",
    "\n",
    "Let $X,Y\\in\\mathbb{C}^{n\\times k}$ with $\\mathop{\\mathrm{rank}}(X)=\\mathop{\\mathrm{rank}}(Y)=k$. The __canonical angles__ between their column spaces, $\\theta_i$, are defined by $\\cos \\theta_i=\\sigma_i$, where $\\sigma_i$ are the singular values of the matrix\n",
    "$$(Y^*Y)^{-1/2}Y^*X(X^*X)^{-1/2}.$$ \n",
    "The __canonical angle matrix__ between $X$ and $Y$ is \n",
    "$$\\Theta(X,Y)=\\mathop{\\mathrm{diag}}(\\theta_1,\\theta_2,\\ldots,\\theta_k).\n",
    "$$\n",
    "    "
   ]
  },
  {
   "cell_type": "markdown",
   "metadata": {},
   "source": [
    "### Facts\n",
    "\n",
    "Bounds become more strict as matrices have more structure. \n",
    "Many bounds have versions in spectral norm and Frobenius norm.\n",
    "For more details and the proofs of the Facts below, see \n",
    "[R.-C. Li, Matrix Perturbation Theory][Hog14], and the references therein.\n",
    "\n",
    "[Hog14]: #1 \"L. Hogben, ed., 'Handbook of Linear Algebra', pp. 21.1-21.20, CRC Press, Boca Raton, 2014.\"\n",
    "\n",
    "1. There exists $\\tau$ such that\n",
    "$$\\|\\Lambda- \\tilde\\Lambda_\\tau\\|_2\\leq 4(\\|A\\|_2+\\|\\tilde A\\|_2)^{1-1/n}\\|\\Delta A\\|_2^{1/n}.$$\n",
    "\n",
    "2. __First-order perturbation bounds.__ Let $(y,\\lambda,x)$ be an eigentriplet of a simple $\\lambda$. $\\Delta A$ changes $\\lambda$ to \n",
    "$\\tilde\\lambda=\\lambda+ \\delta\\lambda$, where\n",
    "$$\n",
    "\\delta\\lambda=\\frac{y^*(\\Delta A)x}{y^*x}+O(\\|\\Delta A\\|_2^2).\n",
    "$$\n",
    "\n",
    "3. Let $\\lambda$ be a semisimple eigenvalue of $A$ with multiplicitiy $k$, and let $X,Y\\in \\mathbb{C}^{n\\times k}$ be the matrices of the corresponding right and left eigenvectors, that is, $AX=\\lambda X$ and $Y^*A=\\lambda Y^*$, such that $Y^*X=I_k$. $\\Delta A$ changes the $k$ copies of $\\mu$ to $\\tilde \\mu=\\mu+\\delta\\mu_i$, where $\\delta\\mu_i$ are the eigenvalues of $Y^*(\\Delta A) X$ up to $O(\\|\\Delta A\\|_2^2$.\n",
    "\n",
    "3. Perturbations of an inverse matrix are as follows: if $\\|A\\|_p<1$, then $I-A$ is nonsingular and\n",
    "$$\n",
    "(I-A)^{-1}=\\sum\\limits_{k=0}^\\infty A^k\n",
    "$$\n",
    "with\n",
    "$$\n",
    "\\|I-A\\|_p \\leq \\frac{1}{1-\\|A\\|_p},\\qquad \n",
    "\\|(I-A)^{-1}-I\\|_p \\leq \\frac{\\|A\\|_p}{1-\\|A\\|_p}.\n",
    "$$\n",
    "\n",
    "4. __Geršgorin Circle Theorem.__ If $X^{-1} A X=D+F$, where $D=\\mathop{\\mathrm{diag}}(d_1,\\ldots,d_n)$ \n",
    "and $F$ has zero diagonal entries, then\n",
    "$$\\sigma(A) \\subseteq \\bigcup\\limits_{i=1}^n D_i,$$\n",
    "where \n",
    "$$D_i=\\big\\{z\\in\\mathbb{C} : |z-d_i| \\leq \\sum\\limits_{j=1}^n |f_{ij}| \\big\\}.\n",
    "$$\n",
    "Moreover, by continuity, if a connected component of $D$ consists of $k$ circles, it contains $k$ eigenvalues.\n",
    "\n",
    "4. __Bauer-Fike Theorem.__ If $A$ is diagonalizable and $A=X\\Lambda X^{-1}$ is its eigenvalue decomposition, then\n",
    "$$\n",
    "\\max_i\\min_j |\\tilde \\lambda_i -\n",
    "\\lambda_j|\\leq \\|X^{-1}(\\Delta A)X\\|_p\\leq \\kappa_p(X)\\|\\Delta A\\|_p.\n",
    "$$\n",
    "\n",
    "5. If $A$ and $\\tilde A$ are diagonalizable, there exists $\\tau$ such that\n",
    "$$\\|\\Lambda-\\tilde\\Lambda_\\tau\\|_F\\leq \\sqrt{\\kappa_2(X)\\kappa_2(\\tilde X)}\\|\\Delta A\\|_F.\n",
    "$$ If $\\Lambda$ and  $\\tilde\\Lambda$ are real, then\n",
    "$$\n",
    "\\|\\Lambda^\\uparrow-\\tilde\\Lambda^\\uparrow\\|_{2,F} \\leq \\sqrt{\\kappa_2(X)\\kappa_2(\\tilde X)}\\|\\Delta A\\|_{2,F}.\n",
    "$$\n",
    "\n",
    "6. If $A$ is normal, there exists $\\tau$ such that $\\|\\Lambda-\\tilde\\Lambda_\\tau\\|_F\\leq\\sqrt{n}\\|\\Delta A\\|_F$.\n",
    "\n",
    "7. __Hoffman-Wielandt Theorem.__ If $A$ and $\\tilde A$ are normal, there exists $\\tau$ such that $\\|\\Lambda-\\tilde\\Lambda_\\tau\\|_F\\leq\\|\\Delta A\\|_F$.\n",
    "\n",
    "8. If $A$ and $\\tilde A$ are Hermitian, for any unitarily invariant norm $\\|\\Lambda^\\uparrow-\\tilde\\Lambda^\\uparrow\\| \\leq \\|\\Delta A\\|$. In particular,\n",
    "\\begin{align*}\n",
    "\\max_i|\\lambda^\\uparrow_i-\\tilde\\lambda^\\uparrow_i|&\\leq \\|\\Delta A\\|_2,\\\\ \n",
    "\\sqrt{\\sum_i(\\lambda^\\uparrow_i-\\tilde\\lambda^\\uparrow_i)^2}&\\leq \\|\\Delta A\\|_F.\n",
    "\\end{align*}\n",
    "\n",
    "9. __Residual bounds.__ Let $A$ be Hermitian. For some $\\tilde\\lambda\\in\\mathbb{R}$ and $\\tilde x\\in\\mathbb{C}^n$ with $\\|\\tilde x\\|_2=1$, define __residual__ $r=A\\tilde x-\\tilde\\lambda\\tilde x$. Then\n",
    "$|\\tilde\\lambda-\\lambda|\\leq \\|r\\|_2$ for some $\\lambda\\in\\sigma(A)$.\n",
    "\n",
    "9. Let, in addition,  $\\tilde\\lambda=\\tilde x^* A\\tilde x$, let $\\lambda$ be closest to $\\tilde\\lambda$ and $x$ be its unit eigenvector, and let \n",
    "$$\\eta=\\mathop{\\mathrm{gap}}(\\tilde\\lambda)= \\min_{\\lambda\\neq\\mu\\in\\sigma(A)}|\\tilde\\lambda-\\mu|.$$\n",
    "If $\\eta>0$, then\n",
    "$$ |\\tilde\\lambda-\\lambda|\\leq \\frac{\\|r\\|_2^2}{\\eta},\\quad \\sin\\theta(x,\\tilde x)\\leq \\frac{\\|r\\|_2}{\\eta}.\n",
    "$$\n",
    "\n",
    "10. Let $A$ be Hermitian, $X\\in\\mathbb{C}^{n\\times k}$ have full column rank, and $M\\in\\mathcal{H}_k$ having eigenvalues \n",
    "$\\mu_1\\leq\\mu_2\\leq\\cdots\\leq\\mu_k$. Set $R=AX-XM$. Then\n",
    "there exist $\\lambda_{i_1}\\leq\\lambda_{i_2}\\leq\\cdots\\leq\\lambda_{i_k}\\in\\sigma(A)$ such that\n",
    "\\begin{align*}    \n",
    "\\max_{1\\leq j\\leq k} |\\mu_j-\\lambda_{i_j}|& \\leq \\frac{\\|R\\|_2}{\\sigma_{\\min}(X)},\\\\\n",
    "\\sqrt{\\sum_{j=1}^k (\\mu_j-\\lambda_{i_j})^2}&\\leq \\frac{\\|R\\|_F}{\\sigma_{\\min}(X)}.\n",
    "\\end{align*}\n",
    "(The indices $i_j$ need not be the same in the above formulae.)\n",
    "\n",
    "10. If, additionally, $X^*X=I$ and $M=X^*AX$, and if all but $k$ of $A$'s eigenvalues differ from every one of $M$'s eigenvalues by at least $\\eta>0$, then\n",
    "$$\\sqrt{\\sum_{j=1}^k (\\mu_j-\\lambda_{i_j})^2}\\leq \\frac{\\|R\\|_F^2}{\\eta\\sqrt{1-\\|R\\|_F^2/\\eta^2}}.$$\n",
    "\n",
    "11. Let $A=\\begin{bmatrix} M & E^* \\\\ E & H \\end{bmatrix}$ and $\\tilde A=\\begin{bmatrix} M & 0 \\\\ 0 & H \\end{bmatrix}$ be Hermitian, and set $\\eta=\\min |\\mu-\\nu|$ over all $\\mu\\in\\sigma(M)$ and $\\nu\\in\\sigma(H)$. Then\n",
    "$$ \n",
    "\\max |\\lambda_j^\\uparrow -\\tilde\\lambda_j^\\uparrow| \\leq \\frac{2\\|E\\|_2^2}{\\eta+\\sqrt{\\eta^2+4\\|E\\|_2^2}}.\n",
    "$$\n",
    "\n",
    "14. Let \n",
    "$$\n",
    "\\begin{bmatrix} X_1^*\\\\ X_2^* \\end{bmatrix} A \\begin{bmatrix} X_1 & X_2 \\end{bmatrix}=\n",
    "\\begin{bmatrix} A_1 &  \\\\ & A_2 \\end{bmatrix}, \\quad \\begin{bmatrix} X_1 & X_2 \\end{bmatrix} \\textrm{unitary},\n",
    "\\quad X_1\\in\\mathbb{C}^{n\\times k}.\n",
    "$$\n",
    "Let $Q\\in\\mathbb{C}^{n\\times k}$ have orthonormal columns and for a Hermitian $k\\times k$ matrix $M$ set\n",
    "$R=AQ-QM$. Let $\\eta=\\min|\\mu-\\nu|$ over all $\\mu\\in\\sigma(M)$ and $\\nu\\in\\sigma(A_2)$. If $\\eta > 0$, then\n",
    "$$\n",
    "\\|\\sin\\Theta(X_1,Q)\\|_F\\leq \\frac{\\|R\\|_F}{\\eta}.\n",
    "$$"
   ]
  },
  {
   "cell_type": "markdown",
   "metadata": {},
   "source": [
    "### Example - Nondiagonalizable matrix"
   ]
  },
  {
   "cell_type": "code",
   "execution_count": 18,
   "metadata": {},
   "outputs": [
    {
     "data": {
      "text/plain": [
       "3×3 Array{Int64,2}:\n",
       " -3    7  -1\n",
       "  6    8  -2\n",
       " 72  -28  19"
      ]
     },
     "execution_count": 18,
     "metadata": {},
     "output_type": "execute_result"
    }
   ],
   "source": [
    "A=[-3 7 -1; 6 8 -2; 72 -28 19]"
   ]
  },
  {
   "cell_type": "code",
   "execution_count": 19,
   "metadata": {},
   "outputs": [
    {
     "data": {
      "text/plain": [
       "3-element Array{Float64,1}:\n",
       " -6.0\n",
       " 15.0\n",
       " 15.0"
      ]
     },
     "execution_count": 19,
     "metadata": {},
     "output_type": "execute_result"
    }
   ],
   "source": [
    "# (Right) eigenvectors\n",
    "λ,X=eig(A)\n",
    "λ"
   ]
  },
  {
   "cell_type": "code",
   "execution_count": 20,
   "metadata": {},
   "outputs": [
    {
     "data": {
      "text/plain": [
       "3×3 Array{Float64,2}:\n",
       "  0.235702   0.218218  -0.218218\n",
       " -0.235702   0.436436  -0.436436\n",
       " -0.942809  -0.872872   0.872872"
      ]
     },
     "execution_count": 20,
     "metadata": {},
     "output_type": "execute_result"
    }
   ],
   "source": [
    "X"
   ]
  },
  {
   "cell_type": "code",
   "execution_count": 21,
   "metadata": {},
   "outputs": [
    {
     "data": {
      "text/plain": [
       "9.091581997455394e7"
      ]
     },
     "execution_count": 21,
     "metadata": {},
     "output_type": "execute_result"
    }
   ],
   "source": [
    "cond(X)"
   ]
  },
  {
   "cell_type": "code",
   "execution_count": 22,
   "metadata": {},
   "outputs": [
    {
     "data": {
      "text/plain": [
       "(Complex{Float64}[-6.0+0.0im, 15.0+2.00883e-7im, 15.0-2.00883e-7im], Complex{Float64}[0.894427+0.0im 0.970143+0.0im 0.970143-0.0im; -0.447214+0.0im -7.58506e-16-1.62404e-8im -7.58506e-16+1.62404e-8im; -6.07504e-17+0.0im 0.242536+4.0601e-9im 0.242536-4.0601e-9im])"
      ]
     },
     "execution_count": 22,
     "metadata": {},
     "output_type": "execute_result"
    }
   ],
   "source": [
    "# Left eigenvectors\n",
    "λ1,Y=eig(A')"
   ]
  },
  {
   "cell_type": "code",
   "execution_count": 23,
   "metadata": {},
   "outputs": [
    {
     "data": {
      "text/plain": [
       "1×3 RowVector{Complex{Float64},Array{Complex{Float64},1}}:\n",
       " 2.34268e-7+1.94885e-7im  9.60124e-15-3.9217e-15im  5.8567e-8+4.87212e-8im"
      ]
     },
     "execution_count": 23,
     "metadata": {},
     "output_type": "execute_result"
    }
   ],
   "source": [
    "# Try k=2,3\n",
    "k=3\n",
    "Y[:,k]'*A-λ[k]*Y[:,k]'"
   ]
  },
  {
   "cell_type": "code",
   "execution_count": 24,
   "metadata": {},
   "outputs": [
    {
     "data": {
      "text/plain": [
       "3×3 Array{Float64,2}:\n",
       " -2.98154    7.01968  -0.969565\n",
       "  6.00433    8.00049  -1.99528 \n",
       " 72.0195   -27.9878   19.0199  "
      ]
     },
     "execution_count": 24,
     "metadata": {},
     "output_type": "execute_result"
    }
   ],
   "source": [
    "ΔA=rand(3,3)/20\n",
    "B=A+ΔA"
   ]
  },
  {
   "cell_type": "code",
   "execution_count": 25,
   "metadata": {},
   "outputs": [
    {
     "data": {
      "text/plain": [
       "0.05083596017679965"
      ]
     },
     "execution_count": 25,
     "metadata": {},
     "output_type": "execute_result"
    }
   ],
   "source": [
    "norm(ΔA)"
   ]
  },
  {
   "cell_type": "code",
   "execution_count": 26,
   "metadata": {},
   "outputs": [
    {
     "data": {
      "text/plain": [
       "([-6.07659, 15.5997, 14.5157], [0.237236 0.19424 -0.238936; -0.2348 0.389826 -0.478897; -0.942649 -0.90017 0.844729])"
      ]
     },
     "execution_count": 26,
     "metadata": {},
     "output_type": "execute_result"
    }
   ],
   "source": [
    "μ,Z=eig(B)"
   ]
  },
  {
   "cell_type": "code",
   "execution_count": 27,
   "metadata": {},
   "outputs": [
    {
     "data": {
      "text/plain": [
       "-0.07659245719926133"
      ]
     },
     "execution_count": 27,
     "metadata": {},
     "output_type": "execute_result"
    }
   ],
   "source": [
    "# Fact 2\n",
    "δλ=μ[1]-λ[1]"
   ]
  },
  {
   "cell_type": "code",
   "execution_count": 28,
   "metadata": {},
   "outputs": [
    {
     "data": {
      "text/plain": [
       "-0.07696005334382856 + 0.0im"
      ]
     },
     "execution_count": 28,
     "metadata": {},
     "output_type": "execute_result"
    }
   ],
   "source": [
    "k=1\n",
    "Y[:,k]'*ΔA*X[:,k]/(Y[:,k]⋅X[:,k])"
   ]
  },
  {
   "cell_type": "markdown",
   "metadata": {},
   "source": [
    "### Example - Jordan form"
   ]
  },
  {
   "cell_type": "code",
   "execution_count": 29,
   "metadata": {},
   "outputs": [
    {
     "data": {
      "text/plain": [
       "10×10 Bidiagonal{Float64}:\n",
       " 0.5  1.0   ⋅    ⋅    ⋅    ⋅    ⋅    ⋅    ⋅    ⋅ \n",
       "  ⋅   0.5  1.0   ⋅    ⋅    ⋅    ⋅    ⋅    ⋅    ⋅ \n",
       "  ⋅    ⋅   0.5  1.0   ⋅    ⋅    ⋅    ⋅    ⋅    ⋅ \n",
       "  ⋅    ⋅    ⋅   0.5  1.0   ⋅    ⋅    ⋅    ⋅    ⋅ \n",
       "  ⋅    ⋅    ⋅    ⋅   0.5  1.0   ⋅    ⋅    ⋅    ⋅ \n",
       "  ⋅    ⋅    ⋅    ⋅    ⋅   0.5  1.0   ⋅    ⋅    ⋅ \n",
       "  ⋅    ⋅    ⋅    ⋅    ⋅    ⋅   0.5  1.0   ⋅    ⋅ \n",
       "  ⋅    ⋅    ⋅    ⋅    ⋅    ⋅    ⋅   0.5  1.0   ⋅ \n",
       "  ⋅    ⋅    ⋅    ⋅    ⋅    ⋅    ⋅    ⋅   0.5  1.0\n",
       "  ⋅    ⋅    ⋅    ⋅    ⋅    ⋅    ⋅    ⋅    ⋅   0.5"
      ]
     },
     "execution_count": 29,
     "metadata": {},
     "output_type": "execute_result"
    }
   ],
   "source": [
    "n=10\n",
    "c=0.5\n",
    "J=Bidiagonal(c*ones(n),ones(n-1),true)"
   ]
  },
  {
   "cell_type": "code",
   "execution_count": 30,
   "metadata": {},
   "outputs": [
    {
     "data": {
      "text/plain": [
       "10-element Array{Float64,1}:\n",
       " 0.5\n",
       " 0.5\n",
       " 0.5\n",
       " 0.5\n",
       " 0.5\n",
       " 0.5\n",
       " 0.5\n",
       " 0.5\n",
       " 0.5\n",
       " 0.5"
      ]
     },
     "execution_count": 30,
     "metadata": {},
     "output_type": "execute_result"
    }
   ],
   "source": [
    "# Accurately defined eigenvalues\n",
    "λ=eigvals(J)"
   ]
  },
  {
   "cell_type": "code",
   "execution_count": 31,
   "metadata": {},
   "outputs": [
    {
     "data": {
      "text/plain": [
       "10×10 Array{Float64,2}:\n",
       " 1.0  1.0  1.0  1.0  1.0  1.0  1.0  1.0  1.0  1.0\n",
       " 0.0  0.0  0.0  0.0  0.0  0.0  0.0  0.0  0.0  0.0\n",
       " 0.0  0.0  0.0  0.0  0.0  0.0  0.0  0.0  0.0  0.0\n",
       " 0.0  0.0  0.0  0.0  0.0  0.0  0.0  0.0  0.0  0.0\n",
       " 0.0  0.0  0.0  0.0  0.0  0.0  0.0  0.0  0.0  0.0\n",
       " 0.0  0.0  0.0  0.0  0.0  0.0  0.0  0.0  0.0  0.0\n",
       " 0.0  0.0  0.0  0.0  0.0  0.0  0.0  0.0  0.0  0.0\n",
       " 0.0  0.0  0.0  0.0  0.0  0.0  0.0  0.0  0.0  0.0\n",
       " 0.0  0.0  0.0  0.0  0.0  0.0  0.0  0.0  0.0  0.0\n",
       " 0.0  0.0  0.0  0.0  0.0  0.0  0.0  0.0  0.0  0.0"
      ]
     },
     "execution_count": 31,
     "metadata": {},
     "output_type": "execute_result"
    }
   ],
   "source": [
    "# Only one eigenvector\n",
    "X=eigvecs(J)"
   ]
  },
  {
   "cell_type": "code",
   "execution_count": 32,
   "metadata": {},
   "outputs": [
    {
     "data": {
      "text/plain": [
       "10-element Array{Float64,1}:\n",
       " 0.0\n",
       " 0.0\n",
       " 0.0\n",
       " 0.0\n",
       " 0.0\n",
       " 0.0\n",
       " 0.0\n",
       " 0.0\n",
       " 0.0\n",
       " 1.0"
      ]
     },
     "execution_count": 32,
     "metadata": {},
     "output_type": "execute_result"
    }
   ],
   "source": [
    "x=eigvecs(J)[:,1]\n",
    "y=eigvecs(J')[:,1]"
   ]
  },
  {
   "cell_type": "code",
   "execution_count": 33,
   "metadata": {},
   "outputs": [
    {
     "data": {
      "text/plain": [
       "1×10 RowVector{Float64,Array{Float64,1}}:\n",
       " 0.0  0.0  0.0  0.0  0.0  0.0  0.0  0.0  0.0  0.0"
      ]
     },
     "execution_count": 33,
     "metadata": {},
     "output_type": "execute_result"
    }
   ],
   "source": [
    "y'*full(J)-0.5*y'"
   ]
  },
  {
   "cell_type": "code",
   "execution_count": 34,
   "metadata": {},
   "outputs": [
    {
     "data": {
      "text/plain": [
       "10×10 Array{Float64,2}:\n",
       " 0.0         0.0  0.0  0.0  0.0  0.0  0.0  0.0  0.0  0.0\n",
       " 0.0         0.0  0.0  0.0  0.0  0.0  0.0  0.0  0.0  0.0\n",
       " 0.0         0.0  0.0  0.0  0.0  0.0  0.0  0.0  0.0  0.0\n",
       " 0.0         0.0  0.0  0.0  0.0  0.0  0.0  0.0  0.0  0.0\n",
       " 0.0         0.0  0.0  0.0  0.0  0.0  0.0  0.0  0.0  0.0\n",
       " 0.0         0.0  0.0  0.0  0.0  0.0  0.0  0.0  0.0  0.0\n",
       " 0.0         0.0  0.0  0.0  0.0  0.0  0.0  0.0  0.0  0.0\n",
       " 0.0         0.0  0.0  0.0  0.0  0.0  0.0  0.0  0.0  0.0\n",
       " 0.0         0.0  0.0  0.0  0.0  0.0  0.0  0.0  0.0  0.0\n",
       " 1.49012e-8  0.0  0.0  0.0  0.0  0.0  0.0  0.0  0.0  0.0"
      ]
     },
     "execution_count": 34,
     "metadata": {},
     "output_type": "execute_result"
    }
   ],
   "source": [
    "# Just one perturbed element in the lower left corner\n",
    "ΔJ=sqrt(eps())*[zeros(n-1);1]*eye(1,n)"
   ]
  },
  {
   "cell_type": "code",
   "execution_count": 35,
   "metadata": {},
   "outputs": [
    {
     "data": {
      "text/plain": [
       "10-element Array{Complex{Float64},1}:\n",
       " 0.335062+0.0im      \n",
       " 0.366562+0.0969484im\n",
       " 0.366562-0.0969484im\n",
       " 0.449031+0.156866im \n",
       " 0.449031-0.156866im \n",
       " 0.550969+0.156866im \n",
       " 0.550969-0.156866im \n",
       " 0.633438+0.0969484im\n",
       " 0.633438-0.0969484im\n",
       " 0.664938+0.0im      "
      ]
     },
     "execution_count": 35,
     "metadata": {},
     "output_type": "execute_result"
    }
   ],
   "source": [
    "B=J+ΔJ\n",
    "μ=eigvals(B)"
   ]
  },
  {
   "cell_type": "code",
   "execution_count": 36,
   "metadata": {},
   "outputs": [
    {
     "data": {
      "text/plain": [
       "0.16493848891190788"
      ]
     },
     "execution_count": 36,
     "metadata": {},
     "output_type": "execute_result"
    }
   ],
   "source": [
    "# Fact 2\n",
    "maximum(abs,λ-μ)"
   ]
  },
  {
   "cell_type": "code",
   "execution_count": 37,
   "metadata": {},
   "outputs": [
    {
     "data": {
      "text/plain": [
       "Inf"
      ]
     },
     "execution_count": 37,
     "metadata": {},
     "output_type": "execute_result"
    }
   ],
   "source": [
    "y'*ΔJ*x/(y⋅x)"
   ]
  },
  {
   "cell_type": "markdown",
   "metadata": {},
   "source": [
    "However, since $B$ is diagonalizable, we can apply Bauer-Fike theorem to it: "
   ]
  },
  {
   "cell_type": "code",
   "execution_count": 38,
   "metadata": {},
   "outputs": [
    {
     "data": {
      "text/plain": [
       "(Complex{Float64}[0.335062+0.0im, 0.366562+0.0969484im, 0.366562-0.0969484im, 0.449031+0.156866im, 0.449031-0.156866im, 0.550969+0.156866im, 0.550969-0.156866im, 0.633438+0.0969484im, 0.633438-0.0969484im, 0.664938+0.0im], Complex{Float64}[-0.986304+0.0im 0.986304+0.0im … 0.986304-0.0im 0.986304+0.0im; 0.162679+0.0im -0.13161+0.0956206im … 0.13161-0.0956206im 0.162679+0.0im; … ; -5.4024e-7+0.0im 1.66943e-7+5.13799e-7im … 1.66943e-7+5.13799e-7im 5.4024e-7+0.0im; 8.91064e-8+0.0im -7.20886e-8-5.23754e-8im … 7.20886e-8+5.23754e-8im 8.91064e-8+0.0im])"
      ]
     },
     "execution_count": 38,
     "metadata": {},
     "output_type": "execute_result"
    }
   ],
   "source": [
    "μ,Y=eig(B)"
   ]
  },
  {
   "cell_type": "code",
   "execution_count": 39,
   "metadata": {},
   "outputs": [
    {
     "data": {
      "text/plain": [
       "1.1068834616372582e7"
      ]
     },
     "execution_count": 39,
     "metadata": {},
     "output_type": "execute_result"
    }
   ],
   "source": [
    "cond(Y)"
   ]
  },
  {
   "cell_type": "code",
   "execution_count": 40,
   "metadata": {},
   "outputs": [
    {
     "data": {
      "text/plain": [
       "(0.16493848884660858, 0.16493848884660872)"
      ]
     },
     "execution_count": 40,
     "metadata": {},
     "output_type": "execute_result"
    }
   ],
   "source": [
    "norm(inv(Y)*ΔJ*Y), cond(Y)*norm(ΔJ)"
   ]
  },
  {
   "cell_type": "markdown",
   "metadata": {
    "collapsed": true
   },
   "source": [
    "### Example - Normal matrix"
   ]
  },
  {
   "cell_type": "code",
   "execution_count": 41,
   "metadata": {},
   "outputs": [],
   "source": [
    "using SpecialMatrices"
   ]
  },
  {
   "cell_type": "code",
   "execution_count": 42,
   "metadata": {},
   "outputs": [
    {
     "data": {
      "text/plain": [
       "6×6 SpecialMatrices.Circulant{Int64}:\n",
       "  0   1  -2   4   3  -1\n",
       " -1   0   1  -2   4   3\n",
       "  3  -1   0   1  -2   4\n",
       "  4   3  -1   0   1  -2\n",
       " -2   4   3  -1   0   1\n",
       "  1  -2   4   3  -1   0"
      ]
     },
     "execution_count": 42,
     "metadata": {},
     "output_type": "execute_result"
    }
   ],
   "source": [
    "n=6\n",
    "C=Circulant(rand(-5:5,n))"
   ]
  },
  {
   "cell_type": "code",
   "execution_count": 43,
   "metadata": {},
   "outputs": [
    {
     "data": {
      "text/plain": [
       "6-element Array{Complex{Float64},1}:\n",
       "  3.5+6.06218im\n",
       "  3.5-6.06218im\n",
       "  5.0+0.0im    \n",
       " -4.5+2.59808im\n",
       " -4.5-2.59808im\n",
       " -3.0+0.0im    "
      ]
     },
     "execution_count": 43,
     "metadata": {},
     "output_type": "execute_result"
    }
   ],
   "source": [
    "λ=eigvals(full(C))"
   ]
  },
  {
   "cell_type": "code",
   "execution_count": 44,
   "metadata": {},
   "outputs": [
    {
     "data": {
      "text/plain": [
       "6×6 Array{Float64,2}:\n",
       " 5.65113e-6  8.18593e-6  2.91374e-5  5.23826e-5  2.19303e-6  4.12383e-5\n",
       " 7.38086e-5  3.304e-5    1.7022e-5   8.15197e-5  6.55649e-5  8.27823e-6\n",
       " 2.52795e-5  8.71817e-5  1.60833e-5  4.22353e-5  5.85002e-5  8.79271e-5\n",
       " 8.74645e-5  3.37922e-5  9.03781e-5  1.06812e-5  5.55664e-5  4.83179e-5\n",
       " 4.21087e-5  5.83319e-5  1.72333e-5  3.66189e-5  2.85959e-5  4.56073e-5\n",
       " 2.85931e-5  6.22676e-5  8.46095e-5  7.5246e-5   8.68421e-5  3.14651e-5"
      ]
     },
     "execution_count": 44,
     "metadata": {},
     "output_type": "execute_result"
    }
   ],
   "source": [
    "ΔC=rand(n,n)*0.0001"
   ]
  },
  {
   "cell_type": "code",
   "execution_count": 45,
   "metadata": {},
   "outputs": [
    {
     "name": "stdout",
     "output_type": "stream",
     "text": [
      "norm(ΔC) = 0.00028746042358312345\n"
     ]
    },
    {
     "data": {
      "text/plain": [
       "6-element Array{Complex{Float64},1}:\n",
       "      3.5+6.06212im\n",
       "      3.5-6.06212im\n",
       "  5.00028+0.0im    \n",
       " -4.50004+2.59808im\n",
       " -4.50004-2.59808im\n",
       " -3.00007+0.0im    "
      ]
     },
     "execution_count": 45,
     "metadata": {},
     "output_type": "execute_result"
    }
   ],
   "source": [
    "@show norm(ΔC)\n",
    "μ=eigvals(C+ΔC)"
   ]
  },
  {
   "cell_type": "markdown",
   "metadata": {},
   "source": [
    "### Example - Hermitian matrix"
   ]
  },
  {
   "cell_type": "code",
   "execution_count": 46,
   "metadata": {},
   "outputs": [
    {
     "data": {
      "text/plain": [
       "10×6 Array{Float64,2}:\n",
       " 2.05475e8  4.09074e7  -9.13798e7  -5.90804e7      6.08877e6      -1.62603e7\n",
       " 9.21091e7  3.41178e7  -9.99822e7  -1.26239e8      1.131e7        -2.09524e7\n",
       " 1.84566e8  1.12501e7  -1.54004e8  -1.23988e8      5.19292e7      -1.51885e7\n",
       " 4.61826e7  6.83336e6  -9.70188e7  -9.81788e7      1.40293e7      -1.63346e7\n",
       " 1.40357e8  4.58961e6  -7.90101e7  -4.57018e7      3.64459e6  -69010.1      \n",
       " 8.72923e7  3.38662e7  -1.62994e8  -1.41557e8  11011.1            -7.06146e6\n",
       " 1.83502e8  2.84315e7  -1.56965e8  -1.29304e8      8.22864e6      -2.39611e7\n",
       " 2.54658e7  3.93192e7  -1.22663e8  -7.99995e7      5.5123e7       -2.89255e7\n",
       " 2.06163e8  4.39879e7  -1.15831e7  -2.02923e8      2.71868e7      -3.03529e7\n",
       " 2.09821e8  4.79292e7  -7.49529e7  -1.40758e8      3.11803e7      -3.29736e7"
      ]
     },
     "execution_count": 46,
     "metadata": {},
     "output_type": "execute_result"
    }
   ],
   "source": [
    "m=10\n",
    "n=6\n",
    "A=rand(m,n)\n",
    "# Some scaling\n",
    "D=diagm((rand(n)-0.5)*exp(20))\n",
    "A=A*D"
   ]
  },
  {
   "cell_type": "code",
   "execution_count": 47,
   "metadata": {},
   "outputs": [
    {
     "data": {
      "text/plain": [
       "6×6 Array{Float64,2}:\n",
       "  1.0         0.264937   0.301115   -0.296486  -0.0579805  -0.187906\n",
       "  0.264937    1.0        0.267789   -0.435122   0.121425   -0.696386\n",
       "  0.301115    0.267789   1.0        -0.221459  -0.0135589  -0.318058\n",
       " -0.296486   -0.435122  -0.221459    1.0       -0.145986    0.524904\n",
       " -0.0579805   0.121425  -0.0135589  -0.145986   1.0        -0.531814\n",
       " -0.187906   -0.696386  -0.318058    0.524904  -0.531814    1.0     "
      ]
     },
     "execution_count": 47,
     "metadata": {},
     "output_type": "execute_result"
    }
   ],
   "source": [
    "A=cor(A)"
   ]
  },
  {
   "cell_type": "code",
   "execution_count": 48,
   "metadata": {},
   "outputs": [
    {
     "data": {
      "text/plain": [
       "6×6 Array{Float64,2}:\n",
       "  1.0e-5      -4.13624e-6  -4.2146e-7   -3.04769e-7  -4.09441e-6  -1.00836e-6\n",
       " -4.13624e-6   1.0e-5      -3.09945e-6  -3.87776e-6   5.30034e-6  -3.9518e-7 \n",
       " -4.2146e-7   -3.09945e-6   1.0e-5       7.09858e-6  -7.31398e-6   1.11485e-6\n",
       " -3.04769e-7  -3.87776e-6   7.09858e-6   1.0e-5      -5.31101e-6  -1.48879e-6\n",
       " -4.09441e-6   5.30034e-6  -7.31398e-6  -5.31101e-6   1.0e-5      -2.58469e-6\n",
       " -1.00836e-6  -3.9518e-7    1.11485e-6  -1.48879e-6  -2.58469e-6   1.0e-5    "
      ]
     },
     "execution_count": 48,
     "metadata": {},
     "output_type": "execute_result"
    }
   ],
   "source": [
    "ΔA=cor(rand(m,n)*D)*1e-5"
   ]
  },
  {
   "cell_type": "code",
   "execution_count": 49,
   "metadata": {},
   "outputs": [
    {
     "data": {
      "text/plain": [
       "6×6 Array{Float64,2}:\n",
       "  1.00001     0.264933   0.301115   -0.296486  -0.0579846  -0.187907\n",
       "  0.264933    1.00001    0.267786   -0.435126   0.12143    -0.696386\n",
       "  0.301115    0.267786   1.00001    -0.221451  -0.0135663  -0.318057\n",
       " -0.296486   -0.435126  -0.221451    1.00001   -0.145992    0.524903\n",
       " -0.0579846   0.12143   -0.0135663  -0.145992   1.00001    -0.531816\n",
       " -0.187907   -0.696386  -0.318057    0.524903  -0.531816    1.00001 "
      ]
     },
     "execution_count": 49,
     "metadata": {},
     "output_type": "execute_result"
    }
   ],
   "source": [
    "B=A+ΔA"
   ]
  },
  {
   "cell_type": "code",
   "execution_count": 50,
   "metadata": {},
   "outputs": [
    {
     "data": {
      "text/plain": [
       "6×2 Array{Float64,2}:\n",
       " 0.156967  0.156978\n",
       " 0.564736  0.564741\n",
       " 0.697134  0.697143\n",
       " 0.76263   0.762641\n",
       " 1.25555   1.25556 \n",
       " 2.56298   2.56299 "
      ]
     },
     "execution_count": 50,
     "metadata": {},
     "output_type": "execute_result"
    }
   ],
   "source": [
    "λ,U=eig(A) \n",
    "μ=eigvals(B)\n",
    "[λ μ]"
   ]
  },
  {
   "cell_type": "code",
   "execution_count": 51,
   "metadata": {},
   "outputs": [
    {
     "data": {
      "text/html": [
       "2.710736332267096e-5"
      ],
      "text/plain": [
       "2.710736332267096e-5"
      ]
     },
     "execution_count": 51,
     "metadata": {},
     "output_type": "execute_result"
    }
   ],
   "source": [
    "norm(ΔA)"
   ]
  },
  {
   "cell_type": "code",
   "execution_count": 52,
   "metadata": {},
   "outputs": [
    {
     "data": {
      "text/plain": [
       "6-element Array{Float64,1}:\n",
       " -0.7213   \n",
       "  0.430776 \n",
       "  0.240433 \n",
       "  0.0500902\n",
       " -0.470848 \n",
       " -0.110199 "
      ]
     },
     "execution_count": 52,
     "metadata": {},
     "output_type": "execute_result"
    }
   ],
   "source": [
    "# Residual bounds - how close is μ, y to λ[2],X[:,2]\n",
    "k=3\n",
    "μ=round(λ[k],2)\n",
    "y=round.(U[:,k],2)\n",
    "y=y/norm(y)"
   ]
  },
  {
   "cell_type": "code",
   "execution_count": 53,
   "metadata": {},
   "outputs": [
    {
     "data": {
      "text/html": [
       "0.7"
      ],
      "text/plain": [
       "0.7"
      ]
     },
     "execution_count": 53,
     "metadata": {},
     "output_type": "execute_result"
    }
   ],
   "source": [
    "μ"
   ]
  },
  {
   "cell_type": "code",
   "execution_count": 54,
   "metadata": {},
   "outputs": [
    {
     "data": {
      "text/plain": [
       "6-element Array{Float64,1}:\n",
       "  0.00329292 \n",
       "  0.000291516\n",
       "  0.000633525\n",
       " -0.000910423\n",
       "  0.00090635 \n",
       "  0.0027153  "
      ]
     },
     "execution_count": 54,
     "metadata": {},
     "output_type": "execute_result"
    }
   ],
   "source": [
    "# Fact 9\n",
    "r=A*y-μ*y"
   ]
  },
  {
   "cell_type": "code",
   "execution_count": 55,
   "metadata": {},
   "outputs": [
    {
     "data": {
      "text/plain": [
       "(0.0028657129459148667, 0.004511417460003287)"
      ]
     },
     "execution_count": 55,
     "metadata": {},
     "output_type": "execute_result"
    }
   ],
   "source": [
    "minimum(abs,μ-λ), norm(r)"
   ]
  },
  {
   "cell_type": "code",
   "execution_count": 56,
   "metadata": {},
   "outputs": [
    {
     "data": {
      "text/plain": [
       "6-element Array{Float64,1}:\n",
       "  0.00122361\n",
       "  0.00152735\n",
       "  0.0013233 \n",
       " -0.00076672\n",
       " -0.00044445\n",
       "  0.00239916"
      ]
     },
     "execution_count": 56,
     "metadata": {},
     "output_type": "execute_result"
    }
   ],
   "source": [
    "# Fact 10 - μ is Rayleigh quotient\n",
    "μ=y⋅(A*y)\n",
    "r=A*y-μ*y"
   ]
  },
  {
   "cell_type": "code",
   "execution_count": 57,
   "metadata": {},
   "outputs": [
    {
     "data": {
      "text/html": [
       "0.06549932581058704"
      ],
      "text/plain": [
       "0.06549932581058704"
      ]
     },
     "execution_count": 57,
     "metadata": {},
     "output_type": "execute_result"
    }
   ],
   "source": [
    "η=min(abs(μ-λ[k-1]),abs(μ-λ[k+1]))"
   ]
  },
  {
   "cell_type": "code",
   "execution_count": 58,
   "metadata": {},
   "outputs": [
    {
     "data": {
      "text/plain": [
       "(-3.1513140098526904e-6, 0.0001850783226625135)"
      ]
     },
     "execution_count": 58,
     "metadata": {},
     "output_type": "execute_result"
    }
   ],
   "source": [
    "μ-λ[k], norm(r)^2/η"
   ]
  },
  {
   "cell_type": "code",
   "execution_count": 59,
   "metadata": {},
   "outputs": [
    {
     "data": {
      "text/plain": [
       "(0.006425330622266883, 0.053156865324295983)"
      ]
     },
     "execution_count": 59,
     "metadata": {},
     "output_type": "execute_result"
    }
   ],
   "source": [
    "# Eigenvector bound\n",
    "# cos(θ)\n",
    "cosθ=dot(y,U[:,k])\n",
    "# sin(θ)\n",
    "sinθ=sqrt(1-cosθ^2)\n",
    "sinθ,norm(r)/η"
   ]
  },
  {
   "cell_type": "code",
   "execution_count": 60,
   "metadata": {},
   "outputs": [
    {
     "data": {
      "text/plain": [
       "6×3 Array{Float64,2}:\n",
       "  0.000644802  -0.00110021   -0.00136248 \n",
       "  0.00618014    0.000421687  -0.000294417\n",
       "  0.000779744  -0.000216846  -0.00101336 \n",
       " -0.0055574    -0.000117687   0.000397763\n",
       "  0.00643536    0.00230102    0.0014369  \n",
       " -0.00838315   -0.00150849   -0.000402537"
      ]
     },
     "execution_count": 60,
     "metadata": {},
     "output_type": "execute_result"
    }
   ],
   "source": [
    "# Residual bounds - Fact 13\n",
    "U=eigvecs(A)\n",
    "Q=round.(U[:,1:3],2)\n",
    "# Orthogonalize\n",
    "X,R=qr(Q)\n",
    "M=X'*A*X\n",
    "R=A*X-X*M\n",
    "μ=eigvals(M)\n",
    "R"
   ]
  },
  {
   "cell_type": "code",
   "execution_count": 61,
   "metadata": {},
   "outputs": [
    {
     "data": {
      "text/plain": [
       "6-element Array{Float64,1}:\n",
       " 0.156967\n",
       " 0.564736\n",
       " 0.697134\n",
       " 0.76263 \n",
       " 1.25555 \n",
       " 2.56298 "
      ]
     },
     "execution_count": 61,
     "metadata": {},
     "output_type": "execute_result"
    }
   ],
   "source": [
    "λ"
   ]
  },
  {
   "cell_type": "code",
   "execution_count": 62,
   "metadata": {},
   "outputs": [
    {
     "data": {
      "text/plain": [
       "3-element Array{Float64,1}:\n",
       " 0.157059\n",
       " 0.697144\n",
       " 0.564749"
      ]
     },
     "execution_count": 62,
     "metadata": {},
     "output_type": "execute_result"
    }
   ],
   "source": [
    "μ"
   ]
  },
  {
   "cell_type": "code",
   "execution_count": 63,
   "metadata": {},
   "outputs": [
    {
     "data": {
      "text/html": [
       "false"
      ],
      "text/plain": [
       "false"
      ]
     },
     "execution_count": 63,
     "metadata": {},
     "output_type": "execute_result"
    }
   ],
   "source": [
    "# The entries of μ are not ordered - which algorithm was called?\n",
    "issymmetric(M)"
   ]
  },
  {
   "cell_type": "code",
   "execution_count": 64,
   "metadata": {},
   "outputs": [
    {
     "data": {
      "text/plain": [
       "3-element Array{Float64,1}:\n",
       " 0.157059\n",
       " 0.564749\n",
       " 0.697144"
      ]
     },
     "execution_count": 64,
     "metadata": {},
     "output_type": "execute_result"
    }
   ],
   "source": [
    "M=Hermitian(M)\n",
    "R=A*X-X*M\n",
    "μ=eigvals(M)"
   ]
  },
  {
   "cell_type": "code",
   "execution_count": 65,
   "metadata": {},
   "outputs": [
    {
     "data": {
      "text/html": [
       "0.06549617449657719"
      ],
      "text/plain": [
       "0.06549617449657719"
      ]
     },
     "execution_count": 65,
     "metadata": {},
     "output_type": "execute_result"
    }
   ],
   "source": [
    "η=λ[4]-λ[3]"
   ]
  },
  {
   "cell_type": "code",
   "execution_count": 66,
   "metadata": {},
   "outputs": [
    {
     "data": {
      "text/plain": [
       "(9.31361491205613e-5, 0.0029951059103223037)"
      ]
     },
     "execution_count": 66,
     "metadata": {},
     "output_type": "execute_result"
    }
   ],
   "source": [
    "norm(λ[1:3]-μ), vecnorm(R)^2/η"
   ]
  },
  {
   "cell_type": "code",
   "execution_count": 67,
   "metadata": {},
   "outputs": [
    {
     "data": {
      "text/plain": [
       "6×6 Array{Float64,2}:\n",
       " 1.0       0.264937  0.301115   0.0        0.0        0.0     \n",
       " 0.264937  1.0       0.267789   0.0        0.0        0.0     \n",
       " 0.301115  0.267789  1.0        0.0        0.0        0.0     \n",
       " 0.0       0.0       0.0        1.0       -0.145986   0.524904\n",
       " 0.0       0.0       0.0       -0.145986   1.0       -0.531814\n",
       " 0.0       0.0       0.0        0.524904  -0.531814   1.0     "
      ]
     },
     "execution_count": 67,
     "metadata": {},
     "output_type": "execute_result"
    }
   ],
   "source": [
    "# Fact 13\n",
    "M=A[1:3,1:3]\n",
    "H=A[4:6,4:6]\n",
    "E=A[4:6,1:3]\n",
    "# Block-diagonal matrix\n",
    "B=cat([1,2],M,H)"
   ]
  },
  {
   "cell_type": "code",
   "execution_count": 68,
   "metadata": {},
   "outputs": [
    {
     "data": {
      "text/plain": [
       "6×2 Array{Float64,2}:\n",
       " 0.156967  0.322199\n",
       " 0.564736  0.698823\n",
       " 0.697134  0.744951\n",
       " 0.76263   0.854027\n",
       " 1.25555   1.55623 \n",
       " 2.56298   1.82377 "
      ]
     },
     "execution_count": 68,
     "metadata": {},
     "output_type": "execute_result"
    }
   ],
   "source": [
    "η=minimum(abs,eigvals(M)-eigvals(H))\n",
    "μ=eigvals(B)\n",
    "[λ μ]"
   ]
  },
  {
   "cell_type": "code",
   "execution_count": 69,
   "metadata": {},
   "outputs": [
    {
     "data": {
      "text/html": [
       "0.9133785164898836"
      ],
      "text/plain": [
       "0.9133785164898836"
      ]
     },
     "execution_count": 69,
     "metadata": {},
     "output_type": "execute_result"
    }
   ],
   "source": [
    "2*norm(E)^2/(η+sqrt(η^2+4*norm(E)^2))"
   ]
  },
  {
   "cell_type": "code",
   "execution_count": 70,
   "metadata": {},
   "outputs": [
    {
     "data": {
      "text/plain": [
       "([0.156978, 0.564741, 0.697143, 0.762641, 1.25556, 2.56299], [-0.0482105 -0.306212 … 0.540217 -0.286526; 0.475767 -0.521781 … 0.0265189 -0.494506; … ; 0.386804 0.00561496 … -0.674433 -0.256014; 0.764722 0.118785 … 0.279685 0.555999])"
      ]
     },
     "execution_count": 70,
     "metadata": {},
     "output_type": "execute_result"
    }
   ],
   "source": [
    "# Eigenspace bounds - Fact 14\n",
    "B=A+ΔA\n",
    "μ,V=eig(B)"
   ]
  },
  {
   "cell_type": "code",
   "execution_count": 71,
   "metadata": {},
   "outputs": [
    {
     "data": {
      "text/plain": [
       "3-element Array{Float64,1}:\n",
       " 7.59521e-7\n",
       " 4.28887e-6\n",
       " 7.03148e-5"
      ]
     },
     "execution_count": 71,
     "metadata": {},
     "output_type": "execute_result"
    }
   ],
   "source": [
    "# sin(Θ(U[:,1:3],V[:,1:3]))\n",
    "X=U[:,1:3]\n",
    "Q=V[:,1:3]\n",
    "cosθ=svdvals(sqrtm(Q'*Q)*Q'*X*sqrtm(X'*X))\n",
    "sinθ=sqrt.(1-cosθ.^2)"
   ]
  },
  {
   "cell_type": "code",
   "execution_count": 72,
   "metadata": {},
   "outputs": [
    {
     "data": {
      "text/plain": [
       "3×3 Array{Float64,2}:\n",
       "  0.156967    -2.16968e-6   2.56127e-6\n",
       " -2.16968e-6   0.564736    -1.12995e-6\n",
       "  2.56127e-6  -1.12995e-6   0.697134  "
      ]
     },
     "execution_count": 72,
     "metadata": {},
     "output_type": "execute_result"
    }
   ],
   "source": [
    "# Bound\n",
    "M=Q'*A*Q"
   ]
  },
  {
   "cell_type": "code",
   "execution_count": 73,
   "metadata": {},
   "outputs": [
    {
     "data": {
      "text/plain": [
       "6×3 Array{Float64,2}:\n",
       "  1.7645e-6    3.2951e-7   -1.0646e-6 \n",
       " -1.7178e-6    1.20688e-7  -1.61113e-6\n",
       "  5.73265e-6   2.1145e-6    2.88202e-6\n",
       "  2.51765e-6   3.3477e-7    2.48137e-6\n",
       " -1.45408e-6   9.07386e-7   1.91377e-6\n",
       "  1.49139e-6  -7.85053e-7  -9.79858e-9"
      ]
     },
     "execution_count": 73,
     "metadata": {},
     "output_type": "execute_result"
    }
   ],
   "source": [
    "R=A*Q-Q*M"
   ]
  },
  {
   "cell_type": "code",
   "execution_count": 74,
   "metadata": {},
   "outputs": [
    {
     "data": {
      "text/plain": [
       "([0.156967, 0.697134, 0.564736], [0.156967, 0.564736, 0.697134, 0.76263, 1.25555, 2.56298])"
      ]
     },
     "execution_count": 74,
     "metadata": {},
     "output_type": "execute_result"
    }
   ],
   "source": [
    "eigvals(M), λ"
   ]
  },
  {
   "cell_type": "code",
   "execution_count": 75,
   "metadata": {},
   "outputs": [
    {
     "data": {
      "text/plain": [
       "(7.044952733878622e-5, 4.451575856422721e-5)"
      ]
     },
     "execution_count": 75,
     "metadata": {},
     "output_type": "execute_result"
    }
   ],
   "source": [
    "η=abs(eigvals(M)[3]-λ[4])\n",
    "vecnorm(sinθ), vecnorm(R)/η"
   ]
  },
  {
   "cell_type": "code",
   "execution_count": null,
   "metadata": {},
   "outputs": [],
   "source": []
  }
 ],
 "metadata": {
  "anaconda-cloud": {},
  "kernelspec": {
   "display_name": "Julia 0.6.2",
   "language": "julia",
   "name": "julia-0.6"
  },
  "language_info": {
   "file_extension": ".jl",
   "mimetype": "application/julia",
   "name": "julia",
   "version": "0.6.2"
  }
 },
 "nbformat": 4,
 "nbformat_minor": 1
}
