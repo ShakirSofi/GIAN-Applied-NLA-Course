{
 "cells": [
  {
   "cell_type": "markdown",
   "metadata": {},
   "source": [
    "# Singular Value Decomposition - Perturbation Theory\n",
    "\n",
    "\n",
    "\n",
    "## Prerequisites\n",
    "\n",
    "The reader should be familiar with eigenvalue decomposition, singular value decompostion, and perturbation theory for eigenvalue decomposition.\n",
    "\n",
    "## Competences \n",
    "\n",
    "The reader should be able to understand and check the facts about perturbations of singular values and vectors."
   ]
  },
  {
   "cell_type": "markdown",
   "metadata": {},
   "source": [
    "## Peturbation bounds\n",
    "\n",
    "For more details and the proofs of the Facts below, see \n",
    "[R.-C. Li, Matrix Perturbation Theory][Hog14], and the references therein.\n",
    "\n",
    "[Hog14]: #1 \"L. Hogben, ed., 'Handbook of Linear Algebra', pp. 21.6-21.8 and 21.16-21.18, CRC Press, Boca Raton, 2014.\"\n",
    "\n",
    "### Definitions\n",
    "Let $A\\in\\mathbb{C}^{m\\times n}$ and let $A=U\\Sigma V^*$ be its SVD.\n",
    "\n",
    "The set of $A$'s singular values is $sv(B)=\\{\\sigma_1,\\sigma_2,\\ldots)$, with \n",
    "$\\sigma_1\\geq \\sigma_2\\geq \\cdots\\geq 0$, and let \n",
    "$sv_{ext}(B)=sv(B)$ unless $m>n$ for which $sv_{ext}(B)=sv(B)\\cup \\{0,\\ldots,0\\}$ (additional $|m-n|$ zeros).\n",
    "\n",
    "Triplet $(u,\\sigma,v)\\in\\times\\mathbb{C}^{m}\\times\\mathbb{R}\\times\\mathbb{C}^{n}$ is a __singular triplet__ of $A$ if $\\|u\\|_2=1$, $\\|v\\|_2=1$, $\\sigma\\geq 0$, and $Av=\\sigma u$ and $A^*u=\\sigma v$.\n",
    "\n",
    "$\\tilde A=A+\\Delta A$ is a __perturbed matrix__, where $\\Delta A$ is __perturbation__.\n",
    "_The same notation is adopted to $\\tilde A$, except all symbols are with tildes._\n",
    "\n",
    "__Spectral condition number__ of $A$ is $\\kappa_2(A)=\\sigma_{\\max}(A)/ \\sigma_{\\min}(A)$.\n",
    "\n",
    "Let $X,Y\\in\\mathbb{C}^{n\\times k}$ with $\\mathop{\\mathrm{rank}}(X)=\\mathop{\\mathrm{rank}}(Y)=k$. The __canonical angles__ between their column spaces are $\\theta_i=\\cos^{-1}\\sigma_i$, where $\\sigma_i$ are the singular values of \n",
    "$(Y^*Y)^{-1/2}Y^*X(X^*X)^{-1/2}$. The __canonical angle matrix__ between $X$ and $Y$ is \n",
    "\n",
    "$$\\Theta(X,Y)=\\mathop{\\mathrm{diag}}(\\theta_1,\\theta_2,\\ldots,\\theta_k).\n",
    "$$\n",
    "    "
   ]
  },
  {
   "cell_type": "markdown",
   "metadata": {},
   "source": [
    "### Facts\n",
    "\n",
    "1. __Mirsky Theorem.__ $\\|\\Sigma-\\tilde\\Sigma\\|_2\\leq \\|\\Delta A\\|_2$ and \n",
    "$\\|\\Sigma-\\tilde\\Sigma\\|_F\\leq \\|\\Delta A\\|_F$.\n",
    "\n",
    "2. __Residual bounds.__ Let $\\|\\tilde u\\|_2=\\|\\tilde v\\|_2=1$ and \n",
    "$\\tilde \\mu=\\tilde u^* A \\tilde v$. Let residuals $r=A\\tilde v-\\tilde \\mu \\tilde u$ and $s=A^*\\tilde u - \\tilde \\mu \\tilde v$, and let \n",
    "$\\varepsilon=\\max\\{\\|r\\|_2,\\|s\\|_2\\}$. Then $|\\tilde \\mu -\\mu|\\leq \\varepsilon$ for some singular value $\\mu$ of $A$. \n",
    "\n",
    "3. The smallest error matrix $\\Delta A$ for which $(\\tilde u, \\tilde \\mu, \\tilde v)$ is a singular triplet of $\\tilde A$ satisfies $\\| \\Delta A\\|_2=\\varepsilon$.\n",
    "\n",
    "4. Let $\\mu$ be the closest singular value in $sv_{ext}(A)$ to $\\tilde \\mu$ and $(u,\\mu,v)$\n",
    "be the associated singular triplet, and let\n",
    "$$\\eta=\\mathop{\\mathrm{gap}}(\\tilde\\mu)= \\min_{\\mu\\neq\\sigma\\in sv_{ext}(A)}|\\tilde\\mu-\\sigma|.$$\n",
    "If $\\eta>0$, then\n",
    "\\begin{align*}\n",
    "|\\tilde\\mu-\\mu |&\\leq \\frac{\\varepsilon^2}{\\eta},\\\\\n",
    "\\sqrt{\\sin^2\\theta(u,\\tilde u)+ \\sin^2\\theta(v,\\tilde v)} & \\leq \n",
    "\\frac{\\sqrt{\\|r\\|_2^2 + \\|s\\|_2^2}}{\\eta}.\n",
    "\\end{align*}\n",
    "\n",
    "5. Let \n",
    "$$\n",
    "A=\\begin{bmatrix} M & E \\\\ F & H \\end{bmatrix}, \\quad \n",
    "\\tilde A=\\begin{bmatrix} M & 0 \\\\ 0 & H \\end{bmatrix},\n",
    "$$ \n",
    "where $M\\in\\mathbb{C}^{k\\times k}$, and set $\\eta=\\min |\\mu-\\nu|$ over all $\\mu\\in sv(M)$ and $\\nu\\in sv_{ext}(H)$, and $\\varepsilon =\\max \\{ \\|E\\|_2,\\|F\\|_2 \\}$. Then\n",
    "$$ \n",
    "\\max |\\sigma_j -\\tilde\\sigma_j| \\leq \\frac{2\\varepsilon^2}{\\eta+\\sqrt{\\eta^2+4\\varepsilon^2}}.\n",
    "$$\n",
    "\n",
    "6. Let $m\\geq n$ and let\n",
    "$$\n",
    "\\begin{bmatrix} U_1^*\\\\ U_2^* \\end{bmatrix} A \\begin{bmatrix} V_1 & V_2 \\end{bmatrix}=\n",
    "\\begin{bmatrix} A_1 &  \\\\ & A_2 \\end{bmatrix}, \\quad \n",
    "\\begin{bmatrix} \\tilde U_1^*\\\\ \\tilde U_2^* \\end{bmatrix} \\tilde A \\begin{bmatrix} \\tilde V_1 & \\tilde V_2 \\end{bmatrix}=\n",
    "\\begin{bmatrix} \\tilde A_1 &  \\\\ & \\tilde A_2 \\end{bmatrix},\n",
    "$$\n",
    "where $\\begin{bmatrix} U_1 & U_2 \\end{bmatrix}$, \n",
    "$\\begin{bmatrix} V_1 & V_2 \\end{bmatrix}$,\n",
    "$\\begin{bmatrix} \\tilde U_1 & \\tilde U_2 \\end{bmatrix}$, and\n",
    "$\\begin{bmatrix} \\tilde V_1 & \\tilde V_2 \\end{bmatrix}$ are unitary, and \n",
    "$U_1,\\tilde U_1\\in \\mathbb{C}^{m\\times k}$, \n",
    "$V_1,\\tilde V_1\\in \\mathbb{C}^{n\\times k}$. Set\n",
    "$$\n",
    "R=A\\tilde V_1-\\tilde U_1\\tilde A_1,\\quad \n",
    "S=A^*\\tilde U_1-\\tilde V_1 \\tilde A_1.\n",
    "$$\n",
    "Let $\\eta=\\min|\\tilde \\mu-\\nu|$ over all $\\tilde \\mu\\in sv(\\tilde A_1)$ and \n",
    "$\\nu\\in sv_{ext}(A_2)$. If $\\eta > 0$, then\n",
    "$$\n",
    "\\sqrt{\\|\\sin\\Theta(U_1,\\tilde U_1)\\|_F^2 +\n",
    "\\|\\sin\\Theta(V_1,\\tilde V_1)\\|_F^2}\n",
    "\\leq \\frac{\\sqrt{\\|R\\|_F^2 + \\|S\\|_F^2 }}{\\eta}.\n",
    "$$\n"
   ]
  },
  {
   "cell_type": "markdown",
   "metadata": {},
   "source": [
    "### Example"
   ]
  },
  {
   "cell_type": "code",
   "execution_count": 1,
   "metadata": {},
   "outputs": [
    {
     "data": {
      "text/plain": [
       "8×5 Array{Int64,2}:\n",
       " -8  -1  -2   2  -9\n",
       " -6   7   1   1   5\n",
       "  3   2   9  -3   1\n",
       "  7  -4  -8   0  -5\n",
       " -7   1  -4   3  -1\n",
       "  0   0  -2   3  -8\n",
       "  2   2  -2  -7  -6\n",
       " -7  -3  -8  -8  -5"
      ]
     },
     "execution_count": 1,
     "metadata": {},
     "output_type": "execute_result"
    }
   ],
   "source": [
    "m=8\n",
    "n=5\n",
    "s=srand(421)\n",
    "k=min(m,n)\n",
    "A=rand(-9:9,m,n)"
   ]
  },
  {
   "cell_type": "code",
   "execution_count": 2,
   "metadata": {},
   "outputs": [
    {
     "data": {
      "text/plain": [
       "8×5 Array{Float64,2}:\n",
       " -7.99884     -0.993217    -1.99292   2.00887     -8.9908  \n",
       " -5.99699      7.00114      1.00599   1.00344      5.00415 \n",
       "  3.00058      2.0068       9.00169  -2.99631      1.00099 \n",
       "  7.00973     -3.99895     -7.99876   0.00214899  -4.9979  \n",
       " -6.99657      1.0013      -3.99663   3.00789     -0.994583\n",
       "  0.00280957   0.00909776  -1.99083   3.00391     -7.99085 \n",
       "  2.00282      2.00033     -1.99167  -6.9938      -5.99554 \n",
       " -6.99697     -2.99003     -7.99155  -7.99737     -4.99452 "
      ]
     },
     "execution_count": 2,
     "metadata": {},
     "output_type": "execute_result"
    }
   ],
   "source": [
    "ΔA=rand(m,n)/100\n",
    "B=A+ΔA"
   ]
  },
  {
   "cell_type": "code",
   "execution_count": 3,
   "metadata": {},
   "outputs": [
    {
     "data": {
      "text/plain": [
       "([-0.447204 -0.338019 … 0.537286 -0.206075; 0.185802 -0.545543 … -0.147543 0.633483; … ; -0.245842 0.23649 … 0.220055 0.537904; -0.581422 -0.151693 … -0.311617 -0.286977], [21.1459, 16.1976, 11.6029, 10.1958, 6.01634], [0.292426 0.909653 … -0.0236423 0.26717; 0.228826 -0.307318 … 0.163074 0.891748; … ; 0.146858 -0.190208 … 0.148049 0.0599089; 0.657552 -0.195206 … -0.719179 -0.108783])"
      ]
     },
     "execution_count": 3,
     "metadata": {},
     "output_type": "execute_result"
    }
   ],
   "source": [
    "U,σ,V=svd(A)\n",
    "U₁,σ₁,V₁=svd(B)"
   ]
  },
  {
   "cell_type": "code",
   "execution_count": 4,
   "metadata": {},
   "outputs": [
    {
     "data": {
      "text/plain": [
       "(0.02113859742292945, 0.03196314118428111, 0.022004821983059253, 0.035347859375243)"
      ]
     },
     "execution_count": 4,
     "metadata": {},
     "output_type": "execute_result"
    }
   ],
   "source": [
    "# Mirsky's Theorems\n",
    "maximum(abs,σ-σ₁), norm(ΔA), vecnorm(σ-σ₁), vecnorm(ΔA)"
   ]
  },
  {
   "cell_type": "code",
   "execution_count": 5,
   "metadata": {},
   "outputs": [
    {
     "data": {
      "text/plain": [
       "([21.167, 16.1921, 11.6027, 10.1944, 6.01866], 3, 11.602684964155396)"
      ]
     },
     "execution_count": 5,
     "metadata": {},
     "output_type": "execute_result"
    }
   ],
   "source": [
    "# Residual bounds - how close is (x,ζ,y) to (U[:,j],σ[j],V[:,j])\n",
    "j=rand(2:k-1)\n",
    "x=round.(U[:,j],3)\n",
    "y=round.(V[:,j],3)\n",
    "x=x/norm(x)\n",
    "y=y/norm(y)\n",
    "ζ=(x'*A*y)[]\n",
    "σ, j, ζ"
   ]
  },
  {
   "cell_type": "code",
   "execution_count": 6,
   "metadata": {},
   "outputs": [
    {
     "data": {
      "text/plain": [
       "0.012738790322717082"
      ]
     },
     "execution_count": 6,
     "metadata": {},
     "output_type": "execute_result"
    }
   ],
   "source": [
    "# Fact 2\n",
    "r=A*y-ζ*x\n",
    "s=A'*x-ζ*y\n",
    "ϵ=max(norm(r),norm(s))"
   ]
  },
  {
   "cell_type": "code",
   "execution_count": 7,
   "metadata": {},
   "outputs": [
    {
     "data": {
      "text/plain": [
       "(5.33004160274686e-6, 0.012738790322717082)"
      ]
     },
     "execution_count": 7,
     "metadata": {},
     "output_type": "execute_result"
    }
   ],
   "source": [
    "minimum(abs,σ-ζ), ϵ"
   ]
  },
  {
   "cell_type": "code",
   "execution_count": 8,
   "metadata": {},
   "outputs": [
    {
     "data": {
      "text/plain": [
       "1.4082960857652687"
      ]
     },
     "execution_count": 8,
     "metadata": {},
     "output_type": "execute_result"
    }
   ],
   "source": [
    "# Fact 4\n",
    "η=min(abs(ζ-σ[j-1]),abs(ζ-σ[j+1]))"
   ]
  },
  {
   "cell_type": "code",
   "execution_count": 9,
   "metadata": {},
   "outputs": [
    {
     "data": {
      "text/plain": [
       "(-5.33004160274686e-6, 0.00011522916276371607)"
      ]
     },
     "execution_count": 9,
     "metadata": {},
     "output_type": "execute_result"
    }
   ],
   "source": [
    "ζ-σ[j], ϵ^2/η"
   ]
  },
  {
   "cell_type": "code",
   "execution_count": 10,
   "metadata": {},
   "outputs": [
    {
     "data": {
      "text/plain": [
       "(0.0008779073741076272, 0.011499971182415613)"
      ]
     },
     "execution_count": 10,
     "metadata": {},
     "output_type": "execute_result"
    }
   ],
   "source": [
    "# Eigenvector bound\n",
    "# cos(θ)\n",
    "cosθU=dot(x,U[:,j])\n",
    "cosθV=dot(y,V[:,j])\n",
    "# Bound\n",
    "sqrt(1-cosθU^2+1-cosθV^2), sqrt(norm(r)^2+norm(s)^2)/η"
   ]
  },
  {
   "cell_type": "code",
   "execution_count": 11,
   "metadata": {},
   "outputs": [
    {
     "data": {
      "text/plain": [
       "8×5 Array{Int64,2}:\n",
       " -8  -1  -2   0   0\n",
       " -6   7   1   0   0\n",
       "  3   2   9   0   0\n",
       "  0   0   0   0  -5\n",
       "  0   0   0   3  -1\n",
       "  0   0   0   3  -8\n",
       "  0   0   0  -7  -6\n",
       "  0   0   0  -8  -5"
      ]
     },
     "execution_count": 11,
     "metadata": {},
     "output_type": "execute_result"
    }
   ],
   "source": [
    "# Fact 5 - we create small off-diagonal block perturbation\n",
    "j=3\n",
    "M=A[1:j,1:j]\n",
    "H=A[j+1:m,j+1:n]\n",
    "B=cat([1,2],M,H)"
   ]
  },
  {
   "cell_type": "code",
   "execution_count": 12,
   "metadata": {},
   "outputs": [
    {
     "data": {
      "text/plain": [
       "8×5 Array{Float64,2}:\n",
       " -8.0          -1.0         -2.0          0.00782879   0.00361801\n",
       " -6.0           7.0          1.0          0.00546641   0.00490995\n",
       "  3.0           2.0          9.0          0.00801844   0.00382256\n",
       "  0.0073099     0.00245328   0.00521644   0.0         -5.0       \n",
       "  0.000391762   0.00951957   0.00368332   3.0         -1.0       \n",
       "  0.0096813     0.0070503    0.00130663   3.0         -8.0       \n",
       "  0.00175984    0.00405742   0.00229319  -7.0         -6.0       \n",
       "  0.000518073   0.00437298   0.00264824  -8.0         -5.0       "
      ]
     },
     "execution_count": 12,
     "metadata": {},
     "output_type": "execute_result"
    }
   ],
   "source": [
    "E=rand(size(A[1:j,j+1:n]))/100\n",
    "F=rand(size(A[j+1:m,1:j]))/100\n",
    "C=map(Float64,B)\n",
    "C[1:j,j+1:n]=E\n",
    "C[j+1:m,1:j]=F\n",
    "C"
   ]
  },
  {
   "cell_type": "code",
   "execution_count": 13,
   "metadata": {},
   "outputs": [
    {
     "data": {
      "text/plain": [
       "3-element Array{Float64,1}:\n",
       " 11.701  \n",
       "  9.71185\n",
       "  4.21514"
      ]
     },
     "execution_count": 13,
     "metadata": {},
     "output_type": "execute_result"
    }
   ],
   "source": [
    "svdvals(M)"
   ]
  },
  {
   "cell_type": "code",
   "execution_count": 14,
   "metadata": {},
   "outputs": [
    {
     "data": {
      "text/plain": [
       "1×2 RowVector{Float64,Array{Float64,1}}:\n",
       " 14.0322  9.22487"
      ]
     },
     "execution_count": 14,
     "metadata": {},
     "output_type": "execute_result"
    }
   ],
   "source": [
    "svdvals(H)'"
   ]
  },
  {
   "cell_type": "code",
   "execution_count": 15,
   "metadata": {},
   "outputs": [
    {
     "data": {
      "text/plain": [
       "3×2 Array{Float64,2}:\n",
       " -2.3312    2.47609 \n",
       " -4.32032   0.486977\n",
       " -9.81703  -5.00974 "
      ]
     },
     "execution_count": 15,
     "metadata": {},
     "output_type": "execute_result"
    }
   ],
   "source": [
    "svdvals(M).-svdvals(H)'"
   ]
  },
  {
   "cell_type": "code",
   "execution_count": 16,
   "metadata": {},
   "outputs": [
    {
     "data": {
      "text/plain": [
       "([14.0322 14.0322; 11.701 11.701; … ; 9.22487 9.22485; 4.21514 4.21514], 2.9571432486719118e-5, 0.0006241812372963128)"
      ]
     },
     "execution_count": 16,
     "metadata": {},
     "output_type": "execute_result"
    }
   ],
   "source": [
    "ϵ=max(norm(E), norm(F))\n",
    "β=svdvals(B)\n",
    "γ=svdvals(C)\n",
    "η=minimum(abs,svdvals(M).-svdvals(H)')\n",
    "[β γ], maximum(abs,β-γ), 2*ϵ^2/(η+sqrt(η^2+4*ϵ^2))"
   ]
  },
  {
   "cell_type": "markdown",
   "metadata": {},
   "source": [
    "## Relative perturbation theory\n",
    "\n",
    "### Definitions\n",
    "\n",
    "Matrix $A\\in\\mathbb{C}^{m\\times n}$ is __multiplicatively pertubed__ to $\\tilde A$ if\n",
    "$\\tilde A=D_L^* A D_R$ for some $D_L\\in\\mathbb{C}^{m\\times m}$ and \n",
    "$D_R\\in\\mathbb{C}^{n\\times n}$. \n",
    "\n",
    "Matrix $A$ is (highly) __graded__ if it can be scaled as $A=GS$ such that $\\kappa_2(G)$ is of modest magnitude. The __scaling matrix__ $S$ is often diagonal. Interesting cases are when $\\kappa_2(G)\\ll \\kappa_2(A)$.\n",
    "\n",
    "__Relative distances__ between two complex numbers $\\alpha$ and $\\tilde \\alpha$ are:\n",
    "\n",
    "\\begin{align*}\n",
    "\\zeta(\\alpha,\\tilde \\alpha)&=\\frac{|\\alpha-\\tilde\\alpha|}{\\sqrt{|\\alpha\\tilde \\alpha|}}, \\quad \\textrm{for } \\alpha\\tilde\\alpha\\neq 0,\\\\\n",
    "\\varrho(\\alpha,\\tilde \\alpha)&=\\frac{|\\alpha-\\tilde\\alpha|}\n",
    "{\\sqrt{|\\alpha|^2 +  |\\tilde \\alpha|^2}}, \\quad \\textrm{for } |\\alpha|+|\\tilde\\alpha|> 0.\n",
    "\\end{align*}"
   ]
  },
  {
   "cell_type": "markdown",
   "metadata": {},
   "source": [
    "### Facts\n",
    "\n",
    "1. If $D_L$ and $D_R$ are non-singular and $m\\geq n$, then\n",
    "\\begin{align*}\n",
    "\\frac{\\sigma_j}{\\|D_L^{-1}\\|_2\\|D_R^{-1}\\|_2}& \\leq \\tilde\\sigma_j \\leq\n",
    "\\sigma_j \\|D_L\\|_2\\|D_R\\|_2, \\quad \\textrm{for } i=1,\\ldots,n, \\\\\n",
    "\\| \\mathop{\\mathrm{diag}}(\\zeta(\\sigma_1,\\tilde \\sigma_1),\\ldots,\n",
    "\\zeta(\\sigma_n,\\tilde \\sigma_n)\\|_{2,F} & \\leq\n",
    "\\frac{1}{2}\\|D_L^*-D_L^{-1}\\|_{2,F} + \\frac{1}{2}\\|D_R^*-D_R^{-1}\\|_{2,F}.\n",
    "\\end{align*}\n",
    "\n",
    "2. Let $m\\geq n$ and let\n",
    "$$\n",
    "\\begin{bmatrix} U_1^*\\\\ U_2^* \\end{bmatrix} A \\begin{bmatrix} V_1 & V_2 \\end{bmatrix}=\n",
    "\\begin{bmatrix} A_1 &  \\\\ & A_2 \\end{bmatrix}, \\quad \n",
    "\\begin{bmatrix} \\tilde U_1^*\\\\ \\tilde U_2^* \\end{bmatrix} \\tilde A \\begin{bmatrix} \\tilde V_1 & \\tilde V_2 \\end{bmatrix}=\n",
    "\\begin{bmatrix} \\tilde A_1 &  \\\\ & \\tilde A_2 \\end{bmatrix},\n",
    "$$\n",
    "where $\\begin{bmatrix} U_1 & U_2 \\end{bmatrix}$, \n",
    "$\\begin{bmatrix} V_1 & V_2 \\end{bmatrix}$,\n",
    "$\\begin{bmatrix} \\tilde U_1 & \\tilde U_2 \\end{bmatrix}$, and\n",
    "$\\begin{bmatrix} \\tilde V_1 & \\tilde V_2 \\end{bmatrix}$ are unitary, and \n",
    "$U_1,\\tilde U_1\\in \\mathbb{C}^{m\\times k}$, \n",
    "$V_1,\\tilde V_1\\in \\mathbb{C}^{n\\times k}$. Set\n",
    "$$\n",
    "R=A\\tilde V_1-\\tilde U_1\\tilde A_1,\\quad \n",
    "S=A^*\\tilde U_1-\\tilde V_1 \\tilde A_1.\n",
    "$$\n",
    "Let $\\eta=\\min \\varrho(\\mu,\\tilde \\mu)$ over all $\\mu\\in sv(A_1)$ and \n",
    "$\\tilde \\mu\\in sv_{ext}(A_2)$. If $\\eta > 0$, then\n",
    "\\begin{align*}\n",
    "& \\sqrt{\\|\\sin\\Theta(U_1,\\tilde U_1)\\|_F^2 +\n",
    "\\|\\sin\\Theta(V_1,\\tilde V_1)\\|_F^2} \\\\\n",
    "& \\leq \\frac{1}{\\eta}( \\|(I-D_L^*)U_1\\|_F^2+ \\|(I-D_L^{-1})U_1\\|_F^2 \\\\\n",
    "& \\quad +\\|(I-D_R^*)V_1\\|_F^2+ \\|(I-D_R^{-1})V_1\\|_F^2 )^{1/2}.\n",
    "\\end{align*}\n",
    "\n",
    "3. Let $A=GS$ and $\\tilde A=\\tilde GS$, and let \n",
    "$\\Delta G=\\tilde G-G$. Then $\\tilde A=DA$, where $D=I+(\\Delta G) G^{\\dagger}$, and \n",
    "Fact 1 applies with $D_L=D$, $D_R=I$, and \n",
    "$$\n",
    "\\|D^*-D^{-1}\\|_{2,F} \\leq \\bigg(1+\\frac{1}{1-\\|(\\Delta G) G^{\\dagger}\\|_{2}}\\bigg)\n",
    "\\frac{\\|(\\Delta G) G^{\\dagger}\\|_{2,F}}{2}.\n",
    "$$\n",
    "According to the notebook on \n",
    "[Jacobi Method and High Relative Accuracy](L4c Symmetric Eigenvalue Decomposition - Jacobi Method and High Relative Accuracy.ipynb), nearly optimal diagonal scaling is such that all columns of $G$ have unit norms, $S=\\mathop{\\mathrm{diag}} \\big( \\| A_{:,1}\\|_2,\\ldots,\\|A_{:,n}\\|_2 \\big)$.\n",
    "\n",
    "4. Let $A$ be an real upper-bidiagonal matrix with diagonal entries $a_1,a_2,\\ldots,a_n$ and \n",
    "the super-diagonal entries $b_1,b_2, \\ldots,b_{n-1}$. Let the diagonal entries of \n",
    "$\\tilde A$ be $\\alpha_1 a_1,\\alpha_2 a_2,\\ldots,\\alpha_n a_n$, and its super-diagonal entries be\n",
    "$\\beta_1 b_1,\\beta_2 b_2,\\ldots,\\beta_{n-1} b_{n-1}$. Then $\\tilde A=D_L^* A D_R$ with \n",
    "\\begin{align*}\n",
    "D_L &=\\mathop{\\mathrm{diag}} \\bigg(\\alpha_1,\\frac{\\alpha_1 \\alpha_2}{\\beta_1},\n",
    "\\frac{\\alpha_1 \\alpha_2 \\alpha_3}{\\beta_1 \\beta_2},\\cdots\\bigg),\\\\\n",
    "D_R &=\\mathop{\\mathrm{diag}} \\bigg(1, \\frac{\\beta_1}{\\alpha_1},\n",
    "\\frac{\\beta_1 \\beta_2}{\\alpha_1 \\alpha_2},\\cdots\\bigg).\n",
    "\\end{align*}\n",
    "Let $\\alpha=\\prod\\limits_{j=1}^n \\max\\{\\alpha_j, 1/\\alpha_j\\}$ and \n",
    "$\\beta=\\prod\\limits_{j=1}^{n-1} \\max\\{\\beta_j, 1/\\beta_j\\}$. Then\n",
    "$$\n",
    "(\\alpha\\beta)^{-1}\\leq \\| D_L^{-1}\\|_2 \\|D_R^{-1}\\|_2 \\leq\n",
    "\\| D_L\\|_2 \\|D_R\\|_2  \\leq \\alpha\\beta,\n",
    "$$\n",
    "and Fact 1 applies. This is a result by [Demmel and Kahan](http://www.netlib.org/lapack/lawnspdf/lawn03.pdf).\n",
    " \n",
    "5. Consider the block partitioned matrices\n",
    "\\begin{align*}\n",
    "A & =\\begin{bmatrix} B & C \\\\ 0 & D\\end{bmatrix}, \\\\\n",
    "\\tilde A & =  \\begin{bmatrix} B & 0 \\\\ 0 & D\\end{bmatrix}\n",
    "=A \\begin{bmatrix} I & -B^{-1} C \\\\ 0 & I \\end{bmatrix}\\equiv A D_R.\n",
    "\\end{align*}\n",
    "By Fact 1, $\\zeta(\\sigma_j,\\tilde \\sigma_j) \\leq \\frac{1}{2} \\|B^{-1}C\\|_2$. This is used as a deflation criterion in the SVD algorithm for bidiagonal matrices."
   ]
  },
  {
   "cell_type": "markdown",
   "metadata": {
    "collapsed": true
   },
   "source": [
    "### Example - Bidiagonal matrix\n",
    "\n",
    "In order to illustrate Facts 1 to 3, we need an algorithm which computes the singular values with high relative acuracy. Such algorithm, the one-sided Jacobi method, is discussed in the following notebook. \n",
    "\n",
    "The algorithm actually used in the function `svdvals()` for `Bidiagonal` is the zero-shift bidiagonal QR algorithm, which attains the accuracy given by Fact 4: if all\n",
    "$1-\\varepsilon \\leq \\alpha_i,\\beta_j \\leq 1+\\varepsilon$, then\n",
    "$$\n",
    "(1-\\varepsilon)^{2n-1} \\leq (\\alpha\\beta)^{-1} \\leq \\alpha\\beta \\leq (1-\\varepsilon)^{2n-1}.\n",
    "$$\n",
    "In other words, $\\varepsilon$ relative changes in diagonal and super-diagonal elements, cause at most $(2n-1)\\varepsilon$ relative changes in the singular values.\n",
    "\n",
    "__However__, if singular values and vectors are desired, the function `svd()` calls the standard algorithm, described in the next notebook, which __does not attain this accuracy__ ."
   ]
  },
  {
   "cell_type": "code",
   "execution_count": 17,
   "metadata": {},
   "outputs": [
    {
     "data": {
      "text/plain": [
       "50-element Array{Float64,1}:\n",
       "  3.39812e-6\n",
       " -3.61322e-6\n",
       " -3.25847e-6\n",
       "  1.31523e-6\n",
       "  5.93668e-6\n",
       "  7.9479e-6 \n",
       "  4.54888e-6\n",
       " -9.73189e-7\n",
       "  1.0755e-6 \n",
       "  2.96194e-6\n",
       " -7.34928e-6\n",
       "  2.99746e-7\n",
       " -1.35595e-6\n",
       "  ⋮         \n",
       " -4.0277e-6 \n",
       "  5.48266e-6\n",
       "  4.66065e-6\n",
       "  2.08409e-6\n",
       "  4.37049e-6\n",
       "  3.43698e-6\n",
       "  7.09017e-6\n",
       "  8.261e-6  \n",
       "  1.13622e-6\n",
       " -2.21721e-6\n",
       " -2.26233e-6\n",
       " -5.49369e-6"
      ]
     },
     "execution_count": 17,
     "metadata": {},
     "output_type": "execute_result"
    }
   ],
   "source": [
    "n=50\n",
    "δ=100000\n",
    "# The starting matrix\n",
    "a=exp.(50*(rand(n)-0.5))\n",
    "b=exp.(50*(rand(n-1)-0.5))\n",
    "A=Bidiagonal(a,b, true)\n",
    "# Multiplicative perturbation\n",
    "DL=ones(n)+(rand(n)-0.5)/δ\n",
    "DR=ones(n)+(rand(n)-0.5)/δ\n",
    "# The perturbed matrix\n",
    "α=DL.*a.*DR\n",
    "β=DL[1:end-1].*b.*DR[2:end]\n",
    "B=Bidiagonal(α,β,true)\n",
    "(A.dv-B.dv)./A.dv"
   ]
  },
  {
   "cell_type": "code",
   "execution_count": 18,
   "metadata": {},
   "outputs": [
    {
     "data": {
      "text/plain": [
       "([3.39812e-6, -3.61322e-6, -3.25847e-6, 1.31523e-6, 5.93668e-6, 7.9479e-6, 4.54888e-6, -9.73189e-7, 1.0755e-6, 2.96194e-6  …  4.66065e-6, 2.08409e-6, 4.37049e-6, 3.43698e-6, 7.09017e-6, 8.261e-6, 1.13622e-6, -2.21721e-6, -2.26233e-6, -5.49369e-6], [2.76409e-6, -4.54766e-6, -1.47975e-6, 4.78821e-6, 8.15472e-6, 3.77023e-6, -9.87955e-7, 2.23596e-6, 6.51551e-6, -5.84417e-6  …  5.74334e-6, 7.43189e-6, -1.02195e-9, 2.86802e-6, 4.87174e-6, 9.37481e-6, 5.27262e-6, 1.35136e-6, -3.55346e-6, -6.38661e-6])"
      ]
     },
     "execution_count": 18,
     "metadata": {},
     "output_type": "execute_result"
    }
   ],
   "source": [
    "(a-α)./a, (b-β)./b"
   ]
  },
  {
   "cell_type": "code",
   "execution_count": 19,
   "metadata": {},
   "outputs": [
    {
     "data": {
      "text/html": [
       "svdvals(A::<b>AbstractArray{#s268,2} where #s268<:Union{Complex{Float32}, Complex{Float64}, Float32, Float64}</b>) at <a href=\"https://github.com/JuliaLang/julia/tree/d386e40c17d43b79fc89d3e579fc04547241787c/base/linalg/svd.jl#L131\" target=\"_blank\">linalg\\svd.jl:131</a>"
      ],
      "text/plain": [
       "svdvals(A::AbstractArray{#s268,2} where #s268<:Union{Complex{Float32}, Complex{Float64}, Float32, Float64}) in Base.LinAlg at linalg\\svd.jl:131"
      ]
     },
     "execution_count": 19,
     "metadata": {},
     "output_type": "execute_result"
    }
   ],
   "source": [
    "@which svdvals(A)"
   ]
  },
  {
   "cell_type": "code",
   "execution_count": 20,
   "metadata": {},
   "outputs": [
    {
     "data": {
      "text/plain": [
       "50×2 Array{Float64,2}:\n",
       " 3.71809e9     2.99746e-7\n",
       " 1.1309e9      1.31523e-6\n",
       " 7.36508e8    -5.84417e-6\n",
       " 4.7042e8      6.50936e-6\n",
       " 3.44534e8     9.3746e-6 \n",
       " 1.27054e8    -4.04487e-6\n",
       " 9.8205e7     -5.2759e-7 \n",
       " 5.52383e7    -1.68669e-6\n",
       " 5.3739e7      2.65906e-6\n",
       " 1.85736e7     2.77895e-6\n",
       " 1.34581e7    -2.26233e-6\n",
       " 1.16407e7    -1.02195e-9\n",
       " 3.3998e6     -5.11021e-6\n",
       " ⋮                       \n",
       " 0.000135607  -1.17994e-6\n",
       " 5.92811e-5   -1.69424e-6\n",
       " 1.43836e-6    9.1791e-6 \n",
       " 1.02905e-6   -1.77238e-6\n",
       " 2.56819e-8   -9.38028e-6\n",
       " 2.22915e-8   -1.83292e-6\n",
       " 3.12743e-9   -5.49369e-6\n",
       " 4.11692e-10   5.96403e-7\n",
       " 2.41415e-11  -1.4086e-6 \n",
       " 2.03616e-25   3.67804e-6\n",
       " 1.77974e-27   8.8293e-7 \n",
       " 4.00726e-50  -1.18825e-7"
      ]
     },
     "execution_count": 20,
     "metadata": {},
     "output_type": "execute_result"
    }
   ],
   "source": [
    "σ=svdvals(A)\n",
    "μ=svdvals(B)\n",
    "[σ (σ-μ)./σ]"
   ]
  },
  {
   "cell_type": "code",
   "execution_count": 22,
   "metadata": {},
   "outputs": [
    {
     "data": {
      "text/plain": [
       "9.278376847680432e58"
      ]
     },
     "execution_count": 22,
     "metadata": {},
     "output_type": "execute_result"
    }
   ],
   "source": [
    "cond(A)"
   ]
  },
  {
   "cell_type": "code",
   "execution_count": 23,
   "metadata": {
    "collapsed": true
   },
   "outputs": [],
   "source": [
    "# The standard algorithm\n",
    "U,ν,V=svd(A);"
   ]
  },
  {
   "cell_type": "code",
   "execution_count": 24,
   "metadata": {},
   "outputs": [
    {
     "data": {
      "text/plain": [
       "50-element Array{Float64,1}:\n",
       "    0.0        \n",
       "    2.10823e-16\n",
       "    0.0        \n",
       "    0.0        \n",
       "   -1.73001e-16\n",
       "    0.0        \n",
       "    4.55206e-16\n",
       "    0.0        \n",
       "    0.0        \n",
       "    0.0        \n",
       "    2.76807e-16\n",
       "    0.0        \n",
       "    1.36967e-16\n",
       "    ⋮          \n",
       "    1.65358e-7 \n",
       "    2.28615e-16\n",
       "   -5.08431e-10\n",
       "   -2.0578e-16 \n",
       "  -13.4659     \n",
       "  -15.6661     \n",
       " -117.791      \n",
       " -901.316      \n",
       "  -17.9171     \n",
       "  -31.1363     \n",
       " -136.616      \n",
       "   -5.09731e8  "
      ]
     },
     "execution_count": 24,
     "metadata": {},
     "output_type": "execute_result"
    }
   ],
   "source": [
    "(σ-ν)./σ"
   ]
  },
  {
   "cell_type": "code",
   "execution_count": null,
   "metadata": {
    "collapsed": true
   },
   "outputs": [],
   "source": []
  }
 ],
 "metadata": {
  "anaconda-cloud": {},
  "kernelspec": {
   "display_name": "Julia 0.6.2",
   "language": "julia",
   "name": "julia-0.6"
  },
  "language_info": {
   "file_extension": ".jl",
   "mimetype": "application/julia",
   "name": "julia",
   "version": "0.6.2"
  }
 },
 "nbformat": 4,
 "nbformat_minor": 1
}
