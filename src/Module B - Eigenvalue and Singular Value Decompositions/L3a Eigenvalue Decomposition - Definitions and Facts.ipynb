{
 "cells": [
  {
   "cell_type": "markdown",
   "metadata": {},
   "source": [
    "# Eigenvalue Decomposition - Definitions and Facts\n",
    "\n",
    "\n",
    "## Prerequisites\n",
    "\n",
    "The reader should be familiar with basic linear algebra concepts. \n",
    "\n",
    " \n",
    "## Competences \n",
    "\n",
    "The reader should be able to understand and check the facts about eigenvalue decomposition.\n",
    "\n",
    "## Selected references\n",
    "\n",
    "There are many excellent books on the subject. Here we list a few:\n",
    "\n",
    "[J. W. Demmel, Applied Numerical Linear Algebra][Dem97]\n",
    "\n",
    "[G. H. Golub and C. F. Van Loan, Matrix Computations][GV13]\n",
    "\n",
    "[N. Higham, Accuracy and Stability of Numerical Algorithms][Hig02]\n",
    "\n",
    "[L. Hogben, ed., Handbook of Linear Algebra][Hog14]\n",
    "\n",
    "[B. N. Parlett, The Symmetric Eigenvalue Problem][Par80]\n",
    "\n",
    "[G. W. Stewart, Matrix Algorithms, Vol. II: Eigensystems][Ste01]\n",
    "\n",
    "[L. N. Trefethen and D. Bau, III, Numerical Linear Algebra][TB97]\n",
    "\n",
    "[J. H. Wilkinson, The Algebraic Eigenvalue Problem][Wil65]\n",
    "\n",
    "\n",
    "[Dem97]: #1 \"J.W. Demmel, 'Applied Numerical Linear Algebra', SIAM, Philadelphia, 1997.\"\n",
    "  \n",
    "[GV13]: #1 \"G. H. Golub and C. F. Van Loan, 'Matrix Computations', 4th ed., The John Hopkins University Press, Baltimore, MD, 2013.\"\n",
    "  \n",
    "[Hig02]: #1 \"N. Higham, 'Accuracy and Stability of Numerical Algorithms', SIAM, Philadelphia, 2nd ed., 2002.\"\n",
    "    \n",
    "[Hog14]: #1 \"L. Hogben, ed., 'Handbook of Linear Algebra', CRC Press, Boca Raton, 2014.\"\n",
    "\n",
    "[Par80]: #1 \"B. N. Parlett, 'The Symmetric Eigenvalue Problem', Prentice-Hall, Englewood Cliffs, NJ, 1980, also SIAM, Philadelphia, 1998.\"\n",
    "\n",
    "[Ste01]: #1 \"G. W. Stewart, 'Matrix Algorithms, Vol. II: Eigensystems', SIAM, Philadelphia, 2001.\" \n",
    "\n",
    "[TB97]: #1 \"L. N. Trefethen and D. Bau, III, 'Numerical Linear Algebra', SIAM, Philadelphia, 1997.\"\n",
    "\n",
    "[Wil65]: #1 \"J. H. Wilkinson, 'The Algebraic Eigenvalue Problem', Clarendon Press, Oxford, U.K.,  1965.\"\n",
    "    \n",
    "\n",
    "---"
   ]
  },
  {
   "cell_type": "markdown",
   "metadata": {},
   "source": [
    "## General matrices\n",
    "\n",
    "For more details and the proofs of the Facts below, see \n",
    "[L. M. DeAlba, Determinants and Eigenvalues][Hog14] and the references therein.\n",
    "\n",
    "[Hog14]: #1 \"L. Hogben, ed., 'Handbook of Linear Algebra', pp. 4.1-4.15, CRC Press, Boca Raton, 2014.\"\n",
    "\n",
    "### Definitions\n",
    "\n",
    "We state the basic definitions:\n",
    "\n",
    "Let $F=\\mathbb{R}$ or $F=\\mathbb{C}$ and let $A\\in F^{n\\times n}$ with elements $a_{ij}\\in F$.\n",
    "\n",
    "An element $\\lambda \\in F$ is an __eigenvalue__ of $A$ if\n",
    "$\\exists x\\in F$, $x\\neq 0$ such that\n",
    "\n",
    "$$\n",
    "Ax=\\lambda x,\n",
    "$$\n",
    "and $x$ is an __eigenvector__ of $\\lambda$.\n",
    "\n",
    "__Characteristic polynomial__ of $A$ is $p_A(x)=\\det(A-xI)$.\n",
    "\n",
    "__Algebraic multiplicty__, $\\alpha(\\lambda)$, is the multiplicity of $\\lambda$ as a root of $p_A(x)$.\n",
    "\n",
    "__Spectrum of $A$__, $\\sigma(A)$, is the multiset of all eigenvalues of $A$, with each eigenvalue appearing $\\alpha(A)$ times.\n",
    "\n",
    "__Spectral radius__ of $A$ is \n",
    "$$\\rho(A)=\\max\\{|\\lambda|, \\lambda \\in \\sigma(A)\\}.\n",
    "$$\n",
    "\n",
    "__Eigenspace__ of $\\lambda$ is \n",
    "\n",
    "$$\n",
    "E_{\\lambda}(A)=\\ker(A-\\lambda I).\n",
    "$$\n",
    "\n",
    "__Geometric multiplicity__ of $\\lambda$ is \n",
    "$$\\gamma(\\lambda)=\\dim(E_{\\lambda}(A)).\n",
    "$$\n",
    "\n",
    "$\\lambda$ is __simple__ if $\\alpha(\\lambda)=1$.\n",
    "\n",
    "$\\lambda$ is __semisimple__ if $\\alpha(\\lambda)=\\gamma(\\lambda)$.\n",
    "\n",
    "$A$ is __nonderogatory__ if $\\gamma(\\lambda)=1$ for all $\\lambda$.\n",
    "\n",
    "$A$ is __nondefective__ if every $\\lambda$ is semisimple.\n",
    "\n",
    "$A$ is __diagonalizable__ if there exists nonsingular $B$ matrix and diagonal matrix $D$ such that\n",
    "$A=BDB^{-1}$.\n",
    "\n",
    "__Trace__ of $A$ is \n",
    "$$\\mathop{\\mathrm{tr}}(A)=\\sum_i a_{ii}.$$\n",
    "\n",
    "$Q\\in\\mathbb{C}^{n\\times n}$ is __unitary__ if $Q^*Q=QQ^*=I$,\n",
    "where $Q^*=(\\bar Q)^T$.\n",
    "\n",
    "__Schur decomposition__ of $A$ is $A=QTQ^*$,\n",
    "where $Q$ is unitary and $T$ is upper triangular.\n",
    "\n",
    "$A$ and $B$ are __similar__ if $B=QAQ^{-1}$ for some nonsingular matrix $Q$.\n",
    "\n",
    "$A$ is __normal__ if $AA^*=A^*A$. "
   ]
  },
  {
   "cell_type": "markdown",
   "metadata": {},
   "source": [
    "### Facts\n",
    "\n",
    "There are many facts related to the eigenvalue problem for general matrices. We state some basic ones:\n",
    "\n",
    "1. $\\lambda\\in\\sigma(A) \\Leftrightarrow p_A(\\lambda)=0$.\n",
    "\n",
    "1. $p_A(A)=0$. _(Cayley-Hamilton Theorem)_\n",
    "\n",
    "2. A simple eigenvalue is semisimple.\n",
    "\n",
    "3. $\\mathop{\\mathrm{tr}}(A)=\\sum_{i=1}^n \\lambda_i$.\n",
    "\n",
    "4. $\\det(A)=\\prod_{i=1}^n \\lambda_i$.\n",
    "\n",
    "5. $A$ is singular $\\Leftrightarrow$ $\\det(A)=0$ $\\Leftrightarrow$ $0\\in\\sigma(A)$.\n",
    "\n",
    "7. If $A$ is triangular, $\\sigma(A)=\\{a_{11},a_{22},\\ldots,a_{nn}\\}$.\n",
    "\n",
    "6. For $A\\in\\mathbb{C}^{n\\times n}$, $\\lambda\\in\\sigma(A)$ $\\Leftrightarrow$ $\\bar\\lambda\\in\\sigma(A^*)$.\n",
    "\n",
    "8. For $A\\in\\mathbb{R}^{n\\times n}$, $\\lambda\\in\\sigma(A)$ $\\Leftrightarrow$ $\\bar\\lambda\\in\\sigma(A)$. _(Corollary of the Fundamental theorem of algebra)_\n",
    "\n",
    "9. If $(\\lambda,x)$ is an eigenpair of a nonsingular $A$, then $(1/\\lambda,x)$ is an eigenpair of $A^{-1}$.\n",
    "\n",
    "10. Eigenvectors corresponding to distinct eigenvalues are linearly independent.\n",
    "\n",
    "11. $A$ is diagonalizable $\\Leftrightarrow$ $A$ is nondefective $\\Leftrightarrow$ $A$ has $n$ linearly independent eigenvectors. \n",
    "\n",
    "12. Every $A$ has Schur decomposition. Moreover, $T_{ii}=\\lambda_i$.\n",
    "\n",
    "14. If $A$ is normal, matrix $T$ from its Schur decomposition is normal. Consequently:\n",
    "    * $T$ is diagonal, and has eigenvalues of $A$ on diagonal,\n",
    "    * matrix $Q$ of the Schur decomposition is the unitary matrix of eigenvectors,\n",
    "    * all eigenvalues of $A$ are semisimple and $A$ is nondefective.\n",
    "\n",
    "13. If $A$ and $B$ are similar, $\\sigma(A)=\\sigma(B)$. Consequently, $\\mathop{\\mathrm{tr}}(A)=\\mathop{\\mathrm{tr}}(B)$ and $\\det(A)=\\det(B)$.\n",
    "\n",
    "11. Eigenvalues and eigenvectors are continous and differentiable: if $\\lambda$ is a simple eigenvalue of $A$ and $A(\\varepsilon)=A+\\varepsilon E$ for some $E\\in F^{n\\times n}$, for small $\\varepsilon$ there exist differentiable functions $\\lambda(\\varepsilon)$ and $x(\\varepsilon)$ such that\n",
    "$$\n",
    "A(\\varepsilon) x(\\varepsilon) = \\lambda(\\varepsilon) x(\\varepsilon).\n",
    "$$\n",
    "\n",
    "15. Classical motivation for the eigenvalue problem is the following: consider the system of linear differential equations with constant coefficients,\n",
    "$$ \\dot y(t)=Ay(t).$$ If the solution is $y=e^{\\lambda t} x$ for some constant vector $x$, then\n",
    "$\\lambda e^{\\lambda t} x=Ae^{\\lambda t} x$, or $Ax=\\lambda x$.\n"
   ]
  },
  {
   "cell_type": "markdown",
   "metadata": {},
   "source": [
    "### Examples\n",
    "\n",
    "We shall illustrate above Definitions and Facts on several small examples, using symbolic computation."
   ]
  },
  {
   "cell_type": "code",
   "execution_count": 1,
   "metadata": {},
   "outputs": [],
   "source": [
    "using SymPy"
   ]
  },
  {
   "cell_type": "code",
   "execution_count": 2,
   "metadata": {},
   "outputs": [
    {
     "data": {
      "text/plain": [
       "3×3 Array{Int64,2}:\n",
       " -3    7  -1\n",
       "  6    8  -2\n",
       " 72  -28  19"
      ]
     },
     "execution_count": 2,
     "metadata": {},
     "output_type": "execute_result"
    }
   ],
   "source": [
    "A=[-3 7 -1; 6 8 -2; 72 -28 19]"
   ]
  },
  {
   "cell_type": "code",
   "execution_count": 3,
   "metadata": {},
   "outputs": [
    {
     "data": {
      "text/plain": [
       "(x,)"
      ]
     },
     "execution_count": 3,
     "metadata": {},
     "output_type": "execute_result"
    }
   ],
   "source": [
    "@vars x"
   ]
  },
  {
   "cell_type": "code",
   "execution_count": 4,
   "metadata": {},
   "outputs": [
    {
     "data": {
      "text/latex": [
       "\\begin{bmatrix}- x - 3&7&-1\\\\6&- x + 8&-2\\\\72&-28&- x + 19\\end{bmatrix}"
      ],
      "text/plain": [
       "3×3 Array{SymPy.Sym,2}:\n",
       " -x - 3       7       -1\n",
       "      6  -x + 8       -2\n",
       "     72     -28  -x + 19"
      ]
     },
     "execution_count": 4,
     "metadata": {},
     "output_type": "execute_result"
    }
   ],
   "source": [
    "A-x*I"
   ]
  },
  {
   "cell_type": "code",
   "execution_count": 5,
   "metadata": {},
   "outputs": [
    {
     "data": {
      "text/latex": [
       "$$\\left(- x - 3\\right) \\left(- x + 8 - \\frac{42}{- x - 3}\\right) \\left(- x - \\frac{\\left(-28 - \\frac{504}{- x - 3}\\right) \\left(-2 + \\frac{6}{- x - 3}\\right)}{- x + 8 - \\frac{42}{- x - 3}} + 19 + \\frac{72}{- x - 3}\\right)$$"
      ],
      "text/plain": [
       "                           /     /       504  \\ /       6   \\              \\\n",
       "                           |     |-28 - ------|*|-2 + ------|              |\n",
       "         /           42  \\ |     \\      -x - 3/ \\     -x - 3/          72  |\n",
       "(-x - 3)*|-x + 8 - ------|*|-x - ---------------------------- + 19 + ------|\n",
       "         \\         -x - 3/ |                      42                 -x - 3|\n",
       "                           |           -x + 8 - ------                     |\n",
       "                           \\                    -x - 3                     /"
      ]
     },
     "execution_count": 5,
     "metadata": {},
     "output_type": "execute_result"
    }
   ],
   "source": [
    "# Characteristic polynomial p_A(λ)\n",
    "p(x)=det(A-x*I)\n",
    "p(x)"
   ]
  },
  {
   "cell_type": "code",
   "execution_count": 6,
   "metadata": {},
   "outputs": [
    {
     "data": {
      "text/latex": [
       "$$- \\left(x - 15\\right)^{2} \\left(x + 6\\right)$$"
      ],
      "text/plain": [
       "         2        \n",
       "-(x - 15) *(x + 6)"
      ]
     },
     "execution_count": 6,
     "metadata": {},
     "output_type": "execute_result"
    }
   ],
   "source": [
    "# Characteristic polynomial in nicer form\n",
    "p(x)=factor(det(A-x*I))\n",
    "p(x)"
   ]
  },
  {
   "cell_type": "code",
   "execution_count": 7,
   "metadata": {},
   "outputs": [
    {
     "data": {
      "text/latex": [
       "\\begin{bmatrix}-6\\\\15\\end{bmatrix}"
      ],
      "text/plain": [
       "2-element Array{SymPy.Sym,1}:\n",
       " -6\n",
       " 15"
      ]
     },
     "execution_count": 7,
     "metadata": {},
     "output_type": "execute_result"
    }
   ],
   "source": [
    "λ=solve(p(x),x)"
   ]
  },
  {
   "cell_type": "markdown",
   "metadata": {},
   "source": [
    "The eigenvalues are $\\lambda_1=-6$ and $\\lambda_2=15$ with algebraic multiplicities\n",
    "$\\alpha(\\lambda_1)=1$ and $\\alpha(\\lambda_2)=2$."
   ]
  },
  {
   "cell_type": "code",
   "execution_count": 8,
   "metadata": {},
   "outputs": [
    {
     "data": {
      "text/plain": [
       "1-element Array{Array{SymPy.Sym,1},1}:\n",
       " SymPy.Sym[-1/4, 1/4, 1]"
      ]
     },
     "execution_count": 8,
     "metadata": {},
     "output_type": "execute_result"
    }
   ],
   "source": [
    "g=nullspace(A-λ[1]*I)"
   ]
  },
  {
   "cell_type": "code",
   "execution_count": 9,
   "metadata": {},
   "outputs": [
    {
     "data": {
      "text/plain": [
       "1-element Array{Array{SymPy.Sym,1},1}:\n",
       " SymPy.Sym[-1/4, -1/2, 1]"
      ]
     },
     "execution_count": 9,
     "metadata": {},
     "output_type": "execute_result"
    }
   ],
   "source": [
    "h=nullspace(A-λ[2]*I)"
   ]
  },
  {
   "cell_type": "markdown",
   "metadata": {},
   "source": [
    "The geometric multiplicities are $\\gamma(\\lambda_1)=1$ and $\\gamma(\\lambda_2)=1$. Thus, $\\lambda_2$ is not semisimple, therefore $A$ is defective and not diagonalizable."
   ]
  },
  {
   "cell_type": "code",
   "execution_count": 10,
   "metadata": {},
   "outputs": [
    {
     "data": {
      "text/plain": [
       "(24, 24)"
      ]
     },
     "execution_count": 10,
     "metadata": {},
     "output_type": "execute_result"
    }
   ],
   "source": [
    "# Trace and determinant\n",
    "trace(A), λ[1]+λ[2]+λ[2]"
   ]
  },
  {
   "cell_type": "code",
   "execution_count": 11,
   "metadata": {},
   "outputs": [
    {
     "data": {
      "text/plain": [
       "(-1350.0000000000002, -1350)"
      ]
     },
     "execution_count": 11,
     "metadata": {},
     "output_type": "execute_result"
    }
   ],
   "source": [
    "det(A), λ[1]*λ[2]*λ[2]"
   ]
  },
  {
   "cell_type": "code",
   "execution_count": 12,
   "metadata": {},
   "outputs": [
    {
     "data": {
      "text/plain": [
       "3×3 Array{Float64,2}:\n",
       " -6.0  25.4662       -72.2009\n",
       "  0.0  15.0          -12.0208\n",
       "  0.0   1.48587e-15   15.0   "
      ]
     },
     "execution_count": 12,
     "metadata": {},
     "output_type": "execute_result"
    }
   ],
   "source": [
    "# Schur decomposition\n",
    "T,Q=schur(A)\n",
    "T"
   ]
  },
  {
   "cell_type": "code",
   "execution_count": 13,
   "metadata": {},
   "outputs": [
    {
     "data": {
      "text/plain": [
       "3×3 Array{Float64,2}:\n",
       " -0.235702  -0.0571662  -0.970143   \n",
       "  0.235702  -0.971825   -5.90663e-16\n",
       "  0.942809   0.228665   -0.242536   "
      ]
     },
     "execution_count": 13,
     "metadata": {},
     "output_type": "execute_result"
    }
   ],
   "source": [
    "Q"
   ]
  },
  {
   "cell_type": "code",
   "execution_count": 14,
   "metadata": {},
   "outputs": [
    {
     "data": {
      "text/html": [
       "schur(A::<b>Union{Base.ReshapedArray{T,2,A,MI} where MI<:Tuple{Vararg{Base.MultiplicativeInverses.SignedMultiplicativeInverse{Int64},N} where N} where A<:Union{DenseArray, SubArray{T,N,P,I,true} where I<:Tuple{Union{Base.Slice, UnitRange},Vararg{Any,N} where N} where P where N where T}, DenseArray{T,2}, SubArray{T,2,A,I,L} where L} where I<:Tuple{Vararg{Union{Base.AbstractCartesianIndex, Int64, Range{Int64}},N} where N} where A<:Union{Base.ReshapedArray{T,N,A,MI} where MI<:Tuple{Vararg{Base.MultiplicativeInverses.SignedMultiplicativeInverse{Int64},N} where N} where A<:Union{DenseArray, SubArray{T,N,P,I,true} where I<:Tuple{Union{Base.Slice, UnitRange},Vararg{Any,N} where N} where P where N where T} where N where T, DenseArray} where T</b>) at <a href=\"https://github.com/JuliaLang/julia/tree/d386e40c17d43b79fc89d3e579fc04547241787c/base/linalg/schur.jl#L107\" target=\"_blank\">linalg/schur.jl:107</a>"
      ],
      "text/plain": [
       "schur(A::Union{Base.ReshapedArray{T,2,A,MI} where MI<:Tuple{Vararg{Base.MultiplicativeInverses.SignedMultiplicativeInverse{Int64},N} where N} where A<:Union{DenseArray, SubArray{T,N,P,I,true} where I<:Tuple{Union{Base.Slice, UnitRange},Vararg{Any,N} where N} where P where N where T}, DenseArray{T,2}, SubArray{T,2,A,I,L} where L} where I<:Tuple{Vararg{Union{Base.AbstractCartesianIndex, Int64, Range{Int64}},N} where N} where A<:Union{Base.ReshapedArray{T,N,A,MI} where MI<:Tuple{Vararg{Base.MultiplicativeInverses.SignedMultiplicativeInverse{Int64},N} where N} where A<:Union{DenseArray, SubArray{T,N,P,I,true} where I<:Tuple{Union{Base.Slice, UnitRange},Vararg{Any,N} where N} where P where N where T} where N where T, DenseArray} where T) in Base.LinAlg at linalg/schur.jl:107"
      ]
     },
     "execution_count": 14,
     "metadata": {},
     "output_type": "execute_result"
    }
   ],
   "source": [
    "@which schur(A)"
   ]
  },
  {
   "cell_type": "code",
   "execution_count": 15,
   "metadata": {},
   "outputs": [
    {
     "data": {
      "text/plain": [
       "Base.LinAlg.Schur{Float64,Array{Float64,2}} with factors T and Z:\n",
       "[-6.0 25.4662 -72.2009; 0.0 15.0 -12.0208; 0.0 1.48587e-15 15.0]\n",
       "[-0.235702 -0.0571662 -0.970143; 0.235702 -0.971825 -5.90663e-16; 0.942809 0.228665 -0.242536]\n",
       "and values:\n",
       "Complex{Float64}[-6.0+0.0im, 15.0+1.33647e-7im, 15.0-1.33647e-7im]"
      ]
     },
     "execution_count": 15,
     "metadata": {},
     "output_type": "execute_result"
    }
   ],
   "source": [
    "F=schurfact(A)"
   ]
  },
  {
   "cell_type": "code",
   "execution_count": 16,
   "metadata": {},
   "outputs": [
    {
     "data": {
      "text/plain": [
       "3-element Array{Symbol,1}:\n",
       " :T     \n",
       " :Z     \n",
       " :values"
      ]
     },
     "execution_count": 16,
     "metadata": {},
     "output_type": "execute_result"
    }
   ],
   "source": [
    "fieldnames(F)"
   ]
  },
  {
   "cell_type": "code",
   "execution_count": 17,
   "metadata": {},
   "outputs": [
    {
     "data": {
      "text/plain": [
       "3×3 Array{Float64,2}:\n",
       " -0.235702  -0.0571662  -0.970143   \n",
       "  0.235702  -0.971825   -5.90663e-16\n",
       "  0.942809   0.228665   -0.242536   "
      ]
     },
     "execution_count": 17,
     "metadata": {},
     "output_type": "execute_result"
    }
   ],
   "source": [
    "F.Z"
   ]
  },
  {
   "cell_type": "code",
   "execution_count": 18,
   "metadata": {},
   "outputs": [
    {
     "data": {
      "text/plain": [
       "3×3 Array{Float64,2}:\n",
       " -0.235702  -0.0571662  -0.970143   \n",
       "  0.235702  -0.971825   -5.90663e-16\n",
       "  0.942809   0.228665   -0.242536   "
      ]
     },
     "execution_count": 18,
     "metadata": {},
     "output_type": "execute_result"
    }
   ],
   "source": [
    "F[:Z]"
   ]
  },
  {
   "cell_type": "code",
   "execution_count": 19,
   "metadata": {},
   "outputs": [
    {
     "name": "stdout",
     "output_type": "stream",
     "text": [
      "[-6.0, 15.0, 15.0]\n"
     ]
    }
   ],
   "source": [
    "println(diag(T))"
   ]
  },
  {
   "cell_type": "code",
   "execution_count": 20,
   "metadata": {},
   "outputs": [
    {
     "data": {
      "text/plain": [
       "3×3 Array{Float64,2}:\n",
       " 1.0          1.11022e-16  2.77556e-17\n",
       " 1.11022e-16  1.0          1.52656e-16\n",
       " 2.77556e-17  1.52656e-16  1.0        "
      ]
     },
     "execution_count": 20,
     "metadata": {},
     "output_type": "execute_result"
    }
   ],
   "source": [
    "Q'*Q"
   ]
  },
  {
   "cell_type": "code",
   "execution_count": 21,
   "metadata": {},
   "outputs": [
    {
     "data": {
      "text/plain": [
       "3×3 Array{Float64,2}:\n",
       " 1.0          1.35877e-16  0.0        \n",
       " 1.35877e-16  1.0          3.22346e-17\n",
       " 0.0          3.22346e-17  1.0        "
      ]
     },
     "execution_count": 21,
     "metadata": {},
     "output_type": "execute_result"
    }
   ],
   "source": [
    "Q*Q'"
   ]
  },
  {
   "cell_type": "code",
   "execution_count": 22,
   "metadata": {},
   "outputs": [
    {
     "data": {
      "text/plain": [
       "([-6.0, 15.0, 15.0], 23.999999999999986, -1350.000000000001)"
      ]
     },
     "execution_count": 22,
     "metadata": {},
     "output_type": "execute_result"
    }
   ],
   "source": [
    "# Similar matrices\n",
    "M=rand(-5:5,3,3)\n",
    "B=M*A*inv(M)\n",
    "eigvals(B), trace(B), det(B)"
   ]
  },
  {
   "cell_type": "markdown",
   "metadata": {},
   "source": [
    "### Example\n",
    "\n",
    "This matrix is nondefective and diagonalizable."
   ]
  },
  {
   "cell_type": "code",
   "execution_count": 23,
   "metadata": {},
   "outputs": [
    {
     "data": {
      "text/plain": [
       "3×3 Array{Int64,2}:\n",
       "   57  -21   21\n",
       "  -14   22   -7\n",
       " -140   70  -55"
      ]
     },
     "execution_count": 23,
     "metadata": {},
     "output_type": "execute_result"
    }
   ],
   "source": [
    "A=[57 -21 21; -14 22 -7; -140 70 -55]"
   ]
  },
  {
   "cell_type": "code",
   "execution_count": 24,
   "metadata": {},
   "outputs": [
    {
     "data": {
      "text/latex": [
       "$$- \\left(x - 15\\right)^{2} \\left(x + 6\\right)$$"
      ],
      "text/plain": [
       "         2        \n",
       "-(x - 15) *(x + 6)"
      ]
     },
     "execution_count": 24,
     "metadata": {},
     "output_type": "execute_result"
    }
   ],
   "source": [
    "p(x)=factor(det(A-x*I))\n",
    "p(x)"
   ]
  },
  {
   "cell_type": "code",
   "execution_count": 25,
   "metadata": {},
   "outputs": [
    {
     "data": {
      "text/latex": [
       "\\begin{bmatrix}-6\\\\15\\end{bmatrix}"
      ],
      "text/plain": [
       "2-element Array{SymPy.Sym,1}:\n",
       " -6\n",
       " 15"
      ]
     },
     "execution_count": 25,
     "metadata": {},
     "output_type": "execute_result"
    }
   ],
   "source": [
    "λ=solve(p(x),x)"
   ]
  },
  {
   "cell_type": "code",
   "execution_count": 26,
   "metadata": {},
   "outputs": [
    {
     "data": {
      "text/plain": [
       "2-element Array{Array{SymPy.Sym,1},1}:\n",
       " SymPy.Sym[1/2, 1, 0] \n",
       " SymPy.Sym[-1/2, 0, 1]"
      ]
     },
     "execution_count": 26,
     "metadata": {},
     "output_type": "execute_result"
    }
   ],
   "source": [
    "h=nullspace(A-λ[2]*I)"
   ]
  },
  {
   "cell_type": "markdown",
   "metadata": {},
   "source": [
    "### Example\n",
    "\n",
    "Let us try some random examples of dimension $n=4$ (the largest $n$ for which we can compute eigevalues symbolically)."
   ]
  },
  {
   "cell_type": "code",
   "execution_count": 27,
   "metadata": {},
   "outputs": [
    {
     "data": {
      "text/plain": [
       "4×4 Array{Int64,2}:\n",
       "  1   0   4  -4\n",
       "  0  -3   4   0\n",
       " -3  -1   1   1\n",
       "  1   3  -1  -2"
      ]
     },
     "execution_count": 27,
     "metadata": {},
     "output_type": "execute_result"
    }
   ],
   "source": [
    "A=rand(-4:4,4,4)"
   ]
  },
  {
   "cell_type": "code",
   "execution_count": 28,
   "metadata": {},
   "outputs": [
    {
     "data": {
      "text/latex": [
       "$$x^{4} + 3 x^{3} + 18 x^{2} + 63 x - 37$$"
      ],
      "text/plain": [
       " 4      3       2            \n",
       "x  + 3*x  + 18*x  + 63*x - 37"
      ]
     },
     "execution_count": 28,
     "metadata": {},
     "output_type": "execute_result"
    }
   ],
   "source": [
    "p(x)=factor(det(A-x*I))\n",
    "p(x)"
   ]
  },
  {
   "cell_type": "code",
   "execution_count": 29,
   "metadata": {},
   "outputs": [
    {
     "data": {
      "text/latex": [
       "\\begin{bmatrix}- \\frac{3}{4} + \\frac{\\sqrt{- \\frac{39}{4} - \\frac{229}{6 \\sqrt[3]{\\frac{2355}{8} + \\frac{\\sqrt{30328437}}{18}}} + 2 \\sqrt[3]{\\frac{2355}{8} + \\frac{\\sqrt{30328437}}{18}}}}{2} - \\frac{\\sqrt{- \\frac{315}{4 \\sqrt{- \\frac{39}{4} - \\frac{229}{6 \\sqrt[3]{\\frac{2355}{8} + \\frac{\\sqrt{30328437}}{18}}} + 2 \\sqrt[3]{\\frac{2355}{8} + \\frac{\\sqrt{30328437}}{18}}}} - \\frac{39}{2} - 2 \\sqrt[3]{\\frac{2355}{8} + \\frac{\\sqrt{30328437}}{18}} + \\frac{229}{6 \\sqrt[3]{\\frac{2355}{8} + \\frac{\\sqrt{30328437}}{18}}}}}{2}\\\\- \\frac{3}{4} + \\frac{\\sqrt{- \\frac{39}{4} - \\frac{229}{6 \\sqrt[3]{\\frac{2355}{8} + \\frac{\\sqrt{30328437}}{18}}} + 2 \\sqrt[3]{\\frac{2355}{8} + \\frac{\\sqrt{30328437}}{18}}}}{2} + \\frac{\\sqrt{- \\frac{315}{4 \\sqrt{- \\frac{39}{4} - \\frac{229}{6 \\sqrt[3]{\\frac{2355}{8} + \\frac{\\sqrt{30328437}}{18}}} + 2 \\sqrt[3]{\\frac{2355}{8} + \\frac{\\sqrt{30328437}}{18}}}} - \\frac{39}{2} - 2 \\sqrt[3]{\\frac{2355}{8} + \\frac{\\sqrt{30328437}}{18}} + \\frac{229}{6 \\sqrt[3]{\\frac{2355}{8} + \\frac{\\sqrt{30328437}}{18}}}}}{2}\\\\- \\frac{\\sqrt{- \\frac{39}{4} - \\frac{229}{6 \\sqrt[3]{\\frac{2355}{8} + \\frac{\\sqrt{30328437}}{18}}} + 2 \\sqrt[3]{\\frac{2355}{8} + \\frac{\\sqrt{30328437}}{18}}}}{2} - \\frac{3}{4} + \\frac{\\sqrt{- \\frac{39}{2} - 2 \\sqrt[3]{\\frac{2355}{8} + \\frac{\\sqrt{30328437}}{18}} + \\frac{229}{6 \\sqrt[3]{\\frac{2355}{8} + \\frac{\\sqrt{30328437}}{18}}} + \\frac{315}{4 \\sqrt{- \\frac{39}{4} - \\frac{229}{6 \\sqrt[3]{\\frac{2355}{8} + \\frac{\\sqrt{30328437}}{18}}} + 2 \\sqrt[3]{\\frac{2355}{8} + \\frac{\\sqrt{30328437}}{18}}}}}}{2}\\\\- \\frac{\\sqrt{- \\frac{39}{2} - 2 \\sqrt[3]{\\frac{2355}{8} + \\frac{\\sqrt{30328437}}{18}} + \\frac{229}{6 \\sqrt[3]{\\frac{2355}{8} + \\frac{\\sqrt{30328437}}{18}}} + \\frac{315}{4 \\sqrt{- \\frac{39}{4} - \\frac{229}{6 \\sqrt[3]{\\frac{2355}{8} + \\frac{\\sqrt{30328437}}{18}}} + 2 \\sqrt[3]{\\frac{2355}{8} + \\frac{\\sqrt{30328437}}{18}}}}}}{2} - \\frac{\\sqrt{- \\frac{39}{4} - \\frac{229}{6 \\sqrt[3]{\\frac{2355}{8} + \\frac{\\sqrt{30328437}}{18}}} + 2 \\sqrt[3]{\\frac{2355}{8} + \\frac{\\sqrt{30328437}}{18}}}}{2} - \\frac{3}{4}\\end{bmatrix}"
      ],
      "text/plain": [
       "4-element Array{SymPy.Sym,1}:\n",
       " -3/4 + sqrt(-39/4 - 229/(6*(2355/8 + sqrt(30328437)/18)^(1/3)) + 2*(2355/8 + sqrt(30328437)/18)^(1/3))/2 - sqrt(-315/(4*sqrt(-39/4 - 229/(6*(2355/8 + sqrt(30328437)/18)^(1/3)) + 2*(2355/8 + sqrt(30328437)/18)^(1/3))) - 39/2 - 2*(2355/8 + sqrt(30328437)/18)^(1/3) + 229/(6*(2355/8 + sqrt(30328437)/18)^(1/3)))/2\n",
       " -3/4 + sqrt(-39/4 - 229/(6*(2355/8 + sqrt(30328437)/18)^(1/3)) + 2*(2355/8 + sqrt(30328437)/18)^(1/3))/2 + sqrt(-315/(4*sqrt(-39/4 - 229/(6*(2355/8 + sqrt(30328437)/18)^(1/3)) + 2*(2355/8 + sqrt(30328437)/18)^(1/3))) - 39/2 - 2*(2355/8 + sqrt(30328437)/18)^(1/3) + 229/(6*(2355/8 + sqrt(30328437)/18)^(1/3)))/2\n",
       " -sqrt(-39/4 - 229/(6*(2355/8 + sqrt(30328437)/18)^(1/3)) + 2*(2355/8 + sqrt(30328437)/18)^(1/3))/2 - 3/4 + sqrt(-39/2 - 2*(2355/8 + sqrt(30328437)/18)^(1/3) + 229/(6*(2355/8 + sqrt(30328437)/18)^(1/3)) + 315/(4*sqrt(-39/4 - 229/(6*(2355/8 + sqrt(30328437)/18)^(1/3)) + 2*(2355/8 + sqrt(30328437)/18)^(1/3))))/2\n",
       " -sqrt(-39/2 - 2*(2355/8 + sqrt(30328437)/18)^(1/3) + 229/(6*(2355/8 + sqrt(30328437)/18)^(1/3)) + 315/(4*sqrt(-39/4 - 229/(6*(2355/8 + sqrt(30328437)/18)^(1/3)) + 2*(2355/8 + sqrt(30328437)/18)^(1/3))))/2 - sqrt(-39/4 - 229/(6*(2355/8 + sqrt(30328437)/18)^(1/3)) + 2*(2355/8 + sqrt(30328437)/18)^(1/3))/2 - 3/4"
      ]
     },
     "execution_count": 29,
     "metadata": {},
     "output_type": "execute_result"
    }
   ],
   "source": [
    "λ=solve(p(x),x)"
   ]
  },
  {
   "cell_type": "code",
   "execution_count": 30,
   "metadata": {
    "scrolled": true
   },
   "outputs": [
    {
     "data": {
      "text/plain": [
       "4"
      ]
     },
     "execution_count": 30,
     "metadata": {},
     "output_type": "execute_result"
    }
   ],
   "source": [
    "length(λ)"
   ]
  },
  {
   "cell_type": "markdown",
   "metadata": {},
   "source": [
    "Since all eigenvalues are distinct, they are all simple and the matrix is diagonalizable. \n",
    "With high probability, all eigenvalues of a random matrix are simple.\n",
    "\n",
    "Do not try to use `nullspace()` here."
   ]
  },
  {
   "cell_type": "code",
   "execution_count": 31,
   "metadata": {},
   "outputs": [
    {
     "data": {
      "text/latex": [
       "$$\\frac{6.89461187104567 \\left(0.14504079688656 x^{8} - 0.668803822573383 x^{7} + 1.0 x^{6} - 0.55124280370586 x^{5} + 0.116284812170805 x^{4} - 0.0735921796824621 x^{3} + 0.0129569579989965 x^{2} + 0.0184016707099499 x + 0.00185661018146863\\right)}{\\left(1.0 x - 0.874820667009007\\right)^{2} \\left(1.0 x^{2} - 0.939288429815855 x - 0.264083184418145\\right)}$$"
      ],
      "text/plain": [
       "                 /                  8                      7        6         \n",
       "6.89461187104567*\\0.14504079688656*x  - 0.668803822573383*x  + 1.0*x  - 0.5512\n",
       "------------------------------------------------------------------------------\n",
       "                                                                              \n",
       "                                                                (1.0*x - 0.874\n",
       "\n",
       "            5                      4                       3                  \n",
       "4280370586*x  + 0.116284812170805*x  - 0.0735921796824621*x  + 0.0129569579989\n",
       "------------------------------------------------------------------------------\n",
       "             2 /     2                                          \\             \n",
       "820667009007) *\\1.0*x  - 0.939288429815855*x - 0.264083184418145/             \n",
       "\n",
       "     2                                             \\\n",
       "965*x  + 0.0184016707099499*x + 0.00185661018146863/\n",
       "----------------------------------------------------\n",
       "                                                    \n",
       "                                                    "
      ]
     },
     "execution_count": 31,
     "metadata": {},
     "output_type": "execute_result"
    }
   ],
   "source": [
    "A=rand(4,4)\n",
    "p(x)=factor(det(A-x*I))\n",
    "p(x)"
   ]
  },
  {
   "cell_type": "markdown",
   "metadata": {},
   "source": [
    "In this case, symbolic computation does not work well with floating-point numbers - the degree of $p_A(x)$ is 8 instead of 4.\n",
    "\n",
    "Let us try `Rational` numbers:"
   ]
  },
  {
   "cell_type": "code",
   "execution_count": 32,
   "metadata": {},
   "outputs": [
    {
     "data": {
      "text/plain": [
       "4×4 Array{Rational{Int64},2}:\n",
       " 1969921014978887//2251799813685248  …  3903413676503757//4503599627370496\n",
       " 1043807032273379//2251799813685248     3590728183568295//4503599627370496\n",
       " 2112048884840731//2251799813685248      944606236044501//2251799813685248\n",
       "  158954728713921//2251799813685248     3144110323860347//4503599627370496"
      ]
     },
     "execution_count": 32,
     "metadata": {},
     "output_type": "execute_result"
    }
   ],
   "source": [
    "A=map(Rational,A)"
   ]
  },
  {
   "cell_type": "code",
   "execution_count": 33,
   "metadata": {},
   "outputs": [
    {
     "data": {
      "text/latex": [
       "$$\\frac{102844034832575377634685573909834406561420991602098741459288064 x^{4} - 197688141826136999758874598644615566926416248864949440759201792 x^{3} - 43063860304226033910404479084216985920140815466856653369901056 x^{2} - 56284159007131410864003375558046013302521563742341827825500160 x - 6513746312527923003452761373499448970541752071423161628307355}{102844034832575377634685573909834406561420991602098741459288064}$$"
      ],
      "text/plain": [
       "                                                                 4            \n",
       "102844034832575377634685573909834406561420991602098741459288064*x  - 197688141\n",
       "------------------------------------------------------------------------------\n",
       "                                                                              \n",
       "\n",
       "                                                        3                     \n",
       "826136999758874598644615566926416248864949440759201792*x  - 430638603042260339\n",
       "------------------------------------------------------------------------------\n",
       "                                                         102844034832575377634\n",
       "\n",
       "                                              2                               \n",
       "10404479084216985920140815466856653369901056*x  - 5628415900713141086400337555\n",
       "------------------------------------------------------------------------------\n",
       "685573909834406561420991602098741459288064                                    \n",
       "\n",
       "                                                                              \n",
       "8046013302521563742341827825500160*x - 651374631252792300345276137349944897054\n",
       "------------------------------------------------------------------------------\n",
       "                                                                              \n",
       "\n",
       "                      \n",
       "1752071423161628307355\n",
       "----------------------\n",
       "                      "
      ]
     },
     "execution_count": 33,
     "metadata": {},
     "output_type": "execute_result"
    }
   ],
   "source": [
    "p(x)=factor(det(A-x*I))\n",
    "p(x)"
   ]
  },
  {
   "cell_type": "code",
   "execution_count": 34,
   "metadata": {},
   "outputs": [
    {
     "data": {
      "text/latex": [
       "\\begin{bmatrix}\\frac{8656877798631013}{18014398509481984} + \\frac{\\sqrt{- \\frac{64117210520248774846133572716513551110318337932476058027355171}{308532104497726132904056721729503219684262974806296224377864192 \\sqrt[3]{\\frac{142012705380288493112782678795562133859141619117070364924493294415686511933316950321338596307}{16687398718132110018711107079449625895333629080911349765211262561111091607661254297054391304192} + \\frac{185 \\sqrt{787083150401101283662785067458787739407038443366574761482616048307172205179847215891727264555466504507742129832668309898119602067539723280377849768931229327683510481689157745375413673}}{150186588463188990168399963715046633058002661728202147886901363049999824468951288673489521737728}}} + 2 \\sqrt[3]{\\frac{142012705380288493112782678795562133859141619117070364924493294415686511933316950321338596307}{16687398718132110018711107079449625895333629080911349765211262561111091607661254297054391304192} + \\frac{185 \\sqrt{787083150401101283662785067458787739407038443366574761482616048307172205179847215891727264555466504507742129832668309898119602067539723280377849768931229327683510481689157745375413673}}{150186588463188990168399963715046633058002661728202147886901363049999824468951288673489521737728}} + \\frac{97589130435032497630268813797873}{81129638414606681695789005144064}}}{2} + \\frac{\\sqrt{- 2 \\sqrt[3]{\\frac{142012705380288493112782678795562133859141619117070364924493294415686511933316950321338596307}{16687398718132110018711107079449625895333629080911349765211262561111091607661254297054391304192} + \\frac{185 \\sqrt{787083150401101283662785067458787739407038443366574761482616048307172205179847215891727264555466504507742129832668309898119602067539723280377849768931229327683510481689157745375413673}}{150186588463188990168399963715046633058002661728202147886901363049999824468951288673489521737728}} + \\frac{64117210520248774846133572716513551110318337932476058027355171}{308532104497726132904056721729503219684262974806296224377864192 \\sqrt[3]{\\frac{142012705380288493112782678795562133859141619117070364924493294415686511933316950321338596307}{16687398718132110018711107079449625895333629080911349765211262561111091607661254297054391304192} + \\frac{185 \\sqrt{787083150401101283662785067458787739407038443366574761482616048307172205179847215891727264555466504507742129832668309898119602067539723280377849768931229327683510481689157745375413673}}{150186588463188990168399963715046633058002661728202147886901363049999824468951288673489521737728}}} + \\frac{97589130435032497630268813797873}{40564819207303340847894502572032} + \\frac{1342768920619287944896242417231181886800383707145}{365375409332725729550921208179070754913983135744 \\sqrt{- \\frac{64117210520248774846133572716513551110318337932476058027355171}{308532104497726132904056721729503219684262974806296224377864192 \\sqrt[3]{\\frac{142012705380288493112782678795562133859141619117070364924493294415686511933316950321338596307}{16687398718132110018711107079449625895333629080911349765211262561111091607661254297054391304192} + \\frac{185 \\sqrt{787083150401101283662785067458787739407038443366574761482616048307172205179847215891727264555466504507742129832668309898119602067539723280377849768931229327683510481689157745375413673}}{150186588463188990168399963715046633058002661728202147886901363049999824468951288673489521737728}}} + 2 \\sqrt[3]{\\frac{142012705380288493112782678795562133859141619117070364924493294415686511933316950321338596307}{16687398718132110018711107079449625895333629080911349765211262561111091607661254297054391304192} + \\frac{185 \\sqrt{787083150401101283662785067458787739407038443366574761482616048307172205179847215891727264555466504507742129832668309898119602067539723280377849768931229327683510481689157745375413673}}{150186588463188990168399963715046633058002661728202147886901363049999824468951288673489521737728}} + \\frac{97589130435032497630268813797873}{81129638414606681695789005144064}}}}}{2}\\\\- \\frac{\\sqrt{- \\frac{64117210520248774846133572716513551110318337932476058027355171}{308532104497726132904056721729503219684262974806296224377864192 \\sqrt[3]{\\frac{142012705380288493112782678795562133859141619117070364924493294415686511933316950321338596307}{16687398718132110018711107079449625895333629080911349765211262561111091607661254297054391304192} + \\frac{185 \\sqrt{787083150401101283662785067458787739407038443366574761482616048307172205179847215891727264555466504507742129832668309898119602067539723280377849768931229327683510481689157745375413673}}{150186588463188990168399963715046633058002661728202147886901363049999824468951288673489521737728}}} + 2 \\sqrt[3]{\\frac{142012705380288493112782678795562133859141619117070364924493294415686511933316950321338596307}{16687398718132110018711107079449625895333629080911349765211262561111091607661254297054391304192} + \\frac{185 \\sqrt{787083150401101283662785067458787739407038443366574761482616048307172205179847215891727264555466504507742129832668309898119602067539723280377849768931229327683510481689157745375413673}}{150186588463188990168399963715046633058002661728202147886901363049999824468951288673489521737728}} + \\frac{97589130435032497630268813797873}{81129638414606681695789005144064}}}{2} + \\frac{8656877798631013}{18014398509481984} - \\frac{\\sqrt{- \\frac{1342768920619287944896242417231181886800383707145}{365375409332725729550921208179070754913983135744 \\sqrt{- \\frac{64117210520248774846133572716513551110318337932476058027355171}{308532104497726132904056721729503219684262974806296224377864192 \\sqrt[3]{\\frac{142012705380288493112782678795562133859141619117070364924493294415686511933316950321338596307}{16687398718132110018711107079449625895333629080911349765211262561111091607661254297054391304192} + \\frac{185 \\sqrt{787083150401101283662785067458787739407038443366574761482616048307172205179847215891727264555466504507742129832668309898119602067539723280377849768931229327683510481689157745375413673}}{150186588463188990168399963715046633058002661728202147886901363049999824468951288673489521737728}}} + 2 \\sqrt[3]{\\frac{142012705380288493112782678795562133859141619117070364924493294415686511933316950321338596307}{16687398718132110018711107079449625895333629080911349765211262561111091607661254297054391304192} + \\frac{185 \\sqrt{787083150401101283662785067458787739407038443366574761482616048307172205179847215891727264555466504507742129832668309898119602067539723280377849768931229327683510481689157745375413673}}{150186588463188990168399963715046633058002661728202147886901363049999824468951288673489521737728}} + \\frac{97589130435032497630268813797873}{81129638414606681695789005144064}}} - 2 \\sqrt[3]{\\frac{142012705380288493112782678795562133859141619117070364924493294415686511933316950321338596307}{16687398718132110018711107079449625895333629080911349765211262561111091607661254297054391304192} + \\frac{185 \\sqrt{787083150401101283662785067458787739407038443366574761482616048307172205179847215891727264555466504507742129832668309898119602067539723280377849768931229327683510481689157745375413673}}{150186588463188990168399963715046633058002661728202147886901363049999824468951288673489521737728}} + \\frac{64117210520248774846133572716513551110318337932476058027355171}{308532104497726132904056721729503219684262974806296224377864192 \\sqrt[3]{\\frac{142012705380288493112782678795562133859141619117070364924493294415686511933316950321338596307}{16687398718132110018711107079449625895333629080911349765211262561111091607661254297054391304192} + \\frac{185 \\sqrt{787083150401101283662785067458787739407038443366574761482616048307172205179847215891727264555466504507742129832668309898119602067539723280377849768931229327683510481689157745375413673}}{150186588463188990168399963715046633058002661728202147886901363049999824468951288673489521737728}}} + \\frac{97589130435032497630268813797873}{40564819207303340847894502572032}}}{2}\\\\- \\frac{\\sqrt{- \\frac{64117210520248774846133572716513551110318337932476058027355171}{308532104497726132904056721729503219684262974806296224377864192 \\sqrt[3]{\\frac{142012705380288493112782678795562133859141619117070364924493294415686511933316950321338596307}{16687398718132110018711107079449625895333629080911349765211262561111091607661254297054391304192} + \\frac{185 \\sqrt{787083150401101283662785067458787739407038443366574761482616048307172205179847215891727264555466504507742129832668309898119602067539723280377849768931229327683510481689157745375413673}}{150186588463188990168399963715046633058002661728202147886901363049999824468951288673489521737728}}} + 2 \\sqrt[3]{\\frac{142012705380288493112782678795562133859141619117070364924493294415686511933316950321338596307}{16687398718132110018711107079449625895333629080911349765211262561111091607661254297054391304192} + \\frac{185 \\sqrt{787083150401101283662785067458787739407038443366574761482616048307172205179847215891727264555466504507742129832668309898119602067539723280377849768931229327683510481689157745375413673}}{150186588463188990168399963715046633058002661728202147886901363049999824468951288673489521737728}} + \\frac{97589130435032497630268813797873}{81129638414606681695789005144064}}}{2} + \\frac{8656877798631013}{18014398509481984} + \\frac{\\sqrt{- \\frac{1342768920619287944896242417231181886800383707145}{365375409332725729550921208179070754913983135744 \\sqrt{- \\frac{64117210520248774846133572716513551110318337932476058027355171}{308532104497726132904056721729503219684262974806296224377864192 \\sqrt[3]{\\frac{142012705380288493112782678795562133859141619117070364924493294415686511933316950321338596307}{16687398718132110018711107079449625895333629080911349765211262561111091607661254297054391304192} + \\frac{185 \\sqrt{787083150401101283662785067458787739407038443366574761482616048307172205179847215891727264555466504507742129832668309898119602067539723280377849768931229327683510481689157745375413673}}{150186588463188990168399963715046633058002661728202147886901363049999824468951288673489521737728}}} + 2 \\sqrt[3]{\\frac{142012705380288493112782678795562133859141619117070364924493294415686511933316950321338596307}{16687398718132110018711107079449625895333629080911349765211262561111091607661254297054391304192} + \\frac{185 \\sqrt{787083150401101283662785067458787739407038443366574761482616048307172205179847215891727264555466504507742129832668309898119602067539723280377849768931229327683510481689157745375413673}}{150186588463188990168399963715046633058002661728202147886901363049999824468951288673489521737728}} + \\frac{97589130435032497630268813797873}{81129638414606681695789005144064}}} - 2 \\sqrt[3]{\\frac{142012705380288493112782678795562133859141619117070364924493294415686511933316950321338596307}{16687398718132110018711107079449625895333629080911349765211262561111091607661254297054391304192} + \\frac{185 \\sqrt{787083150401101283662785067458787739407038443366574761482616048307172205179847215891727264555466504507742129832668309898119602067539723280377849768931229327683510481689157745375413673}}{150186588463188990168399963715046633058002661728202147886901363049999824468951288673489521737728}} + \\frac{64117210520248774846133572716513551110318337932476058027355171}{308532104497726132904056721729503219684262974806296224377864192 \\sqrt[3]{\\frac{142012705380288493112782678795562133859141619117070364924493294415686511933316950321338596307}{16687398718132110018711107079449625895333629080911349765211262561111091607661254297054391304192} + \\frac{185 \\sqrt{787083150401101283662785067458787739407038443366574761482616048307172205179847215891727264555466504507742129832668309898119602067539723280377849768931229327683510481689157745375413673}}{150186588463188990168399963715046633058002661728202147886901363049999824468951288673489521737728}}} + \\frac{97589130435032497630268813797873}{40564819207303340847894502572032}}}{2}\\\\- \\frac{\\sqrt{- 2 \\sqrt[3]{\\frac{142012705380288493112782678795562133859141619117070364924493294415686511933316950321338596307}{16687398718132110018711107079449625895333629080911349765211262561111091607661254297054391304192} + \\frac{185 \\sqrt{787083150401101283662785067458787739407038443366574761482616048307172205179847215891727264555466504507742129832668309898119602067539723280377849768931229327683510481689157745375413673}}{150186588463188990168399963715046633058002661728202147886901363049999824468951288673489521737728}} + \\frac{64117210520248774846133572716513551110318337932476058027355171}{308532104497726132904056721729503219684262974806296224377864192 \\sqrt[3]{\\frac{142012705380288493112782678795562133859141619117070364924493294415686511933316950321338596307}{16687398718132110018711107079449625895333629080911349765211262561111091607661254297054391304192} + \\frac{185 \\sqrt{787083150401101283662785067458787739407038443366574761482616048307172205179847215891727264555466504507742129832668309898119602067539723280377849768931229327683510481689157745375413673}}{150186588463188990168399963715046633058002661728202147886901363049999824468951288673489521737728}}} + \\frac{97589130435032497630268813797873}{40564819207303340847894502572032} + \\frac{1342768920619287944896242417231181886800383707145}{365375409332725729550921208179070754913983135744 \\sqrt{- \\frac{64117210520248774846133572716513551110318337932476058027355171}{308532104497726132904056721729503219684262974806296224377864192 \\sqrt[3]{\\frac{142012705380288493112782678795562133859141619117070364924493294415686511933316950321338596307}{16687398718132110018711107079449625895333629080911349765211262561111091607661254297054391304192} + \\frac{185 \\sqrt{787083150401101283662785067458787739407038443366574761482616048307172205179847215891727264555466504507742129832668309898119602067539723280377849768931229327683510481689157745375413673}}{150186588463188990168399963715046633058002661728202147886901363049999824468951288673489521737728}}} + 2 \\sqrt[3]{\\frac{142012705380288493112782678795562133859141619117070364924493294415686511933316950321338596307}{16687398718132110018711107079449625895333629080911349765211262561111091607661254297054391304192} + \\frac{185 \\sqrt{787083150401101283662785067458787739407038443366574761482616048307172205179847215891727264555466504507742129832668309898119602067539723280377849768931229327683510481689157745375413673}}{150186588463188990168399963715046633058002661728202147886901363049999824468951288673489521737728}} + \\frac{97589130435032497630268813797873}{81129638414606681695789005144064}}}}}{2} + \\frac{8656877798631013}{18014398509481984} + \\frac{\\sqrt{- \\frac{64117210520248774846133572716513551110318337932476058027355171}{308532104497726132904056721729503219684262974806296224377864192 \\sqrt[3]{\\frac{142012705380288493112782678795562133859141619117070364924493294415686511933316950321338596307}{16687398718132110018711107079449625895333629080911349765211262561111091607661254297054391304192} + \\frac{185 \\sqrt{787083150401101283662785067458787739407038443366574761482616048307172205179847215891727264555466504507742129832668309898119602067539723280377849768931229327683510481689157745375413673}}{150186588463188990168399963715046633058002661728202147886901363049999824468951288673489521737728}}} + 2 \\sqrt[3]{\\frac{142012705380288493112782678795562133859141619117070364924493294415686511933316950321338596307}{16687398718132110018711107079449625895333629080911349765211262561111091607661254297054391304192} + \\frac{185 \\sqrt{787083150401101283662785067458787739407038443366574761482616048307172205179847215891727264555466504507742129832668309898119602067539723280377849768931229327683510481689157745375413673}}{150186588463188990168399963715046633058002661728202147886901363049999824468951288673489521737728}} + \\frac{97589130435032497630268813797873}{81129638414606681695789005144064}}}{2}\\end{bmatrix}"
      ],
      "text/plain": [
       "4-element Array{SymPy.Sym,1}:\n",
       "  8656877798631013/18014398509481984 + sqrt(-64117210520248774846133572716513551110318337932476058027355171/(308532104497726132904056721729503219684262974806296224377864192*(142012705380288493112782678795562133859141619117070364924493294415686511933316950321338596307/16687398718132110018711107079449625895333629080911349765211262561111091607661254297054391304192 + 185*sqrt(787083150401101283662785067458787739407038443366574761482616048307172205179847215891727264555466504507742129832668309898119602067539723280377849768931229327683510481689157745375413673)/150186588463188990168399963715046633058002661728202147886901363049999824468951288673489521737728)^(1/3)) + 2*(142012705380288493112782678795562133859141619117070364924493294415686511933316950321338596307/16687398718132110018711107079449625895333629080911349765211262561111091607661254297054391304192 + 185*sqrt(787083150401101283662785067458787739407038443366574761482616048307172205179847215891727264555466504507742129832668309898119602067539723280377849768931229327683510481689157745375413673)/150186588463188990168399963715046633058002661728202147886901363049999824468951288673489521737728)^(1/3) + 97589130435032497630268813797873/81129638414606681695789005144064)/2 + sqrt(-2*(142012705380288493112782678795562133859141619117070364924493294415686511933316950321338596307/16687398718132110018711107079449625895333629080911349765211262561111091607661254297054391304192 + 185*sqrt(787083150401101283662785067458787739407038443366574761482616048307172205179847215891727264555466504507742129832668309898119602067539723280377849768931229327683510481689157745375413673)/150186588463188990168399963715046633058002661728202147886901363049999824468951288673489521737728)^(1/3) + 64117210520248774846133572716513551110318337932476058027355171/(308532104497726132904056721729503219684262974806296224377864192*(142012705380288493112782678795562133859141619117070364924493294415686511933316950321338596307/16687398718132110018711107079449625895333629080911349765211262561111091607661254297054391304192 + 185*sqrt(787083150401101283662785067458787739407038443366574761482616048307172205179847215891727264555466504507742129832668309898119602067539723280377849768931229327683510481689157745375413673)/150186588463188990168399963715046633058002661728202147886901363049999824468951288673489521737728)^(1/3)) + 97589130435032497630268813797873/40564819207303340847894502572032 + 1342768920619287944896242417231181886800383707145/(365375409332725729550921208179070754913983135744*sqrt(-64117210520248774846133572716513551110318337932476058027355171/(308532104497726132904056721729503219684262974806296224377864192*(142012705380288493112782678795562133859141619117070364924493294415686511933316950321338596307/16687398718132110018711107079449625895333629080911349765211262561111091607661254297054391304192 + 185*sqrt(787083150401101283662785067458787739407038443366574761482616048307172205179847215891727264555466504507742129832668309898119602067539723280377849768931229327683510481689157745375413673)/150186588463188990168399963715046633058002661728202147886901363049999824468951288673489521737728)^(1/3)) + 2*(142012705380288493112782678795562133859141619117070364924493294415686511933316950321338596307/16687398718132110018711107079449625895333629080911349765211262561111091607661254297054391304192 + 185*sqrt(787083150401101283662785067458787739407038443366574761482616048307172205179847215891727264555466504507742129832668309898119602067539723280377849768931229327683510481689157745375413673)/150186588463188990168399963715046633058002661728202147886901363049999824468951288673489521737728)^(1/3) + 97589130435032497630268813797873/81129638414606681695789005144064)))/2\n",
       " -sqrt(-64117210520248774846133572716513551110318337932476058027355171/(308532104497726132904056721729503219684262974806296224377864192*(142012705380288493112782678795562133859141619117070364924493294415686511933316950321338596307/16687398718132110018711107079449625895333629080911349765211262561111091607661254297054391304192 + 185*sqrt(787083150401101283662785067458787739407038443366574761482616048307172205179847215891727264555466504507742129832668309898119602067539723280377849768931229327683510481689157745375413673)/150186588463188990168399963715046633058002661728202147886901363049999824468951288673489521737728)^(1/3)) + 2*(142012705380288493112782678795562133859141619117070364924493294415686511933316950321338596307/16687398718132110018711107079449625895333629080911349765211262561111091607661254297054391304192 + 185*sqrt(787083150401101283662785067458787739407038443366574761482616048307172205179847215891727264555466504507742129832668309898119602067539723280377849768931229327683510481689157745375413673)/150186588463188990168399963715046633058002661728202147886901363049999824468951288673489521737728)^(1/3) + 97589130435032497630268813797873/81129638414606681695789005144064)/2 + 8656877798631013/18014398509481984 - sqrt(-1342768920619287944896242417231181886800383707145/(365375409332725729550921208179070754913983135744*sqrt(-64117210520248774846133572716513551110318337932476058027355171/(308532104497726132904056721729503219684262974806296224377864192*(142012705380288493112782678795562133859141619117070364924493294415686511933316950321338596307/16687398718132110018711107079449625895333629080911349765211262561111091607661254297054391304192 + 185*sqrt(787083150401101283662785067458787739407038443366574761482616048307172205179847215891727264555466504507742129832668309898119602067539723280377849768931229327683510481689157745375413673)/150186588463188990168399963715046633058002661728202147886901363049999824468951288673489521737728)^(1/3)) + 2*(142012705380288493112782678795562133859141619117070364924493294415686511933316950321338596307/16687398718132110018711107079449625895333629080911349765211262561111091607661254297054391304192 + 185*sqrt(787083150401101283662785067458787739407038443366574761482616048307172205179847215891727264555466504507742129832668309898119602067539723280377849768931229327683510481689157745375413673)/150186588463188990168399963715046633058002661728202147886901363049999824468951288673489521737728)^(1/3) + 97589130435032497630268813797873/81129638414606681695789005144064)) - 2*(142012705380288493112782678795562133859141619117070364924493294415686511933316950321338596307/16687398718132110018711107079449625895333629080911349765211262561111091607661254297054391304192 + 185*sqrt(787083150401101283662785067458787739407038443366574761482616048307172205179847215891727264555466504507742129832668309898119602067539723280377849768931229327683510481689157745375413673)/150186588463188990168399963715046633058002661728202147886901363049999824468951288673489521737728)^(1/3) + 64117210520248774846133572716513551110318337932476058027355171/(308532104497726132904056721729503219684262974806296224377864192*(142012705380288493112782678795562133859141619117070364924493294415686511933316950321338596307/16687398718132110018711107079449625895333629080911349765211262561111091607661254297054391304192 + 185*sqrt(787083150401101283662785067458787739407038443366574761482616048307172205179847215891727264555466504507742129832668309898119602067539723280377849768931229327683510481689157745375413673)/150186588463188990168399963715046633058002661728202147886901363049999824468951288673489521737728)^(1/3)) + 97589130435032497630268813797873/40564819207303340847894502572032)/2\n",
       " -sqrt(-64117210520248774846133572716513551110318337932476058027355171/(308532104497726132904056721729503219684262974806296224377864192*(142012705380288493112782678795562133859141619117070364924493294415686511933316950321338596307/16687398718132110018711107079449625895333629080911349765211262561111091607661254297054391304192 + 185*sqrt(787083150401101283662785067458787739407038443366574761482616048307172205179847215891727264555466504507742129832668309898119602067539723280377849768931229327683510481689157745375413673)/150186588463188990168399963715046633058002661728202147886901363049999824468951288673489521737728)^(1/3)) + 2*(142012705380288493112782678795562133859141619117070364924493294415686511933316950321338596307/16687398718132110018711107079449625895333629080911349765211262561111091607661254297054391304192 + 185*sqrt(787083150401101283662785067458787739407038443366574761482616048307172205179847215891727264555466504507742129832668309898119602067539723280377849768931229327683510481689157745375413673)/150186588463188990168399963715046633058002661728202147886901363049999824468951288673489521737728)^(1/3) + 97589130435032497630268813797873/81129638414606681695789005144064)/2 + 8656877798631013/18014398509481984 + sqrt(-1342768920619287944896242417231181886800383707145/(365375409332725729550921208179070754913983135744*sqrt(-64117210520248774846133572716513551110318337932476058027355171/(308532104497726132904056721729503219684262974806296224377864192*(142012705380288493112782678795562133859141619117070364924493294415686511933316950321338596307/16687398718132110018711107079449625895333629080911349765211262561111091607661254297054391304192 + 185*sqrt(787083150401101283662785067458787739407038443366574761482616048307172205179847215891727264555466504507742129832668309898119602067539723280377849768931229327683510481689157745375413673)/150186588463188990168399963715046633058002661728202147886901363049999824468951288673489521737728)^(1/3)) + 2*(142012705380288493112782678795562133859141619117070364924493294415686511933316950321338596307/16687398718132110018711107079449625895333629080911349765211262561111091607661254297054391304192 + 185*sqrt(787083150401101283662785067458787739407038443366574761482616048307172205179847215891727264555466504507742129832668309898119602067539723280377849768931229327683510481689157745375413673)/150186588463188990168399963715046633058002661728202147886901363049999824468951288673489521737728)^(1/3) + 97589130435032497630268813797873/81129638414606681695789005144064)) - 2*(142012705380288493112782678795562133859141619117070364924493294415686511933316950321338596307/16687398718132110018711107079449625895333629080911349765211262561111091607661254297054391304192 + 185*sqrt(787083150401101283662785067458787739407038443366574761482616048307172205179847215891727264555466504507742129832668309898119602067539723280377849768931229327683510481689157745375413673)/150186588463188990168399963715046633058002661728202147886901363049999824468951288673489521737728)^(1/3) + 64117210520248774846133572716513551110318337932476058027355171/(308532104497726132904056721729503219684262974806296224377864192*(142012705380288493112782678795562133859141619117070364924493294415686511933316950321338596307/16687398718132110018711107079449625895333629080911349765211262561111091607661254297054391304192 + 185*sqrt(787083150401101283662785067458787739407038443366574761482616048307172205179847215891727264555466504507742129832668309898119602067539723280377849768931229327683510481689157745375413673)/150186588463188990168399963715046633058002661728202147886901363049999824468951288673489521737728)^(1/3)) + 97589130435032497630268813797873/40564819207303340847894502572032)/2\n",
       " -sqrt(-2*(142012705380288493112782678795562133859141619117070364924493294415686511933316950321338596307/16687398718132110018711107079449625895333629080911349765211262561111091607661254297054391304192 + 185*sqrt(787083150401101283662785067458787739407038443366574761482616048307172205179847215891727264555466504507742129832668309898119602067539723280377849768931229327683510481689157745375413673)/150186588463188990168399963715046633058002661728202147886901363049999824468951288673489521737728)^(1/3) + 64117210520248774846133572716513551110318337932476058027355171/(308532104497726132904056721729503219684262974806296224377864192*(142012705380288493112782678795562133859141619117070364924493294415686511933316950321338596307/16687398718132110018711107079449625895333629080911349765211262561111091607661254297054391304192 + 185*sqrt(787083150401101283662785067458787739407038443366574761482616048307172205179847215891727264555466504507742129832668309898119602067539723280377849768931229327683510481689157745375413673)/150186588463188990168399963715046633058002661728202147886901363049999824468951288673489521737728)^(1/3)) + 97589130435032497630268813797873/40564819207303340847894502572032 + 1342768920619287944896242417231181886800383707145/(365375409332725729550921208179070754913983135744*sqrt(-64117210520248774846133572716513551110318337932476058027355171/(308532104497726132904056721729503219684262974806296224377864192*(142012705380288493112782678795562133859141619117070364924493294415686511933316950321338596307/16687398718132110018711107079449625895333629080911349765211262561111091607661254297054391304192 + 185*sqrt(787083150401101283662785067458787739407038443366574761482616048307172205179847215891727264555466504507742129832668309898119602067539723280377849768931229327683510481689157745375413673)/150186588463188990168399963715046633058002661728202147886901363049999824468951288673489521737728)^(1/3)) + 2*(142012705380288493112782678795562133859141619117070364924493294415686511933316950321338596307/16687398718132110018711107079449625895333629080911349765211262561111091607661254297054391304192 + 185*sqrt(787083150401101283662785067458787739407038443366574761482616048307172205179847215891727264555466504507742129832668309898119602067539723280377849768931229327683510481689157745375413673)/150186588463188990168399963715046633058002661728202147886901363049999824468951288673489521737728)^(1/3) + 97589130435032497630268813797873/81129638414606681695789005144064)))/2 + 8656877798631013/18014398509481984 + sqrt(-64117210520248774846133572716513551110318337932476058027355171/(308532104497726132904056721729503219684262974806296224377864192*(142012705380288493112782678795562133859141619117070364924493294415686511933316950321338596307/16687398718132110018711107079449625895333629080911349765211262561111091607661254297054391304192 + 185*sqrt(787083150401101283662785067458787739407038443366574761482616048307172205179847215891727264555466504507742129832668309898119602067539723280377849768931229327683510481689157745375413673)/150186588463188990168399963715046633058002661728202147886901363049999824468951288673489521737728)^(1/3)) + 2*(142012705380288493112782678795562133859141619117070364924493294415686511933316950321338596307/16687398718132110018711107079449625895333629080911349765211262561111091607661254297054391304192 + 185*sqrt(787083150401101283662785067458787739407038443366574761482616048307172205179847215891727264555466504507742129832668309898119602067539723280377849768931229327683510481689157745375413673)/150186588463188990168399963715046633058002661728202147886901363049999824468951288673489521737728)^(1/3) + 97589130435032497630268813797873/81129638414606681695789005144064)/2"
      ]
     },
     "execution_count": 34,
     "metadata": {},
     "output_type": "execute_result"
    }
   ],
   "source": [
    "λ=solve(p(x),x)"
   ]
  },
  {
   "cell_type": "code",
   "execution_count": 35,
   "metadata": {},
   "outputs": [
    {
     "data": {
      "text/plain": [
       "4"
      ]
     },
     "execution_count": 35,
     "metadata": {},
     "output_type": "execute_result"
    }
   ],
   "source": [
    "length(λ)"
   ]
  },
  {
   "cell_type": "markdown",
   "metadata": {},
   "source": [
    "### Example - Circulant matrix\n",
    "\n",
    "For more details, see \n",
    "[A. B&ouml;ttcher and I. Spitkovsky, Special Types of Matrices][BoSp14] and the references therein.\n",
    "\n",
    "[BoSp14]: #1 \"L. Hogben, ed., 'Handbook of Linear Algebra', pp. 22.1-22.20, CRC Press, Boca Raton, 2014.\"\n",
    "\n",
    "Given $a_0,a_1,\\ldots,a_{n-1}\\in \\mathbb{C}$, the __circulant matrix__ is\n",
    "\n",
    "$$\n",
    "C(a_0,a_1,\\ldots,a_{n-1})=\\begin{bmatrix}\n",
    "a_0 & a_{n-1} & a_{n-2} & \\cdots & a_{1} \\\\\n",
    "a_1 & a_0 & a_{n-1} & \\cdots & a_{2} \\\\\n",
    "a_2 & a_1 & a_{0} & \\cdots & a_{3} \\\\\n",
    "\\vdots & \\vdots & \\vdots & \\ddots & \\vdots \\\\\n",
    "a_{n-1} & a_{n-2} & a_{n-3} & \\cdots & a_{0}\n",
    "\\end{bmatrix}.\n",
    "$$\n",
    "\n",
    "Let $a(z)=a_0+a_1z+a_2z^2+\\cdots +a_{n-1}z^{n-1}$ be the associated complex polynomial.\n",
    "\n",
    "Let $\\omega_n=\\exp\\big(\\displaystyle\\frac{2\\pi i}{n}\\big)$. The __Fourier matrix__ of order $n$ is\n",
    "\n",
    "$$\n",
    "F_n=\\frac{1}{\\sqrt{n}} \\bigg[ \\omega_n^{(j-1)(k-1)}\\bigg]_{j,k=1}^n=\n",
    "\\frac{1}{\\sqrt{n}} \\begin{bmatrix} \n",
    "1 & 1 & \\cdots & 1 \\\\\n",
    "1& \\omega_n & \\omega_n^2 & \\cdots \\omega_n^{n-1} \\\\\n",
    "1& \\omega_n^2 & \\omega_n^4 & \\cdots \\omega_n^{2(n-1)} \\\\\n",
    "\\vdots & \\vdots & \\ddots & \\vdots \\\\\n",
    "1& \\omega_n^{n-1} & \\omega_n^{2(n-1)} & \\cdots \\omega_n^{(n-1)(n-1)}\n",
    "\\end{bmatrix}.\n",
    "$$\n",
    "\n",
    "Fourier matrix is unitary. \n",
    "Fourier matrix is a Vandermonde matrix, $F_n=\\displaystyle\\frac{1}{\\sqrt{n}} V(1,\\omega_n,\\omega_n^2,\\ldots, \\omega_n^{n-1})$.\n",
    "\n",
    "Circulant matrix is normal and, thus, unitarily diagonalizable, with the eigenvalue decomposition\n",
    "\n",
    "$$\n",
    "C(a_0,a_1,\\ldots,a_{n-1})=F_n^*\\mathop{\\mathrm{diag}}[(a(1),a(\\omega_n),a(\\omega_n^2),\\ldots, \n",
    "a(\\omega_n^{n-1})]F_n.\n",
    "$$\n",
    "\n",
    "We shall use the package [SpecialMatrices.jl](https://github.com/jiahao/SpecialMatrices.jl)."
   ]
  },
  {
   "cell_type": "code",
   "execution_count": 36,
   "metadata": {},
   "outputs": [],
   "source": [
    "using SpecialMatrices\n",
    "using Polynomials"
   ]
  },
  {
   "cell_type": "code",
   "execution_count": 37,
   "metadata": {},
   "outputs": [
    {
     "name": "stdout",
     "output_type": "stream",
     "text": [
      "                        Cauchy     40 bytes  UnionAll\n",
      "                     Circulant     40 bytes  UnionAll\n",
      "                     Companion     40 bytes  UnionAll\n",
      "                     Frobenius     40 bytes  UnionAll\n",
      "                        Hankel     40 bytes  UnionAll\n",
      "                       Hilbert     40 bytes  UnionAll\n",
      "                         Kahan     80 bytes  UnionAll\n",
      "                       Riemann     40 bytes  UnionAll\n",
      "               SpecialMatrices   6671 bytes  Module\n",
      "                        Strang     40 bytes  UnionAll\n",
      "                      Toeplitz     40 bytes  UnionAll\n",
      "                   Vandermonde     40 bytes  UnionAll\n",
      "                         embed      0 bytes  SpecialMatrices.#embed\n"
     ]
    }
   ],
   "source": [
    "whos(SpecialMatrices)"
   ]
  },
  {
   "cell_type": "code",
   "execution_count": 38,
   "metadata": {},
   "outputs": [
    {
     "data": {
      "text/plain": [
       "6-element Array{Int64,1}:\n",
       " -2\n",
       "  0\n",
       "  6\n",
       " -3\n",
       "  3\n",
       "  5"
      ]
     },
     "execution_count": 38,
     "metadata": {},
     "output_type": "execute_result"
    }
   ],
   "source": [
    "n=6\n",
    "a=rand(-9:9,n)"
   ]
  },
  {
   "cell_type": "code",
   "execution_count": 39,
   "metadata": {},
   "outputs": [
    {
     "data": {
      "text/plain": [
       "6×6 SpecialMatrices.Circulant{Int64}:\n",
       " -2   5   3  -3   6   0\n",
       "  0  -2   5   3  -3   6\n",
       "  6   0  -2   5   3  -3\n",
       " -3   6   0  -2   5   3\n",
       "  3  -3   6   0  -2   5\n",
       "  5   3  -3   6   0  -2"
      ]
     },
     "execution_count": 39,
     "metadata": {},
     "output_type": "execute_result"
    }
   ],
   "source": [
    "C=Circulant(a)"
   ]
  },
  {
   "cell_type": "code",
   "execution_count": 40,
   "metadata": {},
   "outputs": [
    {
     "data": {
      "text/plain": [
       "6×6 Array{Int64,2}:\n",
       " 0  0  0  0  0  0\n",
       " 0  0  0  0  0  0\n",
       " 0  0  0  0  0  0\n",
       " 0  0  0  0  0  0\n",
       " 0  0  0  0  0  0\n",
       " 0  0  0  0  0  0"
      ]
     },
     "execution_count": 40,
     "metadata": {},
     "output_type": "execute_result"
    }
   ],
   "source": [
    "# Check for normality\n",
    "full(C)*full(C)'-full(C)'*full(C)"
   ]
  },
  {
   "cell_type": "code",
   "execution_count": 41,
   "metadata": {},
   "outputs": [
    {
     "data": {
      "text/html": [
       "&#45;2 &#43; 6&#8729;x^2 &#45; 3&#8729;x^3 &#43; 3&#8729;x^4 &#43; 5&#8729;x^5"
      ],
      "text/plain": [
       "Poly(-2 + 6*x^2 - 3*x^3 + 3*x^4 + 5*x^5)"
      ]
     },
     "execution_count": 41,
     "metadata": {},
     "output_type": "execute_result"
    }
   ],
   "source": [
    "p1=Polynomials.Poly(a)"
   ]
  },
  {
   "cell_type": "code",
   "execution_count": 42,
   "metadata": {},
   "outputs": [
    {
     "data": {
      "text/html": [
       "0.5000000000000001 + 0.8660254037844386im"
      ],
      "text/plain": [
       "0.5000000000000001 + 0.8660254037844386im"
      ]
     },
     "execution_count": 42,
     "metadata": {},
     "output_type": "execute_result"
    }
   ],
   "source": [
    "ω=exp(2*π*im/n)"
   ]
  },
  {
   "cell_type": "code",
   "execution_count": 43,
   "metadata": {},
   "outputs": [
    {
     "data": {
      "text/plain": [
       "6×6 SpecialMatrices.Vandermonde{Complex{Float64}}:\n",
       " 1.0+0.0im   1.0+0.0im           1.0+0.0im          …   1.0+0.0im        \n",
       " 1.0+0.0im   0.5+0.866025im     -0.5+0.866025im         0.5-0.866025im   \n",
       " 1.0+0.0im  -0.5+0.866025im     -0.5-0.866025im        -0.5-0.866025im   \n",
       " 1.0+0.0im  -1.0+3.88578e-16im   1.0-7.77156e-16im     -1.0+1.94289e-15im\n",
       " 1.0+0.0im  -0.5-0.866025im     -0.5+0.866025im        -0.5+0.866025im   \n",
       " 1.0+0.0im   0.5-0.866025im     -0.5-0.866025im     …   0.5+0.866025im   "
      ]
     },
     "execution_count": 43,
     "metadata": {},
     "output_type": "execute_result"
    }
   ],
   "source": [
    "v=map(Complex,[ω^k for k=0:n-1])\n",
    "F=Vandermonde(v)"
   ]
  },
  {
   "cell_type": "code",
   "execution_count": 44,
   "metadata": {},
   "outputs": [
    {
     "data": {
      "text/plain": [
       "6×6 Array{Complex{Float64},2}:\n",
       "          9.0+0.0im          …   5.55112e-15-5.10703e-15im\n",
       " -1.22125e-15-1.02904e-18im     -9.99201e-16+2.22045e-16im\n",
       " -1.02827e-15+1.33227e-15im     -1.51334e-15+5.05199e-15im\n",
       "  2.22045e-16+1.7486e-15im      -1.94749e-15-1.33227e-15im\n",
       "  8.19498e-16+3.55271e-15im       8.6254e-15-1.71901e-15im\n",
       "  5.10703e-15+4.95572e-15im  …          -1.0+1.73205im    "
      ]
     },
     "execution_count": 44,
     "metadata": {},
     "output_type": "execute_result"
    }
   ],
   "source": [
    "Fn=full(F)/sqrt(n)\n",
    "Λ=Fn*full(C)*Fn'"
   ]
  },
  {
   "cell_type": "code",
   "execution_count": 45,
   "metadata": {},
   "outputs": [
    {
     "data": {
      "text/plain": [
       "6×3 Array{Complex{Float64},2}:\n",
       "   9.0+0.0im        9.0+0.0im          -12.0+6.9282im \n",
       "  -1.0-1.73205im   -1.0-1.73205im      -12.0-6.9282im \n",
       " -12.0-6.9282im   -12.0-6.9282im         9.0+0.0im    \n",
       "   5.0+0.0im        5.0-3.10862e-15im    5.0+0.0im    \n",
       " -12.0+6.9282im   -12.0+6.9282im        -1.0+1.73205im\n",
       "  -1.0+1.73205im   -1.0+1.73205im       -1.0-1.73205im"
      ]
     },
     "execution_count": 45,
     "metadata": {},
     "output_type": "execute_result"
    }
   ],
   "source": [
    "[diag(Λ) p1(v) eigvals(full(C))]"
   ]
  },
  {
   "cell_type": "markdown",
   "metadata": {},
   "source": [
    "\n",
    "## Hermitian and real symmetric matrices\n",
    "\n",
    "For more details and the proofs of the Facts below, see \n",
    "[W. Barrett, Hermitian and Positive Definite Matrices][Bar14] and the references therein.\n",
    "\n",
    "[Bar14]: #1 \"L. Hogben, ed., 'Handbook of Linear Algebra', pp. 9.1-9.13, CRC Press, Boca Raton, 2014.\"\n",
    "\n",
    "### Definitions\n",
    "\n",
    "Matrix $A\\in \\mathbb{C}^{n\\times n}$ is __Hermitian__ or __self-adjoint__ if $A^*=A$, \n",
    "or element-wise, $\\bar a_{ij}=a_{ji}$. We say $A\\in\\mathcal{H}_n$.\n",
    "\n",
    "Matrix $A\\in \\mathbb{R}^{n\\times n}$ is __symmetric__ if $A^T=A$, or element-wise, $a_{ij}=a_{ji}$.\n",
    "We say $A\\in\\mathcal{S}_n$.\n",
    "\n",
    "__Rayleigh qoutient__ of $A\\in\\mathcal{H}_n$ and nonzero vector $x\\in\\mathbb{C}^n$ is\n",
    "\n",
    "$$\n",
    "R_A(x)=\\frac{x^*Ax}{x^*x}.\n",
    "$$\n",
    "\n",
    "Matrices $A,B \\in\\mathcal{H}_n$ are __congruent__ if there exists nonsingular matrix $C$ such that \n",
    "$B=C^*AC$.\n",
    "\n",
    "__Inertia__ of $A\\in\\mathcal{H}_n$ is the ordered triple \n",
    "$$\\mathop{\\mathrm{in}}(A)=(\\pi(A),\\nu(A),\\zeta(A)),$$\n",
    "\n",
    "where $\\pi(A)$ is the number of positive eigenvalues of $A$,  $\\nu(A)$ is the number of negative eigenvalues of $A$,\n",
    "and $\\zeta(A)$ is the number of zero eigenvalues of $A$.\n",
    "\n",
    "__Gram matrix__ of a set of vectors $x_1,x_2,\\ldots,x_k\\in\\mathbb{C}^{n}$ is the matrix $G$ with entries $G_{ij}=x_i^*x_j$. "
   ]
  },
  {
   "cell_type": "markdown",
   "metadata": {},
   "source": [
    "### Facts\n",
    "\n",
    "Assume $A$ is Hermitian and $x\\in\\mathbb{C}^n$ is nonzero. Then\n",
    "\n",
    "1. Real symmetric matrix is Hermitian, and real Hermitian matrix is symmetric.\n",
    "2. Hermitian and real symmetric matrices are normal.\n",
    "2. $A+A^*$, $A^*A$, and $AA^*$ are Hermitian.\n",
    "3. If $A$ is nonsingular, $A^{-1}$ is Hermitian.\n",
    "4. Main diagonal entries of $A$ are real.\n",
    "5. Matrix $T$ from the Schur decomposition of $A$ is Hermitian. Consequently:\n",
    "    * $T$ is diagonal and real, and has eigenvalues of $A$ on diagonal,\n",
    "    * matrix $Q$ of the Schur decomposition is the unitary matrix of eigenvectors,\n",
    "    * all eigenvalues of $A$ are semisimple and $A$ is nondefective,\n",
    "    * eigenvectors corresponding to distinct eigenvalues are orthogonal.\n",
    "6. To summarize _(Spectral Theorem)_:\n",
    "    * if $A\\in\\mathcal{H}_n$, there is a unitary matrix $U$ and real diagonal matrix $\\Lambda$ such that \n",
    "    $A=U\\Lambda U^*$. The diagonal entries of $\\Lambda$ are the eigenvalues of $A$, and the \n",
    "    columns of $U$ are the corresponding eigenvectors.\n",
    "    * if $A\\in\\mathcal{S}_n$, the same holds with orthogonal matrix $U$, $A=U\\Lambda U^T$.\n",
    "    * if $A\\in\\mathcal{H}_n$ with eigenpairs $(\\lambda_i,u_i)$, then\n",
    "    $$ A=\\lambda_1u_1u_1^*+\\lambda_2 u_2u_2^* +\\cdots +\\lambda_n u_nu_n^*.$$\n",
    "    * similarly, if  $A\\in\\mathcal{S}_n$, then\n",
    "    $$ A=\\lambda_1u_1u_1^T+\\lambda_2 u_2u_2^T +\\cdots +\\lambda_n u_nu_n^T.$$\n",
    "\n",
    "7. Since all eigenvalues of $A$ are real, they can be ordered:\n",
    "$$\\lambda_1\\geq \\lambda_2\\geq \\cdots \\geq \\lambda_n.$$\n",
    "8. _(Rayleigh-Ritz Theorem)_ It holds:\n",
    "\\begin{align*}\n",
    "\\lambda_n &\\leq \\frac{x^*Ax}{x^*x} \\leq \\lambda_1, \\\\\n",
    "\\lambda_1&=\\max_x\\frac{x^*Ax}{x^*x} =\\max_{\\|x\\|_2=1} x^*Ax, \\\\\n",
    "\\lambda_n&=\\min_x\\frac{x^*Ax}{x^*x} =\\min_{\\|x\\|_2=1} x^*Ax.\n",
    "\\end{align*}\n",
    "\n",
    "8. _(Courant-Fischer Theorem)_ Iz holds:\n",
    "\\begin{align*}\n",
    "\\lambda_k& =\\max_{\\dim(W)=k}\\min_{x\\in W} \\frac{x^*Ax}{x^*x}\\\\\n",
    "& =\\min_{\\dim(W)=n-k+1}\\max_{x\\in W} \\frac{x^*Ax}{x^*x}.\n",
    "\\end{align*} \n",
    "\n",
    "10. _(Cauchy Interlace Theorem)_ Let $B$ be the principal submatrix of $A$ obtained by deleting the $i$-th row and the $i$-th column of $A$. Let $\\mu_1\\geq \\mu_2\\geq \\cdots \\geq \\mu_{n-1}$ be the eignvalues of $B$. Then\n",
    "$$\n",
    "\\lambda_1\\geq \\mu_1\\geq \\lambda_2\\geq \\mu_2\\geq \\lambda_3\\geq\\cdots\\geq \\lambda_{n-1}\\geq\\mu_{n-1}\\geq\\lambda_n.\n",
    "$$\n",
    "\n",
    "9. _(Weyl Inequalities)_ For $A,B\\in\\mathcal{H}_n$, it holds:\n",
    "\\begin{align*}\n",
    "   \\lambda_{j+k-1}(A+B)& \\leq \\lambda_j(A)+\\lambda_k(B), & \\textrm{for} \\ j+k\\leq n+1,\\\\\n",
    "   \\lambda_{j+k-n}(A+B)& \\geq \\lambda_j(A)+\\lambda_k(B), & \\textrm{for} \\ j+k\\geq n+1,\n",
    "\\end{align*}\n",
    "and, in particular, \n",
    "$$\n",
    "\\lambda_j(A)+\\lambda_n(B) \\leq \\lambda_j(A+B) \\leq \\lambda_j(A)+\\lambda_1(B),\\quad \\textrm{for} \\ j=1,2,\\ldots,n.\n",
    "$$\n",
    "\n",
    "11. $\\pi(A)+\\mu(A)+\\zeta(A)=n$.\n",
    "\n",
    "12. $\\mathop{\\mathrm{rank}}(A)=\\pi(A)+\\mu(A)$.\n",
    "\n",
    "13. If $A$ is nonsingular, $\\mathop{\\mathrm{in}}(A)=\\mathop{\\mathrm{in}}(A^{-1})$.\n",
    "\n",
    "13. If $A,B \\in\\mathcal{H}_n$ are similar,  $\\mathop{\\mathrm{in}}(A)=\\mathop{\\mathrm{in}}(B)$.\n",
    "\n",
    "14. _(Sylvester's Law of Inertia)_ $A,B \\in\\mathcal{H}_n$ are congruent if and only if $\\mathop{\\mathrm{in}}(A)=\\mathop{\\mathrm{in}}(B)$.\n",
    "\n",
    "15. _(Subadditivity of Inertia)_ For $A,B \\in\\mathcal{H}_n$, \n",
    "$$\n",
    "\\pi(A+B)\\leq \\pi(A)+\\pi(B), \\qquad \\nu(A+B)\\leq \\nu(A)+\\nu(B).\n",
    "$$\n",
    "\n",
    "16. Gram matrix is Hermitian."
   ]
  },
  {
   "cell_type": "markdown",
   "metadata": {},
   "source": [
    "### Example - Hermitian matrix"
   ]
  },
  {
   "cell_type": "code",
   "execution_count": 46,
   "metadata": {},
   "outputs": [
    {
     "data": {
      "text/plain": [
       "4×4 Array{Complex{Float64},2}:\n",
       " 0.175006+0.0im        1.11516+0.657242im  …    1.7725-0.36993im \n",
       "  1.11516-0.657242im   0.61824+0.0im           1.41848+0.270531im\n",
       "  1.11377+0.19234im   0.645817-0.529582im     0.802366-0.301999im\n",
       "   1.7725+0.36993im    1.41848-0.270531im     0.332017+0.0im     "
      ]
     },
     "execution_count": 46,
     "metadata": {},
     "output_type": "execute_result"
    }
   ],
   "source": [
    "# Generating Hermitian matrix\n",
    "n=4\n",
    "A=rand(n,n)+im*rand(n,n)\n",
    "A=A+A'"
   ]
  },
  {
   "cell_type": "code",
   "execution_count": 47,
   "metadata": {},
   "outputs": [
    {
     "data": {
      "text/html": [
       "true"
      ],
      "text/plain": [
       "true"
      ]
     },
     "execution_count": 47,
     "metadata": {},
     "output_type": "execute_result"
    }
   ],
   "source": [
    "ishermitian(A)"
   ]
  },
  {
   "cell_type": "code",
   "execution_count": 48,
   "metadata": {},
   "outputs": [
    {
     "data": {
      "text/plain": [
       "4-element Array{Complex{Float64},1}:\n",
       " 0.175006+0.0im\n",
       "  0.61824+0.0im\n",
       " 0.735742+0.0im\n",
       " 0.332017+0.0im"
      ]
     },
     "execution_count": 48,
     "metadata": {},
     "output_type": "execute_result"
    }
   ],
   "source": [
    "# Diagonal entries\n",
    "diag(A)"
   ]
  },
  {
   "cell_type": "code",
   "execution_count": 49,
   "metadata": {},
   "outputs": [
    {
     "data": {
      "text/plain": [
       "(Complex{Float64}[3.97417-1.1106e-16im 7.59684e-17+3.1225e-16im -4.48192e-16-2.82466e-16im -6.37384e-17+2.6932e-17im; 0.0+0.0im -2.06705+2.96449e-17im 2.49796e-16-1.65043e-16im -3.79183e-17+2.44232e-16im; 0.0+0.0im 0.0+0.0im 0.474706+1.03561e-16im -1.72312e-16+1.45932e-16im; 0.0+0.0im 0.0+0.0im 0.0+0.0im -0.520821+8.88759e-17im], Complex{Float64}[-0.520795+1.42362e-16im 1.46624e-16-0.668566im 0.41055+1.98941e-9im 0.336512-2.67327e-14im; -0.496457-0.0033196im 0.433654+0.0378288im -0.210745-0.530252im -0.43606-0.219784im; -0.417026+0.0927732im -0.117771+0.169192im -0.0914455+0.704095im -0.197692-0.481448im; -0.546613-0.0314547im -0.303074+0.478731im -0.00486797-0.0416163im 0.111106+0.604225im], Complex{Float64}[3.97417-1.1106e-16im, -2.06705+2.96449e-17im, 0.474706+1.03561e-16im, -0.520821+8.88759e-17im])"
      ]
     },
     "execution_count": 49,
     "metadata": {},
     "output_type": "execute_result"
    }
   ],
   "source": [
    "# Schur decomposition\n",
    "T,Q=schur(A)"
   ]
  },
  {
   "cell_type": "code",
   "execution_count": 50,
   "metadata": {},
   "outputs": [
    {
     "data": {
      "text/plain": [
       "([-2.06705, -0.520821, 0.474706, 3.97417], Complex{Float64}[-0.564883+0.357615im -0.0608582+0.330964im 0.0476979-0.40777im -0.519935+0.0299195im; -0.199998-0.386636im 0.295021-0.389121im -0.551145+0.147713im -0.495827+0.0252071im; 0.205948+0.00900597im 0.509262-0.107363im 0.688703+0.172628im -0.411007+0.116578im; 0.566601+0.0im -0.614355-0.0im -0.0419001-0.0im -0.547517-0.0im])"
      ]
     },
     "execution_count": 50,
     "metadata": {},
     "output_type": "execute_result"
    }
   ],
   "source": [
    "λ,U=eig(A)"
   ]
  },
  {
   "cell_type": "code",
   "execution_count": 51,
   "metadata": {},
   "outputs": [
    {
     "data": {
      "text/html": [
       "9.359483730626927e-15"
      ],
      "text/plain": [
       "9.359483730626927e-15"
      ]
     },
     "execution_count": 51,
     "metadata": {},
     "output_type": "execute_result"
    }
   ],
   "source": [
    "# Spectral theorem\n",
    "norm(A-U*diagm(λ)*U')"
   ]
  },
  {
   "cell_type": "code",
   "execution_count": 52,
   "metadata": {},
   "outputs": [
    {
     "data": {
      "text/plain": [
       "4×4 Array{Complex{Float64},2}:\n",
       " -4.55191e-15+6.93889e-18im  …   4.44089e-16+0.0im        \n",
       "   1.9984e-15-2.88658e-15im      4.44089e-16+1.11022e-16im\n",
       "  2.88658e-15+1.58207e-15im      3.33067e-16-1.11022e-16im\n",
       "  4.44089e-16+5.55112e-17im     -1.11022e-15+0.0im        "
      ]
     },
     "execution_count": 52,
     "metadata": {},
     "output_type": "execute_result"
    }
   ],
   "source": [
    "# Spectral theorem\n",
    "A-sum([λ[i]*U[:,i]*U[:,i]' for i=1:n])"
   ]
  },
  {
   "cell_type": "code",
   "execution_count": 53,
   "metadata": {},
   "outputs": [
    {
     "data": {
      "text/plain": [
       "4-element Array{Float64,1}:\n",
       " -2.06705 \n",
       " -0.520821\n",
       "  0.474706\n",
       "  3.97417 "
      ]
     },
     "execution_count": 53,
     "metadata": {},
     "output_type": "execute_result"
    }
   ],
   "source": [
    "λ"
   ]
  },
  {
   "cell_type": "code",
   "execution_count": 54,
   "metadata": {},
   "outputs": [
    {
     "name": "stdout",
     "output_type": "stream",
     "text": [
      "i = rand(1:n) = 3\n"
     ]
    },
    {
     "data": {
      "text/plain": [
       "3-element Array{Float64,1}:\n",
       " -1.96694 \n",
       " -0.179044\n",
       "  3.27125 "
      ]
     },
     "execution_count": 54,
     "metadata": {},
     "output_type": "execute_result"
    }
   ],
   "source": [
    "# Cauchy Interlace Theorem (repeat several times)\n",
    "@show i=rand(1:n)\n",
    "μ=eigvals(A[[1:i-1;i+1:n],[1:i-1;i+1:n]])"
   ]
  },
  {
   "cell_type": "code",
   "execution_count": 55,
   "metadata": {},
   "outputs": [
    {
     "data": {
      "text/plain": [
       "inertia (generic function with 1 method)"
      ]
     },
     "execution_count": 55,
     "metadata": {},
     "output_type": "execute_result"
    }
   ],
   "source": [
    "# Inertia\n",
    "inertia(A)=[sum(eigvals(A).>0), sum(eigvals(A).<0), sum(eigvals(A).==0)]"
   ]
  },
  {
   "cell_type": "code",
   "execution_count": 56,
   "metadata": {},
   "outputs": [
    {
     "data": {
      "text/plain": [
       "3-element Array{Int64,1}:\n",
       " 2\n",
       " 2\n",
       " 0"
      ]
     },
     "execution_count": 56,
     "metadata": {},
     "output_type": "execute_result"
    }
   ],
   "source": [
    "inertia(A)"
   ]
  },
  {
   "cell_type": "code",
   "execution_count": 57,
   "metadata": {},
   "outputs": [
    {
     "data": {
      "text/plain": [
       "4-element Array{Complex{Float64},1}:\n",
       "   3.97417-3.61283e-15im\n",
       "  -2.06705+1.57799e-15im\n",
       "  0.474706+3.21583e-15im\n",
       " -0.520821-7.84798e-16im"
      ]
     },
     "execution_count": 57,
     "metadata": {},
     "output_type": "execute_result"
    }
   ],
   "source": [
    "# Similar matrices\n",
    "C=rand(n,n)+im*rand(n,n)\n",
    "B=C*A*inv(C)\n",
    "eigvals(B)"
   ]
  },
  {
   "cell_type": "markdown",
   "metadata": {},
   "source": [
    "This did not work numerically due to rounding errors!"
   ]
  },
  {
   "cell_type": "code",
   "execution_count": 58,
   "metadata": {},
   "outputs": [
    {
     "ename": "LoadError",
     "evalue": "\u001b[91mMethodError: no method matching isless(::Int64, ::Complex{Float64})\u001b[0m\nClosest candidates are:\n  isless(\u001b[91m::PyCall.PyObject\u001b[39m, ::Any) at /home/slap/.julia/v0.6/PyCall/src/pyoperators.jl:71\n  isless(\u001b[91m::SymPy.Sym\u001b[39m, ::Number) at /home/slap/.julia/v0.6/SymPy/src/logical.jl:106\n  isless(::Real, \u001b[91m::AbstractFloat\u001b[39m) at operators.jl:97\n  ...\u001b[39m",
     "output_type": "error",
     "traceback": [
      "\u001b[91mMethodError: no method matching isless(::Int64, ::Complex{Float64})\u001b[0m\nClosest candidates are:\n  isless(\u001b[91m::PyCall.PyObject\u001b[39m, ::Any) at /home/slap/.julia/v0.6/PyCall/src/pyoperators.jl:71\n  isless(\u001b[91m::SymPy.Sym\u001b[39m, ::Number) at /home/slap/.julia/v0.6/SymPy/src/logical.jl:106\n  isless(::Real, \u001b[91m::AbstractFloat\u001b[39m) at operators.jl:97\n  ...\u001b[39m",
      "",
      "Stacktrace:",
      " [1] \u001b[1m(::##5#8)\u001b[22m\u001b[22m\u001b[1m(\u001b[22m\u001b[22m::Complex{Float64}\u001b[1m)\u001b[22m\u001b[22m at \u001b[1m./<missing>:0\u001b[22m\u001b[22m",
      " [2] \u001b[1mbroadcast_t\u001b[22m\u001b[22m\u001b[1m(\u001b[22m\u001b[22m::Function, ::Type{Any}, ::Tuple{Base.OneTo{Int64}}, ::CartesianRange{CartesianIndex{1}}, ::Array{Complex{Float64},1}\u001b[1m)\u001b[22m\u001b[22m at \u001b[1m./broadcast.jl:258\u001b[22m\u001b[22m",
      " [3] \u001b[1mbroadcast_c\u001b[22m\u001b[22m at \u001b[1m./broadcast.jl:321\u001b[22m\u001b[22m [inlined]",
      " [4] \u001b[1mbroadcast\u001b[22m\u001b[22m\u001b[1m(\u001b[22m\u001b[22m::Function, ::Array{Complex{Float64},1}\u001b[1m)\u001b[22m\u001b[22m at \u001b[1m./broadcast.jl:455\u001b[22m\u001b[22m",
      " [5] \u001b[1minertia\u001b[22m\u001b[22m\u001b[1m(\u001b[22m\u001b[22m::Array{Complex{Float64},2}\u001b[1m)\u001b[22m\u001b[22m at \u001b[1m./In[55]:2\u001b[22m\u001b[22m",
      " [6] \u001b[1minclude_string\u001b[22m\u001b[22m\u001b[1m(\u001b[22m\u001b[22m::String, ::String\u001b[1m)\u001b[22m\u001b[22m at \u001b[1m./loading.jl:522\u001b[22m\u001b[22m"
     ]
    }
   ],
   "source": [
    "# Congruent matrices - this does not work either, without some preparation\n",
    "B=C'*A*C\n",
    "inertia(A)==inertia(B)"
   ]
  },
  {
   "cell_type": "code",
   "execution_count": 59,
   "metadata": {},
   "outputs": [
    {
     "data": {
      "text/plain": [
       "3-element Array{Int64,1}:\n",
       " 2\n",
       " 2\n",
       " 0"
      ]
     },
     "execution_count": 59,
     "metadata": {},
     "output_type": "execute_result"
    }
   ],
   "source": [
    "# We need to symmetrize B\n",
    "inertia((B+B')/2)"
   ]
  },
  {
   "cell_type": "code",
   "execution_count": 60,
   "metadata": {},
   "outputs": [
    {
     "name": "stdout",
     "output_type": "stream",
     "text": [
      "λ = [-2.06705, -0.520821, 0.474706, 3.97417]\n"
     ]
    },
    {
     "data": {
      "text/plain": [
       "([-0.0908422, 0.043951, 0.124584, 0.506866], [-2.04727, -0.506073, 0.541985, 4.45692])"
      ]
     },
     "execution_count": 60,
     "metadata": {},
     "output_type": "execute_result"
    }
   ],
   "source": [
    "# Weyl's Inequalities\n",
    "B=rand(n,n)+im*rand(n,n)\n",
    "B=(B+B')/10\n",
    "@show λ\n",
    "μ=eigvals(B)\n",
    "γ=eigvals(A+B)\n",
    "μ,γ"
   ]
  },
  {
   "cell_type": "code",
   "execution_count": 61,
   "metadata": {},
   "outputs": [
    {
     "name": "stdout",
     "output_type": "stream",
     "text": [
      "(j, k) = (3, 4)\n"
     ]
    },
    {
     "data": {
      "text/plain": [
       "(-0.5060729475044469, -0.6116633579741112)"
      ]
     },
     "execution_count": 61,
     "metadata": {},
     "output_type": "execute_result"
    }
   ],
   "source": [
    "# Theorem uses different order!\n",
    "j=rand(1:n)\n",
    "k=rand(1:n)\n",
    "@show j,k\n",
    "if j+k<=n+1\n",
    "    @show sort(γ,rev=true)[j+k-1], sort(λ,rev=true)[j]+sort(μ,rev=true)[k]\n",
    "end\n",
    "if j+k>=n+1\n",
    "    sort(γ,rev=true)[j+k-n], sort(λ,rev=true)[j]+sort(μ,rev=true)[k]\n",
    "end"
   ]
  },
  {
   "cell_type": "code",
   "execution_count": 62,
   "metadata": {},
   "outputs": [
    {
     "data": {
      "text/plain": [
       "4-element Array{Float64,1}:\n",
       "  3.97417 \n",
       "  0.474706\n",
       " -0.520821\n",
       " -2.06705 "
      ]
     },
     "execution_count": 62,
     "metadata": {},
     "output_type": "execute_result"
    }
   ],
   "source": [
    "sort(λ,rev=true)"
   ]
  },
  {
   "cell_type": "markdown",
   "metadata": {},
   "source": [
    "### Example - Real symmetric matrix"
   ]
  },
  {
   "cell_type": "code",
   "execution_count": 63,
   "metadata": {},
   "outputs": [
    {
     "data": {
      "text/plain": [
       "6×6 Array{Int64,2}:\n",
       "  -6  -3  -1  -11    3   7\n",
       "  -3  16   9    5   -9  10\n",
       "  -1   9  10   -5    3  -1\n",
       " -11   5  -5   16  -14   4\n",
       "   3  -9   3  -14    8   6\n",
       "   7  10  -1    4    6  -6"
      ]
     },
     "execution_count": 63,
     "metadata": {},
     "output_type": "execute_result"
    }
   ],
   "source": [
    "# Generating real symmetric matrix\n",
    "n=6\n",
    "A=rand(-9:9,n,n)\n",
    "A=A+A'"
   ]
  },
  {
   "cell_type": "code",
   "execution_count": 64,
   "metadata": {},
   "outputs": [
    {
     "data": {
      "text/html": [
       "true"
      ],
      "text/plain": [
       "true"
      ]
     },
     "execution_count": 64,
     "metadata": {},
     "output_type": "execute_result"
    }
   ],
   "source": [
    "issymmetric(A)"
   ]
  },
  {
   "cell_type": "code",
   "execution_count": 65,
   "metadata": {},
   "outputs": [
    {
     "data": {
      "text/plain": [
       "([-20.7392 -3.55271e-14 … 7.0198e-15 -1.03824e-15; 0.0 35.0551 … -5.3653e-15 -3.36847e-15; … ; 0.0 0.0 … 6.53279 4.26412e-16; 0.0 0.0 … 0.0 1.63791], [-0.52912 -0.238701 … 0.339459 -0.26234; -0.277743 0.483725 … 0.281135 -0.2056; … ; -0.326755 -0.516467 … 0.254162 0.654552; 0.660882 0.0664266 … 0.59854 0.250507], [-20.7392, 35.0551, 22.6115, -7.09809, 6.53279, 1.63791])"
      ]
     },
     "execution_count": 65,
     "metadata": {},
     "output_type": "execute_result"
    }
   ],
   "source": [
    "T,Q=schur(A)"
   ]
  },
  {
   "cell_type": "code",
   "execution_count": 66,
   "metadata": {},
   "outputs": [
    {
     "data": {
      "text/plain": [
       "6×6 Array{Float64,2}:\n",
       " -20.7392  -3.55271e-14   6.01947e-15  …   7.0198e-15   -1.03824e-15\n",
       "   0.0     35.0551       -6.23788e-15     -5.3653e-15   -3.36847e-15\n",
       "   0.0      0.0          22.6115          -1.05284e-15   3.60359e-15\n",
       "   0.0      0.0           0.0              7.81625e-16  -1.45886e-15\n",
       "   0.0      0.0           0.0              6.53279       4.26412e-16\n",
       "   0.0      0.0           0.0          …   0.0           1.63791    "
      ]
     },
     "execution_count": 66,
     "metadata": {},
     "output_type": "execute_result"
    }
   ],
   "source": [
    "T"
   ]
  },
  {
   "cell_type": "code",
   "execution_count": 67,
   "metadata": {},
   "outputs": [
    {
     "data": {
      "text/plain": [
       "6×6 Array{Float64,2}:\n",
       " -0.52912    -0.238701    0.107513   0.683696   0.339459   -0.26234 \n",
       " -0.277743    0.483725    0.657415  -0.36792    0.281135   -0.2056  \n",
       "  0.0674099  -0.0132337   0.611388   0.377824  -0.617287    0.312557\n",
       " -0.307918    0.661594   -0.33301    0.233929   0.0428889   0.547743\n",
       " -0.326755   -0.516467    0.152099  -0.332148   0.254162    0.654552\n",
       "  0.660882    0.0664266   0.220048   0.298995   0.59854     0.250507"
      ]
     },
     "execution_count": 67,
     "metadata": {},
     "output_type": "execute_result"
    }
   ],
   "source": [
    "Q"
   ]
  },
  {
   "cell_type": "code",
   "execution_count": 68,
   "metadata": {},
   "outputs": [
    {
     "data": {
      "text/plain": [
       "6-element Array{Float64,1}:\n",
       " -20.7392 \n",
       "  -7.09809\n",
       "   1.63791\n",
       "   6.53279\n",
       "  22.6115 \n",
       "  35.0551 "
      ]
     },
     "execution_count": 68,
     "metadata": {},
     "output_type": "execute_result"
    }
   ],
   "source": [
    "λ,U=eig(A)\n",
    "λ"
   ]
  },
  {
   "cell_type": "code",
   "execution_count": 69,
   "metadata": {},
   "outputs": [
    {
     "data": {
      "text/plain": [
       "6×6 Array{Float64,2}:\n",
       " -0.52912    -0.683696   0.26234    0.339459    0.107513   0.238701 \n",
       " -0.277743    0.36792    0.2056     0.281135    0.657415  -0.483725 \n",
       "  0.0674099  -0.377824  -0.312557  -0.617287    0.611388   0.0132337\n",
       " -0.307918   -0.233929  -0.547743   0.0428889  -0.33301   -0.661594 \n",
       " -0.326755    0.332148  -0.654552   0.254162    0.152099   0.516467 \n",
       "  0.660882   -0.298995  -0.250507   0.59854     0.220048  -0.0664266"
      ]
     },
     "execution_count": 69,
     "metadata": {},
     "output_type": "execute_result"
    }
   ],
   "source": [
    "U"
   ]
  },
  {
   "cell_type": "code",
   "execution_count": 70,
   "metadata": {},
   "outputs": [
    {
     "data": {
      "text/plain": [
       "6×6 Array{Float64,2}:\n",
       " -3.01981e-14   1.86517e-14  -3.63043e-14  …   1.95399e-14  -7.10543e-15\n",
       "  1.86517e-14  -2.84217e-14   1.59872e-14      0.0          -1.24345e-14\n",
       " -3.63043e-14   1.59872e-14  -5.68434e-14      5.32907e-15  -4.55191e-15\n",
       " -1.24345e-14   2.30926e-14  -1.5099e-14       3.55271e-15  -3.55271e-15\n",
       "  1.95399e-14   0.0           5.32907e-15     -1.59872e-14  -9.76996e-15\n",
       " -7.10543e-15  -1.24345e-14  -4.996e-15    …  -8.88178e-15   1.23457e-13"
      ]
     },
     "execution_count": 70,
     "metadata": {},
     "output_type": "execute_result"
    }
   ],
   "source": [
    "A-sum([λ[i]*U[:,i]*U[:,i]' for i=1:n])"
   ]
  },
  {
   "cell_type": "code",
   "execution_count": 71,
   "metadata": {},
   "outputs": [
    {
     "data": {
      "text/plain": [
       "3-element Array{Int64,1}:\n",
       " 4\n",
       " 2\n",
       " 0"
      ]
     },
     "execution_count": 71,
     "metadata": {},
     "output_type": "execute_result"
    }
   ],
   "source": [
    "inertia(A)"
   ]
  },
  {
   "cell_type": "code",
   "execution_count": 72,
   "metadata": {},
   "outputs": [
    {
     "data": {
      "text/plain": [
       "3-element Array{Int64,1}:\n",
       " 4\n",
       " 2\n",
       " 0"
      ]
     },
     "execution_count": 72,
     "metadata": {},
     "output_type": "execute_result"
    }
   ],
   "source": [
    "C=rand(n,n)\n",
    "inertia(C'*A*C)"
   ]
  },
  {
   "cell_type": "markdown",
   "metadata": {},
   "source": [
    "## Positive definite matrices\n",
    "\n",
    "These matrices are an important subset of Hermitian or real symmteric matrices.\n",
    "\n",
    "### Definitions\n",
    "\n",
    "Matrix $A\\in\\mathcal{H}_n$ is __positive definite__ (PD) if $x^*Ax>0$ for all nonzero $x\\in\\mathbb{C}^n$.\n",
    "\n",
    "Matrix $A\\in\\mathcal{H}_n$ is __positive semidefinite__ (PSD) if $x^*Ax\\geq 0$ for all nonzero $x\\in\\mathbb{C}^n$.\n",
    "\n",
    "### Facts\n",
    "\n",
    "1. $A\\in\\mathcal{S}_n$ is PD if $x^TAx>0$ for all nonzero $x\\in \\mathbb{R}^n$, and is PSD if $x^TAx\\geq 0$ for all $x\\in \\mathbb{R}^n$.\n",
    " \n",
    "2. If $A,B\\in \\mathrm{PSD}_n$, then $A+B\\in \\mathrm{PSD}_n$. If, in addition, $A\\in \\mathrm{PD}_n$, then $A+B\\in \\mathrm{PD}_n$.\n",
    "\n",
    "3. If $A\\in \\mathrm{PD}_n$, then $\\mathop{\\mathrm{tr}}(A)>0$ and $\\det(A)>0$. \n",
    "\n",
    "3. If $A\\in \\mathrm{PSD}_n$, then $\\mathop{\\mathrm{tr}}(A)\\geq 0$ and $\\det(A)\\geq 0$.\n",
    "\n",
    "4. Any principal submatrix of a PD matrix is PD. Any principal submatrix of a PSD matrix is PSD. Consequently, all minors are positive or nonnegative, respectively.\n",
    "\n",
    "5. $A\\in\\mathcal{H}_n$ is PD iff _every leading_ principal minor of $A$ is positive. $A\\in\\mathcal{H}_n$ is PSD iff\n",
    "_every_ principal minor is nonnegative.\n",
    "\n",
    "6. For $A\\in \\mathrm{PSD}_n$, there exists unique PSD $k$-th __root__, $A^{1/k}=U\\Lambda^{1/k} U^*$.\n",
    "\n",
    "7. _(Cholesky Factorization)_ $A\\in\\mathcal{H}_n$ if PD iff there is an invertible lower triangular matrix $L$ with positive diagonal entries such that $A=LL^*$.\n",
    "\n",
    "8. Gram matrix is PSD. If the vectors are linearly independent, Gram matrix is PD."
   ]
  },
  {
   "cell_type": "markdown",
   "metadata": {},
   "source": [
    "### Example - Positive definite matrix"
   ]
  },
  {
   "cell_type": "code",
   "execution_count": 73,
   "metadata": {},
   "outputs": [
    {
     "data": {
      "text/plain": [
       "5×5 Array{Complex{Float64},2}:\n",
       " 1.83633+0.0im         2.0928+0.494729im  …  2.42437+0.149122im \n",
       "  2.0928-0.494729im   3.24377+0.0im          3.56763-0.666931im \n",
       " 1.86835-0.68901im    2.84287+0.134274im     4.76557-0.447265im \n",
       " 1.67368-0.0564416im  2.13082+0.481664im     3.53916-0.0324904im\n",
       " 2.42437-0.149122im   3.56763+0.666931im     5.73632+0.0im      "
      ]
     },
     "execution_count": 73,
     "metadata": {},
     "output_type": "execute_result"
    }
   ],
   "source": [
    "# Generating positive definite matrix as a Gram matrix\n",
    "n=5\n",
    "A=rand(n,n)+im*rand(n,n)\n",
    "A=A*A'"
   ]
  },
  {
   "cell_type": "code",
   "execution_count": 74,
   "metadata": {},
   "outputs": [
    {
     "data": {
      "text/html": [
       "true"
      ],
      "text/plain": [
       "true"
      ]
     },
     "execution_count": 74,
     "metadata": {},
     "output_type": "execute_result"
    }
   ],
   "source": [
    "ishermitian(A)"
   ]
  },
  {
   "cell_type": "code",
   "execution_count": 75,
   "metadata": {},
   "outputs": [
    {
     "data": {
      "text/plain": [
       "5-element Array{Float64,1}:\n",
       "  0.0881005\n",
       "  0.159667 \n",
       "  0.665919 \n",
       "  1.44659  \n",
       " 15.8314   "
      ]
     },
     "execution_count": 75,
     "metadata": {},
     "output_type": "execute_result"
    }
   ],
   "source": [
    "eigvals(A)"
   ]
  },
  {
   "cell_type": "code",
   "execution_count": 76,
   "metadata": {},
   "outputs": [
    {
     "data": {
      "text/plain": [
       "5-element Array{Complex{Float64},1}:\n",
       "  1.83633+0.0im        \n",
       "  1.33206+1.11022e-16im\n",
       "  2.45674+5.00537e-16im\n",
       " 0.990398+6.02389e-16im\n",
       " 0.214526+1.95767e-16im"
      ]
     },
     "execution_count": 76,
     "metadata": {},
     "output_type": "execute_result"
    }
   ],
   "source": [
    "# Positivity of principal leading minors\n",
    "[det(A[1:i,1:i]) for i=1:n]"
   ]
  },
  {
   "cell_type": "code",
   "execution_count": 77,
   "metadata": {},
   "outputs": [
    {
     "data": {
      "text/plain": [
       "5×5 Array{Complex{Float64},2}:\n",
       " 8.88178e-16+1.11022e-16im  …  1.77636e-15+4.44089e-16im\n",
       " 8.88178e-16-5.55112e-17im     2.22045e-15-4.44089e-16im\n",
       " 1.33227e-15-5.55112e-16im     2.66454e-15-9.99201e-16im\n",
       " 8.88178e-16-7.07767e-16im     4.44089e-16+2.77556e-16im\n",
       " 1.33227e-15-3.60822e-16im     3.55271e-15-2.77556e-17im"
      ]
     },
     "execution_count": 77,
     "metadata": {},
     "output_type": "execute_result"
    }
   ],
   "source": [
    "# Square root\n",
    "λ,U=eig(A)\n",
    "Ar=U*diagm(sqrt.(λ))*U'\n",
    "A-Ar*Ar"
   ]
  },
  {
   "cell_type": "code",
   "execution_count": 78,
   "metadata": {},
   "outputs": [
    {
     "data": {
      "text/plain": [
       "5×5 UpperTriangular{Complex{Float64},Array{Complex{Float64},2}}:\n",
       " 1.35511+0.0im  1.54437+0.365083im  …   1.78906+0.110044im  \n",
       "         ⋅       0.8517+0.0im          0.897592-0.215716im  \n",
       "         ⋅              ⋅               1.16429+0.00427023im\n",
       "         ⋅              ⋅              0.120929-0.290623im  \n",
       "         ⋅              ⋅              0.465409+0.0im       "
      ]
     },
     "execution_count": 78,
     "metadata": {},
     "output_type": "execute_result"
    }
   ],
   "source": [
    "# Cholesky factorization - the upper triangular factor is returned\n",
    "L=chol(A)"
   ]
  },
  {
   "cell_type": "code",
   "execution_count": 79,
   "metadata": {},
   "outputs": [
    {
     "data": {
      "text/html": [
       "1.0031043987764443e-15"
      ],
      "text/plain": [
       "1.0031043987764443e-15"
      ]
     },
     "execution_count": 79,
     "metadata": {},
     "output_type": "execute_result"
    }
   ],
   "source": [
    "norm(A-L'*L)"
   ]
  },
  {
   "cell_type": "markdown",
   "metadata": {},
   "source": [
    "### Example - Positive semidefinite matrix"
   ]
  },
  {
   "cell_type": "code",
   "execution_count": 80,
   "metadata": {},
   "outputs": [
    {
     "data": {
      "text/plain": [
       "6×4 Array{Int64,2}:\n",
       "  6   5   5   2\n",
       "  0   6   6  -3\n",
       "  3  -9   1   6\n",
       " -2   6  -8   3\n",
       " -7  -4  -5   3\n",
       "  6   5  -1  -1"
      ]
     },
     "execution_count": 80,
     "metadata": {},
     "output_type": "execute_result"
    }
   ],
   "source": [
    "# Generating positive semidefinite matrix as a Gram matrix, try it several times\n",
    "n=6\n",
    "m=4\n",
    "A=rand(-9:9,n,m)"
   ]
  },
  {
   "cell_type": "code",
   "execution_count": 81,
   "metadata": {},
   "outputs": [
    {
     "data": {
      "text/plain": [
       "6×6 Array{Int64,2}:\n",
       "  90   54  -10  -16  -81   54\n",
       "  54   81  -66  -21  -63   27\n",
       " -10  -66  127  -50   28  -34\n",
       " -16  -21  -50  113   39   23\n",
       " -81  -63   28   39   99  -60\n",
       "  54   27  -34   23  -60   63"
      ]
     },
     "execution_count": 81,
     "metadata": {},
     "output_type": "execute_result"
    }
   ],
   "source": [
    "A=A*A'"
   ]
  },
  {
   "cell_type": "code",
   "execution_count": 82,
   "metadata": {},
   "outputs": [
    {
     "data": {
      "text/plain": [
       "6-element Array{Float64,1}:\n",
       "   8.85451e-15\n",
       "   3.37781e-14\n",
       "  22.3934     \n",
       "  85.4559     \n",
       " 177.756      \n",
       " 287.394      "
      ]
     },
     "execution_count": 82,
     "metadata": {},
     "output_type": "execute_result"
    }
   ],
   "source": [
    "# There are rounding errors!\n",
    "eigvals(A)"
   ]
  },
  {
   "cell_type": "code",
   "execution_count": 83,
   "metadata": {},
   "outputs": [
    {
     "data": {
      "text/html": [
       "rank(A::<b>AbstractArray{T,2} where T</b>) at <a href=\"https://github.com/JuliaLang/julia/tree/d386e40c17d43b79fc89d3e579fc04547241787c/base/linalg/generic.jl#L723\" target=\"_blank\">linalg/generic.jl:723</a>"
      ],
      "text/plain": [
       "rank(A::AbstractArray{T,2} where T) in Base.LinAlg at linalg/generic.jl:723"
      ]
     },
     "execution_count": 83,
     "metadata": {},
     "output_type": "execute_result"
    }
   ],
   "source": [
    "@which rank(A)"
   ]
  },
  {
   "cell_type": "code",
   "execution_count": 84,
   "metadata": {},
   "outputs": [
    {
     "ename": "LoadError",
     "evalue": "\u001b[91mBase.LinAlg.PosDefException(5)\u001b[39m",
     "output_type": "error",
     "traceback": [
      "\u001b[91mBase.LinAlg.PosDefException(5)\u001b[39m",
      "",
      "Stacktrace:",
      " [1] \u001b[1m_chol!\u001b[22m\u001b[22m\u001b[1m(\u001b[22m\u001b[22m::Array{Float64,2}, ::Type{UpperTriangular}\u001b[1m)\u001b[22m\u001b[22m at \u001b[1m./linalg/cholesky.jl:55\u001b[22m\u001b[22m",
      " [2] \u001b[1mchol!\u001b[22m\u001b[22m\u001b[1m(\u001b[22m\u001b[22m::Hermitian{Float64,Array{Float64,2}}\u001b[1m)\u001b[22m\u001b[22m at \u001b[1m./linalg/cholesky.jl:124\u001b[22m\u001b[22m",
      " [3] \u001b[1mchol\u001b[22m\u001b[22m\u001b[1m(\u001b[22m\u001b[22m::Hermitian{Int64,Array{Int64,2}}\u001b[1m)\u001b[22m\u001b[22m at \u001b[1m./linalg/cholesky.jl:145\u001b[22m\u001b[22m",
      " [4] \u001b[1mchol\u001b[22m\u001b[22m\u001b[1m(\u001b[22m\u001b[22m::Array{Int64,2}\u001b[1m)\u001b[22m\u001b[22m at \u001b[1m./linalg/cholesky.jl:186\u001b[22m\u001b[22m",
      " [5] \u001b[1minclude_string\u001b[22m\u001b[22m\u001b[1m(\u001b[22m\u001b[22m::String, ::String\u001b[1m)\u001b[22m\u001b[22m at \u001b[1m./loading.jl:522\u001b[22m\u001b[22m"
     ]
    }
   ],
   "source": [
    "# Cholesky factorization - this can fail\n",
    "L=chol(A)"
   ]
  },
  {
   "cell_type": "markdown",
   "metadata": {},
   "source": [
    "### Example - Covariance and correlation matrices \n",
    "\n",
    "[Covariance and correlation matrices](https://en.wikipedia.org/wiki/Covariance_matrix) are PSD.\n",
    "\n",
    "Correlation matrix is diagonally scaled covariance matrix."
   ]
  },
  {
   "cell_type": "code",
   "execution_count": 85,
   "metadata": {},
   "outputs": [
    {
     "data": {
      "text/plain": [
       "10×5 Array{Float64,2}:\n",
       " 0.454492  0.559037   0.33877    0.84708    0.10335 \n",
       " 0.484327  0.220427   0.860757   0.501913   0.39751 \n",
       " 0.840928  0.0771441  0.158538   0.658027   0.378485\n",
       " 0.081144  0.591003   0.125599   0.739654   0.695591\n",
       " 0.584567  0.766753   0.832055   0.451284   0.787183\n",
       " 0.235022  0.954204   0.499114   0.026292   0.604332\n",
       " 0.307502  0.349188   0.137916   0.745453   0.681559\n",
       " 0.151295  0.379964   0.585945   0.0868066  0.283561\n",
       " 0.839135  0.720298   0.596365   0.808623   0.122719\n",
       " 0.930813  0.458035   0.0544393  0.767189   0.596098"
      ]
     },
     "execution_count": 85,
     "metadata": {},
     "output_type": "execute_result"
    }
   ],
   "source": [
    "x=rand(10,5)"
   ]
  },
  {
   "cell_type": "code",
   "execution_count": 86,
   "metadata": {},
   "outputs": [
    {
     "data": {
      "text/plain": [
       "5×5 Array{Float64,2}:\n",
       "  0.0921992   -0.0166857  -0.00627706   0.0423799  -0.0173615\n",
       " -0.0166857    0.07034     0.019833    -0.0209628   0.0125028\n",
       " -0.00627706   0.019833    0.0893095   -0.0419064  -0.0112602\n",
       "  0.0423799   -0.0209628  -0.0419064    0.0874753  -0.0120296\n",
       " -0.0173615    0.0125028  -0.0112602   -0.0120296   0.0592643"
      ]
     },
     "execution_count": 86,
     "metadata": {},
     "output_type": "execute_result"
    }
   ],
   "source": [
    "A=cov(x)"
   ]
  },
  {
   "cell_type": "code",
   "execution_count": 87,
   "metadata": {},
   "outputs": [
    {
     "data": {
      "text/plain": [
       "5×5 Array{Float64,2}:\n",
       "  0.0           0.0          -8.67362e-19   0.0          0.0\n",
       "  0.0           0.0           3.46945e-18  -3.46945e-18  0.0\n",
       " -8.67362e-19   3.46945e-18   0.0          -6.93889e-18  0.0\n",
       "  0.0          -3.46945e-18  -6.93889e-18   1.38778e-17  0.0\n",
       "  0.0           0.0           0.0           3.46945e-18  0.0"
      ]
     },
     "execution_count": 87,
     "metadata": {},
     "output_type": "execute_result"
    }
   ],
   "source": [
    "# Covariance matrix is a Gram matrix\n",
    "(x.-mean(x,1))'*(x.-mean(x,1))/9-A"
   ]
  },
  {
   "cell_type": "code",
   "execution_count": 88,
   "metadata": {},
   "outputs": [
    {
     "data": {
      "text/plain": [
       "5×5 Array{Float64,2}:\n",
       "  1.0        -0.207195  -0.0691742   0.471904  -0.234869\n",
       " -0.207195    1.0        0.250229   -0.267243   0.193646\n",
       " -0.0691742   0.250229   1.0        -0.474121  -0.154776\n",
       "  0.471904   -0.267243  -0.474121    1.0       -0.167075\n",
       " -0.234869    0.193646  -0.154776   -0.167075   1.0     "
      ]
     },
     "execution_count": 88,
     "metadata": {},
     "output_type": "execute_result"
    }
   ],
   "source": [
    "B=cor(x)"
   ]
  },
  {
   "cell_type": "code",
   "execution_count": 89,
   "metadata": {},
   "outputs": [
    {
     "data": {
      "text/plain": [
       "5-element Array{Float64,1}:\n",
       " 3.29334\n",
       " 3.7705 \n",
       " 3.34619\n",
       " 3.38109\n",
       " 4.10774"
      ]
     },
     "execution_count": 89,
     "metadata": {},
     "output_type": "execute_result"
    }
   ],
   "source": [
    "# Diagonal scaling\n",
    "D=1./sqrt.(diag(A))"
   ]
  },
  {
   "cell_type": "code",
   "execution_count": 90,
   "metadata": {},
   "outputs": [
    {
     "data": {
      "text/plain": [
       "5×5 Array{Float64,2}:\n",
       "  1.0        -0.207195  -0.0691742   0.471904  -0.234869\n",
       " -0.207195    1.0        0.250229   -0.267243   0.193646\n",
       " -0.0691742   0.250229   1.0        -0.474121  -0.154776\n",
       "  0.471904   -0.267243  -0.474121    1.0       -0.167075\n",
       " -0.234869    0.193646  -0.154776   -0.167075   1.0     "
      ]
     },
     "execution_count": 90,
     "metadata": {},
     "output_type": "execute_result"
    }
   ],
   "source": [
    "diagm(D)*A*diagm(D)"
   ]
  },
  {
   "cell_type": "code",
   "execution_count": 91,
   "metadata": {},
   "outputs": [
    {
     "data": {
      "text/plain": [
       "5-element Array{Float64,1}:\n",
       " 0.0296396\n",
       " 0.0451806\n",
       " 0.0626813\n",
       " 0.09504  \n",
       " 0.166047 "
      ]
     },
     "execution_count": 91,
     "metadata": {},
     "output_type": "execute_result"
    }
   ],
   "source": [
    "eigvals(A)"
   ]
  },
  {
   "cell_type": "code",
   "execution_count": 92,
   "metadata": {},
   "outputs": [
    {
     "data": {
      "text/plain": [
       "5-element Array{Float64,1}:\n",
       " 0.344896\n",
       " 0.633831\n",
       " 0.845555\n",
       " 1.22093 \n",
       " 1.95479 "
      ]
     },
     "execution_count": 92,
     "metadata": {},
     "output_type": "execute_result"
    }
   ],
   "source": [
    "eigvals(B)"
   ]
  },
  {
   "cell_type": "code",
   "execution_count": 93,
   "metadata": {},
   "outputs": [
    {
     "data": {
      "text/plain": [
       "10×10 Array{Float64,2}:\n",
       "  0.075391    -0.00850587  …  -0.0256449   0.0654914    0.0291172\n",
       " -0.00850587   0.0547036       0.0210803   0.00280885  -0.0407367\n",
       "  0.0255895   -6.65218e-5     -0.0537012   0.0324019    0.0927577\n",
       "  0.0199654   -0.0438513      -0.0231166  -0.031639     0.0204377\n",
       " -0.0340216    0.0052068       0.0279152  -0.0280476   -0.0411634\n",
       " -0.043481    -0.0340047   …   0.0435742  -0.0385472   -0.0595662\n",
       "  0.0151072   -0.0263838      -0.0357439  -0.0233638    0.0462068\n",
       " -0.0256449    0.0210803       0.0389907  -0.0158487   -0.0631515\n",
       "  0.0654914    0.00280885     -0.0158487   0.0853681    0.0260316\n",
       "  0.0291172   -0.0407367      -0.0631515   0.0260316    0.111928 "
      ]
     },
     "execution_count": 93,
     "metadata": {},
     "output_type": "execute_result"
    }
   ],
   "source": [
    "C=cov(x')"
   ]
  },
  {
   "cell_type": "code",
   "execution_count": 94,
   "metadata": {},
   "outputs": [
    {
     "data": {
      "text/plain": [
       "10-element Array{Float64,1}:\n",
       " -5.028e-17  \n",
       " -3.95996e-17\n",
       " -9.60291e-18\n",
       " -2.16957e-19\n",
       "  6.40788e-18\n",
       "  2.37509e-17\n",
       "  0.0825783  \n",
       "  0.113017   \n",
       "  0.209325   \n",
       "  0.387483   "
      ]
     },
     "execution_count": 94,
     "metadata": {},
     "output_type": "execute_result"
    }
   ],
   "source": [
    "eigvals(C)"
   ]
  },
  {
   "cell_type": "code",
   "execution_count": 95,
   "metadata": {},
   "outputs": [
    {
     "data": {
      "text/plain": [
       "3-element Array{Int64,1}:\n",
       " 6\n",
       " 4\n",
       " 0"
      ]
     },
     "execution_count": 95,
     "metadata": {},
     "output_type": "execute_result"
    }
   ],
   "source": [
    "inertia(C)"
   ]
  },
  {
   "cell_type": "code",
   "execution_count": 96,
   "metadata": {},
   "outputs": [
    {
     "data": {
      "text/html": [
       "4"
      ],
      "text/plain": [
       "4"
      ]
     },
     "execution_count": 96,
     "metadata": {},
     "output_type": "execute_result"
    }
   ],
   "source": [
    "rank(C)"
   ]
  },
  {
   "cell_type": "markdown",
   "metadata": {},
   "source": [
    "Explain the function `rank()`."
   ]
  },
  {
   "cell_type": "code",
   "execution_count": 97,
   "metadata": {},
   "outputs": [
    {
     "data": {
      "text/html": [
       "rank(A::<b>AbstractArray{T,2} where T</b>) at <a href=\"https://github.com/JuliaLang/julia/tree/d386e40c17d43b79fc89d3e579fc04547241787c/base/linalg/generic.jl#L723\" target=\"_blank\">linalg/generic.jl:723</a>"
      ],
      "text/plain": [
       "rank(A::AbstractArray{T,2} where T) in Base.LinAlg at linalg/generic.jl:723"
      ]
     },
     "execution_count": 97,
     "metadata": {},
     "output_type": "execute_result"
    }
   ],
   "source": [
    "@which rank(C)"
   ]
  },
  {
   "cell_type": "code",
   "execution_count": null,
   "metadata": {
    "collapsed": true
   },
   "outputs": [],
   "source": []
  }
 ],
 "metadata": {
  "anaconda-cloud": {},
  "kernelspec": {
   "display_name": "Julia 0.6.2",
   "language": "julia",
   "name": "julia-0.6"
  },
  "language_info": {
   "file_extension": ".jl",
   "mimetype": "application/julia",
   "name": "julia",
   "version": "0.6.2"
  }
 },
 "nbformat": 4,
 "nbformat_minor": 1
}
