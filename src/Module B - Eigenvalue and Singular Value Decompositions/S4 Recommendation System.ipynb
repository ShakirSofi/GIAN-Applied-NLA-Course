{
 "cells": [
  {
   "cell_type": "markdown",
   "metadata": {
    "nbpresent": {
     "id": "c8a714c5-14b1-4002-862d-8f81edb5674c"
    },
    "slideshow": {
     "slide_type": "slide"
    }
   },
   "source": [
    "# Solutions 4 - Age of Recommendation\n",
    "\n",
    "After __Age of Search__ (see the Page Rank notebook), we are now in the \n",
    "__Age of Recommendation__. This notebook is about Netflix Recommendations using \n",
    "Simon Funk's algorithm as implemented in [IncrementalSVD.jl](https://github.com/aaw/IncrementalSVD.jl) by Aaron Windsor."
   ]
  },
  {
   "cell_type": "markdown",
   "metadata": {
    "nbpresent": {
     "id": "5b02d01f-08b5-41cf-ae99-5c997f1618ad"
    },
    "slideshow": {
     "slide_type": "slide"
    }
   },
   "source": [
    "## Messages\n",
    "\n",
    "Easy -> hard?\n",
    "\n",
    "Present: __age of search__ -> _mathematics_\n",
    "\n",
    "Future: __age of recommendation__  -> _mathematics_\n",
    "\n",
    "(BigData, new technologies)\n"
   ]
  },
  {
   "cell_type": "markdown",
   "metadata": {
    "collapsed": true,
    "nbpresent": {
     "id": "4c3647c8-bf68-4fc7-9494-d11fdb86327f"
    }
   },
   "source": [
    "## Easy -> hard\n",
    "\n",
    "weight:  1 _kg_  -> 1 _kg_ $\\pm$ 0.000000001 _kg_\n",
    "\n",
    "running: 100 _m_ -> 42,195 _m_ ili 100 _m_ < 10 _sek_\n",
    "\n",
    "mathematics: exam -> state competition  -> [Olympiad](http://www.imo-official.org/)\n",
    "\n",
    "search, recommending: good -> excellent"
   ]
  },
  {
   "cell_type": "markdown",
   "metadata": {
    "nbpresent": {
     "id": "d194cf53-622d-4d19-a5ea-7bfb4e7cedf1"
    }
   },
   "source": [
    "## Age of Search\n",
    "\n",
    "google (and others)\n",
    "\n",
    "\n",
    "* [50 billion pages](http://www.worldwidewebsize.com/), [3.5 billion querries daily](http://www.internetlivestats.com/google-search-statistics/)\n",
    "* __PageRank__\n",
    "* history, context - cookies, storing data (about you), [200+ parameters](http://backlinko.com/google-ranking-factors)"
   ]
  },
  {
   "cell_type": "markdown",
   "metadata": {
    "nbpresent": {
     "id": "8e161bdf-c2f4-457b-aa37-87cb7b94a62a"
    }
   },
   "source": [
    "## Age of Recommendation\n",
    "\n",
    "NetFlix, Amazon Prime, PickBox, ... - on-line streaming of movies and shows\n",
    "\n",
    "[NetFlix](https://www.netflix.com/hr/)\n",
    "\n",
    " * [80 million users](https://www.statista.com/statistics/250934/quarterly-number-of-netflix-streaming-subscribers-worldwide/), 5,000 movies\n",
    " * [NetFlix Prize](http://www.kdd.org/kdd2014/tutorials/KDD%20-%20The%20Recommender%20Problem%20Revisited.pdf)\n",
    " "
   ]
  },
  {
   "cell_type": "markdown",
   "metadata": {
    "nbpresent": {
     "id": "5bd4499f-d408-4ef5-873c-d2af140a3863"
    }
   },
   "source": [
    "## Mathematics\n",
    "\n",
    "Netflix Recommendation Engine is based on approximation of a (large and sparse) matrix\n",
    "```\n",
    "M = Users x Movies \n",
    "```\n",
    "using (approximation of) singular value decomposition (SVD): \n",
    "\n",
    "* [IncrementalSVD.jl](https://github.com/aaw/IncrementalSVD.jl)\n",
    "* [A parallel recommendation engine in Julia](http://juliacomputing.com/blog/2016/04/22/a-parallel-recommendation-engine-in-julia.html)"
   ]
  },
  {
   "cell_type": "markdown",
   "metadata": {
    "nbpresent": {
     "id": "95e8dd12-5e61-4c6e-903e-21d9933c61d6"
    }
   },
   "source": [
    "## Similarities\n",
    "\n",
    "Similarity of users $i$ and $k$:\n",
    "$$\n",
    "\\cos \\angle (i,k)=\\frac{(M[i,:],M[k,:])}{\\|M[i,:]\\| \\cdot \\|M[k,:]\\|}\n",
    "$$\n",
    "Similarity of movies $i$ and $k$:\n",
    "$$\n",
    "\\cos \\angle (i,k)=\\frac{(M[:,i],M[:,k)}{\\|M[:,i]\\| \\cdot \\|M[:,k]\\|}\n",
    "$$"
   ]
  },
  {
   "cell_type": "markdown",
   "metadata": {
    "nbpresent": {
     "id": "310609df-23c9-43d4-be57-c9e837921be5"
    }
   },
   "source": [
    "## Search\n",
    "\n",
    "Row $M[u,:]$ - what user $u$ thinks about movies\n",
    "\n",
    "Column $M[:,m]$ - what users think about movie $m$\n",
    "\n",
    "Element $M[u,m]$ - what user $u$ thinks about movie $m$."
   ]
  },
  {
   "cell_type": "markdown",
   "metadata": {
    "nbpresent": {
     "id": "0dc62bf7-111e-4a65-aa8f-d581ccc78705"
    }
   },
   "source": [
    "## Problem\n",
    "\n",
    "Matrix $M$ is sparse so we do not have enough information. For example, \n",
    "\n",
    "```\n",
    "900188 marks / ( 6040 users x 3706 movies ) = 4%\n",
    "```"
   ]
  },
  {
   "cell_type": "markdown",
   "metadata": {
    "nbpresent": {
     "id": "4944f869-4080-4947-a6ad-a08c3f2dc6b8"
    }
   },
   "source": [
    "## Approximation\n",
    "\n",
    "SVD decomposition $M=U\\Sigma V^T$ is [approximated by a low-rank matrix](https://en.wikipedia.org/wiki/Low-rank_approximation) (for example. $rank=25$)\n",
    "\n",
    "![SVD decomposition](svd.png)\n",
    "\n",
    "The approximation matrix is __full__ and __gives enough good information__.\n",
    "\n",
    "Prize for efficient approximation algorithm was $\\$$ 1.000.000.  "
   ]
  },
  {
   "cell_type": "code",
   "execution_count": 1,
   "metadata": {
    "nbpresent": {
     "id": "b668eb1e-a6ab-4765-b3cc-d146fd9af9b6"
    }
   },
   "outputs": [],
   "source": [
    "# pkg> add https://github.com/aaw/IncrementalSVD.jl   or\n",
    "# pkg> add https://github.com/ivanslapnicar/IncrementalSVD.jl"
   ]
  },
  {
   "cell_type": "code",
   "execution_count": 2,
   "metadata": {
    "nbpresent": {
     "id": "bccc43b9-69b2-440e-a866-7deca5e28515"
    }
   },
   "outputs": [
    {
     "name": "stderr",
     "output_type": "stream",
     "text": [
      "┌ Info: Precompiling InfoZIP [f4508453-b816-52ab-a864-26fc7f6211fc]\n",
      "└ @ Base loading.jl:1260\n",
      "┌ Warning: InfoZIP falling back to ZipFile.jl backend!\n",
      "└ @ InfoZIP C:\\Users\\Ivan_Slapnicar\\.julia\\packages\\InfoZIP\\3AT7m\\src\\InfoZIP.jl:20\n",
      "┌ Warning: Package InfoZIP does not have ZipFile in its dependencies:\n",
      "│ - If you have InfoZIP checked out for development and have\n",
      "│   added ZipFile as a dependency but haven't updated your primary\n",
      "│   environment's manifest file, try `Pkg.resolve()`.\n",
      "│ - Otherwise you may need to report an issue with InfoZIP\n",
      "└ Loading ZipFile into InfoZIP from project dependency, future warnings for InfoZIP are suppressed.\n"
     ]
    }
   ],
   "source": [
    "include(\"../../../IncrementalSVD.jl/src/IncrementalSVD.jl\")\n",
    "using .IncrementalSVD"
   ]
  },
  {
   "cell_type": "code",
   "execution_count": 3,
   "metadata": {
    "nbpresent": {
     "id": "49fe305c-c879-4aa3-a255-53b3301f55ff"
    }
   },
   "outputs": [
    {
     "data": {
      "text/latex": [
       "\\begin{tabular}\n",
       "{l | r | l}\n",
       "name & size & summary \\\\\n",
       "\\hline\n",
       "IncrementalSVD & 174.465 KiB & Module \\\\\n",
       "Rating & 208 bytes & DataType \\\\\n",
       "RatingSet & 216 bytes & DataType \\\\\n",
       "RatingsModel & 224 bytes & DataType \\\\\n",
       "cosine\\_similarity & 0 bytes & typeof(cosine\\_similarity) \\\\\n",
       "get\\_predicted\\_rating & 0 bytes & typeof(get\\_predicted\\_rating) \\\\\n",
       "item\\_features & 0 bytes & typeof(item\\_features) \\\\\n",
       "item\\_search & 0 bytes & typeof(item\\_search) \\\\\n",
       "items & 0 bytes & typeof(items) \\\\\n",
       "load\\_book\\_crossing\\_dataset & 0 bytes & typeof(load\\_book\\_crossing\\_dataset) \\\\\n",
       "load\\_large\\_movielens\\_dataset & 0 bytes & typeof(load\\_large\\_movielens\\_dataset) \\\\\n",
       "load\\_small\\_movielens\\_dataset & 0 bytes & typeof(load\\_small\\_movielens\\_dataset) \\\\\n",
       "rmse & 0 bytes & typeof(rmse) \\\\\n",
       "similar\\_items & 0 bytes & typeof(similar\\_items) \\\\\n",
       "similar\\_users & 0 bytes & typeof(similar\\_users) \\\\\n",
       "split\\_ratings & 0 bytes & typeof(split\\_ratings) \\\\\n",
       "train & 0 bytes & typeof(train) \\\\\n",
       "truncate\\_model! & 0 bytes & typeof(truncate\\_model!) \\\\\n",
       "user\\_features & 0 bytes & typeof(user\\_features) \\\\\n",
       "user\\_ratings & 0 bytes & typeof(user\\_ratings) \\\\\n",
       "users & 0 bytes & typeof(users) \\\\\n",
       "\\end{tabular}\n"
      ],
      "text/markdown": [
       "| name                         |        size | summary                              |\n",
       "|:---------------------------- | -----------:|:------------------------------------ |\n",
       "| IncrementalSVD               | 174.465 KiB | Module                               |\n",
       "| Rating                       |   208 bytes | DataType                             |\n",
       "| RatingSet                    |   216 bytes | DataType                             |\n",
       "| RatingsModel                 |   224 bytes | DataType                             |\n",
       "| cosine_similarity            |     0 bytes | typeof(cosine_similarity)            |\n",
       "| get_predicted_rating         |     0 bytes | typeof(get_predicted_rating)         |\n",
       "| item_features                |     0 bytes | typeof(item_features)                |\n",
       "| item_search                  |     0 bytes | typeof(item_search)                  |\n",
       "| items                        |     0 bytes | typeof(items)                        |\n",
       "| load_book_crossing_dataset   |     0 bytes | typeof(load_book_crossing_dataset)   |\n",
       "| load_large_movielens_dataset |     0 bytes | typeof(load_large_movielens_dataset) |\n",
       "| load_small_movielens_dataset |     0 bytes | typeof(load_small_movielens_dataset) |\n",
       "| rmse                         |     0 bytes | typeof(rmse)                         |\n",
       "| similar_items                |     0 bytes | typeof(similar_items)                |\n",
       "| similar_users                |     0 bytes | typeof(similar_users)                |\n",
       "| split_ratings                |     0 bytes | typeof(split_ratings)                |\n",
       "| train                        |     0 bytes | typeof(train)                        |\n",
       "| truncate_model!              |     0 bytes | typeof(truncate_model!)              |\n",
       "| user_features                |     0 bytes | typeof(user_features)                |\n",
       "| user_ratings                 |     0 bytes | typeof(user_ratings)                 |\n",
       "| users                        |     0 bytes | typeof(users)                        |\n"
      ],
      "text/plain": [
       "  name                                size summary                             \n",
       "  –––––––––––––––––––––––––––– ––––––––––– ––––––––––––––––––––––––––––––––––––\n",
       "  IncrementalSVD               174.465 KiB Module                              \n",
       "  Rating                         208 bytes DataType                            \n",
       "  RatingSet                      216 bytes DataType                            \n",
       "  RatingsModel                   224 bytes DataType                            \n",
       "  cosine_similarity                0 bytes typeof(cosine_similarity)           \n",
       "  get_predicted_rating             0 bytes typeof(get_predicted_rating)        \n",
       "  item_features                    0 bytes typeof(item_features)               \n",
       "  item_search                      0 bytes typeof(item_search)                 \n",
       "  items                            0 bytes typeof(items)                       \n",
       "  load_book_crossing_dataset       0 bytes typeof(load_book_crossing_dataset)  \n",
       "  load_large_movielens_dataset     0 bytes typeof(load_large_movielens_dataset)\n",
       "  load_small_movielens_dataset     0 bytes typeof(load_small_movielens_dataset)\n",
       "  rmse                             0 bytes typeof(rmse)                        \n",
       "  similar_items                    0 bytes typeof(similar_items)               \n",
       "  similar_users                    0 bytes typeof(similar_users)               \n",
       "  split_ratings                    0 bytes typeof(split_ratings)               \n",
       "  train                            0 bytes typeof(train)                       \n",
       "  truncate_model!                  0 bytes typeof(truncate_model!)             \n",
       "  user_features                    0 bytes typeof(user_features)               \n",
       "  user_ratings                     0 bytes typeof(user_ratings)                \n",
       "  users                            0 bytes typeof(users)                       "
      ]
     },
     "execution_count": 3,
     "metadata": {},
     "output_type": "execute_result"
    }
   ],
   "source": [
    "varinfo(IncrementalSVD)"
   ]
  },
  {
   "cell_type": "code",
   "execution_count": 4,
   "metadata": {
    "nbpresent": {
     "id": "fe34b160-0094-4f16-be24-7dce3df0d876"
    }
   },
   "outputs": [
    {
     "name": "stdout",
     "output_type": "stream",
     "text": [
      "Reusing existing downloaded files...\n",
      ".\\ml-1m\\ratings.dat\n"
     ]
    },
    {
     "name": "stderr",
     "output_type": "stream",
     "text": [
      "\u001b[32mLoading ratings 100%|███████████████████████████████████| Time: 0:00:01\u001b[39m\n"
     ]
    },
    {
     "data": {
      "text/plain": [
       "RatingSet(Rating[Rating(5394, 2741, 2.0f0), Rating(614, 17, 4.0f0), Rating(2506, 401, 4.0f0), Rating(3841, 1231, 3.0f0), Rating(5011, 993, 4.0f0), Rating(1788, 252, 3.0f0), Rating(2124, 1388, 1.0f0), Rating(2544, 273, 5.0f0), Rating(245, 197, 2.0f0), Rating(4609, 2648, 3.0f0)  …  Rating(1851, 1149, 2.0f0), Rating(3887, 1209, 1.0f0), Rating(4754, 353, 4.0f0), Rating(1137, 3129, 3.0f0), Rating(721, 820, 2.0f0), Rating(2895, 1377, 2.0f0), Rating(1977, 1863, 5.0f0), Rating(5021, 1562, 4.0f0), Rating(3718, 2525, 4.0f0), Rating(1418, 2200, 2.0f0)], Rating[Rating(235, 1940, 2.0f0), Rating(2544, 44, 4.0f0), Rating(3119, 87, 5.0f0), Rating(204, 97, 5.0f0), Rating(4060, 6, 3.0f0), Rating(1325, 566, 4.0f0), Rating(3356, 869, 5.0f0), Rating(1425, 513, 4.0f0), Rating(2063, 222, 1.0f0), Rating(3118, 720, 4.0f0)  …  Rating(4836, 1888, 1.0f0), Rating(3537, 3271, 1.0f0), Rating(4235, 125, 4.0f0), Rating(54, 1765, 4.0f0), Rating(169, 2061, 4.0f0), Rating(2756, 1082, 2.0f0), Rating(2389, 1311, 3.0f0), Rating(787, 244, 5.0f0), Rating(5747, 65, 5.0f0), Rating(2592, 2073, 4.0f0)], Dict{AbstractString,Int32}(\"4304\" => 4304,\"3935\" => 3935,\"5422\" => 5422,\"5734\" => 5734,\"2243\" => 2243,\"1881\" => 1881,\"5425\" => 5425,\"4209\" => 4209,\"1907\" => 1907,\"2923\" => 2923…), Dict{AbstractString,Int32}(\"Fried Green Tomatoes (1991)\" => 594,\"Milk Money (1994)\" => 1361,\"From Russia with Love (1963)\" => 729,\"House II: The Second Story (1987)\" => 1247,\"Held Up (2000)\" => 3549,\"Missing in Action 2: The Beginning (1985)\" => 2177,\"Murder, My Sweet (1944)\" => 996,\"Hidden, The (1987)\" => 981,\"Cable Guy, The (1996)\" => 669,\"Big Kahuna, The (2000)\" => 893…))"
      ]
     },
     "execution_count": 4,
     "metadata": {},
     "output_type": "execute_result"
    }
   ],
   "source": [
    "rating_set = load_small_movielens_dataset()"
   ]
  },
  {
   "cell_type": "code",
   "execution_count": 5,
   "metadata": {
    "nbpresent": {
     "id": "0a04c7fc-c67f-4b4b-aa03-32900cb5651e"
    }
   },
   "outputs": [
    {
     "data": {
      "text/plain": [
       "(:training_set, :test_set, :user_to_index, :item_to_index)"
      ]
     },
     "execution_count": 5,
     "metadata": {},
     "output_type": "execute_result"
    }
   ],
   "source": [
    "propertynames(rating_set)"
   ]
  },
  {
   "cell_type": "code",
   "execution_count": 6,
   "metadata": {
    "nbpresent": {
     "id": "c4456c31-299a-4f3a-9ad1-b9544ce009bd"
    }
   },
   "outputs": [
    {
     "data": {
      "text/plain": [
       "900188-element Array{Rating,1}:\n",
       " Rating(5394, 2741, 2.0f0)\n",
       " Rating(614, 17, 4.0f0)\n",
       " Rating(2506, 401, 4.0f0)\n",
       " Rating(3841, 1231, 3.0f0)\n",
       " Rating(5011, 993, 4.0f0)\n",
       " Rating(1788, 252, 3.0f0)\n",
       " Rating(2124, 1388, 1.0f0)\n",
       " Rating(2544, 273, 5.0f0)\n",
       " Rating(245, 197, 2.0f0)\n",
       " Rating(4609, 2648, 3.0f0)\n",
       " Rating(5880, 1320, 3.0f0)\n",
       " Rating(5636, 1189, 2.0f0)\n",
       " Rating(2018, 720, 4.0f0)\n",
       " ⋮\n",
       " Rating(232, 1076, 1.0f0)\n",
       " Rating(2777, 1666, 3.0f0)\n",
       " Rating(1851, 1149, 2.0f0)\n",
       " Rating(3887, 1209, 1.0f0)\n",
       " Rating(4754, 353, 4.0f0)\n",
       " Rating(1137, 3129, 3.0f0)\n",
       " Rating(721, 820, 2.0f0)\n",
       " Rating(2895, 1377, 2.0f0)\n",
       " Rating(1977, 1863, 5.0f0)\n",
       " Rating(5021, 1562, 4.0f0)\n",
       " Rating(3718, 2525, 4.0f0)\n",
       " Rating(1418, 2200, 2.0f0)"
      ]
     },
     "execution_count": 6,
     "metadata": {},
     "output_type": "execute_result"
    }
   ],
   "source": [
    "# The format is (user, movie, mark)\n",
    "rating_set.training_set"
   ]
  },
  {
   "cell_type": "code",
   "execution_count": 7,
   "metadata": {
    "nbpresent": {
     "id": "227f2334-6846-4dda-a3f7-a3672a820ea7"
    }
   },
   "outputs": [
    {
     "data": {
      "text/plain": [
       "100021-element Array{Rating,1}:\n",
       " Rating(235, 1940, 2.0f0)\n",
       " Rating(2544, 44, 4.0f0)\n",
       " Rating(3119, 87, 5.0f0)\n",
       " Rating(204, 97, 5.0f0)\n",
       " Rating(4060, 6, 3.0f0)\n",
       " Rating(1325, 566, 4.0f0)\n",
       " Rating(3356, 869, 5.0f0)\n",
       " Rating(1425, 513, 4.0f0)\n",
       " Rating(2063, 222, 1.0f0)\n",
       " Rating(3118, 720, 4.0f0)\n",
       " Rating(2116, 84, 4.0f0)\n",
       " Rating(3484, 252, 3.0f0)\n",
       " Rating(939, 1110, 3.0f0)\n",
       " ⋮\n",
       " Rating(4497, 1448, 3.0f0)\n",
       " Rating(996, 386, 4.0f0)\n",
       " Rating(4836, 1888, 1.0f0)\n",
       " Rating(3537, 3271, 1.0f0)\n",
       " Rating(4235, 125, 4.0f0)\n",
       " Rating(54, 1765, 4.0f0)\n",
       " Rating(169, 2061, 4.0f0)\n",
       " Rating(2756, 1082, 2.0f0)\n",
       " Rating(2389, 1311, 3.0f0)\n",
       " Rating(787, 244, 5.0f0)\n",
       " Rating(5747, 65, 5.0f0)\n",
       " Rating(2592, 2073, 4.0f0)"
      ]
     },
     "execution_count": 7,
     "metadata": {},
     "output_type": "execute_result"
    }
   ],
   "source": [
    "rating_set.test_set"
   ]
  },
  {
   "cell_type": "code",
   "execution_count": 8,
   "metadata": {
    "nbpresent": {
     "id": "eda35ea4-4078-4458-b92d-6c616d4809bf"
    },
    "scrolled": true
   },
   "outputs": [
    {
     "data": {
      "text/plain": [
       "Dict{AbstractString,Int32} with 6040 entries:\n",
       "  \"4304\" => 4304\n",
       "  \"3935\" => 3935\n",
       "  \"5422\" => 5422\n",
       "  \"5734\" => 5734\n",
       "  \"2243\" => 2243\n",
       "  \"1881\" => 1881\n",
       "  \"5425\" => 5425\n",
       "  \"4209\" => 4209\n",
       "  \"1907\" => 1907\n",
       "  \"2923\" => 2923\n",
       "  \"599\"  => 599\n",
       "  \"2491\" => 2491\n",
       "  \"5944\" => 5944\n",
       "  \"228\"  => 228\n",
       "  \"2590\" => 2590\n",
       "  \"3697\" => 3697\n",
       "  \"5031\" => 5031\n",
       "  \"2579\" => 2579\n",
       "  \"5551\" => 5551\n",
       "  \"1880\" => 1880\n",
       "  \"2562\" => 2562\n",
       "  \"3215\" => 3215\n",
       "  \"3991\" => 3991\n",
       "  \"4652\" => 4652\n",
       "  \"4088\" => 4088\n",
       "  ⋮      => ⋮"
      ]
     },
     "execution_count": 8,
     "metadata": {},
     "output_type": "execute_result"
    }
   ],
   "source": [
    "# Users and their IDs\n",
    "rating_set.user_to_index"
   ]
  },
  {
   "cell_type": "code",
   "execution_count": 9,
   "metadata": {
    "nbpresent": {
     "id": "b617e472-3cbb-4dac-b889-0ede4baa5299"
    },
    "scrolled": true
   },
   "outputs": [
    {
     "data": {
      "text/plain": [
       "Dict{AbstractString,Int32} with 3706 entries:\n",
       "  \"Fried Green Tomatoes (1991)\"                                       => 594\n",
       "  \"Milk Money (1994)\"                                                 => 1361\n",
       "  \"From Russia with Love (1963)\"                                      => 729\n",
       "  \"House II: The Second Story (1987)\"                                 => 1247\n",
       "  \"Held Up (2000)\"                                                    => 3549\n",
       "  \"Missing in Action 2: The Beginning (1985)\"                         => 2177\n",
       "  \"Murder, My Sweet (1944)\"                                           => 996\n",
       "  \"Hidden, The (1987)\"                                                => 981\n",
       "  \"Cable Guy, The (1996)\"                                             => 669\n",
       "  \"Big Kahuna, The (2000)\"                                            => 893\n",
       "  \"Addams Family Values (1993)\"                                       => 1857\n",
       "  \"Farinelli: il castrato (1994)\"                                     => 1945\n",
       "  \"Education of Little Tree, The (1997)\"                              => 2759\n",
       "  \"In God's Hands (1998)\"                                             => 2814\n",
       "  \"Last Man Standing (1996)\"                                          => 1840\n",
       "  \"Sixth Sense, The (1999)\"                                           => 39\n",
       "  \"Star Maps (1997)\"                                                  => 2670\n",
       "  \"Girl, Interrupted (1999)\"                                          => 32\n",
       "  \"Stand by Me (1986)\"                                                => 85\n",
       "  \"Rob Roy (1995)\"                                                    => 449\n",
       "  \"Caligula (1980)\"                                                   => 2532\n",
       "  \"Flirting With Disaster (1996)\"                                     => 1290\n",
       "  \"Hook (1991)\"                                                       => 657\n",
       "  \"Institute Benjamenta, or This Dream People Call Human Life (1995)\" => 3397\n",
       "  \"Way We Were, The (1973)\"                                           => 762\n",
       "  ⋮                                                                   => ⋮"
      ]
     },
     "execution_count": 9,
     "metadata": {},
     "output_type": "execute_result"
    }
   ],
   "source": [
    "# Movies and their IDs\n",
    "rating_set.item_to_index"
   ]
  },
  {
   "cell_type": "code",
   "execution_count": 10,
   "metadata": {
    "nbpresent": {
     "id": "2de54f0f-448a-431f-a6b4-fabdafe1c663"
    },
    "scrolled": true
   },
   "outputs": [
    {
     "data": {
      "text/plain": [
       "Base.KeySet for a Dict{AbstractString,Int32} with 3706 entries. Keys:\n",
       "  \"Fried Green Tomatoes (1991)\"\n",
       "  \"Milk Money (1994)\"\n",
       "  \"From Russia with Love (1963)\"\n",
       "  \"House II: The Second Story (1987)\"\n",
       "  \"Held Up (2000)\"\n",
       "  \"Missing in Action 2: The Beginning (1985)\"\n",
       "  \"Murder, My Sweet (1944)\"\n",
       "  \"Hidden, The (1987)\"\n",
       "  \"Cable Guy, The (1996)\"\n",
       "  \"Big Kahuna, The (2000)\"\n",
       "  \"Addams Family Values (1993)\"\n",
       "  \"Farinelli: il castrato (1994)\"\n",
       "  \"Education of Little Tree, The (1997)\"\n",
       "  \"In God's Hands (1998)\"\n",
       "  \"Last Man Standing (1996)\"\n",
       "  \"Sixth Sense, The (1999)\"\n",
       "  \"Star Maps (1997)\"\n",
       "  \"Girl, Interrupted (1999)\"\n",
       "  \"Stand by Me (1986)\"\n",
       "  \"Rob Roy (1995)\"\n",
       "  \"Caligula (1980)\"\n",
       "  \"Flirting With Disaster (1996)\"\n",
       "  \"Hook (1991)\"\n",
       "  \"Institute Benjamenta, or This Dream People Call Human Life (1995)\"\n",
       "  \"Way We Were, The (1973)\"\n",
       "  ⋮"
      ]
     },
     "execution_count": 10,
     "metadata": {},
     "output_type": "execute_result"
    }
   ],
   "source": [
    "# We can extract the titles ...\n",
    "keys(rating_set.item_to_index)"
   ]
  },
  {
   "cell_type": "code",
   "execution_count": 11,
   "metadata": {
    "nbpresent": {
     "id": "78d27a10-f1f4-4d6e-9d23-e5e734f61466"
    }
   },
   "outputs": [
    {
     "data": {
      "text/plain": [
       "Base.ValueIterator for a Dict{AbstractString,Int32} with 3706 entries. Values:\n",
       "  594\n",
       "  1361\n",
       "  729\n",
       "  1247\n",
       "  3549\n",
       "  2177\n",
       "  996\n",
       "  981\n",
       "  669\n",
       "  893\n",
       "  1857\n",
       "  1945\n",
       "  2759\n",
       "  2814\n",
       "  1840\n",
       "  39\n",
       "  2670\n",
       "  32\n",
       "  85\n",
       "  449\n",
       "  2532\n",
       "  1290\n",
       "  657\n",
       "  3397\n",
       "  762\n",
       "  ⋮"
      ]
     },
     "execution_count": 11,
     "metadata": {},
     "output_type": "execute_result"
    }
   ],
   "source": [
    "# or codes\n",
    "values(rating_set.item_to_index)"
   ]
  },
  {
   "cell_type": "code",
   "execution_count": 12,
   "metadata": {},
   "outputs": [
    {
     "data": {
      "text/plain": [
       "Dict{AbstractString,Int32} with 3706 entries:\n",
       "  \"Fried Green Tomatoes (1991)\"                                       => 594\n",
       "  \"Milk Money (1994)\"                                                 => 1361\n",
       "  \"From Russia with Love (1963)\"                                      => 729\n",
       "  \"House II: The Second Story (1987)\"                                 => 1247\n",
       "  \"Held Up (2000)\"                                                    => 3549\n",
       "  \"Missing in Action 2: The Beginning (1985)\"                         => 2177\n",
       "  \"Murder, My Sweet (1944)\"                                           => 996\n",
       "  \"Hidden, The (1987)\"                                                => 981\n",
       "  \"Cable Guy, The (1996)\"                                             => 669\n",
       "  \"Big Kahuna, The (2000)\"                                            => 893\n",
       "  \"Addams Family Values (1993)\"                                       => 1857\n",
       "  \"Farinelli: il castrato (1994)\"                                     => 1945\n",
       "  \"Education of Little Tree, The (1997)\"                              => 2759\n",
       "  \"In God's Hands (1998)\"                                             => 2814\n",
       "  \"Last Man Standing (1996)\"                                          => 1840\n",
       "  \"Sixth Sense, The (1999)\"                                           => 39\n",
       "  \"Star Maps (1997)\"                                                  => 2670\n",
       "  \"Girl, Interrupted (1999)\"                                          => 32\n",
       "  \"Stand by Me (1986)\"                                                => 85\n",
       "  \"Rob Roy (1995)\"                                                    => 449\n",
       "  \"Caligula (1980)\"                                                   => 2532\n",
       "  \"Flirting With Disaster (1996)\"                                     => 1290\n",
       "  \"Hook (1991)\"                                                       => 657\n",
       "  \"Institute Benjamenta, or This Dream People Call Human Life (1995)\" => 3397\n",
       "  \"Way We Were, The (1973)\"                                           => 762\n",
       "  ⋮                                                                   => ⋮"
      ]
     },
     "execution_count": 12,
     "metadata": {},
     "output_type": "execute_result"
    }
   ],
   "source": [
    "rating_set.item_to_index"
   ]
  },
  {
   "cell_type": "code",
   "execution_count": 13,
   "metadata": {
    "nbpresent": {
     "id": "d4c4b874-0934-45e3-bd91-ccb28e97ef46"
    }
   },
   "outputs": [
    {
     "data": {
      "text/plain": [
       "91-element Array{Tuple{Pair{Int32,SubString{String}},Float32},1}:\n",
       " (530 => \"Sling Blade (1996)\", 5.0)\n",
       " (2058 => \"Eye of the Beholder (1999)\", 5.0)\n",
       " (2177 => \"Missing in Action 2: The Beginning (1985)\", 5.0)\n",
       " (3176 => \"Goodbye, Lover (1999)\", 5.0)\n",
       " (854 => \"Titan A.E. (2000)\", 5.0)\n",
       " (1527 => \"Sliding Doors (1998)\", 5.0)\n",
       " (2861 => \"Tales of Terror (1962)\", 5.0)\n",
       " (1071 => \"Last Emperor, The (1987)\", 5.0)\n",
       " (802 => \"Holy Man (1998)\", 5.0)\n",
       " (594 => \"Fried Green Tomatoes (1991)\", 5.0)\n",
       " (2051 => \"Bread and Chocolate (Pane e cioccolata) (1973)\", 5.0)\n",
       " (772 => \"Jerk, The (1979)\", 5.0)\n",
       " (2196 => \"Amazing Panda Adventure, The (1995)\", 4.0)\n",
       " ⋮\n",
       " (2496 => \"Poison Ivy: New Seduction (1997)\", 2.0)\n",
       " (550 => \"Hype! (1996)\", 2.0)\n",
       " (373 => \"Boys Don't Cry (1999)\", 2.0)\n",
       " (1449 => \"It Happened One Night (1934)\", 1.0)\n",
       " (406 => \"Keeping the Faith (2000)\", 1.0)\n",
       " (2984 => \"Steam: The Turkish Bath (Hamam) (1997)\", 1.0)\n",
       " (3580 => \"Sprung (1997)\", 1.0)\n",
       " (2461 => \"Meet Wally Sparks (1997)\", 1.0)\n",
       " (1314 => \"Stripes (1981)\", 1.0)\n",
       " (1680 => \"Friday the 13th: The Final Chapter (1984)\", 1.0)\n",
       " (519 => \"Time to Kill, A (1996)\", 1.0)\n",
       " (2247 => \"Dear Diary (Caro Diario) (1994)\", 1.0)"
      ]
     },
     "execution_count": 13,
     "metadata": {},
     "output_type": "execute_result"
    }
   ],
   "source": [
    "# Which movies did the user \"3000\" grade?\n",
    "user_ratings(rating_set, \"3000\")"
   ]
  },
  {
   "cell_type": "code",
   "execution_count": 14,
   "metadata": {
    "nbpresent": {
     "id": "d3cf851c-af8c-4b79-8f2f-7d01530a4516"
    }
   },
   "outputs": [
    {
     "name": "stdout",
     "output_type": "stream",
     "text": [
      "Sling Blade (1996)\n",
      "Blade (1998)\n",
      "Blade Runner (1982)\n",
      "Some Folks Call It a Sling Blade (1993)\n"
     ]
    }
   ],
   "source": [
    "# Let us find the exact title and code for \"Blade Runner\"\n",
    "for k in keys(rating_set.item_to_index)\n",
    "    if occursin(\"Blade\",k)\n",
    "        println(k)\n",
    "    end\n",
    "end"
   ]
  },
  {
   "cell_type": "code",
   "execution_count": 15,
   "metadata": {
    "nbpresent": {
     "id": "97a60042-8c73-46bf-9f9e-66281228aecc"
    }
   },
   "outputs": [],
   "source": [
    "# Did the user \"3000\" grade \"Blade Runner\" ?\n",
    "for k in user_ratings(rating_set,\"3001\")\n",
    "    if occursin(\"Blade\",k[1][2])\n",
    "        println(k)\n",
    "    end\n",
    "end"
   ]
  },
  {
   "cell_type": "code",
   "execution_count": 16,
   "metadata": {
    "nbpresent": {
     "id": "1251af52-47ea-4d0f-a8e8-586a1f5517af"
    }
   },
   "outputs": [
    {
     "name": "stdout",
     "output_type": "stream",
     "text": [
      "(530 => \"Sling Blade (1996)\", 5.0f0)\n"
     ]
    }
   ],
   "source": [
    "# How did the user \"3000\" grade \"Sling Blade\" ?\n",
    "for k in user_ratings(rating_set,\"3000\")\n",
    "    if occursin(\"Blade\",k[1][2])\n",
    "        println(k)\n",
    "    end\n",
    "end"
   ]
  },
  {
   "cell_type": "code",
   "execution_count": 17,
   "metadata": {
    "nbpresent": {
     "id": "f9f29054-8d7f-4779-b29c-aa3834e2de8f"
    }
   },
   "outputs": [
    {
     "data": {
      "text/plain": [
       "744"
      ]
     },
     "execution_count": 17,
     "metadata": {},
     "output_type": "execute_result"
    }
   ],
   "source": [
    "get(rating_set.item_to_index,\"Blade Runner (1982)\",0)"
   ]
  },
  {
   "cell_type": "code",
   "execution_count": 18,
   "metadata": {
    "nbpresent": {
     "id": "883cf538-0f01-4a0a-bd2f-dc14fed20fd0"
    }
   },
   "outputs": [
    {
     "name": "stderr",
     "output_type": "stream",
     "text": [
      "\u001b[32mComputing truncated rank 25 SVD 100%|███████████████████| Time: 0:00:15\u001b[39m\n"
     ]
    }
   ],
   "source": [
    "# This takes about 2.5 - 3.5 minutes\n",
    "model = train(rating_set, 25);"
   ]
  },
  {
   "cell_type": "code",
   "execution_count": 20,
   "metadata": {
    "nbpresent": {
     "id": "4ab42861-734c-409a-ab8e-0c065328987f"
    }
   },
   "outputs": [
    {
     "data": {
      "text/plain": [
       "(:user_to_index, :item_to_index, :U, :S, :V)"
      ]
     },
     "execution_count": 20,
     "metadata": {},
     "output_type": "execute_result"
    }
   ],
   "source": [
    "propertynames(model)"
   ]
  },
  {
   "cell_type": "code",
   "execution_count": 21,
   "metadata": {
    "nbpresent": {
     "id": "9175e158-5a25-4d87-8236-0659ef31f3fd"
    }
   },
   "outputs": [
    {
     "data": {
      "text/plain": [
       "6040×25 Array{Float32,2}:\n",
       " 0.0107142   0.0118767    0.0169031   0.00807186  …   0.0177213   0.0109083\n",
       " 0.014054    0.0112279    0.0101315   0.0102579       0.00793691  0.0104726\n",
       " 0.0100172   0.00904886   0.0162754   0.00882626      0.00866408  0.018414\n",
       " 0.00711395  0.006777     0.0157497   0.00436876      0.00874469  0.0151361\n",
       " 0.0136305   0.0166518    0.00149312  0.0152443       0.00415827  0.00783235\n",
       " 0.0108813   0.0165051    0.0151611   0.0154106   …   0.00459014  0.0195152\n",
       " 0.00867741  0.00744987   0.018701    0.0044736       0.00586769  0.0163895\n",
       " 0.0155244   0.0151719    0.0107715   0.0134915       0.0155342   0.00718333\n",
       " 0.0134894   0.00893162   0.0110126   0.0073914       0.0133561   0.0075436\n",
       " 0.0187854   0.0126696   -0.00998682  0.0248243       0.0123881   0.0104953\n",
       " 0.0131322   0.0115955    0.00979953  0.0113361   …   0.00579716  0.00946938\n",
       " 0.00671707  0.00838414   0.0147071   0.00635105      0.012219    0.0180386\n",
       " 0.0123021   0.00970481   0.0130822   0.00742211      0.0100403   0.0151319\n",
       " ⋮                                                ⋱               \n",
       " 0.00662482  0.0130443    0.0141681   0.0112733       0.0182089   0.0168119\n",
       " 0.0152861   0.011537     0.0146368   0.0102863       0.00822454  0.00125612\n",
       " 0.00894591  0.0102933    0.0171026   0.0101045   …   0.0119338   0.0205641\n",
       " 0.0143795   0.0136233    0.0131416   0.0105361       0.0105023   0.0100692\n",
       " 0.0107265   0.010369     0.0168059   0.00781543      0.0124363   0.0143335\n",
       " 0.00564315  0.0114742    0.0127614   0.00916263      0.00946483  0.0232914\n",
       " 0.0143825   0.00772482   0.00333721  0.0059821      -0.00804451  0.0215963\n",
       " 0.0171425   0.0149697   -0.0226808   0.0242375   …  -0.00942203  0.0218151\n",
       " 0.0152641   0.0100592    4.83597f-5  0.0110488       0.0112199   0.0132036\n",
       " 0.00544537  0.00910503   0.0122286   0.00797792      0.00968456  0.0241257\n",
       " 0.0141634   0.0175002    0.00922192  0.0107425       0.00422518  0.0106221\n",
       " 0.0158239   0.0171609   -0.0113738   0.0185434      -0.00103771  0.0113006"
      ]
     },
     "execution_count": 21,
     "metadata": {},
     "output_type": "execute_result"
    }
   ],
   "source": [
    "model.U"
   ]
  },
  {
   "cell_type": "code",
   "execution_count": 22,
   "metadata": {
    "nbpresent": {
     "id": "5f5fef72-581c-4f0a-bdec-2aba63597e82"
    }
   },
   "outputs": [
    {
     "data": {
      "text/plain": [
       "25-element Array{Float32,1}:\n",
       " 8190.8213\n",
       " 2149.017\n",
       "  830.6027\n",
       " 1150.4939\n",
       "  839.8949\n",
       " 1158.9558\n",
       "  652.8342\n",
       "  392.10507\n",
       "  339.68713\n",
       "  271.391\n",
       "  256.0176\n",
       "  333.4429\n",
       "  289.4227\n",
       "  221.43741\n",
       "  308.60135\n",
       "  339.03073\n",
       "  341.78983\n",
       "  193.14778\n",
       "  204.86087\n",
       "  192.27917\n",
       "  167.09984\n",
       "  126.188484\n",
       "  112.97897\n",
       "  119.95354\n",
       "  102.64159"
      ]
     },
     "execution_count": 22,
     "metadata": {},
     "output_type": "execute_result"
    }
   ],
   "source": [
    "model.S"
   ]
  },
  {
   "cell_type": "code",
   "execution_count": 23,
   "metadata": {
    "nbpresent": {
     "id": "57d586fa-798e-44cb-9e81-f87754188ea8"
    }
   },
   "outputs": [
    {
     "data": {
      "text/plain": [
       "3706×25 Array{Float32,2}:\n",
       " 0.0359215   0.00816437  0.0691514   …  -0.000583241   0.0121019\n",
       " 0.0252739   0.0149589   0.0201202      -0.00171532    0.0145751\n",
       " 0.0305693   0.0139319   0.0311927       0.00789148    0.006726\n",
       " 0.0320046   0.0114556   0.0539689       0.0150046    -0.0125299\n",
       " 0.0315613   0.00747788  0.0558023       0.00758263   -0.00760921\n",
       " 0.034729    0.00479607  0.0705086   …  -0.0214193     0.0130412\n",
       " 0.0303202   0.00763446  0.0296873       0.00120213    0.00272048\n",
       " 0.0332735   0.00382193  0.051395        0.0276164    -0.0201521\n",
       " 0.0289202   0.00732115  0.0225404       0.00439462    0.0148727\n",
       " 0.0336104   0.00486958  0.0537455       0.000312531   0.0251844\n",
       " 0.0297867   0.00519216  0.0382883   …   0.00329647   -0.0133145\n",
       " 0.0172581   0.0267268   0.00967494      0.0125154     0.00874973\n",
       " 0.0257697   0.0196641   0.0126901       0.00252681    0.00634576\n",
       " ⋮                                   ⋱                \n",
       " 0.00117918  0.00256827  0.00405728      0.0141199     0.0140804\n",
       " 0.00114139  0.0024249   0.00386997  …   0.0118227     0.0129211\n",
       " 0.00112376  0.00224874  0.00368398      0.00992235    0.0108753\n",
       " 0.00116155  0.00260932  0.00406269      0.0137343     0.0149779\n",
       " 0.00116696  0.00255504  0.00385505      0.0103088     0.0124367\n",
       " 0.00123751  0.00244604  0.00349198      0.0112794     0.00989405\n",
       " 0.00118706  0.00260254  0.00404271  …   0.0130029     0.0141733\n",
       " 0.00140058  0.00291856  0.00405937      0.017763      0.0144966\n",
       " 0.0012669   0.00248381  0.0034771       0.00988979    0.01235\n",
       " 0.0011449   0.00227449  0.00365699      0.00977616    0.0108941\n",
       " 0.00125241  0.00275843  0.00405261      0.0110176     0.0161545\n",
       " 0.00122929  0.00264529  0.00387648  …   0.0128303     0.0128768"
      ]
     },
     "execution_count": 23,
     "metadata": {},
     "output_type": "execute_result"
    }
   ],
   "source": [
    "model.V"
   ]
  },
  {
   "cell_type": "code",
   "execution_count": 24,
   "metadata": {
    "nbpresent": {
     "id": "22056d79-9af6-4ec3-8a7a-32344c7982ef"
    }
   },
   "outputs": [
    {
     "data": {
      "text/plain": [
       "10-element Array{SubString{String},1}:\n",
       " \"Friday the 13th (1980)\"\n",
       " \"Amityville Horror, The (1979)\"\n",
       " \"Jaws 2 (1978)\"\n",
       " \"Omen, The (1976)\"\n",
       " \"Friday the 13th Part 2 (1981)\"\n",
       " \"Halloween II (1981)\"\n",
       " \"Cujo (1983)\"\n",
       " \"Candyman (1992)\"\n",
       " \"Hellraiser (1987)\"\n",
       " \"Pet Sematary (1989)\""
      ]
     },
     "execution_count": 24,
     "metadata": {},
     "output_type": "execute_result"
    }
   ],
   "source": [
    "similar_items(model, \"Friday the 13th (1980)\")"
   ]
  },
  {
   "cell_type": "code",
   "execution_count": 25,
   "metadata": {
    "nbpresent": {
     "id": "f5b090ca-1b56-49a2-b3e1-f46e01e28f77"
    }
   },
   "outputs": [
    {
     "data": {
      "text/html": [
       "similar_items(model::<b>RatingsModel</b>, item; <i>max_results</i>) in Main.IncrementalSVD at <a href=\"https://github.com/ivanslapnicar/IncrementalSVD.jl/tree/22f8e54fb9ace73912ae83020c010e4d4bc9791f//src/util.jl#L113\" target=\"_blank\">C:\\Users\\Ivan_Slapnicar\\Documents\\GitHub\\IncrementalSVD.jl\\src\\util.jl:113</a>"
      ],
      "text/plain": [
       "similar_items(model::RatingsModel, item; max_results) in Main.IncrementalSVD at C:\\Users\\Ivan_Slapnicar\\Documents\\GitHub\\IncrementalSVD.jl\\src\\util.jl:113"
      ]
     },
     "execution_count": 25,
     "metadata": {},
     "output_type": "execute_result"
    }
   ],
   "source": [
    "# Take a look at the function\n",
    "@which similar_items(model, \"Friday the 13th (1980)\")"
   ]
  },
  {
   "cell_type": "code",
   "execution_count": 26,
   "metadata": {
    "nbpresent": {
     "id": "84987c4b-dae3-44b0-a710-91e435d5b13b"
    }
   },
   "outputs": [
    {
     "data": {
      "text/plain": [
       "10-element Array{SubString{String},1}:\n",
       " \"Citizen Kane (1941)\"\n",
       " \"Chinatown (1974)\"\n",
       " \"Dr. Strangelove or: How I Learned to Stop Worrying and Love the Bomb (1963)\"\n",
       " \"M*A*S*H (1970)\"\n",
       " \"Lawrence of Arabia (1962)\"\n",
       " \"Rear Window (1954)\"\n",
       " \"African Queen, The (1951)\"\n",
       " \"Boat, The (Das Boot) (1981)\"\n",
       " \"Casablanca (1942)\"\n",
       " \"Maltese Falcon, The (1941)\""
      ]
     },
     "execution_count": 26,
     "metadata": {},
     "output_type": "execute_result"
    }
   ],
   "source": [
    "similar_items(model, \"Citizen Kane (1941)\")"
   ]
  },
  {
   "cell_type": "code",
   "execution_count": 27,
   "metadata": {
    "nbpresent": {
     "id": "b6f3dae2-a575-42ac-9b64-2ebe7207749d"
    }
   },
   "outputs": [
    {
     "data": {
      "text/plain": [
       "10-element Array{SubString{String},1}:\n",
       " \"3000\"\n",
       " \"5613\"\n",
       " \"882\"\n",
       " \"1248\"\n",
       " \"1360\"\n",
       " \"5931\"\n",
       " \"4608\"\n",
       " \"5622\"\n",
       " \"2202\"\n",
       " \"1222\""
      ]
     },
     "execution_count": 27,
     "metadata": {},
     "output_type": "execute_result"
    }
   ],
   "source": [
    "similar_users(model,\"3000\")"
   ]
  },
  {
   "cell_type": "code",
   "execution_count": 28,
   "metadata": {
    "nbpresent": {
     "id": "480f4b30-a821-4873-9007-ba1533569c23"
    }
   },
   "outputs": [
    {
     "data": {
      "text/plain": [
       "4.2478147f0"
      ]
     },
     "execution_count": 28,
     "metadata": {},
     "output_type": "execute_result"
    }
   ],
   "source": [
    "# What is the opinion of user \"3000\" about \"Blade Runner (1982)\" \n",
    "# in the approximate model (no true mark) ?\n",
    "get_predicted_rating(model, \"3000\", \"Blade Runner (1982)\")"
   ]
  },
  {
   "cell_type": "code",
   "execution_count": 29,
   "metadata": {
    "nbpresent": {
     "id": "f4108b64-09bd-45bc-8528-f1ee6f1e03f8"
    }
   },
   "outputs": [
    {
     "data": {
      "text/plain": [
       "4.223943f0"
      ]
     },
     "execution_count": 29,
     "metadata": {},
     "output_type": "execute_result"
    }
   ],
   "source": [
    "# What is the opinion of user \"3000\" about \"Citizen Kane (1941)\"\n",
    "# (no true mark!) ?\n",
    "IncrementalSVD.get_predicted_rating(model, \"3000\", \"Citizen Kane (1941)\")"
   ]
  },
  {
   "cell_type": "code",
   "execution_count": 30,
   "metadata": {},
   "outputs": [
    {
     "data": {
      "text/plain": [
       "4.043533f0"
      ]
     },
     "execution_count": 30,
     "metadata": {},
     "output_type": "execute_result"
    }
   ],
   "source": [
    "# What is the opinion of user \"3000\" about \"Sling Blade (1996)\"\n",
    "# in the approximate model (true mark 5.0) ?\n",
    "IncrementalSVD.get_predicted_rating(model, \"3000\", \"Sling Blade (1996)\")"
   ]
  },
  {
   "cell_type": "code",
   "execution_count": 32,
   "metadata": {},
   "outputs": [
    {
     "data": {
      "text/plain": [
       "3.080271f0"
      ]
     },
     "execution_count": 32,
     "metadata": {},
     "output_type": "execute_result"
    }
   ],
   "source": [
    "# What is the opinion of user \"3000\" about \"Time to Kill, A (1996)\")\n",
    "# in the approximate model (true mark 1.0) ?\n",
    "IncrementalSVD.get_predicted_rating(model, \"3000\", \"Time to Kill, A (1996)\")"
   ]
  },
  {
   "cell_type": "markdown",
   "metadata": {
    "nbpresent": {
     "id": "22a2e6a0-950b-436e-ba76-43bdd7f4e917"
    }
   },
   "source": [
    "## Thank you for you attention\n",
    "\n",
    "### Questions?"
   ]
  },
  {
   "cell_type": "code",
   "execution_count": null,
   "metadata": {
    "collapsed": true,
    "nbpresent": {
     "id": "5a1c181f-cbc4-4c2a-b0a2-ef794b15a4e9"
    }
   },
   "outputs": [],
   "source": []
  }
 ],
 "metadata": {
  "@webio": {
   "lastCommId": null,
   "lastKernelId": null
  },
  "anaconda-cloud": {},
  "kernelspec": {
   "display_name": "Julia 1.4.1",
   "language": "julia",
   "name": "julia-1.4"
  },
  "language_info": {
   "file_extension": ".jl",
   "mimetype": "application/julia",
   "name": "julia",
   "version": "1.4.1"
  },
  "nbpresent": {
   "slides": {
    "1cd0ac1d-c1cb-4af0-a0e8-0b8bad5991ba": {
     "id": "1cd0ac1d-c1cb-4af0-a0e8-0b8bad5991ba",
     "prev": "349d3274-d0eb-4ee7-b382-ce9e6bbcd5c4",
     "regions": {
      "86d9dd72-a9cf-4c44-8e0d-d5002b856393": {
       "attrs": {
        "height": 0.862533692722372,
        "width": 0.8909703504043127,
        "x": 0.05754716981132078,
        "y": 0.06765498652291105
       },
       "content": {
        "cell": "5bd4499f-d408-4ef5-873c-d2af140a3863",
        "part": "whole"
       },
       "id": "86d9dd72-a9cf-4c44-8e0d-d5002b856393"
      }
     }
    },
    "349d3274-d0eb-4ee7-b382-ce9e6bbcd5c4": {
     "id": "349d3274-d0eb-4ee7-b382-ce9e6bbcd5c4",
     "prev": "ba488065-74e0-4b8c-98a7-fb8558e1154a",
     "regions": {
      "bd479cc5-076a-4e06-a106-2630ef5ea0c9": {
       "attrs": {
        "height": 0.862533692722372,
        "width": 0.8909703504043127,
        "x": 0.05754716981132078,
        "y": 0.06765498652291105
       },
       "content": {
        "cell": "8e161bdf-c2f4-457b-aa37-87cb7b94a62a",
        "part": "whole"
       },
       "id": "bd479cc5-076a-4e06-a106-2630ef5ea0c9"
      }
     }
    },
    "3f48ce7c-7017-4233-8825-085ad960ed2c": {
     "id": "3f48ce7c-7017-4233-8825-085ad960ed2c",
     "prev": "46500afe-d3ad-4c04-99c1-e4a629ff80fa",
     "regions": {
      "8732f081-c5cf-4ee8-9f9e-23836dd39254": {
       "attrs": {
        "height": 0.862533692722372,
        "width": 0.8909703504043127,
        "x": 0.05754716981132078,
        "y": 0.06765498652291105
       },
       "content": {
        "cell": "0dc62bf7-111e-4a65-aa8f-d581ccc78705",
        "part": "whole"
       },
       "id": "8732f081-c5cf-4ee8-9f9e-23836dd39254"
      }
     }
    },
    "46500afe-d3ad-4c04-99c1-e4a629ff80fa": {
     "id": "46500afe-d3ad-4c04-99c1-e4a629ff80fa",
     "prev": "5893a45f-1a1b-4718-95ce-e884db795854",
     "regions": {
      "76b1f58a-d0f8-4c33-a07c-7c9b7df69728": {
       "attrs": {
        "height": 0.862533692722372,
        "width": 0.8909703504043127,
        "x": 0.05754716981132078,
        "y": 0.06765498652291105
       },
       "content": {
        "cell": "310609df-23c9-43d4-be57-c9e837921be5",
        "part": "whole"
       },
       "id": "76b1f58a-d0f8-4c33-a07c-7c9b7df69728"
      }
     }
    },
    "5893a45f-1a1b-4718-95ce-e884db795854": {
     "id": "5893a45f-1a1b-4718-95ce-e884db795854",
     "prev": "1cd0ac1d-c1cb-4af0-a0e8-0b8bad5991ba",
     "regions": {
      "7c4ffea1-5019-4513-8e16-11661129e1ac": {
       "attrs": {
        "height": 0.862533692722372,
        "width": 0.8909703504043127,
        "x": 0.05754716981132078,
        "y": 0.06765498652291105
       },
       "content": {
        "cell": "95e8dd12-5e61-4c6e-903e-21d9933c61d6",
        "part": "whole"
       },
       "id": "7c4ffea1-5019-4513-8e16-11661129e1ac"
      }
     }
    },
    "8d8ecace-4749-46a8-be9f-51a1eb805331": {
     "id": "8d8ecace-4749-46a8-be9f-51a1eb805331",
     "prev": "cb28b9cd-b502-4716-9f7b-56621414d63d",
     "regions": {
      "32c0514e-1a19-4fb7-8fbd-ead249f4b14c": {
       "attrs": {
        "height": 0.862533692722372,
        "width": 0.8909703504043127,
        "x": 0.05754716981132078,
        "y": 0.06765498652291105
       },
       "content": {
        "cell": "5b02d01f-08b5-41cf-ae99-5c997f1618ad",
        "part": "whole"
       },
       "id": "32c0514e-1a19-4fb7-8fbd-ead249f4b14c"
      }
     }
    },
    "9418d3f9-1ec7-4989-8e56-dab8e0a74445": {
     "id": "9418d3f9-1ec7-4989-8e56-dab8e0a74445",
     "prev": "8d8ecace-4749-46a8-be9f-51a1eb805331",
     "regions": {
      "16ced40a-d165-41cb-bf8d-8e29cce20e1b": {
       "attrs": {
        "height": 0.862533692722372,
        "width": 0.8909703504043127,
        "x": 0.05754716981132078,
        "y": 0.06765498652291105
       },
       "content": {
        "cell": "4c3647c8-bf68-4fc7-9494-d11fdb86327f",
        "part": "whole"
       },
       "id": "16ced40a-d165-41cb-bf8d-8e29cce20e1b"
      }
     }
    },
    "b957b398-0d2c-4847-b361-fa13259afa90": {
     "id": "b957b398-0d2c-4847-b361-fa13259afa90",
     "prev": "3f48ce7c-7017-4233-8825-085ad960ed2c",
     "regions": {
      "25fb7865-d4e1-4171-b87c-555050a5ca6d": {
       "attrs": {
        "height": 0.862533692722372,
        "width": 0.8909703504043127,
        "x": 0.05754716981132078,
        "y": 0.06765498652291105
       },
       "content": {
        "cell": "4944f869-4080-4947-a6ad-a08c3f2dc6b8",
        "part": "whole"
       },
       "id": "25fb7865-d4e1-4171-b87c-555050a5ca6d"
      }
     }
    },
    "ba488065-74e0-4b8c-98a7-fb8558e1154a": {
     "id": "ba488065-74e0-4b8c-98a7-fb8558e1154a",
     "prev": "bb7e38c1-de6d-4306-8ae3-b5fe3f93bff6",
     "regions": {
      "cb304583-e2bf-48c2-99f0-16105f750e23": {
       "attrs": {
        "height": 0.862533692722372,
        "width": 0.8909703504043127,
        "x": 0.05754716981132078,
        "y": 0.06765498652291105
       },
       "content": {
        "cell": "ec4afe08-74b2-4219-b379-b3a4cfb185c9",
        "part": "whole"
       },
       "id": "cb304583-e2bf-48c2-99f0-16105f750e23"
      }
     }
    },
    "bb7e38c1-de6d-4306-8ae3-b5fe3f93bff6": {
     "id": "bb7e38c1-de6d-4306-8ae3-b5fe3f93bff6",
     "prev": "9418d3f9-1ec7-4989-8e56-dab8e0a74445",
     "regions": {
      "7635dca9-5603-4d55-a537-8399529bde25": {
       "attrs": {
        "height": 0.862533692722372,
        "width": 0.8909703504043127,
        "x": 0.05754716981132078,
        "y": 0.06765498652291105
       },
       "content": {
        "cell": "d194cf53-622d-4d19-a5ea-7bfb4e7cedf1",
        "part": "whole"
       },
       "id": "7635dca9-5603-4d55-a537-8399529bde25"
      }
     }
    },
    "cb28b9cd-b502-4716-9f7b-56621414d63d": {
     "id": "cb28b9cd-b502-4716-9f7b-56621414d63d",
     "prev": null,
     "regions": {
      "f6aa654d-8688-4646-b714-4cc31e207a0e": {
       "attrs": {
        "height": 0.862533692722372,
        "width": 0.8909703504043127,
        "x": 0.05754716981132078,
        "y": 0.06765498652291105
       },
       "content": {
        "cell": "c8a714c5-14b1-4002-862d-8f81edb5674c",
        "part": "whole"
       },
       "id": "f6aa654d-8688-4646-b714-4cc31e207a0e"
      }
     }
    },
    "d1341b75-44ac-4088-af3c-800b55d8ae03": {
     "id": "d1341b75-44ac-4088-af3c-800b55d8ae03",
     "prev": "b957b398-0d2c-4847-b361-fa13259afa90",
     "regions": {
      "042a2844-bd34-4957-af39-c824c7198b77": {
       "attrs": {
        "height": 0.862533692722372,
        "width": 0.8909703504043127,
        "x": 0.05754716981132078,
        "y": 0.06765498652291105
       },
       "content": {
        "cell": "22a2e6a0-950b-436e-ba76-43bdd7f4e917",
        "part": "whole"
       },
       "id": "042a2844-bd34-4957-af39-c824c7198b77"
      }
     }
    }
   },
   "themes": {
    "default": "12eec1f4-2448-4fdf-9ec4-8075829abdca",
    "theme": {
     "12eec1f4-2448-4fdf-9ec4-8075829abdca": {
      "id": "12eec1f4-2448-4fdf-9ec4-8075829abdca",
      "palette": {
       "19cc588f-0593-49c9-9f4b-e4d7cc113b1c": {
        "id": "19cc588f-0593-49c9-9f4b-e4d7cc113b1c",
        "rgb": [
         252,
         252,
         252
        ]
       },
       "31af15d2-7e15-44c5-ab5e-e04b16a89eff": {
        "id": "31af15d2-7e15-44c5-ab5e-e04b16a89eff",
        "rgb": [
         68,
         68,
         68
        ]
       },
       "50f92c45-a630-455b-aec3-788680ec7410": {
        "id": "50f92c45-a630-455b-aec3-788680ec7410",
        "rgb": [
         155,
         177,
         192
        ]
       },
       "c5cc3653-2ee1-402a-aba2-7caae1da4f6c": {
        "id": "c5cc3653-2ee1-402a-aba2-7caae1da4f6c",
        "rgb": [
         43,
         126,
         184
        ]
       },
       "efa7f048-9acb-414c-8b04-a26811511a21": {
        "id": "efa7f048-9acb-414c-8b04-a26811511a21",
        "rgb": [
         25.118061674008803,
         73.60176211453744,
         107.4819383259912
        ]
       }
      },
      "rules": {
       "blockquote": {
        "color": "50f92c45-a630-455b-aec3-788680ec7410"
       },
       "code": {
        "font-family": "Anonymous Pro"
       },
       "h1": {
        "color": "c5cc3653-2ee1-402a-aba2-7caae1da4f6c",
        "font-family": "Lato",
        "font-size": 8
       },
       "h2": {
        "color": "c5cc3653-2ee1-402a-aba2-7caae1da4f6c",
        "font-family": "Lato",
        "font-size": 6
       },
       "h3": {
        "color": "50f92c45-a630-455b-aec3-788680ec7410",
        "font-family": "Lato",
        "font-size": 5.5
       },
       "h4": {
        "color": "c5cc3653-2ee1-402a-aba2-7caae1da4f6c",
        "font-family": "Lato",
        "font-size": 5
       },
       "h5": {
        "font-family": "Lato"
       },
       "h6": {
        "font-family": "Lato"
       },
       "h7": {
        "font-family": "Lato"
       },
       "pre": {
        "font-family": "Anonymous Pro",
        "font-size": 4
       }
      },
      "text-base": {
       "font-family": "Merriweather",
       "font-size": 4
      }
     },
     "513c8753-d394-4ff4-95ce-f452e39334f5": {
      "backgrounds": {
       "backgroundColor": {
        "background-color": "backgroundColor",
        "id": "backgroundColor"
       }
      },
      "id": "513c8753-d394-4ff4-95ce-f452e39334f5",
      "palette": {
       "backgroundColor": {
        "id": "backgroundColor",
        "rgb": [
         17,
         17,
         17
        ]
       },
       "headingColor": {
        "id": "headingColor",
        "rgb": [
         238,
         238,
         238
        ]
       },
       "linkColor": {
        "id": "linkColor",
        "rgb": [
         231,
         173,
         82
        ]
       },
       "mainColor": {
        "id": "mainColor",
        "rgb": [
         238,
         238,
         238
        ]
       }
      },
      "rules": {
       "a": {
        "color": "linkColor"
       },
       "h1": {
        "color": "headingColor",
        "font-family": "Montserrat",
        "font-size": 7
       },
       "h2": {
        "color": "headingColor",
        "font-family": "Montserrat",
        "font-size": 5
       },
       "h3": {
        "color": "headingColor",
        "font-family": "Montserrat",
        "font-size": 3.75
       },
       "h4": {
        "color": "headingColor",
        "font-family": "Montserrat",
        "font-size": 3
       },
       "h5": {
        "color": "headingColor",
        "font-family": "Montserrat"
       },
       "h6": {
        "color": "headingColor",
        "font-family": "Montserrat"
       },
       "h7": {
        "color": "headingColor",
        "font-family": "Montserrat"
       },
       "li": {
        "color": "mainColor",
        "font-family": "Open Sans",
        "font-size": 4
       },
       "p": {
        "color": "mainColor",
        "font-family": "Open Sans",
        "font-size": 4
       }
      },
      "text-base": {
       "color": "mainColor",
       "font-family": "Open Sans",
       "font-size": 4
      }
     },
     "82f1c284-7368-467d-81a6-51fa90d6c991": {
      "backgrounds": {
       "backgroundColor": {
        "background-color": "backgroundColor",
        "id": "backgroundColor"
       }
      },
      "id": "82f1c284-7368-467d-81a6-51fa90d6c991",
      "palette": {
       "backgroundColor": {
        "id": "backgroundColor",
        "rgb": [
         17,
         17,
         17
        ]
       },
       "headingColor": {
        "id": "headingColor",
        "rgb": [
         238,
         238,
         238
        ]
       },
       "linkColor": {
        "id": "linkColor",
        "rgb": [
         231,
         173,
         82
        ]
       },
       "mainColor": {
        "id": "mainColor",
        "rgb": [
         238,
         238,
         238
        ]
       }
      },
      "rules": {
       "a": {
        "color": "linkColor"
       },
       "h1": {
        "color": "headingColor",
        "font-family": "Montserrat",
        "font-size": 7
       },
       "h2": {
        "color": "headingColor",
        "font-family": "Montserrat",
        "font-size": 5
       },
       "h3": {
        "color": "headingColor",
        "font-family": "Montserrat",
        "font-size": 3.75
       },
       "h4": {
        "color": "headingColor",
        "font-family": "Montserrat",
        "font-size": 3
       },
       "h5": {
        "color": "headingColor",
        "font-family": "Montserrat"
       },
       "h6": {
        "color": "headingColor",
        "font-family": "Montserrat"
       },
       "h7": {
        "color": "headingColor",
        "font-family": "Montserrat"
       },
       "li": {
        "color": "mainColor",
        "font-family": "Open Sans",
        "font-size": 4
       },
       "p": {
        "color": "mainColor",
        "font-family": "Open Sans",
        "font-size": 4
       }
      },
      "text-base": {
       "color": "mainColor",
       "font-family": "Open Sans",
       "font-size": 4
      }
     }
    }
   }
  }
 },
 "nbformat": 4,
 "nbformat_minor": 1
}
