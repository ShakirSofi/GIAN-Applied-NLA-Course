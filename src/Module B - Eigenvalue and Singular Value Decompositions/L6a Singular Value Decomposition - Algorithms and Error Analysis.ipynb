{
 "cells": [
  {
   "cell_type": "markdown",
   "metadata": {},
   "source": [
    "# Singular Value Decomposition - Algorithms and Error Analysis\n",
    "\n",
    "We study only algorithms for real matrices, which are most commonly used in the applications described in this course. \n",
    "\n",
    "\n",
    "For more details, see \n",
    "[A. Kaylor Cline and I. Dhillon, Computation of the Singular Value Decomposition][Hog14] and the references therein.\n",
    "\n",
    "[Hog14]: #1 \"L. Hogben, ed., 'Handbook of Linear Algebra', pp. 58.1-58.13, CRC Press, Boca Raton, 2014.\"\n",
    "\n",
    "\n",
    "## Prerequisites\n",
    "\n",
    "The reader should be familiar with facts about the singular value decomposition and perturbation theory and algorithms for the symmetric eigenvalue decomposition.\n",
    "\n",
    " \n",
    "## Competences \n",
    "\n",
    "The reader should be able to apply an adequate algorithm to a given problem, and to assess the accuracy of the solution."
   ]
  },
  {
   "cell_type": "markdown",
   "metadata": {},
   "source": [
    "## Basics\n",
    "\n",
    "### Definitions \n",
    "\n",
    "The __signular value decomposition__ (SVD) of $A\\in\\mathbb{R}^{m\\times n}$ is\n",
    "$A=U\\Sigma V^T$, where $U\\in\\mathbb{R}^{m\\times m}$ is orthogonal, $U^TU=UU^T=I_m$, \n",
    "$V\\in\\mathbb{R}^{n\\times n}$ is orthogonal, $V^TV=VV^T=I_n$, and \n",
    "$\\Sigma \\in\\mathbb{R}^{m\\times n}$ is diagonal with singular values \n",
    "$\\sigma_1,\\ldots,\\sigma_{\\min\\{m,n\\}}$ on the diagonal. \n",
    "\n",
    "If $m>n$, the __thin SVD__ of $A$ is $A=U_{1:m,1:n} \\Sigma_{1:n,1:n} V^T$.\n",
    "\n",
    "### Facts\n",
    "\n",
    "1. Algorithms for computing SVD of $A$ are modifications of algorithms for the symmetric eigenvalue decomposition of the matrices $AA^T$, $A^TA$ and \n",
    "$\\begin{bmatrix} 0 & A\\\\ A^T & 0 \\end{bmatrix}$.\n",
    "\n",
    "2. Most commonly used approach is the three-step algorithm:\n",
    "    1. Reduce $A$ to bidiagonal matrix $B$ by orthogonal transformations, $X^TAY=B$.\n",
    "    2. Compute the SVD of $B$ with QR iterations, $B=W\\Sigma Z^T$.\n",
    "    3. Multiply $U=XW$ and $V=YZ$.\n",
    "\n",
    "3. If $m\\geq n$, the overall operation count for this algorithm is $O(mn^2)$ operations.\n",
    "\n",
    "4. __Error bounds.__ Let $U\\Sigma V^T$ and $\\tilde U \\tilde \\Sigma \\tilde V^T$ be the\n",
    "exact and the computed SVDs of $A$, respectively. The algorithms generally\n",
    "compute the SVD with errors bounded by\n",
    "$$\n",
    "|\\sigma_i-\\tilde \\sigma_i|\\leq \\phi \\epsilon\\|A\\|_2,\n",
    "\\qquad\n",
    "\\|u_i-\\tilde u_i\\|_2, \\| v_i-\\tilde v_i\\|_2 \\leq \\psi\\epsilon \\frac{\\|A\\|_2}\n",
    "{\\min_{j\\neq i} \n",
    "|\\sigma_i-\\tilde \\sigma_j|},\n",
    "$$\n",
    "where $\\epsilon$ is machine precision and $\\phi$ and $\\psi$\n",
    "are slowly growing polynomial functions of\n",
    "$n$ which depend upon the algorithm used (typically $O(n)$ or $O(n^2)$).\n",
    "These bounds are obtained by combining perturbation bounds with the floating-point error analysis of the algorithms."
   ]
  },
  {
   "cell_type": "markdown",
   "metadata": {},
   "source": [
    "##  Bidiagonalization\n",
    "\n",
    "\n",
    "### Facts\n",
    "\n",
    "1. The reduction of $A$ to bidiagonal matrix can be performed by applying \n",
    "$\\min\\{m-1,n\\}$ Householder reflections $H_L$ from the left and $n-2$ Householder reflections $H_R$ from the right. In the first step, $H_L$ is chosen to annihilate all elements of the first column below the diagonal, and $H_R$ is chosen to annihilate all elements of the first row right of the first super-diagonal. Applying this procedure recursively yields the bidiagonal matrix.\n",
    "\n",
    "3. $H_L$ and $H_R$ do not depend on the normalization of the respective Householder \n",
    "vectors $v_L$ and $v_R$. With the normalization $[v_L]_1=[V_R]_1=1$, the vectors $v_L$ are stored in the lower-triangular part of $A$, and the vectors $v_R$ are stored in the upper-triangular part of $A$ above the super-diagonal. \n",
    "\n",
    "4. The matrices $H_L$ and $H_R$ are not formed explicitly - given $v_L$ and $v_R$, $A$ is overwritten with $H_L A H_R$ in $O(mn)$ operations by using matrix-vector multiplication and rank-one updates.\n",
    "\n",
    "5. Instead of performing rank-one updates, $p$ transformations can be accumulated, and then applied. This __block algorithm__ is rich in matrix-matrix multiplications (roughly one\n",
    "half of the operations is performed using BLAS 3 routines), but\n",
    "it requires extra workspace.\n",
    "\n",
    "6. If the matrices $X$ and $Y$ are needed explicitly, they can be computed from the \n",
    "stored Householder vectors.\n",
    "In order to minimize the operation count, the computation\n",
    "starts from the smallest matrix and the size is gradually\n",
    "increased.\n",
    "\n",
    "7. The backward error bounds for the bidiagonalization are as follows: \n",
    "The computed matrix $\\tilde B$ is equal to the matrix which\n",
    "would be obtained by exact bidiagonalization of some perturbed matrix $A+\\Delta A$, \n",
    "where $\\|\\Delta A\\|_2 \\leq \\psi \\varepsilon \\|A\\|_2$ and $\\psi$ is a\n",
    "slowly increasing function of $n$.\n",
    "The computed matrices $\\tilde X$ and $\\tilde Y$ satisfy $\\tilde X=X+\\Delta X$ and \n",
    "$\\tilde Y=Y+\\Delta Y$, where\n",
    "$\\|\\Delta X \\|_2,\\|\\Delta Y\\|_2\\leq \\phi \\varepsilon$ \n",
    "and $\\phi$ is a slowly increasing function of $n$.\n",
    "\n",
    "12. The bidiagonal reduction is implemented in the \n",
    "[LAPACK](http://www.netlib.org/lapack) subroutine \n",
    "[DGEBRD](http://www.netlib.org/lapack/explore-html/dd/d9a/group__double_g_ecomputational.html#ga9c735b94f840f927f8085fd23f3ee2e6).\n",
    "The computation of $X$ and $Y$ is implemented in the subroutine\n",
    "[DORGBR](http://www.netlib.org/lapack/lapack-3.1.1/html/dorgtr.f.html), which is not yet wrapped in Julia.\n",
    "\n",
    "8. Bidiagonalization can also be performed using Givens rotations.\n",
    "Givens rotations act more selectively than Householder reflectors, and\n",
    "are useful if $A$ has some special structure, for example, if $A$ is a banded matrix. \n",
    "Error bounds for function `myBidiagG()` are the same as above, \n",
    "but with slightly different functions $\\psi$ and $\\phi$."
   ]
  },
  {
   "cell_type": "code",
   "execution_count": 1,
   "metadata": {},
   "outputs": [
    {
     "data": {
      "text/plain": [
       "8×5 Array{Float64,2}:\n",
       " -8.0  -1.0  -2.0   2.0  -9.0\n",
       " -6.0   7.0   1.0   1.0   5.0\n",
       "  3.0   2.0   9.0  -3.0   1.0\n",
       "  7.0  -4.0  -8.0   0.0  -5.0\n",
       " -7.0   1.0  -4.0   3.0  -1.0\n",
       "  0.0   0.0  -2.0   3.0  -8.0\n",
       "  2.0   2.0  -2.0  -7.0  -6.0\n",
       " -7.0  -3.0  -8.0  -8.0  -5.0"
      ]
     },
     "execution_count": 1,
     "metadata": {},
     "output_type": "execute_result"
    }
   ],
   "source": [
    "m=8\n",
    "n=5\n",
    "s=srand(421)\n",
    "A=map(Float64,rand(-9:9,m,n))"
   ]
  },
  {
   "cell_type": "code",
   "execution_count": 2,
   "metadata": {},
   "outputs": [
    {
     "data": {
      "text/markdown": [
       "```\n",
       "gebrd!(A) -> (A, d, e, tauq, taup)\n",
       "```\n",
       "\n",
       "Reduce `A` in-place to bidiagonal form `A = QBP'`. Returns `A`, containing the bidiagonal matrix `B`; `d`, containing the diagonal elements of `B`; `e`, containing the off-diagonal elements of `B`; `tauq`, containing the elementary reflectors representing `Q`; and `taup`, containing the elementary reflectors representing `P`.\n"
      ],
      "text/plain": [
       "```\n",
       "gebrd!(A) -> (A, d, e, tauq, taup)\n",
       "```\n",
       "\n",
       "Reduce `A` in-place to bidiagonal form `A = QBP'`. Returns `A`, containing the bidiagonal matrix `B`; `d`, containing the diagonal elements of `B`; `e`, containing the off-diagonal elements of `B`; `tauq`, containing the elementary reflectors representing `Q`; and `taup`, containing the elementary reflectors representing `P`.\n"
      ]
     },
     "execution_count": 2,
     "metadata": {},
     "output_type": "execute_result"
    }
   ],
   "source": [
    "?LAPACK.gebrd!"
   ]
  },
  {
   "cell_type": "code",
   "execution_count": 3,
   "metadata": {},
   "outputs": [
    {
     "data": {
      "text/plain": [
       "([16.1245 5.13847 … 0.0827436 -0.330974; 0.24871 -13.9844 … 0.106485 0.452059; … ; -0.0829032 -0.323642 … 0.839322 -0.232154; 0.290161 -0.172772 … 0.369154 0.658444], [16.1245, -13.9844, -9.58104, -11.0389, -10.2308], [5.13847, 13.1844, -3.25817, -0.512951, 0.0], [1.49614, 1.17804, 1.46179, 1.07781, 1.11912], [1.45863, 1.64515, 1.97139, 0.0, 0.0])"
      ]
     },
     "execution_count": 3,
     "metadata": {},
     "output_type": "execute_result"
    }
   ],
   "source": [
    "# We need copy()\n",
    "Outg=LAPACK.gebrd!(copy(A))"
   ]
  },
  {
   "cell_type": "code",
   "execution_count": 4,
   "metadata": {},
   "outputs": [
    {
     "data": {
      "text/plain": [
       "5×5 Bidiagonal{Float64}:\n",
       " 16.1245    5.13847    ⋅          ⋅          ⋅      \n",
       "   ⋅      -13.9844   13.1844      ⋅          ⋅      \n",
       "   ⋅         ⋅       -9.58104   -3.25817     ⋅      \n",
       "   ⋅         ⋅         ⋅       -11.0389    -0.512951\n",
       "   ⋅         ⋅         ⋅          ⋅       -10.2308  "
      ]
     },
     "execution_count": 4,
     "metadata": {},
     "output_type": "execute_result"
    }
   ],
   "source": [
    "B=Bidiagonal(Outg[2],Outg[3][1:end-1],true)"
   ]
  },
  {
   "cell_type": "code",
   "execution_count": 5,
   "metadata": {},
   "outputs": [
    {
     "data": {
      "text/plain": [
       "([21.167, 16.1921, 11.6027, 10.1944, 6.01866], [21.167, 16.1921, 11.6027, 10.1944, 6.01866])"
      ]
     },
     "execution_count": 5,
     "metadata": {},
     "output_type": "execute_result"
    }
   ],
   "source": [
    "svdvals(A), svdvals(B)"
   ]
  },
  {
   "cell_type": "code",
   "execution_count": 6,
   "metadata": {},
   "outputs": [
    {
     "data": {
      "text/plain": [
       "myBidiagY (generic function with 1 method)"
      ]
     },
     "execution_count": 6,
     "metadata": {},
     "output_type": "execute_result"
    }
   ],
   "source": [
    "# Extract X\n",
    "function myBidiagX(H::Array)\n",
    "    m,n=size(H)\n",
    "    T=typeof(H[1,1])\n",
    "    X = eye(T,m,n)\n",
    "    v=Array{T}(m)\n",
    "    for j = n : -1 : 1\n",
    "        v[j] = one(T)\n",
    "        v[j+1:m] = H[j+1:m, j]\n",
    "        γ = -2 / (v[j:m]⋅v[j:m])\n",
    "        w = γ * X[j:m, j:n]'*v[j:m]\n",
    "        X[j:m, j:n] = X[j:m, j:n] + v[j:m]*w'\n",
    "    end\n",
    "    X\n",
    "end\n",
    "\n",
    "# Extract Y\n",
    "function myBidiagY(H::Array)\n",
    "    n,m=size(H)\n",
    "    T=typeof(H[1,1])\n",
    "    Y = eye(T,n)\n",
    "    v=Array{T}(n)\n",
    "    for j = n-2 : -1 : 1\n",
    "        v[j+1] = one(T)\n",
    "        v[j+2:n] = H[j+2:n, j]\n",
    "        γ = -2 / (v[j+1:n]⋅v[j+1:n])\n",
    "        w = γ * Y[j+1:n, j+1:n]'*v[j+1:n]\n",
    "        Y[j+1:n, j+1:n] = Y[j+1:n, j+1:n] + v[j+1:n]*w'\n",
    "    end\n",
    "    Y\n",
    "end"
   ]
  },
  {
   "cell_type": "code",
   "execution_count": 7,
   "metadata": {},
   "outputs": [
    {
     "data": {
      "text/plain": [
       "8×5 Array{Float64,2}:\n",
       " -0.496139   0.218152  -0.228942    0.139865   0.548494 \n",
       " -0.372104  -0.123781   0.721083   -0.269817  -0.14492  \n",
       "  0.186052  -0.400271  -0.186877   -0.381146   0.418489 \n",
       "  0.434122   0.622108   0.0728932   0.142778  -0.19147  \n",
       " -0.434122   0.144278   0.211698    0.20254   -0.0701254\n",
       "  0.0        0.407358   0.191111    0.085435   0.527199 \n",
       "  0.124035   0.363177   0.146036   -0.748373   0.143439 \n",
       " -0.434122   0.266831  -0.533594   -0.365505  -0.403642 "
      ]
     },
     "execution_count": 7,
     "metadata": {},
     "output_type": "execute_result"
    }
   ],
   "source": [
    "X=myBidiagX(Outg[1])"
   ]
  },
  {
   "cell_type": "code",
   "execution_count": 8,
   "metadata": {},
   "outputs": [
    {
     "data": {
      "text/plain": [
       "5×5 Array{Float64,2}:\n",
       " 1.0   0.0        0.0        0.0        0.0     \n",
       " 0.0  -0.458631  -0.812867   0.329131  -0.143449\n",
       " 0.0   0.736223  -0.234864   0.180671  -0.608418\n",
       " 0.0  -0.120692  -0.242442  -0.907227  -0.321859\n",
       " 0.0   0.482769  -0.474666  -0.189655   0.711096"
      ]
     },
     "execution_count": 8,
     "metadata": {},
     "output_type": "execute_result"
    }
   ],
   "source": [
    "Y=myBidiagY(Outg[1]')"
   ]
  },
  {
   "cell_type": "code",
   "execution_count": 9,
   "metadata": {},
   "outputs": [
    {
     "data": {
      "text/plain": [
       "(1.4131996528429256e-15, 4.933896999410976e-16)"
      ]
     },
     "execution_count": 9,
     "metadata": {},
     "output_type": "execute_result"
    }
   ],
   "source": [
    "# Orthogonality\n",
    "vecnorm(X'*X-I), vecnorm(Y'*Y-I)"
   ]
  },
  {
   "cell_type": "code",
   "execution_count": 10,
   "metadata": {},
   "outputs": [
    {
     "data": {
      "text/plain": [
       "1.5895005310615506e-14"
      ]
     },
     "execution_count": 10,
     "metadata": {},
     "output_type": "execute_result"
    }
   ],
   "source": [
    "# Residual error\n",
    "vecnorm(A*Y-X*B)"
   ]
  },
  {
   "cell_type": "code",
   "execution_count": 11,
   "metadata": {},
   "outputs": [
    {
     "data": {
      "text/plain": [
       "myBidiagG (generic function with 1 method)"
      ]
     },
     "execution_count": 11,
     "metadata": {},
     "output_type": "execute_result"
    }
   ],
   "source": [
    "# Bidiagonalization using Givens rotations\n",
    "function myBidiagG(A1::Array)\n",
    "    A=deepcopy(A1)\n",
    "    m,n=size(A)\n",
    "    T=typeof(A[1,1])\n",
    "    X=eye(T,m,m)\n",
    "    Y=eye(T,n,n)\n",
    "    for j = 1 : n        \n",
    "        for i = j+1 : m\n",
    "            G,r=givens(A,j,i,j)\n",
    "            # Use the faster in-place variant\n",
    "            # A=G*A\n",
    "            # X=G*X\n",
    "            A_mul_B!(G,A)\n",
    "            A_mul_B!(G,X)\n",
    "        end\n",
    "        for i=j+2:n\n",
    "            G,r=givens(A',j+1,i,j)            \n",
    "            # A=A*G'\n",
    "            # Y*=G'\n",
    "            A_mul_Bc!(A,G)\n",
    "            A_mul_Bc!(Y,G)\n",
    "        end\n",
    "    end\n",
    "    X',Bidiagonal(diag(A),diag(A,1),true), Y\n",
    "end"
   ]
  },
  {
   "cell_type": "code",
   "execution_count": 12,
   "metadata": {},
   "outputs": [
    {
     "data": {
      "text/plain": [
       "([0.496139 0.218152 … 0.461552 -0.308972; 0.372104 -0.123781 … 0.388273 0.248552; … ; -0.124035 0.363177 … -0.212956 -0.453215; 0.434122 0.266831 … 0.0 0.398869], 5×5 Bidiagonal{Float64}:\n",
       " diag: -16.124515496597102  13.984444568826952  …  10.23083099487791\n",
       " super: 5.138467296173651  -13.184384910674824  …  -0.5129509442085607, [1.0 0.0 … 0.0 0.0; 0.0 0.458631 … -0.329131 -0.143449; … ; 0.0 0.120692 … 0.907227 -0.321859; 0.0 -0.482769 … 0.189655 0.711096])"
      ]
     },
     "execution_count": 12,
     "metadata": {},
     "output_type": "execute_result"
    }
   ],
   "source": [
    "X1, B1, Y1 = myBidiagG(A)"
   ]
  },
  {
   "cell_type": "code",
   "execution_count": 13,
   "metadata": {},
   "outputs": [
    {
     "data": {
      "text/plain": [
       "(8.706420678153364e-16, 4.728461161860565e-16)"
      ]
     },
     "execution_count": 13,
     "metadata": {},
     "output_type": "execute_result"
    }
   ],
   "source": [
    "# Orthogonality\n",
    "vecnorm(X1'*X1-I), vecnorm(Y1'*Y1-I)"
   ]
  },
  {
   "cell_type": "code",
   "execution_count": 14,
   "metadata": {},
   "outputs": [
    {
     "data": {
      "text/plain": [
       "8×5 Array{Float64,2}:\n",
       " -16.1245        5.13847       -2.21042e-15   3.20822e-16  -7.96603e-16\n",
       "   8.88178e-16  13.9844       -13.1844       -2.65924e-16  -2.41072e-15\n",
       "  -1.22125e-15  -8.7425e-16     9.58104       3.25817       3.08144e-15\n",
       "   1.11022e-15  -1.90283e-16   -1.56095e-15  11.0389       -0.512951   \n",
       "  -1.22125e-15   3.29889e-16    1.41e-15      1.19112e-15  10.2308     \n",
       "   0.0          -1.54899e-15    7.40357e-16  -6.82381e-16  -7.39309e-16\n",
       "   4.44089e-16  -3.08189e-15   -6.94843e-16  -6.544e-16    -1.45398e-15\n",
       "   1.16573e-15  -7.67794e-16   -7.35941e-17   6.07855e-16  -9.74301e-18"
      ]
     },
     "execution_count": 14,
     "metadata": {},
     "output_type": "execute_result"
    }
   ],
   "source": [
    "# Diagonalization\n",
    "X1'*A*Y1"
   ]
  },
  {
   "cell_type": "code",
   "execution_count": 15,
   "metadata": {},
   "outputs": [
    {
     "data": {
      "text/plain": [
       "5×5 Bidiagonal{Float64}:\n",
       " 16.1245    5.13847    ⋅          ⋅          ⋅      \n",
       "   ⋅      -13.9844   13.1844      ⋅          ⋅      \n",
       "   ⋅         ⋅       -9.58104   -3.25817     ⋅      \n",
       "   ⋅         ⋅         ⋅       -11.0389    -0.512951\n",
       "   ⋅         ⋅         ⋅          ⋅       -10.2308  "
      ]
     },
     "execution_count": 15,
     "metadata": {},
     "output_type": "execute_result"
    }
   ],
   "source": [
    "# X, Y and B are not unique\n",
    "B"
   ]
  },
  {
   "cell_type": "markdown",
   "metadata": {},
   "source": [
    "## Bidiagonal QR method\n",
    "\n",
    "Let $B$ be a real upper-bidiagonal matrix of order $n$ and let \n",
    "$B=W\\Sigma Z^T$ be its SVD.\n",
    "\n",
    "All metods for computing the SVD of bidiagonal matrix are derived from the methods \n",
    "for computing the EVD of the tridiagonal matrix $T=B^T B$.\n",
    "\n",
    "\n",
    "### Facts\n",
    "\n",
    "1. The shift $\\mu$ is the eigenvalue of the $2\\times 2$ matrix $T_{n-1:n,n-1:n}$ which is closer to $T_{n,n}$. The first Givens rotation from the right is the one which annihilates \n",
    "the element $(1,2)$ of the shifted $2\\times 2$ matrix $T_{1:2,1:2}-\\mu I$. Applying this rotation to $B$ creates the bulge at the element $B_{2,1}$. This bulge is subsequently chased out by applying adequate Givens rotations alternating from the left and from the right.\n",
    "This is the __Golub-Kahan algorithm__.\n",
    "\n",
    "2. The computed SVD satisfes error bounds from the Fact 4 above.\n",
    "\n",
    "3. The special variant of zero-shift QR algorithm (the __Demmel-Kahan algorithm__) computes the singular values with high relative accuracy. \n",
    "\n",
    "4. The tridiagonal divide-and-conquer method, bisection and inverse iteration, and MRRR method can also be adapted for bidiagonal matrices. \n",
    "\n",
    "5. Zero shift QR algorithm for bidiagonal matrices is implemented in the LAPACK routine \n",
    "[DBDSQR](http://www.netlib.org/lapack/explore-html/db/dcc/dbdsqr_8f.html). It is also used in the function `svdvals()`. Divide-and-conquer algorithm for bidiagonal matrices is implemented in the LAPACK routine \n",
    "[DBDSDC](http://www.netlib.org/lapack/explore-html/d9/d08/dbdsdc_8f.html). However, this algorithm also calls zero-shift QR to compute singular values.\n",
    "\n",
    "### Examples"
   ]
  },
  {
   "cell_type": "code",
   "execution_count": 16,
   "metadata": {},
   "outputs": [
    {
     "data": {
      "text/plain": [
       "([0.38462 0.9133 … -0.0153442 0.0997382; -0.865161 0.307806 … -0.0389653 0.347244; … ; 0.0353079 -0.0664132 … -0.13993 -0.361421; 0.000539627 -0.00221267 … 0.986567 0.0277111], [21.167, 16.1921, 11.6027, 10.1944, 6.01866], [0.292994 0.909485 … -0.0242701 0.267208; 0.664957 0.0239911 … 0.0457175 -0.721675; … ; -0.0676505 0.0972535 … 0.174904 0.197812; -0.00111646 0.00350196 … -0.983053 -0.0163021])"
      ]
     },
     "execution_count": 16,
     "metadata": {},
     "output_type": "execute_result"
    }
   ],
   "source": [
    "W,σ,Z=svd(B)"
   ]
  },
  {
   "cell_type": "code",
   "execution_count": 17,
   "metadata": {},
   "outputs": [
    {
     "data": {
      "text/html": [
       "svd(A::<b>Union{AbstractArray, Number}</b>) at <a href=\"https://github.com/JuliaLang/julia/tree/d386e40c17d43b79fc89d3e579fc04547241787c/base/linalg/svd.jl#L106\" target=\"_blank\">linalg\\svd.jl:106</a>"
      ],
      "text/plain": [
       "svd(A::Union{AbstractArray, Number}) in Base.LinAlg at linalg\\svd.jl:106"
      ]
     },
     "execution_count": 17,
     "metadata": {},
     "output_type": "execute_result"
    }
   ],
   "source": [
    "@which svd(B)"
   ]
  },
  {
   "cell_type": "code",
   "execution_count": 19,
   "metadata": {},
   "outputs": [
    {
     "data": {
      "text/plain": [
       "5-element Array{Float64,1}:\n",
       " 21.167  \n",
       " 16.1921 \n",
       " 11.6027 \n",
       " 10.1944 \n",
       "  6.01866"
      ]
     },
     "execution_count": 19,
     "metadata": {},
     "output_type": "execute_result"
    }
   ],
   "source": [
    "σ₁=svdvals(B)"
   ]
  },
  {
   "cell_type": "code",
   "execution_count": 20,
   "metadata": {},
   "outputs": [
    {
     "data": {
      "text/html": [
       "svdvals(A::<b>AbstractArray{#s268,2} where #s268<:Union{Complex{Float32}, Complex{Float64}, Float32, Float64}</b>) at <a href=\"https://github.com/JuliaLang/julia/tree/d386e40c17d43b79fc89d3e579fc04547241787c/base/linalg/svd.jl#L131\" target=\"_blank\">linalg\\svd.jl:131</a>"
      ],
      "text/plain": [
       "svdvals(A::AbstractArray{#s268,2} where #s268<:Union{Complex{Float32}, Complex{Float64}, Float32, Float64}) in Base.LinAlg at linalg\\svd.jl:131"
      ]
     },
     "execution_count": 20,
     "metadata": {},
     "output_type": "execute_result"
    }
   ],
   "source": [
    "@which svdvals(B)"
   ]
  },
  {
   "cell_type": "code",
   "execution_count": 21,
   "metadata": {},
   "outputs": [
    {
     "data": {
      "text/plain": [
       "5-element Array{Float64,1}:\n",
       " -3.55271e-15\n",
       "  3.55271e-15\n",
       " -1.77636e-15\n",
       " -3.55271e-15\n",
       " -1.77636e-15"
      ]
     },
     "execution_count": 21,
     "metadata": {},
     "output_type": "execute_result"
    }
   ],
   "source": [
    "σ-σ₁"
   ]
  },
  {
   "cell_type": "code",
   "execution_count": 22,
   "metadata": {},
   "outputs": [
    {
     "data": {
      "text/markdown": [
       "```\n",
       "bdsqr!(uplo, d, e_, Vt, U, C) -> (d, Vt, U, C)\n",
       "```\n",
       "\n",
       "Computes the singular value decomposition of a bidiagonal matrix with `d` on the diagonal and `e_` on the off-diagonal. If `uplo = U`, `e_` is the superdiagonal. If `uplo = L`, `e_` is the subdiagonal. Can optionally also compute the product `Q' * C`.\n",
       "\n",
       "Returns the singular values in `d`, and the matrix `C` overwritten with `Q' * C`.\n"
      ],
      "text/plain": [
       "```\n",
       "bdsqr!(uplo, d, e_, Vt, U, C) -> (d, Vt, U, C)\n",
       "```\n",
       "\n",
       "Computes the singular value decomposition of a bidiagonal matrix with `d` on the diagonal and `e_` on the off-diagonal. If `uplo = U`, `e_` is the superdiagonal. If `uplo = L`, `e_` is the subdiagonal. Can optionally also compute the product `Q' * C`.\n",
       "\n",
       "Returns the singular values in `d`, and the matrix `C` overwritten with `Q' * C`.\n"
      ]
     },
     "execution_count": 22,
     "metadata": {},
     "output_type": "execute_result"
    }
   ],
   "source": [
    "?LAPACK.bdsqr!"
   ]
  },
  {
   "cell_type": "code",
   "execution_count": 23,
   "metadata": {},
   "outputs": [
    {
     "data": {
      "text/plain": [
       "([21.167, 16.1921, 11.6027, 10.1944, 6.01866], [0.292994 0.664957 … -0.0676505 -0.00111646; 0.909485 0.0239911 … 0.0972535 0.00350196; … ; -0.0242701 0.0457175 … 0.174904 -0.983053; 0.267208 -0.721675 … 0.197812 -0.0163021], [0.38462 0.9133 … -0.0153442 0.0997382; -0.865161 0.307806 … -0.0389653 0.347244; … ; 0.0353079 -0.0664132 … -0.13993 -0.361421; 0.000539627 -0.00221267 … 0.986567 0.0277111], [0.38462 -0.865161 … 0.0353079 0.000539627; 0.9133 0.307806 … -0.0664132 -0.00221267; … ; -0.0153442 -0.0389653 … -0.13993 0.986567; 0.0997382 0.347244 … -0.361421 0.0277111])"
      ]
     },
     "execution_count": 23,
     "metadata": {},
     "output_type": "execute_result"
    }
   ],
   "source": [
    "BV=eye(n)\n",
    "BU=eye(n)\n",
    "BC=eye(n)\n",
    "σ₂,Z₂,W₂,C = LAPACK.bdsqr!('U',copy(B.dv),copy(B.ev),BV,BU,BC)"
   ]
  },
  {
   "cell_type": "code",
   "execution_count": 24,
   "metadata": {},
   "outputs": [
    {
     "data": {
      "text/plain": [
       "5×5 Array{Float64,2}:\n",
       " 21.167        -1.12726e-15   5.49488e-16   2.9672e-17   -2.27569e-15\n",
       " -1.09667e-16  16.1921       -1.45718e-14  -1.24393e-17   3.18775e-15\n",
       " -3.03192e-17  -1.33137e-16  11.6027       -1.44369e-16  -8.44255e-16\n",
       " -3.09388e-17  -5.93405e-18  -4.57894e-17  10.1944       -1.12256e-16\n",
       "  2.91257e-17   4.6231e-16   -5.22312e-17   3.75542e-16   6.01866    "
      ]
     },
     "execution_count": 24,
     "metadata": {},
     "output_type": "execute_result"
    }
   ],
   "source": [
    "W₂'*full(B)*Z₂'"
   ]
  },
  {
   "cell_type": "code",
   "execution_count": 25,
   "metadata": {},
   "outputs": [
    {
     "data": {
      "text/markdown": [
       "```\n",
       "bdsdc!(uplo, compq, d, e_) -> (d, e, u, vt, q, iq)\n",
       "```\n",
       "\n",
       "Computes the singular value decomposition of a bidiagonal matrix with `d` on the diagonal and `e_` on the off-diagonal using a divide and conqueq method. If `uplo = U`, `e_` is the superdiagonal. If `uplo = L`, `e_` is the subdiagonal. If `compq = N`, only the singular values are found. If `compq = I`, the singular values and vectors are found. If `compq = P`, the singular values and vectors are found in compact form. Only works for real types.\n",
       "\n",
       "Returns the singular values in `d`, and if `compq = P`, the compact singular vectors in `iq`.\n"
      ],
      "text/plain": [
       "```\n",
       "bdsdc!(uplo, compq, d, e_) -> (d, e, u, vt, q, iq)\n",
       "```\n",
       "\n",
       "Computes the singular value decomposition of a bidiagonal matrix with `d` on the diagonal and `e_` on the off-diagonal using a divide and conqueq method. If `uplo = U`, `e_` is the superdiagonal. If `uplo = L`, `e_` is the subdiagonal. If `compq = N`, only the singular values are found. If `compq = I`, the singular values and vectors are found. If `compq = P`, the singular values and vectors are found in compact form. Only works for real types.\n",
       "\n",
       "Returns the singular values in `d`, and if `compq = P`, the compact singular vectors in `iq`.\n"
      ]
     },
     "execution_count": 25,
     "metadata": {},
     "output_type": "execute_result"
    }
   ],
   "source": [
    "?LAPACK.bdsdc!"
   ]
  },
  {
   "cell_type": "code",
   "execution_count": 26,
   "metadata": {},
   "outputs": [
    {
     "data": {
      "text/plain": [
       "([21.167, 16.1921, 11.6027, 10.1944, 6.01866], e = 2.7182818284590..., [0.38462 0.9133 … -0.0153442 0.0997382; -0.865161 0.307806 … -0.0389653 0.347244; … ; 0.0353079 -0.0664132 … -0.13993 -0.361421; 0.000539627 -0.00221267 … 0.986567 0.0277111], [0.292994 0.664957 … -0.0676505 -0.00111646; 0.909485 0.0239911 … 0.0972535 0.00350196; … ; -0.0242701 0.0457175 … 0.174904 -0.983053; 0.267208 -0.721675 … 0.197812 -0.0163021], [NaN], [453821008])"
      ]
     },
     "execution_count": 26,
     "metadata": {},
     "output_type": "execute_result"
    }
   ],
   "source": [
    "σ₃,ee,W₃,Z₃,rest=LAPACK.bdsdc!('U','I',copy(B.dv),copy(B.ev))"
   ]
  },
  {
   "cell_type": "code",
   "execution_count": 27,
   "metadata": {},
   "outputs": [
    {
     "data": {
      "text/plain": [
       "5×5 Array{Float64,2}:\n",
       " 21.167        -1.12726e-15   5.49488e-16   2.9672e-17   -2.27569e-15\n",
       " -1.09667e-16  16.1921       -1.45718e-14  -1.24393e-17   3.18775e-15\n",
       " -3.03192e-17  -1.33137e-16  11.6027       -1.44369e-16  -8.44255e-16\n",
       " -3.09388e-17  -5.93405e-18  -4.57894e-17  10.1944       -1.12256e-16\n",
       "  2.91257e-17   4.6231e-16   -5.22312e-17   3.75542e-16   6.01866    "
      ]
     },
     "execution_count": 27,
     "metadata": {},
     "output_type": "execute_result"
    }
   ],
   "source": [
    "W₃'*full(B)*Z₃'"
   ]
  },
  {
   "cell_type": "markdown",
   "metadata": {},
   "source": [
    "Functions `svd()`, `LAPACK.bdsqr!()` and `LAPACK.bdsdc!()` use the same algorithm to compute singular values."
   ]
  },
  {
   "cell_type": "code",
   "execution_count": 28,
   "metadata": {},
   "outputs": [
    {
     "data": {
      "text/plain": [
       "5×2 Array{Float64,2}:\n",
       " 0.0  0.0\n",
       " 0.0  0.0\n",
       " 0.0  0.0\n",
       " 0.0  0.0\n",
       " 0.0  0.0"
      ]
     },
     "execution_count": 28,
     "metadata": {},
     "output_type": "execute_result"
    }
   ],
   "source": [
    "[σ₃-σ₂ σ₃-σ]"
   ]
  },
  {
   "cell_type": "markdown",
   "metadata": {},
   "source": [
    "Let us compute some timings. We observe $O(n^2)$ operations."
   ]
  },
  {
   "cell_type": "code",
   "execution_count": 29,
   "metadata": {},
   "outputs": [
    {
     "name": "stdout",
     "output_type": "stream",
     "text": [
      "  0.029123 seconds (98 allocations: 163.529 KiB)\n",
      "  0.087788 seconds (19 allocations: 313.844 KiB)\n",
      "  0.030423 seconds (16 allocations: 141.688 KiB)\n",
      "  0.070177 seconds (27 allocations: 45.900 MiB, 6.66% gc time)\n",
      "  0.454877 seconds (27 allocations: 183.351 MiB, 38.49% gc time)\n"
     ]
    }
   ],
   "source": [
    "n=1000\n",
    "Abig=Bidiagonal(rand(n),rand(n-1),true)\n",
    "Bbig=Bidiagonal(rand(2*n),rand(2*n-1),true)\n",
    "@time svdvals(Abig);\n",
    "@time svdvals(Bbig);\n",
    "@time LAPACK.bdsdc!('U','N',copy(Abig.dv),copy(Abig.ev));\n",
    "@time svd(Abig);\n",
    "@time svd(Bbig);"
   ]
  },
  {
   "cell_type": "markdown",
   "metadata": {},
   "source": [
    "## QR method\n",
    "\n",
    "Final algorithm is obtained by combining bidiagonalization and bidiagonal SVD methods.\n",
    "Standard method is implemented in the LAPACK routine \n",
    "[DGESVD](http://www.netlib.org/lapack/explore-html/d8/d2d/dgesvd_8f.html).\n",
    "Divide-and-conquer method is implemented in the LAPACK routine \n",
    "[DGESDD](http://www.netlib.org/lapack/explore-html/db/db4/dgesdd_8f.html).\n",
    "\n",
    "The functions `svd()`, `svdvals()`, and `svdvecs()`  use `DGESDD`.\n",
    "Wrappers for `DGESVD` and `DGESDD` give more control about output of eigenvectors."
   ]
  },
  {
   "cell_type": "code",
   "execution_count": 30,
   "metadata": {},
   "outputs": [
    {
     "data": {
      "text/plain": [
       "([-0.447559 -0.33734 … 0.537416 -0.205771; 0.185021 -0.545965 … -0.147439 0.632901; … ; -0.246134 0.236731 … 0.219493 0.538396; -0.581628 -0.151352 … -0.311774 -0.288146], [21.167, 16.1921, 11.6027, 10.1944, 6.01866], [0.292994 0.909485 … -0.0242701 0.267208; 0.22866 -0.307466 … 0.16269 0.891798; … ; 0.14723 -0.190073 … 0.147757 0.0600384; 0.657574 -0.195887 … -0.718861 -0.109412])"
      ]
     },
     "execution_count": 30,
     "metadata": {},
     "output_type": "execute_result"
    }
   ],
   "source": [
    "# The built-in algorithm\n",
    "U,σA,V=svd(A)"
   ]
  },
  {
   "cell_type": "code",
   "execution_count": 31,
   "metadata": {},
   "outputs": [
    {
     "data": {
      "text/plain": [
       "5×5 Array{Float64,2}:\n",
       " 21.167        -1.19942e-15   2.50215e-16  -7.44079e-16  -3.88974e-15\n",
       " -4.14376e-15  16.1921       -1.39619e-14   2.80928e-16   4.60623e-15\n",
       "  1.77657e-15  -2.61637e-15  11.6027       -6.96939e-17  -7.90882e-16\n",
       "  7.00688e-15   9.32618e-16  -1.96823e-15  10.1944        1.20843e-16\n",
       "  5.31273e-17  -3.35754e-16   3.18964e-17   2.09432e-15   6.01866    "
      ]
     },
     "execution_count": 31,
     "metadata": {},
     "output_type": "execute_result"
    }
   ],
   "source": [
    "# With our building blocks\n",
    "U₁=X*W\n",
    "V₁=Y*Z\n",
    "U₁'*A*V₁"
   ]
  },
  {
   "cell_type": "code",
   "execution_count": 32,
   "metadata": {},
   "outputs": [
    {
     "data": {
      "text/markdown": [
       "```\n",
       "gesvd!(jobu, jobvt, A) -> (U, S, VT)\n",
       "```\n",
       "\n",
       "Finds the singular value decomposition of `A`, `A = U * S * V'`. If `jobu = A`, all the columns of `U` are computed. If `jobvt = A` all the rows of `V'` are computed. If `jobu = N`, no columns of `U` are computed. If `jobvt = N` no rows of `V'` are computed. If `jobu = O`, `A` is overwritten with the columns of (thin) `U`. If `jobvt = O`, `A` is overwritten with the rows of (thin) `V'`. If `jobu = S`, the columns of (thin) `U` are computed and returned separately. If `jobvt = S` the rows of (thin) `V'` are computed and returned separately. `jobu` and `jobvt` can't both be `O`.\n",
       "\n",
       "Returns `U`, `S`, and `Vt`, where `S` are the singular values of `A`.\n"
      ],
      "text/plain": [
       "```\n",
       "gesvd!(jobu, jobvt, A) -> (U, S, VT)\n",
       "```\n",
       "\n",
       "Finds the singular value decomposition of `A`, `A = U * S * V'`. If `jobu = A`, all the columns of `U` are computed. If `jobvt = A` all the rows of `V'` are computed. If `jobu = N`, no columns of `U` are computed. If `jobvt = N` no rows of `V'` are computed. If `jobu = O`, `A` is overwritten with the columns of (thin) `U`. If `jobvt = O`, `A` is overwritten with the rows of (thin) `V'`. If `jobu = S`, the columns of (thin) `U` are computed and returned separately. If `jobvt = S` the rows of (thin) `V'` are computed and returned separately. `jobu` and `jobvt` can't both be `O`.\n",
       "\n",
       "Returns `U`, `S`, and `Vt`, where `S` are the singular values of `A`.\n"
      ]
     },
     "execution_count": 32,
     "metadata": {},
     "output_type": "execute_result"
    }
   ],
   "source": [
    "?LAPACK.gesvd!"
   ]
  },
  {
   "cell_type": "code",
   "execution_count": 33,
   "metadata": {},
   "outputs": [
    {
     "data": {
      "text/plain": [
       "([-0.447559 0.33734 … 0.00795829 0.00793487; 0.185021 0.545965 … -0.22584 0.368283; … ; -0.246134 -0.236731 … 0.194788 -0.455034; -0.581628 0.151352 … -0.176589 0.285841], [21.167, 16.1921, 11.6027, 10.1944, 6.01866], [0.292994 0.22866 … 0.14723 0.657574; -0.909485 0.307466 … 0.190073 0.195887; … ; -0.0242701 0.16269 … 0.147757 -0.718861; 0.267208 0.891798 … 0.0600384 -0.109412])"
      ]
     },
     "execution_count": 33,
     "metadata": {},
     "output_type": "execute_result"
    }
   ],
   "source": [
    "# DGESVD\n",
    "LAPACK.gesvd!('A','A',copy(A))"
   ]
  },
  {
   "cell_type": "code",
   "execution_count": 34,
   "metadata": {},
   "outputs": [
    {
     "data": {
      "text/markdown": [
       "```\n",
       "gesdd!(job, A) -> (U, S, VT)\n",
       "```\n",
       "\n",
       "Finds the singular value decomposition of `A`, `A = U * S * V'`, using a divide and conquer approach. If `job = A`, all the columns of `U` and the rows of `V'` are computed. If `job = N`, no columns of `U` or rows of `V'` are computed. If `job = O`, `A` is overwritten with the columns of (thin) `U` and the rows of (thin) `V'`. If `job = S`, the columns of (thin) `U` and the rows of (thin) `V'` are computed and returned separately.\n"
      ],
      "text/plain": [
       "```\n",
       "gesdd!(job, A) -> (U, S, VT)\n",
       "```\n",
       "\n",
       "Finds the singular value decomposition of `A`, `A = U * S * V'`, using a divide and conquer approach. If `job = A`, all the columns of `U` and the rows of `V'` are computed. If `job = N`, no columns of `U` or rows of `V'` are computed. If `job = O`, `A` is overwritten with the columns of (thin) `U` and the rows of (thin) `V'`. If `job = S`, the columns of (thin) `U` and the rows of (thin) `V'` are computed and returned separately.\n"
      ]
     },
     "execution_count": 34,
     "metadata": {},
     "output_type": "execute_result"
    }
   ],
   "source": [
    "?LAPACK.gesdd!"
   ]
  },
  {
   "cell_type": "code",
   "execution_count": 35,
   "metadata": {},
   "outputs": [
    {
     "data": {
      "text/plain": [
       "(Array{Float64}(8,0), [21.167, 16.1921, 11.6027, 10.1944, 6.01866], Array{Float64}(5,0))"
      ]
     },
     "execution_count": 35,
     "metadata": {},
     "output_type": "execute_result"
    }
   ],
   "source": [
    "LAPACK.gesdd!('N',copy(A))"
   ]
  },
  {
   "cell_type": "markdown",
   "metadata": {},
   "source": [
    "Let us perform some timings. We observe $O(n^3)$ operations."
   ]
  },
  {
   "cell_type": "code",
   "execution_count": 36,
   "metadata": {},
   "outputs": [
    {
     "name": "stdout",
     "output_type": "stream",
     "text": [
      "  1.018753 seconds (30 allocations: 53.529 MiB, 0.31% gc time)\n",
      "  7.296725 seconds (24 allocations: 213.868 MiB, 1.66% gc time)\n",
      "  5.830946 seconds (16 allocations: 23.408 MiB, 1.33% gc time)\n",
      "  0.959357 seconds (18 allocations: 45.899 MiB, 0.85% gc time)\n",
      "  7.130489 seconds (18 allocations: 183.350 MiB, 0.29% gc time)\n"
     ]
    }
   ],
   "source": [
    "n=1000\n",
    "Abig=rand(n,n)\n",
    "Bbig=rand(2*n,2*n)\n",
    "@time Ubig,σbig,Vbig=svd(Abig);\n",
    "@time svd(Bbig);\n",
    "@time LAPACK.gesvd!('A','A',copy(Abig));\n",
    "@time LAPACK.gesdd!('A',copy(Abig));\n",
    "@time LAPACK.gesdd!('A',copy(Bbig));"
   ]
  },
  {
   "cell_type": "code",
   "execution_count": 37,
   "metadata": {},
   "outputs": [
    {
     "data": {
      "text/plain": [
       "1.0088443817107787e-12"
      ]
     },
     "execution_count": 37,
     "metadata": {},
     "output_type": "execute_result"
    }
   ],
   "source": [
    "# Residual\n",
    "vecnorm(Abig*Vbig-Ubig*diagm(σbig))"
   ]
  },
  {
   "cell_type": "code",
   "execution_count": null,
   "metadata": {
    "collapsed": true
   },
   "outputs": [],
   "source": []
  }
 ],
 "metadata": {
  "anaconda-cloud": {},
  "kernelspec": {
   "display_name": "Julia 0.6.2",
   "language": "julia",
   "name": "julia-0.6"
  },
  "language_info": {
   "file_extension": ".jl",
   "mimetype": "application/julia",
   "name": "julia",
   "version": "0.6.2"
  }
 },
 "nbformat": 4,
 "nbformat_minor": 1
}
