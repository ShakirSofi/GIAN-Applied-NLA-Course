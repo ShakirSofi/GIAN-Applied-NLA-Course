{
 "cells": [
  {
   "cell_type": "markdown",
   "metadata": {},
   "source": [
    "# Singular Value Decomposition - Definitions and Facts\n",
    "\n",
    "\n",
    "## Prerequisites\n",
    "\n",
    "The reader should be familiar with basic linear algebra concepts and notebooks related to\n",
    "eigenvalue decomposition.\n",
    "\n",
    " \n",
    "## Competences \n",
    "\n",
    "The reader should be able to undestand and check the facts about singular value decomposition.\n",
    "\n",
    "## Selected references\n",
    "\n",
    "There are many excellent books on the subject. Here we list a few:\n",
    "\n",
    "[J. W. Demmel, Applied Numerical Linear Algebra][Dem97]\n",
    "\n",
    "[G. H. Golub and C. F. Van Loan, Matrix Computations][GV13]\n",
    "\n",
    "[N. Higham, Accuracy and Stability of Numerical Algorithms][Hig02]\n",
    "\n",
    "[L. Hogben, ed., Handbook of Linear Algebra][Hog14]\n",
    "\n",
    "[G. W. Stewart, Matrix Algorithms, Vol. II: Eigensystems][Ste01]\n",
    "\n",
    "[L. N. Trefethen and D. Bau, III, Numerical Linear Algebra][TB97]\n",
    "\n",
    "\n",
    "[Dem97]: #1 \"J.W. Demmel, 'Applied Numerical Linear Algebra', SIAM, Philadelphia, 1997.\"\n",
    "  \n",
    "[GV13]: #1 \"G. H. Golub and C. F. Van Loan, 'Matrix Computations', 4th ed., The John Hopkins University Press, Baltimore, MD, 2013.\"\n",
    "  \n",
    "[Hig02]: #1 \"N. Higham, 'Accuracy and Stability of Numerical Algorithms', SIAM, Philadelphia, 2nd ed., 2002.\"\n",
    "    \n",
    "[Hog14]: #1 \"L. Hogben, ed., 'Handbook of Linear Algebra', CRC Press, Boca Raton, 2014.\"\n",
    "\n",
    "[Ste01]: #1 \"G. W. Stewart, 'Matrix Algorithms, Vol. II: Eigensystems', SIAM, Philadelphia, 2001.\" \n",
    "\n",
    "[TB97]: #1 \"L. N. Trefethen and D. Bau, III, 'Numerical Linear Algebra', SIAM, Philadelphia, 1997.\""
   ]
  },
  {
   "cell_type": "markdown",
   "metadata": {},
   "source": [
    "## Singular value problems\n",
    "\n",
    "For more details and the proofs of the Facts below, see \n",
    "[R. C. Li, Matrix Perturbation Theory][Hog14] and \n",
    "[R. Mathias, Singular Values and Singular Value Inequalities][Hog14a] and the references therein.\n",
    "\n",
    "[Hog14]: #1 \"L. Hogben, ed., 'Handbook of Linear Algebra', pp. 21.6-21.8, CRC Press, Boca Raton, 2014.\"\n",
    "\n",
    "[Hog14a]: #1 \"L. Hogben, ed., 'Handbook of Linear Algebra', pp. 24.1-24.17, CRC Press, Boca Raton, 2014.\"\n",
    "\n",
    "### Definitions\n",
    "\n",
    "Let $A\\in\\mathbb{C}^{m\\times n}$ and let $q=\\min\\{m,n\\}$.\n",
    "\n",
    "The __singular value decomposition__ (SVD) of $A$ is \n",
    "\n",
    "$$A=U\\Sigma V^*,$$\n",
    "\n",
    "where $U\\in\\mathbb{C}^{m\\times m}$ and $V\\in\\mathbb{C}^{n\\times n}$ are unitary, and \n",
    "$\\Sigma=\\mathop{\\mathrm{diag}}(\\sigma_1,\\sigma_2,\\ldots)\\in\\mathbb{R}^{m\\times n}$ with all \n",
    "$\\sigma_j\\geq 0$.\n",
    "\n",
    "Here $\\sigma_j$ is the __singular value__, $u_j\\equiv U_{:,j}$ is the corresponding __left singular vector__, and $v_j\\equiv V_{:,j}$ is the corresponding __right singular vector__.\n",
    "\n",
    "The __set of singular values__ is $sv(A)=\\{\\sigma_1,\\sigma_2,\\ldots,\\sigma_{q}\\}$.\n",
    "\n",
    "We assume that singular values are ordered, $\\sigma_1\\geq\\sigma_2\\geq\\cdots\\sigma_q\\geq 0$.\n",
    "\n",
    "The __Jordan-Wielandt__ matrix is the Hermitian matrix \n",
    "$$\n",
    "J=\\begin{bmatrix}0 & A \\\\ A^* & 0 \\end{bmatrix}\n",
    "\\in \\mathbb{C}^{(m+n) \\times (m+n)}.\n",
    "$$"
   ]
  },
  {
   "cell_type": "markdown",
   "metadata": {},
   "source": [
    "### Facts\n",
    "\n",
    "There are many facts related to the singular value problem for general matrices. We state some basic ones:\n",
    "\n",
    "1. If $A\\in\\mathbb{R}^{m\\times n}$, then $U$ and $V$ are real.\n",
    "\n",
    "2. Singular values are unique (uniquely determined by the matrix).\n",
    "\n",
    "3. $\\sigma_j(A^T)=\\sigma_j(A^*)=\\sigma_j(\\bar A)=\\sigma_j(A)$ for $j=1,2,\\ldots,q$.\n",
    "\n",
    "3. $A v_j=\\sigma_j u_{j}$ and $A^* u_{j}=\\sigma_j v_{j}$ for $j=1,2,\\ldots,q$.\n",
    "\n",
    "3. $A=\\sigma_1 u_{1} v_{1}^* + \\sigma_2 u_{2} v_{2}^* +\\cdots +\n",
    "\\sigma_q u_{q} v_{q}^*$.\n",
    "\n",
    "3. __Unitary invariance.__ For any unitary \n",
    "$U\\in\\mathbb{C}^{m\\times m}$ and $V\\in\\mathbb{C}^{n\\times n}$, \n",
    "$sv(A)=sv(UAV)$.\n",
    "\n",
    "4. There exist unitary matrices  $U\\in\\mathbb{C}^{m\\times m}$ and \n",
    "$V\\in\\mathbb{C}^{n\\times n}$ such that $A=UBV$ if and only if  $sv(A)=sv(B)$.\n",
    "\n",
    "5. SVD of $A$ is related to eigenvalue decompositions of Hermitian matrices $A^*A=V\\Sigma^T\\Sigma V^*$ and $AA^*=U\\Sigma\\Sigma^TU^*$. Thus, \n",
    "$\\sigma_j^2(A)=\\lambda_j(A^*A)=\\lambda_j(AA^*)$ for $j=1,2,\\ldots,q$.\n",
    "\n",
    "6. The eigenvalues of Jordan-Wielandt matrix are $\\pm \\sigma_1(A), \\pm\\sigma_2(A), \\cdots,\\pm\\sigma_q(A)$ together with $|m-n|$ zeros. The eigenvectors are obtained from an SVD of $A$. This relationship is used to deduce singular value results from the results for eigenvalues of Hermitian matrices.\n",
    "\n",
    "3. $\\mathop{\\mathrm{trace}}(|A|_{spr})=\\sum_{i=1}^q \\sigma_i$, where $|A|_{spr}=(A^*A)^{1/2}$.\n",
    "\n",
    "4. If $A$ is square, then $|\\det(A)|=\\prod_{i=1}^n \\sigma_i$.\n",
    "\n",
    "5. If $A$ is square, then $A$ is singular $\\Leftrightarrow$ $\\sigma_j(A)=0$ for some $j$.\n",
    "\n",
    "8. __Min-max Theorem.__ It holds:\n",
    "\\begin{align*}\n",
    "\\sigma_k& =\\max_{\\dim(W)=k}\\min_{x\\in W, \\|x\\|_2=1} \\|Ax\\|_2\\\\\n",
    "& =\\min_{\\dim(W)=n-k+1}\\max_{x\\in W, \\|x\\|_2=1} \\|Ax\\|_2.\n",
    "\\end{align*} \n",
    "\n",
    "9. $\\|A\\|_2=\\sigma_1(A)$.\n",
    "\n",
    "9. For $B\\in\\mathbb{C}^{m\\times n}$,\n",
    "$$\n",
    "|\\mathop{\\mathrm{trace}}(AB^*)|\\leq \\sum_{j=1}^q \\sigma_j(A)\\sigma_j(B).\n",
    "$$\n",
    "\n",
    "10. __Interlace Theorems.__ Let $B$ denote $A$ with the one of its rows _or_ columns deleted. Then\n",
    "$$\n",
    "\\sigma_{j+1}(A)\\leq \\sigma_j(B)\\leq \\sigma_j(A),\\quad j=1,\\ldots,q-1.\n",
    "$$\n",
    "Let $B$ denote $A$ with the one of its rows _and_ columns deleted. Then\n",
    "$$\n",
    "\\sigma_{j+2}(A)\\leq \\sigma_j(B)\\leq \\sigma_j(A),\\quad j=1,\\ldots,q-2.\n",
    "$$\n",
    "\n",
    "9. __Weyl Inequalities.__ For $B\\in\\mathbb{C}^{m\\times n}$, it holds:\n",
    "\\begin{align*}\n",
    "   \\sigma_{j+k-1}(A+B)& \\leq \\sigma_j(A)+\\sigma_k(B), \\quad  j+k\\leq n+1,\\\\\n",
    "   \\sum_{j=1}^k \\sigma_j(A+B)& \\leq \\sum_{j=1}^k \\sigma_j(A) + \\sum_{j=1}^k \\sigma_j(A), \n",
    "   \\quad k=1,\\ldots,q.\n",
    "\\end{align*}"
   ]
  },
  {
   "cell_type": "markdown",
   "metadata": {},
   "source": [
    "### Example - Symbolic computation"
   ]
  },
  {
   "cell_type": "code",
   "execution_count": 1,
   "metadata": {
    "collapsed": true
   },
   "outputs": [],
   "source": [
    "using SymPy"
   ]
  },
  {
   "cell_type": "code",
   "execution_count": 2,
   "metadata": {},
   "outputs": [
    {
     "data": {
      "text/plain": [
       "3×3 Array{Int64,2}:\n",
       "  3   2   1\n",
       " -5  -1  -4\n",
       "  5   0   2"
      ]
     },
     "execution_count": 2,
     "metadata": {},
     "output_type": "execute_result"
    }
   ],
   "source": [
    "A=[  3   2   1\n",
    " -5  -1  -4\n",
    "  5   0   2]"
   ]
  },
  {
   "cell_type": "code",
   "execution_count": 3,
   "metadata": {},
   "outputs": [
    {
     "data": {
      "text/plain": [
       "(x,)"
      ]
     },
     "execution_count": 3,
     "metadata": {},
     "output_type": "execute_result"
    }
   ],
   "source": [
    "@vars x"
   ]
  },
  {
   "cell_type": "code",
   "execution_count": 4,
   "metadata": {},
   "outputs": [
    {
     "data": {
      "text/plain": [
       "3×3 Array{Int64,2}:\n",
       " 59  11  33\n",
       " 11   5   6\n",
       " 33   6  21"
      ]
     },
     "execution_count": 4,
     "metadata": {},
     "output_type": "execute_result"
    }
   ],
   "source": [
    "B=A'*A"
   ]
  },
  {
   "cell_type": "code",
   "execution_count": 5,
   "metadata": {},
   "outputs": [
    {
     "data": {
      "text/latex": [
       "$$- x^{3} + 85 x^{2} - 393 x + 441$$"
      ],
      "text/plain": [
       "   3       2              \n",
       "- x  + 85*x  - 393*x + 441"
      ]
     },
     "execution_count": 5,
     "metadata": {},
     "output_type": "execute_result"
    }
   ],
   "source": [
    "# Characteristic polynomial p_B(λ)\n",
    "p(x)=simplify(det(B-x*I))\n",
    "p(x)"
   ]
  },
  {
   "cell_type": "code",
   "execution_count": 6,
   "metadata": {},
   "outputs": [
    {
     "data": {
      "text/plain": [
       "3-element Array{Rational{Int64},1}:\n",
       "                3//1               \n",
       " 2064549086305011//1125899906842624\n",
       " 5641202704674385//70368744177664  "
      ]
     },
     "execution_count": 6,
     "metadata": {},
     "output_type": "execute_result"
    }
   ],
   "source": [
    "λ=map(Rational,solve(p(x),x))"
   ]
  },
  {
   "cell_type": "code",
   "execution_count": 7,
   "metadata": {},
   "outputs": [
    {
     "data": {
      "text/plain": [
       "3×3 Array{Any,2}:\n",
       " -3.2754f-7  -0.519818  -0.854277\n",
       "  0.948684    0.270146  -0.164381\n",
       " -0.316227    0.810438  -0.493142"
      ]
     },
     "execution_count": 7,
     "metadata": {},
     "output_type": "execute_result"
    }
   ],
   "source": [
    "V=Array{Any}(3,3)\n",
    "for j=1:3\n",
    "    V[:,j]=nullspace(B-λ[j]*I)\n",
    "end\n",
    "V"
   ]
  },
  {
   "cell_type": "code",
   "execution_count": 8,
   "metadata": {},
   "outputs": [
    {
     "data": {
      "text/plain": [
       "3×3 Array{Any,2}:\n",
       "  0.912871  -0.154138  -0.378032\n",
       "  0.182574  -0.67409    0.71573 \n",
       " -0.365148  -0.722388  -0.587215"
      ]
     },
     "execution_count": 8,
     "metadata": {},
     "output_type": "execute_result"
    }
   ],
   "source": [
    "U=Array{Any}(3,3)\n",
    "for j=1:3\n",
    "    U[:,j]=nullspace(A*A'-λ[j]*I)\n",
    "end\n",
    "U"
   ]
  },
  {
   "cell_type": "code",
   "execution_count": 9,
   "metadata": {},
   "outputs": [
    {
     "data": {
      "text/plain": [
       "3-element Array{Float64,1}:\n",
       " 1.73205\n",
       " 1.35414\n",
       " 8.95356"
      ]
     },
     "execution_count": 9,
     "metadata": {},
     "output_type": "execute_result"
    }
   ],
   "source": [
    "σ=sqrt.(λ)"
   ]
  },
  {
   "cell_type": "code",
   "execution_count": 10,
   "metadata": {},
   "outputs": [
    {
     "data": {
      "text/plain": [
       "3×3 Array{Float64,2}:\n",
       "  2.02284e-7   3.05213e-7   9.51424e-7\n",
       "  9.53544e-7  -6.66283e-7  -7.23387e-7\n",
       " -7.64795e-7   1.85427e-8   3.64772e-7"
      ]
     },
     "execution_count": 10,
     "metadata": {},
     "output_type": "execute_result"
    }
   ],
   "source": [
    "A-U*diagm(σ)*V'"
   ]
  },
  {
   "cell_type": "code",
   "execution_count": 11,
   "metadata": {},
   "outputs": [
    {
     "data": {
      "text/plain": [
       "([-0.378032 -0.912871 -0.154137; 0.71573 -0.182574 -0.67409; -0.587215 0.365148 -0.722388], [8.95356, 1.73205, 1.35414], [-0.854277 0.0 -0.519818; -0.164381 -0.948683 0.270146; -0.493143 0.316228 0.810438])"
      ]
     },
     "execution_count": 11,
     "metadata": {},
     "output_type": "execute_result"
    }
   ],
   "source": [
    "S=svd(A)"
   ]
  },
  {
   "cell_type": "code",
   "execution_count": 12,
   "metadata": {},
   "outputs": [
    {
     "data": {
      "text/plain": [
       "Tuple{Array{Float64,2},Array{Float64,1},Array{Float64,2}}"
      ]
     },
     "execution_count": 12,
     "metadata": {},
     "output_type": "execute_result"
    }
   ],
   "source": [
    "typeof(S)"
   ]
  },
  {
   "cell_type": "code",
   "execution_count": 13,
   "metadata": {},
   "outputs": [
    {
     "data": {
      "text/plain": [
       "3×3 Array{Float64,2}:\n",
       " -0.854277   0.0       -0.519818\n",
       " -0.164381  -0.948683   0.270146\n",
       " -0.493143   0.316228   0.810438"
      ]
     },
     "execution_count": 13,
     "metadata": {},
     "output_type": "execute_result"
    }
   ],
   "source": [
    "U₁=S[1]\n",
    "σ₁=S[2]\n",
    "V₁=S[3]"
   ]
  },
  {
   "cell_type": "code",
   "execution_count": 14,
   "metadata": {},
   "outputs": [
    {
     "data": {
      "text/plain": [
       "3×3 Array{Any,2}:\n",
       " -3.2754f-7  -0.519818  -0.854277\n",
       "  0.948684    0.270146  -0.164381\n",
       " -0.316227    0.810438  -0.493142"
      ]
     },
     "execution_count": 14,
     "metadata": {},
     "output_type": "execute_result"
    }
   ],
   "source": [
    "V"
   ]
  },
  {
   "cell_type": "markdown",
   "metadata": {},
   "source": [
    "### Example - Random complex matrix"
   ]
  },
  {
   "cell_type": "code",
   "execution_count": 15,
   "metadata": {},
   "outputs": [
    {
     "data": {
      "text/plain": [
       "5×3 Array{Complex{Float64},2}:\n",
       " 0.345443+0.915812im   0.77247+0.198694im   0.958365+0.37833im \n",
       "  0.68487+0.605095im   0.17008+0.854638im   0.560486+0.834811im\n",
       " 0.650991+0.83639im   0.525208+0.905889im   0.608612+0.353274im\n",
       " 0.973053+0.766264im  0.785847+0.0936446im  0.346561+0.831302im\n",
       " 0.105135+0.810683im  0.135538+0.651562im   0.561248+0.217897im"
      ]
     },
     "execution_count": 15,
     "metadata": {},
     "output_type": "execute_result"
    }
   ],
   "source": [
    "m=5\n",
    "n=3\n",
    "s=srand(421)\n",
    "q=min(m,n)\n",
    "A=rand(m,n)+im*rand(m,n)"
   ]
  },
  {
   "cell_type": "code",
   "execution_count": 16,
   "metadata": {},
   "outputs": [
    {
     "data": {
      "text/plain": [
       "5×5 Array{Complex{Float64},2}:\n",
       " -0.326131-0.323713im  -0.214728+0.0378561im   …  -0.304393-0.109676im \n",
       " -0.204849-0.411755im   0.124224-0.410762im       -0.123119-0.163377im \n",
       " -0.277774-0.399041im  -0.235078+0.0866662im      -0.181124+0.460827im \n",
       " -0.342932-0.328115im   0.718399+0.105642im        0.147071+0.0774263im\n",
       " -0.109764-0.321934im   -0.42215-0.00780174im      0.736473-0.195654im "
      ]
     },
     "execution_count": 16,
     "metadata": {},
     "output_type": "execute_result"
    }
   ],
   "source": [
    "U,σ,V=svd(A, thin=false)\n",
    "U"
   ]
  },
  {
   "cell_type": "code",
   "execution_count": 17,
   "metadata": {},
   "outputs": [
    {
     "data": {
      "text/plain": [
       "3-element Array{Float64,1}:\n",
       " 3.30202 \n",
       " 0.965571\n",
       " 0.76542 "
      ]
     },
     "execution_count": 17,
     "metadata": {},
     "output_type": "execute_result"
    }
   ],
   "source": [
    "σ"
   ]
  },
  {
   "cell_type": "code",
   "execution_count": 18,
   "metadata": {},
   "outputs": [
    {
     "data": {
      "text/plain": [
       "3×3 Array{Complex{Float64},2}:\n",
       " -0.657411-0.0im         0.461649-0.0im       -0.595559-0.0im     \n",
       " -0.525502-0.0714762im  -0.021837+0.45993im    0.563152+0.435416im\n",
       " -0.523002-0.114098im   -0.496126-0.573347im   0.192746-0.318484im"
      ]
     },
     "execution_count": 18,
     "metadata": {},
     "output_type": "execute_result"
    }
   ],
   "source": [
    "V"
   ]
  },
  {
   "cell_type": "code",
   "execution_count": 20,
   "metadata": {},
   "outputs": [
    {
     "data": {
      "text/plain": [
       "(2.3784520229865113e-15, 8.022528754873721e-16, 9.528291430178565e-16)"
      ]
     },
     "execution_count": 20,
     "metadata": {},
     "output_type": "execute_result"
    }
   ],
   "source": [
    "vecnorm(A-U[:,1:q]*diagm(σ)*V'), vecnorm(U'*U-I), vecnorm(V'*V-I)"
   ]
  },
  {
   "cell_type": "code",
   "execution_count": 21,
   "metadata": {},
   "outputs": [
    {
     "name": "stdout",
     "output_type": "stream",
     "text": [
      "k = rand(1:q) = 1\n"
     ]
    },
    {
     "data": {
      "text/plain": [
       "(1.2947314098277873e-15, 9.305364597889227e-16)"
      ]
     },
     "execution_count": 21,
     "metadata": {},
     "output_type": "execute_result"
    }
   ],
   "source": [
    "# Fact 4\n",
    "@show k=rand(1:q)\n",
    "norm(A*V[:,k]-σ[k]*U[:,k],Inf), norm(A'*U[:,k]-σ[k]*V[:,k],Inf)"
   ]
  },
  {
   "cell_type": "code",
   "execution_count": 22,
   "metadata": {},
   "outputs": [
    {
     "data": {
      "text/plain": [
       "([0.585867, 0.932328, 10.9034], Complex{Float64}[-0.308357-0.509516im -0.302079+0.349097im -0.642304+0.140124im; -0.0809315+0.707232im -0.333508-0.317467im -0.528661+0.0421748im; 0.372268-0.0im 0.7582+0.0im -0.535303-0.0im])"
      ]
     },
     "execution_count": 22,
     "metadata": {},
     "output_type": "execute_result"
    }
   ],
   "source": [
    "λ₁,V₁=eig(A'*A)"
   ]
  },
  {
   "cell_type": "code",
   "execution_count": 23,
   "metadata": {},
   "outputs": [
    {
     "data": {
      "text/plain": [
       "3-element Array{Float64,1}:\n",
       " 0.76542 \n",
       " 0.965571\n",
       " 3.30202 "
      ]
     },
     "execution_count": 23,
     "metadata": {},
     "output_type": "execute_result"
    }
   ],
   "source": [
    "sqrt.(λ₁)"
   ]
  },
  {
   "cell_type": "code",
   "execution_count": 24,
   "metadata": {},
   "outputs": [
    {
     "data": {
      "text/plain": [
       "([1.66533e-16, 3.61372e-16, 0.585867, 0.932328, 10.9034], Complex{Float64}[-0.257033-0.110052im -0.339069-0.142529im … -0.213992+0.0418173im -0.411639+0.204217im; -0.58816+0.157352im -0.121362-0.0291484im … 0.116613-0.412987im -0.455832+0.0610121im; … ; 0.297267+0.245488im 0.228818+0.0766476im … 0.720228+0.0923497im -0.421228+0.218698im; 0.0+0.0im 0.792134-0.0im … -0.422222-0.0im -0.340132-0.0im])"
      ]
     },
     "execution_count": 24,
     "metadata": {},
     "output_type": "execute_result"
    }
   ],
   "source": [
    "λU,U₁=eig(A*A')"
   ]
  },
  {
   "cell_type": "code",
   "execution_count": 25,
   "metadata": {},
   "outputs": [
    {
     "data": {
      "text/plain": [
       "3×3 Array{Complex{Float64},2}:\n",
       " -0.657411-0.0im         0.461649-0.0im       -0.595559-0.0im     \n",
       " -0.525502-0.0714762im  -0.021837+0.45993im    0.563152+0.435416im\n",
       " -0.523002-0.114098im   -0.496126-0.573347im   0.192746-0.318484im"
      ]
     },
     "execution_count": 25,
     "metadata": {},
     "output_type": "execute_result"
    }
   ],
   "source": [
    "V"
   ]
  },
  {
   "cell_type": "code",
   "execution_count": 26,
   "metadata": {},
   "outputs": [
    {
     "data": {
      "text/plain": [
       "3×3 Array{Complex{Float64},2}:\n",
       "  -0.308357-0.509516im  -0.302079+0.349097im  -0.642304+0.140124im \n",
       " -0.0809315+0.707232im  -0.333508-0.317467im  -0.528661+0.0421748im\n",
       "   0.372268-0.0im          0.7582+0.0im       -0.535303-0.0im      "
      ]
     },
     "execution_count": 26,
     "metadata": {},
     "output_type": "execute_result"
    }
   ],
   "source": [
    "V₁"
   ]
  },
  {
   "cell_type": "code",
   "execution_count": 27,
   "metadata": {},
   "outputs": [
    {
     "data": {
      "text/plain": [
       "3×3 Array{Float64,2}:\n",
       " 2.65135e-16  3.19189e-16  1.0        \n",
       " 1.73089e-15  1.0          3.92523e-16\n",
       " 1.0          2.02635e-15  4.8473e-16 "
      ]
     },
     "execution_count": 27,
     "metadata": {},
     "output_type": "execute_result"
    }
   ],
   "source": [
    "abs.(V'*V₁)"
   ]
  },
  {
   "cell_type": "markdown",
   "metadata": {},
   "source": [
    "__Explain non-uniqueness of $U$ and $V$!__"
   ]
  },
  {
   "cell_type": "code",
   "execution_count": 28,
   "metadata": {},
   "outputs": [
    {
     "data": {
      "text/plain": [
       "8×8 Array{Complex{Float64},2}:\n",
       "      0.0+0.0im            0.0+0.0im       …  0.958365+0.37833im \n",
       "      0.0+0.0im            0.0+0.0im          0.560486+0.834811im\n",
       "      0.0+0.0im            0.0+0.0im          0.608612+0.353274im\n",
       "      0.0+0.0im            0.0+0.0im          0.346561+0.831302im\n",
       "      0.0+0.0im            0.0+0.0im          0.561248+0.217897im\n",
       " 0.345443-0.915812im   0.68487-0.605095im  …       0.0+0.0im     \n",
       "  0.77247-0.198694im   0.17008-0.854638im          0.0+0.0im     \n",
       " 0.958365-0.37833im   0.560486-0.834811im          0.0+0.0im     "
      ]
     },
     "execution_count": 28,
     "metadata": {},
     "output_type": "execute_result"
    }
   ],
   "source": [
    "# Jordan-Wielandt matrix\n",
    "J=[zeros(A*A') A; A' zeros(A'*A)]"
   ]
  },
  {
   "cell_type": "code",
   "execution_count": 29,
   "metadata": {},
   "outputs": [
    {
     "data": {
      "text/plain": [
       "8×8 Array{Float64,2}:\n",
       " 0.0   0.0   0.0   0.0   0.0   0.98  0.8   1.03\n",
       " 0.0   0.0   0.0   0.0   0.0   0.91  0.87  1.01\n",
       " 0.0   0.0   0.0   0.0   0.0   1.06  1.05  0.7 \n",
       " 0.0   0.0   0.0   0.0   0.0   1.24  0.79  0.9 \n",
       " 0.0   0.0   0.0   0.0   0.0   0.82  0.67  0.6 \n",
       " 0.98  0.91  1.06  1.24  0.82  0.0   0.0   0.0 \n",
       " 0.8   0.87  1.05  0.79  0.67  0.0   0.0   0.0 \n",
       " 1.03  1.01  0.7   0.9   0.6   0.0   0.0   0.0 "
      ]
     },
     "execution_count": 29,
     "metadata": {},
     "output_type": "execute_result"
    }
   ],
   "source": [
    "round.(abs.(J),2)"
   ]
  },
  {
   "cell_type": "code",
   "execution_count": 30,
   "metadata": {},
   "outputs": [
    {
     "data": {
      "text/plain": [
       "([-3.30202, -0.965571, -0.76542, -7.50067e-17, 2.84505e-17, 0.76542, 0.965571, 3.30202], Complex{Float64}[-0.274099-0.174486im -0.0791112+0.132333im … -0.0791112+0.132333im -0.274099-0.174486im; -0.20358-0.25359im -0.162161-0.256481im … -0.162161-0.256481im -0.20358-0.25359im; … ; 0.37382-0.0298221im -0.235826-0.224483im … 0.235826+0.224483im -0.37382+0.0298221im; 0.378516-0.0im 0.536128-0.0im … -0.536128-0.0im -0.378516-0.0im])"
      ]
     },
     "execution_count": 30,
     "metadata": {},
     "output_type": "execute_result"
    }
   ],
   "source": [
    "λJ,UJ=eig(J)"
   ]
  },
  {
   "cell_type": "code",
   "execution_count": 31,
   "metadata": {},
   "outputs": [
    {
     "data": {
      "text/plain": [
       "8-element Array{Float64,1}:\n",
       " -3.30202    \n",
       " -0.965571   \n",
       " -0.76542    \n",
       " -7.50067e-17\n",
       "  2.84505e-17\n",
       "  0.76542    \n",
       "  0.965571   \n",
       "  3.30202    "
      ]
     },
     "execution_count": 31,
     "metadata": {},
     "output_type": "execute_result"
    }
   ],
   "source": [
    "λJ"
   ]
  },
  {
   "cell_type": "markdown",
   "metadata": {},
   "source": [
    "### Example - Random real matrix"
   ]
  },
  {
   "cell_type": "code",
   "execution_count": 32,
   "metadata": {},
   "outputs": [
    {
     "data": {
      "text/plain": [
       "8×5 Array{Int64,2}:\n",
       " -8  -5  -7  -6  -7\n",
       " -9  -5  -8   6   2\n",
       "  5  -5   0  -8  -4\n",
       "  1   7   0   0  -9\n",
       " -5   5   4  -9  -5\n",
       " -1  -5   6   3  -9\n",
       " -8   8   3  -2   3\n",
       " -6  -1   7  -5   4"
      ]
     },
     "execution_count": 32,
     "metadata": {},
     "output_type": "execute_result"
    }
   ],
   "source": [
    "m=8\n",
    "n=5\n",
    "q=min(m,n)\n",
    "A=rand(-9:9,m,n)"
   ]
  },
  {
   "cell_type": "code",
   "execution_count": 33,
   "metadata": {},
   "outputs": [
    {
     "data": {
      "text/plain": [
       "([-0.200296 0.785765 … -0.0531203 0.214687; 0.441635 0.58177 … 0.140171 -0.108251; … ; -0.275212 -0.0363812 … 0.182264 0.00177891; -0.266869 0.00561103 … -0.485948 -0.382332], [19.4508, 17.9708, 17.4113, 12.9019, 11.1402], [0.171059 -0.64534 … -0.0988174 0.291969; -0.343564 -0.441785 … 0.603008 0.389663; … ; 0.66839 -0.133495 … 0.569498 -0.45922; 0.466999 -0.35591 … -0.514699 0.164494])"
      ]
     },
     "execution_count": 33,
     "metadata": {},
     "output_type": "execute_result"
    }
   ],
   "source": [
    "U,σ,V=svd(A)"
   ]
  },
  {
   "cell_type": "code",
   "execution_count": 34,
   "metadata": {},
   "outputs": [
    {
     "data": {
      "text/plain": [
       "(78.87502223506586, 78.87502223506581)"
      ]
     },
     "execution_count": 34,
     "metadata": {},
     "output_type": "execute_result"
    }
   ],
   "source": [
    "# Fact 10\n",
    "trace(sqrtm(A'*A)), sum(σ)"
   ]
  },
  {
   "cell_type": "code",
   "execution_count": 35,
   "metadata": {},
   "outputs": [
    {
     "data": {
      "text/plain": [
       "(-0.2458771005140237, 0.24587710051402362)"
      ]
     },
     "execution_count": 35,
     "metadata": {},
     "output_type": "execute_result"
    }
   ],
   "source": [
    "# Fact 11\n",
    "B=rand(n,n)\n",
    "det(B), prod(svdvals(B))"
   ]
  },
  {
   "cell_type": "code",
   "execution_count": 36,
   "metadata": {},
   "outputs": [
    {
     "data": {
      "text/plain": [
       "(19.45078341709841, 19.450783417098403)"
      ]
     },
     "execution_count": 36,
     "metadata": {},
     "output_type": "execute_result"
    }
   ],
   "source": [
    "# Fact 14\n",
    "norm(A), σ[1]"
   ]
  },
  {
   "cell_type": "code",
   "execution_count": 37,
   "metadata": {},
   "outputs": [
    {
     "data": {
      "text/plain": [
       "(50.64537766210586, 99.0009477844518)"
      ]
     },
     "execution_count": 37,
     "metadata": {},
     "output_type": "execute_result"
    }
   ],
   "source": [
    "# Fact 15\n",
    "B=rand(m,n)\n",
    "abs(trace(A*B')), sum(svdvals(A)⋅svdvals(B))"
   ]
  },
  {
   "cell_type": "code",
   "execution_count": 38,
   "metadata": {},
   "outputs": [
    {
     "data": {
      "text/plain": [
       "(4, [19.4508, 17.9708, 17.4113, 12.9019, 11.1402], [18.7887, 17.9646, 17.1446, 11.2341, 8.25307], [18.0609, 17.4133, 16.4713, 11.8016])"
      ]
     },
     "execution_count": 38,
     "metadata": {},
     "output_type": "execute_result"
    }
   ],
   "source": [
    "# Interlace Theorems (repeat several times)\n",
    "j=rand(1:q)\n",
    "σBrow=svdvals(A[[1:j-1;j+1:m],:])\n",
    "σBcol=svdvals(A[:,[1:j-1;j+1:n]])\n",
    "j, σ, σBrow, σBcol"
   ]
  },
  {
   "cell_type": "code",
   "execution_count": 39,
   "metadata": {},
   "outputs": [
    {
     "data": {
      "text/plain": [
       "(Bool[true, true, true, true, true], Bool[true, true, true, true], Bool[true, true, true, true], Bool[true, true, true, true])"
      ]
     },
     "execution_count": 39,
     "metadata": {},
     "output_type": "execute_result"
    }
   ],
   "source": [
    "σ[1:end].>=σBrow, σ[1:end-1].>=σBcol, σ[2:end].<=σBrow[1:end-1], σ[2:end].<=σBcol"
   ]
  },
  {
   "cell_type": "code",
   "execution_count": 40,
   "metadata": {},
   "outputs": [
    {
     "data": {
      "text/plain": [
       "5×3 Array{Float64,2}:\n",
       " 19.1934  19.4508  3.34773 \n",
       " 17.4086  17.9708  0.767945\n",
       " 15.7687  17.4113  0.675385\n",
       " 12.858   12.9019  0.370378\n",
       " 11.0203  11.1402  0.211886"
      ]
     },
     "execution_count": 40,
     "metadata": {},
     "output_type": "execute_result"
    }
   ],
   "source": [
    "# Weyl Inequalities\n",
    "B=rand(m,n)\n",
    "μ=svdvals(B)\n",
    "γ=svdvals(A+B)\n",
    "[γ σ μ]"
   ]
  },
  {
   "cell_type": "code",
   "execution_count": 41,
   "metadata": {},
   "outputs": [
    {
     "name": "stdout",
     "output_type": "stream",
     "text": [
      "k = rand(1:q) = 4\n"
     ]
    },
    {
     "data": {
      "text/plain": [
       "(65.22873167893384, 72.89621356549667)"
      ]
     },
     "execution_count": 41,
     "metadata": {},
     "output_type": "execute_result"
    }
   ],
   "source": [
    "@show k=rand(1:q)\n",
    "sum(γ[1:k]),sum(σ[1:k])+sum(μ[1:k])"
   ]
  },
  {
   "cell_type": "markdown",
   "metadata": {},
   "source": [
    "## Matrix approximation\n",
    "\n",
    "Let $A=U\\Sigma V^*$, let $\\tilde \\Sigma$ be equal to $\\Sigma$ except that \n",
    "$\\tilde \\Sigma_{jj}=0$ for $j>k$, and let $\\tilde A=U\\tilde \\Sigma V^*$. \n",
    "Then $\\mathop{\\mathrm{rank}}(\\tilde A)\\leq k$ and\n",
    "\n",
    "\\begin{align*}\n",
    "\\min\\{\\|A-B\\|_2: \\mathop{\\mathrm{rank}}(B)\\leq k\\} & =\\|A-\\tilde A\\|_2=\\sigma_{k+1}(A)\\\\\n",
    "\\min\\{\\|A-B\\|_F: \\mathop{\\mathrm{rank}}(B)\\leq k\\} & =\\|A-\\tilde A\\|_F=\n",
    "\\bigg(\\sum_{j=k+1}^{q}\\sigma_{j}^2(A)\\bigg)^{1/2}.\n",
    "\\end{align*}\n",
    "\n",
    "This is the __Eckart-Young-Mirsky Theorem__."
   ]
  },
  {
   "cell_type": "code",
   "execution_count": 42,
   "metadata": {},
   "outputs": [
    {
     "data": {
      "text/plain": [
       "8×5 Array{Int64,2}:\n",
       " -8  -5  -7  -6  -7\n",
       " -9  -5  -8   6   2\n",
       "  5  -5   0  -8  -4\n",
       "  1   7   0   0  -9\n",
       " -5   5   4  -9  -5\n",
       " -1  -5   6   3  -9\n",
       " -8   8   3  -2   3\n",
       " -6  -1   7  -5   4"
      ]
     },
     "execution_count": 42,
     "metadata": {},
     "output_type": "execute_result"
    }
   ],
   "source": [
    "A"
   ]
  },
  {
   "cell_type": "code",
   "execution_count": 43,
   "metadata": {},
   "outputs": [
    {
     "data": {
      "text/plain": [
       "5-element Array{Float64,1}:\n",
       " 19.4508\n",
       " 17.9708\n",
       " 17.4113\n",
       " 12.9019\n",
       " 11.1402"
      ]
     },
     "execution_count": 43,
     "metadata": {},
     "output_type": "execute_result"
    }
   ],
   "source": [
    "σ"
   ]
  },
  {
   "cell_type": "code",
   "execution_count": 44,
   "metadata": {},
   "outputs": [
    {
     "name": "stdout",
     "output_type": "stream",
     "text": [
      "k = rand(1:q - 1) = 2\n"
     ]
    },
    {
     "data": {
      "text/plain": [
       "8×5 Array{Float64,2}:\n",
       " -8.76602  -5.51867  -5.3996    -4.51139  -7.74616\n",
       " -8.46919  -5.62061  -8.52415    4.41628   3.12919\n",
       "  3.66858  -2.36294   0.670024  -3.41882  -7.50717\n",
       "  1.41571   1.12119   2.80764   -4.27887  -4.74724\n",
       " -5.24483   4.53814   4.6882    -8.69105  -5.05354\n",
       "  1.98163  -2.68496  -0.406102  -2.62736  -6.28064\n",
       " -7.77341   6.57427   3.46896   -3.3301    4.20708\n",
       " -5.37598   4.44032   2.70188   -3.38539   1.47365"
      ]
     },
     "execution_count": 44,
     "metadata": {},
     "output_type": "execute_result"
    }
   ],
   "source": [
    "@show k=rand(1:q-1)\n",
    "k=3\n",
    "B=U*diagm([σ[1:k];zeros(q-k)])*V'"
   ]
  },
  {
   "cell_type": "code",
   "execution_count": 45,
   "metadata": {},
   "outputs": [
    {
     "data": {
      "text/plain": [
       "8×5 Array{Int64,2}:\n",
       " -8  -5  -7  -6  -7\n",
       " -9  -5  -8   6   2\n",
       "  5  -5   0  -8  -4\n",
       "  1   7   0   0  -9\n",
       " -5   5   4  -9  -5\n",
       " -1  -5   6   3  -9\n",
       " -8   8   3  -2   3\n",
       " -6  -1   7  -5   4"
      ]
     },
     "execution_count": 45,
     "metadata": {},
     "output_type": "execute_result"
    }
   ],
   "source": [
    "A"
   ]
  },
  {
   "cell_type": "code",
   "execution_count": 46,
   "metadata": {},
   "outputs": [
    {
     "data": {
      "text/plain": [
       "(12.901878235505487, 12.901878235505484)"
      ]
     },
     "execution_count": 46,
     "metadata": {},
     "output_type": "execute_result"
    }
   ],
   "source": [
    "norm(A-B), σ[k+1]"
   ]
  },
  {
   "cell_type": "code",
   "execution_count": 47,
   "metadata": {},
   "outputs": [
    {
     "data": {
      "text/plain": [
       "(17.045925026559797, 17.045925026559797)"
      ]
     },
     "execution_count": 47,
     "metadata": {},
     "output_type": "execute_result"
    }
   ],
   "source": [
    "vecnorm(A-B),vecnorm(σ[k+1:q])"
   ]
  },
  {
   "cell_type": "code",
   "execution_count": null,
   "metadata": {
    "collapsed": true
   },
   "outputs": [],
   "source": []
  }
 ],
 "metadata": {
  "anaconda-cloud": {},
  "kernelspec": {
   "display_name": "Julia 0.6.2",
   "language": "julia",
   "name": "julia-0.6"
  },
  "language_info": {
   "file_extension": ".jl",
   "mimetype": "application/julia",
   "name": "julia",
   "version": "0.6.2"
  }
 },
 "nbformat": 4,
 "nbformat_minor": 1
}
