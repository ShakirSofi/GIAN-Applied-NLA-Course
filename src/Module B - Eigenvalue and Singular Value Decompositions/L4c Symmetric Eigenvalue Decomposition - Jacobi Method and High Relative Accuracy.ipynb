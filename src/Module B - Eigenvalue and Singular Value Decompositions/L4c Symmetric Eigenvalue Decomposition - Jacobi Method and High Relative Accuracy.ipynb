{
 "cells": [
  {
   "cell_type": "markdown",
   "metadata": {},
   "source": [
    "# Symmetric Eigenvalue Decomposition - Jacobi Method and High Relative Accuracy\n",
    "\n",
    "\n",
    "The Jacobi method is the oldest method for EVD computations, dating back from 1864. \n",
    "The method does not require tridiagonalization.\n",
    "Instead, the method computes a sequence of orthogonally similar \n",
    "matrices which converge to a diagonal matrix of eigenvalues. In each step a simple plane rotation\n",
    "which sets one off-diagonal element to zero is performed. \n",
    "\n",
    "For positive definite matrices, the method computes eigenvalues with high relative accuracy.\n",
    "\n",
    "For more details, see \n",
    "[I. Slapničar, Symmetric Matrix Eigenvalue Techniques][Hog14] and\n",
    "[Z. Drmač, Computing Eigenvalues and Singular Values to High Relative Accuracy][Hog14a]\n",
    "and the references therein.\n",
    "\n",
    "[Hog14]: #1 \"L. Hogben, ed., 'Handbook of Linear Algebra', pp. 55.1-55.25, CRC Press, Boca Raton, 2014.\"\n",
    "\n",
    "[Hog14a]: #1 \"L. Hogben, ed., 'Handbook of Linear Algebra', pp. 59.1-59.21, CRC Press, Boca Raton, 2014.\"\n",
    "\n",
    "\n",
    "## Prerequisites\n",
    "\n",
    "The reader should be familiar with concepts of eigenvalues and eigenvectors, related perturbation theory, and algorithms. \n",
    "\n",
    " \n",
    "## Competences \n",
    "\n",
    "The reader should be able to recognise matrices which warrant high relative accuracy and to apply \n",
    "Jacobi method to them.\n"
   ]
  },
  {
   "cell_type": "markdown",
   "metadata": {},
   "source": [
    "## Jacobi method\n",
    "\n",
    "$A$ is a real symmetric matrix of order $n$ and $A= U \\Lambda  U^T$ is its EVD.\n",
    "\n",
    "### Definitions\n",
    "\n",
    "The __Jacobi method__ forms a sequence of matrices,\n",
    "\n",
    "$$\n",
    "A_0=A, \\qquad A_{k+1}=G(c,s,i_k,j_k) A_k G(c,s,i_k,j_k)^T, \\qquad\n",
    "k=1,2,\\ldots,\n",
    "$$\n",
    "\n",
    "where $G(c,s,i_k,j_k)$ is the orthogonal __plane rotation matrix__.\n",
    "The parameters $c$ and $s$ are chosen such that \n",
    "\n",
    "$$\n",
    "[A_{k+1}]_{i_k j_k}=[A_{k+1}]_{j_k i_k}=0.\n",
    "$$\n",
    "\n",
    "The plane rotation is also called __Jacobi rotation__. \n",
    "\n",
    "The __off-norm__ of $A$ is \n",
    "\n",
    "$$\n",
    "\\| A\\|_{\\mathrm{off}}=\\big(\\sum_{i}\\sum_{j\\neq i} a_{ij}^2\\big)^{1/2},\n",
    "$$\n",
    "\n",
    "that is, off-norm is the Frobenius norm of the\n",
    "matrix consisting of all off-diagonal elements of $A$.\n",
    "\n",
    "The choice of __pivot elements__ $[A_k]_{i_kj_k}$ is called the \n",
    "__pivoting strategy__.\n",
    "\n",
    "The __optimal pivoting strategy__, originally used by Jacobi, chooses pivoting\n",
    "elements such that \n",
    "\n",
    "$$\n",
    "|[A_k]_{i_k j_k}|=\\max_{i<j} |[A_k]_{ij}|.\n",
    "$$\n",
    "\n",
    "The __row-cyclic__ pivoting strategy chooses pivot elements\n",
    "  in the systematic row-wise order,\n",
    "\n",
    "$$\n",
    "(1,2), (1,3), \\ldots,(1,n),(2,3),\n",
    "(2,4),\\ldots,(2,n),(3,4),\\ldots,(n-1,n).\n",
    "$$\n",
    "\n",
    "Similarly, the column-cyclic strategy chooses pivot elements column-wise.\n",
    "\n",
    "One pass through all matrix elements is called __cycle__ or __sweep__."
   ]
  },
  {
   "cell_type": "markdown",
   "metadata": {},
   "source": [
    "### Facts\n",
    "\n",
    "1. The Jacobi rotations parameters $c$ and $s$ are computed as follows:\n",
    " If $[A_k]_{i_kj_k}=0$, then $c=1$ and $s=0$, otherwise\n",
    "\\begin{align*}\n",
    "& \\tau=\\frac{[A_k]_{i_ki_k}-[A_k]_{j_kj_k} }{2[A_k]_{i_kj_k} },\\qquad\n",
    "t=\\frac{\\mathop{\\mathrm{sign}}(\\tau)}{|\\tau|+\\sqrt{1+\\tau^2}},\\\\\n",
    "& c=\\frac{1}{\\sqrt{1+t^2}},\\qquad s=c\\cdot t.\n",
    "\\end{align*} \n",
    "\n",
    "2. After each rotation, the off-norm decreases,\n",
    "$$\n",
    "\\|A_{k+1}\\|_{\\mathrm{off}}^2=\\|A_{k}\\|_{\\mathrm{off}}^2-2[A_k]_{i_kj_k}^2.\n",
    "$$\n",
    "With the appropriate pivoting strategy, the method converges in the sense that\n",
    "$$\n",
    "\\|A_{k}\\|_{\\mathrm{off}}\\to 0,\\qquad A_k\\to\\Lambda, \\qquad \n",
    "\\prod_{k=1}^{\\infty} G(i_k,j_k,c,s)^T \\to U.\n",
    "$$\n",
    "\n",
    "3. For the optimal pivoting strategy\n",
    "the square of the pivot element is greater than the average squared\n",
    "element, \n",
    "$$\n",
    "[A_k]_{i_kj_k}^2\\geq \\frac{1}{n(n-1)}\\,\n",
    "\\|A_k\\|_{\\mathrm{off}}^2 .\n",
    "$$\n",
    "Thus,\n",
    "$$\n",
    "\\|A_{k+1}\\|_{\\mathrm{off}}^2\\leq\\left(1-\\frac{2}{n(n-1)}\\right)\\|A_{k}\\|_{\\mathrm{off}}^2\n",
    "$$\n",
    "and the method converges.\n",
    "\n",
    "4. For the row cyclic and the column cyclic pivoting strategies, the method\n",
    "converges. The convergence is ultimately __quadratic__ in the sense that\n",
    "$$\n",
    "\\|A_{k+n(n-1)/2}\\|_{\\mathrm{off}} \\leq\\ const\\cdot  \\|A_{k}\\|_{\\mathrm{off}}^2,\n",
    "$$\n",
    "provided $\\|A_{k}\\|_{\\mathrm{off}}$ is sufficiently small.\n",
    "\n",
    "5. The EVD computed by the Jacobi method satisfies the standard error bounds.\n",
    "\n",
    "6. The Jacobi method is suitable for parallel computation. There exist convergent parallel\n",
    "strategies which enable simultaneous execution of several rotations.\n",
    "  \n",
    "7. The Jacobi method is simple, but it is slower than the methods based on tridiagonalization. It is\n",
    "conjectured that standard implementations require $O(n^3\\log n)$ operations. More precisely, each cycle clearly requires $O(n^3)$ operations and it is conjectured that $\\log n$ cycles are needed until convergence.\n",
    " \n",
    "8. If $A$ is positive definite, the method can be modified such that it reaches\n",
    "the speed of the methods based on tridiagonalization and at the same time\n",
    "computes the EVD with high relative accuracy.\n",
    "\n",
    "### Examples"
   ]
  },
  {
   "cell_type": "code",
   "execution_count": 1,
   "metadata": {},
   "outputs": [
    {
     "data": {
      "text/plain": [
       "myJacobi (generic function with 1 method)"
      ]
     },
     "execution_count": 1,
     "metadata": {},
     "output_type": "execute_result"
    }
   ],
   "source": [
    "function myJacobi{T}(A::Array{T})\n",
    "    n=size(A,1)\n",
    "    U=eye(T,n)\n",
    "    # Tolerance for rotation\n",
    "    tol=sqrt(n)*eps(T)\n",
    "    # Counters\n",
    "    p=n*(n-1)/2\n",
    "    sweep=0\n",
    "    pcurrent=0\n",
    "    # First criterion is for standard accuracy, second one is for relative accuracy\n",
    "    # while sweep<30 && vecnorm(A-diagm(diag(A)))>tol\n",
    "    while sweep<30 && pcurrent<p\n",
    "        sweep+=1\n",
    "        # Row-cyclic strategy\n",
    "        for i = 1 : n-1 \n",
    "            for j = i+1 : n\n",
    "                # Check for the tolerance - the first criterion is standard,\n",
    "                # the second one is for relative accuracy for PD matrices               \n",
    "                # if A[i,j]!=zero(T)\n",
    "                if abs(A[i,j])>tol*sqrt(abs(A[i,i]*A[j,j]))\n",
    "                    # Compute c and s\n",
    "                    τ=(A[i,i]-A[j,j])/(2*A[i,j])\n",
    "                    t=sign(τ)/(abs(τ)+sqrt(1+τ^2))\n",
    "                    c=1/sqrt(1+t^2)\n",
    "                    s=c*t\n",
    "                    G=LinAlg.Givens(i,j,c,s)\n",
    "                    A=G*A\n",
    "                    A*=G'\n",
    "                    A[i,j]=zero(T)\n",
    "                    A[j,i]=zero(T)\n",
    "                    U*=G'\n",
    "                    pcurrent=0\n",
    "                else\n",
    "                    pcurrent+=1\n",
    "                end\n",
    "            end\n",
    "        end\n",
    "    end\n",
    "    diag(A), U\n",
    "end"
   ]
  },
  {
   "cell_type": "code",
   "execution_count": 2,
   "metadata": {},
   "outputs": [
    {
     "data": {
      "text/plain": [
       "4×4 Array{Float64,2}:\n",
       " 0.345443  0.105135  0.785847  0.608612\n",
       " 0.105135  0.77247   0.135538  0.346561\n",
       " 0.785847  0.135538  0.958365  0.561248\n",
       " 0.608612  0.346561  0.561248  0.915812"
      ]
     },
     "execution_count": 2,
     "metadata": {},
     "output_type": "execute_result"
    }
   ],
   "source": [
    "n=4\n",
    "s=srand(421)\n",
    "A=full(Symmetric(rand(n,n)))"
   ]
  },
  {
   "cell_type": "code",
   "execution_count": 3,
   "metadata": {},
   "outputs": [
    {
     "data": {
      "text/plain": [
       "([-0.239024, 0.76775, 2.15297, 0.310394], [0.855237 -0.20096 0.476545 -0.0329968; 0.0566885 0.881773 0.242367 -0.40065; -0.451271 -0.378529 0.613859 -0.525592; -0.248415 0.196996 0.580809 0.749762])"
      ]
     },
     "execution_count": 3,
     "metadata": {},
     "output_type": "execute_result"
    }
   ],
   "source": [
    "λ,U=myJacobi(A)"
   ]
  },
  {
   "cell_type": "code",
   "execution_count": 4,
   "metadata": {},
   "outputs": [
    {
     "data": {
      "text/plain": [
       "4×4 Array{Float64,2}:\n",
       "  1.0           7.00964e-17  -4.25496e-17  -5.21254e-17\n",
       "  7.00964e-17   1.0          -2.07554e-17   5.2896e-17 \n",
       " -4.25496e-17  -2.07554e-17   1.0           4.2885e-17 \n",
       " -5.21254e-17   5.2896e-17    4.2885e-17    1.0        "
      ]
     },
     "execution_count": 4,
     "metadata": {},
     "output_type": "execute_result"
    }
   ],
   "source": [
    "# Orthogonality\n",
    "U'*U"
   ]
  },
  {
   "cell_type": "code",
   "execution_count": 5,
   "metadata": {},
   "outputs": [
    {
     "data": {
      "text/plain": [
       "4×4 Array{Float64,2}:\n",
       "  2.77556e-17  -2.498e-16    -1.11022e-15  -1.21431e-17\n",
       "  3.29597e-17   5.55112e-16  -7.77156e-16  -4.16334e-17\n",
       "  6.93889e-17  -2.77556e-16  -1.55431e-15   0.0        \n",
       " -1.17961e-16   5.55112e-17  -1.33227e-15   3.05311e-16"
      ]
     },
     "execution_count": 5,
     "metadata": {},
     "output_type": "execute_result"
    }
   ],
   "source": [
    "# Residual\n",
    "A*U-U*diagm(λ)"
   ]
  },
  {
   "cell_type": "code",
   "execution_count": 6,
   "metadata": {
    "collapsed": true
   },
   "outputs": [],
   "source": [
    "# Positive definite matrix\n",
    "n=100\n",
    "A=rand(n,n)\n",
    "A=full(Symmetric(A'*A));"
   ]
  },
  {
   "cell_type": "code",
   "execution_count": 7,
   "metadata": {},
   "outputs": [
    {
     "data": {
      "text/plain": [
       "(1.7388038681132419e-13, 2.806431003268346e-11)"
      ]
     },
     "execution_count": 7,
     "metadata": {},
     "output_type": "execute_result"
    }
   ],
   "source": [
    "λ,U=myJacobi(A)\n",
    "vecnorm(U'*U-I),vecnorm(A*U-U*diagm(λ))"
   ]
  },
  {
   "cell_type": "code",
   "execution_count": 8,
   "metadata": {},
   "outputs": [
    {
     "data": {
      "text/plain": [
       "100-element Array{Float64,1}:\n",
       " 2501.5       \n",
       "    0.166124  \n",
       "   31.7579    \n",
       "    7.50007e-6\n",
       "   19.7288    \n",
       "    1.96576   \n",
       "    0.0600245 \n",
       "    0.0834034 \n",
       "   28.8219    \n",
       "    0.00403152\n",
       "   30.5573    \n",
       "   27.315     \n",
       "   19.1515    \n",
       "    ⋮         \n",
       "    5.44234   \n",
       "    2.24968   \n",
       "    2.86735   \n",
       "    2.69984   \n",
       "    3.2681    \n",
       "    4.89029   \n",
       "    3.72714   \n",
       "    4.39552   \n",
       "    4.6202    \n",
       "    3.12447   \n",
       "    3.98454   \n",
       "    4.7994    "
      ]
     },
     "execution_count": 8,
     "metadata": {},
     "output_type": "execute_result"
    }
   ],
   "source": [
    "λ"
   ]
  },
  {
   "cell_type": "code",
   "execution_count": 9,
   "metadata": {},
   "outputs": [
    {
     "data": {
      "text/plain": [
       "3.3353082719919485e8"
      ]
     },
     "execution_count": 9,
     "metadata": {},
     "output_type": "execute_result"
    }
   ],
   "source": [
    "cond(A)"
   ]
  },
  {
   "cell_type": "code",
   "execution_count": 10,
   "metadata": {
    "collapsed": true
   },
   "outputs": [],
   "source": [
    "# Now the standard QR method\n",
    "λₛ,Uₛ=eig(A);"
   ]
  },
  {
   "cell_type": "code",
   "execution_count": 11,
   "metadata": {},
   "outputs": [
    {
     "data": {
      "text/plain": [
       "(1.0975933228075441e-13, 2.116710049248954e-12)"
      ]
     },
     "execution_count": 11,
     "metadata": {},
     "output_type": "execute_result"
    }
   ],
   "source": [
    "vecnorm(Uₛ'*Uₛ-I),vecnorm(A*Uₛ-Uₛ*diagm(λₛ))"
   ]
  },
  {
   "cell_type": "markdown",
   "metadata": {},
   "source": [
    "`myJacobi()` is accurate but very slow. Notice the extreemely high memory allocation.\n",
    "\n",
    "The two key elements to reducing the allocations are: \n",
    "1. make sure variables don't change type within a function, and  \n",
    "2. reuse arrays in hot loops.\n",
    "\n",
    "Here we will simply use the in-place multiplication routines which are in Julia denoted by `!`."
   ]
  },
  {
   "cell_type": "code",
   "execution_count": 12,
   "metadata": {},
   "outputs": [
    {
     "name": "stdout",
     "output_type": "stream",
     "text": [
      "  0.005076 seconds (106 allocations: 278.623 KiB)\n"
     ]
    }
   ],
   "source": [
    "@time eig(A);"
   ]
  },
  {
   "cell_type": "code",
   "execution_count": 13,
   "metadata": {},
   "outputs": [
    {
     "name": "stdout",
     "output_type": "stream",
     "text": [
      "  4.158694 seconds (224.08 k allocations: 8.356 GiB, 22.10% gc time)\n"
     ]
    }
   ],
   "source": [
    "@time myJacobi(A);"
   ]
  },
  {
   "cell_type": "code",
   "execution_count": 14,
   "metadata": {},
   "outputs": [
    {
     "data": {
      "text/html": [
       "10-element Array{Method,1}:<ul><li> *<i>{T}</i>(G1::<b>Base.LinAlg.Givens{T}</b>, G2::<b>Base.LinAlg.Givens{T}</b>) at <a href=\"https://github.com/JuliaLang/julia/tree/d386e40c17d43b79fc89d3e579fc04547241787c/base/linalg/givens.jl#L363\" target=\"_blank\">linalg\\givens.jl:363</a><li> A_mul_B!(G1::<b>Base.LinAlg.Givens</b>, G2::<b>Base.LinAlg.Givens</b>) at <a href=\"https://github.com/JuliaLang/julia/tree/d386e40c17d43b79fc89d3e579fc04547241787c/base/linalg/givens.jl#L321\" target=\"_blank\">linalg\\givens.jl:321</a><li> A_mul_B!(G::<b>Base.LinAlg.Givens</b>, A::<b>Union{AbstractArray{T,1}, AbstractArray{T,2}} where T</b>) at <a href=\"https://github.com/JuliaLang/julia/tree/d386e40c17d43b79fc89d3e579fc04547241787c/base/linalg/givens.jl#L324\" target=\"_blank\">linalg\\givens.jl:324</a><li> A_mul_B!(G::<b>Base.LinAlg.Givens</b>, R::<b>Base.LinAlg.Rotation</b>) at <a href=\"https://github.com/JuliaLang/julia/tree/d386e40c17d43b79fc89d3e579fc04547241787c/base/linalg/givens.jl#L348\" target=\"_blank\">linalg\\givens.jl:348</a><li> A_mul_Bc!(A::<b>AbstractArray{T,2} where T</b>, G::<b>Base.LinAlg.Givens</b>) at <a href=\"https://github.com/JuliaLang/julia/tree/d386e40c17d43b79fc89d3e579fc04547241787c/base/linalg/givens.jl#L336\" target=\"_blank\">linalg\\givens.jl:336</a><li> convert<i>{T}</i>(::<b>Type{Base.LinAlg.Givens{T}}</b>, G::<b>Base.LinAlg.Givens{T}</b>) at <a href=\"https://github.com/JuliaLang/julia/tree/d386e40c17d43b79fc89d3e579fc04547241787c/base/linalg/givens.jl#L37\" target=\"_blank\">linalg\\givens.jl:37</a><li> convert<i>{T}</i>(::<b>Type{Base.LinAlg.Givens{T}}</b>, G::<b>Base.LinAlg.Givens</b>) at <a href=\"https://github.com/JuliaLang/julia/tree/d386e40c17d43b79fc89d3e579fc04547241787c/base/linalg/givens.jl#L38\" target=\"_blank\">linalg\\givens.jl:38</a><li> convert<i>{T}</i>(::<b>Type{Base.LinAlg.AbstractRotation{T}}</b>, G::<b>Base.LinAlg.Givens</b>) at <a href=\"https://github.com/JuliaLang/julia/tree/d386e40c17d43b79fc89d3e579fc04547241787c/base/linalg/givens.jl#L41\" target=\"_blank\">linalg\\givens.jl:41</a><li> ctranspose(G::<b>Base.LinAlg.Givens</b>) at <a href=\"https://github.com/JuliaLang/julia/tree/d386e40c17d43b79fc89d3e579fc04547241787c/base/linalg/givens.jl#L44\" target=\"_blank\">linalg\\givens.jl:44</a><li> getindex(G::<b>Base.LinAlg.Givens</b>, i::<b>Integer</b>, j::<b>Integer</b>) at <a href=\"https://github.com/JuliaLang/julia/tree/d386e40c17d43b79fc89d3e579fc04547241787c/base/linalg/givens.jl#L305\" target=\"_blank\">linalg\\givens.jl:305</a></ul>"
      ],
      "text/plain": [
       "10-element Array{Method,1}:\n",
       " *(G1::Base.LinAlg.Givens{T}, G2::Base.LinAlg.Givens{T}) where T in Base.LinAlg at linalg\\givens.jl:363                          \n",
       " A_mul_B!(G1::Base.LinAlg.Givens, G2::Base.LinAlg.Givens) in Base.LinAlg at linalg\\givens.jl:321                                 \n",
       " A_mul_B!(G::Base.LinAlg.Givens, A::Union{AbstractArray{T,1}, AbstractArray{T,2}} where T) in Base.LinAlg at linalg\\givens.jl:324\n",
       " A_mul_B!(G::Base.LinAlg.Givens, R::Base.LinAlg.Rotation) in Base.LinAlg at linalg\\givens.jl:348                                 \n",
       " A_mul_Bc!(A::AbstractArray{T,2} where T, G::Base.LinAlg.Givens) in Base.LinAlg at linalg\\givens.jl:336                          \n",
       " convert(::Type{Base.LinAlg.Givens{T}}, G::Base.LinAlg.Givens{T}) where T in Base.LinAlg at linalg\\givens.jl:37                  \n",
       " convert(::Type{Base.LinAlg.Givens{T}}, G::Base.LinAlg.Givens) where T in Base.LinAlg at linalg\\givens.jl:38                     \n",
       " convert(::Type{Base.LinAlg.AbstractRotation{T}}, G::Base.LinAlg.Givens) where T in Base.LinAlg at linalg\\givens.jl:41           \n",
       " ctranspose(G::Base.LinAlg.Givens) in Base.LinAlg at linalg\\givens.jl:44                                                         \n",
       " getindex(G::Base.LinAlg.Givens, i::Integer, j::Integer) in Base.LinAlg at linalg\\givens.jl:305                                  "
      ]
     },
     "execution_count": 14,
     "metadata": {},
     "output_type": "execute_result"
    }
   ],
   "source": [
    "methodswith(LinAlg.Givens)"
   ]
  },
  {
   "cell_type": "code",
   "execution_count": 15,
   "metadata": {},
   "outputs": [
    {
     "data": {
      "text/plain": [
       "myJacobi (generic function with 1 method)"
      ]
     },
     "execution_count": 15,
     "metadata": {},
     "output_type": "execute_result"
    }
   ],
   "source": [
    "function myJacobi{T}(A::Array{T})\n",
    "    n=size(A,1)\n",
    "    U=eye(T,n)\n",
    "    # Tolerance for rotation\n",
    "    tol=sqrt(n)*eps(T)\n",
    "    # Counters\n",
    "    p=n*(n-1)/2\n",
    "    sweep=0\n",
    "    pcurrent=0\n",
    "    # First criterion is for standard accuracy, second one is for relative accuracy\n",
    "    # while sweep<30 && vecnorm(A-diagm(diag(A)))>tol\n",
    "    while sweep<30 && pcurrent<p\n",
    "        sweep+=1\n",
    "        # Row-cyclic strategy\n",
    "        for i = 1 : n-1 \n",
    "            for j = i+1 : n\n",
    "                # Check for the tolerance - the first criterion is standard,\n",
    "                # the second one is for relative accuracy for PD matrices               \n",
    "                # if A[i,j]!=zero(T)\n",
    "                if abs(A[i,j])>tol*sqrt(abs(A[i,i]*A[j,j]))\n",
    "                    # Compute c and s\n",
    "                    τ=(A[i,i]-A[j,j])/(2*A[i,j])\n",
    "                    t=sign(τ)/(abs(τ)+sqrt(1+τ^2))\n",
    "                    c=1/sqrt(1+t^2)\n",
    "                    s=c*t\n",
    "                    G=LinAlg.Givens(i,j,c,s)\n",
    "                    # A=G*A\n",
    "                    A_mul_B!(G,A)\n",
    "                    # A*=G'\n",
    "                    A_mul_Bc!(A,G)\n",
    "                    A[i,j]=zero(T)\n",
    "                    A[j,i]=zero(T)\n",
    "                    # U*=G'\n",
    "                    A_mul_Bc!(U,G)\n",
    "                    pcurrent=0\n",
    "                else\n",
    "                    pcurrent+=1\n",
    "                end\n",
    "            end\n",
    "        end\n",
    "    end\n",
    "    diag(A), U\n",
    "end"
   ]
  },
  {
   "cell_type": "code",
   "execution_count": 17,
   "metadata": {},
   "outputs": [
    {
     "name": "stdout",
     "output_type": "stream",
     "text": [
      "  0.000093 seconds (12 allocations: 79.391 KiB)\n"
     ]
    }
   ],
   "source": [
    "@time λ,U=myJacobi(A);"
   ]
  },
  {
   "cell_type": "code",
   "execution_count": 18,
   "metadata": {},
   "outputs": [
    {
     "data": {
      "text/plain": [
       "(0.0, 5.923810304938232e-13)"
      ]
     },
     "execution_count": 18,
     "metadata": {},
     "output_type": "execute_result"
    }
   ],
   "source": [
    "vecnorm(U'*U-I),vecnorm(A*U-U*diagm(λ))"
   ]
  },
  {
   "cell_type": "markdown",
   "metadata": {},
   "source": [
    "## Relative perturbation theory\n",
    "\n",
    "$A$  is a real symmetric PD matrix of order $n$  and $A=U\\Lambda U^T$ is its EVD.\n",
    "\n",
    "### Definition\n",
    "\n",
    "The __scaled matrix__ of the matrix $A$ is the matrix\n",
    "$$\n",
    "A_S=D^{-1} A D^{-1}, \\quad D=\\mathop{\\mathrm{diag}}(\\sqrt{A_{11}},\\sqrt{A_{22}},\\ldots,\\sqrt{A_{nn}}).\n",
    "$$\n",
    "\n",
    "### Facts\n",
    "\n",
    "1. The above diagonal scaling is nearly optimal (van der Sluis):\n",
    "$$\n",
    "\\kappa_2(A_S)\\leq  n \\min\\limits_{D=\\mathrm{diag}} \\kappa(DHD) \\leq n\\kappa_2(H).\n",
    "$$\n",
    "\n",
    "2. Let $A$ and $\\tilde A=A+\\Delta A$ both be positive definite, and let \n",
    "their eigenvalues have the same ordering. Then\n",
    "$$\n",
    "\\frac{|\\lambda_i-\\tilde\\lambda_i|}{\\lambda_i}\\leq \n",
    "\\frac{\\| D^{-1} (\\Delta A) D^{-1}\\|_2}{\\lambda_{\\min} (A_S)}\\equiv\n",
    "\\|A_S^{-1}\\|_2 \\| \\Delta A_S\\|_2.\n",
    "$$\n",
    "If $\\lambda_i$ and $\\tilde\\lambda_i$ are simple, then\n",
    "$$\n",
    "\\|U_{:,i}-\\tilde U_{:,i}\\|_2 \\leq \\frac{\\| A_S^{-1}\\|_2 \\|\\Delta A_S\\|_2}\n",
    "{\\displaystyle\\min_{j\\neq i}\\frac{|\\lambda_i-\\lambda_j|}{\\sqrt{\\lambda_i\\lambda_j}}}.\n",
    "$$\n",
    "These bounds are much sharper than the standard bounds for matrices for which $\\kappa_2(A_S)\\ll \\kappa_2(A)$.\n",
    "\n",
    "3. The Jacobi method with the relative stopping criterion \n",
    "$$\n",
    "|A_{ij}|\\leq tol \\sqrt{A_{ii}A_{jj}}, \\quad \\forall $i\\neq j,\n",
    "$$\n",
    "and some user defined tolerance $tol$ (usually $tol=n\\varepsilon$), computes the EVD with small scaled  backward error\n",
    "$$\n",
    "\\|\\Delta A_S\\|\\leq \\varepsilon\\, O(\\|A_S\\|_2)\\leq O(n)\\varepsilon,\n",
    "$$\n",
    "_provided_ that $\\kappa_2([A_k]_S)$  does not grow much during the iterations. There is overwhelming numerical evidence that the scaled condition does not grow much, and the growth can be monitored, as well.\n",
    "\n",
    "The proofs of the above facts are in [J. Demmel and K. Veselić, Jacobi's method is more accurate than QR](http://www.netlib.org/lapack/lawnspdf/lawn15.pdf).  \n",
    "\n",
    "### Example - Scaled matrix\n"
   ]
  },
  {
   "cell_type": "code",
   "execution_count": 19,
   "metadata": {},
   "outputs": [
    {
     "data": {
      "text/plain": [
       "6×6 Array{Float64,2}:\n",
       " 1.0       0.832247  0.975987  0.70636   0.736069  0.460841\n",
       " 0.832247  1.0       0.908833  0.70454   0.651929  0.715246\n",
       " 0.975987  0.908833  1.0       0.731738  0.704186  0.519369\n",
       " 0.70636   0.70454   0.731738  1.0       0.939989  0.574457\n",
       " 0.736069  0.651929  0.704186  0.939989  1.0       0.472141\n",
       " 0.460841  0.715246  0.519369  0.574457  0.472141  1.0     "
      ]
     },
     "execution_count": 19,
     "metadata": {},
     "output_type": "execute_result"
    }
   ],
   "source": [
    "n=6\n",
    "A=rand(n,n)\n",
    "A=full(Symmetric(A'*A));\n",
    "Aₛ=[A[i,j]/sqrt(A[i,i]*A[j,j]) for i=1:n, j=1:n]"
   ]
  },
  {
   "cell_type": "code",
   "execution_count": 20,
   "metadata": {},
   "outputs": [
    {
     "data": {
      "text/plain": [
       "(4961.858340517723, 5172.032232802231)"
      ]
     },
     "execution_count": 20,
     "metadata": {},
     "output_type": "execute_result"
    }
   ],
   "source": [
    "cond(Aₛ), cond(A)"
   ]
  },
  {
   "cell_type": "code",
   "execution_count": 28,
   "metadata": {},
   "outputs": [
    {
     "data": {
      "text/plain": [
       "6-element Array{Float64,1}:\n",
       " 0.000288221\n",
       " 1.11513e9  \n",
       " 1.68327e7  \n",
       " 3.07436e7  \n",
       " 2.48905e8  \n",
       " 0.000416369"
      ]
     },
     "execution_count": 28,
     "metadata": {},
     "output_type": "execute_result"
    }
   ],
   "source": [
    "# We add a strong scaling\n",
    "D=exp.(50*(rand(n)-0.5))"
   ]
  },
  {
   "cell_type": "code",
   "execution_count": 29,
   "metadata": {},
   "outputs": [
    {
     "data": {
      "text/plain": [
       "6×6 Array{Float64,2}:\n",
       "     8.30715e-8  2.67488e5   4735.03        …  52805.3             5.53038e-8\n",
       "     2.67488e5   1.24352e18     1.70594e16         1.8095e17       3.32093e5 \n",
       "  4735.03        1.70594e16     2.83339e14         2.95035e15   3640.05      \n",
       "  6259.01        2.41539e16     3.78671e14         7.19299e15   7353.43      \n",
       " 52805.3         1.8095e17      2.95035e15         6.19535e16  48930.8       \n",
       "     5.53038e-8  3.32093e5   3640.05        …  48930.8             1.73363e-7"
      ]
     },
     "execution_count": 29,
     "metadata": {},
     "output_type": "execute_result"
    }
   ],
   "source": [
    "H=diagm(D)*Aₛ*diagm(D)"
   ]
  },
  {
   "cell_type": "code",
   "execution_count": 30,
   "metadata": {},
   "outputs": [
    {
     "data": {
      "text/plain": [
       "6×6 Array{Float64,2}:\n",
       " 1.0       0.832247  0.975987  0.70636   0.736069  0.460841\n",
       " 0.832247  1.0       0.908833  0.70454   0.651929  0.715246\n",
       " 0.975987  0.908833  1.0       0.731738  0.704186  0.519369\n",
       " 0.70636   0.70454   0.731738  1.0       0.939989  0.574457\n",
       " 0.736069  0.651929  0.704186  0.939989  1.0       0.472141\n",
       " 0.460841  0.715246  0.519369  0.574457  0.472141  1.0     "
      ]
     },
     "execution_count": 30,
     "metadata": {},
     "output_type": "execute_result"
    }
   ],
   "source": [
    "# Now we scale again\n",
    "Hₛ=[H[i,j]/sqrt(H[i,i]*H[j,j]) for i=1:n, j=1:n]"
   ]
  },
  {
   "cell_type": "code",
   "execution_count": 31,
   "metadata": {},
   "outputs": [
    {
     "data": {
      "text/plain": [
       "(4961.858340517125, 4.731573875018593e27)"
      ]
     },
     "execution_count": 31,
     "metadata": {},
     "output_type": "execute_result"
    }
   ],
   "source": [
    "cond(Hₛ),cond(H)"
   ]
  },
  {
   "cell_type": "code",
   "execution_count": 32,
   "metadata": {},
   "outputs": [
    {
     "data": {
      "text/plain": [
       "([2.58678e-10, 1.27134e18, 4.3125e13, 9.521e13, 3.52272e16, 5.8448e-8], [0.995468 2.14317e-13 … 3.58808e-13 0.0950961; 1.11316e-13 0.988687 … -0.149468 -4.69049e-13; … ; -5.50367e-13 0.148079 … 0.983513 5.33501e-13; -0.0950961 2.64112e-13 … -2.06829e-14 0.995468])"
      ]
     },
     "execution_count": 32,
     "metadata": {},
     "output_type": "execute_result"
    }
   ],
   "source": [
    "# Jacobi method\n",
    "λ,U=myJacobi(H)"
   ]
  },
  {
   "cell_type": "code",
   "execution_count": 33,
   "metadata": {},
   "outputs": [
    {
     "data": {
      "text/plain": [
       "([2.58678e-10, 3.52272e16, 1.27134e18, -27.2987, 9.521e13, 4.3125e13], [1.0 1.19226e-33 … -1.05236e-51 5.52641e-51; 0.0 -2.25514e-17 … 1.07704e-17 7.69375e-17; … ; 0.0 1.0 … -4.8831e-22 2.33579e-23; 0.0 1.15899e-20 … -4.27678e-14 1.27373e-13])"
      ]
     },
     "execution_count": 33,
     "metadata": {},
     "output_type": "execute_result"
    }
   ],
   "source": [
    "# Standard QR method\n",
    "λ₁,U₁=eig(H)"
   ]
  },
  {
   "cell_type": "code",
   "execution_count": 34,
   "metadata": {},
   "outputs": [
    {
     "data": {
      "text/plain": [
       "6×2 Array{Float64,2}:\n",
       " 2.58678e-10  -27.2987     \n",
       " 5.8448e-8      2.58678e-10\n",
       " 4.3125e13      4.3125e13  \n",
       " 9.521e13       9.521e13   \n",
       " 3.52272e16     3.52272e16 \n",
       " 1.27134e18     1.27134e18 "
      ]
     },
     "execution_count": 34,
     "metadata": {},
     "output_type": "execute_result"
    }
   ],
   "source": [
    "# Compare\n",
    "[sort(λ) sort(λ₁)]"
   ]
  },
  {
   "cell_type": "code",
   "execution_count": 35,
   "metadata": {},
   "outputs": [
    {
     "data": {
      "text/plain": [
       "6-element Array{BigFloat,1}:\n",
       " 2.586775805334472301991069895573760220214899900298389688281267417091959819130086e-10\n",
       " 1.271336908422575360000000000000000000000000123687681416667162496048825461925205e+18\n",
       " 4.312498789789791406249999999999999999987631231858333291950247578990208235978315e+13\n",
       " 9.521002910696420312499999999999999999999158656797216545143546486490978155251381e+13\n",
       " 3.522721780123314000000000000000000000000000841343202784095619769482696255295215e+16\n",
       " 5.84480115910659981301682305756336570645352882445640785875330471887816464011359e-08 "
      ]
     },
     "execution_count": 35,
     "metadata": {},
     "output_type": "execute_result"
    }
   ],
   "source": [
    "# Check with BigFloat\n",
    "λ₂,U₂=myJacobi(map(BigFloat,H))\n",
    "λ₂"
   ]
  },
  {
   "cell_type": "code",
   "execution_count": 36,
   "metadata": {},
   "outputs": [
    {
     "data": {
      "text/plain": [
       "6-element Array{Float64,1}:\n",
       " -2.3065e-31 \n",
       " -1.10012e-31\n",
       " -2.86812e-39\n",
       " -8.83671e-41\n",
       "  2.38833e-43\n",
       "  9.72895e-44"
      ]
     },
     "execution_count": 36,
     "metadata": {},
     "output_type": "execute_result"
    }
   ],
   "source": [
    "# Relative error is eps()*cond(AS)\n",
    "map(Float64,(sort(λ₂)-sort(λ))./sort(λ₂))"
   ]
  },
  {
   "cell_type": "markdown",
   "metadata": {},
   "source": [
    "## Indefinite matrices\n",
    "\n",
    "### Definition\n",
    "\n",
    "__Spectral absolute value__ of the matrix $A$ is the matrix \n",
    "\n",
    "$$\n",
    "|A|_{\\mathrm{spr}}=(A^2)^{1/2}.\n",
    "$$\n",
    "\n",
    "This is positive definite part of the polar decomposition of $A$.\n",
    "\n",
    "### Facts\n",
    "\n",
    "1. The above perturbation bounds for positive definite matrices essentially hold with $A_S$ replaced by $[|A|_{\\mathrm{spr}}]_S$.\n",
    "\n",
    "2. Jacobi method can be modified to compute the EVD with small backward error \n",
    "$\\| \\Delta [|A|_{\\mathrm{spr}}]_S\\|_2$.\n",
    "\n",
    "The details of the indefinite case are beyond the scope of this course, and the reader should consider references."
   ]
  },
  {
   "cell_type": "code",
   "execution_count": null,
   "metadata": {
    "collapsed": true
   },
   "outputs": [],
   "source": []
  }
 ],
 "metadata": {
  "anaconda-cloud": {},
  "kernelspec": {
   "display_name": "Julia 0.6.2",
   "language": "julia",
   "name": "julia-0.6"
  },
  "language_info": {
   "file_extension": ".jl",
   "mimetype": "application/julia",
   "name": "julia",
   "version": "0.6.2"
  }
 },
 "nbformat": 4,
 "nbformat_minor": 1
}
