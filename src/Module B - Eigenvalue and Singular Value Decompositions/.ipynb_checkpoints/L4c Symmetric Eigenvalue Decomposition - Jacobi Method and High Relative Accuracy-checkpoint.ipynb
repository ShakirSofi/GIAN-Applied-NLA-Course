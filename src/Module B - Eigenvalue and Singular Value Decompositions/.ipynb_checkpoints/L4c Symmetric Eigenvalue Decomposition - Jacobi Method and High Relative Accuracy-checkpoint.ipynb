{
 "cells": [
  {
   "cell_type": "markdown",
   "metadata": {},
   "source": [
    "# Symmetric Eigenvalue Decomposition - Jacobi Method and High Relative Accuracy\n",
    "\n",
    "\n",
    "The Jacobi method is the oldest method for EVD computations, dating back from 1864. \n",
    "The method does not require tridiagonalization.\n",
    "Instead, the method computes a sequence of orthogonally similar \n",
    "matrices which converge to a diagonal matrix of eigenvalues. In each step a simple plane rotation\n",
    "which sets one off-diagonal element to zero is performed. \n",
    "\n",
    "For positive definite matrices, the method computes eigenvalues with high relative accuracy.\n",
    "\n",
    "For more details, see \n",
    "[I. Slapničar, Symmetric Matrix Eigenvalue Techniques][Hog14] and\n",
    "[Z. Drmač, Computing Eigenvalues and Singular Values to High Relative Accuracy][Hog14a]\n",
    "and the references therein.\n",
    "\n",
    "[Hog14]: #1 \"L. Hogben, ed., 'Handbook of Linear Algebra', pp. 55.1-55.25, CRC Press, Boca Raton, 2014.\"\n",
    "\n",
    "[Hog14a]: #1 \"L. Hogben, ed., 'Handbook of Linear Algebra', pp. 59.1-59.21, CRC Press, Boca Raton, 2014.\"\n",
    "\n",
    "\n",
    "## Prerequisites\n",
    "\n",
    "The reader should be familiar with concepts of eigenvalues and eigenvectors, related perturbation theory, and algorithms. \n",
    "\n",
    " \n",
    "## Competences \n",
    "\n",
    "The reader should be able to recognise matrices which warrant high relative accuracy and to apply \n",
    "Jacobi method to them.\n"
   ]
  },
  {
   "cell_type": "markdown",
   "metadata": {},
   "source": [
    "## Jacobi method\n",
    "\n",
    "$A$ is a real symmetric matrix of order $n$ and $A= U \\Lambda  U^T$ is its EVD.\n",
    "\n",
    "### Definitions\n",
    "\n",
    "The __Jacobi method__ forms a sequence of matrices,\n",
    "\n",
    "$$\n",
    "A_0=A, \\qquad A_{k+1}=G(c,s,i_k,j_k) A_k G(c,s,i_k,j_k)^T, \\qquad\n",
    "k=1,2,\\ldots,\n",
    "$$\n",
    "\n",
    "where $G(c,s,i_k,j_k)$ is the orthogonal __plane rotation matrix__.\n",
    "The parameters $c$ and $s$ are chosen such that \n",
    "\n",
    "$$\n",
    "[A_{k+1}]_{i_k j_k}=[A_{k+1}]_{j_k i_k}=0.\n",
    "$$\n",
    "\n",
    "The plane rotation is also called __Jacobi rotation__. \n",
    "\n",
    "The __off-norm__ of $A$ is \n",
    "\n",
    "$$\n",
    "\\| A\\|_{\\mathrm{off}}=\\big(\\sum_{i}\\sum_{j\\neq i} a_{ij}^2\\big)^{1/2},\n",
    "$$\n",
    "\n",
    "that is, off-norm is the Frobenius norm of the\n",
    "matrix consisting of all off-diagonal elements of $A$.\n",
    "\n",
    "The choice of __pivot elements__ $[A_k]_{i_kj_k}$ is called the \n",
    "__pivoting strategy__.\n",
    "\n",
    "The __optimal pivoting strategy__, originally used by Jacobi, chooses pivoting\n",
    "elements such that \n",
    "\n",
    "$$\n",
    "|[A_k]_{i_k j_k}|=\\max_{i<j} |[A_k]_{ij}|.\n",
    "$$\n",
    "\n",
    "The __row-cyclic__ pivoting strategy chooses pivot elements\n",
    "  in the systematic row-wise order,\n",
    "\n",
    "$$\n",
    "(1,2), (1,3), \\ldots,(1,n),(2,3),\n",
    "(2,4),\\ldots,(2,n),(3,4),\\ldots,(n-1,n).\n",
    "$$\n",
    "\n",
    "Similarly, the column-cyclic strategy chooses pivot elements column-wise.\n",
    "\n",
    "One pass through all matrix elements is called __cycle__ or __sweep__."
   ]
  },
  {
   "cell_type": "markdown",
   "metadata": {},
   "source": [
    "### Facts\n",
    "\n",
    "1. The Jacobi rotations parameters $c$ and $s$ are computed as follows:\n",
    " If $[A_k]_{i_kj_k}=0$, then $c=1$ and $s=0$, otherwise\n",
    "\\begin{align*}\n",
    "& \\tau=\\frac{[A_k]_{i_ki_k}-[A_k]_{j_kj_k} }{2[A_k]_{i_kj_k} },\\qquad\n",
    "t=\\frac{\\mathop{\\mathrm{sign}}(\\tau)}{|\\tau|+\\sqrt{1+\\tau^2}},\\\\\n",
    "& c=\\frac{1}{\\sqrt{1+t^2}},\\qquad s=c\\cdot t.\n",
    "\\end{align*} \n",
    "\n",
    "2. After each rotation, the off-norm decreases,\n",
    "$$\n",
    "\\|A_{k+1}\\|_{\\mathrm{off}}^2=\\|A_{k}\\|_{\\mathrm{off}}^2-2[A_k]_{i_kj_k}^2.\n",
    "$$\n",
    "With the appropriate pivoting strategy, the method converges in the sense that\n",
    "$$\n",
    "\\|A_{k}\\|_{\\mathrm{off}}\\to 0,\\qquad A_k\\to\\Lambda, \\qquad \n",
    "\\prod_{k=1}^{\\infty} G(i_k,j_k,c,s)^T \\to U.\n",
    "$$\n",
    "\n",
    "3. For the optimal pivoting strategy\n",
    "the square of the pivot element is greater than the average squared\n",
    "element, \n",
    "$$\n",
    "[A_k]_{i_kj_k}^2\\geq \\frac{1}{n(n-1)}\\,\n",
    "\\|A_k\\|_{\\mathrm{off}}^2 .\n",
    "$$\n",
    "Thus,\n",
    "$$\n",
    "\\|A_{k+1}\\|_{\\mathrm{off}}^2\\leq\\left(1-\\frac{2}{n(n-1)}\\right)\\|A_{k}\\|_{\\mathrm{off}}^2\n",
    "$$\n",
    "and the method converges.\n",
    "\n",
    "4. For the row cyclic and the column cyclic pivoting strategies, the method\n",
    "converges. The convergence is ultimately __quadratic__ in the sense that\n",
    "$$\n",
    "\\|A_{k+n(n-1)/2}\\|_{\\mathrm{off}} \\leq\\ const\\cdot  \\|A_{k}\\|_{\\mathrm{off}}^2,\n",
    "$$\n",
    "provided $\\|A_{k}\\|_{\\mathrm{off}}$ is sufficiently small.\n",
    "\n",
    "5. The EVD computed by the Jacobi method satisfies the standard error bounds.\n",
    "\n",
    "6. The Jacobi method is suitable for parallel computation. There exist convergent parallel\n",
    "strategies which enable simultaneous execution of several rotations.\n",
    "  \n",
    "7. The Jacobi method is simple, but it is slower than the methods based on tridiagonalization. It is\n",
    "conjectured that standard implementations require $O(n^3\\log n)$ operations. More precisely, each cycle clearly requires $O(n^3)$ operations and it is conjectured that $\\log n$ cycles are needed until convergence.\n",
    " \n",
    "8. If $A$ is positive definite, the method can be modified such that it reaches\n",
    "the speed of the methods based on tridiagonalization and at the same time\n",
    "computes the EVD with high relative accuracy.\n",
    "\n",
    "### Examples"
   ]
  },
  {
   "cell_type": "code",
   "execution_count": 1,
   "metadata": {},
   "outputs": [
    {
     "data": {
      "text/plain": [
       "myJacobi (generic function with 1 method)"
      ]
     },
     "execution_count": 1,
     "metadata": {},
     "output_type": "execute_result"
    }
   ],
   "source": [
    "using LinearAlgebra\n",
    "function myJacobi(A::Array{T}) where T<:Real\n",
    "    n=size(A,1)\n",
    "    U=Matrix{T}(I,n,n)\n",
    "    # Tolerance for rotation\n",
    "    tol=sqrt(map(T,n))*eps(T)\n",
    "    # Counters\n",
    "    p=n*(n-1)/2\n",
    "    sweep=0\n",
    "    pcurrent=0\n",
    "    # First criterion is for standard accuracy, second one is for relative accuracy\n",
    "    # while sweep<30 && vecnorm(A-diagm(diag(A)))>tol\n",
    "    while sweep<30 && pcurrent<p\n",
    "        sweep+=1\n",
    "        # Row-cyclic strategy\n",
    "        for i = 1 : n-1 \n",
    "            for j = i+1 : n\n",
    "                # Check for the tolerance - the first criterion is standard,\n",
    "                # the second one is for relative accuracy for PD matrices               \n",
    "                # if A[i,j]!=zero(T)\n",
    "                if abs(A[i,j])>tol*sqrt(abs(A[i,i]*A[j,j]))\n",
    "                    # Compute c and s\n",
    "                    τ=(A[i,i]-A[j,j])/(2*A[i,j])\n",
    "                    t=sign(τ)/(abs(τ)+sqrt(1+τ^2))\n",
    "                    c=one(T)/sqrt(one(T)+t^2)\n",
    "                    s=c*t\n",
    "                    G=LinearAlgebra.Givens(i,j,c,s)\n",
    "                    A=G*A\n",
    "                    A*=G'\n",
    "                    A[i,j]=zero(T)\n",
    "                    A[j,i]=zero(T)\n",
    "                    U*=G'\n",
    "                    pcurrent=0\n",
    "                    # To observe convergence\n",
    "                    # @show A\n",
    "                else\n",
    "                    pcurrent+=1\n",
    "                end\n",
    "            end\n",
    "        end\n",
    "    end\n",
    "    diag(A), U\n",
    "end"
   ]
  },
  {
   "cell_type": "code",
   "execution_count": 3,
   "metadata": {},
   "outputs": [
    {
     "data": {
      "text/plain": [
       "4×4 Array{Float64,2}:\n",
       " 0.521525   0.890723  0.659431  0.0888795\n",
       " 0.890723   0.701459  0.573688  0.52658  \n",
       " 0.659431   0.573688  0.97184   0.198953 \n",
       " 0.0888795  0.52658   0.198953  0.382115 "
      ]
     },
     "execution_count": 3,
     "metadata": {},
     "output_type": "execute_result"
    }
   ],
   "source": [
    "import Random\n",
    "Random.seed!(516)\n",
    "n=4\n",
    "A=Matrix(Symmetric(rand(n,n)))"
   ]
  },
  {
   "cell_type": "code",
   "execution_count": 4,
   "metadata": {},
   "outputs": [
    {
     "data": {
      "text/plain": [
       "([-0.413833, 2.27004, 0.228661, 0.492069], [0.64998 0.524602 -0.541141 -0.0973934; -0.650428 0.587455 -0.28199 0.390285; -0.0947984 0.564083 0.54354 -0.614319; 0.381423 0.247994 0.576378 0.678826])"
      ]
     },
     "execution_count": 4,
     "metadata": {},
     "output_type": "execute_result"
    }
   ],
   "source": [
    "λ,U=myJacobi(A)"
   ]
  },
  {
   "cell_type": "code",
   "execution_count": 5,
   "metadata": {},
   "outputs": [
    {
     "data": {
      "text/plain": [
       "4×4 Array{Float64,2}:\n",
       "  1.0          -3.69916e-17  -3.08488e-16  -7.98352e-18\n",
       " -3.69916e-17   1.0          -1.33021e-17   7.96275e-18\n",
       " -3.08488e-16  -1.33021e-17   1.0          -1.37318e-16\n",
       " -7.98352e-18   7.96275e-18  -1.37318e-16   1.0        "
      ]
     },
     "execution_count": 5,
     "metadata": {},
     "output_type": "execute_result"
    }
   ],
   "source": [
    "# Orthogonality\n",
    "U'*U"
   ]
  },
  {
   "cell_type": "code",
   "execution_count": 6,
   "metadata": {},
   "outputs": [
    {
     "data": {
      "text/plain": [
       "4×4 Array{Float64,2}:\n",
       "  5.55112e-17  6.66134e-16   5.55112e-17  -1.11022e-16\n",
       " -5.55112e-17  6.66134e-16  -1.38778e-16   1.38778e-16\n",
       "  4.85723e-17  6.66134e-16  -4.16334e-17  -2.22045e-16\n",
       " -2.77556e-17  2.22045e-16   5.55112e-17   2.22045e-16"
      ]
     },
     "execution_count": 6,
     "metadata": {},
     "output_type": "execute_result"
    }
   ],
   "source": [
    "# Residual\n",
    "A*U-U*diagm(0=>λ)"
   ]
  },
  {
   "cell_type": "code",
   "execution_count": 7,
   "metadata": {},
   "outputs": [],
   "source": [
    "# Positive definite matrix\n",
    "n=100\n",
    "A=rand(n,n)\n",
    "A=Matrix(Symmetric(A'*A));"
   ]
  },
  {
   "cell_type": "code",
   "execution_count": 9,
   "metadata": {},
   "outputs": [
    {
     "name": "stdout",
     "output_type": "stream",
     "text": [
      "  4.067641 seconds (233.58 k allocations: 8.710 GiB, 20.27% gc time)\n"
     ]
    },
    {
     "data": {
      "text/plain": [
       "(1.8382430885369045e-13, 3.4728905160977044e-11)"
      ]
     },
     "execution_count": 9,
     "metadata": {},
     "output_type": "execute_result"
    }
   ],
   "source": [
    "@time λ,U=myJacobi(A)\n",
    "norm(U'*U-I),norm(A*U-U*diagm(0=>λ))"
   ]
  },
  {
   "cell_type": "code",
   "execution_count": 10,
   "metadata": {},
   "outputs": [
    {
     "data": {
      "text/plain": [
       "100-element Array{Float64,1}:\n",
       "    4.412809798401899    \n",
       " 2537.6642528413263      \n",
       "   32.11279820896945     \n",
       "   29.994614748386997    \n",
       "    0.015325201797605886 \n",
       "    3.0662276640018677   \n",
       "   15.74916649097252     \n",
       "    0.0039025137619321756\n",
       "   29.69183936656711     \n",
       "   25.85674533572733     \n",
       "    1.91214693026913e-6  \n",
       "    0.11483951072551898  \n",
       "    0.028374888575368136 \n",
       "    ⋮                    \n",
       "    8.213546011760384    \n",
       "    8.394069232411645    \n",
       "    3.499270813206219    \n",
       "    3.3687495340126166   \n",
       "    7.185914315021575    \n",
       "    4.999679952206746    \n",
       "    4.972546874965672    \n",
       "    5.084460247190997    \n",
       "    6.505982621773337    \n",
       "    5.378942108974826    \n",
       "    6.269460182741506    \n",
       "    5.981493344044229    "
      ]
     },
     "execution_count": 10,
     "metadata": {},
     "output_type": "execute_result"
    }
   ],
   "source": [
    "λ"
   ]
  },
  {
   "cell_type": "code",
   "execution_count": 11,
   "metadata": {},
   "outputs": [
    {
     "data": {
      "text/plain": [
       "1.3271282697880414e9"
      ]
     },
     "execution_count": 11,
     "metadata": {},
     "output_type": "execute_result"
    }
   ],
   "source": [
    "cond(A)"
   ]
  },
  {
   "cell_type": "code",
   "execution_count": 12,
   "metadata": {},
   "outputs": [],
   "source": [
    "# Now the standard QR method\n",
    "λₛ,Uₛ=eigen(A);"
   ]
  },
  {
   "cell_type": "code",
   "execution_count": 13,
   "metadata": {},
   "outputs": [
    {
     "data": {
      "text/plain": [
       "(9.343867008498251e-14, 1.775956270508059e-12)"
      ]
     },
     "execution_count": 13,
     "metadata": {},
     "output_type": "execute_result"
    }
   ],
   "source": [
    "norm(Uₛ'*Uₛ-I),norm(A*Uₛ-Uₛ*diagm(0=>λₛ))"
   ]
  },
  {
   "cell_type": "markdown",
   "metadata": {},
   "source": [
    "`myJacobi()` is accurate but very slow. Notice the extreemely high memory allocation.\n",
    "\n",
    "The two key elements to reducing the allocations are: \n",
    "1. make sure variables don't change type within a function, and  \n",
    "2. reuse arrays in hot loops.\n",
    "\n",
    "Here we will simply use the in-place multiplication routines which are in Julia denoted by `!`."
   ]
  },
  {
   "cell_type": "code",
   "execution_count": 14,
   "metadata": {},
   "outputs": [
    {
     "name": "stdout",
     "output_type": "stream",
     "text": [
      "  0.006088 seconds (19 allocations: 272.281 KiB)\n"
     ]
    }
   ],
   "source": [
    "@time eigen(A);"
   ]
  },
  {
   "cell_type": "code",
   "execution_count": 15,
   "metadata": {},
   "outputs": [
    {
     "name": "stdout",
     "output_type": "stream",
     "text": [
      "  4.238959 seconds (233.58 k allocations: 8.710 GiB, 20.98% gc time)\n"
     ]
    }
   ],
   "source": [
    "@time myJacobi(A);"
   ]
  },
  {
   "cell_type": "code",
   "execution_count": 17,
   "metadata": {},
   "outputs": [
    {
     "data": {
      "text/plain": [
       "myJacobi (generic function with 1 method)"
      ]
     },
     "execution_count": 17,
     "metadata": {},
     "output_type": "execute_result"
    }
   ],
   "source": [
    "function myJacobi(A1::Array{T}) where T<:Real\n",
    "    A=deepcopy(A1)\n",
    "    n=size(A,1)\n",
    "    U=Matrix{T}(I,n,n)\n",
    "    # Tolerance for rotation\n",
    "    tol=sqrt(map(T,n))*eps(T)\n",
    "    # Counters\n",
    "    p=n*(n-1)/2\n",
    "    sweep=0\n",
    "    pcurrent=0\n",
    "    # First criterion is for standard accuracy, second one is for relative accuracy\n",
    "    # while sweep<30 && vecnorm(A-diagm(diag(A)))>tol\n",
    "    while sweep<30 && pcurrent<p\n",
    "        sweep+=1\n",
    "        # Row-cyclic strategy\n",
    "        for i = 1 : n-1 \n",
    "            for j = i+1 : n\n",
    "                # Check for the tolerance - the first criterion is standard,\n",
    "                # the second one is for relative accuracy for PD matrices               \n",
    "                # if A[i,j]!=zero(T)\n",
    "                if abs(A[i,j])>tol*sqrt(abs(A[i,i]*A[j,j]))\n",
    "                    # Compute c and s\n",
    "                    τ=(A[i,i]-A[j,j])/(2*A[i,j])\n",
    "                    t=sign(τ)/(abs(τ)+sqrt(1+τ^2))\n",
    "                    c=1/sqrt(1+t^2)\n",
    "                    s=c*t\n",
    "                    G=LinearAlgebra.Givens(i,j,c,s)\n",
    "                    # A=G*A\n",
    "                    lmul!(G,A)\n",
    "                    # A*=G'\n",
    "                    rmul!(A,adjoint(G))\n",
    "                    A[i,j]=zero(T)\n",
    "                    A[j,i]=zero(T)\n",
    "                    # U*=G'\n",
    "                    rmul!(U,adjoint(G))\n",
    "                    pcurrent=0\n",
    "                else\n",
    "                    pcurrent+=1\n",
    "                end\n",
    "            end\n",
    "        end\n",
    "    end\n",
    "    diag(A), U\n",
    "end"
   ]
  },
  {
   "cell_type": "code",
   "execution_count": 19,
   "metadata": {},
   "outputs": [
    {
     "name": "stdout",
     "output_type": "stream",
     "text": [
      "  0.012254 seconds (14 allocations: 157.953 KiB)\n"
     ]
    }
   ],
   "source": [
    "@time λ,U=myJacobi(A);"
   ]
  },
  {
   "cell_type": "code",
   "execution_count": 20,
   "metadata": {},
   "outputs": [
    {
     "data": {
      "text/plain": [
       "(1.8382430885369045e-13, 3.4728905160977044e-11)"
      ]
     },
     "execution_count": 20,
     "metadata": {},
     "output_type": "execute_result"
    }
   ],
   "source": [
    "norm(U'*U-I),norm(A*U-U*diagm(0=>λ))"
   ]
  },
  {
   "cell_type": "markdown",
   "metadata": {},
   "source": [
    "## Relative perturbation theory\n",
    "\n",
    "$A$  is a real symmetric PD matrix of order $n$  and $A=U\\Lambda U^T$ is its EVD.\n",
    "\n",
    "### Definition\n",
    "\n",
    "The __scaled matrix__ of the matrix $A$ is the matrix\n",
    "$$\n",
    "A_S=D^{-1} A D^{-1}, \\quad D=\\mathop{\\mathrm{diag}}(\\sqrt{A_{11}},\\sqrt{A_{22}},\\ldots,\\sqrt{A_{nn}}).\n",
    "$$\n",
    "\n",
    "### Facts\n",
    "\n",
    "1. The above diagonal scaling is nearly optimal (van der Sluis):\n",
    "$$\n",
    "\\kappa_2(A_S)\\leq  n \\min\\limits_{D=\\mathrm{diag}} \\kappa(DAD) \\leq n\\kappa_2(A).\n",
    "$$\n",
    "\n",
    "2. Let $A$ and $\\tilde A=A+\\Delta A$ both be positive definite, and let \n",
    "their eigenvalues have the same ordering. Then\n",
    "$$\n",
    "\\frac{|\\lambda_i-\\tilde\\lambda_i|}{\\lambda_i}\\leq \n",
    "\\frac{\\| D^{-1} (\\Delta A) D^{-1}\\|_2}{\\lambda_{\\min} (A_S)}\\equiv\n",
    "\\|A_S^{-1}\\|_2 \\| \\Delta A_S\\|_2.\n",
    "$$\n",
    "If $\\lambda_i$ and $\\tilde\\lambda_i$ are simple, then\n",
    "$$\n",
    "\\|U_{:,i}-\\tilde U_{:,i}\\|_2 \\leq \\frac{\\| A_S^{-1}\\|_2 \\|\\Delta A_S\\|_2}\n",
    "{\\displaystyle\\min_{j\\neq i}\\frac{|\\lambda_i-\\lambda_j|}{\\sqrt{\\lambda_i\\lambda_j}}}.\n",
    "$$\n",
    "These bounds are much sharper than the standard bounds for matrices for which $\\kappa_2(A_S)\\ll \\kappa_2(A)$.\n",
    "\n",
    "3. The Jacobi method with the relative stopping criterion \n",
    "$$\n",
    "|A_{ij}|\\leq tol \\sqrt{A_{ii}A_{jj}}, \\quad \\forall i\\neq j,\n",
    "$$\n",
    "and some user defined tolerance $tol$ (usually $tol=n\\varepsilon$), computes the EVD with small scaled  backward error\n",
    "$$\n",
    "\\|\\Delta A_S\\|\\leq \\varepsilon\\, O(\\|A_S\\|_2)\\leq O(n)\\varepsilon,\n",
    "$$\n",
    "_provided_ that $\\kappa_2([A_k]_S)$  does not grow much during the iterations. There is overwhelming numerical evidence that the scaled condition does not grow much, and the growth can be monitored, as well.\n",
    "\n",
    "The proofs of the above facts are in [J. Demmel and K. Veselić, Jacobi's method is more accurate than QR](http://www.netlib.org/lapack/lawnspdf/lawn15.pdf).  \n",
    "\n",
    "### Example - Scaled matrix\n"
   ]
  },
  {
   "cell_type": "code",
   "execution_count": 21,
   "metadata": {},
   "outputs": [
    {
     "data": {
      "text/plain": [
       "6×6 Array{Float64,2}:\n",
       " 1.0       0.826198  0.599379  0.57707   0.95549   0.904854\n",
       " 0.826198  1.0       0.875302  0.835009  0.939256  0.749163\n",
       " 0.599379  0.875302  1.0       0.979583  0.728843  0.550308\n",
       " 0.57707   0.835009  0.979583  1.0       0.707762  0.593786\n",
       " 0.95549   0.939256  0.728843  0.707762  1.0       0.878301\n",
       " 0.904854  0.749163  0.550308  0.593786  0.878301  1.0     "
      ]
     },
     "execution_count": 21,
     "metadata": {},
     "output_type": "execute_result"
    }
   ],
   "source": [
    "Random.seed!(431)\n",
    "n=6\n",
    "A=rand(n,n)\n",
    "A=Matrix(Symmetric(A'*A));\n",
    "Aₛ=[A[i,j]/sqrt(A[i,i]*A[j,j]) for i=1:n, j=1:n]"
   ]
  },
  {
   "cell_type": "code",
   "execution_count": 22,
   "metadata": {},
   "outputs": [
    {
     "data": {
      "text/plain": [
       "(2150.5714115462656, 2282.351517374101)"
      ]
     },
     "execution_count": 22,
     "metadata": {},
     "output_type": "execute_result"
    }
   ],
   "source": [
    "cond(Aₛ), cond(A)"
   ]
  },
  {
   "cell_type": "code",
   "execution_count": 23,
   "metadata": {},
   "outputs": [
    {
     "data": {
      "text/plain": [
       "6-element Array{Float64,1}:\n",
       "      2.2271337290182809e-10\n",
       "      1.2274296893634574e9  \n",
       "     18.317196864288768     \n",
       " 186314.1160431326          \n",
       "      0.0006212720403915135 \n",
       "      1.5274198482771623e-10"
      ]
     },
     "execution_count": 23,
     "metadata": {},
     "output_type": "execute_result"
    }
   ],
   "source": [
    "# We add a strong scaling\n",
    "D=exp.(50*(rand(n).-0.5))"
   ]
  },
  {
   "cell_type": "code",
   "execution_count": 24,
   "metadata": {},
   "outputs": [
    {
     "data": {
      "text/plain": [
       "6×6 Array{Float64,2}:\n",
       " 4.96012e-20  0.225854      2.44516e-9  …   1.32207e-13  3.0781e-20 \n",
       " 0.225854     1.50658e18    1.96795e10      7.16246e5    0.140453   \n",
       " 2.44516e-9   1.96795e10  335.52            0.0082942    1.53965e-9 \n",
       " 2.39453e-5   1.90956e14    3.34307e6      81.9247       1.6898e-5  \n",
       " 1.32207e-13  7.16246e5     0.0082942       3.85979e-7   8.33457e-14\n",
       " 3.0781e-20   0.140453      1.53965e-9  …   8.33457e-14  2.33301e-20"
      ]
     },
     "execution_count": 24,
     "metadata": {},
     "output_type": "execute_result"
    }
   ],
   "source": [
    "H=Diagonal(D)*Aₛ*Diagonal(D)"
   ]
  },
  {
   "cell_type": "code",
   "execution_count": 25,
   "metadata": {},
   "outputs": [
    {
     "data": {
      "text/plain": [
       "6×6 Array{Float64,2}:\n",
       " 1.0       0.826198  0.599379  0.57707   0.95549   0.904854\n",
       " 0.826198  1.0       0.875302  0.835009  0.939256  0.749163\n",
       " 0.599379  0.875302  1.0       0.979583  0.728843  0.550308\n",
       " 0.57707   0.835009  0.979583  1.0       0.707762  0.593786\n",
       " 0.95549   0.939256  0.728843  0.707762  1.0       0.878301\n",
       " 0.904854  0.749163  0.550308  0.593786  0.878301  1.0     "
      ]
     },
     "execution_count": 25,
     "metadata": {},
     "output_type": "execute_result"
    }
   ],
   "source": [
    "# Now we scale again\n",
    "Hₛ=[H[i,j]/sqrt(H[i,i]*H[j,j]) for i=1:n, j=1:n]"
   ]
  },
  {
   "cell_type": "code",
   "execution_count": 26,
   "metadata": {},
   "outputs": [
    {
     "data": {
      "text/plain": [
       "(2150.571411546287, 8.242988204016304e38)"
      ]
     },
     "execution_count": 26,
     "metadata": {},
     "output_type": "execute_result"
    }
   ],
   "source": [
    "cond(Hₛ),cond(H)"
   ]
  },
  {
   "cell_type": "code",
   "execution_count": 27,
   "metadata": {},
   "outputs": [
    {
     "data": {
      "text/plain": [
       "([6.63934e-22, 1.50658e18, 9.91729, 1.05097e10, 2.59109e-8, 3.60205e-21], [0.828959 1.49911e-19 … 6.35047e-7 0.559309; 1.32543e-19 1.0 … -6.80926e-13 1.43024e-19; … ; -3.52441e-7 4.75411e-13 … 1.0 -6.13056e-7; -0.559309 9.32263e-20 … 3.11075e-7 0.828959])"
      ]
     },
     "execution_count": 27,
     "metadata": {},
     "output_type": "execute_result"
    }
   ],
   "source": [
    "# Jacobi method\n",
    "λ,U=myJacobi(H)"
   ]
  },
  {
   "cell_type": "code",
   "execution_count": 28,
   "metadata": {},
   "outputs": [
    {
     "data": {
      "text/plain": [
       "Eigen{Float64,Float64,Array{Float64,2},Array{Float64,1}}\n",
       "eigenvalues:\n",
       "6-element Array{Float64,1}:\n",
       " 4.960124646930873e-20 \n",
       " 1.5065836665341514e18 \n",
       " 1.0509671246976444e10 \n",
       " 9.917294095827494     \n",
       " 2.5910948129583934e-8 \n",
       " 2.6829263829812304e-21\n",
       "eigenvectors:\n",
       "6×6 Array{Float64,2}:\n",
       " 1.0  1.49911e-19   4.45413e-16   1.28032e-11   6.35047e-7   -0.0290221  \n",
       " 0.0  1.0           0.000126748   2.82638e-9   -6.80926e-13   4.44093e-20\n",
       " 0.0  1.30623e-8   -8.07583e-5   -1.0           3.49168e-5    1.15155e-11\n",
       " 0.0  0.000126748  -1.0           8.07583e-5   -1.97699e-9   -1.10605e-15\n",
       " 0.0  4.75411e-13   8.42833e-10   3.49168e-5    1.0          -3.10944e-7 \n",
       " 0.0  9.32263e-20   8.60325e-17   2.23821e-11   3.11075e-7    0.999579   "
      ]
     },
     "execution_count": 28,
     "metadata": {},
     "output_type": "execute_result"
    }
   ],
   "source": [
    "# Standard QR method\n",
    "λ₁,U₁=eigen(H)"
   ]
  },
  {
   "cell_type": "code",
   "execution_count": 29,
   "metadata": {},
   "outputs": [
    {
     "data": {
      "text/plain": [
       "6×2 Array{Float64,2}:\n",
       " 6.63934e-22  2.68293e-21\n",
       " 3.60205e-21  4.96012e-20\n",
       " 2.59109e-8   2.59109e-8 \n",
       " 9.91729      9.91729    \n",
       " 1.05097e10   1.05097e10 \n",
       " 1.50658e18   1.50658e18 "
      ]
     },
     "execution_count": 29,
     "metadata": {},
     "output_type": "execute_result"
    }
   ],
   "source": [
    "# Compare\n",
    "[sort(λ) sort(λ₁)]"
   ]
  },
  {
   "cell_type": "code",
   "execution_count": 30,
   "metadata": {},
   "outputs": [
    {
     "data": {
      "text/plain": [
       "6-element Array{BigFloat,1}:\n",
       " 6.639338347636978529927229993857181868728832091544013581877936779166890586722408e-22\n",
       " 1.506583666534152515559851410423035778679052938516648886706051024540631281201094e+18\n",
       " 9.917294095924888174393482177270077731209297684093460115049788286542808522740377    \n",
       " 1.05096712469764394858225098052559387058258270604718865433068736387455737534328e+10 \n",
       " 2.591094812974685868334656643489241678555151754233661403589069371029847883253728e-08\n",
       " 3.602046700706017132058904286277989221215849193663410894313463527192708721064271e-21"
      ]
     },
     "execution_count": 30,
     "metadata": {},
     "output_type": "execute_result"
    }
   ],
   "source": [
    "# Check with BigFloat\n",
    "λ₂,U₂=myJacobi(map(BigFloat,H))\n",
    "λ₂"
   ]
  },
  {
   "cell_type": "code",
   "execution_count": 31,
   "metadata": {},
   "outputs": [
    {
     "data": {
      "text/plain": [
       "6-element Array{Float64,1}:\n",
       " -3.926102380007449e-14 \n",
       " -7.128907915321807e-15 \n",
       " -6.127447935327731e-15 \n",
       " -4.961642322799733e-15 \n",
       " -8.157495434418286e-16 \n",
       " -2.9499865056415837e-16"
      ]
     },
     "execution_count": 31,
     "metadata": {},
     "output_type": "execute_result"
    }
   ],
   "source": [
    "# Relative error is eps()*cond(AS)\n",
    "map(Float64,(sort(λ₂)-sort(λ))./sort(λ₂))"
   ]
  },
  {
   "cell_type": "markdown",
   "metadata": {},
   "source": [
    "## Indefinite matrices\n",
    "\n",
    "### Definition\n",
    "\n",
    "__Spectral absolute value__ of the matrix $A$ is the matrix \n",
    "\n",
    "$$\n",
    "|A|_{\\mathrm{spr}}=(A^2)^{1/2}.\n",
    "$$\n",
    "\n",
    "This is positive definite part of the polar decomposition of $A$.\n",
    "\n",
    "### Facts\n",
    "\n",
    "1. The above perturbation bounds for positive definite matrices essentially hold with $A_S$ replaced by $[|A|_{\\mathrm{spr}}]_S$.\n",
    "\n",
    "2. Jacobi method can be modified to compute the EVD with small backward error \n",
    "$\\| \\Delta [|A|_{\\mathrm{spr}}]_S\\|_2$.\n",
    "\n",
    "The details of the indefinite case are beyond the scope of this course, and the reader should consider references."
   ]
  },
  {
   "cell_type": "code",
   "execution_count": null,
   "metadata": {},
   "outputs": [],
   "source": []
  }
 ],
 "metadata": {
  "anaconda-cloud": {},
  "kernelspec": {
   "display_name": "Julia 1.0.3",
   "language": "julia",
   "name": "julia-1.0"
  },
  "language_info": {
   "file_extension": ".jl",
   "mimetype": "application/julia",
   "name": "julia",
   "version": "1.0.3"
  }
 },
 "nbformat": 4,
 "nbformat_minor": 1
}
