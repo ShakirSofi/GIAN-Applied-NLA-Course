{
 "cells": [
  {
   "cell_type": "markdown",
   "metadata": {},
   "source": [
    "# Eigenvalue Decomposition - Definitions and Facts\n",
    "\n",
    "\n",
    "## Prerequisites\n",
    "\n",
    "The reader should be familiar with basic linear algebra concepts. \n",
    "\n",
    " \n",
    "## Competences \n",
    "\n",
    "The reader should be able to understand and check the facts about eigenvalue decomposition.\n",
    "\n",
    "## Selected references\n",
    "\n",
    "There are many excellent books on the subject. Here we list a few:\n",
    "\n",
    "[J. W. Demmel, Applied Numerical Linear Algebra][Dem97]\n",
    "\n",
    "[G. H. Golub and C. F. Van Loan, Matrix Computations][GV13]\n",
    "\n",
    "[N. Higham, Accuracy and Stability of Numerical Algorithms][Hig02]\n",
    "\n",
    "[L. Hogben, ed., Handbook of Linear Algebra][Hog14]\n",
    "\n",
    "[B. N. Parlett, The Symmetric Eigenvalue Problem][Par80]\n",
    "\n",
    "[G. W. Stewart, Matrix Algorithms, Vol. II: Eigensystems][Ste01]\n",
    "\n",
    "[L. N. Trefethen and D. Bau, III, Numerical Linear Algebra][TB97]\n",
    "\n",
    "[J. H. Wilkinson, The Algebraic Eigenvalue Problem][Wil65]\n",
    "\n",
    "\n",
    "[Dem97]: #1 \"J.W. Demmel, 'Applied Numerical Linear Algebra', SIAM, Philadelphia, 1997.\"\n",
    "  \n",
    "[GV13]: #1 \"G. H. Golub and C. F. Van Loan, 'Matrix Computations', 4th ed., The John Hopkins University Press, Baltimore, MD, 2013.\"\n",
    "  \n",
    "[Hig02]: #1 \"N. Higham, 'Accuracy and Stability of Numerical Algorithms', SIAM, Philadelphia, 2nd ed., 2002.\"\n",
    "    \n",
    "[Hog14]: #1 \"L. Hogben, ed., 'Handbook of Linear Algebra', CRC Press, Boca Raton, 2014.\"\n",
    "\n",
    "[Par80]: #1 \"B. N. Parlett, 'The Symmetric Eigenvalue Problem', Prentice-Hall, Englewood Cliffs, NJ, 1980, also SIAM, Philadelphia, 1998.\"\n",
    "\n",
    "[Ste01]: #1 \"G. W. Stewart, 'Matrix Algorithms, Vol. II: Eigensystems', SIAM, Philadelphia, 2001.\" \n",
    "\n",
    "[TB97]: #1 \"L. N. Trefethen and D. Bau, III, 'Numerical Linear Algebra', SIAM, Philadelphia, 1997.\"\n",
    "\n",
    "[Wil65]: #1 \"J. H. Wilkinson, 'The Algebraic Eigenvalue Problem', Clarendon Press, Oxford, U.K.,  1965.\"\n",
    "    "
   ]
  },
  {
   "cell_type": "markdown",
   "metadata": {},
   "source": [
    "## General matrices\n",
    "\n",
    "For more details and the proofs of the Facts below, see \n",
    "[L. M. DeAlba, Determinants and Eigenvalues][Hog14] and the references therein.\n",
    "\n",
    "[Hog14]: #1 \"L. Hogben, ed., 'Handbook of Linear Algebra', pp. 4.1-4.15, CRC Press, Boca Raton, 2014.\"\n",
    "\n",
    "### Definitions\n",
    "\n",
    "We state the basic definitions:\n",
    "\n",
    "Let $F=\\mathbb{R}$ or $F=\\mathbb{C}$ and let $A\\in F^{n\\times n}$ with elements $a_{ij}\\in F$.\n",
    "\n",
    "An element $\\lambda \\in F$ is an __eigenvalue__ of $A$ if\n",
    "$\\exists x\\in F$, $x\\neq 0$ such that\n",
    "\n",
    "$$\n",
    "Ax=\\lambda x,\n",
    "$$\n",
    "and $x$ is an __eigenvector__ of $\\lambda$.\n",
    "\n",
    "__Characteristic polynomial__ of $A$ is $p_A(x)=\\det(A-xI)$.\n",
    "\n",
    "__Algebraic multiplicty__, $\\alpha(\\lambda)$, is the multiplicity of $\\lambda$ as a root of $p_A(x)$.\n",
    "\n",
    "__Spectrum of $A$__, $\\sigma(A)$, is the multiset of all eigenvalues of $A$, with each eigenvalue appearing $\\alpha(A)$ times.\n",
    "\n",
    "__Spectral radius__ of $A$ is \n",
    "$$\\rho(A)=\\max\\{|\\lambda|, \\lambda \\in \\sigma(A)\\}.\n",
    "$$\n",
    "\n",
    "__Eigenspace__ of $\\lambda$ is \n",
    "\n",
    "$$\n",
    "E_{\\lambda}(A)=\\ker(A-\\lambda I).\n",
    "$$\n",
    "\n",
    "__Geometric multiplicity__ of $\\lambda$ is \n",
    "$$\\gamma(\\lambda)=\\dim(E_{\\lambda}(A)).\n",
    "$$\n",
    "\n",
    "$\\lambda$ is __simple__ if $\\alpha(\\lambda)=1$.\n",
    "\n",
    "$\\lambda$ is __semisimple__ if $\\alpha(\\lambda)=\\gamma(\\lambda)$.\n",
    "\n",
    "$A$ is __nonderogatory__ if $\\gamma(\\lambda)=1$ for all $\\lambda$.\n",
    "\n",
    "$A$ is __nondefective__ if every $\\lambda$ is semisimple.\n",
    "\n",
    "$A$ is __diagonalizable__ if there exists nonsingular $B$ matrix and diagonal matrix $D$ such that\n",
    "$A=BDB^{-1}$.\n",
    "\n",
    "__Trace__ of $A$ is \n",
    "$$\\mathop{\\mathrm{tr}}(A)=\\sum_i a_{ii}.$$\n",
    "\n",
    "$Q\\in\\mathbb{C}^{n\\times n}$ is __unitary__ if $Q^*Q=QQ^*=I$,\n",
    "where $Q^*=(\\bar Q)^T$.\n",
    "\n",
    "__Schur decomposition__ of $A$ is $A=QTQ^*$,\n",
    "where $Q$ is unitary and $T$ is upper triangular.\n",
    "\n",
    "$A$ and $B$ are __similar__ if $B=QAQ^{-1}$ for some nonsingular matrix $Q$.\n",
    "\n",
    "$A$ is __normal__ if $AA^*=A^*A$. "
   ]
  },
  {
   "cell_type": "markdown",
   "metadata": {},
   "source": [
    "### Facts\n",
    "\n",
    "There are many facts related to the eigenvalue problem for general matrices. We state some basic ones:\n",
    "\n",
    "1. $\\lambda\\in\\sigma(A) \\Leftrightarrow p_A(\\lambda)=0$.\n",
    "\n",
    "1. __Cayley-Hamilton Theorem.__ $p_A(A)=0$. \n",
    "\n",
    "2. A simple eigenvalue is semisimple.\n",
    "\n",
    "3. $\\mathop{\\mathrm{tr}}(A)=\\sum_{i=1}^n \\lambda_i$.\n",
    "\n",
    "4. $\\det(A)=\\prod_{i=1}^n \\lambda_i$.\n",
    "\n",
    "5. $A$ is singular $\\Leftrightarrow$ $\\det(A)=0$ $\\Leftrightarrow$ $0\\in\\sigma(A)$.\n",
    "\n",
    "7. If $A$ is triangular, $\\sigma(A)=\\{a_{11},a_{22},\\ldots,a_{nn}\\}$.\n",
    "\n",
    "6. For $A\\in\\mathbb{C}^{n\\times n}$, $\\lambda\\in\\sigma(A)$ $\\Leftrightarrow$ $\\bar\\lambda\\in\\sigma(A^*)$.\n",
    "\n",
    "8. __Corollary of the Fundamental theorem of algebra.__ For $A\\in\\mathbb{R}^{n\\times n}$, $\\lambda\\in\\sigma(A)$ $\\Leftrightarrow$ $\\bar\\lambda\\in\\sigma(A)$. \n",
    "\n",
    "9. If $(\\lambda,x)$ is an eigenpair of a nonsingular $A$, then $(1/\\lambda,x)$ is an eigenpair of $A^{-1}$.\n",
    "\n",
    "10. Eigenvectors corresponding to distinct eigenvalues are linearly independent.\n",
    "\n",
    "11. $A$ is diagonalizable $\\Leftrightarrow$ $A$ is nondefective $\\Leftrightarrow$ $A$ has $n$ linearly independent eigenvectors. \n",
    "\n",
    "12. Every $A$ has Schur decomposition. Moreover, $T_{ii}=\\lambda_i$.\n",
    "\n",
    "14. If $A$ is normal, matrix $T$ from its Schur decomposition is normal. Consequently:\n",
    "\n",
    "    * $T$ is diagonal, and has eigenvalues of $A$ on diagonal,\n",
    "    * matrix $Q$ of the Schur decomposition is the unitary matrix of eigenvectors,\n",
    "    * all eigenvalues of $A$ are semisimple and $A$ is nondefective.\n",
    "\n",
    "13. If $A$ and $B$ are similar, $\\sigma(A)=\\sigma(B)$. Consequently, $\\mathop{\\mathrm{tr}}(A)=\\mathop{\\mathrm{tr}}(B)$ and $\\det(A)=\\det(B)$.\n",
    "\n",
    "11. Eigenvalues and eigenvectors are continous and differentiable: if $\\lambda$ is a simple eigenvalue of $A$ and $A(\\varepsilon)=A+\\varepsilon E$ for some $E\\in F^{n\\times n}$, for small $\\varepsilon$ there exist differentiable functions $\\lambda(\\varepsilon)$ and $x(\\varepsilon)$ such that\n",
    "\n",
    "$$\n",
    "A(\\varepsilon) x(\\varepsilon) = \\lambda(\\varepsilon) x(\\varepsilon).\n",
    "$$\n",
    "\n",
    "15. Classical motivation for the eigenvalue problem is the following: consider the system of linear differential equations with constant coefficients,\n",
    "$$ \\dot y(t)=Ay(t).$$\n",
    "If the solution is $y=e^{\\lambda t} x$ for some constant vector $x$, then\n",
    "\n",
    "$$\\lambda e^{\\lambda t} x=Ae^{\\lambda t} x \\quad \\textrm{or} \\quad Ax=\\lambda x.\n",
    "$$\n"
   ]
  },
  {
   "cell_type": "markdown",
   "metadata": {},
   "source": [
    "### Examples\n",
    "\n",
    "We shall illustrate above Definitions and Facts on several small examples, using symbolic computation."
   ]
  },
  {
   "cell_type": "code",
   "execution_count": 1,
   "metadata": {},
   "outputs": [
    {
     "name": "stderr",
     "output_type": "stream",
     "text": [
      "┌ Info: Recompiling stale cache file C:\\Users\\Ivan_Slapnicar\\.julia\\compiled\\v1.0\\SymPy\\KzewI.ji for SymPy [24249f21-da20-56a4-8eb1-6a02cf4ae2e6]\n",
      "└ @ Base loading.jl:1190\n"
     ]
    }
   ],
   "source": [
    "using SymPy"
   ]
  },
  {
   "cell_type": "code",
   "execution_count": 2,
   "metadata": {},
   "outputs": [
    {
     "data": {
      "text/plain": [
       "3×3 Array{Int64,2}:\n",
       " -3    7  -1\n",
       "  6    8  -2\n",
       " 72  -28  19"
      ]
     },
     "execution_count": 2,
     "metadata": {},
     "output_type": "execute_result"
    }
   ],
   "source": [
    "A=[-3 7 -1; 6 8 -2; 72 -28 19]"
   ]
  },
  {
   "cell_type": "code",
   "execution_count": 3,
   "metadata": {},
   "outputs": [
    {
     "data": {
      "text/plain": [
       "(x,)"
      ]
     },
     "execution_count": 3,
     "metadata": {},
     "output_type": "execute_result"
    }
   ],
   "source": [
    "@vars x"
   ]
  },
  {
   "cell_type": "code",
   "execution_count": 4,
   "metadata": {},
   "outputs": [
    {
     "data": {
      "text/latex": [
       "\\[\\left[ \\begin{array}{rrr}- x - 3&7&-1\\\\6&- x + 8&-2\\\\72&-28&- x + 19\\end{array}\\right]\\]"
      ],
      "text/plain": [
       "3×3 Array{Sym,2}:\n",
       " -x - 3       7       -1\n",
       "      6  -x + 8       -2\n",
       "     72     -28  -x + 19"
      ]
     },
     "execution_count": 4,
     "metadata": {},
     "output_type": "execute_result"
    }
   ],
   "source": [
    "using LinearAlgebra\n",
    "eye(n)=Matrix{Int}(I,n,n)\n",
    "A-x*eye(3)"
   ]
  },
  {
   "cell_type": "code",
   "execution_count": 5,
   "metadata": {},
   "outputs": [
    {
     "data": {
      "text/latex": [
       "\\begin{equation*}26 x + \\left(- x - 3\\right) \\left(- x + 8\\right) \\left(- x + 19\\right) - 894\\end{equation*}"
      ],
      "text/plain": [
       "26*x + (-x - 3)*(-x + 8)*(-x + 19) - 894"
      ]
     },
     "execution_count": 5,
     "metadata": {},
     "output_type": "execute_result"
    }
   ],
   "source": [
    "# Characteristic polynomial p_A(λ)\n",
    "p(x)=det(A-x*eye(3))\n",
    "p(x)"
   ]
  },
  {
   "cell_type": "code",
   "execution_count": 6,
   "metadata": {},
   "outputs": [
    {
     "data": {
      "text/latex": [
       "\\begin{equation*}- \\left(x - 15\\right)^{2} \\left(x + 6\\right)\\end{equation*}"
      ],
      "text/plain": [
       "         2        \n",
       "-(x - 15) *(x + 6)"
      ]
     },
     "execution_count": 6,
     "metadata": {},
     "output_type": "execute_result"
    }
   ],
   "source": [
    "# Characteristic polynomial in nicer form\n",
    "p(x)=factor(det(A-x*eye(3)))\n",
    "p(x)"
   ]
  },
  {
   "cell_type": "code",
   "execution_count": 7,
   "metadata": {},
   "outputs": [
    {
     "data": {
      "text/latex": [
       "\\[ \\left[ \\begin{array}{r}-6\\\\15\\end{array} \\right] \\]"
      ],
      "text/plain": [
       "2-element Array{Sym,1}:\n",
       " -6\n",
       " 15"
      ]
     },
     "execution_count": 7,
     "metadata": {},
     "output_type": "execute_result"
    }
   ],
   "source": [
    "λ=solve(p(x),x)"
   ]
  },
  {
   "cell_type": "markdown",
   "metadata": {},
   "source": [
    "The eigenvalues are $\\lambda_1=-6$ and $\\lambda_2=15$ with algebraic multiplicities\n",
    "$\\alpha(\\lambda_1)=1$ and $\\alpha(\\lambda_2)=2$."
   ]
  },
  {
   "cell_type": "code",
   "execution_count": 8,
   "metadata": {},
   "outputs": [
    {
     "data": {
      "text/plain": [
       "1-element Array{Array{Sym,1},1}:\n",
       " [-1/4, 1/4, 1]"
      ]
     },
     "execution_count": 8,
     "metadata": {},
     "output_type": "execute_result"
    }
   ],
   "source": [
    "g=nullspace(A-λ[1]*eye(3))"
   ]
  },
  {
   "cell_type": "code",
   "execution_count": 9,
   "metadata": {},
   "outputs": [
    {
     "data": {
      "text/plain": [
       "1-element Array{Array{Sym,1},1}:\n",
       " [-1/4, -1/2, 1]"
      ]
     },
     "execution_count": 9,
     "metadata": {},
     "output_type": "execute_result"
    }
   ],
   "source": [
    "h=nullspace(A-λ[2]*eye(3))"
   ]
  },
  {
   "cell_type": "markdown",
   "metadata": {},
   "source": [
    "The geometric multiplicities are $\\gamma(\\lambda_1)=1$ and $\\gamma(\\lambda_2)=1$. Thus, $\\lambda_2$ is not semisimple, therefore $A$ is defective and not diagonalizable."
   ]
  },
  {
   "cell_type": "code",
   "execution_count": 10,
   "metadata": {},
   "outputs": [
    {
     "data": {
      "text/plain": [
       "(24, 24)"
      ]
     },
     "execution_count": 10,
     "metadata": {},
     "output_type": "execute_result"
    }
   ],
   "source": [
    "# Trace and determinant\n",
    "tr(A), λ[1]+λ[2]+λ[2]"
   ]
  },
  {
   "cell_type": "code",
   "execution_count": 11,
   "metadata": {},
   "outputs": [
    {
     "data": {
      "text/plain": [
       "(-1350.0000000000002, -1350)"
      ]
     },
     "execution_count": 11,
     "metadata": {},
     "output_type": "execute_result"
    }
   ],
   "source": [
    "det(A), λ[1]*λ[2]*λ[2]"
   ]
  },
  {
   "cell_type": "code",
   "execution_count": 12,
   "metadata": {},
   "outputs": [
    {
     "data": {
      "text/plain": [
       "3×3 Array{Float64,2}:\n",
       " -6.0  25.4662       -72.2009\n",
       "  0.0  15.0          -12.0208\n",
       "  0.0   1.48587e-15   15.0   "
      ]
     },
     "execution_count": 12,
     "metadata": {},
     "output_type": "execute_result"
    }
   ],
   "source": [
    "# Schur decomposition\n",
    "T,Q=schur(A)\n",
    "T"
   ]
  },
  {
   "cell_type": "code",
   "execution_count": 13,
   "metadata": {},
   "outputs": [
    {
     "data": {
      "text/plain": [
       "3×3 Array{Float64,2}:\n",
       " -0.235702  -0.0571662  -0.970143   \n",
       "  0.235702  -0.971825   -5.90663e-16\n",
       "  0.942809   0.228665   -0.242536   "
      ]
     },
     "execution_count": 13,
     "metadata": {},
     "output_type": "execute_result"
    }
   ],
   "source": [
    "Q"
   ]
  },
  {
   "cell_type": "code",
   "execution_count": 14,
   "metadata": {},
   "outputs": [
    {
     "name": "stdout",
     "output_type": "stream",
     "text": [
      "search: \u001b[0m\u001b[1ms\u001b[22m\u001b[0m\u001b[1mc\u001b[22m\u001b[0m\u001b[1mh\u001b[22m\u001b[0m\u001b[1mu\u001b[22m\u001b[0m\u001b[1mr\u001b[22m \u001b[0m\u001b[1ms\u001b[22m\u001b[0m\u001b[1mc\u001b[22m\u001b[0m\u001b[1mh\u001b[22m\u001b[0m\u001b[1mu\u001b[22m\u001b[0m\u001b[1mr\u001b[22m! \u001b[0m\u001b[1mS\u001b[22m\u001b[0m\u001b[1mc\u001b[22m\u001b[0m\u001b[1mh\u001b[22m\u001b[0m\u001b[1mu\u001b[22m\u001b[0m\u001b[1mr\u001b[22m ord\u001b[0m\u001b[1ms\u001b[22m\u001b[0m\u001b[1mc\u001b[22m\u001b[0m\u001b[1mh\u001b[22m\u001b[0m\u001b[1mu\u001b[22m\u001b[0m\u001b[1mr\u001b[22m ord\u001b[0m\u001b[1ms\u001b[22m\u001b[0m\u001b[1mc\u001b[22m\u001b[0m\u001b[1mh\u001b[22m\u001b[0m\u001b[1mu\u001b[22m\u001b[0m\u001b[1mr\u001b[22m! Generalized\u001b[0m\u001b[1mS\u001b[22m\u001b[0m\u001b[1mc\u001b[22m\u001b[0m\u001b[1mh\u001b[22m\u001b[0m\u001b[1mu\u001b[22m\u001b[0m\u001b[1mr\u001b[22m \u001b[0m\u001b[1ms\u001b[22m\u001b[0m\u001b[1mc\u001b[22m\u001b[0m\u001b[1mh\u001b[22med\u001b[0m\u001b[1mu\u001b[22mle\n",
      "\n"
     ]
    },
    {
     "data": {
      "text/latex": [
       "\\begin{verbatim}\n",
       "schur(A::StridedMatrix) -> F::Schur\n",
       "\\end{verbatim}\n",
       "Computes the Schur factorization of the matrix \\texttt{A}. The (quasi) triangular Schur factor can be obtained from the \\texttt{Schur} object \\texttt{F} with either \\texttt{F.Schur} or \\texttt{F.T} and the orthogonal/unitary Schur vectors can be obtained with \\texttt{F.vectors} or \\texttt{F.Z} such that \\texttt{A = F.vectors * F.Schur * F.vectors'}. The eigenvalues of \\texttt{A} can be obtained with \\texttt{F.values}.\n",
       "\n",
       "Iterating the decomposition produces the components \\texttt{F.T}, \\texttt{F.Z}, and \\texttt{F.values}.\n",
       "\n",
       "\\section{Examples}\n",
       "\\begin{verbatim}\n",
       "julia> A = [5. 7.; -2. -4.]\n",
       "2×2 Array{Float64,2}:\n",
       "  5.0   7.0\n",
       " -2.0  -4.0\n",
       "\n",
       "julia> F = schur(A)\n",
       "Schur{Float64,Array{Float64,2}}\n",
       "T factor:\n",
       "2×2 Array{Float64,2}:\n",
       " 3.0   9.0\n",
       " 0.0  -2.0\n",
       "Z factor:\n",
       "2×2 Array{Float64,2}:\n",
       "  0.961524  0.274721\n",
       " -0.274721  0.961524\n",
       "eigenvalues:\n",
       "2-element Array{Float64,1}:\n",
       "  3.0\n",
       " -2.0\n",
       "\n",
       "julia> F.vectors * F.Schur * F.vectors'\n",
       "2×2 Array{Float64,2}:\n",
       "  5.0   7.0\n",
       " -2.0  -4.0\n",
       "\n",
       "julia> t, z, vals = F; # destructuring via iteration\n",
       "\n",
       "julia> t == F.T && z == F.Z && vals == F.values\n",
       "true\n",
       "\\end{verbatim}\n",
       "\\rule{\\textwidth}{1pt}\n",
       "\\begin{verbatim}\n",
       "schur(A::StridedMatrix, B::StridedMatrix) -> F::GeneralizedSchur\n",
       "\\end{verbatim}\n",
       "Computes the Generalized Schur (or QZ) factorization of the matrices \\texttt{A} and \\texttt{B}. The (quasi) triangular Schur factors can be obtained from the \\texttt{Schur} object \\texttt{F} with \\texttt{F.S} and \\texttt{F.T}, the left unitary/orthogonal Schur vectors can be obtained with \\texttt{F.left} or \\texttt{F.Q} and the right unitary/orthogonal Schur vectors can be obtained with \\texttt{F.right} or \\texttt{F.Z} such that \\texttt{A=F.left*F.S*F.right'} and \\texttt{B=F.left*F.T*F.right'}. The generalized eigenvalues of \\texttt{A} and \\texttt{B} can be obtained with \\texttt{F.α./F.β}.\n",
       "\n",
       "Iterating the decomposition produces the components \\texttt{F.S}, \\texttt{F.T}, \\texttt{F.Q}, \\texttt{F.Z}, \\texttt{F.α}, and \\texttt{F.β}.\n",
       "\n"
      ],
      "text/markdown": [
       "```\n",
       "schur(A::StridedMatrix) -> F::Schur\n",
       "```\n",
       "\n",
       "Computes the Schur factorization of the matrix `A`. The (quasi) triangular Schur factor can be obtained from the `Schur` object `F` with either `F.Schur` or `F.T` and the orthogonal/unitary Schur vectors can be obtained with `F.vectors` or `F.Z` such that `A = F.vectors * F.Schur * F.vectors'`. The eigenvalues of `A` can be obtained with `F.values`.\n",
       "\n",
       "Iterating the decomposition produces the components `F.T`, `F.Z`, and `F.values`.\n",
       "\n",
       "# Examples\n",
       "\n",
       "```jldoctest\n",
       "julia> A = [5. 7.; -2. -4.]\n",
       "2×2 Array{Float64,2}:\n",
       "  5.0   7.0\n",
       " -2.0  -4.0\n",
       "\n",
       "julia> F = schur(A)\n",
       "Schur{Float64,Array{Float64,2}}\n",
       "T factor:\n",
       "2×2 Array{Float64,2}:\n",
       " 3.0   9.0\n",
       " 0.0  -2.0\n",
       "Z factor:\n",
       "2×2 Array{Float64,2}:\n",
       "  0.961524  0.274721\n",
       " -0.274721  0.961524\n",
       "eigenvalues:\n",
       "2-element Array{Float64,1}:\n",
       "  3.0\n",
       " -2.0\n",
       "\n",
       "julia> F.vectors * F.Schur * F.vectors'\n",
       "2×2 Array{Float64,2}:\n",
       "  5.0   7.0\n",
       " -2.0  -4.0\n",
       "\n",
       "julia> t, z, vals = F; # destructuring via iteration\n",
       "\n",
       "julia> t == F.T && z == F.Z && vals == F.values\n",
       "true\n",
       "```\n",
       "\n",
       "---\n",
       "\n",
       "```\n",
       "schur(A::StridedMatrix, B::StridedMatrix) -> F::GeneralizedSchur\n",
       "```\n",
       "\n",
       "Computes the Generalized Schur (or QZ) factorization of the matrices `A` and `B`. The (quasi) triangular Schur factors can be obtained from the `Schur` object `F` with `F.S` and `F.T`, the left unitary/orthogonal Schur vectors can be obtained with `F.left` or `F.Q` and the right unitary/orthogonal Schur vectors can be obtained with `F.right` or `F.Z` such that `A=F.left*F.S*F.right'` and `B=F.left*F.T*F.right'`. The generalized eigenvalues of `A` and `B` can be obtained with `F.α./F.β`.\n",
       "\n",
       "Iterating the decomposition produces the components `F.S`, `F.T`, `F.Q`, `F.Z`, `F.α`, and `F.β`.\n"
      ],
      "text/plain": [
       "\u001b[36m  schur(A::StridedMatrix) -> F::Schur\u001b[39m\n",
       "\n",
       "  Computes the Schur factorization of the matrix \u001b[36mA\u001b[39m. The (quasi) triangular\n",
       "  Schur factor can be obtained from the \u001b[36mSchur\u001b[39m object \u001b[36mF\u001b[39m with either \u001b[36mF.Schur\u001b[39m or\n",
       "  \u001b[36mF.T\u001b[39m and the orthogonal/unitary Schur vectors can be obtained with \u001b[36mF.vectors\u001b[39m\n",
       "  or \u001b[36mF.Z\u001b[39m such that \u001b[36mA = F.vectors * F.Schur * F.vectors'\u001b[39m. The eigenvalues of \u001b[36mA\u001b[39m\n",
       "  can be obtained with \u001b[36mF.values\u001b[39m.\n",
       "\n",
       "  Iterating the decomposition produces the components \u001b[36mF.T\u001b[39m, \u001b[36mF.Z\u001b[39m, and \u001b[36mF.values\u001b[39m.\n",
       "\n",
       "\u001b[1m  Examples\u001b[22m\n",
       "\u001b[1m  ≡≡≡≡≡≡≡≡≡≡\u001b[22m\n",
       "\n",
       "\u001b[36m  julia> A = [5. 7.; -2. -4.]\u001b[39m\n",
       "\u001b[36m  2×2 Array{Float64,2}:\u001b[39m\n",
       "\u001b[36m    5.0   7.0\u001b[39m\n",
       "\u001b[36m   -2.0  -4.0\u001b[39m\n",
       "\u001b[36m  \u001b[39m\n",
       "\u001b[36m  julia> F = schur(A)\u001b[39m\n",
       "\u001b[36m  Schur{Float64,Array{Float64,2}}\u001b[39m\n",
       "\u001b[36m  T factor:\u001b[39m\n",
       "\u001b[36m  2×2 Array{Float64,2}:\u001b[39m\n",
       "\u001b[36m   3.0   9.0\u001b[39m\n",
       "\u001b[36m   0.0  -2.0\u001b[39m\n",
       "\u001b[36m  Z factor:\u001b[39m\n",
       "\u001b[36m  2×2 Array{Float64,2}:\u001b[39m\n",
       "\u001b[36m    0.961524  0.274721\u001b[39m\n",
       "\u001b[36m   -0.274721  0.961524\u001b[39m\n",
       "\u001b[36m  eigenvalues:\u001b[39m\n",
       "\u001b[36m  2-element Array{Float64,1}:\u001b[39m\n",
       "\u001b[36m    3.0\u001b[39m\n",
       "\u001b[36m   -2.0\u001b[39m\n",
       "\u001b[36m  \u001b[39m\n",
       "\u001b[36m  julia> F.vectors * F.Schur * F.vectors'\u001b[39m\n",
       "\u001b[36m  2×2 Array{Float64,2}:\u001b[39m\n",
       "\u001b[36m    5.0   7.0\u001b[39m\n",
       "\u001b[36m   -2.0  -4.0\u001b[39m\n",
       "\u001b[36m  \u001b[39m\n",
       "\u001b[36m  julia> t, z, vals = F; # destructuring via iteration\u001b[39m\n",
       "\u001b[36m  \u001b[39m\n",
       "\u001b[36m  julia> t == F.T && z == F.Z && vals == F.values\u001b[39m\n",
       "\u001b[36m  true\u001b[39m\n",
       "\n",
       "  ────────────────────────────────────────────────────────────────────────────\n",
       "\n",
       "\u001b[36m  schur(A::StridedMatrix, B::StridedMatrix) -> F::GeneralizedSchur\u001b[39m\n",
       "\n",
       "  Computes the Generalized Schur (or QZ) factorization of the matrices \u001b[36mA\u001b[39m and\n",
       "  \u001b[36mB\u001b[39m. The (quasi) triangular Schur factors can be obtained from the \u001b[36mSchur\u001b[39m\n",
       "  object \u001b[36mF\u001b[39m with \u001b[36mF.S\u001b[39m and \u001b[36mF.T\u001b[39m, the left unitary/orthogonal Schur vectors can be\n",
       "  obtained with \u001b[36mF.left\u001b[39m or \u001b[36mF.Q\u001b[39m and the right unitary/orthogonal Schur vectors\n",
       "  can be obtained with \u001b[36mF.right\u001b[39m or \u001b[36mF.Z\u001b[39m such that \u001b[36mA=F.left*F.S*F.right'\u001b[39m and\n",
       "  \u001b[36mB=F.left*F.T*F.right'\u001b[39m. The generalized eigenvalues of \u001b[36mA\u001b[39m and \u001b[36mB\u001b[39m can be\n",
       "  obtained with \u001b[36mF.α./F.β\u001b[39m.\n",
       "\n",
       "  Iterating the decomposition produces the components \u001b[36mF.S\u001b[39m, \u001b[36mF.T\u001b[39m, \u001b[36mF.Q\u001b[39m, \u001b[36mF.Z\u001b[39m, \u001b[36mF.α\u001b[39m,\n",
       "  and \u001b[36mF.β\u001b[39m."
      ]
     },
     "execution_count": 14,
     "metadata": {},
     "output_type": "execute_result"
    }
   ],
   "source": [
    "?schur"
   ]
  },
  {
   "cell_type": "code",
   "execution_count": 15,
   "metadata": {},
   "outputs": [
    {
     "data": {
      "text/plain": [
       "(:T, :Z, :values)"
      ]
     },
     "execution_count": 15,
     "metadata": {},
     "output_type": "execute_result"
    }
   ],
   "source": [
    "F=schur(A)\n",
    "fieldnames(typeof(F))"
   ]
  },
  {
   "cell_type": "code",
   "execution_count": 16,
   "metadata": {},
   "outputs": [
    {
     "data": {
      "text/plain": [
       "3×3 Array{Float64,2}:\n",
       " -0.235702  -0.0571662  -0.970143   \n",
       "  0.235702  -0.971825   -5.90663e-16\n",
       "  0.942809   0.228665   -0.242536   "
      ]
     },
     "execution_count": 16,
     "metadata": {},
     "output_type": "execute_result"
    }
   ],
   "source": [
    "F.Z"
   ]
  },
  {
   "cell_type": "code",
   "execution_count": 17,
   "metadata": {},
   "outputs": [
    {
     "name": "stdout",
     "output_type": "stream",
     "text": [
      "[-6.0, 15.0, 15.0]\n"
     ]
    }
   ],
   "source": [
    "println(diag(T))"
   ]
  },
  {
   "cell_type": "code",
   "execution_count": 18,
   "metadata": {},
   "outputs": [
    {
     "data": {
      "text/plain": [
       "3×3 Array{Float64,2}:\n",
       " 1.0          1.11022e-16  2.77556e-17\n",
       " 1.11022e-16  1.0          1.52656e-16\n",
       " 2.77556e-17  1.52656e-16  1.0        "
      ]
     },
     "execution_count": 18,
     "metadata": {},
     "output_type": "execute_result"
    }
   ],
   "source": [
    "Q'*Q"
   ]
  },
  {
   "cell_type": "code",
   "execution_count": 19,
   "metadata": {},
   "outputs": [
    {
     "data": {
      "text/plain": [
       "3×3 Array{Float64,2}:\n",
       " 1.0          1.35877e-16  0.0        \n",
       " 1.35877e-16  1.0          3.22346e-17\n",
       " 0.0          3.22346e-17  1.0        "
      ]
     },
     "execution_count": 19,
     "metadata": {},
     "output_type": "execute_result"
    }
   ],
   "source": [
    "Q*Q'"
   ]
  },
  {
   "cell_type": "code",
   "execution_count": 20,
   "metadata": {},
   "outputs": [
    {
     "data": {
      "text/plain": [
       "([-6.0, 15.0, 15.0], 23.999999999999993, -1350.000000000005)"
      ]
     },
     "execution_count": 20,
     "metadata": {},
     "output_type": "execute_result"
    }
   ],
   "source": [
    "# Similar matrices\n",
    "M=rand(-5:5,3,3)\n",
    "B=M*A*inv(M)\n",
    "eigvals(B), tr(B), det(B)"
   ]
  },
  {
   "cell_type": "markdown",
   "metadata": {},
   "source": [
    "### Example\n",
    "\n",
    "This matrix is nondefective and diagonalizable."
   ]
  },
  {
   "cell_type": "code",
   "execution_count": 21,
   "metadata": {},
   "outputs": [
    {
     "data": {
      "text/plain": [
       "3×3 Array{Int64,2}:\n",
       "   57  -21   21\n",
       "  -14   22   -7\n",
       " -140   70  -55"
      ]
     },
     "execution_count": 21,
     "metadata": {},
     "output_type": "execute_result"
    }
   ],
   "source": [
    "A=[57 -21 21; -14 22 -7; -140 70 -55]"
   ]
  },
  {
   "cell_type": "code",
   "execution_count": 22,
   "metadata": {},
   "outputs": [
    {
     "data": {
      "text/latex": [
       "\\begin{equation*}- \\left(x - 15\\right)^{2} \\left(x + 6\\right)\\end{equation*}"
      ],
      "text/plain": [
       "         2        \n",
       "-(x - 15) *(x + 6)"
      ]
     },
     "execution_count": 22,
     "metadata": {},
     "output_type": "execute_result"
    }
   ],
   "source": [
    "p(x)=factor(det(A-x*eye(3)))\n",
    "p(x)"
   ]
  },
  {
   "cell_type": "code",
   "execution_count": 23,
   "metadata": {},
   "outputs": [
    {
     "data": {
      "text/latex": [
       "\\[ \\left[ \\begin{array}{r}-6\\\\15\\end{array} \\right] \\]"
      ],
      "text/plain": [
       "2-element Array{Sym,1}:\n",
       " -6\n",
       " 15"
      ]
     },
     "execution_count": 23,
     "metadata": {},
     "output_type": "execute_result"
    }
   ],
   "source": [
    "λ=solve(p(x),x)"
   ]
  },
  {
   "cell_type": "code",
   "execution_count": 24,
   "metadata": {},
   "outputs": [
    {
     "data": {
      "text/plain": [
       "2-element Array{Array{Sym,1},1}:\n",
       " [1/2, 1, 0] \n",
       " [-1/2, 0, 1]"
      ]
     },
     "execution_count": 24,
     "metadata": {},
     "output_type": "execute_result"
    }
   ],
   "source": [
    "h=nullspace(A-λ[2]*eye(3))"
   ]
  },
  {
   "cell_type": "markdown",
   "metadata": {},
   "source": [
    "### Example\n",
    "\n",
    "Let us try some random examples of dimension $n=4$ (the largest $n$ for which we can compute eigevalues symbolically)."
   ]
  },
  {
   "cell_type": "code",
   "execution_count": 25,
   "metadata": {},
   "outputs": [
    {
     "data": {
      "text/plain": [
       "4×4 Array{Int64,2}:\n",
       "  0  -1  -4  -2\n",
       "  3   3   4  -4\n",
       " -3  -3  -3  -3\n",
       " -1   3   1   4"
      ]
     },
     "execution_count": 25,
     "metadata": {},
     "output_type": "execute_result"
    }
   ],
   "source": [
    "A=rand(-4:4,4,4)"
   ]
  },
  {
   "cell_type": "code",
   "execution_count": 26,
   "metadata": {},
   "outputs": [
    {
     "data": {
      "text/latex": [
       "\\begin{equation*}x^{4} - 4 x^{3} + 7 x^{2} + 100 x - 303\\end{equation*}"
      ],
      "text/plain": [
       " 4      3      2              \n",
       "x  - 4*x  + 7*x  + 100*x - 303"
      ]
     },
     "execution_count": 26,
     "metadata": {},
     "output_type": "execute_result"
    }
   ],
   "source": [
    "p(x)=factor(det(A-x*eye(4)))\n",
    "p(x)"
   ]
  },
  {
   "cell_type": "code",
   "execution_count": 27,
   "metadata": {},
   "outputs": [
    {
     "data": {
      "text/latex": [
       "\\[ \\left[ \\begin{array}{r}1 + \\frac{\\sqrt{- \\frac{2387}{18 \\sqrt[3]{\\frac{158851}{216} + \\frac{77 \\sqrt{181941}}{36}}} - \\frac{2}{3} + 2 \\sqrt[3]{\\frac{158851}{216} + \\frac{77 \\sqrt{181941}}{36}}}}{2} - \\frac{\\sqrt{- \\frac{212}{\\sqrt{- \\frac{2387}{18 \\sqrt[3]{\\frac{158851}{216} + \\frac{77 \\sqrt{181941}}{36}}} - \\frac{2}{3} + 2 \\sqrt[3]{\\frac{158851}{216} + \\frac{77 \\sqrt{181941}}{36}}}} - 2 \\sqrt[3]{\\frac{158851}{216} + \\frac{77 \\sqrt{181941}}{36}} - \\frac{4}{3} + \\frac{2387}{18 \\sqrt[3]{\\frac{158851}{216} + \\frac{77 \\sqrt{181941}}{36}}}}}{2}\\\\1 + \\frac{\\sqrt{- \\frac{2387}{18 \\sqrt[3]{\\frac{158851}{216} + \\frac{77 \\sqrt{181941}}{36}}} - \\frac{2}{3} + 2 \\sqrt[3]{\\frac{158851}{216} + \\frac{77 \\sqrt{181941}}{36}}}}{2} + \\frac{\\sqrt{- \\frac{212}{\\sqrt{- \\frac{2387}{18 \\sqrt[3]{\\frac{158851}{216} + \\frac{77 \\sqrt{181941}}{36}}} - \\frac{2}{3} + 2 \\sqrt[3]{\\frac{158851}{216} + \\frac{77 \\sqrt{181941}}{36}}}} - 2 \\sqrt[3]{\\frac{158851}{216} + \\frac{77 \\sqrt{181941}}{36}} - \\frac{4}{3} + \\frac{2387}{18 \\sqrt[3]{\\frac{158851}{216} + \\frac{77 \\sqrt{181941}}{36}}}}}{2}\\\\- \\frac{\\sqrt{- \\frac{2387}{18 \\sqrt[3]{\\frac{158851}{216} + \\frac{77 \\sqrt{181941}}{36}}} - \\frac{2}{3} + 2 \\sqrt[3]{\\frac{158851}{216} + \\frac{77 \\sqrt{181941}}{36}}}}{2} + 1 + \\frac{\\sqrt{- 2 \\sqrt[3]{\\frac{158851}{216} + \\frac{77 \\sqrt{181941}}{36}} - \\frac{4}{3} + \\frac{2387}{18 \\sqrt[3]{\\frac{158851}{216} + \\frac{77 \\sqrt{181941}}{36}}} + \\frac{212}{\\sqrt{- \\frac{2387}{18 \\sqrt[3]{\\frac{158851}{216} + \\frac{77 \\sqrt{181941}}{36}}} - \\frac{2}{3} + 2 \\sqrt[3]{\\frac{158851}{216} + \\frac{77 \\sqrt{181941}}{36}}}}}}{2}\\\\- \\frac{\\sqrt{- 2 \\sqrt[3]{\\frac{158851}{216} + \\frac{77 \\sqrt{181941}}{36}} - \\frac{4}{3} + \\frac{2387}{18 \\sqrt[3]{\\frac{158851}{216} + \\frac{77 \\sqrt{181941}}{36}}} + \\frac{212}{\\sqrt{- \\frac{2387}{18 \\sqrt[3]{\\frac{158851}{216} + \\frac{77 \\sqrt{181941}}{36}}} - \\frac{2}{3} + 2 \\sqrt[3]{\\frac{158851}{216} + \\frac{77 \\sqrt{181941}}{36}}}}}}{2} - \\frac{\\sqrt{- \\frac{2387}{18 \\sqrt[3]{\\frac{158851}{216} + \\frac{77 \\sqrt{181941}}{36}}} - \\frac{2}{3} + 2 \\sqrt[3]{\\frac{158851}{216} + \\frac{77 \\sqrt{181941}}{36}}}}{2} + 1\\end{array} \\right] \\]"
      ],
      "text/plain": [
       "4-element Array{Sym,1}:\n",
       "  1 + sqrt(-2387/(18*(158851/216 + 77*sqrt(181941)/36)^(1/3)) - 2/3 + 2*(158851/216 + 77*sqrt(181941)/36)^(1/3))/2 - sqrt(-212/sqrt(-2387/(18*(158851/216 + 77*sqrt(181941)/36)^(1/3)) - 2/3 + 2*(158851/216 + 77*sqrt(181941)/36)^(1/3)) - 2*(158851/216 + 77*sqrt(181941)/36)^(1/3) - 4/3 + 2387/(18*(158851/216 + 77*sqrt(181941)/36)^(1/3)))/2\n",
       "  1 + sqrt(-2387/(18*(158851/216 + 77*sqrt(181941)/36)^(1/3)) - 2/3 + 2*(158851/216 + 77*sqrt(181941)/36)^(1/3))/2 + sqrt(-212/sqrt(-2387/(18*(158851/216 + 77*sqrt(181941)/36)^(1/3)) - 2/3 + 2*(158851/216 + 77*sqrt(181941)/36)^(1/3)) - 2*(158851/216 + 77*sqrt(181941)/36)^(1/3) - 4/3 + 2387/(18*(158851/216 + 77*sqrt(181941)/36)^(1/3)))/2\n",
       " -sqrt(-2387/(18*(158851/216 + 77*sqrt(181941)/36)^(1/3)) - 2/3 + 2*(158851/216 + 77*sqrt(181941)/36)^(1/3))/2 + 1 + sqrt(-2*(158851/216 + 77*sqrt(181941)/36)^(1/3) - 4/3 + 2387/(18*(158851/216 + 77*sqrt(181941)/36)^(1/3)) + 212/sqrt(-2387/(18*(158851/216 + 77*sqrt(181941)/36)^(1/3)) - 2/3 + 2*(158851/216 + 77*sqrt(181941)/36)^(1/3)))/2\n",
       " -sqrt(-2*(158851/216 + 77*sqrt(181941)/36)^(1/3) - 4/3 + 2387/(18*(158851/216 + 77*sqrt(181941)/36)^(1/3)) + 212/sqrt(-2387/(18*(158851/216 + 77*sqrt(181941)/36)^(1/3)) - 2/3 + 2*(158851/216 + 77*sqrt(181941)/36)^(1/3)))/2 - sqrt(-2387/(18*(158851/216 + 77*sqrt(181941)/36)^(1/3)) - 2/3 + 2*(158851/216 + 77*sqrt(181941)/36)^(1/3))/2 + 1"
      ]
     },
     "execution_count": 27,
     "metadata": {},
     "output_type": "execute_result"
    }
   ],
   "source": [
    "λ=solve(p(x),x)"
   ]
  },
  {
   "cell_type": "code",
   "execution_count": 28,
   "metadata": {
    "scrolled": true
   },
   "outputs": [
    {
     "data": {
      "text/plain": [
       "4"
      ]
     },
     "execution_count": 28,
     "metadata": {},
     "output_type": "execute_result"
    }
   ],
   "source": [
    "length(λ)"
   ]
  },
  {
   "cell_type": "markdown",
   "metadata": {},
   "source": [
    "Since all eigenvalues are distinct, they are all simple and the matrix is diagonalizable. \n",
    "With high probability, all eigenvalues of a random matrix are simple.\n",
    "\n",
    "Do not try to use `nullspace()` here."
   ]
  },
  {
   "cell_type": "code",
   "execution_count": 29,
   "metadata": {},
   "outputs": [
    {
     "data": {
      "text/latex": [
       "\\begin{equation*}\\frac{1.38473365461382 \\left(0.722160537275945 x^{8} - 1.0 x^{7} - 0.621207067162894 x^{6} + 0.736271965268429 x^{5} + 0.20254767220898 x^{4} - 0.136773240824899 x^{3} - 0.0272247973812935 x^{2} + 0.00378514098953576 x - 0.000105729208929072\\right)}{1.0 x^{4} - 0.251152783916885 x^{3} - 0.196577710820786 x^{2} + 0.0218374455983418 x - 0.000576006141084681}\\end{equation*}"
      ],
      "text/plain": [
       "                 /                   8        7                      6        \n",
       "1.38473365461382*\\0.722160537275945*x  - 1.0*x  - 0.621207067162894*x  + 0.736\n",
       "------------------------------------------------------------------------------\n",
       "                                                             4                \n",
       "                                                        1.0*x  - 0.25115278391\n",
       "\n",
       "              5                     4                      3                  \n",
       "271965268429*x  + 0.20254767220898*x  - 0.136773240824899*x  - 0.0272247973812\n",
       "------------------------------------------------------------------------------\n",
       "      3                      2                                                \n",
       "6885*x  - 0.196577710820786*x  + 0.0218374455983418*x - 0.000576006141084681  \n",
       "\n",
       "     2                                               \\\n",
       "935*x  + 0.00378514098953576*x - 0.000105729208929072/\n",
       "------------------------------------------------------\n",
       "                                                      \n",
       "                                                      "
      ]
     },
     "execution_count": 29,
     "metadata": {},
     "output_type": "execute_result"
    }
   ],
   "source": [
    "A=rand(4,4)\n",
    "p(x)=factor(det(A-x*eye(4)))\n",
    "p(x)"
   ]
  },
  {
   "cell_type": "markdown",
   "metadata": {},
   "source": [
    "In this case, symbolic computation does not work well with floating-point numbers - the degree of $p_A(x)$ is 8 instead of 4.\n",
    "\n",
    "Let us try `Rational` numbers:"
   ]
  },
  {
   "cell_type": "code",
   "execution_count": 30,
   "metadata": {},
   "outputs": [
    {
     "data": {
      "text/plain": [
       "4×4 Array{Rational{Int64},2}:\n",
       "  233350601185865//4503599627370496  …   156209333576425//1125899906842624\n",
       " 1187268839672043//4503599627370496     1760421208468767//4503599627370496\n",
       " 2905790177081329//4503599627370496      820992529096433//1125899906842624\n",
       "  316168606053057//4503599627370496     2199420937698647//2251799813685248"
      ]
     },
     "execution_count": 30,
     "metadata": {},
     "output_type": "execute_result"
    }
   ],
   "source": [
    "A=map(Rational,A)"
   ]
  },
  {
   "cell_type": "code",
   "execution_count": 31,
   "metadata": {},
   "outputs": [
    {
     "data": {
      "text/latex": [
       "\\begin{equation*}\\frac{25711008708143844408671393477458601640355247900524685364822016 x^{4} - 29145507637874200637445723693625731802664008133468772607459328 x^{3} - 24382536649918716391142439779278372651527891701165548927713280 x^{2} + 13798854569754918553199467146650172965329527678425101414432768 x + 6535114964722406449138118772848229671242425809565845400053605}{25711008708143844408671393477458601640355247900524685364822016}\\end{equation*}"
      ],
      "text/plain": [
       "                                                                4             \n",
       "25711008708143844408671393477458601640355247900524685364822016*x  - 2914550763\n",
       "------------------------------------------------------------------------------\n",
       "                                                                              \n",
       "\n",
       "                                                      3                       \n",
       "7874200637445723693625731802664008133468772607459328*x  - 24382536649918716391\n",
       "------------------------------------------------------------------------------\n",
       "                                                         257110087081438444086\n",
       "\n",
       "                                            2                                 \n",
       "142439779278372651527891701165548927713280*x  + 137988545697549185531994671466\n",
       "------------------------------------------------------------------------------\n",
       "71393477458601640355247900524685364822016                                     \n",
       "\n",
       "                                                                              \n",
       "50172965329527678425101414432768*x + 65351149647224064491381187728482296712424\n",
       "------------------------------------------------------------------------------\n",
       "                                                                              \n",
       "\n",
       "                    \n",
       "25809565845400053605\n",
       "--------------------\n",
       "                    "
      ]
     },
     "execution_count": 31,
     "metadata": {},
     "output_type": "execute_result"
    }
   ],
   "source": [
    "p(x)=factor(det(A-x*eye(4)))\n",
    "p(x)"
   ]
  },
  {
   "cell_type": "code",
   "execution_count": 32,
   "metadata": {},
   "outputs": [
    {
     "data": {
      "text/latex": [
       "\\[ \\left[ \\begin{array}{r}\\frac{5105194386865043}{18014398509481984} - \\frac{\\sqrt{\\frac{232064468648950028867905561966787}{243388915243820045087367015432192} + \\frac{2375527011817949248386086364554195244940426351668369303165541897}{7404770507945427189697361321508077272422311395351109385068740608 \\sqrt[3]{\\frac{112858860473204976992582890094995210873995944688279254662495661944887950679485658931276444530539}{1802239061558267882020799564580559596696031940738425774642816356599997893627415464081874260852736} + \\frac{\\sqrt{515649687384845743401317781852869158853719481370974400223905515965282632236151928484319371506060562273849645097893912329756064989347323430208043652095880541650249950283430315260413984962} i}{50062196154396330056133321238348877686000887242734049295633787683333274822983762891163173912576}}} + 2 \\sqrt[3]{\\frac{112858860473204976992582890094995210873995944688279254662495661944887950679485658931276444530539}{1802239061558267882020799564580559596696031940738425774642816356599997893627415464081874260852736} + \\frac{\\sqrt{515649687384845743401317781852869158853719481370974400223905515965282632236151928484319371506060562273849645097893912329756064989347323430208043652095880541650249950283430315260413984962} i}{50062196154396330056133321238348877686000887242734049295633787683333274822983762891163173912576}}}}{2} - \\frac{\\sqrt{\\frac{232064468648950028867905561966787}{121694457621910022543683507716096} - 2 \\sqrt[3]{\\frac{112858860473204976992582890094995210873995944688279254662495661944887950679485658931276444530539}{1802239061558267882020799564580559596696031940738425774642816356599997893627415464081874260852736} + \\frac{\\sqrt{515649687384845743401317781852869158853719481370974400223905515965282632236151928484319371506060562273849645097893912329756064989347323430208043652095880541650249950283430315260413984962} i}{50062196154396330056133321238348877686000887242734049295633787683333274822983762891163173912576}} - \\frac{133651710831466173787794450728140923953379246743}{365375409332725729550921208179070754913983135744 \\sqrt{\\frac{232064468648950028867905561966787}{243388915243820045087367015432192} + \\frac{2375527011817949248386086364554195244940426351668369303165541897}{7404770507945427189697361321508077272422311395351109385068740608 \\sqrt[3]{\\frac{112858860473204976992582890094995210873995944688279254662495661944887950679485658931276444530539}{1802239061558267882020799564580559596696031940738425774642816356599997893627415464081874260852736} + \\frac{\\sqrt{515649687384845743401317781852869158853719481370974400223905515965282632236151928484319371506060562273849645097893912329756064989347323430208043652095880541650249950283430315260413984962} i}{50062196154396330056133321238348877686000887242734049295633787683333274822983762891163173912576}}} + 2 \\sqrt[3]{\\frac{112858860473204976992582890094995210873995944688279254662495661944887950679485658931276444530539}{1802239061558267882020799564580559596696031940738425774642816356599997893627415464081874260852736} + \\frac{\\sqrt{515649687384845743401317781852869158853719481370974400223905515965282632236151928484319371506060562273849645097893912329756064989347323430208043652095880541650249950283430315260413984962} i}{50062196154396330056133321238348877686000887242734049295633787683333274822983762891163173912576}}}} - \\frac{2375527011817949248386086364554195244940426351668369303165541897}{7404770507945427189697361321508077272422311395351109385068740608 \\sqrt[3]{\\frac{112858860473204976992582890094995210873995944688279254662495661944887950679485658931276444530539}{1802239061558267882020799564580559596696031940738425774642816356599997893627415464081874260852736} + \\frac{\\sqrt{515649687384845743401317781852869158853719481370974400223905515965282632236151928484319371506060562273849645097893912329756064989347323430208043652095880541650249950283430315260413984962} i}{50062196154396330056133321238348877686000887242734049295633787683333274822983762891163173912576}}}}}{2}\\\\\\frac{5105194386865043}{18014398509481984} + \\frac{\\sqrt{\\frac{232064468648950028867905561966787}{243388915243820045087367015432192} + \\frac{2375527011817949248386086364554195244940426351668369303165541897}{7404770507945427189697361321508077272422311395351109385068740608 \\sqrt[3]{\\frac{112858860473204976992582890094995210873995944688279254662495661944887950679485658931276444530539}{1802239061558267882020799564580559596696031940738425774642816356599997893627415464081874260852736} + \\frac{\\sqrt{515649687384845743401317781852869158853719481370974400223905515965282632236151928484319371506060562273849645097893912329756064989347323430208043652095880541650249950283430315260413984962} i}{50062196154396330056133321238348877686000887242734049295633787683333274822983762891163173912576}}} + 2 \\sqrt[3]{\\frac{112858860473204976992582890094995210873995944688279254662495661944887950679485658931276444530539}{1802239061558267882020799564580559596696031940738425774642816356599997893627415464081874260852736} + \\frac{\\sqrt{515649687384845743401317781852869158853719481370974400223905515965282632236151928484319371506060562273849645097893912329756064989347323430208043652095880541650249950283430315260413984962} i}{50062196154396330056133321238348877686000887242734049295633787683333274822983762891163173912576}}}}{2} - \\frac{\\sqrt{\\frac{232064468648950028867905561966787}{121694457621910022543683507716096} - 2 \\sqrt[3]{\\frac{112858860473204976992582890094995210873995944688279254662495661944887950679485658931276444530539}{1802239061558267882020799564580559596696031940738425774642816356599997893627415464081874260852736} + \\frac{\\sqrt{515649687384845743401317781852869158853719481370974400223905515965282632236151928484319371506060562273849645097893912329756064989347323430208043652095880541650249950283430315260413984962} i}{50062196154396330056133321238348877686000887242734049295633787683333274822983762891163173912576}} + \\frac{133651710831466173787794450728140923953379246743}{365375409332725729550921208179070754913983135744 \\sqrt{\\frac{232064468648950028867905561966787}{243388915243820045087367015432192} + \\frac{2375527011817949248386086364554195244940426351668369303165541897}{7404770507945427189697361321508077272422311395351109385068740608 \\sqrt[3]{\\frac{112858860473204976992582890094995210873995944688279254662495661944887950679485658931276444530539}{1802239061558267882020799564580559596696031940738425774642816356599997893627415464081874260852736} + \\frac{\\sqrt{515649687384845743401317781852869158853719481370974400223905515965282632236151928484319371506060562273849645097893912329756064989347323430208043652095880541650249950283430315260413984962} i}{50062196154396330056133321238348877686000887242734049295633787683333274822983762891163173912576}}} + 2 \\sqrt[3]{\\frac{112858860473204976992582890094995210873995944688279254662495661944887950679485658931276444530539}{1802239061558267882020799564580559596696031940738425774642816356599997893627415464081874260852736} + \\frac{\\sqrt{515649687384845743401317781852869158853719481370974400223905515965282632236151928484319371506060562273849645097893912329756064989347323430208043652095880541650249950283430315260413984962} i}{50062196154396330056133321238348877686000887242734049295633787683333274822983762891163173912576}}}} - \\frac{2375527011817949248386086364554195244940426351668369303165541897}{7404770507945427189697361321508077272422311395351109385068740608 \\sqrt[3]{\\frac{112858860473204976992582890094995210873995944688279254662495661944887950679485658931276444530539}{1802239061558267882020799564580559596696031940738425774642816356599997893627415464081874260852736} + \\frac{\\sqrt{515649687384845743401317781852869158853719481370974400223905515965282632236151928484319371506060562273849645097893912329756064989347323430208043652095880541650249950283430315260413984962} i}{50062196154396330056133321238348877686000887242734049295633787683333274822983762891163173912576}}}}}{2}\\\\\\frac{5105194386865043}{18014398509481984} + \\frac{\\sqrt{\\frac{232064468648950028867905561966787}{121694457621910022543683507716096} - 2 \\sqrt[3]{\\frac{112858860473204976992582890094995210873995944688279254662495661944887950679485658931276444530539}{1802239061558267882020799564580559596696031940738425774642816356599997893627415464081874260852736} + \\frac{\\sqrt{515649687384845743401317781852869158853719481370974400223905515965282632236151928484319371506060562273849645097893912329756064989347323430208043652095880541650249950283430315260413984962} i}{50062196154396330056133321238348877686000887242734049295633787683333274822983762891163173912576}} - \\frac{133651710831466173787794450728140923953379246743}{365375409332725729550921208179070754913983135744 \\sqrt{\\frac{232064468648950028867905561966787}{243388915243820045087367015432192} + \\frac{2375527011817949248386086364554195244940426351668369303165541897}{7404770507945427189697361321508077272422311395351109385068740608 \\sqrt[3]{\\frac{112858860473204976992582890094995210873995944688279254662495661944887950679485658931276444530539}{1802239061558267882020799564580559596696031940738425774642816356599997893627415464081874260852736} + \\frac{\\sqrt{515649687384845743401317781852869158853719481370974400223905515965282632236151928484319371506060562273849645097893912329756064989347323430208043652095880541650249950283430315260413984962} i}{50062196154396330056133321238348877686000887242734049295633787683333274822983762891163173912576}}} + 2 \\sqrt[3]{\\frac{112858860473204976992582890094995210873995944688279254662495661944887950679485658931276444530539}{1802239061558267882020799564580559596696031940738425774642816356599997893627415464081874260852736} + \\frac{\\sqrt{515649687384845743401317781852869158853719481370974400223905515965282632236151928484319371506060562273849645097893912329756064989347323430208043652095880541650249950283430315260413984962} i}{50062196154396330056133321238348877686000887242734049295633787683333274822983762891163173912576}}}} - \\frac{2375527011817949248386086364554195244940426351668369303165541897}{7404770507945427189697361321508077272422311395351109385068740608 \\sqrt[3]{\\frac{112858860473204976992582890094995210873995944688279254662495661944887950679485658931276444530539}{1802239061558267882020799564580559596696031940738425774642816356599997893627415464081874260852736} + \\frac{\\sqrt{515649687384845743401317781852869158853719481370974400223905515965282632236151928484319371506060562273849645097893912329756064989347323430208043652095880541650249950283430315260413984962} i}{50062196154396330056133321238348877686000887242734049295633787683333274822983762891163173912576}}}}}{2} - \\frac{\\sqrt{\\frac{232064468648950028867905561966787}{243388915243820045087367015432192} + \\frac{2375527011817949248386086364554195244940426351668369303165541897}{7404770507945427189697361321508077272422311395351109385068740608 \\sqrt[3]{\\frac{112858860473204976992582890094995210873995944688279254662495661944887950679485658931276444530539}{1802239061558267882020799564580559596696031940738425774642816356599997893627415464081874260852736} + \\frac{\\sqrt{515649687384845743401317781852869158853719481370974400223905515965282632236151928484319371506060562273849645097893912329756064989347323430208043652095880541650249950283430315260413984962} i}{50062196154396330056133321238348877686000887242734049295633787683333274822983762891163173912576}}} + 2 \\sqrt[3]{\\frac{112858860473204976992582890094995210873995944688279254662495661944887950679485658931276444530539}{1802239061558267882020799564580559596696031940738425774642816356599997893627415464081874260852736} + \\frac{\\sqrt{515649687384845743401317781852869158853719481370974400223905515965282632236151928484319371506060562273849645097893912329756064989347323430208043652095880541650249950283430315260413984962} i}{50062196154396330056133321238348877686000887242734049295633787683333274822983762891163173912576}}}}{2}\\\\\\frac{5105194386865043}{18014398509481984} + \\frac{\\sqrt{\\frac{232064468648950028867905561966787}{121694457621910022543683507716096} - 2 \\sqrt[3]{\\frac{112858860473204976992582890094995210873995944688279254662495661944887950679485658931276444530539}{1802239061558267882020799564580559596696031940738425774642816356599997893627415464081874260852736} + \\frac{\\sqrt{515649687384845743401317781852869158853719481370974400223905515965282632236151928484319371506060562273849645097893912329756064989347323430208043652095880541650249950283430315260413984962} i}{50062196154396330056133321238348877686000887242734049295633787683333274822983762891163173912576}} + \\frac{133651710831466173787794450728140923953379246743}{365375409332725729550921208179070754913983135744 \\sqrt{\\frac{232064468648950028867905561966787}{243388915243820045087367015432192} + \\frac{2375527011817949248386086364554195244940426351668369303165541897}{7404770507945427189697361321508077272422311395351109385068740608 \\sqrt[3]{\\frac{112858860473204976992582890094995210873995944688279254662495661944887950679485658931276444530539}{1802239061558267882020799564580559596696031940738425774642816356599997893627415464081874260852736} + \\frac{\\sqrt{515649687384845743401317781852869158853719481370974400223905515965282632236151928484319371506060562273849645097893912329756064989347323430208043652095880541650249950283430315260413984962} i}{50062196154396330056133321238348877686000887242734049295633787683333274822983762891163173912576}}} + 2 \\sqrt[3]{\\frac{112858860473204976992582890094995210873995944688279254662495661944887950679485658931276444530539}{1802239061558267882020799564580559596696031940738425774642816356599997893627415464081874260852736} + \\frac{\\sqrt{515649687384845743401317781852869158853719481370974400223905515965282632236151928484319371506060562273849645097893912329756064989347323430208043652095880541650249950283430315260413984962} i}{50062196154396330056133321238348877686000887242734049295633787683333274822983762891163173912576}}}} - \\frac{2375527011817949248386086364554195244940426351668369303165541897}{7404770507945427189697361321508077272422311395351109385068740608 \\sqrt[3]{\\frac{112858860473204976992582890094995210873995944688279254662495661944887950679485658931276444530539}{1802239061558267882020799564580559596696031940738425774642816356599997893627415464081874260852736} + \\frac{\\sqrt{515649687384845743401317781852869158853719481370974400223905515965282632236151928484319371506060562273849645097893912329756064989347323430208043652095880541650249950283430315260413984962} i}{50062196154396330056133321238348877686000887242734049295633787683333274822983762891163173912576}}}}}{2} + \\frac{\\sqrt{\\frac{232064468648950028867905561966787}{243388915243820045087367015432192} + \\frac{2375527011817949248386086364554195244940426351668369303165541897}{7404770507945427189697361321508077272422311395351109385068740608 \\sqrt[3]{\\frac{112858860473204976992582890094995210873995944688279254662495661944887950679485658931276444530539}{1802239061558267882020799564580559596696031940738425774642816356599997893627415464081874260852736} + \\frac{\\sqrt{515649687384845743401317781852869158853719481370974400223905515965282632236151928484319371506060562273849645097893912329756064989347323430208043652095880541650249950283430315260413984962} i}{50062196154396330056133321238348877686000887242734049295633787683333274822983762891163173912576}}} + 2 \\sqrt[3]{\\frac{112858860473204976992582890094995210873995944688279254662495661944887950679485658931276444530539}{1802239061558267882020799564580559596696031940738425774642816356599997893627415464081874260852736} + \\frac{\\sqrt{515649687384845743401317781852869158853719481370974400223905515965282632236151928484319371506060562273849645097893912329756064989347323430208043652095880541650249950283430315260413984962} i}{50062196154396330056133321238348877686000887242734049295633787683333274822983762891163173912576}}}}{2}\\end{array} \\right] \\]"
      ],
      "text/plain": [
       "4-element Array{Sym,1}:\n",
       " 5105194386865043/18014398509481984 - sqrt(232064468648950028867905561966787/243388915243820045087367015432192 + 2375527011817949248386086364554195244940426351668369303165541897/(7404770507945427189697361321508077272422311395351109385068740608*(112858860473204976992582890094995210873995944688279254662495661944887950679485658931276444530539/1802239061558267882020799564580559596696031940738425774642816356599997893627415464081874260852736 + sqrt(515649687384845743401317781852869158853719481370974400223905515965282632236151928484319371506060562273849645097893912329756064989347323430208043652095880541650249950283430315260413984962)*I/50062196154396330056133321238348877686000887242734049295633787683333274822983762891163173912576)^(1/3)) + 2*(112858860473204976992582890094995210873995944688279254662495661944887950679485658931276444530539/1802239061558267882020799564580559596696031940738425774642816356599997893627415464081874260852736 + sqrt(515649687384845743401317781852869158853719481370974400223905515965282632236151928484319371506060562273849645097893912329756064989347323430208043652095880541650249950283430315260413984962)*I/50062196154396330056133321238348877686000887242734049295633787683333274822983762891163173912576)^(1/3))/2 - sqrt(232064468648950028867905561966787/121694457621910022543683507716096 - 2*(112858860473204976992582890094995210873995944688279254662495661944887950679485658931276444530539/1802239061558267882020799564580559596696031940738425774642816356599997893627415464081874260852736 + sqrt(515649687384845743401317781852869158853719481370974400223905515965282632236151928484319371506060562273849645097893912329756064989347323430208043652095880541650249950283430315260413984962)*I/50062196154396330056133321238348877686000887242734049295633787683333274822983762891163173912576)^(1/3) - 133651710831466173787794450728140923953379246743/(365375409332725729550921208179070754913983135744*sqrt(232064468648950028867905561966787/243388915243820045087367015432192 + 2375527011817949248386086364554195244940426351668369303165541897/(7404770507945427189697361321508077272422311395351109385068740608*(112858860473204976992582890094995210873995944688279254662495661944887950679485658931276444530539/1802239061558267882020799564580559596696031940738425774642816356599997893627415464081874260852736 + sqrt(515649687384845743401317781852869158853719481370974400223905515965282632236151928484319371506060562273849645097893912329756064989347323430208043652095880541650249950283430315260413984962)*I/50062196154396330056133321238348877686000887242734049295633787683333274822983762891163173912576)^(1/3)) + 2*(112858860473204976992582890094995210873995944688279254662495661944887950679485658931276444530539/1802239061558267882020799564580559596696031940738425774642816356599997893627415464081874260852736 + sqrt(515649687384845743401317781852869158853719481370974400223905515965282632236151928484319371506060562273849645097893912329756064989347323430208043652095880541650249950283430315260413984962)*I/50062196154396330056133321238348877686000887242734049295633787683333274822983762891163173912576)^(1/3))) - 2375527011817949248386086364554195244940426351668369303165541897/(7404770507945427189697361321508077272422311395351109385068740608*(112858860473204976992582890094995210873995944688279254662495661944887950679485658931276444530539/1802239061558267882020799564580559596696031940738425774642816356599997893627415464081874260852736 + sqrt(515649687384845743401317781852869158853719481370974400223905515965282632236151928484319371506060562273849645097893912329756064989347323430208043652095880541650249950283430315260413984962)*I/50062196154396330056133321238348877686000887242734049295633787683333274822983762891163173912576)^(1/3)))/2\n",
       " 5105194386865043/18014398509481984 + sqrt(232064468648950028867905561966787/243388915243820045087367015432192 + 2375527011817949248386086364554195244940426351668369303165541897/(7404770507945427189697361321508077272422311395351109385068740608*(112858860473204976992582890094995210873995944688279254662495661944887950679485658931276444530539/1802239061558267882020799564580559596696031940738425774642816356599997893627415464081874260852736 + sqrt(515649687384845743401317781852869158853719481370974400223905515965282632236151928484319371506060562273849645097893912329756064989347323430208043652095880541650249950283430315260413984962)*I/50062196154396330056133321238348877686000887242734049295633787683333274822983762891163173912576)^(1/3)) + 2*(112858860473204976992582890094995210873995944688279254662495661944887950679485658931276444530539/1802239061558267882020799564580559596696031940738425774642816356599997893627415464081874260852736 + sqrt(515649687384845743401317781852869158853719481370974400223905515965282632236151928484319371506060562273849645097893912329756064989347323430208043652095880541650249950283430315260413984962)*I/50062196154396330056133321238348877686000887242734049295633787683333274822983762891163173912576)^(1/3))/2 - sqrt(232064468648950028867905561966787/121694457621910022543683507716096 - 2*(112858860473204976992582890094995210873995944688279254662495661944887950679485658931276444530539/1802239061558267882020799564580559596696031940738425774642816356599997893627415464081874260852736 + sqrt(515649687384845743401317781852869158853719481370974400223905515965282632236151928484319371506060562273849645097893912329756064989347323430208043652095880541650249950283430315260413984962)*I/50062196154396330056133321238348877686000887242734049295633787683333274822983762891163173912576)^(1/3) + 133651710831466173787794450728140923953379246743/(365375409332725729550921208179070754913983135744*sqrt(232064468648950028867905561966787/243388915243820045087367015432192 + 2375527011817949248386086364554195244940426351668369303165541897/(7404770507945427189697361321508077272422311395351109385068740608*(112858860473204976992582890094995210873995944688279254662495661944887950679485658931276444530539/1802239061558267882020799564580559596696031940738425774642816356599997893627415464081874260852736 + sqrt(515649687384845743401317781852869158853719481370974400223905515965282632236151928484319371506060562273849645097893912329756064989347323430208043652095880541650249950283430315260413984962)*I/50062196154396330056133321238348877686000887242734049295633787683333274822983762891163173912576)^(1/3)) + 2*(112858860473204976992582890094995210873995944688279254662495661944887950679485658931276444530539/1802239061558267882020799564580559596696031940738425774642816356599997893627415464081874260852736 + sqrt(515649687384845743401317781852869158853719481370974400223905515965282632236151928484319371506060562273849645097893912329756064989347323430208043652095880541650249950283430315260413984962)*I/50062196154396330056133321238348877686000887242734049295633787683333274822983762891163173912576)^(1/3))) - 2375527011817949248386086364554195244940426351668369303165541897/(7404770507945427189697361321508077272422311395351109385068740608*(112858860473204976992582890094995210873995944688279254662495661944887950679485658931276444530539/1802239061558267882020799564580559596696031940738425774642816356599997893627415464081874260852736 + sqrt(515649687384845743401317781852869158853719481370974400223905515965282632236151928484319371506060562273849645097893912329756064989347323430208043652095880541650249950283430315260413984962)*I/50062196154396330056133321238348877686000887242734049295633787683333274822983762891163173912576)^(1/3)))/2\n",
       " 5105194386865043/18014398509481984 + sqrt(232064468648950028867905561966787/121694457621910022543683507716096 - 2*(112858860473204976992582890094995210873995944688279254662495661944887950679485658931276444530539/1802239061558267882020799564580559596696031940738425774642816356599997893627415464081874260852736 + sqrt(515649687384845743401317781852869158853719481370974400223905515965282632236151928484319371506060562273849645097893912329756064989347323430208043652095880541650249950283430315260413984962)*I/50062196154396330056133321238348877686000887242734049295633787683333274822983762891163173912576)^(1/3) - 133651710831466173787794450728140923953379246743/(365375409332725729550921208179070754913983135744*sqrt(232064468648950028867905561966787/243388915243820045087367015432192 + 2375527011817949248386086364554195244940426351668369303165541897/(7404770507945427189697361321508077272422311395351109385068740608*(112858860473204976992582890094995210873995944688279254662495661944887950679485658931276444530539/1802239061558267882020799564580559596696031940738425774642816356599997893627415464081874260852736 + sqrt(515649687384845743401317781852869158853719481370974400223905515965282632236151928484319371506060562273849645097893912329756064989347323430208043652095880541650249950283430315260413984962)*I/50062196154396330056133321238348877686000887242734049295633787683333274822983762891163173912576)^(1/3)) + 2*(112858860473204976992582890094995210873995944688279254662495661944887950679485658931276444530539/1802239061558267882020799564580559596696031940738425774642816356599997893627415464081874260852736 + sqrt(515649687384845743401317781852869158853719481370974400223905515965282632236151928484319371506060562273849645097893912329756064989347323430208043652095880541650249950283430315260413984962)*I/50062196154396330056133321238348877686000887242734049295633787683333274822983762891163173912576)^(1/3))) - 2375527011817949248386086364554195244940426351668369303165541897/(7404770507945427189697361321508077272422311395351109385068740608*(112858860473204976992582890094995210873995944688279254662495661944887950679485658931276444530539/1802239061558267882020799564580559596696031940738425774642816356599997893627415464081874260852736 + sqrt(515649687384845743401317781852869158853719481370974400223905515965282632236151928484319371506060562273849645097893912329756064989347323430208043652095880541650249950283430315260413984962)*I/50062196154396330056133321238348877686000887242734049295633787683333274822983762891163173912576)^(1/3)))/2 - sqrt(232064468648950028867905561966787/243388915243820045087367015432192 + 2375527011817949248386086364554195244940426351668369303165541897/(7404770507945427189697361321508077272422311395351109385068740608*(112858860473204976992582890094995210873995944688279254662495661944887950679485658931276444530539/1802239061558267882020799564580559596696031940738425774642816356599997893627415464081874260852736 + sqrt(515649687384845743401317781852869158853719481370974400223905515965282632236151928484319371506060562273849645097893912329756064989347323430208043652095880541650249950283430315260413984962)*I/50062196154396330056133321238348877686000887242734049295633787683333274822983762891163173912576)^(1/3)) + 2*(112858860473204976992582890094995210873995944688279254662495661944887950679485658931276444530539/1802239061558267882020799564580559596696031940738425774642816356599997893627415464081874260852736 + sqrt(515649687384845743401317781852869158853719481370974400223905515965282632236151928484319371506060562273849645097893912329756064989347323430208043652095880541650249950283430315260413984962)*I/50062196154396330056133321238348877686000887242734049295633787683333274822983762891163173912576)^(1/3))/2\n",
       " 5105194386865043/18014398509481984 + sqrt(232064468648950028867905561966787/121694457621910022543683507716096 - 2*(112858860473204976992582890094995210873995944688279254662495661944887950679485658931276444530539/1802239061558267882020799564580559596696031940738425774642816356599997893627415464081874260852736 + sqrt(515649687384845743401317781852869158853719481370974400223905515965282632236151928484319371506060562273849645097893912329756064989347323430208043652095880541650249950283430315260413984962)*I/50062196154396330056133321238348877686000887242734049295633787683333274822983762891163173912576)^(1/3) + 133651710831466173787794450728140923953379246743/(365375409332725729550921208179070754913983135744*sqrt(232064468648950028867905561966787/243388915243820045087367015432192 + 2375527011817949248386086364554195244940426351668369303165541897/(7404770507945427189697361321508077272422311395351109385068740608*(112858860473204976992582890094995210873995944688279254662495661944887950679485658931276444530539/1802239061558267882020799564580559596696031940738425774642816356599997893627415464081874260852736 + sqrt(515649687384845743401317781852869158853719481370974400223905515965282632236151928484319371506060562273849645097893912329756064989347323430208043652095880541650249950283430315260413984962)*I/50062196154396330056133321238348877686000887242734049295633787683333274822983762891163173912576)^(1/3)) + 2*(112858860473204976992582890094995210873995944688279254662495661944887950679485658931276444530539/1802239061558267882020799564580559596696031940738425774642816356599997893627415464081874260852736 + sqrt(515649687384845743401317781852869158853719481370974400223905515965282632236151928484319371506060562273849645097893912329756064989347323430208043652095880541650249950283430315260413984962)*I/50062196154396330056133321238348877686000887242734049295633787683333274822983762891163173912576)^(1/3))) - 2375527011817949248386086364554195244940426351668369303165541897/(7404770507945427189697361321508077272422311395351109385068740608*(112858860473204976992582890094995210873995944688279254662495661944887950679485658931276444530539/1802239061558267882020799564580559596696031940738425774642816356599997893627415464081874260852736 + sqrt(515649687384845743401317781852869158853719481370974400223905515965282632236151928484319371506060562273849645097893912329756064989347323430208043652095880541650249950283430315260413984962)*I/50062196154396330056133321238348877686000887242734049295633787683333274822983762891163173912576)^(1/3)))/2 + sqrt(232064468648950028867905561966787/243388915243820045087367015432192 + 2375527011817949248386086364554195244940426351668369303165541897/(7404770507945427189697361321508077272422311395351109385068740608*(112858860473204976992582890094995210873995944688279254662495661944887950679485658931276444530539/1802239061558267882020799564580559596696031940738425774642816356599997893627415464081874260852736 + sqrt(515649687384845743401317781852869158853719481370974400223905515965282632236151928484319371506060562273849645097893912329756064989347323430208043652095880541650249950283430315260413984962)*I/50062196154396330056133321238348877686000887242734049295633787683333274822983762891163173912576)^(1/3)) + 2*(112858860473204976992582890094995210873995944688279254662495661944887950679485658931276444530539/1802239061558267882020799564580559596696031940738425774642816356599997893627415464081874260852736 + sqrt(515649687384845743401317781852869158853719481370974400223905515965282632236151928484319371506060562273849645097893912329756064989347323430208043652095880541650249950283430315260413984962)*I/50062196154396330056133321238348877686000887242734049295633787683333274822983762891163173912576)^(1/3))/2"
      ]
     },
     "execution_count": 32,
     "metadata": {},
     "output_type": "execute_result"
    }
   ],
   "source": [
    "λ=solve(p(x),x)"
   ]
  },
  {
   "cell_type": "code",
   "execution_count": 33,
   "metadata": {},
   "outputs": [
    {
     "data": {
      "text/plain": [
       "4"
      ]
     },
     "execution_count": 33,
     "metadata": {},
     "output_type": "execute_result"
    }
   ],
   "source": [
    "length(λ)"
   ]
  },
  {
   "cell_type": "markdown",
   "metadata": {},
   "source": [
    "### Example - Circulant matrix\n",
    "\n",
    "For more details, see \n",
    "[A. B&ouml;ttcher and I. Spitkovsky, Special Types of Matrices][BoSp14] and the references therein.\n",
    "\n",
    "[BoSp14]: #1 \"L. Hogben, ed., 'Handbook of Linear Algebra', pp. 22.1-22.20, CRC Press, Boca Raton, 2014.\"\n",
    "\n",
    "Given $a_0,a_1,\\ldots,a_{n-1}\\in \\mathbb{C}$, the __circulant matrix__ is\n",
    "\n",
    "$$\n",
    "C(a_0,a_1,\\ldots,a_{n-1})=\\begin{bmatrix}\n",
    "a_0 & a_{n-1} & a_{n-2} & \\cdots & a_{1} \\\\\n",
    "a_1 & a_0 & a_{n-1} & \\cdots & a_{2} \\\\\n",
    "a_2 & a_1 & a_{0} & \\cdots & a_{3} \\\\\n",
    "\\vdots & \\vdots & \\vdots & \\ddots & \\vdots \\\\\n",
    "a_{n-1} & a_{n-2} & a_{n-3} & \\cdots & a_{0}\n",
    "\\end{bmatrix}.\n",
    "$$\n",
    "\n",
    "Let $a(z)=a_0+a_1z+a_2z^2+\\cdots +a_{n-1}z^{n-1}$ be the associated complex polynomial.\n",
    "\n",
    "Let $\\omega_n=\\exp\\big(\\displaystyle\\frac{2\\pi i}{n}\\big)$. The __Fourier matrix__ of order $n$ is\n",
    "\n",
    "$$\n",
    "F_n=\\frac{1}{\\sqrt{n}} \\bigg[ \\omega_n^{(j-1)(k-1)}\\bigg]_{j,k=1}^n=\n",
    "\\frac{1}{\\sqrt{n}} \\begin{bmatrix} \n",
    "1 & 1 & \\cdots & 1 \\\\\n",
    "1& \\omega_n & \\omega_n^2 & \\cdots \\omega_n^{n-1} \\\\\n",
    "1& \\omega_n^2 & \\omega_n^4 & \\cdots \\omega_n^{2(n-1)} \\\\\n",
    "\\vdots & \\vdots & \\ddots & \\vdots \\\\\n",
    "1& \\omega_n^{n-1} & \\omega_n^{2(n-1)} & \\cdots \\omega_n^{(n-1)(n-1)}\n",
    "\\end{bmatrix}.\n",
    "$$\n",
    "\n",
    "Fourier matrix is unitary. \n",
    "Fourier matrix is a Vandermonde matrix, $F_n=\\displaystyle\\frac{1}{\\sqrt{n}} V(1,\\omega_n,\\omega_n^2,\\ldots, \\omega_n^{n-1})$.\n",
    "\n",
    "Circulant matrix is normal and, thus, unitarily diagonalizable, with the eigenvalue decomposition\n",
    "\n",
    "$$\n",
    "C(a_0,a_1,\\ldots,a_{n-1})=F_n^*\\mathop{\\mathrm{diag}}[(a(1),a(\\omega_n),a(\\omega_n^2),\\ldots, \n",
    "a(\\omega_n^{n-1})]F_n.\n",
    "$$\n",
    "\n",
    "We shall use the package [SpecialMatrices.jl](https://github.com/jiahao/SpecialMatrices.jl)."
   ]
  },
  {
   "cell_type": "code",
   "execution_count": 34,
   "metadata": {},
   "outputs": [],
   "source": [
    "# using Pkg; Pkg.add(PackageSpec(name=\"SpecialMatrices\",rev=\"master\"))"
   ]
  },
  {
   "cell_type": "code",
   "execution_count": 35,
   "metadata": {},
   "outputs": [],
   "source": [
    "using SpecialMatrices\n",
    "using Polynomials"
   ]
  },
  {
   "cell_type": "code",
   "execution_count": 36,
   "metadata": {},
   "outputs": [
    {
     "data": {
      "text/latex": [
       "\\begin{tabular}\n",
       "{l | r | l}\n",
       "name & size & summary \\\\\n",
       "\\hline\n",
       "Cauchy & 40 bytes & UnionAll \\\\\n",
       "Circulant & 40 bytes & UnionAll \\\\\n",
       "Companion & 40 bytes & UnionAll \\\\\n",
       "Frobenius & 40 bytes & UnionAll \\\\\n",
       "Hankel & 40 bytes & UnionAll \\\\\n",
       "Hilbert & 40 bytes & UnionAll \\\\\n",
       "Kahan & 80 bytes & UnionAll \\\\\n",
       "Riemann & 40 bytes & UnionAll \\\\\n",
       "SpecialMatrices & 16.605 KiB & Module \\\\\n",
       "Strang & 40 bytes & UnionAll \\\\\n",
       "Toeplitz & 40 bytes & UnionAll \\\\\n",
       "Vandermonde & 40 bytes & UnionAll \\\\\n",
       "embed & 0 bytes & typeof(embed) \\\\\n",
       "\\end{tabular}\n"
      ],
      "text/markdown": [
       "| name            |       size | summary       |\n",
       "|:--------------- | ----------:|:------------- |\n",
       "| Cauchy          |   40 bytes | UnionAll      |\n",
       "| Circulant       |   40 bytes | UnionAll      |\n",
       "| Companion       |   40 bytes | UnionAll      |\n",
       "| Frobenius       |   40 bytes | UnionAll      |\n",
       "| Hankel          |   40 bytes | UnionAll      |\n",
       "| Hilbert         |   40 bytes | UnionAll      |\n",
       "| Kahan           |   80 bytes | UnionAll      |\n",
       "| Riemann         |   40 bytes | UnionAll      |\n",
       "| SpecialMatrices | 16.605 KiB | Module        |\n",
       "| Strang          |   40 bytes | UnionAll      |\n",
       "| Toeplitz        |   40 bytes | UnionAll      |\n",
       "| Vandermonde     |   40 bytes | UnionAll      |\n",
       "| embed           |    0 bytes | typeof(embed) |\n"
      ],
      "text/plain": [
       "name                  size summary      \n",
       "––––––––––––––– –––––––––– –––––––––––––\n",
       "Cauchy            40 bytes UnionAll     \n",
       "Circulant         40 bytes UnionAll     \n",
       "Companion         40 bytes UnionAll     \n",
       "Frobenius         40 bytes UnionAll     \n",
       "Hankel            40 bytes UnionAll     \n",
       "Hilbert           40 bytes UnionAll     \n",
       "Kahan             80 bytes UnionAll     \n",
       "Riemann           40 bytes UnionAll     \n",
       "SpecialMatrices 16.605 KiB Module       \n",
       "Strang            40 bytes UnionAll     \n",
       "Toeplitz          40 bytes UnionAll     \n",
       "Vandermonde       40 bytes UnionAll     \n",
       "embed              0 bytes typeof(embed)"
      ]
     },
     "execution_count": 36,
     "metadata": {},
     "output_type": "execute_result"
    }
   ],
   "source": [
    "varinfo(SpecialMatrices)"
   ]
  },
  {
   "cell_type": "code",
   "execution_count": 37,
   "metadata": {},
   "outputs": [
    {
     "data": {
      "text/plain": [
       "6-element Array{Int64,1}:\n",
       " -5\n",
       "  5\n",
       "  9\n",
       "  8\n",
       "  0\n",
       " -1"
      ]
     },
     "execution_count": 37,
     "metadata": {},
     "output_type": "execute_result"
    }
   ],
   "source": [
    "import Random\n",
    "Random.seed!(123)\n",
    "n=6\n",
    "a=rand(-9:9,n)"
   ]
  },
  {
   "cell_type": "code",
   "execution_count": 38,
   "metadata": {},
   "outputs": [
    {
     "data": {
      "text/plain": [
       "6×6 Circulant{Int64}:\n",
       " -5  -1   0   8   9   5\n",
       "  5  -5  -1   0   8   9\n",
       "  9   5  -5  -1   0   8\n",
       "  8   9   5  -5  -1   0\n",
       "  0   8   9   5  -5  -1\n",
       " -1   0   8   9   5  -5"
      ]
     },
     "execution_count": 38,
     "metadata": {},
     "output_type": "execute_result"
    }
   ],
   "source": [
    "C=Circulant(a)"
   ]
  },
  {
   "cell_type": "code",
   "execution_count": 39,
   "metadata": {},
   "outputs": [
    {
     "data": {
      "text/plain": [
       "6×6 Array{Int64,2}:\n",
       " 0  0  0  0  0  0\n",
       " 0  0  0  0  0  0\n",
       " 0  0  0  0  0  0\n",
       " 0  0  0  0  0  0\n",
       " 0  0  0  0  0  0\n",
       " 0  0  0  0  0  0"
      ]
     },
     "execution_count": 39,
     "metadata": {},
     "output_type": "execute_result"
    }
   ],
   "source": [
    "# Check for normality\n",
    "C*C'-C'*C"
   ]
  },
  {
   "cell_type": "code",
   "execution_count": 40,
   "metadata": {},
   "outputs": [
    {
     "data": {
      "text/plain": [
       "6×6 Array{Int64,2}:\n",
       " 0  0  0  0  0  0\n",
       " 0  0  0  0  0  0\n",
       " 0  0  0  0  0  0\n",
       " 0  0  0  0  0  0\n",
       " 0  0  0  0  0  0\n",
       " 0  0  0  0  0  0"
      ]
     },
     "execution_count": 40,
     "metadata": {},
     "output_type": "execute_result"
    }
   ],
   "source": [
    "Cm=Matrix(C)\n",
    "Cm*Cm'-Cm'*Cm"
   ]
  },
  {
   "cell_type": "code",
   "execution_count": 41,
   "metadata": {},
   "outputs": [
    {
     "data": {
      "text/html": [
       "&#45;5 &#43; 5&#8729;x &#43; 9&#8729;x^2 &#43; 8&#8729;x^3 &#45; x^5"
      ],
      "text/latex": [
       "$-5 + 5\\cdot x + 9\\cdot x^{2} + 8\\cdot x^{3} - x^{5}$"
      ],
      "text/plain": [
       "Poly(-5 + 5*x + 9*x^2 + 8*x^3 - x^5)"
      ]
     },
     "execution_count": 41,
     "metadata": {},
     "output_type": "execute_result"
    }
   ],
   "source": [
    "p1=Polynomials.Poly(a)"
   ]
  },
  {
   "cell_type": "code",
   "execution_count": 42,
   "metadata": {},
   "outputs": [
    {
     "data": {
      "text/plain": [
       "0.5000000000000001 + 0.8660254037844386im"
      ]
     },
     "execution_count": 42,
     "metadata": {},
     "output_type": "execute_result"
    }
   ],
   "source": [
    "ω=exp(2*π*im/n)"
   ]
  },
  {
   "cell_type": "code",
   "execution_count": 43,
   "metadata": {},
   "outputs": [
    {
     "data": {
      "text/plain": [
       "6×6 Vandermonde{Complex{Float64}}:\n",
       " 1.0+0.0im   1.0+0.0im           1.0+0.0im          …   1.0+0.0im        \n",
       " 1.0+0.0im   0.5+0.866025im     -0.5+0.866025im         0.5-0.866025im   \n",
       " 1.0+0.0im  -0.5+0.866025im     -0.5-0.866025im        -0.5-0.866025im   \n",
       " 1.0+0.0im  -1.0+3.88578e-16im   1.0-7.77156e-16im     -1.0+1.94289e-15im\n",
       " 1.0+0.0im  -0.5-0.866025im     -0.5+0.866025im        -0.5+0.866025im   \n",
       " 1.0+0.0im   0.5-0.866025im     -0.5-0.866025im     …   0.5+0.866025im   "
      ]
     },
     "execution_count": 43,
     "metadata": {},
     "output_type": "execute_result"
    }
   ],
   "source": [
    "v=map(Complex,[ω^k for k=0:n-1])\n",
    "F=Vandermonde(v)"
   ]
  },
  {
   "cell_type": "code",
   "execution_count": 44,
   "metadata": {},
   "outputs": [
    {
     "data": {
      "text/plain": [
       "6×6 Array{Complex{Float64},2}:\n",
       "         16.0+0.0im          …  9.02235e-15-7.69132e-15im\n",
       " -6.66448e-16+1.02054e-15im     4.44089e-15+8.88178e-15im\n",
       " -1.72202e-15+1.96487e-15im     1.06408e-15-7.24764e-16im\n",
       " -1.83133e-16+3.10862e-15im     3.07594e-15-1.87501e-15im\n",
       "  1.90509e-15+4.97047e-15im     1.70985e-15-1.34822e-14im\n",
       "  9.13829e-15+7.69826e-15im  …        -15.5-12.9904im    "
      ]
     },
     "execution_count": 44,
     "metadata": {},
     "output_type": "execute_result"
    }
   ],
   "source": [
    "Fn=Matrix(F)/sqrt(n)\n",
    "Λ=Fn*Matrix(C)*Fn'"
   ]
  },
  {
   "cell_type": "code",
   "execution_count": 45,
   "metadata": {},
   "outputs": [
    {
     "data": {
      "text/plain": [
       "6×3 Array{Complex{Float64},2}:\n",
       "  16.0+0.0im       16.0+0.0im           16.0+0.0im    \n",
       " -15.5+12.9904im  -15.5+12.9904im      -15.5+12.9904im\n",
       "  -3.5-2.59808im   -3.5-2.59808im      -15.5-12.9904im\n",
       "  -8.0+0.0im       -8.0+2.33147e-15im   -3.5+2.59808im\n",
       "  -3.5+2.59808im   -3.5+2.59808im       -3.5-2.59808im\n",
       " -15.5-12.9904im  -15.5-12.9904im       -8.0+0.0im    "
      ]
     },
     "execution_count": 45,
     "metadata": {},
     "output_type": "execute_result"
    }
   ],
   "source": [
    "[diag(Λ) p1(v) eigvals(Matrix(C))]"
   ]
  },
  {
   "cell_type": "markdown",
   "metadata": {},
   "source": [
    "\n",
    "## Hermitian and real symmetric matrices\n",
    "\n",
    "For more details and the proofs of the Facts below, see \n",
    "[W. Barrett, Hermitian and Positive Definite Matrices][Bar14] and the references therein.\n",
    "\n",
    "[Bar14]: #1 \"L. Hogben, ed., 'Handbook of Linear Algebra', pp. 9.1-9.13, CRC Press, Boca Raton, 2014.\"\n",
    "\n",
    "### Definitions\n",
    "\n",
    "Matrix $A\\in \\mathbb{C}^{n\\times n}$ is __Hermitian__ or __self-adjoint__ if $A^*=A$, \n",
    "or element-wise, $\\bar a_{ij}=a_{ji}$. We say $A\\in\\mathcal{H}_n$.\n",
    "\n",
    "Matrix $A\\in \\mathbb{R}^{n\\times n}$ is __symmetric__ if $A^T=A$, or element-wise, $a_{ij}=a_{ji}$.\n",
    "We say $A\\in\\mathcal{S}_n$.\n",
    "\n",
    "__Rayleigh qoutient__ of $A\\in\\mathcal{H}_n$ and nonzero vector $x\\in\\mathbb{C}^n$ is\n",
    "\n",
    "$$\n",
    "R_A(x)=\\frac{x^*Ax}{x^*x}.\n",
    "$$\n",
    "\n",
    "Matrices $A,B \\in\\mathcal{H}_n$ are __congruent__ if there exists nonsingular matrix $C$ such that \n",
    "$B=C^*AC$.\n",
    "\n",
    "__Inertia__ of $A\\in\\mathcal{H}_n$ is the ordered triple \n",
    "$$\\mathop{\\mathrm{in}}(A)=(\\pi(A),\\nu(A),\\zeta(A)),$$\n",
    "\n",
    "where $\\pi(A)$ is the number of positive eigenvalues of $A$,  $\\nu(A)$ is the number of negative eigenvalues of $A$,\n",
    "and $\\zeta(A)$ is the number of zero eigenvalues of $A$.\n",
    "\n",
    "__Gram matrix__ of a set of vectors $x_1,x_2,\\ldots,x_k\\in\\mathbb{C}^{n}$ is the matrix $G$ with entries $G_{ij}=x_i^*x_j$. "
   ]
  },
  {
   "cell_type": "markdown",
   "metadata": {},
   "source": [
    "### Facts\n",
    "\n",
    "Assume $A$ is Hermitian and $x\\in\\mathbb{C}^n$ is nonzero. Then\n",
    "\n",
    "1. Real symmetric matrix is Hermitian, and real Hermitian matrix is symmetric.\n",
    "2. Hermitian and real symmetric matrices are normal.\n",
    "2. $A+A^*$, $A^*A$, and $AA^*$ are Hermitian.\n",
    "3. If $A$ is nonsingular, $A^{-1}$ is Hermitian.\n",
    "4. Main diagonal entries of $A$ are real.\n",
    "5. Matrix $T$ from the Schur decomposition of $A$ is Hermitian. Consequently:\n",
    "    * $T$ is diagonal and real, and has eigenvalues of $A$ on diagonal,\n",
    "    * matrix $Q$ of the Schur decomposition is the unitary matrix of eigenvectors,\n",
    "    * all eigenvalues of $A$ are semisimple and $A$ is nondefective,\n",
    "    * eigenvectors corresponding to distinct eigenvalues are orthogonal.\n",
    "6. __Spectral Theorem.__ To summarize:\n",
    "    * if $A\\in\\mathcal{H}_n$, there is a unitary matrix $U$ and real diagonal matrix $\\Lambda$ such that \n",
    "    $A=U\\Lambda U^*$. The diagonal entries of $\\Lambda$ are the eigenvalues of $A$, and the \n",
    "    columns of $U$ are the corresponding eigenvectors.\n",
    "    * if $A\\in\\mathcal{S}_n$, the same holds with orthogonal matrix $U$, $A=U\\Lambda U^T$.\n",
    "    * if $A\\in\\mathcal{H}_n$ with eigenpairs $(\\lambda_i,u_i)$, then\n",
    "    $$ A=\\lambda_1u_1u_1^*+\\lambda_2 u_2u_2^* +\\cdots +\\lambda_n u_nu_n^*.$$\n",
    "    * similarly, if  $A\\in\\mathcal{S}_n$, then\n",
    "    $$ A=\\lambda_1u_1u_1^T+\\lambda_2 u_2u_2^T +\\cdots +\\lambda_n u_nu_n^T.$$\n",
    "\n",
    "7. Since all eigenvalues of $A$ are real, they can be ordered:\n",
    "$$\\lambda_1\\geq \\lambda_2\\geq \\cdots \\geq \\lambda_n.$$\n",
    "8. __Rayleigh-Ritz Theorem.__ It holds:\n",
    "\\begin{align*}\n",
    "\\lambda_n &\\leq \\frac{x^*Ax}{x^*x} \\leq \\lambda_1, \\\\\n",
    "\\lambda_1&=\\max_x\\frac{x^*Ax}{x^*x} =\\max_{\\|x\\|_2=1} x^*Ax, \\\\\n",
    "\\lambda_n&=\\min_x\\frac{x^*Ax}{x^*x} =\\min_{\\|x\\|_2=1} x^*Ax.\n",
    "\\end{align*}\n",
    "\n",
    "8. __Courant-Fischer Theorem.__ It holds:\n",
    "\\begin{align*}\n",
    "\\lambda_k& =\\max_{\\dim(W)=k}\\min_{x\\in W} \\frac{x^*Ax}{x^*x}\\\\\n",
    "& =\\min_{\\dim(W)=n-k+1}\\max_{x\\in W} \\frac{x^*Ax}{x^*x}.\n",
    "\\end{align*} \n",
    "\n",
    "10. __Cauchy Interlace Theorem.__ Let $B$ be the principal submatrix of $A$ obtained by deleting the $i$-th row and the $i$-th column of $A$. Let $\\mu_1\\geq \\mu_2\\geq \\cdots \\geq \\mu_{n-1}$ be the eignvalues of $B$. Then\n",
    "$$\n",
    "\\lambda_1\\geq \\mu_1\\geq \\lambda_2\\geq \\mu_2\\geq \\lambda_3\\geq\\cdots\\geq \\lambda_{n-1}\\geq\\mu_{n-1}\\geq\\lambda_n.\n",
    "$$\n",
    "\n",
    "9. __Weyl Inequalities.__ For $A,B\\in\\mathcal{H}_n$, it holds:\n",
    "\\begin{align*}\n",
    "   \\lambda_{j+k-1}(A+B)& \\leq \\lambda_j(A)+\\lambda_k(B), & \\textrm{for} \\ j+k\\leq n+1,\\\\\n",
    "   \\lambda_{j+k-n}(A+B)& \\geq \\lambda_j(A)+\\lambda_k(B), & \\textrm{for} \\ j+k\\geq n+1,\n",
    "\\end{align*}\n",
    "and, in particular, \n",
    "$$\n",
    "\\lambda_j(A)+\\lambda_n(B) \\leq \\lambda_j(A+B) \\leq \\lambda_j(A)+\\lambda_1(B),\\quad \\textrm{for} \\ j=1,2,\\ldots,n.\n",
    "$$\n",
    "\n",
    "11. $\\pi(A)+\\mu(A)+\\zeta(A)=n$.\n",
    "\n",
    "12. $\\mathop{\\mathrm{rank}}(A)=\\pi(A)+\\mu(A)$.\n",
    "\n",
    "13. If $A$ is nonsingular, $\\mathop{\\mathrm{in}}(A)=\\mathop{\\mathrm{in}}(A^{-1})$.\n",
    "\n",
    "13. If $A,B \\in\\mathcal{H}_n$ are similar,  $\\mathop{\\mathrm{in}}(A)=\\mathop{\\mathrm{in}}(B)$.\n",
    "\n",
    "14. __Sylvester's Law of Inertia.__ $A,B \\in\\mathcal{H}_n$ are congruent if and only if $\\mathop{\\mathrm{in}}(A)=\\mathop{\\mathrm{in}}(B)$.\n",
    "\n",
    "15. __Subadditivity of Inertia.__ For $A,B \\in\\mathcal{H}_n$, \n",
    "$$\n",
    "\\pi(A+B)\\leq \\pi(A)+\\pi(B), \\qquad \\nu(A+B)\\leq \\nu(A)+\\nu(B).\n",
    "$$\n",
    "\n",
    "16. Gram matrix is Hermitian."
   ]
  },
  {
   "cell_type": "markdown",
   "metadata": {},
   "source": [
    "### Example - Hermitian matrix"
   ]
  },
  {
   "cell_type": "code",
   "execution_count": 46,
   "metadata": {},
   "outputs": [
    {
     "data": {
      "text/plain": [
       "4×4 Array{Complex{Float64},2}:\n",
       " 0.104266+0.0im       0.741656+0.593435im  …  0.419647-0.582424im\n",
       " 0.741656-0.593435im   1.73082+0.0im          0.991558+0.420682im\n",
       " 0.572718+0.127964im  0.893311+0.584561im     0.874296+0.411046im\n",
       " 0.419647+0.582424im  0.991558-0.420682im     0.562132+0.0im     "
      ]
     },
     "execution_count": 46,
     "metadata": {},
     "output_type": "execute_result"
    }
   ],
   "source": [
    "# Generating Hermitian matrix\n",
    "n=4\n",
    "A=rand(n,n)+im*rand(n,n)\n",
    "A=A+A'"
   ]
  },
  {
   "cell_type": "code",
   "execution_count": 47,
   "metadata": {},
   "outputs": [
    {
     "data": {
      "text/plain": [
       "true"
      ]
     },
     "execution_count": 47,
     "metadata": {},
     "output_type": "execute_result"
    }
   ],
   "source": [
    "ishermitian(A)"
   ]
  },
  {
   "cell_type": "code",
   "execution_count": 48,
   "metadata": {},
   "outputs": [
    {
     "data": {
      "text/plain": [
       "4-element Array{Complex{Float64},1}:\n",
       " 0.10426632633731314 + 0.0im\n",
       "   1.730824286816691 + 0.0im\n",
       "  0.8931361306653263 + 0.0im\n",
       "   0.562131790202915 + 0.0im"
      ]
     },
     "execution_count": 48,
     "metadata": {},
     "output_type": "execute_result"
    }
   ],
   "source": [
    "# Diagonal entries\n",
    "diag(A)"
   ]
  },
  {
   "cell_type": "code",
   "execution_count": 49,
   "metadata": {},
   "outputs": [
    {
     "data": {
      "text/plain": [
       "Schur{Complex{Float64},Array{Complex{Float64},2}}\n",
       "T factor:\n",
       "4×4 Array{Complex{Float64},2}:\n",
       " 3.49821+2.65864e-16im  …   1.51257e-16+8.1665e-16im \n",
       "     0.0+0.0im             -1.58237e-16-4.14455e-16im\n",
       "     0.0+0.0im              8.37804e-17+9.11091e-17im\n",
       "     0.0+0.0im               -0.0169431-1.02733e-16im\n",
       "Z factor:\n",
       "4×4 Array{Complex{Float64},2}:\n",
       " -0.292123-8.24329e-17im  -0.662469+4.49568e-16im  …   0.401409+1.32527e-10im\n",
       " -0.671128+0.164382im      0.244787-0.296038im         0.243399+0.251821im   \n",
       " -0.487725-0.131844im     0.0726236-0.186454im        -0.296453-0.745111im   \n",
       "  -0.40854+0.122746im      0.106734+0.601784im        0.0858803+0.256443im   \n",
       "eigenvalues:\n",
       "4-element Array{Complex{Float64},1}:\n",
       "     3.498213636571105 + 2.6586417963921775e-16im\n",
       "   -1.0584199433748387 + 6.647259711930159e-17im \n",
       "    0.8675079512270665 - 1.1028327328217264e-17im\n",
       " -0.016943110401087327 - 1.0273329145722432e-16im"
      ]
     },
     "execution_count": 49,
     "metadata": {},
     "output_type": "execute_result"
    }
   ],
   "source": [
    "# Schur decomposition\n",
    "F=schur(A)"
   ]
  },
  {
   "cell_type": "code",
   "execution_count": 50,
   "metadata": {},
   "outputs": [
    {
     "data": {
      "text/plain": [
       "Eigen{Complex{Float64},Float64,Array{Complex{Float64},2},Array{Float64,1}}\n",
       "eigenvalues:\n",
       "4-element Array{Float64,1}:\n",
       " -1.0584199433748378  \n",
       " -0.016943110401087313\n",
       "  0.8675079512270654  \n",
       "  3.4982136365710983  \n",
       "eigenvectors:\n",
       "4×4 Array{Complex{Float64},2}:\n",
       " -0.115691+0.652289im   -0.12747+0.380632im   …  -0.279768-0.0840564im\n",
       "  -0.24874-0.292724im   -0.31608+0.150833im      -0.690044-0.0356828im\n",
       " -0.170906-0.104069im   0.800684-0.0444935im      -0.42916-0.266608im \n",
       "  0.611176+0.0im       -0.270441-0.0im           -0.426582-0.0im      "
      ]
     },
     "execution_count": 50,
     "metadata": {},
     "output_type": "execute_result"
    }
   ],
   "source": [
    "λ,U=eigen(A)"
   ]
  },
  {
   "cell_type": "code",
   "execution_count": 51,
   "metadata": {},
   "outputs": [
    {
     "data": {
      "text/plain": [
       "4-element Array{Float64,1}:\n",
       " -1.0584199433748378  \n",
       " -0.016943110401087313\n",
       "  0.8675079512270654  \n",
       "  3.4982136365710983  "
      ]
     },
     "execution_count": 51,
     "metadata": {},
     "output_type": "execute_result"
    }
   ],
   "source": [
    "λ"
   ]
  },
  {
   "cell_type": "code",
   "execution_count": 52,
   "metadata": {},
   "outputs": [
    {
     "data": {
      "text/plain": [
       "7.072676736890567e-15"
      ]
     },
     "execution_count": 52,
     "metadata": {},
     "output_type": "execute_result"
    }
   ],
   "source": [
    "# Spectral theorem\n",
    "norm(A-U*diagm(0=>λ)*U')"
   ]
  },
  {
   "cell_type": "code",
   "execution_count": 53,
   "metadata": {},
   "outputs": [
    {
     "data": {
      "text/plain": [
       "4×4 Array{Complex{Float64},2}:\n",
       " 6.66134e-16+1.38778e-17im  …  1.66533e-16+0.0im        \n",
       " 1.44329e-15-1.88738e-15im     3.33067e-16+0.0im        \n",
       " 1.44329e-15-8.32667e-16im     5.55112e-16+1.66533e-16im\n",
       " 1.66533e-16+0.0im             6.66134e-16+0.0im        "
      ]
     },
     "execution_count": 53,
     "metadata": {},
     "output_type": "execute_result"
    }
   ],
   "source": [
    "# Spectral theorem\n",
    "A-sum([λ[i]*U[:,i]*U[:,i]' for i=1:n])"
   ]
  },
  {
   "cell_type": "code",
   "execution_count": 54,
   "metadata": {},
   "outputs": [
    {
     "name": "stdout",
     "output_type": "stream",
     "text": [
      "i = rand(1:n) = 1\n"
     ]
    },
    {
     "data": {
      "text/plain": [
       "3-element Array{Float64,1}:\n",
       " -0.4105543568136909 \n",
       "  0.39486189548088324\n",
       "  3.2017846690177403 "
      ]
     },
     "execution_count": 54,
     "metadata": {},
     "output_type": "execute_result"
    }
   ],
   "source": [
    "# Cauchy Interlace Theorem (repeat several times)\n",
    "@show i=rand(1:n)\n",
    "μ=eigvals(A[[1:i-1;i+1:n],[1:i-1;i+1:n]])"
   ]
  },
  {
   "cell_type": "code",
   "execution_count": 55,
   "metadata": {},
   "outputs": [
    {
     "data": {
      "text/plain": [
       "inertia (generic function with 1 method)"
      ]
     },
     "execution_count": 55,
     "metadata": {},
     "output_type": "execute_result"
    }
   ],
   "source": [
    "# Inertia\n",
    "inertia(A)=[sum(eigvals(A).>0), sum(eigvals(A).<0), sum(eigvals(A).==0)]"
   ]
  },
  {
   "cell_type": "code",
   "execution_count": 56,
   "metadata": {},
   "outputs": [
    {
     "data": {
      "text/plain": [
       "3-element Array{Int64,1}:\n",
       " 2\n",
       " 2\n",
       " 0"
      ]
     },
     "execution_count": 56,
     "metadata": {},
     "output_type": "execute_result"
    }
   ],
   "source": [
    "inertia(A)"
   ]
  },
  {
   "cell_type": "code",
   "execution_count": 57,
   "metadata": {},
   "outputs": [
    {
     "data": {
      "text/plain": [
       "4-element Array{Complex{Float64},1}:\n",
       "    3.4982136365711014 + 2.436527542226674e-15im \n",
       "   -1.0584199433748376 - 1.1399975071583755e-16im\n",
       "    0.8675079512270666 + 1.1823672958482756e-16im\n",
       " -0.016943110401086207 - 8.397948507032903e-16im "
      ]
     },
     "execution_count": 57,
     "metadata": {},
     "output_type": "execute_result"
    }
   ],
   "source": [
    "# Similar matrices\n",
    "C=rand(n,n)+im*rand(n,n)\n",
    "B=C*A*inv(C)\n",
    "eigvals(B)"
   ]
  },
  {
   "cell_type": "markdown",
   "metadata": {},
   "source": [
    "This did not work numerically due to rounding errors!"
   ]
  },
  {
   "cell_type": "code",
   "execution_count": 58,
   "metadata": {},
   "outputs": [
    {
     "ename": "MethodError",
     "evalue": "MethodError: no method matching isless(::Int64, ::Complex{Float64})\nClosest candidates are:\n  isless(!Matched::Missing, ::Any) at missing.jl:66\n  isless(!Matched::PyCall.PyObject, ::Any) at C:\\Users\\Ivan_Slapnicar\\.julia\\packages\\PyCall\\a5Jd3\\src\\pyoperators.jl:75\n  isless(!Matched::Sym, ::Number) at C:\\Users\\Ivan_Slapnicar\\.julia\\packages\\SymPy\\4aR3F\\src\\logical.jl:106\n  ...",
     "output_type": "error",
     "traceback": [
      "MethodError: no method matching isless(::Int64, ::Complex{Float64})\nClosest candidates are:\n  isless(!Matched::Missing, ::Any) at missing.jl:66\n  isless(!Matched::PyCall.PyObject, ::Any) at C:\\Users\\Ivan_Slapnicar\\.julia\\packages\\PyCall\\a5Jd3\\src\\pyoperators.jl:75\n  isless(!Matched::Sym, ::Number) at C:\\Users\\Ivan_Slapnicar\\.julia\\packages\\SymPy\\4aR3F\\src\\logical.jl:106\n  ...",
      "",
      "Stacktrace:",
      " [1] <(::Int64, ::Complex{Float64}) at .\\operators.jl:260",
      " [2] >(::Complex{Float64}, ::Int64) at .\\operators.jl:286",
      " [3] _broadcast_getindex_evalf at .\\broadcast.jl:582 [inlined]",
      " [4] _broadcast_getindex at .\\broadcast.jl:555 [inlined]",
      " [5] getindex at .\\broadcast.jl:515 [inlined]",
      " [6] copy at .\\broadcast.jl:790 [inlined]",
      " [7] materialize at .\\broadcast.jl:756 [inlined]",
      " [8] inertia(::Array{Complex{Float64},2}) at .\\In[55]:2",
      " [9] top-level scope at In[58]:3"
     ]
    }
   ],
   "source": [
    "# Congruent matrices - this does not work either, without some preparation\n",
    "B=C'*A*C\n",
    "inertia(A)==inertia(B)"
   ]
  },
  {
   "cell_type": "code",
   "execution_count": 59,
   "metadata": {},
   "outputs": [
    {
     "data": {
      "text/plain": [
       "3-element Array{Int64,1}:\n",
       " 2\n",
       " 2\n",
       " 0"
      ]
     },
     "execution_count": 59,
     "metadata": {},
     "output_type": "execute_result"
    }
   ],
   "source": [
    "# We need to symmetrize B\n",
    "inertia((B+B')/2)"
   ]
  },
  {
   "cell_type": "code",
   "execution_count": 60,
   "metadata": {},
   "outputs": [
    {
     "name": "stdout",
     "output_type": "stream",
     "text": [
      "λ = [-1.05842, -0.0169431, 0.867508, 3.49821]\n"
     ]
    },
    {
     "data": {
      "text/plain": [
       "([-0.0652063, 0.0156768, 0.115116, 0.575003], [-1.05916, 0.0820787, 0.905589, 4.00244])"
      ]
     },
     "execution_count": 60,
     "metadata": {},
     "output_type": "execute_result"
    }
   ],
   "source": [
    "# Weyl's Inequalities\n",
    "B=rand(n,n)+im*rand(n,n)\n",
    "B=(B+B')/10\n",
    "@show λ\n",
    "μ=eigvals(B)\n",
    "γ=eigvals(A+B)\n",
    "μ,γ"
   ]
  },
  {
   "cell_type": "code",
   "execution_count": 61,
   "metadata": {},
   "outputs": [
    {
     "name": "stdout",
     "output_type": "stream",
     "text": [
      "(j, k) = (4, 3)\n"
     ]
    },
    {
     "data": {
      "text/plain": [
       "(0.08207868564832364, -1.042743127994086)"
      ]
     },
     "execution_count": 61,
     "metadata": {},
     "output_type": "execute_result"
    }
   ],
   "source": [
    "# Theorem uses different order!\n",
    "j=rand(1:n)\n",
    "k=rand(1:n)\n",
    "@show j,k\n",
    "if j+k<=n+1\n",
    "    @show sort(γ,rev=true)[j+k-1], sort(λ,rev=true)[j]+sort(μ,rev=true)[k]\n",
    "end\n",
    "if j+k>=n+1\n",
    "    sort(γ,rev=true)[j+k-n], sort(λ,rev=true)[j]+sort(μ,rev=true)[k]\n",
    "end"
   ]
  },
  {
   "cell_type": "code",
   "execution_count": 62,
   "metadata": {},
   "outputs": [
    {
     "data": {
      "text/plain": [
       "4-element Array{Float64,1}:\n",
       "  3.4982136365710983  \n",
       "  0.8675079512270654  \n",
       " -0.016943110401087313\n",
       " -1.0584199433748378  "
      ]
     },
     "execution_count": 62,
     "metadata": {},
     "output_type": "execute_result"
    }
   ],
   "source": [
    "sort(λ,rev=true)"
   ]
  },
  {
   "cell_type": "markdown",
   "metadata": {},
   "source": [
    "### Example - Real symmetric matrix"
   ]
  },
  {
   "cell_type": "code",
   "execution_count": 63,
   "metadata": {},
   "outputs": [
    {
     "data": {
      "text/plain": [
       "6×6 Array{Int64,2}:\n",
       " 18   15    3    5   13  -7\n",
       " 15   16   -6    3  -12  -3\n",
       "  3   -6   -8  -13   -2   1\n",
       "  5    3  -13   18    4  -6\n",
       " 13  -12   -2    4  -16  -4\n",
       " -7   -3    1   -6   -4  18"
      ]
     },
     "execution_count": 63,
     "metadata": {},
     "output_type": "execute_result"
    }
   ],
   "source": [
    "# Generating real symmetric matrix\n",
    "n=6\n",
    "A=rand(-9:9,n,n)\n",
    "A=A+A'"
   ]
  },
  {
   "cell_type": "code",
   "execution_count": 64,
   "metadata": {},
   "outputs": [
    {
     "data": {
      "text/plain": [
       "true"
      ]
     },
     "execution_count": 64,
     "metadata": {},
     "output_type": "execute_result"
    }
   ],
   "source": [
    "issymmetric(A)"
   ]
  },
  {
   "cell_type": "code",
   "execution_count": 65,
   "metadata": {},
   "outputs": [
    {
     "data": {
      "text/plain": [
       "Schur{Float64,Array{Float64,2}}\n",
       "T factor:\n",
       "6×6 Array{Float64,2}:\n",
       " -28.2014   0.0       6.10627e-15   1.94192e-15  -1.70781e-15   6.99959e-17\n",
       "   0.0     39.5995    1.60472e-14   6.1583e-15   -5.54272e-15   8.73587e-16\n",
       "   0.0      0.0     -13.5242        6.38843e-15   4.8806e-15    9.68267e-16\n",
       "   0.0      0.0       0.0          10.1159        2.72228e-15  -2.27259e-15\n",
       "   0.0      0.0       0.0           0.0          21.3437       -1.88684e-15\n",
       "   0.0      0.0       0.0           0.0           0.0          16.6665     \n",
       "Z factor:\n",
       "6×6 Array{Float64,2}:\n",
       "  0.364464   -0.611051   0.0266124    0.523911    0.342939  -0.317781\n",
       " -0.379423   -0.48175   -0.0225312   -0.346643    0.521675   0.480771\n",
       " -0.259611    0.15419   -0.86236      0.0495552   0.244746  -0.320633\n",
       " -0.0226141  -0.435281  -0.398126     0.209415   -0.667504   0.402614\n",
       " -0.808668   -0.105437   0.310785     0.346905   -0.162825  -0.302484\n",
       " -0.0367472   0.41252   -0.00522022   0.662346    0.279775   0.558098\n",
       "eigenvalues:\n",
       "6-element Array{Float64,1}:\n",
       " -28.20137203024399 \n",
       "  39.59951112680805 \n",
       " -13.52422486998742 \n",
       "  10.115898708820225\n",
       "  21.343694477889915\n",
       "  16.66649258671314 "
      ]
     },
     "execution_count": 65,
     "metadata": {},
     "output_type": "execute_result"
    }
   ],
   "source": [
    "T,Q=schur(A)"
   ]
  },
  {
   "cell_type": "code",
   "execution_count": 66,
   "metadata": {},
   "outputs": [
    {
     "data": {
      "text/plain": [
       "6×6 Array{Float64,2}:\n",
       " -28.2014   0.0       6.10627e-15   1.94192e-15  -1.70781e-15   6.99959e-17\n",
       "   0.0     39.5995    1.60472e-14   6.1583e-15   -5.54272e-15   8.73587e-16\n",
       "   0.0      0.0     -13.5242        6.38843e-15   4.8806e-15    9.68267e-16\n",
       "   0.0      0.0       0.0          10.1159        2.72228e-15  -2.27259e-15\n",
       "   0.0      0.0       0.0           0.0          21.3437       -1.88684e-15\n",
       "   0.0      0.0       0.0           0.0           0.0          16.6665     "
      ]
     },
     "execution_count": 66,
     "metadata": {},
     "output_type": "execute_result"
    }
   ],
   "source": [
    "T"
   ]
  },
  {
   "cell_type": "code",
   "execution_count": 67,
   "metadata": {},
   "outputs": [
    {
     "data": {
      "text/plain": [
       "6×6 Array{Float64,2}:\n",
       "  0.364464   -0.611051   0.0266124    0.523911    0.342939  -0.317781\n",
       " -0.379423   -0.48175   -0.0225312   -0.346643    0.521675   0.480771\n",
       " -0.259611    0.15419   -0.86236      0.0495552   0.244746  -0.320633\n",
       " -0.0226141  -0.435281  -0.398126     0.209415   -0.667504   0.402614\n",
       " -0.808668   -0.105437   0.310785     0.346905   -0.162825  -0.302484\n",
       " -0.0367472   0.41252   -0.00522022   0.662346    0.279775   0.558098"
      ]
     },
     "execution_count": 67,
     "metadata": {},
     "output_type": "execute_result"
    }
   ],
   "source": [
    "Q"
   ]
  },
  {
   "cell_type": "code",
   "execution_count": 68,
   "metadata": {},
   "outputs": [
    {
     "data": {
      "text/plain": [
       "6-element Array{Float64,1}:\n",
       " -28.201372030244006\n",
       " -13.52422486998743 \n",
       "  10.115898708820268\n",
       "  16.666492586713147\n",
       "  21.34369447788987 \n",
       "  39.59951112680819 "
      ]
     },
     "execution_count": 68,
     "metadata": {},
     "output_type": "execute_result"
    }
   ],
   "source": [
    "λ,U=eigen(A)\n",
    "λ"
   ]
  },
  {
   "cell_type": "code",
   "execution_count": 69,
   "metadata": {},
   "outputs": [
    {
     "data": {
      "text/plain": [
       "6×6 Array{Float64,2}:\n",
       " -0.364464    0.0266124    0.523911    0.317781   0.342939  -0.611051\n",
       "  0.379423   -0.0225312   -0.346643   -0.480771   0.521675  -0.48175 \n",
       "  0.259611   -0.86236      0.0495552   0.320633   0.244746   0.15419 \n",
       "  0.0226141  -0.398126     0.209415   -0.402614  -0.667504  -0.435281\n",
       "  0.808668    0.310785     0.346905    0.302484  -0.162825  -0.105437\n",
       "  0.0367472  -0.00522022   0.662346   -0.558098   0.279775   0.41252 "
      ]
     },
     "execution_count": 69,
     "metadata": {},
     "output_type": "execute_result"
    }
   ],
   "source": [
    "U"
   ]
  },
  {
   "cell_type": "code",
   "execution_count": 70,
   "metadata": {},
   "outputs": [
    {
     "data": {
      "text/plain": [
       "6×6 Array{Float64,2}:\n",
       " -7.10543e-15   1.77636e-15   2.17604e-14  …  -1.06581e-14   1.15463e-14\n",
       "  5.32907e-15   3.01981e-14   0.0             -2.66454e-14   1.15463e-14\n",
       "  2.22045e-14   0.0           1.95399e-14      6.21725e-15  -2.44249e-15\n",
       " -3.4639e-14   -1.77636e-14  -1.24345e-14      0.0           7.99361e-15\n",
       " -1.06581e-14  -2.66454e-14   5.32907e-15      2.4869e-14    6.21725e-15\n",
       "  1.15463e-14   1.24345e-14  -1.9984e-15   …   5.32907e-15  -1.27898e-13"
      ]
     },
     "execution_count": 70,
     "metadata": {},
     "output_type": "execute_result"
    }
   ],
   "source": [
    "A-sum([λ[i]*U[:,i]*U[:,i]' for i=1:n])"
   ]
  },
  {
   "cell_type": "code",
   "execution_count": 71,
   "metadata": {},
   "outputs": [
    {
     "data": {
      "text/plain": [
       "3-element Array{Int64,1}:\n",
       " 4\n",
       " 2\n",
       " 0"
      ]
     },
     "execution_count": 71,
     "metadata": {},
     "output_type": "execute_result"
    }
   ],
   "source": [
    "inertia(A)"
   ]
  },
  {
   "cell_type": "code",
   "execution_count": 72,
   "metadata": {},
   "outputs": [
    {
     "data": {
      "text/plain": [
       "3-element Array{Int64,1}:\n",
       " 4\n",
       " 2\n",
       " 0"
      ]
     },
     "execution_count": 72,
     "metadata": {},
     "output_type": "execute_result"
    }
   ],
   "source": [
    "C=rand(n,n)\n",
    "inertia(C'*A*C)"
   ]
  },
  {
   "cell_type": "markdown",
   "metadata": {},
   "source": [
    "## Positive definite matrices\n",
    "\n",
    "These matrices are an important subset of Hermitian or real symmteric matrices.\n",
    "\n",
    "### Definitions\n",
    "\n",
    "Matrix $A\\in\\mathcal{H}_n$ is __positive definite__ (PD) if $x^*Ax>0$ for all nonzero $x\\in\\mathbb{C}^n$.\n",
    "\n",
    "Matrix $A\\in\\mathcal{H}_n$ is __positive semidefinite__ (PSD) if $x^*Ax\\geq 0$ for all nonzero $x\\in\\mathbb{C}^n$.\n",
    "\n",
    "### Facts\n",
    "\n",
    "1. $A\\in\\mathcal{S}_n$ is PD if $x^TAx>0$ for all nonzero $x\\in \\mathbb{R}^n$, and is PSD if $x^TAx\\geq 0$ for all $x\\in \\mathbb{R}^n$.\n",
    " \n",
    "2. If $A,B\\in \\mathrm{PSD}_n$, then $A+B\\in \\mathrm{PSD}_n$. If, in addition, $A\\in \\mathrm{PD}_n$, then $A+B\\in \\mathrm{PD}_n$.\n",
    "\n",
    "3. If $A\\in \\mathrm{PD}_n$, then $\\mathop{\\mathrm{tr}}(A)>0$ and $\\det(A)>0$. \n",
    "\n",
    "3. If $A\\in \\mathrm{PSD}_n$, then $\\mathop{\\mathrm{tr}}(A)\\geq 0$ and $\\det(A)\\geq 0$.\n",
    "\n",
    "4. Any principal submatrix of a PD matrix is PD. Any principal submatrix of a PSD matrix is PSD. Consequently, all minors are positive or nonnegative, respectively.\n",
    "\n",
    "5. $A\\in\\mathcal{H}_n$ is PD iff _every leading_ principal minor of $A$ is positive. $A\\in\\mathcal{H}_n$ is PSD iff\n",
    "_every_ principal minor is nonnegative.\n",
    "\n",
    "6. For $A\\in \\mathrm{PSD}_n$, there exists unique PSD $k$-th __root__, $A^{1/k}=U\\Lambda^{1/k} U^*$.\n",
    "\n",
    "7. __Cholesky Factorization.__ $A\\in\\mathcal{H}_n$ if PD iff there is an invertible lower triangular matrix $L$ with positive diagonal entries such that $A=LL^*$.\n",
    "\n",
    "8. Gram matrix is PSD. If the vectors are linearly independent, Gram matrix is PD."
   ]
  },
  {
   "cell_type": "markdown",
   "metadata": {},
   "source": [
    "### Example - Positive definite matrix"
   ]
  },
  {
   "cell_type": "code",
   "execution_count": 73,
   "metadata": {},
   "outputs": [
    {
     "data": {
      "text/plain": [
       "5×5 Array{Complex{Float64},2}:\n",
       " 3.56413+0.0im        1.86501+0.050305im  …   2.71578-0.391029im\n",
       " 1.86501-0.050305im   1.77571+0.0im            2.3368-0.350274im\n",
       " 0.94101+0.837856im  0.761651+0.253978im     0.963178+0.435299im\n",
       " 2.41402+0.121129im   2.11266-0.042927im      2.67522-0.347406im\n",
       " 2.71578+0.391029im    2.3368+0.350274im      3.79542+0.0im     "
      ]
     },
     "execution_count": 73,
     "metadata": {},
     "output_type": "execute_result"
    }
   ],
   "source": [
    "# Generating positive definite matrix as a Gram matrix\n",
    "n=5\n",
    "A=rand(n,n)+im*rand(n,n)\n",
    "A=A*A'"
   ]
  },
  {
   "cell_type": "code",
   "execution_count": 74,
   "metadata": {},
   "outputs": [
    {
     "data": {
      "text/plain": [
       "true"
      ]
     },
     "execution_count": 74,
     "metadata": {},
     "output_type": "execute_result"
    }
   ],
   "source": [
    "ishermitian(A)"
   ]
  },
  {
   "cell_type": "code",
   "execution_count": 75,
   "metadata": {},
   "outputs": [
    {
     "data": {
      "text/plain": [
       "5-element Array{Float64,1}:\n",
       "  0.005674652388640963\n",
       "  0.14139406400771196 \n",
       "  0.6589376045261045  \n",
       "  1.223257302157311   \n",
       " 10.69366654403846    "
      ]
     },
     "execution_count": 75,
     "metadata": {},
     "output_type": "execute_result"
    }
   ],
   "source": [
    "eigvals(A)"
   ]
  },
  {
   "cell_type": "code",
   "execution_count": 76,
   "metadata": {},
   "outputs": [
    {
     "data": {
      "text/plain": [
       "5-element Array{Complex{Float64},1}:\n",
       "   3.5641276631844185 + 0.0im                   \n",
       "   2.8480711421263254 - 1.2365551857408739e-17im\n",
       "   0.8763183400825799 - 4.332966334869311e-17im \n",
       "  0.03859357982121804 + 1.6940658945086007e-17im\n",
       " 0.006916066934029409 + 1.360673726469308e-17im "
      ]
     },
     "execution_count": 76,
     "metadata": {},
     "output_type": "execute_result"
    }
   ],
   "source": [
    "# Positivity of principal leading minors\n",
    "[det(A[1:i,1:i]) for i=1:n]"
   ]
  },
  {
   "cell_type": "code",
   "execution_count": 77,
   "metadata": {},
   "outputs": [
    {
     "data": {
      "text/plain": [
       "5×5 Array{Complex{Float64},2}:\n",
       " 8.43769e-15-1.80411e-16im  …   3.9968e-15-2.22045e-16im\n",
       " 5.77316e-15+2.35922e-16im     3.55271e-15-3.33067e-16im\n",
       " 2.33147e-15+1.33227e-15im     1.55431e-15+7.77156e-16im\n",
       " 9.32587e-15+1.38778e-16im      3.9968e-15-2.22045e-16im\n",
       " 4.44089e-15+2.22045e-16im     4.88498e-15+2.77556e-17im"
      ]
     },
     "execution_count": 77,
     "metadata": {},
     "output_type": "execute_result"
    }
   ],
   "source": [
    "# Square root\n",
    "λ,U=eigen(A)\n",
    "Ar=U*diagm(0=>sqrt.(λ))*U'\n",
    "A-Ar*Ar"
   ]
  },
  {
   "cell_type": "code",
   "execution_count": 78,
   "metadata": {},
   "outputs": [
    {
     "data": {
      "text/plain": [
       "5×5 UpperTriangular{Complex{Float64},Array{Complex{Float64},2}}:\n",
       " 1.88789+0.0im  0.987882+0.0266461im  …    1.43853-0.207125im  \n",
       "         ⋅       0.89392+0.0im             1.03055-0.120064im  \n",
       "         ⋅               ⋅               -0.258242+0.298933im  \n",
       "         ⋅               ⋅               -0.521014-0.00188521im\n",
       "         ⋅               ⋅                0.423323+0.0im       "
      ]
     },
     "execution_count": 78,
     "metadata": {},
     "output_type": "execute_result"
    }
   ],
   "source": [
    "# Cholesky factorization - the upper triangular factor is returned\n",
    "L=cholesky(A).U"
   ]
  },
  {
   "cell_type": "code",
   "execution_count": 79,
   "metadata": {},
   "outputs": [
    {
     "data": {
      "text/plain": [
       "9.844429633125817e-16"
      ]
     },
     "execution_count": 79,
     "metadata": {},
     "output_type": "execute_result"
    }
   ],
   "source": [
    "norm(A-L'*L)"
   ]
  },
  {
   "cell_type": "markdown",
   "metadata": {},
   "source": [
    "### Example - Positive semidefinite matrix"
   ]
  },
  {
   "cell_type": "code",
   "execution_count": 80,
   "metadata": {},
   "outputs": [
    {
     "data": {
      "text/plain": [
       "6×4 Array{Int64,2}:\n",
       "  2   6  -5   7\n",
       "  8   9   0   5\n",
       " -4   2   1   1\n",
       "  8   9   2   8\n",
       "  0  -6  -3  -4\n",
       " -3   5   5  -5"
      ]
     },
     "execution_count": 80,
     "metadata": {},
     "output_type": "execute_result"
    }
   ],
   "source": [
    "# Generating positive semidefinite matrix as a Gram matrix, try it several times\n",
    "n=6\n",
    "m=4\n",
    "A=rand(-9:9,n,m)"
   ]
  },
  {
   "cell_type": "code",
   "execution_count": 81,
   "metadata": {},
   "outputs": [
    {
     "data": {
      "text/plain": [
       "6×6 Array{Int64,2}:\n",
       " 114  105    6  116  -49  -36\n",
       " 105  170   -9  185  -74   -4\n",
       "   6   -9   22   -4  -19   22\n",
       " 116  185   -4  213  -92   -9\n",
       " -49  -74  -19  -92   61  -25\n",
       " -36   -4   22   -9  -25   84"
      ]
     },
     "execution_count": 81,
     "metadata": {},
     "output_type": "execute_result"
    }
   ],
   "source": [
    "A=A*A'"
   ]
  },
  {
   "cell_type": "code",
   "execution_count": 82,
   "metadata": {},
   "outputs": [
    {
     "data": {
      "text/plain": [
       "6-element Array{Float64,1}:\n",
       "   2.6345389913802536e-16\n",
       "   1.8367476232847447e-14\n",
       "  14.786150000289037     \n",
       "  46.11649419293279      \n",
       " 113.92747915314348      \n",
       " 489.16987665363473      "
      ]
     },
     "execution_count": 82,
     "metadata": {},
     "output_type": "execute_result"
    }
   ],
   "source": [
    "# There are rounding errors!\n",
    "eigvals(A)"
   ]
  },
  {
   "cell_type": "code",
   "execution_count": 83,
   "metadata": {},
   "outputs": [
    {
     "data": {
      "text/html": [
       "rank(A::<b>AbstractArray{T,2} where T</b>) in LinearAlgebra at <a href=\"file://C:/cygwin/home/Administrator/buildbot/worker/package_win64/build/usr/share/julia/stdlib/v1.0/LinearAlgebra/src/generic.jl\" target=\"_blank\">C:\\cygwin\\home\\Administrator\\buildbot\\worker\\package_win64\\build\\usr\\share\\julia\\stdlib\\v1.0\\LinearAlgebra\\src\\generic.jl:742</a>"
      ],
      "text/plain": [
       "rank(A::AbstractArray{T,2} where T) in LinearAlgebra at C:\\cygwin\\home\\Administrator\\buildbot\\worker\\package_win64\\build\\usr\\share\\julia\\stdlib\\v1.0\\LinearAlgebra\\src\\generic.jl:742"
      ]
     },
     "execution_count": 83,
     "metadata": {},
     "output_type": "execute_result"
    }
   ],
   "source": [
    "@which rank(A)"
   ]
  },
  {
   "cell_type": "code",
   "execution_count": 84,
   "metadata": {},
   "outputs": [
    {
     "ename": "PosDefException",
     "evalue": "PosDefException: matrix is not positive definite; Cholesky factorization failed.",
     "output_type": "error",
     "traceback": [
      "PosDefException: matrix is not positive definite; Cholesky factorization failed.",
      "",
      "Stacktrace:",
      " [1] checkpositivedefinite at C:\\cygwin\\home\\Administrator\\buildbot\\worker\\package_win64\\build\\usr\\share\\julia\\stdlib\\v1.0\\LinearAlgebra\\src\\factorization.jl:11 [inlined]",
      " [2] #cholesky!#92(::Bool, ::Function, ::Hermitian{Float64,Array{Float64,2}}, ::Val{false}) at C:\\cygwin\\home\\Administrator\\buildbot\\worker\\package_win64\\build\\usr\\share\\julia\\stdlib\\v1.0\\LinearAlgebra\\src\\cholesky.jl:153",
      " [3] #cholesky! at .\\none:0 [inlined]",
      " [4] #cholesky!#93(::Bool, ::Function, ::Array{Float64,2}, ::Val{false}) at C:\\cygwin\\home\\Administrator\\buildbot\\worker\\package_win64\\build\\usr\\share\\julia\\stdlib\\v1.0\\LinearAlgebra\\src\\cholesky.jl:185",
      " [5] #cholesky! at .\\none:0 [inlined] (repeats 2 times)",
      " [6] #cholesky#97 at C:\\cygwin\\home\\Administrator\\buildbot\\worker\\package_win64\\build\\usr\\share\\julia\\stdlib\\v1.0\\LinearAlgebra\\src\\cholesky.jl:275 [inlined]",
      " [7] cholesky at C:\\cygwin\\home\\Administrator\\buildbot\\worker\\package_win64\\build\\usr\\share\\julia\\stdlib\\v1.0\\LinearAlgebra\\src\\cholesky.jl:275 [inlined] (repeats 2 times)",
      " [8] top-level scope at In[84]:1"
     ]
    }
   ],
   "source": [
    "# Cholesky factorization - this can fail\n",
    "L=cholesky(A).U"
   ]
  },
  {
   "cell_type": "markdown",
   "metadata": {},
   "source": [
    "### Example - Covariance and correlation matrices \n",
    "\n",
    "[Covariance and correlation matrices](https://en.wikipedia.org/wiki/Covariance_matrix) are PSD.\n",
    "\n",
    "Correlation matrix is diagonally scaled covariance matrix."
   ]
  },
  {
   "cell_type": "code",
   "execution_count": 85,
   "metadata": {},
   "outputs": [
    {
     "data": {
      "text/plain": [
       "10×5 Array{Float64,2}:\n",
       " 0.934108  0.110226  0.767975  0.425161   0.0701617\n",
       " 0.123071  0.797408  0.462157  0.410939   0.414877 \n",
       " 0.813816  0.095699  0.779754  0.0883656  0.81192  \n",
       " 0.91956   0.186565  0.398596  0.135477   0.206553 \n",
       " 0.768813  0.586859  0.941196  0.693611   0.587476 \n",
       " 0.413175  0.623613  0.578657  0.557009   0.0520492\n",
       " 0.214132  0.62035   0.702451  0.832917   0.194796 \n",
       " 0.672281  0.830895  0.746427  0.305969   0.0209331\n",
       " 0.373938  0.72423   0.301046  0.827829   0.927317 \n",
       " 0.317985  0.493046  0.619772  0.332922   0.208939 "
      ]
     },
     "execution_count": 85,
     "metadata": {},
     "output_type": "execute_result"
    }
   ],
   "source": [
    "x=rand(10,5)"
   ]
  },
  {
   "cell_type": "code",
   "execution_count": 86,
   "metadata": {},
   "outputs": [
    {
     "data": {
      "text/plain": [
       "5×5 Array{Float64,2}:\n",
       "  0.0905456   -0.0594738    0.0226628   -0.039109    -0.00340075\n",
       " -0.0594738    0.0776365   -0.010829     0.0400494   -0.00296964\n",
       "  0.0226628   -0.010829     0.0388646   -0.00222493  -0.010662  \n",
       " -0.039109     0.0400494   -0.00222493   0.0694736    0.0145688 \n",
       " -0.00340075  -0.00296964  -0.010662     0.0145688    0.105244  "
      ]
     },
     "execution_count": 86,
     "metadata": {},
     "output_type": "execute_result"
    }
   ],
   "source": [
    "using Statistics\n",
    "A=cov(x)"
   ]
  },
  {
   "cell_type": "code",
   "execution_count": 87,
   "metadata": {},
   "outputs": [
    {
     "data": {
      "text/plain": [
       "5×5 Array{Float64,2}:\n",
       "  0.0          -6.93889e-18   0.0          -6.93889e-18   0.0        \n",
       " -6.93889e-18   0.0          -1.73472e-18   0.0           0.0        \n",
       "  0.0          -1.73472e-18   0.0           0.0          -1.73472e-18\n",
       " -6.93889e-18   0.0           0.0           0.0           1.73472e-18\n",
       "  4.33681e-19  -2.60209e-18   0.0          -1.73472e-18   0.0        "
      ]
     },
     "execution_count": 87,
     "metadata": {},
     "output_type": "execute_result"
    }
   ],
   "source": [
    "# Covariance matrix is a Gram matrix\n",
    "(x.-mean(x,dims=1))'*(x.-mean(x,dims=1))/(size(x,1)-1)-A"
   ]
  },
  {
   "cell_type": "code",
   "execution_count": 88,
   "metadata": {},
   "outputs": [
    {
     "data": {
      "text/plain": [
       "5×5 Array{Float64,2}:\n",
       "  1.0        -0.709347    0.382035   -0.493098   -0.0348371\n",
       " -0.709347    1.0        -0.197142    0.545322   -0.0328527\n",
       "  0.382035   -0.197142    1.0        -0.0428183  -0.16671  \n",
       " -0.493098    0.545322   -0.0428183   1.0         0.170378 \n",
       " -0.0348371  -0.0328527  -0.16671     0.170378    1.0      "
      ]
     },
     "execution_count": 88,
     "metadata": {},
     "output_type": "execute_result"
    }
   ],
   "source": [
    "B=cor(x)"
   ]
  },
  {
   "cell_type": "code",
   "execution_count": 89,
   "metadata": {},
   "outputs": [
    {
     "data": {
      "text/plain": [
       "5-element Array{Float64,1}:\n",
       " 3.3232758896959407\n",
       " 3.5889457948378296\n",
       " 5.0725115252255755\n",
       " 3.7939365154992974\n",
       " 3.0824831716983927"
      ]
     },
     "execution_count": 89,
     "metadata": {},
     "output_type": "execute_result"
    }
   ],
   "source": [
    "# Diagonal scaling\n",
    "D=1 ./sqrt.(diag(A))"
   ]
  },
  {
   "cell_type": "code",
   "execution_count": 90,
   "metadata": {},
   "outputs": [
    {
     "data": {
      "text/plain": [
       "5×5 Array{Float64,2}:\n",
       "  1.0        -0.709347    0.382035   -0.493098   -0.0348371\n",
       " -0.709347    1.0        -0.197142    0.545322   -0.0328527\n",
       "  0.382035   -0.197142    1.0        -0.0428183  -0.16671  \n",
       " -0.493098    0.545322   -0.0428183   1.0         0.170378 \n",
       " -0.0348371  -0.0328527  -0.16671     0.170378    1.0      "
      ]
     },
     "execution_count": 90,
     "metadata": {},
     "output_type": "execute_result"
    }
   ],
   "source": [
    "diagm(0=>D)*A*diagm(0=>D)"
   ]
  },
  {
   "cell_type": "code",
   "execution_count": 91,
   "metadata": {},
   "outputs": [
    {
     "data": {
      "text/plain": [
       "5-element Array{Float64,1}:\n",
       " 0.02049657092565053 \n",
       " 0.026202517075243164\n",
       " 0.04897131782823541 \n",
       " 0.10758609291347618 \n",
       " 0.17850810006798187 "
      ]
     },
     "execution_count": 91,
     "metadata": {},
     "output_type": "execute_result"
    }
   ],
   "source": [
    "eigvals(A)"
   ]
  },
  {
   "cell_type": "code",
   "execution_count": 92,
   "metadata": {},
   "outputs": [
    {
     "data": {
      "text/plain": [
       "5-element Array{Float64,1}:\n",
       " 0.2627537418523289\n",
       " 0.4065754978014736\n",
       " 0.9407261031111157\n",
       " 1.097585361779282 \n",
       " 2.2923592954557983"
      ]
     },
     "execution_count": 92,
     "metadata": {},
     "output_type": "execute_result"
    }
   ],
   "source": [
    "eigvals(B)"
   ]
  },
  {
   "cell_type": "code",
   "execution_count": 93,
   "metadata": {},
   "outputs": [
    {
     "data": {
      "text/plain": [
       "10×10 Array{Float64,2}:\n",
       "  0.148786    -0.0644134   0.0672401   …  -0.0946185    0.0182793 \n",
       " -0.0644134    0.0575342  -0.0584461       0.0235793    0.0177283 \n",
       "  0.0672401   -0.0584461   0.151334       -0.049813    -0.00834204\n",
       "  0.101353    -0.0570429   0.0750592      -0.0656002   -0.00222834\n",
       "  0.0476126   -0.0135053   0.0252371      -0.0356027    0.0147977 \n",
       "  0.0282215    0.0208758  -0.0533692   …  -0.0284147    0.0290413 \n",
       " -0.00199864   0.0339957  -0.0787821      -0.00174868   0.0288678 \n",
       "  0.0588091    0.0216671  -0.0204272      -0.0687209    0.0439453 \n",
       " -0.0946185    0.0235793  -0.049813        0.0775468   -0.0281446 \n",
       "  0.0182793    0.0177283  -0.00834204     -0.0281446    0.0261345 "
      ]
     },
     "execution_count": 93,
     "metadata": {},
     "output_type": "execute_result"
    }
   ],
   "source": [
    "C=cov(x')"
   ]
  },
  {
   "cell_type": "code",
   "execution_count": 94,
   "metadata": {},
   "outputs": [
    {
     "data": {
      "text/plain": [
       "10-element Array{Float64,1}:\n",
       " -4.8513141107094057e-17\n",
       " -1.0245953063368211e-17\n",
       "  1.3265683387837633e-18\n",
       "  9.261102000458243e-18 \n",
       "  1.4995963932465505e-17\n",
       "  2.919072084368664e-17 \n",
       "  0.05615438085359264   \n",
       "  0.07050847944530729   \n",
       "  0.292307637245768     \n",
       "  0.4247025503860673    "
      ]
     },
     "execution_count": 94,
     "metadata": {},
     "output_type": "execute_result"
    }
   ],
   "source": [
    "eigvals(C)"
   ]
  },
  {
   "cell_type": "code",
   "execution_count": 95,
   "metadata": {},
   "outputs": [
    {
     "data": {
      "text/plain": [
       "3-element Array{Int64,1}:\n",
       " 8\n",
       " 2\n",
       " 0"
      ]
     },
     "execution_count": 95,
     "metadata": {},
     "output_type": "execute_result"
    }
   ],
   "source": [
    "inertia(C)"
   ]
  },
  {
   "cell_type": "code",
   "execution_count": 96,
   "metadata": {},
   "outputs": [
    {
     "data": {
      "text/plain": [
       "4"
      ]
     },
     "execution_count": 96,
     "metadata": {},
     "output_type": "execute_result"
    }
   ],
   "source": [
    "rank(C)"
   ]
  },
  {
   "cell_type": "markdown",
   "metadata": {},
   "source": [
    "Explain the function `rank()`."
   ]
  },
  {
   "cell_type": "code",
   "execution_count": 97,
   "metadata": {},
   "outputs": [
    {
     "data": {
      "text/html": [
       "rank(A::<b>AbstractArray{T,2} where T</b>) in LinearAlgebra at <a href=\"file://C:/cygwin/home/Administrator/buildbot/worker/package_win64/build/usr/share/julia/stdlib/v1.0/LinearAlgebra/src/generic.jl\" target=\"_blank\">C:\\cygwin\\home\\Administrator\\buildbot\\worker\\package_win64\\build\\usr\\share\\julia\\stdlib\\v1.0\\LinearAlgebra\\src\\generic.jl:742</a>"
      ],
      "text/plain": [
       "rank(A::AbstractArray{T,2} where T) in LinearAlgebra at C:\\cygwin\\home\\Administrator\\buildbot\\worker\\package_win64\\build\\usr\\share\\julia\\stdlib\\v1.0\\LinearAlgebra\\src\\generic.jl:742"
      ]
     },
     "execution_count": 97,
     "metadata": {},
     "output_type": "execute_result"
    }
   ],
   "source": [
    "@which rank(C)"
   ]
  }
 ],
 "metadata": {
  "@webio": {
   "lastCommId": "1b374708f9684b09841ff73367bcfffd",
   "lastKernelId": "e5c1e82f-f3cc-491c-b058-57895ac8fec2"
  },
  "anaconda-cloud": {},
  "kernelspec": {
   "display_name": "Julia 1.0.2",
   "language": "julia",
   "name": "julia-1.0"
  },
  "language_info": {
   "file_extension": ".jl",
   "mimetype": "application/julia",
   "name": "julia",
   "version": "1.0.2"
  }
 },
 "nbformat": 4,
 "nbformat_minor": 1
}
