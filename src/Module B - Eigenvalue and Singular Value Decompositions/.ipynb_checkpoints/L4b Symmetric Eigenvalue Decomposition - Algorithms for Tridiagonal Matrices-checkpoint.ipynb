{
 "cells": [
  {
   "cell_type": "markdown",
   "metadata": {},
   "source": [
    "# Symmetric Eigenvalue Decomposition - Algorithms for Tridiagonal Matrices\n",
    "\n",
    "\n",
    "Due to their importance, there is plethora of excellent algorithms for symmetric tridiagonal matrices.\n",
    "\n",
    "For more details, see \n",
    "[I. Slapničar, Symmetric Matrix Eigenvalue Techniques][Hog14] and the references therein.\n",
    "\n",
    "[Hog14]: #1 \"L. Hogben, ed., 'Handbook of Linear Algebra', pp. 55.1-55.25, CRC Press, Boca Raton, 2014.\"\n",
    "\n",
    "\n",
    "## Prerequisites\n",
    "\n",
    "The reader should be familiar with concepts of eigenvalues and eigenvectors, related perturbation theory, and algorithms. \n",
    "\n",
    " \n",
    "## Competences \n",
    "\n",
    "The reader should be able to apply adequate algorithm to a given symmetric tridiagonal matrix and to assess the speed of the algorithm and the accuracy of the solution."
   ]
  },
  {
   "cell_type": "markdown",
   "metadata": {},
   "source": [
    "## Bisection and inverse iteration\n",
    "\n",
    "The bisection method is convenient if only part of the spectrum is needed.\n",
    "If the eigenvectors are needed, as well, they can be efficiently computed by\n",
    "the inverse iteration method. \n",
    "\n",
    "### Facts\n",
    "\n",
    "$A$ is a real symmetric $n\\times n$ matrix and $T$ is a real symmetric\n",
    "tridiagonal $n\\times n$ matrix.\n",
    "  \n",
    "1. __Application of Sylvester's Theorem.__ \n",
    "Let $\\alpha,\\beta\\in\\mathbb{R}$ with $\\alpha<\\beta$. The number of\n",
    "  eigenvalues of $A$ in the interval $[\\alpha,\\beta)$ is equal to $\\nu\n",
    "  (A- \\beta I)-\\nu(A-\\alpha I)$. By systematically choosing the intervals $[\\alpha,\\beta)$, the\n",
    "  bisection method pinpoints each eigenvalue of $A$ to any desired accuracy.\n",
    "\n",
    "2. The factorization $T-\\mu I=LDL^T$, where $D=\\mathop{\\mathrm{diag}}(d_1,\\dots,d_n)$\n",
    "  and $L$ is the unit lower bidiagonal matrix, is computed as:\n",
    "\\begin{align*}\n",
    "& d_{1}=T_{11}-\\mu, \\quad    d_{i}=(T_{ii}-\\mu)-\n",
    "\\frac{T_{i,i-1}^2}{d_{i-1}}, \\quad i=2,\\ldots n, \\\\\n",
    "& L_{i+1,i}=\\frac{T_{i+1,i}}{d_{i}}, \\quad i=1,\\ldots,n-1.\n",
    "\\end{align*}\n",
    "Since the matrices $T$ and $D$ have the same inertia, this recursion\n",
    "enables an efficient implementation of the bisection method for $T$.\n",
    "\n",
    "3. The factorization from Fact 2 is essentially Gaussian elimination without\n",
    "  pivoting. Nevertheless, if $d_i\\neq 0$ for all $i$,\n",
    "  the above recursion is very stable.\n",
    "  Even when $d_{i-1}=0$ for some $i$, if the IEEE arithmetic is used, the\n",
    "  computation will continue and the inertia will be computed\n",
    "  correctly. Namely, in that case, we would have $d_i=-\\infty$, $L_{i+1,i}=0$, \n",
    "  and $d_{i+1}=T_{i+1.i+1}-\\mu$.\n",
    "\n",
    "4. Computing one eigenvalue of $T$ by using the recursion from Fact 2 and bisection\n",
    "  requires $O(n)$ operations. The corresponding eigenvector is computed\n",
    "by inverse iteration. The convergence is very\n",
    "fast, so the cost of computing each eigenvector is also $O(n)$\n",
    "operations. Therefore, the overall cost for computing all eigenvalues and\n",
    "eigenvectors is $O(n^2)$ operations.  \n",
    "\n",
    "5. Both, bisection and inverse iteration are highly\n",
    "parallel since each eigenvalue and eigenvector can be computed independently.  \n",
    "\n",
    "6. If some of the eigenvalues are too close, the corresponding eigenvectors\n",
    "  computed by inverse iteration may not be sufficiently orthogonal. In this\n",
    "  case, it is necessary to orthogonalize these eigenvectors  (for example, by the\n",
    "  modified Gram--Schmidt procedure). If the number of close eigenvalues is too\n",
    "  large, the overall operation count can increase to $O(n^3)$.\n",
    "\n",
    "7. The EVD computed by bisection and inverse iteration satisfies\n",
    "  the error bounds from previous notebook.\n",
    "  \n",
    "8. The bisection method for tridiagonal matrices is implemented in the \n",
    "LAPACK subroutine [DSTEBZ](http://www.netlib.org/lapack/explore-html/d4/d48/dstebz_8f.html). This routine can compute all eigenvalues\n",
    "in a given interval or the eigenvalues from $\\lambda_l$ to $\\lambda_k$, where $l<k$,\n",
    "and the eigenvalues are ordered from smallest to largest.\n",
    "Inverse iteration (with reorthogonalization) is implemented in the LAPACK\n",
    "subroutine DSTEIN. "
   ]
  },
  {
   "cell_type": "code",
   "execution_count": 1,
   "metadata": {},
   "outputs": [
    {
     "data": {
      "text/plain": [
       "6×6 SymTridiagonal{Float64,Array{Float64,1}}:\n",
       " 0.200549  0.634245   ⋅         ⋅         ⋅         ⋅      \n",
       " 0.634245  0.513108  0.928204   ⋅         ⋅         ⋅      \n",
       "  ⋅        0.928204  0.340006  0.631759   ⋅         ⋅      \n",
       "  ⋅         ⋅        0.631759  0.918155  0.835154   ⋅      \n",
       "  ⋅         ⋅         ⋅        0.835154  0.566228  0.574579\n",
       "  ⋅         ⋅         ⋅         ⋅        0.574579  0.30003 "
      ]
     },
     "execution_count": 1,
     "metadata": {},
     "output_type": "execute_result"
    }
   ],
   "source": [
    "import Random\n",
    "Random.seed!(423)\n",
    "using LinearAlgebra\n",
    "n=6\n",
    "T=SymTridiagonal(rand(n),rand(n-1))"
   ]
  },
  {
   "cell_type": "code",
   "execution_count": 2,
   "metadata": {},
   "outputs": [
    {
     "data": {
      "text/plain": [
       "Eigen{Float64,Float64,Array{Float64,2},Array{Float64,1}}\n",
       "eigenvalues:\n",
       "6-element Array{Float64,1}:\n",
       " -0.8633311493125129 \n",
       " -0.39326717788820553\n",
       "  0.14127563439430557\n",
       "  0.5996059164724927 \n",
       "  1.4026318491877152 \n",
       "  1.9511609543652702 \n",
       "eigenvectors:\n",
       "6×6 Array{Float64,2}:\n",
       " -0.34026   -0.327296    0.714614    0.373527   0.332886  0.126853\n",
       "  0.570751   0.306433   -0.0667846   0.235017   0.630916  0.350133\n",
       " -0.613869  -0.0755841  -0.461545   -0.233332   0.377163  0.455777\n",
       "  0.330692  -0.362494    0.243309   -0.441175  -0.292574  0.647925\n",
       " -0.241041   0.626391    0.122808    0.344781  -0.455031  0.456645\n",
       "  0.119049  -0.51913    -0.444479    0.66128   -0.237122  0.158908"
      ]
     },
     "execution_count": 2,
     "metadata": {},
     "output_type": "execute_result"
    }
   ],
   "source": [
    "λ,U=eigen(T)"
   ]
  },
  {
   "cell_type": "code",
   "execution_count": 3,
   "metadata": {},
   "outputs": [
    {
     "data": {
      "text/plain": [
       "myLDLt (generic function with 1 method)"
      ]
     },
     "execution_count": 3,
     "metadata": {},
     "output_type": "execute_result"
    }
   ],
   "source": [
    "# Fact 2\n",
    "function myLDLt(T::SymTridiagonal{S},μ::S) where S<:Real\n",
    "    n=length(T.dv)\n",
    "    D=Diagonal(Vector{S}(undef,n))\n",
    "    L=Bidiagonal(fill(one(S),n),Vector{S}(undef,n-1),'L')\n",
    "    D.diag[1]=T.dv[1]-μ\n",
    "    for i=2:n\n",
    "        D.diag[i]=(T.dv[i]-μ)-T.ev[i-1]^2/D.diag[i-1]\n",
    "    end\n",
    "    for i=1:n-1\n",
    "        L.ev[i]=T.ev[i]/D.diag[i]\n",
    "    end\n",
    "    #=\n",
    "    & d_{1}=T_{11}-\\mu, \\quad    \n",
    "    d_{i}=(T_{ii}-\\mu)- \\frac{T_{i,i-1}^2}{d_{i-1}}, \\quad i=2,\\ldots n, \\\\\n",
    "& L_{i+1,i}=\\frac{T_{i+1,i}}{d_{i}}, \\quad i=1,\\ldots,n-1.\n",
    "    =#\n",
    "    return D,L\n",
    "end"
   ]
  },
  {
   "cell_type": "code",
   "execution_count": 4,
   "metadata": {},
   "outputs": [
    {
     "data": {
      "text/plain": [
       "1.0"
      ]
     },
     "execution_count": 4,
     "metadata": {},
     "output_type": "execute_result"
    }
   ],
   "source": [
    "σ=1.0"
   ]
  },
  {
   "cell_type": "code",
   "execution_count": 5,
   "metadata": {},
   "outputs": [
    {
     "data": {
      "text/plain": [
       "([-0.799451 0.0 … 0.0 0.0; 0.0 0.016288 … 0.0 0.0; … ; 0.0 0.0 … 8.94189 0.0; 0.0 0.0 … 0.0 -0.736891], 6×6 Bidiagonal{Float64,Array{Float64,1}}:\n",
       " diag: 1.0  1.0  1.0  1.0  1.0  1.0\n",
       " sub: -0.7933515258548643  56.98712238683155  …  0.0642569529765287)"
      ]
     },
     "execution_count": 5,
     "metadata": {},
     "output_type": "execute_result"
    }
   ],
   "source": [
    "D,L=myLDLt(T,σ)"
   ]
  },
  {
   "cell_type": "code",
   "execution_count": 6,
   "metadata": {},
   "outputs": [
    {
     "data": {
      "text/plain": [
       "6×6 Array{Float64,2}:\n",
       " 0.0   0.0          0.0          0.0  0.0          0.0\n",
       " 0.0  -1.11022e-16  0.0          0.0  0.0          0.0\n",
       " 0.0   0.0          2.66454e-15  0.0  0.0          0.0\n",
       " 0.0   0.0          0.0          0.0  0.0          0.0\n",
       " 0.0   0.0          0.0          0.0  4.44089e-16  0.0\n",
       " 0.0   0.0          0.0          0.0  0.0          0.0"
      ]
     },
     "execution_count": 6,
     "metadata": {},
     "output_type": "execute_result"
    }
   ],
   "source": [
    "Matrix(L*D*transpose(L))-(T-σ*I)"
   ]
  },
  {
   "cell_type": "code",
   "execution_count": 7,
   "metadata": {},
   "outputs": [
    {
     "data": {
      "text/plain": [
       "6×2 Array{Float64,2}:\n",
       " -1.86333    -0.799451 \n",
       " -1.39327     0.016288 \n",
       " -0.858724  -53.5557   \n",
       " -0.400394   -0.0743929\n",
       "  0.402632    8.94189  \n",
       "  0.951161   -0.736891 "
      ]
     },
     "execution_count": 7,
     "metadata": {},
     "output_type": "execute_result"
    }
   ],
   "source": [
    "# Inertias are the same\n",
    "[λ.-σ D.diag]"
   ]
  },
  {
   "cell_type": "code",
   "execution_count": 8,
   "metadata": {},
   "outputs": [
    {
     "data": {
      "text/html": [
       "2 methods for generic function <b>stebz!</b>:<ul><li> stebz!(range::<b>AbstractChar</b>, order::<b>AbstractChar</b>, vl::<b>Float64</b>, vu::<b>Float64</b>, il::<b>Integer</b>, iu::<b>Integer</b>, abstol::<b>Real</b>, dv::<b>AbstractArray{Float64,1}</b>, ev::<b>AbstractArray{Float64,1}</b>) in LinearAlgebra.LAPACK at <a href=\"file://C:/cygwin/home/Administrator/buildbot/worker/package_win64/build/usr/share/julia/stdlib/v1.1/LinearAlgebra/src/lapack.jl\" target=\"_blank\">C:\\cygwin\\home\\Administrator\\buildbot\\worker\\package_win64\\build\\usr\\share\\julia\\stdlib\\v1.1\\LinearAlgebra\\src\\lapack.jl:3710</a></li> <li> stebz!(range::<b>AbstractChar</b>, order::<b>AbstractChar</b>, vl::<b>Float32</b>, vu::<b>Float32</b>, il::<b>Integer</b>, iu::<b>Integer</b>, abstol::<b>Real</b>, dv::<b>AbstractArray{Float32,1}</b>, ev::<b>AbstractArray{Float32,1}</b>) in LinearAlgebra.LAPACK at <a href=\"file://C:/cygwin/home/Administrator/buildbot/worker/package_win64/build/usr/share/julia/stdlib/v1.1/LinearAlgebra/src/lapack.jl\" target=\"_blank\">C:\\cygwin\\home\\Administrator\\buildbot\\worker\\package_win64\\build\\usr\\share\\julia\\stdlib\\v1.1\\LinearAlgebra\\src\\lapack.jl:3710</a></li> </ul>"
      ],
      "text/plain": [
       "# 2 methods for generic function \"stebz!\":\n",
       "[1] stebz!(range::AbstractChar, order::AbstractChar, vl::Float64, vu::Float64, il::Integer, iu::Integer, abstol::Real, dv::AbstractArray{Float64,1}, ev::AbstractArray{Float64,1}) in LinearAlgebra.LAPACK at C:\\cygwin\\home\\Administrator\\buildbot\\worker\\package_win64\\build\\usr\\share\\julia\\stdlib\\v1.1\\LinearAlgebra\\src\\lapack.jl:3710\n",
       "[2] stebz!(range::AbstractChar, order::AbstractChar, vl::Float32, vu::Float32, il::Integer, iu::Integer, abstol::Real, dv::AbstractArray{Float32,1}, ev::AbstractArray{Float32,1}) in LinearAlgebra.LAPACK at C:\\cygwin\\home\\Administrator\\buildbot\\worker\\package_win64\\build\\usr\\share\\julia\\stdlib\\v1.1\\LinearAlgebra\\src\\lapack.jl:3710"
      ]
     },
     "execution_count": 8,
     "metadata": {},
     "output_type": "execute_result"
    }
   ],
   "source": [
    "# Fact 8\n",
    "methods(LAPACK.stebz!)"
   ]
  },
  {
   "cell_type": "code",
   "execution_count": 9,
   "metadata": {},
   "outputs": [
    {
     "data": {
      "text/plain": [
       "([-0.863331, -0.393267, 0.141276, 0.599606, 1.40263, 1.95116], [1, 1, 1, 1, 1, 1], [6])"
      ]
     },
     "execution_count": 9,
     "metadata": {},
     "output_type": "execute_result"
    }
   ],
   "source": [
    "λ₁, rest=LAPACK.stebz!('A','E',1.0,1.0,1,1,2*eps(),T.dv,T.ev)"
   ]
  },
  {
   "cell_type": "code",
   "execution_count": 10,
   "metadata": {},
   "outputs": [
    {
     "data": {
      "text/plain": [
       "6-element Array{Float64,1}:\n",
       "  3.1086244689504383e-15\n",
       " -1.5543122344752192e-15\n",
       "  1.3877787807814457e-16\n",
       " -1.2212453270876722e-15\n",
       "  2.220446049250313e-16 \n",
       "  2.220446049250313e-16 "
      ]
     },
     "execution_count": 10,
     "metadata": {},
     "output_type": "execute_result"
    }
   ],
   "source": [
    "λ-λ₁"
   ]
  },
  {
   "cell_type": "code",
   "execution_count": 11,
   "metadata": {},
   "outputs": [
    {
     "data": {
      "text/plain": [
       "6×6 Array{Float64,2}:\n",
       "  0.34026   -0.327296    0.714614    0.373527   0.332886  0.126853\n",
       " -0.570751   0.306433   -0.0667846   0.235017   0.630916  0.350133\n",
       "  0.613869  -0.0755841  -0.461545   -0.233332   0.377163  0.455777\n",
       " -0.330692  -0.362494    0.243309   -0.441175  -0.292574  0.647925\n",
       "  0.241041   0.626391    0.122808    0.344781  -0.455031  0.456645\n",
       " -0.119049  -0.51913    -0.444479    0.66128   -0.237122  0.158908"
      ]
     },
     "execution_count": 11,
     "metadata": {},
     "output_type": "execute_result"
    }
   ],
   "source": [
    "U₁=LAPACK.stein!(T.dv,T.ev,λ₁)"
   ]
  },
  {
   "cell_type": "code",
   "execution_count": 12,
   "metadata": {},
   "outputs": [
    {
     "data": {
      "text/plain": [
       "6-element Array{Float64,1}:\n",
       " -0.8633311493125129 \n",
       " -0.39326717788820553\n",
       "  0.14127563439430557\n",
       "  0.5996059164724927 \n",
       "  1.4026318491877152 \n",
       "  1.9511609543652702 "
      ]
     },
     "execution_count": 12,
     "metadata": {},
     "output_type": "execute_result"
    }
   ],
   "source": [
    "λ"
   ]
  },
  {
   "cell_type": "code",
   "execution_count": 15,
   "metadata": {},
   "outputs": [
    {
     "data": {
      "text/plain": [
       "6.181654916692879e-16"
      ]
     },
     "execution_count": 15,
     "metadata": {},
     "output_type": "execute_result"
    }
   ],
   "source": [
    "# Residual\n",
    "norm(T*U₁-U₁*Diagonal(λ₁))"
   ]
  },
  {
   "cell_type": "code",
   "execution_count": 13,
   "metadata": {},
   "outputs": [
    {
     "data": {
      "text/plain": [
       "([-0.393267, 0.141276, 0.599606], [1, 1, 1], [6])"
      ]
     },
     "execution_count": 13,
     "metadata": {},
     "output_type": "execute_result"
    }
   ],
   "source": [
    "# Let us compute just some eigenvalues - from 2nd to 4th\n",
    "λ₂,rest=LAPACK.stebz!('I','E',1.0,1.0,2,4,2*eps(),T.dv,T.ev)"
   ]
  },
  {
   "cell_type": "code",
   "execution_count": 14,
   "metadata": {},
   "outputs": [
    {
     "data": {
      "text/plain": [
       "6×3 Array{Float64,2}:\n",
       " -0.327296    0.714614    0.373527\n",
       "  0.306433   -0.0667846   0.235017\n",
       " -0.0755841  -0.461545   -0.233332\n",
       " -0.362494    0.243309   -0.441175\n",
       "  0.626391    0.122808    0.344781\n",
       " -0.51913    -0.444479    0.66128 "
      ]
     },
     "execution_count": 14,
     "metadata": {},
     "output_type": "execute_result"
    }
   ],
   "source": [
    "# And the corresponding eigenvectors\n",
    "U₂=LAPACK.stein!(T.dv,T.ev,λ₂)"
   ]
  },
  {
   "cell_type": "markdown",
   "metadata": {},
   "source": [
    "## Divide-and-conquer\n",
    "\n",
    "This is currently the fastest method for computing the EVD of a real symmetric\n",
    "tridiagonal matrix $T$. It is based on splitting the given tridiagonal matrix\n",
    "into two matrices, then computing the EVDs of the smaller matrices and\n",
    "computing the final EVD from the two EVDs.\n",
    "\n",
    "\n",
    "$T$ is a real symmetric tridiagonal matrix of order $n$ and\n",
    "$T=U\\Lambda U^T$ is its EVD.\n",
    "\n",
    "### Facts\n",
    "\n",
    "1. Let $T$ be partitioned as\n",
    "$$\n",
    "T=\\begin{bmatrix} T_1 & \\alpha_k e_k e_1^T \\\\\n",
    "\\alpha_k e_1 e_k^T & T_2\n",
    "\\end{bmatrix}.\n",
    "$$\n",
    "We assume that $T$ is unreduced, that is, $\\alpha_i\\neq 0$ for all $i$. Further, we\n",
    "assume that $\\alpha_i>0$ for all $i$, which can be easily be attained by diagonal\n",
    "similarity with a diagonal matrix of signs.\n",
    "Let\n",
    "$$\n",
    "\\hat T_1=T_1- \\alpha_k e_k e_k^T,\\qquad\n",
    "\\hat T_2=T_2- \\alpha_k e_1 e_1^T.\n",
    "$$\n",
    "In other words, $\\hat T_1$ is equal to $T_1$ except that $T_{kk}$ is replaced by $T_{kk}-\\alpha_k$, and \n",
    "$\\hat T_2$ is equal to $T_2$ except that $T_{k+1,k+1}$ is replaced by $T_{k+1,k+1}-\\alpha_k$.\n",
    "Let $\\hat T_i= \\hat U_i \\hat \\Lambda_i \\hat U_i^T$, $i=1,2$, be the\n",
    "respective EVDs and let \n",
    "$v=\\begin{bmatrix}\n",
    "\\hat U_1^T e_k   \\\\\n",
    "\\hat U_2^T e_1\n",
    "\\end{bmatrix}\n",
    "$\n",
    "($v$ consists of the last column of $\\hat U_1^T$ and the\n",
    "first column of $\\hat U_2^T$). Set $\\hat U=\\hat U_1\\oplus \\hat U_2$ and $\\hat\n",
    "\\Lambda=\\hat \\Lambda_1 \\oplus \\hat \\Lambda_2$.\n",
    "Then\n",
    "$$\n",
    "T=\\begin{bmatrix}\\hat U_1 & \\\\ & \\hat U_2 \\end{bmatrix}\n",
    "\\left[\\begin{bmatrix} \\hat \\Lambda_1 & \\\\ & \\hat \\Lambda_2 \\end{bmatrix} + \\alpha_k v v^T\\right] \n",
    "\\begin{bmatrix} \\hat U_1^T & \\\\ & \\hat U_2^T \\end{bmatrix}=\n",
    "\\hat U (\\hat \\Lambda + \\alpha_k v v^T) \\hat U^T.\n",
    "$$\n",
    "If $\\hat \\Lambda + \\alpha_k v v^T=X\\Lambda X^T$\n",
    "is the EVD of the rank-one modification of the diagonal matrix $\\hat \\Lambda$,\n",
    "then $T=U\\Lambda U^T$, where $U=\\hat U X$  is the EVD of $T$. \n",
    "Thus, the original tridiagonal eigenvalue problem\n",
    "is reduced to two smaller tridiagonal eigenvalue problems and one \n",
    "eigenvalue problem for the diagonal-plus-rank-one matrix.\n",
    "\n",
    "2. If all $\\hat \\lambda_i$ are different, then the eigenvalues $\\lambda_i$\n",
    "of $\\hat \\Lambda + \\alpha_k v v^T$ are solutions of the so-called secular\n",
    "equation,\n",
    "$$\n",
    "1+e_k \\sum_{i=1}^n \\frac{v_i^2}{\\hat \\lambda_i-\\lambda}=0.\n",
    "$$\n",
    "The eigenvalues can be computed by bisection, or by some faster  zero finder of the Newton type, and they\n",
    "need to be computed as accurately as possible. The corresponding eigenvectors are \n",
    "$$\n",
    "x_i=(\\hat \\Lambda-\\lambda_i I)^{-1}v.\n",
    "$$\n",
    "\n",
    "3. Each $\\lambda_i$ and $x_i$ is computed in in $O(n)$ operations, respectively, so the overall computational cost for computing\n",
    "   the EVD of $\\hat \\Lambda + \\alpha_k v v^T$ is $O(n^2)$ operations. \n",
    "  \n",
    "4. The method can be implemented so that the accuracy of the computed EVD is given by the bound from the previous notebook.\n",
    "\n",
    "5. Tridiagonal Divide-and-conquer method is implemented in the LAPACK subroutine \n",
    "[DSTEDC](http://www.netlib.org/lapack/explore-html/d7/d82/dstedc_8f.html). This routine can compute just the\n",
    "eigenvalues or both, eigenvalues and eigenvectors. \n",
    "\n",
    "The file [lapack.jl](https://github.com/JuliaLang/julia/blob/master/stdlib/LinearAlgebra/src/lapack.jl) contains wrappers for a selection of LAPACK routines needed in the current Julia `Base`. However, _all_ LAPACK routines are in the compiled library, so  additional wrappers can be easily written. Notice that arrays are passed directly and scalars as passed as pointers. The wrapper for `DSTEDC`, similar to the ones from the file \n",
    "`lapack.jl` follows."
   ]
  },
  {
   "cell_type": "code",
   "execution_count": 16,
   "metadata": {},
   "outputs": [
    {
     "data": {
      "text/plain": [
       "chklapackerror (generic function with 1 method)"
      ]
     },
     "execution_count": 16,
     "metadata": {},
     "output_type": "execute_result"
    }
   ],
   "source": [
    "# Part of the preamble of lapack.jl\n",
    "const liblapack = Base.liblapack_name\n",
    "import LinearAlgebra.BLAS.@blasfunc\n",
    "# import ..LinAlg: BlasFloat, Char, BlasInt, LAPACKException,\n",
    "    # DimensionMismatch, SingularException, PosDefException, chkstride1, chksquare\n",
    "import LinearAlgebra.BlasInt\n",
    "function chklapackerror(ret::BlasInt)\n",
    "    if ret == 0\n",
    "        return\n",
    "    elseif ret < 0\n",
    "        throw(ArgumentError(\"invalid argument #$(-ret) to LAPACK call\"))\n",
    "    else # ret > 0\n",
    "        throw(LAPACKException(ret))\n",
    "    end\n",
    "end"
   ]
  },
  {
   "cell_type": "code",
   "execution_count": 17,
   "metadata": {},
   "outputs": [],
   "source": [
    "for (stedc, elty) in\n",
    "    ((:dstedc_,:Float64),\n",
    "    (:sstedc_,:Float32))\n",
    "    @eval begin\n",
    "        \"\"\"\n",
    "        COMPZ is CHARACTER*1\n",
    "          = 'N':  Compute eigenvalues only.\n",
    "          = 'I':  Compute eigenvectors of tridiagonal matrix also.\n",
    "          = 'V':  Compute eigenvectors of original dense symmetric\n",
    "                  matrix also.  On entry, Z contains the orthogonal\n",
    "                  matrix used to reduce the original matrix to\n",
    "                  tridiagonal form.\n",
    "        \"\"\"\n",
    "        function stedc!(compz::Char, dv::Vector{$elty}, ev::Vector{$elty}, \n",
    "                Z::Array{$elty})\n",
    "            n = length(dv)\n",
    "            ldz=n\n",
    "            if length(ev) != n - 1\n",
    "                throw(DimensionMismatch(\"ev has length $(length(ev)) \n",
    "                        but needs one less than dv's length, $n)\"))\n",
    "            end\n",
    "            w = deepcopy(dv)\n",
    "            u = deepcopy(ev)\n",
    "            lwork=5*n^2\n",
    "            work = Array{$elty}(undef,lwork)\n",
    "            liwork=6+6*n+5*n*round(Int,ceil(log(n)/log(2)))\n",
    "            iwork = Array{BlasInt}(undef,liwork)\n",
    "            # info = Array{BlasInt}(undef,5)\n",
    "            info = Ref{BlasInt}()\n",
    "            ccall((@blasfunc($stedc), liblapack), Cvoid,\n",
    "                (Ref{UInt8}, Ref{BlasInt}, Ptr{$elty},\n",
    "                Ptr{$elty}, Ptr{$elty}, Ref{BlasInt}, Ptr{$elty}, \n",
    "                    Ref{BlasInt}, Ptr{BlasInt}, Ref{BlasInt}, \n",
    "                    Ptr{BlasInt}), compz, n, w, u, Z, ldz, work, \n",
    "                    lwork, iwork, liwork, info) \n",
    "                chklapackerror(info[])\n",
    "            return w,Z\n",
    "        end\n",
    "    end\n",
    "end"
   ]
  },
  {
   "cell_type": "code",
   "execution_count": 18,
   "metadata": {},
   "outputs": [
    {
     "data": {
      "text/plain": [
       "([-0.863331, -0.393267, 0.141276, 0.599606, 1.40263, 1.95116], [0.34026 -0.327296 … -0.332886 0.126853; -0.570751 0.306433 … -0.630916 0.350133; … ; 0.241041 0.626391 … 0.455031 0.456645; -0.119049 -0.51913 … 0.237122 0.158908])"
      ]
     },
     "execution_count": 18,
     "metadata": {},
     "output_type": "execute_result"
    }
   ],
   "source": [
    "μ,Q=stedc!('I',T.dv,T.ev,Matrix{Float64}(I,n,n))"
   ]
  },
  {
   "cell_type": "code",
   "execution_count": 19,
   "metadata": {},
   "outputs": [
    {
     "data": {
      "text/plain": [
       "6-element Array{Float64,1}:\n",
       "  2.9976021664879227e-15\n",
       " -1.609823385706477e-15 \n",
       " -8.326672684688674e-17 \n",
       " -1.2212453270876722e-15\n",
       "  8.881784197001252e-16 \n",
       "  0.0                   "
      ]
     },
     "execution_count": 19,
     "metadata": {},
     "output_type": "execute_result"
    }
   ],
   "source": [
    "λ-μ"
   ]
  },
  {
   "cell_type": "code",
   "execution_count": 20,
   "metadata": {},
   "outputs": [
    {
     "data": {
      "text/plain": [
       "6×6 Array{Float64,2}:\n",
       " -0.863331     -9.12799e-17   5.41295e-17  …   2.746e-17    -8.50686e-17\n",
       " -1.38137e-16  -0.393267     -8.18897e-18      8.249e-17    -1.53774e-16\n",
       "  5.00051e-19  -7.60015e-18   0.141276        -7.33954e-18   2.05511e-16\n",
       " -4.31145e-17  -1.63527e-16  -9.18401e-17      2.60173e-16  -1.6289e-16 \n",
       " -1.68785e-17  -1.08403e-17  -2.75437e-17      1.40263      -4.5609e-16 \n",
       " -1.40972e-16  -1.66229e-16   1.589e-16    …  -3.81394e-16   1.95116    "
      ]
     },
     "execution_count": 20,
     "metadata": {},
     "output_type": "execute_result"
    }
   ],
   "source": [
    "Q'*(T*Q)"
   ]
  },
  {
   "cell_type": "code",
   "execution_count": 21,
   "metadata": {},
   "outputs": [],
   "source": [
    "# Timings\n",
    "n=3000\n",
    "Tbig=SymTridiagonal(rand(n),rand(n-1));"
   ]
  },
  {
   "cell_type": "code",
   "execution_count": 23,
   "metadata": {},
   "outputs": [
    {
     "name": "stdout",
     "output_type": "stream",
     "text": [
      "  1.163689 seconds (48 allocations: 69.445 MiB, 6.70% gc time)\n",
      "  0.249152 seconds (19 allocations: 413.545 MiB, 32.58% gc time)\n"
     ]
    }
   ],
   "source": [
    "@time eigen(Tbig);\n",
    "@time stedc!('I',Tbig.dv,Tbig.ev,Matrix{Float64}(I,n,n));"
   ]
  },
  {
   "cell_type": "code",
   "execution_count": 24,
   "metadata": {},
   "outputs": [
    {
     "data": {
      "text/plain": [
       "DivideConquer (generic function with 1 method)"
      ]
     },
     "execution_count": 24,
     "metadata": {},
     "output_type": "execute_result"
    }
   ],
   "source": [
    "# Simple version\n",
    "function DivideConquer(T::SymTridiagonal{S}) where S\n",
    "    n=length(T.dv)\n",
    "    U=Matrix{S}(undef,n,n)\n",
    "    Λ=Vector{S}(undef,n)\n",
    "    if n==1\n",
    "        Λ=T.dv[1]\n",
    "        U=[one(S)]\n",
    "    else\n",
    "        k=div(n,2)\n",
    "        T₁=SymTridiagonal(T.dv[1:k],T.ev[1:k-1])\n",
    "        T₁.dv[k]-=T.ev[k]\n",
    "        T₂=SymTridiagonal(T.dv[k+1:n],T.ev[k+1:n-1])\n",
    "        T₂.dv[1]-=T.ev[k]\n",
    "        Λ₁,U₁=DivideConquer(T₁)\n",
    "        Λ₂,U₂=DivideConquer(T₂)\n",
    "        v=vcat(transpose(U₁)[:,k],transpose(U₂)[:,1])\n",
    "        D=Diagonal(vcat(Λ₁,Λ₂))\n",
    "        Λ=eigvals(D+T.ev[k]*v*transpose(v))\n",
    "        for i=1:n\n",
    "            U[:,i]=(D-Λ[i]*I)\\v\n",
    "            normalize!(view(U,:,i))\n",
    "        end\n",
    "        U[1:k,:]=U₁*U[1:k,:]\n",
    "        U[k+1:n,:]=U₂*U[k+1:n,:]\n",
    "    end\n",
    "    return Λ, U\n",
    "end"
   ]
  },
  {
   "cell_type": "code",
   "execution_count": 25,
   "metadata": {},
   "outputs": [
    {
     "data": {
      "text/plain": [
       "([1.95116, -0.863331, -0.393267, 0.141276, 0.599606, 1.40263], [-0.126853 -0.34026 … 0.373527 -0.332886; -0.350133 0.570751 … 0.235017 -0.630916; … ; -0.456645 -0.241041 … 0.344781 0.455031; -0.158908 0.119049 … 0.66128 0.237122])"
      ]
     },
     "execution_count": 25,
     "metadata": {},
     "output_type": "execute_result"
    }
   ],
   "source": [
    "Λ,U=DivideConquer(T)"
   ]
  },
  {
   "cell_type": "code",
   "execution_count": 26,
   "metadata": {},
   "outputs": [
    {
     "data": {
      "text/plain": [
       "6×2 Array{Float64,2}:\n",
       "  1.95116   -0.863331\n",
       " -0.863331  -0.393267\n",
       " -0.393267   0.141276\n",
       "  0.141276   0.599606\n",
       "  0.599606   1.40263 \n",
       "  1.40263    1.95116 "
      ]
     },
     "execution_count": 26,
     "metadata": {},
     "output_type": "execute_result"
    }
   ],
   "source": [
    "[Λ eigvals(T)]"
   ]
  },
  {
   "cell_type": "code",
   "execution_count": 28,
   "metadata": {},
   "outputs": [
    {
     "data": {
      "text/plain": [
       "5.660122221873535e-15"
      ]
     },
     "execution_count": 28,
     "metadata": {},
     "output_type": "execute_result"
    }
   ],
   "source": [
    "opnorm(T*U-U*Diagonal(Λ))"
   ]
  },
  {
   "cell_type": "markdown",
   "metadata": {
    "collapsed": true
   },
   "source": [
    "## MRRR\n",
    "\n",
    "The method of Multiple Relatively Robust Representations\n",
    "\n",
    "The computation of the tridiagonal EVD which satisfies the\n",
    "error standard error bounds such that the eigenvectors are orthogonal to\n",
    "working precision, all in $O(n^2)$ operations, has been the _holy\n",
    "grail_ of numerical linear algebra for a long time. \n",
    "The method of Multiple Relatively Robust Representations does the job, except in some\n",
    "exceptional cases. The key idea is to implement inverse iteration more\n",
    "carefully. The practical algorithm is quite\n",
    "elaborate and the reader is advised to consider references.\n",
    "\n",
    "The MRRR method is implemented in the LAPACK subroutine \n",
    "[DSTEGR](http://www.netlib.org/lapack/explore-html/d0/d3b/dstegr_8f.html). \n",
    "This routine can compute just the\n",
    "eigenvalues, or both  eigenvalues and eigenvectors."
   ]
  },
  {
   "cell_type": "code",
   "execution_count": 29,
   "metadata": {},
   "outputs": [
    {
     "data": {
      "text/html": [
       "3 methods for generic function <b>stegr!</b>:<ul><li> stegr!(jobz::<b>AbstractChar</b>, range::<b>AbstractChar</b>, dv::<b>AbstractArray{Float64,1}</b>, ev::<b>AbstractArray{Float64,1}</b>, vl::<b>Real</b>, vu::<b>Real</b>, il::<b>Integer</b>, iu::<b>Integer</b>) in LinearAlgebra.LAPACK at <a href=\"file://C:/cygwin/home/Administrator/buildbot/worker/package_win64/build/usr/share/julia/stdlib/v1.1/LinearAlgebra/src/lapack.jl\" target=\"_blank\">C:\\cygwin\\home\\Administrator\\buildbot\\worker\\package_win64\\build\\usr\\share\\julia\\stdlib\\v1.1\\LinearAlgebra\\src\\lapack.jl:3741</a></li> <li> stegr!(jobz::<b>AbstractChar</b>, range::<b>AbstractChar</b>, dv::<b>AbstractArray{Float32,1}</b>, ev::<b>AbstractArray{Float32,1}</b>, vl::<b>Real</b>, vu::<b>Real</b>, il::<b>Integer</b>, iu::<b>Integer</b>) in LinearAlgebra.LAPACK at <a href=\"file://C:/cygwin/home/Administrator/buildbot/worker/package_win64/build/usr/share/julia/stdlib/v1.1/LinearAlgebra/src/lapack.jl\" target=\"_blank\">C:\\cygwin\\home\\Administrator\\buildbot\\worker\\package_win64\\build\\usr\\share\\julia\\stdlib\\v1.1\\LinearAlgebra\\src\\lapack.jl:3741</a></li> <li> stegr!(jobz::<b>AbstractChar</b>, dv::<b>AbstractArray{T,1} where T</b>, ev::<b>AbstractArray{T,1} where T</b>) in LinearAlgebra.LAPACK at <a href=\"file://C:/cygwin/home/Administrator/buildbot/worker/package_win64/build/usr/share/julia/stdlib/v1.1/LinearAlgebra/src/lapack.jl\" target=\"_blank\">C:\\cygwin\\home\\Administrator\\buildbot\\worker\\package_win64\\build\\usr\\share\\julia\\stdlib\\v1.1\\LinearAlgebra\\src\\lapack.jl:3833</a></li> </ul>"
      ],
      "text/plain": [
       "# 3 methods for generic function \"stegr!\":\n",
       "[1] stegr!(jobz::AbstractChar, range::AbstractChar, dv::AbstractArray{Float64,1}, ev::AbstractArray{Float64,1}, vl::Real, vu::Real, il::Integer, iu::Integer) in LinearAlgebra.LAPACK at C:\\cygwin\\home\\Administrator\\buildbot\\worker\\package_win64\\build\\usr\\share\\julia\\stdlib\\v1.1\\LinearAlgebra\\src\\lapack.jl:3741\n",
       "[2] stegr!(jobz::AbstractChar, range::AbstractChar, dv::AbstractArray{Float32,1}, ev::AbstractArray{Float32,1}, vl::Real, vu::Real, il::Integer, iu::Integer) in LinearAlgebra.LAPACK at C:\\cygwin\\home\\Administrator\\buildbot\\worker\\package_win64\\build\\usr\\share\\julia\\stdlib\\v1.1\\LinearAlgebra\\src\\lapack.jl:3741\n",
       "[3] stegr!(jobz::AbstractChar, dv::AbstractArray{T,1} where T, ev::AbstractArray{T,1} where T) in LinearAlgebra.LAPACK at C:\\cygwin\\home\\Administrator\\buildbot\\worker\\package_win64\\build\\usr\\share\\julia\\stdlib\\v1.1\\LinearAlgebra\\src\\lapack.jl:3833"
      ]
     },
     "execution_count": 29,
     "metadata": {},
     "output_type": "execute_result"
    }
   ],
   "source": [
    "methods(LAPACK.stegr!)"
   ]
  },
  {
   "cell_type": "code",
   "execution_count": 30,
   "metadata": {},
   "outputs": [
    {
     "data": {
      "text/plain": [
       "([-0.863331, -0.393267, 0.141276, 0.599606, 1.40263, 1.95116], [-0.34026 -0.327296 … 0.332886 0.126853; 0.570751 0.306433 … 0.630916 0.350133; … ; -0.241041 0.626391 … -0.455031 0.456645; 0.119049 -0.51913 … -0.237122 0.158908])"
      ]
     },
     "execution_count": 30,
     "metadata": {},
     "output_type": "execute_result"
    }
   ],
   "source": [
    "LAPACK.stegr!('V',T.dv,T.ev)"
   ]
  },
  {
   "cell_type": "code",
   "execution_count": 31,
   "metadata": {},
   "outputs": [
    {
     "data": {
      "text/plain": [
       "6-element Array{Float64,1}:\n",
       " -0.8633311493125129 \n",
       " -0.39326717788820553\n",
       "  0.14127563439430557\n",
       "  0.5996059164724927 \n",
       "  1.4026318491877152 \n",
       "  1.9511609543652702 "
      ]
     },
     "execution_count": 31,
     "metadata": {},
     "output_type": "execute_result"
    }
   ],
   "source": [
    "λ"
   ]
  },
  {
   "cell_type": "code",
   "execution_count": 33,
   "metadata": {},
   "outputs": [
    {
     "name": "stdout",
     "output_type": "stream",
     "text": [
      "  1.394645 seconds (43 allocations: 69.399 MiB, 5.10% gc time)\n"
     ]
    }
   ],
   "source": [
    "# Timings\n",
    "@time LAPACK.stegr!('V',Tbig.dv,Tbig.ev);"
   ]
  },
  {
   "cell_type": "code",
   "execution_count": 34,
   "metadata": {},
   "outputs": [],
   "source": [
    "n=1500\n",
    "Tbig=SymTridiagonal(rand(n),rand(n-1));"
   ]
  },
  {
   "cell_type": "code",
   "execution_count": 35,
   "metadata": {},
   "outputs": [
    {
     "name": "stdout",
     "output_type": "stream",
     "text": [
      "  0.273289 seconds (41 allocations: 17.534 MiB)\n"
     ]
    }
   ],
   "source": [
    "@time LAPACK.stegr!('V',Tbig.dv,Tbig.ev);"
   ]
  },
  {
   "cell_type": "code",
   "execution_count": null,
   "metadata": {},
   "outputs": [],
   "source": []
  }
 ],
 "metadata": {
  "anaconda-cloud": {},
  "kernelspec": {
   "display_name": "Julia 1.1.0",
   "language": "julia",
   "name": "julia-1.1"
  },
  "language_info": {
   "file_extension": ".jl",
   "mimetype": "application/julia",
   "name": "julia",
   "version": "1.1.0"
  }
 },
 "nbformat": 4,
 "nbformat_minor": 1
}
