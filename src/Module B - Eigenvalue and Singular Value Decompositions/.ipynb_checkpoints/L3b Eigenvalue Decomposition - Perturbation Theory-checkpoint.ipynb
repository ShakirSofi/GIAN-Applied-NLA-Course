{
 "cells": [
  {
   "cell_type": "markdown",
   "metadata": {},
   "source": [
    "# Eigenvalue Decomposition - Perturbation Theory\n",
    "\n",
    "\n",
    "## Prerequisites\n",
    "\n",
    "The reader should be familiar with basic linear algebra concepts and facts about eigenvalue decomposition. \n",
    "\n",
    "## Competences \n",
    "\n",
    "The reader should be able to understand and check the facts about perturbations of eigenvalues and eigenvectors.\n"
   ]
  },
  {
   "cell_type": "markdown",
   "metadata": {},
   "source": [
    "## Norms\n",
    "\n",
    "In order to measure changes, we need to define norms. For more details and the proofs of the Facts below, see \n",
    "[R. Byers and B. N. Datta, Vector and Matrix Norms, Error Analysis, Efficiency, and Stability][Hog14] and the references therein.\n",
    "\n",
    "[Hog14]: #1 \"L. Hogben, ed., 'Handbook of Linear Algebra', pp. 50.1-50.24, CRC Press, Boca Raton, 2014.\"\n",
    "\n",
    "### Definitions\n",
    "\n",
    "__Norm__ on a vector space $X$ is a real-valued function $\\| \\phantom{x} \\| : X\\to \\mathbb{R}$ with the following properties:\n",
    "\n",
    "1. __Positive definiteness.__ $\\| x\\|\\geq 0$ and $\\|x\\|=0$ if and only if $x$ is the zero vector.\n",
    "2. __Homogeneity.__ $\\| \\lambda x\\|=|\\lambda| \\|x\\|$ \n",
    "3. __Triangle inequality.__ $\\| x+y\\| \\leq \\|x\\|+\\|y\\|$\n",
    "\n",
    "Commonly encountered vector norms for $x\\in\\mathbb{C}^n$ are:\n",
    "\n",
    "* __H&ouml;lder norm__ or $p$-__norm__: for $p\\geq 1$, $\\|x\\|_p=\\big(|x_1|^p+|x_2|^p+\\cdots |x_n|^p)^{1/p}$,\n",
    "* __Sum norm__ or $1$-__norm__: $\\|x\\|_1=|x_1|+|x_2|+\\cdots |x_n|$,\n",
    "* __Euclidean norm__ or $2$-__norm__: $\\|x\\|_2=\\sqrt{|x_1|^2+|x_2|^2+\\cdots |x_n|^2}$,\n",
    "* __Sup-norm__ or $\\infty$-__norm__: $\\|x\\|_\\infty = \\max\\limits_{i=1,\\ldots,n} |x_i|$.\n",
    "\n",
    "Vector norm is __absolute__ if $\\||x|\\|=\\|x\\|$.\n",
    "\n",
    "Vector norm is __monotone__ if $|x|\\leq |y|$ implies $\\|x\\|\\leq \\|y\\|$. \n",
    "\n",
    "From every vector norm we can derive a corresponding __induced__ matrix norm (also, __operator norm__ or __natural norm__):\n",
    "\n",
    "$$\\|A\\| = \\max\\limits_{x\\neq 0} \\frac{\\|Ax\\|}{\\|x\\|}=\\max\\limits_{\\|x\\|=1} \\|Ax\\|.$$\n",
    "\n",
    "For matrix $A\\in\\mathbb{C}^{m\\times n}$ we define:\n",
    "\n",
    "* __Maximum absolute column sum norm__: $\\|A\\|_1=\\max\\limits_{1\\leq j \\leq n} \\sum_{i=1}^m |a_{ij}|$,\n",
    "* __Spectral norm__: $\\|A\\|_2=\\sqrt{\\rho(A^*A)}=\\sigma_{\\max}(A)$  (largest singular value of $A$),\n",
    "* __Maximum absolute row sum norm__: $\\|A\\|_{\\infty}=\\max\\limits_{1\\leq i \\leq m} \\sum_{j=1}^n |a_{ij}|$,\n",
    "* __Euclidean norm__ or __Frobenius norm__: \n",
    "$\\|A\\|_F =\\sqrt{\\sum_{i,j} |a_{ij}|^2}=\\sqrt{\\mathop{\\mathrm{tr}}(A^*A)}$.\n",
    "\n",
    "Matrix norm is __consistent__ if $\\|A\\cdot B\\|\\leq \\|A\\| \\cdot \\| B\\|$, where $A$ and $B$ are compatible for matrix multiplication.\n",
    "\n",
    "Matrix norm is __absolute__ if $\\||A|\\|=\\|A\\|$.\n",
    "\n",
    "### Examples"
   ]
  },
  {
   "cell_type": "code",
   "execution_count": 1,
   "metadata": {},
   "outputs": [
    {
     "data": {
      "text/plain": [
       "5-element Array{Int64,1}:\n",
       " -2\n",
       " -3\n",
       " -2\n",
       "  4\n",
       "  2"
      ]
     },
     "execution_count": 1,
     "metadata": {},
     "output_type": "execute_result"
    }
   ],
   "source": [
    "import Random\n",
    "Random.seed!(425)\n",
    "x=rand(-4:4,5)"
   ]
  },
  {
   "cell_type": "code",
   "execution_count": 2,
   "metadata": {},
   "outputs": [
    {
     "data": {
      "text/plain": [
       "(13.0, 6.082762530298219, 4.0)"
      ]
     },
     "execution_count": 2,
     "metadata": {},
     "output_type": "execute_result"
    }
   ],
   "source": [
    "using LinearAlgebra\n",
    "norm(x,1), norm(x), norm(x,Inf)"
   ]
  },
  {
   "cell_type": "code",
   "execution_count": 3,
   "metadata": {},
   "outputs": [
    {
     "data": {
      "text/plain": [
       "7×5 Array{Int64,2}:\n",
       "  0  -3   2   0   4\n",
       "  1   1   4  -3  -3\n",
       "  3   2   1  -3   0\n",
       " -4  -4  -2  -1  -3\n",
       "  2   3  -4   2   0\n",
       " -1  -1   4  -3  -3\n",
       " -1  -3  -2   4   4"
      ]
     },
     "execution_count": 3,
     "metadata": {},
     "output_type": "execute_result"
    }
   ],
   "source": [
    "A=rand(-4:4,7,5)"
   ]
  },
  {
   "cell_type": "code",
   "execution_count": 4,
   "metadata": {},
   "outputs": [
    {
     "data": {
      "text/plain": [
       "(81.0, 15.7797338380595, 15.7797338380595, 4.0, 11.053558535027305, 19.0, 14.0)"
      ]
     },
     "execution_count": 4,
     "metadata": {},
     "output_type": "execute_result"
    }
   ],
   "source": [
    "norm(A,1), norm(A), norm(A,2), norm(A,Inf), \n",
    "opnorm(A), opnorm(A,1), opnorm(A,Inf)"
   ]
  },
  {
   "cell_type": "code",
   "execution_count": 5,
   "metadata": {},
   "outputs": [
    {
     "data": {
      "text/plain": [
       "15.7797338380595"
      ]
     },
     "execution_count": 5,
     "metadata": {},
     "output_type": "execute_result"
    }
   ],
   "source": [
    "# Frobenius norm\n",
    "norm(vec(A)) "
   ]
  },
  {
   "cell_type": "markdown",
   "metadata": {},
   "source": [
    "### Facts\n",
    "\n",
    "\n",
    "1. $\\|x\\|_1$, $\\|x\\|_2$, $\\|x\\|_\\infty$ and $\\|x\\|_p$ are absolute and monotone vector norms.\n",
    "2. A vector norm is absolute iff it is monotone.\n",
    "3. __Convergence.__ $x_k\\to x_*$ iff for any vector norm $\\|x_k-x_*\\|\\to 0$.\n",
    "3. Any two vector norms are equivalent in the sense that, for all $x$ and some $\\alpha,\\beta>0$\n",
    "$$\n",
    "\\alpha \\|x\\|_\\mu \\leq \\|x\\|_\\nu \\leq \\beta \\|x\\|_\\mu.\n",
    "$$\n",
    "In particular:\n",
    "   * $\\|x\\|_2 \\leq \\|x\\|_1\\leq \\sqrt{n}\\|x\\|_2$,\n",
    "   * $\\|x\\|_\\infty \\leq \\|x\\|_2\\leq \\sqrt{n}\\|x\\|_\\infty$,\n",
    "   * $\\|x\\|_\\infty \\leq \\|x\\|_1\\leq n\\|x\\|_\\infty$.\n",
    "2. __Cauchy-Schwartz inequality.__ $|x^*y|\\leq \\|x\\|_2\\|y\\|_2$.\n",
    "3. __H&ouml;lder inequality.__ if $p,q\\geq 1$ and $\\frac{1}{p}+\\frac{1}{q}=1$, then $|x^*y|\\leq \\|x\\|_p\\|y\\|_q$.\n",
    "1. $\\|A\\|_1$, $\\|A\\|_2$ and $\\|A\\|_\\infty$ are induced by the corresponding vector norms.\n",
    "2. $\\|A\\|_F$ is not an induced norm.\n",
    "3. $\\|A\\|_1$, $\\|A\\|_2$, $\\|A\\|_\\infty$ and $\\|A\\|_F$ are consistent.\n",
    "4. $\\|A\\|_1$, $\\|A\\|_\\infty$ and $\\|A\\|_F$ are absolute. However, $\\||A|\\|_2\\neq \\|A\\|_2$.\n",
    "5. Any two matrix norms are equivalent in the sense that, for all $A$ and some $\\alpha,\\beta>0$\n",
    "$$\n",
    "\\alpha \\|A\\|_\\mu \\leq \\|A\\|_\\nu \\leq \\beta \\|A\\|_\\mu.\n",
    "$$\n",
    "In particular:\n",
    "   * $\\frac{1}{\\sqrt{n}}\\|A\\|_\\infty \\leq \\|A\\|_2\\leq \\sqrt{m}\\|A\\|_\\infty$,\n",
    "   * $\\|A\\|_2 \\leq \\|A\\|_F\\leq \\sqrt{n}\\|A\\|_2$,\n",
    "   * $\\frac{1}{\\sqrt{m}}\\|A\\|_1 \\leq \\|A\\|_2\\leq \\sqrt{n}\\|A\\|_1$.\n",
    "6. $\\|A\\|_2\\leq \\sqrt{\\|A\\|_1 \\|A\\|_\\infty}$.\n",
    "7. $\\|AB\\|_F\\leq \\|A\\|_F\\|B\\|_2$ and $\\|AB\\|_F\\leq \\|A\\|_2\\|B\\|_F$.\n",
    "8. If $A=xy^*$, then $\\|A\\|_2=\\|A\\|_F=\\|x\\|_2\\|y\\|_2$.\n",
    "9. $\\|A^*\\|_2=\\|A\\|_2$ and $\\|A^*\\|_F=\\|A\\|_F$.\n",
    "10. For a unitary matrix $U$ of compatible dimension,\n",
    "$$\\|AU\\|_2=\\|A\\|_2,\\quad \\|AU\\|_F=\\|A\\|_F,\\quad\n",
    "\\|UA\\|_2=\\|A\\|_2,\\quad  \\|UA\\|_F=\\|A\\|_F.\n",
    "$$\n",
    "11. For $A$ square, $\\rho(A)\\leq\\|A\\|$.\n",
    "12. For $A$ square, $A^k\\to 0$ iff $>\\rho(A)<1$."
   ]
  },
  {
   "cell_type": "code",
   "execution_count": 6,
   "metadata": {},
   "outputs": [
    {
     "data": {
      "text/plain": [
       "(19.0, 19.0, 14.0, 14.0, 15.7797338380595, 15.7797338380595, 11.053558535027305, 14.024662857881664)"
      ]
     },
     "execution_count": 6,
     "metadata": {},
     "output_type": "execute_result"
    }
   ],
   "source": [
    "# Absolute norms\n",
    "opnorm(A,1), opnorm(abs.(A),1), opnorm(A,Inf), opnorm(abs.(A),Inf), norm(A),\n",
    "norm(abs.(A)),  opnorm(A),opnorm(abs.(A))"
   ]
  },
  {
   "cell_type": "code",
   "execution_count": 7,
   "metadata": {},
   "outputs": [
    {
     "data": {
      "text/plain": [
       "(0.15971914124998499, 11.053558535027305, 37.04051835490427)"
      ]
     },
     "execution_count": 7,
     "metadata": {},
     "output_type": "execute_result"
    }
   ],
   "source": [
    "# Equivalence of norms\n",
    "m,n=size(A)\n",
    "opnorm(A,Inf)\\sqrt(n),opnorm(A), sqrt(m)*opnorm(A,Inf)"
   ]
  },
  {
   "cell_type": "code",
   "execution_count": 8,
   "metadata": {},
   "outputs": [
    {
     "data": {
      "text/plain": [
       "(11.053558535027305, 15.7797338380595, 24.716508277594045)"
      ]
     },
     "execution_count": 8,
     "metadata": {},
     "output_type": "execute_result"
    }
   ],
   "source": [
    "opnorm(A), norm(A), sqrt(n)*opnorm(A)"
   ]
  },
  {
   "cell_type": "code",
   "execution_count": 9,
   "metadata": {},
   "outputs": [
    {
     "data": {
      "text/plain": [
       "(0.1392500690033995, 11.053558535027305, 42.48529157249601)"
      ]
     },
     "execution_count": 9,
     "metadata": {},
     "output_type": "execute_result"
    }
   ],
   "source": [
    "opnorm(A,1)\\sqrt(m),opnorm(A), sqrt(n)*opnorm(A,1)"
   ]
  },
  {
   "cell_type": "code",
   "execution_count": 10,
   "metadata": {},
   "outputs": [
    {
     "data": {
      "text/plain": [
       "(11.053558535027305, 16.30950643030009)"
      ]
     },
     "execution_count": 10,
     "metadata": {},
     "output_type": "execute_result"
    }
   ],
   "source": [
    "# Fact 12\n",
    "opnorm(A), sqrt(opnorm(A,1)*opnorm(A,Inf))"
   ]
  },
  {
   "cell_type": "code",
   "execution_count": 11,
   "metadata": {},
   "outputs": [
    {
     "data": {
      "text/plain": [
       "(26.159344584614846, 56.03006853665045, 42.775144883730995)"
      ]
     },
     "execution_count": 11,
     "metadata": {},
     "output_type": "execute_result"
    }
   ],
   "source": [
    "# Fact 13\n",
    "B=rand(n,rand(1:9))\n",
    "norm(A*B), norm(A)*opnorm(B), opnorm(A)*norm(B)"
   ]
  },
  {
   "cell_type": "code",
   "execution_count": 12,
   "metadata": {},
   "outputs": [
    {
     "data": {
      "text/plain": [
       "(6.378468557684746, 6.378468557684745, 6.378468557684744)"
      ]
     },
     "execution_count": 12,
     "metadata": {},
     "output_type": "execute_result"
    }
   ],
   "source": [
    "# Fact 14\n",
    "x=rand(10)+im*rand(10)\n",
    "y=rand(10)+im*rand(10)\n",
    "A=x*y'\n",
    "opnorm(A), norm(A), norm(x)*norm(y)"
   ]
  },
  {
   "cell_type": "code",
   "execution_count": 13,
   "metadata": {},
   "outputs": [
    {
     "data": {
      "text/plain": [
       "(16.043071925866585, 16.043071925866588, 22.47220505424423, 22.47220505424423)"
      ]
     },
     "execution_count": 13,
     "metadata": {},
     "output_type": "execute_result"
    }
   ],
   "source": [
    "# Fact 15\n",
    "A=rand(-4:4,7,5)+im*rand(-4:4,7,5)\n",
    "opnorm(A), opnorm(A'), norm(A), norm(A')"
   ]
  },
  {
   "cell_type": "code",
   "execution_count": 14,
   "metadata": {},
   "outputs": [],
   "source": [
    "# Unitary invariance - generate random unitary matrix U\n",
    "U,R=qr(rand(ComplexF64,size(A)));"
   ]
  },
  {
   "cell_type": "code",
   "execution_count": 15,
   "metadata": {},
   "outputs": [
    {
     "data": {
      "text/plain": [
       "(16.043071925866585, 16.043071925866588, 22.47220505424423, 22.472205054244235)"
      ]
     },
     "execution_count": 15,
     "metadata": {},
     "output_type": "execute_result"
    }
   ],
   "source": [
    "opnorm(A), opnorm(U*A), norm(A), norm(U*A)"
   ]
  },
  {
   "cell_type": "code",
   "execution_count": 16,
   "metadata": {},
   "outputs": [
    {
     "data": {
      "text/plain": [
       "(5.008909150811611, 6.301643716968738, 6.929989487340456, 5.266351598234331, 5.814158973116375)"
      ]
     },
     "execution_count": 16,
     "metadata": {},
     "output_type": "execute_result"
    }
   ],
   "source": [
    "# Spectral radius\n",
    "A=rand(7,7)+im*rand(7,7)\n",
    "maximum(abs,eigvals(A)), opnorm(A,Inf), opnorm(A,1), opnorm(A), norm(A)"
   ]
  },
  {
   "cell_type": "code",
   "execution_count": 17,
   "metadata": {},
   "outputs": [
    {
     "name": "stdout",
     "output_type": "stream",
     "text": [
      "maximum(abs, eigvals(B)) = 0.7146488908665032\n"
     ]
    },
    {
     "data": {
      "text/plain": [
       "2.710327916496531e-15"
      ]
     },
     "execution_count": 17,
     "metadata": {},
     "output_type": "execute_result"
    }
   ],
   "source": [
    "# Fact 18\n",
    "B=A/(maximum(abs,eigvals(A))+2)\n",
    "@show maximum(abs,eigvals(B))\n",
    "norm(B^100)"
   ]
  },
  {
   "cell_type": "markdown",
   "metadata": {},
   "source": [
    "## Errors and condition numbers\n",
    "\n",
    "We want to answer the question:\n",
    "\n",
    "__How much the value of a function changes with respect to the change of its argument?__\n",
    "\n",
    "### Definitions\n",
    "\n",
    "For function $f(x)$ and argument $x$, the __absolute error__ with respect to the __perturbation__ of the argument \n",
    "$\\delta x$ is \n",
    "\n",
    "$$\n",
    "\\| f(x+\\delta x)-f(x)\\| = \\frac{\\| f(x+\\delta x)-f(x)\\|}{\\| \\delta x \\|} \\|\\delta x\\| \\equiv \\kappa \\|\\delta x\\|.\n",
    "$$\n",
    "\n",
    "The  __condition__ or  __condition number__ $\\kappa$ tells how much does the perturbation of the argument increase. (Its form resembles derivative.)\n",
    "\n",
    "Similarly, the __relative error__ with respect to the relative perturbation of the argument is\n",
    "\n",
    "$$\n",
    "\\frac{\\| f(x+\\delta x)-f(x)\\|}{\\| f(x) \\|}= \\frac{\\| f(x+\\delta x)-f(x)\\|\\cdot  \\|x\\| }{\\|\\delta x\\| \\cdot\\| f(x)\\|}\n",
    "\\cdot \\frac{\\|\\delta x\\|}{\\|x\\|} \\equiv \\kappa_{rel} \\frac{\\|\\delta x\\|}{\\|x\\|}.\n",
    "$$"
   ]
  },
  {
   "cell_type": "markdown",
   "metadata": {},
   "source": [
    "## Peturbation bounds\n",
    "\n",
    "### Definitions\n",
    "\n",
    "Let $A\\in\\mathbb{C}^{n\\times n}$.\n",
    "\n",
    "Pair $(\\lambda,x)\\in\\mathbb{C}\\times\\mathbb{C}^{n\\times n}$ is an __eigenpair__ of $A$ if $x\\neq 0$ and $Ax=\\lambda x$.\n",
    "\n",
    "Triplet $(y,\\lambda,x)\\in\\times\\mathbb{C}^{n}\\times\\mathbb{C}\\times\\mathbb{C}^{n}$ is an __eigentriplet__ of $A$ if $x,y\\neq 0$ and $Ax=\\lambda x$ and $y^*A=\\lambda y^*$.\n",
    "\n",
    "__Eigenvalue matrix__ is a diagonal matrix $\\Lambda=\\mathop{\\mathrm{diag}}(\\lambda_1,\\lambda_2,\\ldots,\\lambda_n)$.\n",
    "\n",
    "If all eigenvalues are real, they can be increasingly ordered. $\\Lambda^\\uparrow$ is the eigenvalue matrix of increasingly ordered eigenvalues.\n",
    "\n",
    "$\\tau$ is a __permutation__ of $\\{1,2,\\ldots,n\\}$.\n",
    "\n",
    "$\\tilde A=A+\\Delta A$ is a __perturbed matrix__, where $\\Delta A$ is __perturbation__. $(\\tilde \\lambda,\\tilde x)$ are the eigenpairs of $\\tilde A$.\n",
    "\n",
    "__Condition number__ of a nonsingular matrix $X$ is $\\kappa(X)=\\|X\\| \\|X^{-1}\\|$.\n",
    "\n",
    "Let $X,Y\\in\\mathbb{C}^{n\\times k}$ with $\\mathop{\\mathrm{rank}}(X)=\\mathop{\\mathrm{rank}}(Y)=k$. The __canonical angles__ between their column spaces, $\\theta_i$, are defined by $\\cos \\theta_i=\\sigma_i$, where $\\sigma_i$ are the singular values of the matrix\n",
    "$$(Y^*Y)^{-1/2}Y^*X(X^*X)^{-1/2}.$$ \n",
    "The __canonical angle matrix__ between $X$ and $Y$ is \n",
    "$$\\Theta(X,Y)=\\mathop{\\mathrm{diag}}(\\theta_1,\\theta_2,\\ldots,\\theta_k).\n",
    "$$\n",
    "    "
   ]
  },
  {
   "cell_type": "markdown",
   "metadata": {},
   "source": [
    "### Facts\n",
    "\n",
    "Bounds become more strict as matrices have more structure. \n",
    "Many bounds have versions in spectral norm and Frobenius norm.\n",
    "For more details and the proofs of the Facts below, see \n",
    "[R.-C. Li, Matrix Perturbation Theory][Hog14], and the references therein.\n",
    "\n",
    "[Hog14]: #1 \"L. Hogben, ed., 'Handbook of Linear Algebra', pp. 21.1-21.20, CRC Press, Boca Raton, 2014.\"\n",
    "\n",
    "1. There exists $\\tau$ such that\n",
    "$$\\|\\Lambda- \\tilde\\Lambda_\\tau\\|_2\\leq 4(\\|A\\|_2+\\|\\tilde A\\|_2)^{1-1/n}\\|\\Delta A\\|_2^{1/n}.$$\n",
    "\n",
    "2. __First-order perturbation bounds.__ Let $(y,\\lambda,x)$ be an eigentriplet of a simple $\\lambda$. $\\Delta A$ changes $\\lambda$ to \n",
    "$\\tilde\\lambda=\\lambda+ \\delta\\lambda$, where\n",
    "$$\n",
    "\\delta\\lambda=\\frac{y^*(\\Delta A)x}{y^*x}+O(\\|\\Delta A\\|_2^2).\n",
    "$$\n",
    "\n",
    "3. Let $\\lambda$ be a semisimple eigenvalue of $A$ with multiplicitiy $k$, and let $X,Y\\in \\mathbb{C}^{n\\times k}$ be the matrices of the corresponding right and left eigenvectors, that is, $AX=\\lambda X$ and $Y^*A=\\lambda Y^*$, such that $Y^*X=I_k$. $\\Delta A$ changes the $k$ copies of $\\mu$ to $\\tilde \\mu=\\mu+\\delta\\mu_i$, where $\\delta\\mu_i$ are the eigenvalues of $Y^*(\\Delta A) X$ up to $O(\\|\\Delta A\\|_2^2$.\n",
    "\n",
    "3. Perturbations of an inverse matrix are as follows: if $\\|A\\|_p<1$, then $I-A$ is nonsingular and\n",
    "$$\n",
    "(I-A)^{-1}=\\sum\\limits_{k=0}^\\infty A^k\n",
    "$$\n",
    "with\n",
    "$$\n",
    "\\|(I-A)^{-1}\\|_p \\leq \\frac{1}{1-\\|A\\|_p},\\qquad \n",
    "\\|(I-A)^{-1}-I\\|_p \\leq \\frac{\\|A\\|_p}{1-\\|A\\|_p}.\n",
    "$$\n",
    "\n",
    "4. __Geršgorin Circle Theorem.__ If $X^{-1} A X=D+F$, where $D=\\mathop{\\mathrm{diag}}(d_1,\\ldots,d_n)$ \n",
    "and $F$ has zero diagonal entries, then\n",
    "$$\\sigma(A) \\subseteq \\bigcup\\limits_{i=1}^n D_i,$$\n",
    "where \n",
    "$$D_i=\\big\\{z\\in\\mathbb{C} : |z-d_i| \\leq \\sum\\limits_{j=1}^n |f_{ij}| \\big\\}.\n",
    "$$\n",
    "Moreover, by continuity, if a connected component of $D$ consists of $k$ circles, it contains $k$ eigenvalues.\n",
    "\n",
    "4. __Bauer-Fike Theorem.__ If $A$ is diagonalizable and $A=X\\Lambda X^{-1}$ is its eigenvalue decomposition, then\n",
    "$$\n",
    "\\max_i\\min_j |\\tilde \\lambda_i -\n",
    "\\lambda_j|\\leq \\|X^{-1}(\\Delta A)X\\|_p\\leq \\kappa_p(X)\\|\\Delta A\\|_p.\n",
    "$$\n",
    "\n",
    "5. If $A$ and $\\tilde A$ are diagonalizable, there exists $\\tau$ such that\n",
    "$$\\|\\Lambda-\\tilde\\Lambda_\\tau\\|_F\\leq \\sqrt{\\kappa_2(X)\\kappa_2(\\tilde X)}\\|\\Delta A\\|_F.\n",
    "$$ If $\\Lambda$ and  $\\tilde\\Lambda$ are real, then\n",
    "$$\n",
    "\\|\\Lambda^\\uparrow-\\tilde\\Lambda^\\uparrow\\|_{2,F} \\leq \\sqrt{\\kappa_2(X)\\kappa_2(\\tilde X)}\\|\\Delta A\\|_{2,F}.\n",
    "$$\n",
    "\n",
    "6. If $A$ is normal, there exists $\\tau$ such that $\\|\\Lambda-\\tilde\\Lambda_\\tau\\|_F\\leq\\sqrt{n}\\|\\Delta A\\|_F$.\n",
    "\n",
    "7. __Hoffman-Wielandt Theorem.__ If $A$ and $\\tilde A$ are normal, there exists $\\tau$ such that $\\|\\Lambda-\\tilde\\Lambda_\\tau\\|_F\\leq\\|\\Delta A\\|_F$.\n",
    "\n",
    "8. If $A$ and $\\tilde A$ are Hermitian, for any unitarily invariant norm $\\|\\Lambda^\\uparrow-\\tilde\\Lambda^\\uparrow\\| \\leq \\|\\Delta A\\|$. In particular,\n",
    "\\begin{align*}\n",
    "\\max_i|\\lambda^\\uparrow_i-\\tilde\\lambda^\\uparrow_i|&\\leq \\|\\Delta A\\|_2,\\\\ \n",
    "\\sqrt{\\sum_i(\\lambda^\\uparrow_i-\\tilde\\lambda^\\uparrow_i)^2}&\\leq \\|\\Delta A\\|_F.\n",
    "\\end{align*}\n",
    "\n",
    "9. __Residual bounds.__ Let $A$ be Hermitian. For some $\\tilde\\lambda\\in\\mathbb{R}$ and $\\tilde x\\in\\mathbb{C}^n$ with $\\|\\tilde x\\|_2=1$, define __residual__ $r=A\\tilde x-\\tilde\\lambda\\tilde x$. Then\n",
    "$|\\tilde\\lambda-\\lambda|\\leq \\|r\\|_2$ for some $\\lambda\\in\\sigma(A)$.\n",
    "\n",
    "9. Let, in addition,  $\\tilde\\lambda=\\tilde x^* A\\tilde x$, let $\\lambda$ be closest to $\\tilde\\lambda$ and $x$ be its unit eigenvector, and let \n",
    "$$\\eta=\\mathop{\\mathrm{gap}}(\\tilde\\lambda)= \\min_{\\lambda\\neq\\mu\\in\\sigma(A)}|\\tilde\\lambda-\\mu|.$$\n",
    "If $\\eta>0$, then\n",
    "$$ |\\tilde\\lambda-\\lambda|\\leq \\frac{\\|r\\|_2^2}{\\eta},\\quad \\sin\\theta(x,\\tilde x)\\leq \\frac{\\|r\\|_2}{\\eta}.\n",
    "$$\n",
    "\n",
    "10. Let $A$ be Hermitian, $X\\in\\mathbb{C}^{n\\times k}$ have full column rank, and $M\\in\\mathcal{H}_k$ having eigenvalues \n",
    "$\\mu_1\\leq\\mu_2\\leq\\cdots\\leq\\mu_k$. Set $R=AX-XM$. Then\n",
    "there exist $\\lambda_{i_1}\\leq\\lambda_{i_2}\\leq\\cdots\\leq\\lambda_{i_k}\\in\\sigma(A)$ such that\n",
    "\\begin{align*}    \n",
    "\\max_{1\\leq j\\leq k} |\\mu_j-\\lambda_{i_j}|& \\leq \\frac{\\|R\\|_2}{\\sigma_{\\min}(X)},\\\\\n",
    "\\sqrt{\\sum_{j=1}^k (\\mu_j-\\lambda_{i_j})^2}&\\leq \\frac{\\|R\\|_F}{\\sigma_{\\min}(X)}.\n",
    "\\end{align*}\n",
    "(The indices $i_j$ need not be the same in the above formulae.)\n",
    "\n",
    "10. If, additionally, $X^*X=I$ and $M=X^*AX$, and if all but $k$ of $A$'s eigenvalues differ from every one of $M$'s eigenvalues by at least $\\eta>0$, then\n",
    "$$\\sqrt{\\sum_{j=1}^k (\\mu_j-\\lambda_{i_j})^2}\\leq \\frac{\\|R\\|_F^2}{\\eta\\sqrt{1-\\|R\\|_F^2/\\eta^2}}.$$\n",
    "\n",
    "11. Let $A=\\begin{bmatrix} M & E^* \\\\ E & H \\end{bmatrix}$ and $\\tilde A=\\begin{bmatrix} M & 0 \\\\ 0 & H \\end{bmatrix}$ be Hermitian, and set $\\eta=\\min |\\mu-\\nu|$ over all $\\mu\\in\\sigma(M)$ and $\\nu\\in\\sigma(H)$. Then\n",
    "$$ \n",
    "\\max |\\lambda_j^\\uparrow -\\tilde\\lambda_j^\\uparrow| \\leq \\frac{2\\|E\\|_2^2}{\\eta+\\sqrt{\\eta^2+4\\|E\\|_2^2}}.\n",
    "$$\n",
    "\n",
    "14. Let \n",
    "$$\n",
    "\\begin{bmatrix} X_1^*\\\\ X_2^* \\end{bmatrix} A \\begin{bmatrix} X_1 & X_2 \\end{bmatrix}=\n",
    "\\begin{bmatrix} A_1 &  \\\\ & A_2 \\end{bmatrix}, \\quad \\begin{bmatrix} X_1 & X_2 \\end{bmatrix} \\textrm{unitary},\n",
    "\\quad X_1\\in\\mathbb{C}^{n\\times k}.\n",
    "$$\n",
    "Let $Q\\in\\mathbb{C}^{n\\times k}$ have orthonormal columns and for a Hermitian $k\\times k$ matrix $M$ set\n",
    "$R=AQ-QM$. Let $\\eta=\\min|\\mu-\\nu|$ over all $\\mu\\in\\sigma(M)$ and $\\nu\\in\\sigma(A_2)$. If $\\eta > 0$, then\n",
    "$$\n",
    "\\|\\sin\\Theta(X_1,Q)\\|_F\\leq \\frac{\\|R\\|_F}{\\eta}.\n",
    "$$"
   ]
  },
  {
   "cell_type": "markdown",
   "metadata": {},
   "source": [
    "### Example - Nondiagonalizable matrix"
   ]
  },
  {
   "cell_type": "code",
   "execution_count": 18,
   "metadata": {},
   "outputs": [
    {
     "data": {
      "text/plain": [
       "3×3 Array{Int64,2}:\n",
       " -3    7  -1\n",
       "  6    8  -2\n",
       " 72  -28  19"
      ]
     },
     "execution_count": 18,
     "metadata": {},
     "output_type": "execute_result"
    }
   ],
   "source": [
    "A=[-3 7 -1; 6 8 -2; 72 -28 19]"
   ]
  },
  {
   "cell_type": "code",
   "execution_count": 19,
   "metadata": {},
   "outputs": [
    {
     "data": {
      "text/plain": [
       "3-element Array{Float64,1}:\n",
       " -6.000000000000005\n",
       " 15.000000241477958\n",
       " 14.999999758522048"
      ]
     },
     "execution_count": 19,
     "metadata": {},
     "output_type": "execute_result"
    }
   ],
   "source": [
    "# (Right) eigenvectors\n",
    "λ,X=eigen(A)\n",
    "λ"
   ]
  },
  {
   "cell_type": "code",
   "execution_count": 20,
   "metadata": {},
   "outputs": [
    {
     "data": {
      "text/plain": [
       "3×3 Array{Float64,2}:\n",
       "  0.235702   0.218218  -0.218218\n",
       " -0.235702   0.436436  -0.436436\n",
       " -0.942809  -0.872872   0.872872"
      ]
     },
     "execution_count": 20,
     "metadata": {},
     "output_type": "execute_result"
    }
   ],
   "source": [
    "X"
   ]
  },
  {
   "cell_type": "code",
   "execution_count": 21,
   "metadata": {},
   "outputs": [
    {
     "data": {
      "text/plain": [
       "9.091581997455394e7"
      ]
     },
     "execution_count": 21,
     "metadata": {},
     "output_type": "execute_result"
    }
   ],
   "source": [
    "cond(X)"
   ]
  },
  {
   "cell_type": "code",
   "execution_count": 22,
   "metadata": {},
   "outputs": [
    {
     "data": {
      "text/plain": [
       "Eigen{Complex{Float64},Complex{Float64},Array{Complex{Float64},2},Array{Complex{Float64},1}}\n",
       "eigenvalues:\n",
       "3-element Array{Complex{Float64},1}:\n",
       " -5.999999999999998 + 0.0im                  \n",
       " 14.999999999999993 + 2.0088262607214127e-7im\n",
       " 14.999999999999993 - 2.0088262607214127e-7im\n",
       "eigenvectors:\n",
       "3×3 Array{Complex{Float64},2}:\n",
       "     0.894427+0.0im      0.970143+0.0im             0.970143-0.0im       \n",
       "    -0.447214+0.0im  -7.58506e-16-1.62404e-8im  -7.58506e-16+1.62404e-8im\n",
       " -6.07504e-17+0.0im      0.242536+4.0601e-9im       0.242536-4.0601e-9im "
      ]
     },
     "execution_count": 22,
     "metadata": {},
     "output_type": "execute_result"
    }
   ],
   "source": [
    "# Left eigenvectors\n",
    "λ1,Y=eigen(Matrix(A'))"
   ]
  },
  {
   "cell_type": "code",
   "execution_count": 23,
   "metadata": {},
   "outputs": [
    {
     "data": {
      "text/plain": [
       "1×3 Adjoint{Complex{Float64},Array{Complex{Float64},1}}:\n",
       " 2.34268e-7+1.94885e-7im  9.60124e-15-3.9217e-15im  5.8567e-8+4.87212e-8im"
      ]
     },
     "execution_count": 23,
     "metadata": {},
     "output_type": "execute_result"
    }
   ],
   "source": [
    "# Try k=2,3\n",
    "k=3\n",
    "Y[:,k]'*A-λ[k]*Y[:,k]'"
   ]
  },
  {
   "cell_type": "code",
   "execution_count": 24,
   "metadata": {},
   "outputs": [
    {
     "data": {
      "text/plain": [
       "3×3 Array{Float64,2}:\n",
       " -2.96795    7.04707  -0.999704\n",
       "  6.01817    8.02801  -1.96442 \n",
       " 72.0172   -27.9568   19.0161  "
      ]
     },
     "execution_count": 24,
     "metadata": {},
     "output_type": "execute_result"
    }
   ],
   "source": [
    "ΔA=rand(3,3)/20\n",
    "B=A+ΔA"
   ]
  },
  {
   "cell_type": "code",
   "execution_count": 25,
   "metadata": {},
   "outputs": [
    {
     "data": {
      "text/plain": [
       "0.08966213190999892"
      ]
     },
     "execution_count": 25,
     "metadata": {},
     "output_type": "execute_result"
    }
   ],
   "source": [
    "norm(ΔA)"
   ]
  },
  {
   "cell_type": "code",
   "execution_count": 26,
   "metadata": {},
   "outputs": [
    {
     "data": {
      "text/plain": [
       "Eigen{Complex{Float64},Complex{Float64},Array{Complex{Float64},2},Array{Complex{Float64},1}}\n",
       "eigenvalues:\n",
       "3-element Array{Complex{Float64},1}:\n",
       " -5.959852183114043 + 0.0im               \n",
       " 15.018000044707051 + 0.7293167022721797im\n",
       " 15.018000044707051 - 0.7293167022721797im\n",
       "eigenvectors:\n",
       "3×3 Array{Complex{Float64},2}:\n",
       " -0.236204+0.0im  -0.212242+0.0389745im  -0.212242-0.0389745im\n",
       "   0.23407+0.0im  -0.421248+0.0775078im  -0.421248-0.0775078im\n",
       "   0.94309+0.0im   0.877483+0.0im         0.877483-0.0im      "
      ]
     },
     "execution_count": 26,
     "metadata": {},
     "output_type": "execute_result"
    }
   ],
   "source": [
    "μ,Z=eigen(B)"
   ]
  },
  {
   "cell_type": "code",
   "execution_count": 27,
   "metadata": {},
   "outputs": [
    {
     "data": {
      "text/plain": [
       "0.040147816885962584 + 0.0im"
      ]
     },
     "execution_count": 27,
     "metadata": {},
     "output_type": "execute_result"
    }
   ],
   "source": [
    "# Fact 2\n",
    "δλ=μ[1]-λ[1]"
   ]
  },
  {
   "cell_type": "code",
   "execution_count": 28,
   "metadata": {},
   "outputs": [
    {
     "data": {
      "text/plain": [
       "0.03991290270173844 + 0.0im"
      ]
     },
     "execution_count": 28,
     "metadata": {},
     "output_type": "execute_result"
    }
   ],
   "source": [
    "k=1\n",
    "Y[:,k]'*ΔA*X[:,k]/(Y[:,k]⋅X[:,k])"
   ]
  },
  {
   "cell_type": "markdown",
   "metadata": {},
   "source": [
    "### Example - Jordan form"
   ]
  },
  {
   "cell_type": "code",
   "execution_count": 29,
   "metadata": {},
   "outputs": [
    {
     "data": {
      "text/plain": [
       "10×10 Bidiagonal{Float64,Array{Float64,1}}:\n",
       " 0.5  1.0   ⋅    ⋅    ⋅    ⋅    ⋅    ⋅    ⋅    ⋅ \n",
       "  ⋅   0.5  1.0   ⋅    ⋅    ⋅    ⋅    ⋅    ⋅    ⋅ \n",
       "  ⋅    ⋅   0.5  1.0   ⋅    ⋅    ⋅    ⋅    ⋅    ⋅ \n",
       "  ⋅    ⋅    ⋅   0.5  1.0   ⋅    ⋅    ⋅    ⋅    ⋅ \n",
       "  ⋅    ⋅    ⋅    ⋅   0.5  1.0   ⋅    ⋅    ⋅    ⋅ \n",
       "  ⋅    ⋅    ⋅    ⋅    ⋅   0.5  1.0   ⋅    ⋅    ⋅ \n",
       "  ⋅    ⋅    ⋅    ⋅    ⋅    ⋅   0.5  1.0   ⋅    ⋅ \n",
       "  ⋅    ⋅    ⋅    ⋅    ⋅    ⋅    ⋅   0.5  1.0   ⋅ \n",
       "  ⋅    ⋅    ⋅    ⋅    ⋅    ⋅    ⋅    ⋅   0.5  1.0\n",
       "  ⋅    ⋅    ⋅    ⋅    ⋅    ⋅    ⋅    ⋅    ⋅   0.5"
      ]
     },
     "execution_count": 29,
     "metadata": {},
     "output_type": "execute_result"
    }
   ],
   "source": [
    "n=10\n",
    "c=0.5\n",
    "J=Bidiagonal(c*ones(n),ones(n-1),'U')"
   ]
  },
  {
   "cell_type": "code",
   "execution_count": 30,
   "metadata": {},
   "outputs": [
    {
     "data": {
      "text/plain": [
       "10-element Array{Float64,1}:\n",
       " 0.5\n",
       " 0.5\n",
       " 0.5\n",
       " 0.5\n",
       " 0.5\n",
       " 0.5\n",
       " 0.5\n",
       " 0.5\n",
       " 0.5\n",
       " 0.5"
      ]
     },
     "execution_count": 30,
     "metadata": {},
     "output_type": "execute_result"
    }
   ],
   "source": [
    "# Accurately defined eigenvalues\n",
    "λ=eigvals(J)"
   ]
  },
  {
   "cell_type": "code",
   "execution_count": 31,
   "metadata": {},
   "outputs": [
    {
     "data": {
      "text/plain": [
       "10×10 Array{Float64,2}:\n",
       " 1.0  1.0  1.0  1.0  1.0  1.0  1.0  1.0  1.0  1.0\n",
       " 0.0  0.0  0.0  0.0  0.0  0.0  0.0  0.0  0.0  0.0\n",
       " 0.0  0.0  0.0  0.0  0.0  0.0  0.0  0.0  0.0  0.0\n",
       " 0.0  0.0  0.0  0.0  0.0  0.0  0.0  0.0  0.0  0.0\n",
       " 0.0  0.0  0.0  0.0  0.0  0.0  0.0  0.0  0.0  0.0\n",
       " 0.0  0.0  0.0  0.0  0.0  0.0  0.0  0.0  0.0  0.0\n",
       " 0.0  0.0  0.0  0.0  0.0  0.0  0.0  0.0  0.0  0.0\n",
       " 0.0  0.0  0.0  0.0  0.0  0.0  0.0  0.0  0.0  0.0\n",
       " 0.0  0.0  0.0  0.0  0.0  0.0  0.0  0.0  0.0  0.0\n",
       " 0.0  0.0  0.0  0.0  0.0  0.0  0.0  0.0  0.0  0.0"
      ]
     },
     "execution_count": 31,
     "metadata": {},
     "output_type": "execute_result"
    }
   ],
   "source": [
    "# Only one eigenvector\n",
    "X=eigvecs(J)"
   ]
  },
  {
   "cell_type": "code",
   "execution_count": 32,
   "metadata": {},
   "outputs": [
    {
     "data": {
      "text/plain": [
       "10-element Array{Float64,1}:\n",
       " 0.0\n",
       " 0.0\n",
       " 0.0\n",
       " 0.0\n",
       " 0.0\n",
       " 0.0\n",
       " 0.0\n",
       " 0.0\n",
       " 0.0\n",
       " 1.0"
      ]
     },
     "execution_count": 32,
     "metadata": {},
     "output_type": "execute_result"
    }
   ],
   "source": [
    "x=eigvecs(J)[:,1]\n",
    "y=eigvecs(J')[:,1]"
   ]
  },
  {
   "cell_type": "code",
   "execution_count": 33,
   "metadata": {},
   "outputs": [
    {
     "data": {
      "text/plain": [
       "1×10 Adjoint{Float64,Array{Float64,1}}:\n",
       " 0.0  0.0  0.0  0.0  0.0  0.0  0.0  0.0  0.0  0.0"
      ]
     },
     "execution_count": 33,
     "metadata": {},
     "output_type": "execute_result"
    }
   ],
   "source": [
    "y'*Matrix(J)-0.5*y'"
   ]
  },
  {
   "cell_type": "code",
   "execution_count": 34,
   "metadata": {},
   "outputs": [
    {
     "data": {
      "text/plain": [
       "10×10 Array{Float64,2}:\n",
       " 0.0         0.0  0.0  0.0  0.0  0.0  0.0  0.0  0.0  0.0\n",
       " 0.0         0.0  0.0  0.0  0.0  0.0  0.0  0.0  0.0  0.0\n",
       " 0.0         0.0  0.0  0.0  0.0  0.0  0.0  0.0  0.0  0.0\n",
       " 0.0         0.0  0.0  0.0  0.0  0.0  0.0  0.0  0.0  0.0\n",
       " 0.0         0.0  0.0  0.0  0.0  0.0  0.0  0.0  0.0  0.0\n",
       " 0.0         0.0  0.0  0.0  0.0  0.0  0.0  0.0  0.0  0.0\n",
       " 0.0         0.0  0.0  0.0  0.0  0.0  0.0  0.0  0.0  0.0\n",
       " 0.0         0.0  0.0  0.0  0.0  0.0  0.0  0.0  0.0  0.0\n",
       " 0.0         0.0  0.0  0.0  0.0  0.0  0.0  0.0  0.0  0.0\n",
       " 1.49012e-8  0.0  0.0  0.0  0.0  0.0  0.0  0.0  0.0  0.0"
      ]
     },
     "execution_count": 34,
     "metadata": {},
     "output_type": "execute_result"
    }
   ],
   "source": [
    "# Just one perturbed element in the lower left corner\n",
    "ΔJ=sqrt(eps())*[zeros(n-1);1]*Matrix(I,1,n)"
   ]
  },
  {
   "cell_type": "code",
   "execution_count": 35,
   "metadata": {},
   "outputs": [
    {
     "data": {
      "text/plain": [
       "10-element Array{Complex{Float64},1}:\n",
       " 0.3350615111920276 + 0.0im                \n",
       " 0.3665619595167544 + 0.09694841124280963im\n",
       " 0.3665619595167544 - 0.09694841124280963im\n",
       " 0.4490312038888047 + 0.15686582456677023im\n",
       " 0.4490312038888047 - 0.15686582456677023im\n",
       " 0.5509687960268455 + 0.15686582462828694im\n",
       " 0.5509687960268455 - 0.15686582462828694im\n",
       " 0.6334380405156275 + 0.09694841134170258im\n",
       " 0.6334380405156275 - 0.09694841134170258im\n",
       " 0.6649384889119079 + 0.0im                "
      ]
     },
     "execution_count": 35,
     "metadata": {},
     "output_type": "execute_result"
    }
   ],
   "source": [
    "B=J+ΔJ\n",
    "μ=eigvals(B)"
   ]
  },
  {
   "cell_type": "code",
   "execution_count": 36,
   "metadata": {},
   "outputs": [
    {
     "data": {
      "text/plain": [
       "0.16493848891190788"
      ]
     },
     "execution_count": 36,
     "metadata": {},
     "output_type": "execute_result"
    }
   ],
   "source": [
    "# Fact 2\n",
    "maximum(abs,λ-μ)"
   ]
  },
  {
   "cell_type": "code",
   "execution_count": 37,
   "metadata": {},
   "outputs": [
    {
     "data": {
      "text/plain": [
       "Inf"
      ]
     },
     "execution_count": 37,
     "metadata": {},
     "output_type": "execute_result"
    }
   ],
   "source": [
    "y'*ΔJ*x/(y⋅x)"
   ]
  },
  {
   "cell_type": "markdown",
   "metadata": {},
   "source": [
    "However, since $B$ is diagonalizable, we can apply Bauer-Fike theorem to it: "
   ]
  },
  {
   "cell_type": "code",
   "execution_count": 38,
   "metadata": {},
   "outputs": [
    {
     "data": {
      "text/plain": [
       "Eigen{Complex{Float64},Complex{Float64},Array{Complex{Float64},2},Array{Complex{Float64},1}}\n",
       "eigenvalues:\n",
       "10-element Array{Complex{Float64},1}:\n",
       " 0.3350615111920276 + 0.0im                \n",
       " 0.3665619595167544 + 0.09694841124280963im\n",
       " 0.3665619595167544 - 0.09694841124280963im\n",
       " 0.4490312038888047 + 0.15686582456677023im\n",
       " 0.4490312038888047 - 0.15686582456677023im\n",
       " 0.5509687960268455 + 0.15686582462828694im\n",
       " 0.5509687960268455 - 0.15686582462828694im\n",
       " 0.6334380405156275 + 0.09694841134170258im\n",
       " 0.6334380405156275 - 0.09694841134170258im\n",
       " 0.6649384889119079 + 0.0im                \n",
       "eigenvectors:\n",
       "10×10 Array{Complex{Float64},2}:\n",
       "   -0.986304+0.0im     0.986304+0.0im          …     0.986304+0.0im\n",
       "    0.162679+0.0im     -0.13161+0.0956206im          0.162679+0.0im\n",
       "  -0.0268321+0.0im   0.00829158-0.0255188im         0.0268321+0.0im\n",
       "  0.00442565+0.0im    0.0013676+0.00420904im       0.00442565+0.0im\n",
       " -0.00072996+0.0im  -0.00059055-0.000429059im      0.00072996+0.0im\n",
       " 0.000120398+0.0im  0.000120398+6.48524e-14im  …  0.000120398+0.0im\n",
       " -1.98583e-5+0.0im  -1.60657e-5+1.16724e-5im       1.98583e-5+0.0im\n",
       "   3.2754e-6+0.0im   1.01216e-6-3.11509e-6im        3.2754e-6+0.0im\n",
       "  -5.4024e-7+0.0im   1.66943e-7+5.13799e-7im        5.4024e-7+0.0im\n",
       "  8.91064e-8+0.0im  -7.20886e-8-5.23754e-8im       8.91064e-8+0.0im"
      ]
     },
     "execution_count": 38,
     "metadata": {},
     "output_type": "execute_result"
    }
   ],
   "source": [
    "μ,Y=eigen(B)"
   ]
  },
  {
   "cell_type": "code",
   "execution_count": 39,
   "metadata": {},
   "outputs": [
    {
     "data": {
      "text/plain": [
       "1.1068834616372574e7"
      ]
     },
     "execution_count": 39,
     "metadata": {},
     "output_type": "execute_result"
    }
   ],
   "source": [
    "cond(Y)"
   ]
  },
  {
   "cell_type": "code",
   "execution_count": 40,
   "metadata": {},
   "outputs": [
    {
     "data": {
      "text/plain": [
       "(0.16493848884660864, 0.1649384888466086)"
      ]
     },
     "execution_count": 40,
     "metadata": {},
     "output_type": "execute_result"
    }
   ],
   "source": [
    "opnorm(inv(Y)*ΔJ*Y), cond(Y)*opnorm(ΔJ)"
   ]
  },
  {
   "cell_type": "markdown",
   "metadata": {
    "collapsed": true
   },
   "source": [
    "### Example - Normal matrix"
   ]
  },
  {
   "cell_type": "code",
   "execution_count": 41,
   "metadata": {},
   "outputs": [
    {
     "name": "stderr",
     "output_type": "stream",
     "text": [
      "┌ Info: Recompiling stale cache file C:\\Users\\Ivan_Slapnicar\\.julia\\compiled\\v1.0\\SpecialMatrices\\F3uIk.ji for SpecialMatrices [928aab9d-ef52-54ac-8ca1-acd7ca42c160]\n",
      "└ @ Base loading.jl:1190\n"
     ]
    }
   ],
   "source": [
    "using SpecialMatrices"
   ]
  },
  {
   "cell_type": "code",
   "execution_count": 43,
   "metadata": {},
   "outputs": [],
   "source": [
    "# In juliabox clone the repository SpecialMatrices.jl and use\n",
    "# include(\"/mnt/juliabox/SpecialMatrices/src/SpecialMatrices.jl\")"
   ]
  },
  {
   "cell_type": "code",
   "execution_count": 44,
   "metadata": {},
   "outputs": [
    {
     "data": {
      "text/plain": [
       "6×6 Circulant{Int64}:\n",
       " -1  -1   5   3  -4  -1\n",
       " -1  -1  -1   5   3  -4\n",
       " -4  -1  -1  -1   5   3\n",
       "  3  -4  -1  -1  -1   5\n",
       "  5   3  -4  -1  -1  -1\n",
       " -1   5   3  -4  -1  -1"
      ]
     },
     "execution_count": 44,
     "metadata": {},
     "output_type": "execute_result"
    }
   ],
   "source": [
    "n=6\n",
    "C=SpecialMatrices.Circulant(rand(-5:5,n))"
   ]
  },
  {
   "cell_type": "code",
   "execution_count": 45,
   "metadata": {},
   "outputs": [
    {
     "data": {
      "text/plain": [
       "6-element Array{Complex{Float64},1}:\n",
       " -5.5000000000000036 + 7.794228634059954im\n",
       " -5.5000000000000036 - 7.794228634059954im\n",
       "  2.5000000000000013 + 7.794228634059944im\n",
       "  2.5000000000000013 - 7.794228634059944im\n",
       " -1.0000000000000007 + 0.0im              \n",
       "  1.0000000000000004 + 0.0im              "
      ]
     },
     "execution_count": 45,
     "metadata": {},
     "output_type": "execute_result"
    }
   ],
   "source": [
    "λ=eigvals(Matrix(C))"
   ]
  },
  {
   "cell_type": "code",
   "execution_count": 46,
   "metadata": {},
   "outputs": [
    {
     "data": {
      "text/plain": [
       "6×6 Array{Float64,2}:\n",
       " 7.89702e-5  2.29716e-5  2.9037e-5   1.53071e-5  8.42495e-5  4.48653e-5\n",
       " 6.39203e-6  9.46879e-5  5.87238e-5  7.24736e-5  1.52988e-5  7.703e-5  \n",
       " 1.03887e-5  5.02815e-5  8.84835e-6  6.11838e-6  7.97288e-5  1.32236e-5\n",
       " 4.70945e-5  5.89819e-5  8.2312e-5   3.28422e-6  8.94333e-5  5.48305e-5\n",
       " 4.63776e-5  7.59579e-5  6.51096e-5  2.87437e-5  7.06696e-5  6.69371e-5\n",
       " 6.90261e-5  2.42908e-5  1.81437e-5  2.76241e-5  5.96311e-5  4.83127e-5"
      ]
     },
     "execution_count": 46,
     "metadata": {},
     "output_type": "execute_result"
    }
   ],
   "source": [
    "ΔC=rand(n,n)*0.0001"
   ]
  },
  {
   "cell_type": "code",
   "execution_count": 47,
   "metadata": {},
   "outputs": [
    {
     "name": "stdout",
     "output_type": "stream",
     "text": [
      "opnorm(ΔC) = 0.000299893163480819\n"
     ]
    },
    {
     "data": {
      "text/plain": [
       "6-element Array{Complex{Float64},1}:\n",
       "  -5.499983765958218 + 7.794232146998534im \n",
       "  -5.499983765958218 - 7.794232146998534im \n",
       "   2.499980336307093 + 7.7942203156932806im\n",
       "   2.499980336307093 - 7.7942203156932806im\n",
       " -0.9999725939473745 + 0.0im               \n",
       "  1.0002842262192195 + 0.0im               "
      ]
     },
     "execution_count": 47,
     "metadata": {},
     "output_type": "execute_result"
    }
   ],
   "source": [
    "@show opnorm(ΔC)\n",
    "μ=eigvals(C+ΔC)"
   ]
  },
  {
   "cell_type": "markdown",
   "metadata": {},
   "source": [
    "### Example - Hermitian matrix"
   ]
  },
  {
   "cell_type": "code",
   "execution_count": 48,
   "metadata": {},
   "outputs": [
    {
     "data": {
      "text/plain": [
       "10×6 Array{Float64,2}:\n",
       " 2.00111e8  -5.40657e7  6.12383e7  1.65779e6  -1.13802e8  -1.0018e8 \n",
       " 1.60551e8  -9.24816e6  6.63549e7  1.96952e7  -1.10039e8  -1.41331e8\n",
       " 1.98333e8  -5.07766e7  7.45746e7  2.51734e7  -1.27712e8  -8.38108e7\n",
       " 1.71185e8  -4.59797e7  8.3756e6   3.58979e6  -6.72036e7  -1.39725e8\n",
       " 1.22845e8  -1.05312e8  3.74135e7  9.7367e6   -1.41376e8  -7.73388e7\n",
       " 1.9291e8   -1.28726e7  7.51453e7  2.69066e7  -7.55867e7  -1.19063e6\n",
       " 1.22596e8  -4.13613e7  7.27366e7  1.63517e7  -7.91255e7  -6.62981e7\n",
       " 6.00544e7  -8.2707e7   5.54327e7  2.46983e7  -1.04199e8  -7.21725e7\n",
       " 2.03799e8  -1.01845e8  1.80284e7  1.92672e7  -2.34e7     -1.47519e8\n",
       " 1.02707e8  -1.07052e8  1.6275e7   2.98392e6  -1.73079e8  -1.03426e7"
      ]
     },
     "execution_count": 48,
     "metadata": {},
     "output_type": "execute_result"
    }
   ],
   "source": [
    "m=10\n",
    "n=6\n",
    "A=rand(m,n)\n",
    "# Some scaling\n",
    "D=diagm(0=>(rand(n).-0.5)*exp(20))\n",
    "A=A*D"
   ]
  },
  {
   "cell_type": "code",
   "execution_count": 49,
   "metadata": {},
   "outputs": [
    {
     "data": {
      "text/plain": [
       "6×6 Array{Float64,2}:\n",
       "  1.0         0.394025    0.109633   0.0398925   0.435815   -0.338583 \n",
       "  0.394025    1.0         0.638271   0.337493    0.240502   -0.0555002\n",
       "  0.109633    0.638271    1.0        0.592317   -0.0786603   0.266532 \n",
       "  0.0398925   0.337493    0.592317   1.0         0.317512    0.115161 \n",
       "  0.435815    0.240502   -0.0786603  0.317512    1.0        -0.474421 \n",
       " -0.338583   -0.0555002   0.266532   0.115161   -0.474421    1.0      "
      ]
     },
     "execution_count": 49,
     "metadata": {},
     "output_type": "execute_result"
    }
   ],
   "source": [
    "using Statistics\n",
    "A=cor(A)"
   ]
  },
  {
   "cell_type": "code",
   "execution_count": 50,
   "metadata": {},
   "outputs": [
    {
     "data": {
      "text/plain": [
       "6×6 Array{Float64,2}:\n",
       "  1.0e-5      -2.34018e-6   1.37441e-6  -1.28688e-6  -1.54352e-6   2.42123e-6\n",
       " -2.34018e-6   1.0e-5       5.79295e-7  -3.79045e-6  -2.00922e-6  -1.27908e-6\n",
       "  1.37441e-6   5.79295e-7   1.0e-5       5.00767e-6  -2.96357e-6  -1.92506e-6\n",
       " -1.28688e-6  -3.79045e-6   5.00767e-6   1.0e-5      -3.31786e-7  -3.58106e-6\n",
       " -1.54352e-6  -2.00922e-6  -2.96357e-6  -3.31786e-7   1.0e-5      -8.06906e-7\n",
       "  2.42123e-6  -1.27908e-6  -1.92506e-6  -3.58106e-6  -8.06906e-7   1.0e-5    "
      ]
     },
     "execution_count": 50,
     "metadata": {},
     "output_type": "execute_result"
    }
   ],
   "source": [
    "ΔA=cor(rand(m,n)*D)*1e-5"
   ]
  },
  {
   "cell_type": "code",
   "execution_count": 51,
   "metadata": {},
   "outputs": [
    {
     "data": {
      "text/plain": [
       "6×6 Array{Float64,2}:\n",
       "  1.00001     0.394022    0.109635   0.0398912   0.435814   -0.33858  \n",
       "  0.394022    1.00001     0.638272   0.337489    0.2405     -0.0555014\n",
       "  0.109635    0.638272    1.00001    0.592322   -0.0786632   0.26653  \n",
       "  0.0398912   0.337489    0.592322   1.00001     0.317511    0.115157 \n",
       "  0.435814    0.2405     -0.0786632  0.317511    1.00001    -0.474422 \n",
       " -0.33858    -0.0555014   0.26653    0.115157   -0.474422    1.00001  "
      ]
     },
     "execution_count": 51,
     "metadata": {},
     "output_type": "execute_result"
    }
   ],
   "source": [
    "B=A+ΔA"
   ]
  },
  {
   "cell_type": "code",
   "execution_count": 52,
   "metadata": {},
   "outputs": [
    {
     "data": {
      "text/plain": [
       "6×2 Array{Float64,2}:\n",
       " 0.158223  0.158227\n",
       " 0.368753  0.368766\n",
       " 0.525937  0.52595 \n",
       " 0.854871  0.854884\n",
       " 1.81786   1.81787 \n",
       " 2.27436   2.27436 "
      ]
     },
     "execution_count": 52,
     "metadata": {},
     "output_type": "execute_result"
    }
   ],
   "source": [
    "λ,U=eigen(A) \n",
    "μ=eigvals(B)\n",
    "[λ μ]"
   ]
  },
  {
   "cell_type": "code",
   "execution_count": 53,
   "metadata": {},
   "outputs": [
    {
     "data": {
      "text/plain": [
       "2.7885227233096754e-5"
      ]
     },
     "execution_count": 53,
     "metadata": {},
     "output_type": "execute_result"
    }
   ],
   "source": [
    "norm(ΔA)"
   ]
  },
  {
   "cell_type": "code",
   "execution_count": 54,
   "metadata": {},
   "outputs": [],
   "source": [
    "# ?round"
   ]
  },
  {
   "cell_type": "code",
   "execution_count": 55,
   "metadata": {},
   "outputs": [
    {
     "data": {
      "text/plain": [
       "6-element Array{Float64,1}:\n",
       "  0.5608013970015108\n",
       " -0.2904150091614966\n",
       " -0.2103005238755665\n",
       "  0.0881259338145231\n",
       "  0.2403434558577903\n",
       "  0.7010017462518883"
      ]
     },
     "execution_count": 55,
     "metadata": {},
     "output_type": "execute_result"
    }
   ],
   "source": [
    "# Residual bounds - how close is μ, y to λ[2],X[:,2]\n",
    "k=3\n",
    "μ=round(λ[k],sigdigits=2)\n",
    "y=round.(U[:,k],sigdigits=2)\n",
    "y=y/norm(y)"
   ]
  },
  {
   "cell_type": "code",
   "execution_count": 56,
   "metadata": {},
   "outputs": [
    {
     "data": {
      "text/plain": [
       "0.53"
      ]
     },
     "execution_count": 56,
     "metadata": {},
     "output_type": "execute_result"
    }
   ],
   "source": [
    "μ"
   ]
  },
  {
   "cell_type": "code",
   "execution_count": 57,
   "metadata": {},
   "outputs": [
    {
     "data": {
      "text/plain": [
       "6-element Array{Float64,1}:\n",
       " -0.0029962578700478693\n",
       " -0.001114972236710865 \n",
       " -0.0025900666645936876\n",
       " -0.0017470324896596626\n",
       " -0.0005250798195391426\n",
       " -0.004215963477178952 "
      ]
     },
     "execution_count": 57,
     "metadata": {},
     "output_type": "execute_result"
    }
   ],
   "source": [
    "# Fact 9\n",
    "r=A*y-μ*y"
   ]
  },
  {
   "cell_type": "code",
   "execution_count": 58,
   "metadata": {},
   "outputs": [
    {
     "data": {
      "text/plain": [
       "(0.004063300525201097, 0.006166956219823506)"
      ]
     },
     "execution_count": 58,
     "metadata": {},
     "output_type": "execute_result"
    }
   ],
   "source": [
    "minimum(abs,μ.-λ), norm(r)"
   ]
  },
  {
   "cell_type": "code",
   "execution_count": 59,
   "metadata": {},
   "outputs": [
    {
     "data": {
      "text/plain": [
       "6-element Array{Float64,1}:\n",
       " -0.0007264901043694816\n",
       " -0.0022903876867943207\n",
       " -0.003441229576723076 \n",
       " -0.0013903546979102052\n",
       "  0.0004476777943230037\n",
       " -0.0013787537700810093"
      ]
     },
     "execution_count": 59,
     "metadata": {},
     "output_type": "execute_result"
    }
   ],
   "source": [
    "# Fact 10 - μ is Rayleigh quotient\n",
    "μ=y⋅(A*y)\n",
    "r=A*y-μ*y"
   ]
  },
  {
   "cell_type": "code",
   "execution_count": 60,
   "metadata": {},
   "outputs": [
    {
     "data": {
      "text/plain": [
       "0.15719965428010418"
      ]
     },
     "execution_count": 60,
     "metadata": {},
     "output_type": "execute_result"
    }
   ],
   "source": [
    "η=min(abs(μ-λ[k-1]),abs(μ-λ[k+1]))"
   ]
  },
  {
   "cell_type": "code",
   "execution_count": 61,
   "metadata": {},
   "outputs": [
    {
     "data": {
      "text/plain": [
       "(1.593584705594786e-5, 0.0001377241462678148)"
      ]
     },
     "execution_count": 61,
     "metadata": {},
     "output_type": "execute_result"
    }
   ],
   "source": [
    "μ-λ[k], norm(r)^2/η"
   ]
  },
  {
   "cell_type": "code",
   "execution_count": 62,
   "metadata": {},
   "outputs": [
    {
     "data": {
      "text/plain": [
       "(0.004752979558904301, 0.029599150789471618)"
      ]
     },
     "execution_count": 62,
     "metadata": {},
     "output_type": "execute_result"
    }
   ],
   "source": [
    "# Eigenvector bound\n",
    "# cos(θ)\n",
    "cosθ=dot(y,U[:,k])\n",
    "# sin(θ)\n",
    "sinθ=sqrt(1-cosθ^2)\n",
    "sinθ,norm(r)/η"
   ]
  },
  {
   "cell_type": "code",
   "execution_count": 63,
   "metadata": {},
   "outputs": [
    {
     "data": {
      "text/plain": [
       "6×3 Array{Float64,2}:\n",
       "  0.00227183   0.00678361  -0.000713585\n",
       "  0.0020579    0.00620572  -0.00258286 \n",
       "  0.0011429    0.00305198  -0.00304389 \n",
       "  0.00416242   0.0026933   -0.00160591 \n",
       "  0.00540134   0.00561108   0.000587368\n",
       " -0.0029972   -0.00420274  -0.00141184 "
      ]
     },
     "execution_count": 63,
     "metadata": {},
     "output_type": "execute_result"
    }
   ],
   "source": [
    "# Residual bounds - Fact 13\n",
    "U=eigvecs(A)\n",
    "Q=round.(U[:,1:3],sigdigits=2)\n",
    "# Orthogonalize\n",
    "F=qr(Q)\n",
    "X=Matrix(F.Q)\n",
    "M=X'*A*X\n",
    "R=A*X-X*M\n",
    "μ=eigvals(M)\n",
    "R"
   ]
  },
  {
   "cell_type": "code",
   "execution_count": 64,
   "metadata": {},
   "outputs": [
    {
     "data": {
      "text/plain": [
       "6-element Array{Float64,1}:\n",
       " 0.15822312851572118\n",
       " 0.3687529810417507 \n",
       " 0.5259366994747989 \n",
       " 0.8548708530737387 \n",
       " 1.8178602888180047 \n",
       " 2.2743560490759847 "
      ]
     },
     "execution_count": 64,
     "metadata": {},
     "output_type": "execute_result"
    }
   ],
   "source": [
    "λ"
   ]
  },
  {
   "cell_type": "code",
   "execution_count": 65,
   "metadata": {},
   "outputs": [
    {
     "data": {
      "text/plain": [
       "3-element Array{Float64,1}:\n",
       " 0.15826578040602313\n",
       " 0.5259535491253164 \n",
       " 0.3688397409152778 "
      ]
     },
     "execution_count": 65,
     "metadata": {},
     "output_type": "execute_result"
    }
   ],
   "source": [
    "μ"
   ]
  },
  {
   "cell_type": "code",
   "execution_count": 66,
   "metadata": {},
   "outputs": [
    {
     "data": {
      "text/plain": [
       "false"
      ]
     },
     "execution_count": 66,
     "metadata": {},
     "output_type": "execute_result"
    }
   ],
   "source": [
    "# The entries of μ are not ordered - which algorithm was called?\n",
    "issymmetric(M)"
   ]
  },
  {
   "cell_type": "code",
   "execution_count": 67,
   "metadata": {},
   "outputs": [
    {
     "data": {
      "text/plain": [
       "3-element Array{Float64,1}:\n",
       " 0.15826578040602313\n",
       " 0.36883974091527766\n",
       " 0.5259535491253166 "
      ]
     },
     "execution_count": 67,
     "metadata": {},
     "output_type": "execute_result"
    }
   ],
   "source": [
    "M=Hermitian(M)\n",
    "R=A*X-X*M\n",
    "μ=eigvals(M)"
   ]
  },
  {
   "cell_type": "code",
   "execution_count": 68,
   "metadata": {},
   "outputs": [
    {
     "data": {
      "text/plain": [
       "0.32893415359893974"
      ]
     },
     "execution_count": 68,
     "metadata": {},
     "output_type": "execute_result"
    }
   ],
   "source": [
    "η=λ[4]-λ[3]"
   ]
  },
  {
   "cell_type": "code",
   "execution_count": 69,
   "metadata": {},
   "outputs": [
    {
     "data": {
      "text/plain": [
       "(9.813444921795013e-5, 0.0007229191039879541)"
      ]
     },
     "execution_count": 69,
     "metadata": {},
     "output_type": "execute_result"
    }
   ],
   "source": [
    "norm(λ[1:3]-μ), norm(R)^2/η"
   ]
  },
  {
   "cell_type": "code",
   "execution_count": 70,
   "metadata": {},
   "outputs": [
    {
     "data": {
      "text/plain": [
       "6×6 Array{Float64,2}:\n",
       " 1.0       0.394025  0.109633  0.0        0.0        0.0     \n",
       " 0.394025  1.0       0.638271  0.0        0.0        0.0     \n",
       " 0.109633  0.638271  1.0       0.0        0.0        0.0     \n",
       " 0.0       0.0       0.0       1.0        0.317512   0.115161\n",
       " 0.0       0.0       0.0       0.317512   1.0       -0.474421\n",
       " 0.0       0.0       0.0       0.115161  -0.474421   1.0     "
      ]
     },
     "execution_count": 70,
     "metadata": {},
     "output_type": "execute_result"
    }
   ],
   "source": [
    "# Fact 13\n",
    "M=A[1:3,1:3]\n",
    "H=A[4:6,4:6]\n",
    "E=A[4:6,1:3]\n",
    "# Block-diagonal matrix\n",
    "B=cat(M,H,dims=(1,2))"
   ]
  },
  {
   "cell_type": "code",
   "execution_count": 71,
   "metadata": {},
   "outputs": [
    {
     "data": {
      "text/plain": [
       "6×2 Array{Float64,2}:\n",
       " 0.158223  0.295446\n",
       " 0.368753  0.37199 \n",
       " 0.525937  0.902424\n",
       " 0.854871  1.10579 \n",
       " 1.81786   1.52222 \n",
       " 2.27436   1.80213 "
      ]
     },
     "execution_count": 71,
     "metadata": {},
     "output_type": "execute_result"
    }
   ],
   "source": [
    "η=minimum(abs,eigvals(M)-eigvals(H))\n",
    "μ=eigvals(B)\n",
    "[λ μ]"
   ]
  },
  {
   "cell_type": "code",
   "execution_count": 72,
   "metadata": {},
   "outputs": [
    {
     "data": {
      "text/plain": [
       "0.9159383751649197"
      ]
     },
     "execution_count": 72,
     "metadata": {},
     "output_type": "execute_result"
    }
   ],
   "source": [
    "2*norm(E)^2/(η+sqrt(η^2+4*norm(E)^2))"
   ]
  },
  {
   "cell_type": "code",
   "execution_count": 73,
   "metadata": {},
   "outputs": [
    {
     "data": {
      "text/plain": [
       "Eigen{Float64,Float64,Array{Float64,2},Array{Float64,1}}\n",
       "eigenvalues:\n",
       "6-element Array{Float64,1}:\n",
       " 0.15822716096549763\n",
       " 0.3687661328758025 \n",
       " 0.5259495035234578 \n",
       " 0.8548839172653017 \n",
       " 1.817869283665713  \n",
       " 2.2743640017042264 \n",
       "eigenvectors:\n",
       "6×6 Array{Float64,2}:\n",
       " -0.079435    0.415226  -0.562042   -0.471492   -0.376143   -0.376295\n",
       " -0.40105    -0.542318   0.286801   -0.398316    0.0994364  -0.542449\n",
       "  0.672587    0.255624   0.20914    -0.126094    0.452588   -0.466699\n",
       " -0.464446    0.331061  -0.0879179   0.631404    0.254668   -0.451035\n",
       "  0.405386   -0.481862  -0.238312    0.448918   -0.465148   -0.358871\n",
       "  0.0206583  -0.355447  -0.702561   -0.0542366   0.602142    0.118837"
      ]
     },
     "execution_count": 73,
     "metadata": {},
     "output_type": "execute_result"
    }
   ],
   "source": [
    "# Eigenspace bounds - Fact 14\n",
    "B=A+ΔA\n",
    "μ,V=eigen(B)"
   ]
  },
  {
   "cell_type": "code",
   "execution_count": 74,
   "metadata": {},
   "outputs": [
    {
     "data": {
      "text/plain": [
       "3-element Array{Float64,1}:\n",
       " 6.989264130329236e-8 \n",
       " 1.334382136756119e-6 \n",
       " 7.4410526626755395e-6"
      ]
     },
     "execution_count": 74,
     "metadata": {},
     "output_type": "execute_result"
    }
   ],
   "source": [
    "# sin(Θ(U[:,1:3],V[:,1:3]))\n",
    "X=U[:,1:3]\n",
    "Q=V[:,1:3]\n",
    "cosθ=svdvals(sqrt(Q'*Q)*Q'*X*sqrt(X'*X))\n",
    "sinθ=sqrt.(1 .-cosθ.^2)"
   ]
  },
  {
   "cell_type": "code",
   "execution_count": 75,
   "metadata": {},
   "outputs": [
    {
     "data": {
      "text/plain": [
       "3×3 Array{Float64,2}:\n",
       "  0.158223    -8.74145e-7  1.90176e-6\n",
       " -8.74145e-7   0.368753    5.80574e-7\n",
       "  1.90176e-6   5.80574e-7  0.525937  "
      ]
     },
     "execution_count": 75,
     "metadata": {},
     "output_type": "execute_result"
    }
   ],
   "source": [
    "# Bound\n",
    "M=Q'*A*Q"
   ]
  },
  {
   "cell_type": "code",
   "execution_count": 76,
   "metadata": {},
   "outputs": [
    {
     "data": {
      "text/plain": [
       "6×3 Array{Float64,2}:\n",
       "  2.09419e-8   4.88017e-7  -6.219e-8  \n",
       " -1.21242e-7  -1.57069e-6  -1.26537e-6\n",
       " -2.79535e-7  -2.75446e-6  -1.8532e-6 \n",
       " -1.55379e-6  -3.54563e-6  -2.83393e-6\n",
       " -1.45975e-6  -8.94154e-7  -1.42697e-6\n",
       "  5.40133e-7  -1.10456e-6  -1.79794e-7"
      ]
     },
     "execution_count": 76,
     "metadata": {},
     "output_type": "execute_result"
    }
   ],
   "source": [
    "R=A*Q-Q*M"
   ]
  },
  {
   "cell_type": "code",
   "execution_count": 77,
   "metadata": {},
   "outputs": [
    {
     "data": {
      "text/plain": [
       "([0.158223, 0.525937, 0.368753], [0.158223, 0.368753, 0.525937, 0.854871, 1.81786, 2.27436])"
      ]
     },
     "execution_count": 77,
     "metadata": {},
     "output_type": "execute_result"
    }
   ],
   "source": [
    "eigvals(M), λ"
   ]
  },
  {
   "cell_type": "code",
   "execution_count": 78,
   "metadata": {},
   "outputs": [
    {
     "data": {
      "text/plain": [
       "(7.560074430646362e-6, 1.3792269343264605e-5)"
      ]
     },
     "execution_count": 78,
     "metadata": {},
     "output_type": "execute_result"
    }
   ],
   "source": [
    "η=abs(eigvals(M)[3]-λ[4])\n",
    "norm(sinθ), norm(R)/η"
   ]
  }
 ],
 "metadata": {
  "@webio": {
   "lastCommId": "eec96f4d2db142bb83f0d2f5d62e7a19",
   "lastKernelId": "c5d1ac5d-2a89-481a-b5fb-f9ad617b351a"
  },
  "anaconda-cloud": {},
  "kernelspec": {
   "display_name": "Julia 1.0.3",
   "language": "julia",
   "name": "julia-1.0"
  },
  "language_info": {
   "file_extension": ".jl",
   "mimetype": "application/julia",
   "name": "julia",
   "version": "1.0.3"
  }
 },
 "nbformat": 4,
 "nbformat_minor": 1
}
