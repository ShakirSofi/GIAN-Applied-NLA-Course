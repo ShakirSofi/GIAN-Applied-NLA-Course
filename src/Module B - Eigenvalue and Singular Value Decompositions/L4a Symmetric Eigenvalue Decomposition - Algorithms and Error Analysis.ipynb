{
 "cells": [
  {
   "cell_type": "markdown",
   "metadata": {},
   "source": [
    "# Symmetric Eigenvalue Decomposition - Algorithms and Error Analysis\n",
    "\n",
    "\n",
    "\n",
    "We study only algorithms for real symmetric matrices, which are most commonly used in the applications described in this course. \n",
    "\n",
    "For more details, see \n",
    "[I. Slapničar, Symmetric Matrix Eigenvalue Techniques][Hog14] and the references therein.\n",
    "\n",
    "[Hog14]: #1 \"L. Hogben, ed., 'Handbook of Linear Algebra', pp. 55.1-55.25, CRC Press, Boca Raton, 2014.\"\n",
    "\n",
    "\n",
    "## Prerequisites\n",
    "\n",
    "The reader should be familiar with basic linear algebra concepts and facts on eigenvalue decomposition and perturbation theory\n",
    "\n",
    " \n",
    "## Competences \n",
    "\n",
    "The reader should be able to apply adequate algorithm to a given problem, and to assess accuracy of the solution.\n"
   ]
  },
  {
   "cell_type": "markdown",
   "metadata": {},
   "source": [
    "## Backward error and stability\n",
    "\n",
    "### Definitions\n",
    "\n",
    "If the value of a function $f(x)$ is computed with an algorithm  $\\mathrm{alg(x)}$, the \n",
    "__algorithm error__ is \n",
    "\n",
    "$$\n",
    "\\|\\mathrm{alg(x)}-f(x)\\|,\n",
    "$$\n",
    "\n",
    "and the __relative algorithm error__ is\n",
    "\n",
    "$$\n",
    "\\frac{\\| \\mathrm{alg}(x)-f(x)\\|}{\\| f(x) \\|},\n",
    "$$\n",
    "in respective norms. Therse errors can be hard or even impossible to estimate directly. \n",
    "\n",
    "In this case, assume that $f(x)$ computed by $\\mathrm{alg}(x)$ is equal to exact value of the function for a perturbed argument,\n",
    "\n",
    "$$\n",
    "\\mathrm{alg}(x)=f(x+\\delta x),\n",
    "$$\n",
    "for some  __backward error__ $\\delta x$.\n",
    "\n",
    "Algoritam is __stable__ is the above equality always holds for small $\\delta x$."
   ]
  },
  {
   "cell_type": "markdown",
   "metadata": {},
   "source": [
    "## Basic methods\n",
    "\n",
    "### Definitions\n",
    "\n",
    "The eigenvalue decomposition (EVD) of a real symmetric matrix\n",
    "$A=[a_{ij}]$ is $A=U\\Lambda U^T$,\n",
    "where $U$ is a $n\\times n$ real orthonormal matrix, $U^TU=UU^T=I_n$, and \n",
    "$\\Lambda=\\mathop{\\mathrm{diag}} (\\lambda_1,\\dots, \\lambda_n)$ is a real diagonal matrix.\n",
    "\n",
    "The numbers $\\lambda_i$ are the eigenvalues of $A$, the vectors $U_{:i}$,\n",
    "$i=1,\\dots,n$, are the eigenvectors of $A$, and\n",
    "$AU_{:i}=\\lambda_i U_{:i}$, $i=1,\\dots,n$.\n",
    "\n",
    "If $|\\lambda_1|> |\\lambda_2| \\geq \\cdots \\geq |\\lambda_n|$, we say that\n",
    "  $\\lambda_1$ is the __dominant eigenvalue__.\n",
    "\n",
    "__Deflation__ is a process of reducing the size of the matrix whose\n",
    "EVD is to be determined, given that one eigenvector is known.\n",
    "\n",
    "The __shifted matrix__ of the matrix $A$ is the matrix $A-\\mu I$, where\n",
    "$\\mu$ is the __shift__.\n",
    "\n",
    "__Power method__ starts from vector $x_0$ and computes the sequences\n",
    "$$\n",
    "\\nu_k=x_k^T A x_k, \\qquad x_{k+1}= A x_k /\n",
    " \\| A x_k \\|, \\qquad k=0,1,2,\\dots,\n",
    "$$\n",
    "until convergence. Normalization of $x_k$ can be performed in any norm and serves\n",
    "the numerical stability of the algorithm (avoiding overflow or underflow).\n",
    "\n",
    "__Inverse iteration__ is the power method applied to the inverse of\n",
    "a shifted matrix:\n",
    "$$\n",
    "\\nu_k=x_k^T A x_k, \\quad \n",
    "x_{k+1}= (A-\\mu I)^{-1} x_k, \\quad \n",
    "x_{k+1} = x_{k+1}/\\|x_{k+1}\\|, \\quad k=0,1,2,\\dots.\n",
    "$$\n",
    "\n",
    "__QR iteration__ starts from the matrix $A_0=A$ and forms the sequence of matrices\n",
    "$$\n",
    "  A_k=Q_kR_k \\quad \\textrm{(QR factorization)}, \\qquad\n",
    "  A_{k+1}=R_kQ_k,\\qquad k=0,1,2,\\ldots \n",
    "$$\n",
    "\n",
    "__Shifted QR iteration__ is the QR iteration applied to a shifted matrix:\n",
    "$$\n",
    "A_k-\\mu I=Q_kR_k \\quad \\textrm{(QR factorization)}, \\quad\n",
    "  A_{k+1}=R_kQ_k+\\mu I ,\\quad k=0,1,2,\\ldots \n",
    "$$\n",
    "\n",
    "### Facts\n",
    "\n",
    "1. If $\\lambda_1$ is the dominant eigenvalue and if  $x_0$ is not\n",
    "orthogonal to $U_{:1}$, then $\\nu_k\\to \\lambda_1$ and $x_k\\to U_{:1}$. In other\n",
    "words, the power method converges to the dominant eigenvalue and its eigenvector.\n",
    "\n",
    "2. The convergence is linear in the sense that \n",
    "$$\n",
    "|\\lambda_1-\\nu_k|\\approx \\left|\\frac{c_2}{c_1}\\right| \\left|\n",
    " \\frac{\\lambda_2}{\\lambda_1}\\right|^k,\\qquad\n",
    "\\|U_{:1}-x_k\\|_2 =O\\bigg(\\bigg|\n",
    " \\frac{\\lambda_2}{\\lambda_1}\\bigg|^k\\bigg)\\!, \n",
    "$$\n",
    "where $c_i$ is the coefficient of the $i$-th eigenvector in the linear\n",
    "combination expressing the starting vector $x_0$.\n",
    " \n",
    "3. Since $\\lambda_1$ is not available, the convergence is\n",
    "determined using residuals:  if $\\| Ax_k-\\nu_k x_k\\|_2\\leq tol$, \n",
    "where $tol$ is a user prescribed stopping criterion,\n",
    "then $|\\lambda_1-\\nu_k|\\leq tol$.\n",
    "\n",
    "4. After computing the dominant eigenpair, we can perform deflation\n",
    "to reduce the given EVD for $A$ to the one of size $n-1$ for $A_1$:\n",
    "$$\n",
    "\\begin{bmatrix} U_{:1} & X \\end{bmatrix}^T A  \\begin{bmatrix} U_{:1} & X \\end{bmatrix}=\n",
    "\\begin{bmatrix} \\lambda_1 & \\\\ & A_1 \\end{bmatrix}, \\quad\n",
    "\\begin{bmatrix} U_{:1} & X \\end{bmatrix} \\textrm{orthonormal}, \\quad A_1=X^TAX.\n",
    "$$\n",
    "\n",
    "5. The EVD of the shifted matrix $A-\\mu I$ is $U(\\Lambda-\\mu I) U^T$.  \n",
    "\n",
    "6. Inverse iteration requires solving the system of linear equations \n",
    "$(A-\\mu I)x_{k+1}= x_k$ for $x_{k+1}$ in each step. \n",
    "At the beginning, LU factorization of \n",
    "$A-\\mu I$ needs to be computed, which requires $2n^3/3$ operations. \n",
    "In each subsequent step, two triangular systems need to be solved, which requires $2n^2$\n",
    "operations.\n",
    "\n",
    "7. If $\\mu$ is close to some eigenvalue of $A$, the\n",
    "eigenvalues of the shifted matrix satisfy $|\\lambda_1|\\gg\n",
    "|\\lambda_2|\\geq\\cdots\\geq |\\lambda_n|$, so the convergence of the inverse\n",
    "iteration method is fast.\n",
    "  \n",
    "8. If $\\mu$ is very close to some eigenvalue of $A$, then the\n",
    "matrix $A-\\mu I$ is nearly singular, so the solutions of linear\n",
    "systems may have large errors. However, these errors are almost\n",
    "entirely in the direction of the dominant eigenvector so the inverse\n",
    "iteration method is both fast and accurate.\n",
    "  \n",
    "9. We can further increase the speed of convergence of inverse iterations by substituting\n",
    "  the shift $\\mu$ with the Rayleigh quotient $\\nu_k$\n",
    "  at the cost of computing new LU factorization.\n",
    "  \n",
    "10. Matrices $A_k$ and $A_{k+1}$ from both QR iterations are orthogonally\n",
    "similar, $A_{k+1}=Q_k^TA_kQ_k$.\n",
    "\n",
    "11. The QR iteration method is essentially equivalent to the power method and\n",
    "  the shifted QR iteration method is essentially equivalent to the\n",
    "  inverse power method on the shifted matrix. \n",
    "  \n",
    "12. The straightforward application of the QR iteration requires $O(n^3)$ operations per step, so better implementation is needed.\n",
    "\n",
    "\n",
    "\n",
    "  \n",
    "### Examples\n",
    "\n",
    "In order to keep the programs simple, in the examples below we do not compute full matrix of eigenvectors. "
   ]
  },
  {
   "cell_type": "code",
   "execution_count": 1,
   "metadata": {},
   "outputs": [
    {
     "data": {
      "text/plain": [
       "myPower (generic function with 1 method)"
      ]
     },
     "execution_count": 1,
     "metadata": {},
     "output_type": "execute_result"
    }
   ],
   "source": [
    "function myPower(A::Array,x::Vector,tol::Number)\n",
    "    y=A*x\n",
    "    ν=x⋅y\n",
    "    steps=1\n",
    "    while vecnorm(y-ν*x)>tol\n",
    "        x=y/vecnorm(y)\n",
    "        y=A*x\n",
    "        ν=x⋅y\n",
    "        steps+=1\n",
    "    end\n",
    "    ν, y/vecnorm(y), steps\n",
    "end"
   ]
  },
  {
   "cell_type": "code",
   "execution_count": 2,
   "metadata": {},
   "outputs": [
    {
     "data": {
      "text/plain": [
       "6×6 Array{Int64,2}:\n",
       " -8   2   1   9   2  -7\n",
       "  2  -7   0  -8   1  -8\n",
       "  1   0   2  -4  -3  -9\n",
       "  9  -8  -4  -2   0   5\n",
       "  2   1  -3   0   3   1\n",
       " -7  -8  -9   5   1  -5"
      ]
     },
     "execution_count": 2,
     "metadata": {},
     "output_type": "execute_result"
    }
   ],
   "source": [
    "n=6\n",
    "s=srand(421)\n",
    "A=full(Symmetric(rand(-9:9,n,n)))"
   ]
  },
  {
   "cell_type": "code",
   "execution_count": 3,
   "metadata": {},
   "outputs": [
    {
     "data": {
      "text/plain": [
       "(-19.99253016166369, [0.694988, -0.144771, 0.0506903, -0.528094, -0.067475, 0.458288], 160)"
      ]
     },
     "execution_count": 3,
     "metadata": {},
     "output_type": "execute_result"
    }
   ],
   "source": [
    "ν,x,steps=myPower(A,ones(n),1e-10)"
   ]
  },
  {
   "cell_type": "code",
   "execution_count": 4,
   "metadata": {},
   "outputs": [
    {
     "data": {
      "text/plain": [
       "6-element Array{Float64,1}:\n",
       " -19.9925 \n",
       " -17.0168 \n",
       "  -3.42589\n",
       "   4.31276\n",
       "   4.43503\n",
       "  14.6874 "
      ]
     },
     "execution_count": 4,
     "metadata": {},
     "output_type": "execute_result"
    }
   ],
   "source": [
    "λ=eigvals(A)"
   ]
  },
  {
   "cell_type": "code",
   "execution_count": 5,
   "metadata": {},
   "outputs": [
    {
     "data": {
      "text/plain": [
       "1"
      ]
     },
     "execution_count": 5,
     "metadata": {},
     "output_type": "execute_result"
    }
   ],
   "source": [
    "k=indmax(abs.(λ))"
   ]
  },
  {
   "cell_type": "code",
   "execution_count": 6,
   "metadata": {},
   "outputs": [
    {
     "data": {
      "text/plain": [
       "6×2 Array{Float64,2}:\n",
       "  0.694988    0.694988 \n",
       " -0.144771   -0.144771 \n",
       "  0.0506903   0.0506903\n",
       " -0.528094   -0.528094 \n",
       " -0.067475   -0.067475 \n",
       "  0.458288    0.458288 "
      ]
     },
     "execution_count": 6,
     "metadata": {},
     "output_type": "execute_result"
    }
   ],
   "source": [
    "[eigvecs(A)[:,k] x]"
   ]
  },
  {
   "cell_type": "code",
   "execution_count": 7,
   "metadata": {},
   "outputs": [
    {
     "data": {
      "text/plain": [
       "6-element Array{Float64,1}:\n",
       "  0.694988 \n",
       " -0.144771 \n",
       "  0.0506903\n",
       " -0.528094 \n",
       " -0.067475 \n",
       "  0.458288 "
      ]
     },
     "execution_count": 7,
     "metadata": {},
     "output_type": "execute_result"
    }
   ],
   "source": [
    "x"
   ]
  },
  {
   "cell_type": "code",
   "execution_count": 8,
   "metadata": {},
   "outputs": [
    {
     "data": {
      "text/plain": [
       "myDeflation (generic function with 1 method)"
      ]
     },
     "execution_count": 8,
     "metadata": {},
     "output_type": "execute_result"
    }
   ],
   "source": [
    "# Deflation\n",
    "function myDeflation(A::Array,x::Vector)\n",
    "    X,R=qr(x[:,:],thin=false)\n",
    "    # To make sure the returned matrix symmetric use\n",
    "    # full(Symmetric(X[:,2:end]'*A*X[:,2:end]))\n",
    "    X[:,2:end]'*A*X[:,2:end]\n",
    "end"
   ]
  },
  {
   "cell_type": "code",
   "execution_count": 9,
   "metadata": {},
   "outputs": [
    {
     "data": {
      "text/plain": [
       "5×5 Array{Float64,2}:\n",
       " -6.57087     -0.00503334  -6.28904    1.29122    -9.41558  \n",
       " -0.00503334   1.95091     -4.06933   -3.03428    -8.96407  \n",
       " -6.28904     -4.06933      4.77224    1.13014    -0.624586 \n",
       "  1.29122     -3.03428      1.13014    3.17824     0.0515027\n",
       " -9.41558     -8.96407     -0.624586   0.0515027  -0.337992 "
      ]
     },
     "execution_count": 9,
     "metadata": {},
     "output_type": "execute_result"
    }
   ],
   "source": [
    "A₁=myDeflation(A,x)"
   ]
  },
  {
   "cell_type": "code",
   "execution_count": 10,
   "metadata": {},
   "outputs": [
    {
     "data": {
      "text/plain": [
       "5-element Array{Float64,1}:\n",
       " -17.0168 \n",
       "  14.6874 \n",
       "  -3.42589\n",
       "   4.31276\n",
       "   4.43503"
      ]
     },
     "execution_count": 10,
     "metadata": {},
     "output_type": "execute_result"
    }
   ],
   "source": [
    "eigvals(A₁)"
   ]
  },
  {
   "cell_type": "code",
   "execution_count": 11,
   "metadata": {},
   "outputs": [
    {
     "data": {
      "text/plain": [
       "(-17.016810311916036, [-0.690921, -0.331625, -0.278539, 0.0114126, -0.578739], 167)"
      ]
     },
     "execution_count": 11,
     "metadata": {},
     "output_type": "execute_result"
    }
   ],
   "source": [
    "myPower(A₁,ones(size(A₁,1)),1e-10)"
   ]
  },
  {
   "cell_type": "code",
   "execution_count": 12,
   "metadata": {},
   "outputs": [
    {
     "data": {
      "text/plain": [
       "myPowerMethod (generic function with 1 method)"
      ]
     },
     "execution_count": 12,
     "metadata": {},
     "output_type": "execute_result"
    }
   ],
   "source": [
    "# Put it all together - eigenvectors are ommited for the sake of simplicty\n",
    "function myPowerMethod(A::Array, tol::T) where T\n",
    "    n=size(A,1)\n",
    "    λ=Array{T}(n)\n",
    "    for i=1:n\n",
    "        λ[i],x,steps=myPower(A,ones(n-i+1),tol)\n",
    "        A=myDeflation(A,x)\n",
    "    end\n",
    "    λ\n",
    "end"
   ]
  },
  {
   "cell_type": "code",
   "execution_count": 13,
   "metadata": {},
   "outputs": [
    {
     "data": {
      "text/plain": [
       "6-element Array{Float64,1}:\n",
       " -19.9925 \n",
       " -17.0168 \n",
       "  14.6874 \n",
       "   4.43503\n",
       "   4.31276\n",
       "  -3.42589"
      ]
     },
     "execution_count": 13,
     "metadata": {},
     "output_type": "execute_result"
    }
   ],
   "source": [
    "myPowerMethod(A,1e-10)"
   ]
  },
  {
   "cell_type": "code",
   "execution_count": 14,
   "metadata": {},
   "outputs": [
    {
     "data": {
      "text/plain": [
       "myQRIteration (generic function with 1 method)"
      ]
     },
     "execution_count": 14,
     "metadata": {},
     "output_type": "execute_result"
    }
   ],
   "source": [
    "# QR iteration\n",
    "function myQRIteration(A::Array, tol::Number)\n",
    "    steps=1\n",
    "    while norm(tril(A,-1))>tol\n",
    "        Q,R=qr(A)\n",
    "        A=R*Q\n",
    "        steps+=1\n",
    "    end\n",
    "    A,steps\n",
    "end"
   ]
  },
  {
   "cell_type": "code",
   "execution_count": 15,
   "metadata": {},
   "outputs": [
    {
     "data": {
      "text/plain": [
       "6×6 Array{Float64,2}:\n",
       " -19.9925          1.9745e-15    -5.74981e-16   …  -2.43735e-15  -3.24049e-16\n",
       "  -1.01627e-20   -17.0168         6.45225e-15      -2.33314e-15  -3.73454e-15\n",
       "   3.13535e-37     5.23823e-17   14.6874            1.27937e-16  -9.59092e-16\n",
       "   1.18738e-178   -1.7416e-159   -2.86149e-142      9.77898e-6   -4.20164e-16\n",
       "   5.13609e-182    9.90527e-163   1.0578e-145       4.31276       3.1409e-15 \n",
       "  -5.40376e-209   -1.1114e-189   -2.65957e-172  …  -3.25655e-27  -3.42589    "
      ]
     },
     "execution_count": 15,
     "metadata": {},
     "output_type": "execute_result"
    }
   ],
   "source": [
    "B,steps=myQRIteration(A,1e-5)\n",
    "B"
   ]
  },
  {
   "cell_type": "code",
   "execution_count": 16,
   "metadata": {},
   "outputs": [
    {
     "data": {
      "text/plain": [
       "6-element Array{Float64,1}:\n",
       " -19.9925 \n",
       " -17.0168 \n",
       "  14.6874 \n",
       "   4.43503\n",
       "   4.31276\n",
       "  -3.42589"
      ]
     },
     "execution_count": 16,
     "metadata": {},
     "output_type": "execute_result"
    }
   ],
   "source": [
    "diag(B)"
   ]
  },
  {
   "cell_type": "markdown",
   "metadata": {},
   "source": [
    "##  Tridiagonalization\n",
    "\n",
    "The following implementation of $QR$ iteration requires a total of $O(n^3)$ operations:\n",
    "\n",
    "1. Reduce $A$ to tridiagonal form $T$ by orthogonal similarities, $X^TAX=T$.\n",
    "2. Compute the EVD of $T$ with QR iterations, $T=Q\\Lambda Q^T$.\n",
    "3. Multiply $U=XQ$.\n",
    "\n",
    "One step of QR iterations on $T$ requires $O(n)$ operations if only $\\Lambda$ is computed, and $O(n^2)$ operations if\n",
    "$Q$ is accumulated, as well.\n",
    "\n",
    "### Definitions\n",
    "\n",
    "Given vector $v$, __Householder reflector__ is a symmetric orthogonal matrix \n",
    "\n",
    "$$\n",
    "H= I - 2\\, \\frac{v v^T}{v^Tv}.\n",
    "$$\n",
    "\n",
    "Given $c=\\cos\\varphi$, $s=\\sin\\varphi$, and indices $i<j$, __Givens rotation matrix__ is an orthogonal matrix\n",
    "$G(c,s,i,j)$ which is equal to the identity matrix except for elements\n",
    "\n",
    "$$\n",
    "G_{ii}=G_{jj}=c,\\qquad G_{ij}=-G_{ji}=s.\n",
    "$$"
   ]
  },
  {
   "cell_type": "markdown",
   "metadata": {},
   "source": [
    "### Facts\n",
    "\n",
    "1. Given vector $x$, choosing $v=x+\\mathrm{\\mathop{sign}}(x_{1})\\,\\|x\\|_2\\, e_1$ yields the Householder reflector which performs the QR factorization of $x$:\n",
    "$$\n",
    "Hx=-\\mathop{\\mathrm{sign}}(a_{1})\\, \\|a\\|_2\\, e_1.\n",
    "$$\n",
    "\n",
    "2. Given a 2-dimensional vector $\\begin{bmatrix}x\\\\y\\end{bmatrix}$, choosing $r= \\sqrt{x^2+y^2}$, $c=\\frac{x}{r}$ and\n",
    "$s=\\frac{y}{r}$, gives the Givens roatation matrix such that \n",
    "$$\n",
    "G(c,s,1,2)\\cdot \\begin{bmatrix}x\\\\y\\end{bmatrix}=\\begin{bmatrix}r\\\\ 0 \\end{bmatrix}.\n",
    "$$\n",
    "The hypotenuse $r$ is computed using the `hypot()` function in order to avoid underflow or overflow.\n",
    "\n",
    "1. Tridiagonal form is not unique.\n",
    "\n",
    "2. The reduction of $A$ to tridiagonal matrix by Householder reflections is performed as follows. Let \n",
    "$$\n",
    "A=\\begin{bmatrix} \\alpha & a^T  \\\\ a & B \\end{bmatrix}.\n",
    "$$ \n",
    "Let $v=a+\\mathrm{\\mathop{sign}}(a_{1})\\,\\|a\\|_2\\, e_1$, let $H$ be the corresponding Householder reflector\n",
    "and set\n",
    "$$\n",
    "H_1=\\begin{bmatrix} 1 & \\\\ & H \\end{bmatrix}.\n",
    "$$\n",
    "Then\n",
    "$$\n",
    "H_1AH_1=\n",
    "\\begin{bmatrix} \\alpha & a^T H \\\\ Ha & HBH \\end{bmatrix} =\n",
    "\\begin{bmatrix} \\alpha & \\nu e_1^T \\\\ \\nu e_1 & A_1 \\end{bmatrix},\n",
    "\\quad  \\nu=-\\mathop{\\mathrm{sign}}(a_{1})\\, \\|a\\|_2.\n",
    "$$\n",
    "This step annihilates all elements in the first column below the\n",
    "first subdiagonal and all elements in the first row to the right of\n",
    "the first subdiagonal.\n",
    "Applying this procedure recursively yields the tridiagonal matrix \n",
    "$T=X^T AX$, where $X=H_1H_2\\cdots H_{n-2}$.\n",
    "\n",
    "3. $H$ does not depend on the normalization of $v$. With the\n",
    "normalization $v_1=1$, $a_{2:n-1}$ can be overwritten by\n",
    "$v_{2:n-1}$, so $v_1$ does not need to be stored.\n",
    "\n",
    "4. $H$ is not formed explicitly - given $v$, $B$ is overwritten with $HBH$ in\n",
    "$O(n^2)$ operations by using one matrix-vector multiplication and two rank-one updates.\n",
    "\n",
    "5. When symmetry is exploited in performing rank-2 update, tridiagonalization \n",
    "requires $4n^3/3$ operations. Instead of\n",
    "performing rank-2 update on $B$, one can\n",
    "accumulate $p$ transformations and perform rank-$2p$ update. \n",
    "This __block algorithm__ is rich in matrix--matrix multiplications (roughly one\n",
    "half of the operations is performed using BLAS 3 routines), but\n",
    "it requires extra workspace for $U$ and $V$.\n",
    "\n",
    "6. If $X$ is needed explicitly, it can be computed from the \n",
    "stored Householder vectors $v$.\n",
    "In order to minimize the operation count, the computation\n",
    "starts from the smallest matrix and the size is gradually\n",
    "increased:\n",
    "$$\n",
    "H_{n-2},\\quad H_{n-3}H_{n-2},\\dots,\\quad X=H_1\\cdots H_{n-2}. \n",
    "$$\n",
    "A column-oriented version is possible as well, and the operation count in both\n",
    "cases is $4n^3/3$. If the Householder reflectors $H_i$ are accumulated in the order\n",
    "in which they are generated, the operation count is $2n^3$.\n",
    "\n",
    "7. The backward error bounds for functions `myTridiag()` and `myTridiagX()` are as follows: \n",
    "The computed matrix $\\tilde T$ is equal to the matrix which\n",
    "would be obtained by exact tridiagonalization of some perturbed matrix $A+\\Delta A$, \n",
    "where $\\|\\Delta A\\|_2 \\leq \\psi \\varepsilon \\|A\\|_2$ and $\\psi$ is a\n",
    "slowly increasing function of $n$.\n",
    "The computed matrix $\\tilde X$ satisfies $\\tilde X=X+\\Delta X$, where\n",
    "$\\|\\Delta X \\|_2\\leq \\phi \\varepsilon$ \n",
    "and $\\phi$ is a slowly increasing function of $n$.\n",
    "\n",
    "8. Tridiagonalization using Givens rotations requires $\\frac{(n-1)(n-2)}{2}$ plane rotations, which \n",
    "amounts to $4n^3$ operations if symmetry is properly exploited. \n",
    "The operation count is reduced to $8n^3/3$ if fast rotations are used. Fast rotations are\n",
    "obtained by factoring out absolutely larger of $c$ and $s$ from $G$.\n",
    "\n",
    "10. Givens rotations in the function `myTridiagG()`  can be performed in different\n",
    "orderings. For example, the elements in the first column and row can be annihilated by\n",
    "rotations in the planes $(n-1,n)$, $(n-2,n-1)$, $\\ldots$, $(2,3)$.\n",
    "Givens rotations act more selectively than Householder reflectors, and\n",
    "are useful if $A$ has some special structure, for example, if $A$ is a banded matrix. \n",
    "\n",
    "11. Error bounds for function `myTridiagG()` are the same as above, \n",
    "but with slightly different functions $\\psi$ and $\\phi$.\n",
    "\n",
    "12. The block version of tridiagonal reduction is implemented in the \n",
    "[LAPACK](http://www.netlib.org/lapack) subroutine \n",
    "[DSYTRD](http://www.netlib.org/lapack/explore-3.1.1-html/dsytrd.f.html).\n",
    "The computation of $X$ is implemented in the subroutine \n",
    "[DORGTR](http://www.netlib.org/lapack/lapack-3.1.1/html/dorgtr.f.html).\n",
    "The size of the required extra workspace (in elements) is \n",
    "$lwork=nb*n$, where $nb$ is\n",
    "the optimal block size (here, $nb=64)$, and it\n",
    "is determined automatically by the subroutines. \n",
    "The subroutine [DSBTRD](http://www.netlib.org/lapack/explore-html/d0/d62/dsbtrd_8f.html) tridiagonalizes a symmetric band matrix by using Givens rotations. There are no Julia wappers for these routines yet!\n",
    "\n",
    "### Examples"
   ]
  },
  {
   "cell_type": "code",
   "execution_count": 17,
   "metadata": {},
   "outputs": [
    {
     "data": {
      "text/plain": [
       "myTridiag (generic function with 1 method)"
      ]
     },
     "execution_count": 17,
     "metadata": {},
     "output_type": "execute_result"
    }
   ],
   "source": [
    "function myTridiag(A::Array)\n",
    "    # Normalized Householder vectors are stored in the lower \n",
    "    # triangular part of A below the first subdiagonal\n",
    "    n=size(A,1)\n",
    "    T=Float64\n",
    "    A=map(T,A)\n",
    "    v=Array{T}(n)\n",
    "    Trid=SymTridiagonal(zeros(n),zeros(n-1))\n",
    "    for j = 1 : n-2\n",
    "        μ = sign(A[j+1,j])*vecnorm(A[j+1:n, j])\n",
    "        if μ != zero(T)\n",
    "            β =A[j+1,j]+μ\n",
    "            v[j+2:n] = A[j+2:n,j] / β\n",
    "        end\n",
    "        A[j+1,j]=-μ\n",
    "        A[j,j+1]=-μ\n",
    "        v[j+1] = one(T)\n",
    "        γ = -2 / (v[j+1:n]⋅v[j+1:n])\n",
    "        w = γ* A[j+1:n, j+1:n]*v[j+1:n]\n",
    "        q = w + γ * v[j+1:n]*(v[j+1:n]⋅w) / 2 \n",
    "        A[j+1:n, j+1:n] = A[j+1:n,j+1:n] + v[j+1:n]*q' + q*v[j+1:n]'\n",
    "        A[j+2:n, j] = v[j+2:n]\n",
    "    end\n",
    "    SymTridiagonal(diag(A),diag(A,1)), tril(A,-2)\n",
    "end"
   ]
  },
  {
   "cell_type": "code",
   "execution_count": 18,
   "metadata": {},
   "outputs": [
    {
     "data": {
      "text/plain": [
       "6×6 Array{Int64,2}:\n",
       " -8   2   1   9   2  -7\n",
       "  2  -7   0  -8   1  -8\n",
       "  1   0   2  -4  -3  -9\n",
       "  9  -8  -4  -2   0   5\n",
       "  2   1  -3   0   3   1\n",
       " -7  -8  -9   5   1  -5"
      ]
     },
     "execution_count": 18,
     "metadata": {},
     "output_type": "execute_result"
    }
   ],
   "source": [
    "A"
   ]
  },
  {
   "cell_type": "code",
   "execution_count": 19,
   "metadata": {},
   "outputs": [
    {
     "data": {
      "text/plain": [
       "([-8.0 -11.7898 … 0.0 0.0; -11.7898 -7.86331 … 0.0 0.0; … ; 0.0 0.0 … -15.9075 1.58; 0.0 0.0 … 1.58 4.23628], [0.0 0.0 … 0.0 0.0; 0.0 0.0 … 0.0 0.0; … ; 0.145034 0.228663 … 0.0 0.0; -0.507621 -0.0630159 … 0.0 0.0])"
      ]
     },
     "execution_count": 19,
     "metadata": {},
     "output_type": "execute_result"
    }
   ],
   "source": [
    "T,H=myTridiag(A)"
   ]
  },
  {
   "cell_type": "code",
   "execution_count": 20,
   "metadata": {},
   "outputs": [
    {
     "data": {
      "text/plain": [
       "6×6 SymTridiagonal{Float64}:\n",
       "  -8.0     -11.7898     ⋅         ⋅          ⋅        ⋅     \n",
       " -11.7898   -7.86331   3.05866    ⋅          ⋅        ⋅     \n",
       "    ⋅        3.05866  -1.59342  -5.10309     ⋅        ⋅     \n",
       "    ⋅         ⋅       -5.10309  12.128      5.23259   ⋅     \n",
       "    ⋅         ⋅         ⋅        5.23259  -15.9075   1.58   \n",
       "    ⋅         ⋅         ⋅         ⋅         1.58     4.23628"
      ]
     },
     "execution_count": 20,
     "metadata": {},
     "output_type": "execute_result"
    }
   ],
   "source": [
    "T"
   ]
  },
  {
   "cell_type": "code",
   "execution_count": 21,
   "metadata": {},
   "outputs": [
    {
     "data": {
      "text/plain": [
       "6×2 Array{Float64,2}:\n",
       " -19.9925   -19.9925 \n",
       " -17.0168   -17.0168 \n",
       "  -3.42589   -3.42589\n",
       "   4.31276    4.31276\n",
       "   4.43503    4.43503\n",
       "  14.6874    14.6874 "
      ]
     },
     "execution_count": 21,
     "metadata": {},
     "output_type": "execute_result"
    }
   ],
   "source": [
    "[eigvals(A) eigvals(T)]"
   ]
  },
  {
   "cell_type": "code",
   "execution_count": 22,
   "metadata": {},
   "outputs": [
    {
     "data": {
      "text/plain": [
       "myTridiagX (generic function with 1 method)"
      ]
     },
     "execution_count": 22,
     "metadata": {},
     "output_type": "execute_result"
    }
   ],
   "source": [
    "# Extract X\n",
    "function myTridiagX(H::Array)\n",
    "    n=size(H,1)\n",
    "    X = eye(n)\n",
    "    T=Float64\n",
    "    v=Array{T}(n)\n",
    "    for j = n-2 : -1 : 1\n",
    "        v[j+1] = one(T)\n",
    "        v[j+2:n] = H[j+2:n, j]\n",
    "        γ = -2 / (v[j+1:n]⋅v[j+1:n])\n",
    "        w = γ * X[j+1:n, j+1:n]'*v[j+1:n]\n",
    "        X[j+1:n, j+1:n] = X[j+1:n, j+1:n] + v[j+1:n]*w'\n",
    "    end\n",
    "    X\n",
    "end"
   ]
  },
  {
   "cell_type": "code",
   "execution_count": 23,
   "metadata": {},
   "outputs": [
    {
     "data": {
      "text/plain": [
       "6×6 Array{Float64,2}:\n",
       " 1.0   0.0         0.0         0.0        0.0         0.0     \n",
       " 0.0  -0.169638    0.34035     0.345391   0.811031    0.279854\n",
       " 0.0  -0.0848189  -0.855862    0.280828   0.319165   -0.282092\n",
       " 0.0  -0.76337     0.0618455  -0.536748   0.15311    -0.319219\n",
       " 0.0  -0.169638   -0.380649   -0.318249  -0.0337967   0.850826\n",
       " 0.0   0.593732   -0.0542644  -0.642231   0.464518   -0.127672"
      ]
     },
     "execution_count": 23,
     "metadata": {},
     "output_type": "execute_result"
    }
   ],
   "source": [
    "X=myTridiagX(H)"
   ]
  },
  {
   "cell_type": "code",
   "execution_count": 24,
   "metadata": {},
   "outputs": [
    {
     "data": {
      "text/plain": [
       "6×6 Array{Float64,2}:\n",
       " 1.0   0.0           0.0           0.0           0.0           0.0        \n",
       " 0.0   1.0          -4.44859e-17  -4.16648e-17   1.86421e-16   8.72293e-18\n",
       " 0.0  -4.44859e-17   1.0          -1.17864e-16  -1.02294e-16   1.07862e-16\n",
       " 0.0  -4.16648e-17  -1.17864e-16   1.0          -9.72387e-17  -1.38198e-16\n",
       " 0.0   1.86421e-16  -1.02294e-16  -9.72387e-17   1.0           1.66645e-17\n",
       " 0.0   8.72293e-18   1.07862e-16  -1.38198e-16   1.66645e-17   1.0        "
      ]
     },
     "execution_count": 24,
     "metadata": {},
     "output_type": "execute_result"
    }
   ],
   "source": [
    "# Fact 7: norm(ΔX)<ϕ*eps()\n",
    "X'*X"
   ]
  },
  {
   "cell_type": "code",
   "execution_count": 25,
   "metadata": {},
   "outputs": [
    {
     "data": {
      "text/plain": [
       "6×6 Array{Float64,2}:\n",
       "  -8.0          -11.7898        9.15934e-16  …   -6.10623e-16   2.77556e-17\n",
       " -11.7898        -7.86331       3.05866          -2.10269e-15  -2.20925e-17\n",
       "   8.88178e-16    3.05866      -1.59342           2.16402e-16   4.59941e-16\n",
       "   0.0            9.97248e-16  -5.10309           5.23259      -4.84721e-16\n",
       "  -4.44089e-16   -2.7339e-15    1.00935e-16     -15.9075        1.58       \n",
       "   0.0           -6.99656e-17   6.3528e-16   …    1.58          4.23628    "
      ]
     },
     "execution_count": 25,
     "metadata": {},
     "output_type": "execute_result"
    }
   ],
   "source": [
    "X'*A*X"
   ]
  },
  {
   "cell_type": "code",
   "execution_count": 26,
   "metadata": {},
   "outputs": [
    {
     "data": {
      "text/plain": [
       "myTridiagG (generic function with 1 method)"
      ]
     },
     "execution_count": 26,
     "metadata": {},
     "output_type": "execute_result"
    }
   ],
   "source": [
    "# Tridiagonalization using Givens rotations\n",
    "function myTridiagG(A::Array)\n",
    "    n=size(A,1)\n",
    "    X=eye(n)\n",
    "    for j = 1 : n-2\n",
    "        for i = j+2 : n\n",
    "            G,r=givens(A,j+1,i,j)\n",
    "            A=(G*A)*G'\n",
    "            X*=G'\n",
    "        end\n",
    "    end\n",
    "    SymTridiagonal(diag(A),diag(A,1)), X\n",
    "end"
   ]
  },
  {
   "cell_type": "code",
   "execution_count": 27,
   "metadata": {},
   "outputs": [
    {
     "data": {
      "text/html": [
       "3 methods for generic function <b>givens</b>:<ul><li> givens(A::<b>AbstractArray{T,2} where T</b>, i1::<b>Integer</b>, i2::<b>Integer</b>, j::<b>Integer</b>) at <a href=\"https://github.com/JuliaLang/julia/tree/d386e40c17d43b79fc89d3e579fc04547241787c/base/linalg/givens.jl#L281\" target=\"_blank\">linalg\\givens.jl:281</a></li> <li> givens(x::<b>AbstractArray{T,1} where T</b>, i1::<b>Integer</b>, i2::<b>Integer</b>) at <a href=\"https://github.com/JuliaLang/julia/tree/d386e40c17d43b79fc89d3e579fc04547241787c/base/linalg/givens.jl#L300\" target=\"_blank\">linalg\\givens.jl:300</a></li> <li> givens<i>{T}</i>(f::<b>T</b>, g::<b>T</b>, i1::<b>Integer</b>, i2::<b>Integer</b>) at <a href=\"https://github.com/JuliaLang/julia/tree/d386e40c17d43b79fc89d3e579fc04547241787c/base/linalg/givens.jl#L256\" target=\"_blank\">linalg\\givens.jl:256</a></li> </ul>"
      ],
      "text/plain": [
       "# 3 methods for generic function \"givens\":\n",
       "givens(A::AbstractArray{T,2} where T, i1::Integer, i2::Integer, j::Integer) in Base.LinAlg at linalg\\givens.jl:281\n",
       "givens(x::AbstractArray{T,1} where T, i1::Integer, i2::Integer) in Base.LinAlg at linalg\\givens.jl:300\n",
       "givens(f::T, g::T, i1::Integer, i2::Integer) where T in Base.LinAlg at linalg\\givens.jl:256"
      ]
     },
     "execution_count": 27,
     "metadata": {},
     "output_type": "execute_result"
    }
   ],
   "source": [
    "# Lat us take a look at the `givens()` functions\n",
    "methods(givens)"
   ]
  },
  {
   "cell_type": "code",
   "execution_count": 28,
   "metadata": {},
   "outputs": [
    {
     "data": {
      "text/plain": [
       "([-8.0 11.7898 … 0.0 0.0; 11.7898 -7.86331 … 0.0 0.0; … ; 0.0 0.0 … -15.9075 1.58; 0.0 0.0 … 1.58 4.23628], [1.0 0.0 … 0.0 0.0; 0.0 0.169638 … 0.811031 0.279854; … ; 0.0 0.169638 … -0.0337967 0.850826; 0.0 -0.593732 … 0.464518 -0.127672])"
      ]
     },
     "execution_count": 28,
     "metadata": {},
     "output_type": "execute_result"
    }
   ],
   "source": [
    "Tg,Xg=myTridiagG(map(Float64,A))"
   ]
  },
  {
   "cell_type": "code",
   "execution_count": 29,
   "metadata": {},
   "outputs": [
    {
     "data": {
      "text/plain": [
       "6×6 SymTridiagonal{Float64}:\n",
       " -8.0     11.7898     ⋅         ⋅          ⋅        ⋅     \n",
       " 11.7898  -7.86331   3.05866    ⋅          ⋅        ⋅     \n",
       "   ⋅       3.05866  -1.59342   5.10309     ⋅        ⋅     \n",
       "   ⋅        ⋅        5.10309  12.128      5.23259   ⋅     \n",
       "   ⋅        ⋅         ⋅        5.23259  -15.9075   1.58   \n",
       "   ⋅        ⋅         ⋅         ⋅         1.58     4.23628"
      ]
     },
     "execution_count": 29,
     "metadata": {},
     "output_type": "execute_result"
    }
   ],
   "source": [
    "Tg"
   ]
  },
  {
   "cell_type": "code",
   "execution_count": 30,
   "metadata": {},
   "outputs": [
    {
     "data": {
      "text/plain": [
       "6×6 Array{Float64,2}:\n",
       " 1.0   0.0           0.0           0.0           0.0          0.0        \n",
       " 0.0   1.0           2.78558e-18  -6.93575e-17  -1.81482e-17  1.46993e-17\n",
       " 0.0   2.78558e-18   1.0          -4.3704e-17   -3.23229e-17  8.9994e-17 \n",
       " 0.0  -6.93575e-17  -4.3704e-17    1.0           2.06216e-18  2.84572e-17\n",
       " 0.0  -1.81482e-17  -3.23229e-17   2.06216e-18   1.0          1.59679e-17\n",
       " 0.0   1.46993e-17   8.9994e-17    2.84572e-17   1.59679e-17  1.0        "
      ]
     },
     "execution_count": 30,
     "metadata": {},
     "output_type": "execute_result"
    }
   ],
   "source": [
    "Xg'*Xg"
   ]
  },
  {
   "cell_type": "code",
   "execution_count": 31,
   "metadata": {},
   "outputs": [
    {
     "data": {
      "text/plain": [
       "6×6 Array{Float64,2}:\n",
       " -8.0          11.7898       -1.38778e-17  …   -3.33067e-16   0.0        \n",
       " 11.7898       -7.86331       3.05866          -7.66205e-17   2.97657e-16\n",
       "  0.0           3.05866      -1.59342           4.08771e-16  -3.67973e-16\n",
       " -8.88178e-16  -5.36533e-17   5.10309           5.23259       8.73724e-16\n",
       " -4.44089e-16  -1.54049e-15   1.09398e-15     -15.9075        1.58       \n",
       " -4.44089e-16   2.39939e-16  -6.5358e-16   …    1.58          4.23628    "
      ]
     },
     "execution_count": 31,
     "metadata": {},
     "output_type": "execute_result"
    }
   ],
   "source": [
    "Xg'*A*Xg"
   ]
  },
  {
   "cell_type": "markdown",
   "metadata": {},
   "source": [
    "## Tridiagonal QR method\n",
    "\n",
    "Let $T$ be a real symmetric tridiagonal matrix of order $n$ and $T=Q\\Lambda Q^T$ be its EVD.\n",
    "\n",
    "Each step of the shifted QR iterations can be elegantly implemented without explicitly computing the \n",
    "shifted matrix  $T-\\mu I$.\n",
    "\n",
    "\n",
    "### Definition\n",
    "\n",
    "__Wilkinson's shift__ $\\mu$ is the eigenvalue of the bottom right $2\\times 2$ submatrix of $T$, which\n",
    "  is closer to $T_{n,n}$. \n",
    "\n",
    "\n",
    "### Facts\n",
    "\n",
    "1. The stable formula for the Wilkinson's shift is\n",
    "$$\n",
    "\\mu=T_{n,n}-\n",
    "\\frac{T_{n,n-1}^2}{\\tau+\\mathop{\\mathrm{sign}}(\\tau)\\sqrt{\\tau^2+T_{n,n-1}^2}},\\qquad\n",
    "\\tau=\\frac{T_{n-1,n-1}-T_{n,n}}{2}.\n",
    "$$\n",
    "\n",
    "2. Wilkinson's shift is the most commonly used shift. \n",
    "  With Wilkinson's shift, the algorithm always converges in\n",
    "  the sense that $T_{n-1,n}\\to 0$. The convergence is quadratic, that\n",
    "  is, $|[T_{k+1}]_{n-1,n}|\\leq c |[T_{k}]_{n-1,n}|^2$ for some\n",
    "  constant $c$, where $T_k$ is the matrix after the $k$-th sweep. \n",
    "  Even more, the convergence is usually cubic. However,\n",
    "  it can also happen that some $T_{i,i+i}$, $i\\neq n-1$, becomes\n",
    "  sufficiently small before $T_{n-1,n}$, so the practical program has to check\n",
    "  for deflation at each step.\n",
    "\n",
    "3. __Chasing the Bulge.__ The plane rotation parameters at the start of the sweep are computed \n",
    "as if the shifted $T-\\mu I$ has been formed. Since the rotation is\n",
    "applied to the original $T$ and not to $T-\\mu I$, \n",
    "this creates new nonzero elements at the positions $(3,1)$ and\n",
    "$(1, 3)$, the so-called __bulge__.  The subsequent rotations simply\n",
    "chase the bulge out of the lower right corner of the matrix. The\n",
    "rotation in the $(2,3)$ plane sets the elements $(3,1)$ and $(1,3)$\n",
    "back to zero, but it generates two new nonzero elements at positions\n",
    "$(4,2)$ and $(2,4)$; the rotation in the $(3,4)$ plane sets the\n",
    "elements $(4,2)$ and $(2,4)$ back to zero, but it generates two new\n",
    "nonzero elements at positions $(5,3)$ and $(3,5)$, etc.\n",
    "\n",
    "4. The effect of this procedure is the following. At the end of the first sweep, the\n",
    "resulting matrix $T_1$ is equal to the the matrix\n",
    "that would have been obtained by factorizing $T-\\mu I=QR$\n",
    "and computing $T_1=RQ+\\mu I$.\n",
    "\n",
    "5. Since the convergence of the function `myTridEigQR()` is quadratic (or even cubic), \n",
    "  an eigenvalue is isolated after just a few steps, which requires\n",
    "  $O(n)$ operations. This means that $O(n^2)$ operations are needed to\n",
    "  compute all eigenvalues. \n",
    "\n",
    "6. If the eigenvector matrix $Q$ is desired, the plane rotations need to be\n",
    "accumulated similarly to the accumulation of $X$ in the function `myTridiagG()`.\n",
    "This accumulation requires $O(n^3)$ operations. Another, faster, algorithm to \n",
    "first compute only $\\Lambda$ and then compute $Q$ using inverse iterations. \n",
    "Inverse iterations on a tridiagonal matrix are implemented in the LAPACK routine \n",
    "[DSTEIN](http://www.netlib.org/lapack/explore-html/d8/d35/dstein_8f.html).\n",
    "\n",
    "7. __Error bounds.__ Let $U\\Lambda U^T$ and $\\tilde U \\tilde \\Lambda \\tilde U^T$ be the\n",
    "exact and the computed EVDs of $A$, respectively, such that the diagonals of $\\Lambda$\n",
    "and $\\tilde \\Lambda$ are in the same order.\n",
    "Numerical methods generally compute the EVD with the errors bounded by\n",
    "$$\n",
    "|\\lambda_i-\\tilde \\lambda_i|\\leq \\phi \\epsilon\\|A\\|_2,\n",
    "\\qquad\n",
    "\\|u_i-\\tilde u_i\\|_2\\leq \\psi\\epsilon \\frac{\\|A\\|_2}\n",
    "{\\min_{j\\neq i} \n",
    "|\\lambda_i-\\tilde \\lambda_j|},\n",
    "$$\n",
    "where $\\epsilon$ is machine precision and $\\phi$ and $\\psi$\n",
    "are slowly growing polynomial functions of\n",
    "$n$ which depend upon the algorithm used (typically $O(n)$ or $O(n^2)$).\n",
    "Such bounds are obtained by combining perturbation bounds with the floating-point error analysis of the respective\n",
    "algorithms.\n",
    "\n",
    "8. The eigenvalue decomposition $T=Q\\Lambda Q^T$ computed by `myTridEigQR()` satisfies the\n",
    "error bounds from fact 7. with $A$ replaced by $T$ and $U$ replaced by $Q$. The deflation criterion \n",
    "implies $|T_{i,i+1}|\\leq \\epsilon \\|T\\|_F$, which is within these\n",
    "bounds.\n",
    "   \n",
    "9. The EVD computed by function `mySymEigQR()` satisfies the error bounds given in Fact 7. \n",
    "However, the algorithm tends to perform better on matrices, which are\n",
    "graded downwards, that is, on matrices that exhibit systematic decrease\n",
    "in the size of the matrix elements as we move along the diagonal.  \n",
    "For such matrices the tiny eigenvalues can usually be computed with higher\n",
    "relative accuracy (although counterexamples can be easily constructed).\n",
    "If the tiny eigenvalues are of interest, it should be checked whether\n",
    "there exists a symmetric permutation that moves larger elements to the\n",
    "upper left corner, thus converting the given matrix to the\n",
    "one that is graded downwards.\n",
    "\n",
    "10. The function `myTridEigQR()` is implemented in the \n",
    "LAPACK subroutine [DSTEQR](http://www.netlib.org/lapack/explore-html/d9/d3f/dsteqr_8f.html). \n",
    "This routine can compute just the\n",
    "eigenvalues, or both eigenvalues and eigenvectors.\n",
    "\n",
    "11. The function `mySymEigQR()` is  Algorithm 5 is implemented in the functions `eig()`, `eigvals()` and `eigvecs()`, \n",
    "and in the  LAPACK routine [DSYEV](http://www.netlib.org/lapack/explore-html/dd/d4c/dsyev_8f.html).\n",
    "To compute only eigenvalues, DSYEV calls DSYTRD and DSTEQR\n",
    "without the eigenvector option. To compute both eigenvalues and eigenvectors,\n",
    "DSYEV calls DSYTRD, DORGTR, and DSTEQR with the eigenvector\n",
    "option.\n",
    "\n",
    "### Examples"
   ]
  },
  {
   "cell_type": "code",
   "execution_count": 32,
   "metadata": {},
   "outputs": [
    {
     "data": {
      "text/plain": [
       "myTridEigQR (generic function with 1 method)"
      ]
     },
     "execution_count": 32,
     "metadata": {},
     "output_type": "execute_result"
    }
   ],
   "source": [
    "function myTridEigQR(A1::SymTridiagonal)\n",
    "    A=deepcopy(A1)\n",
    "    n=length(A.dv)\n",
    "    T=Float64\n",
    "    λ=Array{T}(n)\n",
    "    B=Array{T}\n",
    "    if n==1\n",
    "        return map(T,A.dv)\n",
    "    end\n",
    "    if n==2\n",
    "        τ=(A.dv[end-1]-A.dv[end])/2\n",
    "        μ=A.dv[end]-A.ev[end]^2/(τ+sign(τ)*sqrt(τ^2+A.ev[end]^2))\n",
    "        # Only rotation\n",
    "        B=A[1:2,1:2]\n",
    "        G,r=givens(B-μ*I,1,2,1)\n",
    "        B=(G*B)*G'\n",
    "        return diag(B)[1:2]\n",
    "    end\n",
    "    steps=1\n",
    "    k=0\n",
    "    while k==0 && steps<=10\n",
    "        # Shift\n",
    "        τ=(A.dv[end-1]-A.dv[end])/2\n",
    "        μ=A.dv[end]-A.ev[end]^2/(τ+sign(τ)*sqrt(τ^2+A.ev[end]^2))\n",
    "        # First rotation\n",
    "        B=A[1:3,1:3]\n",
    "        G,r=givens(B-μ*I,1,2,1)\n",
    "        B=(G*B)*G'\n",
    "        A.dv[1:2]=diag(B)[1:2]\n",
    "        A.ev[1:2]=diag(B,-1)\n",
    "        bulge=B[3,1]\n",
    "        # Bulge chasing\n",
    "        for i = 2 : n-2\n",
    "            B=A[i-1:i+2,i-1:i+2]\n",
    "            B[3,1]=bulge\n",
    "            B[1,3]=bulge\n",
    "            G,r=givens(B,2,3,1)\n",
    "            B=(G*B)*G'\n",
    "            A.dv[i:i+1]=diag(B)[2:3]\n",
    "            A.ev[i-1:i+1]=diag(B,-1)\n",
    "            bulge=B[4,2]\n",
    "        end\n",
    "        # Last rotation\n",
    "        B=A[n-2:n,n-2:n]\n",
    "        B[3,1]=bulge\n",
    "        B[1,3]=bulge\n",
    "        G,r=givens(B,2,3,1)\n",
    "        B=(G*B)*G'\n",
    "        A.dv[n-1:n]=diag(B)[2:3]\n",
    "        A.ev[n-2:n-1]=diag(B,-1)\n",
    "        steps+=1\n",
    "        # Deflation criterion\n",
    "        k=findfirst(abs.(A.ev) .< sqrt.(abs.(A.dv[1:n-1].*A.dv[2:n]))*eps(T))\n",
    "    end\n",
    "    λ[1:k]=myTridEigQR(SymTridiagonal(A.dv[1:k],A.ev[1:k-1]))\n",
    "    λ[k+1:n]=myTridEigQR(SymTridiagonal(A.dv[k+1:n],A.ev[k+1:n-1]))\n",
    "    λ\n",
    "end"
   ]
  },
  {
   "cell_type": "code",
   "execution_count": 33,
   "metadata": {},
   "outputs": [
    {
     "data": {
      "text/plain": [
       "6-element Array{Float64,1}:\n",
       " -19.9925 \n",
       " -17.0168 \n",
       "  -3.42589\n",
       "   4.31276\n",
       "   4.43503\n",
       "  14.6874 "
      ]
     },
     "execution_count": 33,
     "metadata": {},
     "output_type": "execute_result"
    }
   ],
   "source": [
    "λ=eigvals(T)"
   ]
  },
  {
   "cell_type": "code",
   "execution_count": 34,
   "metadata": {},
   "outputs": [
    {
     "data": {
      "text/plain": [
       "6-element Array{Float64,1}:\n",
       " -19.9925 \n",
       " -17.0168 \n",
       "  14.6874 \n",
       "  -3.42589\n",
       "   4.43503\n",
       "   4.31276"
      ]
     },
     "execution_count": 34,
     "metadata": {},
     "output_type": "execute_result"
    }
   ],
   "source": [
    "λ₁=myTridEigQR(T)"
   ]
  },
  {
   "cell_type": "code",
   "execution_count": 35,
   "metadata": {},
   "outputs": [
    {
     "data": {
      "text/plain": [
       "6-element Array{Float64,1}:\n",
       " -0.0        \n",
       "  4.17553e-16\n",
       " -9.07392e-16\n",
       "  6.17826e-16\n",
       "  6.00793e-16\n",
       " -2.41888e-16"
      ]
     },
     "execution_count": 35,
     "metadata": {},
     "output_type": "execute_result"
    }
   ],
   "source": [
    "(sort(λ)-sort(λ₁))./sort(λ)"
   ]
  },
  {
   "cell_type": "markdown",
   "metadata": {},
   "source": [
    "###  Computing the eigenvectors \n",
    "\n",
    "Once the eigenvalues are computed, the eigeenvectors can be efficiently computed with inverse iterations. \n",
    "Inverse iterations for tridiagonal matrices are implemented in the LAPACK routine \n",
    "[DSTEIN](http://www.netlib.org/lapack/explore-html/d8/d35/dstein_8f.html)."
   ]
  },
  {
   "cell_type": "code",
   "execution_count": 36,
   "metadata": {},
   "outputs": [
    {
     "data": {
      "text/plain": [
       "6×6 Array{Float64,2}:\n",
       "  0.694988    -0.03569     0.276879    0.353131   -0.5599      0.0294336\n",
       "  0.706937    -0.0272955  -0.107421   -0.368794    0.590541   -0.0566397\n",
       " -0.124501    -0.0558835   0.911406   -0.106945    0.216287   -0.304136 \n",
       " -0.0251675   -0.18526     0.262891   -0.0972702   0.0984485   0.936365 \n",
       "  0.0330718    0.977373    0.107407    0.0409805   0.0661956   0.161405 \n",
       " -0.00215667  -0.0726602  -0.0221482   0.846588    0.526231    0.0244011"
      ]
     },
     "execution_count": 36,
     "metadata": {},
     "output_type": "execute_result"
    }
   ],
   "source": [
    "U=LAPACK.stein!(T.dv,T.ev,λ)"
   ]
  },
  {
   "cell_type": "code",
   "execution_count": 37,
   "metadata": {},
   "outputs": [
    {
     "data": {
      "text/plain": [
       "4.188934851832539e-15"
      ]
     },
     "execution_count": 37,
     "metadata": {},
     "output_type": "execute_result"
    }
   ],
   "source": [
    "# Orthogonality\n",
    "vecnorm(U'*U-I)"
   ]
  },
  {
   "cell_type": "code",
   "execution_count": 38,
   "metadata": {},
   "outputs": [
    {
     "data": {
      "text/plain": [
       "1.3286378355579727e-14"
      ]
     },
     "execution_count": 38,
     "metadata": {},
     "output_type": "execute_result"
    }
   ],
   "source": [
    "# Residual\n",
    "vecnorm(T*U-U*diagm(λ))"
   ]
  },
  {
   "cell_type": "code",
   "execution_count": 39,
   "metadata": {},
   "outputs": [
    {
     "name": "stdout",
     "output_type": "stream",
     "text": [
      "  0.229478 seconds (2.29 M allocations: 219.497 MiB, 19.33% gc time)\n",
      "  0.003336 seconds (12 allocations: 13.234 KiB)\n",
      "  0.016497 seconds (24 allocations: 1.266 MiB)\n"
     ]
    }
   ],
   "source": [
    "# Some timings - n=100, 200, 400\n",
    "n=400\n",
    "Tbig=SymTridiagonal(rand(n),rand(n-1))\n",
    "@time myTridEigQR(Tbig);\n",
    "@time λbig=eigvals(Tbig);\n",
    "@time LAPACK.stein!(Tbig.dv,Tbig.ev,λbig);"
   ]
  },
  {
   "cell_type": "code",
   "execution_count": 40,
   "metadata": {},
   "outputs": [
    {
     "name": "stdout",
     "output_type": "stream",
     "text": [
      "  0.088483 seconds (12 allocations: 63.141 KiB)\n",
      "  0.420964 seconds (26 allocations: 30.722 MiB, 1.42% gc time)\n",
      "  0.699750 seconds (72.19 k allocations: 35.007 MiB, 3.11% gc time)\n"
     ]
    }
   ],
   "source": [
    "n=2000\n",
    "Tbig=SymTridiagonal(rand(n),rand(n-1))\n",
    "@time λbig=eigvals(Tbig);\n",
    "@time U=LAPACK.stein!(Tbig.dv,Tbig.ev,λbig);\n",
    "@time eig(Tbig);"
   ]
  },
  {
   "cell_type": "markdown",
   "metadata": {},
   "source": [
    "Alternatively, the rotations in `myTridEigQR()` can be accumulated to compute the eigenvctors. This is not optimal, but is instructive. We keep the name of the function, using Julia's __multiple dispatch__ feature."
   ]
  },
  {
   "cell_type": "code",
   "execution_count": 41,
   "metadata": {},
   "outputs": [
    {
     "data": {
      "text/plain": [
       "myTridEigQR (generic function with 2 methods)"
      ]
     },
     "execution_count": 41,
     "metadata": {},
     "output_type": "execute_result"
    }
   ],
   "source": [
    "function myTridEigQR(A1::SymTridiagonal,U::Array)\n",
    "    # U is either the identity matrix or the output from myTridiagX()\n",
    "    A=deepcopy(A1)\n",
    "    n=length(A.dv)\n",
    "    T=Float64\n",
    "    λ=Array{T}(n)\n",
    "    B=Array{T}\n",
    "    if n==1\n",
    "        return map(T,A.dv), U\n",
    "    end\n",
    "    if n==2\n",
    "        τ=(A.dv[end-1]-A.dv[end])/2\n",
    "        μ=A.dv[end]-A.ev[end]^2/(τ+sign(τ)*sqrt(τ^2+A.ev[end]^2))\n",
    "        # Only rotation\n",
    "        B=A[1:2,1:2]\n",
    "        G,r=givens(B-μ*I,1,2,1)\n",
    "        B=(G*B)*G'\n",
    "        U*=G'\n",
    "        return diag(B)[1:2], U\n",
    "    end\n",
    "    steps=1\n",
    "    k=0\n",
    "    while k==0 && steps<=10\n",
    "        # Shift\n",
    "        τ=(A.dv[end-1]-A.dv[end])/2\n",
    "        μ=A.dv[end]-A.ev[end]^2/(τ+sign(τ)*sqrt(τ^2+A.ev[end]^2))\n",
    "        # First rotation\n",
    "        B=A[1:3,1:3]\n",
    "        G,r=givens(B-μ*I,1,2,1)\n",
    "        B=(G*B)*G'\n",
    "        U[:,1:3]*=G'\n",
    "        A.dv[1:2]=diag(B)[1:2]\n",
    "        A.ev[1:2]=diag(B,-1)\n",
    "        bulge=B[3,1]\n",
    "        # Bulge chasing\n",
    "        for i = 2 : n-2\n",
    "            B=A[i-1:i+2,i-1:i+2]\n",
    "            B[3,1]=bulge\n",
    "            B[1,3]=bulge\n",
    "            G,r=givens(B,2,3,1)\n",
    "            B=(G*B)*G'\n",
    "            U[:,i-1:i+2]=U[:,i-1:i+2]*G'\n",
    "            A.dv[i:i+1]=diag(B)[2:3]\n",
    "            A.ev[i-1:i+1]=diag(B,-1)\n",
    "            bulge=B[4,2]\n",
    "        end\n",
    "        # Last rotation\n",
    "        B=A[n-2:n,n-2:n]\n",
    "        B[3,1]=bulge\n",
    "        B[1,3]=bulge\n",
    "        G,r=givens(B,2,3,1)\n",
    "        B=(G*B)*G'\n",
    "        U[:,n-2:n]*=G'\n",
    "        A.dv[n-1:n]=diag(B)[2:3]\n",
    "        A.ev[n-2:n-1]=diag(B,-1)\n",
    "        steps+=1\n",
    "        # Deflation criterion\n",
    "        k=findfirst(abs.(A.ev) .< sqrt.(abs.(A.dv[1:n-1].*A.dv[2:n]))*eps())\n",
    "    end\n",
    "    λ[1:k], U[:,1:k]=myTridEigQR(SymTridiagonal(A.dv[1:k],A.ev[1:k-1]),U[:,1:k])\n",
    "    λ[k+1:n], U[:,k+1:n]=myTridEigQR(SymTridiagonal(A.dv[k+1:n],A.ev[k+1:n-1]),U[:,k+1:n])\n",
    "    λ, U\n",
    "end"
   ]
  },
  {
   "cell_type": "code",
   "execution_count": 42,
   "metadata": {},
   "outputs": [
    {
     "data": {
      "text/plain": [
       "6-element Array{Float64,1}:\n",
       " -19.9925 \n",
       " -17.0168 \n",
       "  14.6874 \n",
       "  -3.42589\n",
       "   4.43503\n",
       "   4.31276"
      ]
     },
     "execution_count": 42,
     "metadata": {},
     "output_type": "execute_result"
    }
   ],
   "source": [
    "λ,U=myTridEigQR(T,eye(T))\n",
    "λ"
   ]
  },
  {
   "cell_type": "code",
   "execution_count": 43,
   "metadata": {},
   "outputs": [
    {
     "data": {
      "text/plain": [
       "6×6 Array{Float64,2}:\n",
       "  0.694988     0.03569    -0.0294336  -0.276879    0.5599      0.353131 \n",
       "  0.706937     0.0272955   0.0566397   0.107421   -0.590541   -0.368794 \n",
       " -0.124501     0.0558835   0.304136   -0.911406   -0.216287   -0.106945 \n",
       " -0.0251675    0.18526    -0.936365   -0.262891   -0.0984485  -0.0972702\n",
       "  0.0330718   -0.977373   -0.161405   -0.107407   -0.0661956   0.0409805\n",
       " -0.00215667   0.0726602  -0.0244011   0.0221482  -0.526231    0.846588 "
      ]
     },
     "execution_count": 43,
     "metadata": {},
     "output_type": "execute_result"
    }
   ],
   "source": [
    "U"
   ]
  },
  {
   "cell_type": "code",
   "execution_count": 44,
   "metadata": {},
   "outputs": [
    {
     "data": {
      "text/plain": [
       "1.129617160867208e-15"
      ]
     },
     "execution_count": 44,
     "metadata": {},
     "output_type": "execute_result"
    }
   ],
   "source": [
    "# Orthogonality\n",
    "vecnorm(U'*U-I)"
   ]
  },
  {
   "cell_type": "code",
   "execution_count": 45,
   "metadata": {},
   "outputs": [
    {
     "data": {
      "text/plain": [
       "2.0419465920932006e-14"
      ]
     },
     "execution_count": 45,
     "metadata": {},
     "output_type": "execute_result"
    }
   ],
   "source": [
    "# Residual\n",
    "vecnorm(T*U-U*diagm(λ))"
   ]
  },
  {
   "cell_type": "markdown",
   "metadata": {},
   "source": [
    "## Symmetric QR method\n",
    "\n",
    "Combining `myTridiag()`, `myTridiagX()` and `myTridEigQR()`, we get the method for computing symmetric EVD."
   ]
  },
  {
   "cell_type": "code",
   "execution_count": 46,
   "metadata": {},
   "outputs": [
    {
     "data": {
      "text/plain": [
       "mySymEigQR (generic function with 1 method)"
      ]
     },
     "execution_count": 46,
     "metadata": {},
     "output_type": "execute_result"
    }
   ],
   "source": [
    "function mySymEigQR(A::Array)\n",
    "    T,H=myTridiag(A)\n",
    "    X=myTridiagX(H)\n",
    "    myTridEigQR(T,X)\n",
    "end"
   ]
  },
  {
   "cell_type": "code",
   "execution_count": 47,
   "metadata": {},
   "outputs": [
    {
     "data": {
      "text/plain": [
       "6-element Array{Float64,1}:\n",
       " -19.9925 \n",
       " -17.0168 \n",
       "  14.6874 \n",
       "  -3.42589\n",
       "   4.43503\n",
       "   4.31276"
      ]
     },
     "execution_count": 47,
     "metadata": {},
     "output_type": "execute_result"
    }
   ],
   "source": [
    "λ,U=mySymEigQR(map(Float64,A))\n",
    "λ"
   ]
  },
  {
   "cell_type": "code",
   "execution_count": 48,
   "metadata": {},
   "outputs": [
    {
     "data": {
      "text/plain": [
       "6×6 Array{Float64,2}:\n",
       "  0.694988    0.03569     -0.0294336  -0.276879    0.5599     0.353131 \n",
       " -0.144771   -0.693969    -0.36724    -0.500131   -0.208393   0.262724 \n",
       "  0.0506903  -0.330558    -0.572692    0.65657     0.334872  -0.130241 \n",
       " -0.528094   -0.289658     0.461241   -0.0207771   0.648115   0.0631494\n",
       " -0.067475    0.00999187   0.157314    0.434842   -0.231655   0.85314  \n",
       "  0.458288   -0.56909      0.546628    0.229353   -0.239224  -0.239741 "
      ]
     },
     "execution_count": 48,
     "metadata": {},
     "output_type": "execute_result"
    }
   ],
   "source": [
    "U"
   ]
  },
  {
   "cell_type": "code",
   "execution_count": 49,
   "metadata": {},
   "outputs": [
    {
     "data": {
      "text/plain": [
       "8.568746140691952e-16"
      ]
     },
     "execution_count": 49,
     "metadata": {},
     "output_type": "execute_result"
    }
   ],
   "source": [
    "# Orthogonality \n",
    "norm(U'*U-I)"
   ]
  },
  {
   "cell_type": "code",
   "execution_count": 50,
   "metadata": {},
   "outputs": [
    {
     "data": {
      "text/plain": [
       "2.228406304390812e-14"
      ]
     },
     "execution_count": 50,
     "metadata": {},
     "output_type": "execute_result"
    }
   ],
   "source": [
    "# Residual\n",
    "vecnorm(A*U-U*diagm(λ))"
   ]
  },
  {
   "cell_type": "markdown",
   "metadata": {},
   "source": [
    "## Unsymmetric matrices\n",
    "\n",
    "The $QR$ iterations for unsymmetric matrices are implemented as follows:\n",
    "\n",
    "1. Reduce $A$ to Hessenberg form form $H$ by orthogonal similarities, $X^TAX=H$.\n",
    "2. Compute the EVD of $H$ with QR iterations, $H=Q\\Lambda Q^*$.\n",
    "3. Multiply $U=XQ$.\n",
    "\n",
    "The algorithm requires of $O(n^3)$ operations. For more details, see \n",
    "[D. Watkins, Unsymmetric Matrix Eigenvalue Techniques][Hog14] and the references therein.\n",
    "\n",
    "[Hog14]: #1 \"L. Hogben, ed., 'Handbook of Linear Algebra', pp. 56.1-56.12, CRC Press, Boca Raton, 2014.\""
   ]
  },
  {
   "cell_type": "code",
   "execution_count": 51,
   "metadata": {},
   "outputs": [
    {
     "data": {
      "text/plain": [
       "5×5 Array{Int64,2}:\n",
       " -1   4   6  -2  -9\n",
       " -7   6  -8  -5  -5\n",
       " -8   3   0  -7  -9\n",
       "  0   7  -9   2   3\n",
       "  0  -6   3  -4   4"
      ]
     },
     "execution_count": 51,
     "metadata": {},
     "output_type": "execute_result"
    }
   ],
   "source": [
    "A=rand(-9:9,5,5)"
   ]
  },
  {
   "cell_type": "code",
   "execution_count": 52,
   "metadata": {},
   "outputs": [
    {
     "data": {
      "text/plain": [
       "5-element Array{Complex{Float64},1}:\n",
       "   4.69648+6.89506im\n",
       "   4.69648-6.89506im\n",
       " -0.255854+5.41527im\n",
       " -0.255854-5.41527im\n",
       "   2.11875+0.0im    "
      ]
     },
     "execution_count": 52,
     "metadata": {},
     "output_type": "execute_result"
    }
   ],
   "source": [
    "λ,X=eig(A)\n",
    "λ"
   ]
  },
  {
   "cell_type": "code",
   "execution_count": 53,
   "metadata": {},
   "outputs": [
    {
     "data": {
      "text/plain": [
       "5×5 Array{Complex{Float64},2}:\n",
       "  0.634239+0.0im        0.634239-0.0im       …  -0.75577+0.0im\n",
       " -0.175509+0.338943im  -0.175509-0.338943im     0.185923+0.0im\n",
       " 0.0578582+0.166185im  0.0578582-0.166185im     0.311765+0.0im\n",
       " -0.151699+0.371527im  -0.151699-0.371527im     0.194408+0.0im\n",
       " -0.407157-0.307031im  -0.407157+0.307031im     0.509169+0.0im"
      ]
     },
     "execution_count": 53,
     "metadata": {},
     "output_type": "execute_result"
    }
   ],
   "source": [
    "X"
   ]
  },
  {
   "cell_type": "code",
   "execution_count": 54,
   "metadata": {},
   "outputs": [
    {
     "data": {
      "text/plain": [
       "1.652354479632358e-14"
      ]
     },
     "execution_count": 54,
     "metadata": {},
     "output_type": "execute_result"
    }
   ],
   "source": [
    "# Residual \n",
    "vecnorm(A*X-X*diagm(λ))"
   ]
  },
  {
   "cell_type": "markdown",
   "metadata": {},
   "source": [
    "### Hessenberg factorization"
   ]
  },
  {
   "cell_type": "code",
   "execution_count": 55,
   "metadata": {},
   "outputs": [
    {
     "data": {
      "text/html": [
       "hessfact<i>{T}</i>(A::<b>Union{Base.ReshapedArray{T,2,A,MI} where MI<:Tuple{Vararg{Base.MultiplicativeInverses.SignedMultiplicativeInverse{Int64},N} where N} where A<:Union{DenseArray, SubArray{T,N,P,I,true} where I<:Tuple{Union{Base.Slice, UnitRange},Vararg{Any,N} where N} where P where N where T}, DenseArray{T,2}, SubArray{T,2,A,I,L} where L} where I<:Tuple{Vararg{Union{Base.AbstractCartesianIndex, Int64, Range{Int64}},N} where N} where A<:Union{Base.ReshapedArray{T,N,A,MI} where MI<:Tuple{Vararg{Base.MultiplicativeInverses.SignedMultiplicativeInverse{Int64},N} where N} where A<:Union{DenseArray, SubArray{T,N,P,I,true} where I<:Tuple{Union{Base.Slice, UnitRange},Vararg{Any,N} where N} where P where N where T} where N where T, DenseArray}</b>) at <a href=\"https://github.com/JuliaLang/julia/tree/d386e40c17d43b79fc89d3e579fc04547241787c/base/linalg/hessenberg.jl#L52\" target=\"_blank\">linalg\\hessenberg.jl:52</a>"
      ],
      "text/plain": [
       "hessfact(A::Union{Base.ReshapedArray{T,2,A,MI} where MI<:Tuple{Vararg{Base.MultiplicativeInverses.SignedMultiplicativeInverse{Int64},N} where N} where A<:Union{DenseArray, SubArray{T,N,P,I,true} where I<:Tuple{Union{Base.Slice, UnitRange},Vararg{Any,N} where N} where P where N where T}, DenseArray{T,2}, SubArray{T,2,A,I,L} where L} where I<:Tuple{Vararg{Union{Base.AbstractCartesianIndex, Int64, Range{Int64}},N} where N} where A<:Union{Base.ReshapedArray{T,N,A,MI} where MI<:Tuple{Vararg{Base.MultiplicativeInverses.SignedMultiplicativeInverse{Int64},N} where N} where A<:Union{DenseArray, SubArray{T,N,P,I,true} where I<:Tuple{Union{Base.Slice, UnitRange},Vararg{Any,N} where N} where P where N where T} where N where T, DenseArray}) where T in Base.LinAlg at linalg\\hessenberg.jl:52"
      ]
     },
     "execution_count": 55,
     "metadata": {},
     "output_type": "execute_result"
    }
   ],
   "source": [
    "@which hessfact(A)"
   ]
  },
  {
   "cell_type": "code",
   "execution_count": 56,
   "metadata": {},
   "outputs": [
    {
     "data": {
      "text/plain": [
       "Base.LinAlg.Hessenberg{Float64,Array{Float64,2}}([-1.0 -7.14948 … -5.96295 -4.33787; 10.6301 0.123894 … 3.0168 14.9054; … ; -0.0 -0.317106 … 3.93755 6.33142; -0.0 -0.24817 … 2.23559 0.386986], [1.6585, 1.72096, 1.59684, 0.0])"
      ]
     },
     "execution_count": 56,
     "metadata": {},
     "output_type": "execute_result"
    }
   ],
   "source": [
    "B=hessfact(A)"
   ]
  },
  {
   "cell_type": "code",
   "execution_count": 57,
   "metadata": {},
   "outputs": [
    {
     "data": {
      "text/plain": [
       "5×5 Array{Float64,2}:\n",
       " -1.0     -7.14948    -5.61347  -5.96295  -4.33787 \n",
       " 10.6301   0.123894    3.10093   3.0168   14.9054  \n",
       "  0.0      3.96474     7.55157   3.79067  -3.16602 \n",
       "  0.0      0.0       -10.4986    3.93755   6.33142 \n",
       "  0.0      0.0         0.0       2.23559   0.386986"
      ]
     },
     "execution_count": 57,
     "metadata": {},
     "output_type": "execute_result"
    }
   ],
   "source": [
    "B[:H]"
   ]
  },
  {
   "cell_type": "code",
   "execution_count": 58,
   "metadata": {},
   "outputs": [
    {
     "data": {
      "text/plain": [
       "5×5 Base.LinAlg.HessenbergQ{Float64,Array{Float64,2}}:\n",
       " 1.0   0.0        0.0        0.0         0.0     \n",
       " 0.0  -0.658505   0.542575  -0.0127722  -0.521364\n",
       " 0.0  -0.752577  -0.474754   0.0111756   0.456194\n",
       " 0.0   0.0        0.545725  -0.602219    0.58268 \n",
       " 0.0   0.0        0.427089   0.798151    0.424912"
      ]
     },
     "execution_count": 58,
     "metadata": {},
     "output_type": "execute_result"
    }
   ],
   "source": [
    "B[:Q]"
   ]
  },
  {
   "cell_type": "code",
   "execution_count": 59,
   "metadata": {},
   "outputs": [
    {
     "data": {
      "text/plain": [
       "5×5 Array{Float64,2}:\n",
       " -1.0          -7.14948       -5.61347      -5.96295  -4.33787 \n",
       " 10.6301        0.123894       3.10093       3.0168   14.9054  \n",
       "  4.44089e-16   3.96474        7.55157       3.79067  -3.16602 \n",
       " -1.38778e-17  -1.77636e-15  -10.4986        3.93755   6.33142 \n",
       "  0.0           2.77556e-17    6.10623e-16   2.23559   0.386986"
      ]
     },
     "execution_count": 59,
     "metadata": {},
     "output_type": "execute_result"
    }
   ],
   "source": [
    "B[:Q]'*A*B[:Q]"
   ]
  },
  {
   "cell_type": "code",
   "execution_count": 60,
   "metadata": {},
   "outputs": [
    {
     "data": {
      "text/plain": [
       "5-element Array{Complex{Float64},1}:\n",
       "   4.69648+6.89506im\n",
       "   4.69648-6.89506im\n",
       " -0.255854+5.41527im\n",
       " -0.255854-5.41527im\n",
       "   2.11875+0.0im    "
      ]
     },
     "execution_count": 60,
     "metadata": {},
     "output_type": "execute_result"
    }
   ],
   "source": [
    "eigvals(B[:H])"
   ]
  },
  {
   "cell_type": "code",
   "execution_count": null,
   "metadata": {
    "collapsed": true
   },
   "outputs": [],
   "source": []
  }
 ],
 "metadata": {
  "anaconda-cloud": {},
  "kernelspec": {
   "display_name": "Julia 0.6.2",
   "language": "julia",
   "name": "julia-0.6"
  },
  "language_info": {
   "file_extension": ".jl",
   "mimetype": "application/julia",
   "name": "julia",
   "version": "0.6.2"
  }
 },
 "nbformat": 4,
 "nbformat_minor": 1
}
